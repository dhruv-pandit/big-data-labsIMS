{
 "cells": [
  {
   "cell_type": "markdown",
   "metadata": {},
   "source": [
    "## Functional Programming: Introduction"
   ]
  },
  {
   "cell_type": "code",
   "execution_count": 1,
   "metadata": {},
   "outputs": [],
   "source": [
    "from pydantic import validate_call"
   ]
  },
  {
   "cell_type": "markdown",
   "metadata": {},
   "source": [
    "Currying is often confused with partial functions. Currying is about transforming a function with *n* arguments into *n* functions with a single argument. "
   ]
  },
  {
   "cell_type": "code",
   "execution_count": 2,
   "metadata": {},
   "outputs": [],
   "source": [
    "# A helper function to conjugate Portuguese perfect tense\n",
    "# Further below, we will use a more elegant way to do this.\n",
    "def match_person(person):\n",
    "    if person == \"1.sg\":\n",
    "            return \"i\"\n",
    "    elif person == \"2.sg\":\n",
    "            return \"ste\"\n",
    "    elif person == \"3.sg\":\n",
    "            return \"u\"\n",
    "    elif person == \"1.pl\":\n",
    "            return \"mos\"\n",
    "    elif person == \"2.pl\":\n",
    "            return \"stes\"\n",
    "    else:\n",
    "            return \"ram\""
   ]
  },
  {
   "cell_type": "code",
   "execution_count": 4,
   "metadata": {},
   "outputs": [],
   "source": [
    "# A function with several inner functions\n",
    "# Note that the variable \"word\" becomes part of the scope of the inner functions.\n",
    "# This is called a closure. For functional programming, this is useful to keep\n",
    "# state, without modifying the global state.\n",
    "def conjugate_verb_a_stem_past(word):\n",
    "    def add_tense_ablaut(tense_ablaut):\n",
    "            def add_personal_ending(person):\n",
    "                stem = word[0:-2]\n",
    "                return stem + tense_ablaut + match_person(person)\n",
    "            return add_personal_ending\n",
    "    return add_tense_ablaut\n",
    "    "
   ]
  },
  {
   "cell_type": "code",
   "execution_count": 5,
   "metadata": {},
   "outputs": [
    {
     "data": {
      "text/plain": [
       "'demos'"
      ]
     },
     "execution_count": 5,
     "metadata": {},
     "output_type": "execute_result"
    }
   ],
   "source": [
    "conjugate_verb_a_stem_past(\"dar\")(\"e\")(\"1.pl\")"
   ]
  },
  {
   "cell_type": "code",
   "execution_count": 6,
   "metadata": {},
   "outputs": [
    {
     "ename": "NameError",
     "evalue": "name 'curry' is not defined",
     "output_type": "error",
     "traceback": [
      "\u001b[0;31m---------------------------------------------------------------------------\u001b[0m",
      "\u001b[0;31mNameError\u001b[0m                                 Traceback (most recent call last)",
      "Cell \u001b[0;32mIn[6], line 3\u001b[0m\n\u001b[1;32m      1\u001b[0m \u001b[38;5;66;03m# We can define the above function simpler using a decorator\u001b[39;00m\n\u001b[1;32m      2\u001b[0m \u001b[38;5;66;03m# for cleaner code\u001b[39;00m\n\u001b[0;32m----> 3\u001b[0m \u001b[38;5;129m@curry\u001b[39m\n\u001b[1;32m      4\u001b[0m \u001b[38;5;28;01mdef\u001b[39;00m \u001b[38;5;21mconjugate_a_stem_past\u001b[39m(word, tense_ablaut, person):\n\u001b[1;32m      5\u001b[0m     stem \u001b[38;5;241m=\u001b[39m word[\u001b[38;5;241m0\u001b[39m:\u001b[38;5;241m-\u001b[39m\u001b[38;5;241m2\u001b[39m]\n\u001b[1;32m      6\u001b[0m     \u001b[38;5;28;01mreturn\u001b[39;00m stem \u001b[38;5;241m+\u001b[39m tense_ablaut \u001b[38;5;241m+\u001b[39m match_person(person)\n",
      "\u001b[0;31mNameError\u001b[0m: name 'curry' is not defined"
     ]
    }
   ],
   "source": [
    "# We can define the above function simpler using a decorator\n",
    "# for cleaner code\n",
    "@curry\n",
    "def conjugate_a_stem_past(word, tense_ablaut, person):\n",
    "    stem = word[0:-2]\n",
    "    return stem + tense_ablaut + match_person(person)"
   ]
  },
  {
   "cell_type": "code",
   "execution_count": null,
   "metadata": {},
   "outputs": [
    {
     "data": {
      "text/plain": [
       "'demos'"
      ]
     },
     "execution_count": 21,
     "metadata": {},
     "output_type": "execute_result"
    }
   ],
   "source": [
    "conjugate_a_stem_past(\"dar\")(\"e\")(\"1.pl\")"
   ]
  },
  {
   "cell_type": "markdown",
   "metadata": {},
   "source": [
    "#### Dataclasses"
   ]
  },
  {
   "cell_type": "markdown",
   "metadata": {},
   "source": [
    "*Dataclasses* allow us to define types. Think of those types as Python classes without methods attached to them."
   ]
  },
  {
   "cell_type": "markdown",
   "metadata": {},
   "source": [
    "##### Why Use Data Classes?\n",
    "\n",
    "1. **Simplifies Class Definition**:\n",
    "   - `dataclasses` automatically generate common methods like `__init__`, `__repr__`, `__eq__`, and others based on the class attributes. This reduces boilerplate code and makes class definitions more concise.\n",
    "\n",
    "2. **Readability and Maintainability**:\n",
    "   - By removing the need to write boilerplate code, `dataclasses` make class definitions cleaner and more focused on the data they represent. This enhances code readability and maintainability.\n",
    "\n",
    "3. **Mutability Control**:\n",
    "   - `dataclasses` provide control over mutability. You can define fields as immutable (using `frozen=True`) if needed, making instances of the dataclass hashable and usable as dictionary keys or set members.\n",
    "\n",
    "4. **Default Values and Type Annotations**:\n",
    "   - They support default values and type annotations, making it easier to define default states and document the expected types of each field. This leads to better code documentation and can help with static type checking.\n",
    "\n",
    "5. **Easy Comparison and Ordering**:\n",
    "   - With `dataclasses`, you can easily compare instances based on their field values without manually implementing the comparison methods. The `order=True` option adds comparison methods (`<`, `>`, `<=`, `>=`).\n",
    "\n",
    "6. **Built-in Methods**:\n",
    "   - Automatically provides useful methods like `asdict()` to convert the dataclass instance to a dictionary, making data manipulation and serialization straightforward.\n",
    " \n",
    "\n",
    "By leveraging `dataclasses`, developers can focus more on the logic of their programs rather than on the repetitive details of class construction.\n"
   ]
  },
  {
   "cell_type": "markdown",
   "metadata": {},
   "source": [
    "Below are two good examples on the kind of situations in which data classes are shine:\n",
    "- https://www.youtube.com/watch?v=vBH6GRJ1REM\n",
    "- https://www.youtube.com/watch?v=CvQ7e6yUtnw"
   ]
  },
  {
   "cell_type": "code",
   "execution_count": 8,
   "metadata": {},
   "outputs": [],
   "source": [
    "import uuid\n",
    "from dataclasses import dataclass\n",
    "\n",
    "@dataclass \n",
    "class Student:\n",
    "    name: str\n",
    "    age: int\n",
    "    id: uuid\n",
    "    gpa: float"
   ]
  },
  {
   "cell_type": "code",
   "execution_count": 9,
   "metadata": {},
   "outputs": [
    {
     "data": {
      "text/plain": [
       "Student(name='niclas', age=25, id=UUID('d8099839-fa4a-4396-ba48-95d7e62878fa'), gpa=19.4)"
      ]
     },
     "execution_count": 9,
     "metadata": {},
     "output_type": "execute_result"
    }
   ],
   "source": [
    "# You can instantiate a @dataclass position-wise\n",
    "Student(\"niclas\", 25, uuid.uuid4(), 19.4)"
   ]
  },
  {
   "cell_type": "code",
   "execution_count": 10,
   "metadata": {},
   "outputs": [
    {
     "data": {
      "text/plain": [
       "Student(name='niclas', age=25, id=UUID('2d742884-015c-4860-b5d0-fd8b484bb2ed'), gpa=19.4)"
      ]
     },
     "execution_count": 10,
     "metadata": {},
     "output_type": "execute_result"
    }
   ],
   "source": [
    "# Or by instantiating it with keyword arguments\n",
    "Student(**{\"name\": \"niclas\", \"age\": 25, \"id\": uuid.uuid4(), \"gpa\": 19.4})"
   ]
  },
  {
   "cell_type": "markdown",
   "metadata": {},
   "source": [
    "#### Type Dispatching"
   ]
  },
  {
   "cell_type": "markdown",
   "metadata": {},
   "source": [
    "**Type Dispatching** refers to the ability to execute different functions or methods based on the type of input arguments. This allows for more flexible and adaptable code, as the program can handle various data types or structures with appropriate logic.\n",
    "\n",
    "#### Why Use Type Dispatching?\n",
    "1. **Improves Code Flexibility**:\n",
    "   - Allows functions to handle different types of inputs, making code more versatile and adaptable to various scenarios.\n",
    "  \n",
    "2. **Enhances Code Readability**:\n",
    "   - By separating logic based on types, it becomes clearer what operations are performed on different data types.\n",
    "  \n",
    "3. **Encourages Reusability**:\n",
    "   - You can write generic functions that work with multiple data types, reducing the need for type-specific functions.\n",
    "\n",
    "4. **Reduces Complexity**:\n",
    "   - Type dispatching can help avoid complex conditional statements (`if`/`elif` chains) to check the type of the input.\n",
    "\n",
    "Python' *functools* library has a decorator called \"singledispatch\", which allows us to use functions of the same\n",
    "name for different types of its first argument."
   ]
  },
  {
   "cell_type": "code",
   "execution_count": 12,
   "metadata": {},
   "outputs": [],
   "source": [
    "from functools import singledispatch\n",
    "\n",
    "@dataclass\n",
    "class Transaction:\n",
    "    id: str\n",
    "    amount: float\n",
    "    sender: str\n",
    "    receiver: str\n",
    "\n",
    "@dataclass\n",
    "class ForeignTransaction:\n",
    "    id: str\n",
    "    amount: float\n",
    "    exchange_rate: float\n",
    "    sender: str\n",
    "    receiver: str\n",
    "\n",
    "@dataclass\n",
    "class Account:\n",
    "    account_id: str\n",
    "    balance: float"
   ]
  },
  {
   "cell_type": "code",
   "execution_count": null,
   "metadata": {},
   "outputs": [],
   "source": [
    "@singledispatch\n",
    "def process_transaction(transaction: Transaction, sender_account: Account, receiver_account: Account) -> List[Account]:    \n",
    "    print(f\"Processing transaction {transaction.id}\")\n",
    "    \n",
    "    sender_account = Account(account_id=sender_account.account_id, balance=sender_account.balance - transaction.amount)\n",
    "    receiver_account = Account(account_id=receiver_account.account_id, balance=receiver_account.balance + transaction.amount)\n",
    "    \n",
    "    print(f\"Finished processiong transaction {transaction.id}\")\n",
    "\n",
    "    return sender_account, receiver_account  \n",
    "\n",
    "# Each dispatched function must be identified. This can be a number or another identifier.\n",
    "@process_transaction.register(ForeignTransaction) \n",
    "def _1(transaction: ForeignTransaction, sender_account: Account, receiver_account: Account) -> List[Account]:\n",
    "    print(f\"Processing transaction {transaction.id}\")\n",
    "    \n",
    "    amount_sent = transaction.amount * transaction.exchange_rate\n",
    "    \n",
    "    sender_account = Account(account_id=sender_account.account_id, balance=sender_account.balance - amount_sent)\n",
    "    receiver_account = Account(account_id=receiver_account.account_id, balance=receiver_account.balance + amount_sent)\n",
    "    \n",
    "    print(f\"Finished processiong transaction {transaction.id}\")\n",
    "\n",
    "    return sender_account, receiver_account"
   ]
  },
  {
   "cell_type": "markdown",
   "metadata": {},
   "source": [
    "#### Type Annotations (Hints)"
   ]
  },
  {
   "cell_type": "markdown",
   "metadata": {},
   "source": [
    "Some programming languages enforce types. If you have a function that adds two numbers and both are integers, the compiler will not allow you to add two floats using that function. This is called type checking. In Python, \n",
    "we can annotate the types of variables and functions, but those annotations are not enforced."
   ]
  },
  {
   "cell_type": "markdown",
   "metadata": {},
   "source": [
    "Our primary objective is to write code that is *inspectable* and *debuggable*. Simple type errors can be easily avoided. "
   ]
  },
  {
   "cell_type": "code",
   "execution_count": 13,
   "metadata": {},
   "outputs": [],
   "source": [
    "def add(num1: int, num2: int) -> int:\n",
    "    return num1 + num2"
   ]
  },
  {
   "cell_type": "code",
   "execution_count": 30,
   "metadata": {},
   "outputs": [
    {
     "data": {
      "text/plain": [
       "9.7"
      ]
     },
     "execution_count": 30,
     "metadata": {},
     "output_type": "execute_result"
    }
   ],
   "source": [
    "add(4.3, 5.4)"
   ]
  },
  {
   "cell_type": "markdown",
   "metadata": {},
   "source": [
    "Using the **Pydantic** library, we can enforce type annotations. That is, we can specify the types of variables and when the function receives arguments different from those types, we get an error."
   ]
  },
  {
   "cell_type": "code",
   "execution_count": 14,
   "metadata": {},
   "outputs": [],
   "source": [
    "@validate_call\n",
    "def add(num1: int, num2: int) -> int:\n",
    "    return num1 + num2"
   ]
  },
  {
   "cell_type": "code",
   "execution_count": 15,
   "metadata": {},
   "outputs": [
    {
     "ename": "ValidationError",
     "evalue": "2 validation errors for add\n0\n  Input should be a valid integer, got a number with a fractional part [type=int_from_float, input_value=4.3, input_type=float]\n    For further information visit https://errors.pydantic.dev/2.9/v/int_from_float\n1\n  Input should be a valid integer, got a number with a fractional part [type=int_from_float, input_value=5.4, input_type=float]\n    For further information visit https://errors.pydantic.dev/2.9/v/int_from_float",
     "output_type": "error",
     "traceback": [
      "\u001b[0;31m---------------------------------------------------------------------------\u001b[0m",
      "\u001b[0;31mValidationError\u001b[0m                           Traceback (most recent call last)",
      "Cell \u001b[0;32mIn[15], line 2\u001b[0m\n\u001b[1;32m      1\u001b[0m \u001b[38;5;66;03m# This will now result in an error\u001b[39;00m\n\u001b[0;32m----> 2\u001b[0m \u001b[43madd\u001b[49m\u001b[43m(\u001b[49m\u001b[38;5;241;43m4.3\u001b[39;49m\u001b[43m,\u001b[49m\u001b[43m \u001b[49m\u001b[38;5;241;43m5.4\u001b[39;49m\u001b[43m)\u001b[49m\n",
      "File \u001b[0;32m~/Library/Mobile Documents/com~apple~CloudDocs/Documents/GitHub/big-data-labsIMS/.venv/lib/python3.12/site-packages/pydantic/validate_call_decorator.py:60\u001b[0m, in \u001b[0;36mvalidate_call.<locals>.validate.<locals>.wrapper_function\u001b[0;34m(*args, **kwargs)\u001b[0m\n\u001b[1;32m     58\u001b[0m \u001b[38;5;129m@functools\u001b[39m\u001b[38;5;241m.\u001b[39mwraps(function)\n\u001b[1;32m     59\u001b[0m \u001b[38;5;28;01mdef\u001b[39;00m \u001b[38;5;21mwrapper_function\u001b[39m(\u001b[38;5;241m*\u001b[39margs, \u001b[38;5;241m*\u001b[39m\u001b[38;5;241m*\u001b[39mkwargs):\n\u001b[0;32m---> 60\u001b[0m     \u001b[38;5;28;01mreturn\u001b[39;00m \u001b[43mvalidate_call_wrapper\u001b[49m\u001b[43m(\u001b[49m\u001b[38;5;241;43m*\u001b[39;49m\u001b[43margs\u001b[49m\u001b[43m,\u001b[49m\u001b[43m \u001b[49m\u001b[38;5;241;43m*\u001b[39;49m\u001b[38;5;241;43m*\u001b[39;49m\u001b[43mkwargs\u001b[49m\u001b[43m)\u001b[49m\n",
      "File \u001b[0;32m~/Library/Mobile Documents/com~apple~CloudDocs/Documents/GitHub/big-data-labsIMS/.venv/lib/python3.12/site-packages/pydantic/_internal/_validate_call.py:96\u001b[0m, in \u001b[0;36mValidateCallWrapper.__call__\u001b[0;34m(self, *args, **kwargs)\u001b[0m\n\u001b[1;32m     95\u001b[0m \u001b[38;5;28;01mdef\u001b[39;00m \u001b[38;5;21m__call__\u001b[39m(\u001b[38;5;28mself\u001b[39m, \u001b[38;5;241m*\u001b[39margs: Any, \u001b[38;5;241m*\u001b[39m\u001b[38;5;241m*\u001b[39mkwargs: Any) \u001b[38;5;241m-\u001b[39m\u001b[38;5;241m>\u001b[39m Any:\n\u001b[0;32m---> 96\u001b[0m     res \u001b[38;5;241m=\u001b[39m \u001b[38;5;28;43mself\u001b[39;49m\u001b[38;5;241;43m.\u001b[39;49m\u001b[43m__pydantic_validator__\u001b[49m\u001b[38;5;241;43m.\u001b[39;49m\u001b[43mvalidate_python\u001b[49m\u001b[43m(\u001b[49m\u001b[43mpydantic_core\u001b[49m\u001b[38;5;241;43m.\u001b[39;49m\u001b[43mArgsKwargs\u001b[49m\u001b[43m(\u001b[49m\u001b[43margs\u001b[49m\u001b[43m,\u001b[49m\u001b[43m \u001b[49m\u001b[43mkwargs\u001b[49m\u001b[43m)\u001b[49m\u001b[43m)\u001b[49m\n\u001b[1;32m     97\u001b[0m     \u001b[38;5;28;01mif\u001b[39;00m \u001b[38;5;28mself\u001b[39m\u001b[38;5;241m.\u001b[39m__return_pydantic_validator__:\n\u001b[1;32m     98\u001b[0m         \u001b[38;5;28;01mreturn\u001b[39;00m \u001b[38;5;28mself\u001b[39m\u001b[38;5;241m.\u001b[39m__return_pydantic_validator__(res)\n",
      "\u001b[0;31mValidationError\u001b[0m: 2 validation errors for add\n0\n  Input should be a valid integer, got a number with a fractional part [type=int_from_float, input_value=4.3, input_type=float]\n    For further information visit https://errors.pydantic.dev/2.9/v/int_from_float\n1\n  Input should be a valid integer, got a number with a fractional part [type=int_from_float, input_value=5.4, input_type=float]\n    For further information visit https://errors.pydantic.dev/2.9/v/int_from_float"
     ]
    }
   ],
   "source": [
    "# This will now result in an error\n",
    "add(4.3, 5.4)"
   ]
  },
  {
   "cell_type": "markdown",
   "metadata": {},
   "source": [
    "Note that we can also validate *dataclasses*. To do so, we need to override the *dataclass* namespace with a pydantic import."
   ]
  },
  {
   "cell_type": "code",
   "execution_count": 53,
   "metadata": {},
   "outputs": [],
   "source": [
    "from pydantic.dataclasses import dataclass"
   ]
  },
  {
   "cell_type": "markdown",
   "metadata": {},
   "source": [
    "#### Exercise"
   ]
  },
  {
   "cell_type": "markdown",
   "metadata": {},
   "source": [
    "Imagine you are writing a messaging application. Each user's inbox is represented by a *dataclass*. Each message is also represented by a *dataclass*. Write a function that allows you to send a message to a user.\n",
    "\n",
    "*Hints*: Represent the inbox as a list of messages inside of a user's dataclass."
   ]
  },
  {
   "cell_type": "code",
   "execution_count": 16,
   "metadata": {},
   "outputs": [],
   "source": [
    "from typing import List\n",
    "from uuid import UUID\n",
    "\n",
    "@dataclass\n",
    "class Message:\n",
    "    content: str\n",
    "    sender: UUID\n",
    "\n",
    "@dataclass\n",
    "class User:\n",
    "    name: str\n",
    "    user_id: UUID\n",
    "    inbox: List[Message]\n",
    "\n",
    "@validate_call\n",
    "def send_message(user: User, message: Message) -> User:\n",
    "    return User(name=user.name, user_id=user.user_id, inbox=user.inbox + [message])"
   ]
  },
  {
   "cell_type": "code",
   "execution_count": 17,
   "metadata": {},
   "outputs": [],
   "source": [
    "\n",
    "# An empty list is a valid list, nothing will be validated\n",
    "my_user = User(name=\"niclas\", user_id=uuid.uuid4(), inbox=[])\n"
   ]
  },
  {
   "cell_type": "code",
   "execution_count": 18,
   "metadata": {},
   "outputs": [],
   "source": [
    "another_user = User(name=\"ennius\", user_id=uuid.uuid4(), inbox=[])\n",
    "\n",
    "message = Message(content=\"Hello\", sender=another_user.user_id)\n"
   ]
  },
  {
   "cell_type": "code",
   "execution_count": 19,
   "metadata": {},
   "outputs": [],
   "source": [
    "my_user_updated = send_message(my_user, message)"
   ]
  },
  {
   "cell_type": "code",
   "execution_count": 20,
   "metadata": {},
   "outputs": [
    {
     "data": {
      "text/plain": [
       "User(name='niclas', user_id=UUID('85860376-dd46-4abd-8720-1f0b24791606'), inbox=[Message(content='Hello', sender=UUID('e3569873-31c0-4a98-a300-d5b278274a3b'))])"
      ]
     },
     "execution_count": 20,
     "metadata": {},
     "output_type": "execute_result"
    }
   ],
   "source": [
    "my_user_updated"
   ]
  },
  {
   "cell_type": "markdown",
   "metadata": {},
   "source": [
    "#### Pattern Matching"
   ]
  },
  {
   "cell_type": "markdown",
   "metadata": {},
   "source": [
    "In Python 3.10, *Pattern Matching* was introduced (to great controversy). In Functional Programming languages, Pattern Matching is very common and an established pattern. It allows us to decompose complex inputs into its constituents."
   ]
  },
  {
   "cell_type": "code",
   "execution_count": 21,
   "metadata": {},
   "outputs": [],
   "source": [
    "from datetime import datetime"
   ]
  },
  {
   "cell_type": "code",
   "execution_count": 22,
   "metadata": {},
   "outputs": [],
   "source": [
    "data = {\"time\": datetime.now(), \"customer_id\": \"123\", \"review\": \"This restaurant is the worst I've ever been to!\"}"
   ]
  },
  {
   "cell_type": "code",
   "execution_count": 23,
   "metadata": {},
   "outputs": [],
   "source": [
    "def process_string(string: str) -> List[str]:\n",
    "    return string.lower().split(\" \")"
   ]
  },
  {
   "cell_type": "code",
   "execution_count": 24,
   "metadata": {},
   "outputs": [
    {
     "name": "stdout",
     "output_type": "stream",
     "text": [
      "['this', 'restaurant', 'is', 'the', 'worst', \"i've\", 'ever', 'been', 'to!']\n"
     ]
    }
   ],
   "source": [
    "match data:\n",
    "    case {\"review\": review}:\n",
    "        processed = process_string(review)\n",
    "        print(processed)"
   ]
  },
  {
   "cell_type": "markdown",
   "metadata": {},
   "source": [
    "Remember the \"sum\" function we wrote in the beginning? We can express the recursive version of it using pattern matching."
   ]
  },
  {
   "cell_type": "code",
   "execution_count": 25,
   "metadata": {},
   "outputs": [],
   "source": [
    "def sum(ls):\n",
    "    match ls:\n",
    "        case []:\n",
    "            return 0\n",
    "        case _:\n",
    "            return ls[0] + sum(ls[1:])"
   ]
  }
 ],
 "metadata": {
  "kernelspec": {
   "display_name": "ars-docendi-34_UylGr-py3.11",
   "language": "python",
   "name": "python3"
  },
  "language_info": {
   "codemirror_mode": {
    "name": "ipython",
    "version": 3
   },
   "file_extension": ".py",
   "mimetype": "text/x-python",
   "name": "python",
   "nbconvert_exporter": "python",
   "pygments_lexer": "ipython3",
   "version": "3.12.5"
  },
  "orig_nbformat": 4
 },
 "nbformat": 4,
 "nbformat_minor": 2
}
