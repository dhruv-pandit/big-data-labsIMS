{
 "cells": [
  {
   "cell_type": "markdown",
   "id": "9e44c1e6",
   "metadata": {},
   "source": [
    "# Map Reduce Examples with Python"
   ]
  },
  {
   "cell_type": "markdown",
   "id": "f3275d61",
   "metadata": {},
   "source": [
    "### basics: lambda, filter, map, sort, reduce\n",
    "\n",
    "- Out of a list of random numbers, filter the even numbers, square them, sort them in descending order, and then calculate the sum using the map, filter, sorted, and reduce functions."
   ]
  },
  {
   "cell_type": "code",
   "execution_count": 1,
   "id": "06f41772",
   "metadata": {},
   "outputs": [
    {
     "name": "stdout",
     "output_type": "stream",
     "text": [
      "Random numbers: [12, 10, 5, 17, 13, 10, 17, 3, 7, 4]\n"
     ]
    }
   ],
   "source": [
    "from functools import reduce\n",
    "\n",
    "# A list of random numbers\n",
    "random_numbers = [12, 10, 5, 17, 13, 10, 17, 3, 7, 4]\n",
    "print(\"Random numbers:\", random_numbers)\n",
    "\n",
    "# Filter - Keep only the even numbers\n",
    "\n",
    "\n",
    "# Map - Square the even numbers\n",
    "\n",
    "\n",
    "# Sort - Sort the squared even numbers in descending order\n",
    "\n",
    "\n",
    "# Reduce - Sum the squared even numbers\n"
   ]
  },
  {
   "cell_type": "code",
   "execution_count": null,
   "id": "070a0b8e",
   "metadata": {},
   "outputs": [],
   "source": []
  },
  {
   "cell_type": "markdown",
   "id": "2239ab2d",
   "metadata": {},
   "source": [
    "### list of dictionaries \n",
    "\n",
    "- Given a list of dictionaries with student names and grades, we will calculate the average score for each student and then sort the students based on their average scores. Finally, we'll calculate the overall class average."
   ]
  },
  {
   "cell_type": "code",
   "execution_count": 3,
   "id": "0bd13463",
   "metadata": {},
   "outputs": [
    {
     "name": "stdout",
     "output_type": "stream",
     "text": [
      "Average scores for each student:\n"
     ]
    }
   ],
   "source": [
    "# Data: List of dictionaries with student names and grades\n",
    "student_scores = [\n",
    "    {\"name\": \"Luna\", \"scores\": [19, 18, 15]},\n",
    "    {\"name\": \"Finn\", \"scores\": [18, 19, 17]},\n",
    "    {\"name\": \"Ivo\", \"scores\": [15, 19, 13]},\n",
    "]\n",
    "\n",
    "# Map - Calculate average score for each student\n",
    "\n",
    "# Sort - Sort students based on average scores in descending order\n",
    "\n",
    "# Reduce - Calculate the overall class average\n",
    "\n",
    "print(\"Average scores for each student:\")\n",
    "\n",
    "#print(\"Class average:\", class_average)\n"
   ]
  },
  {
   "cell_type": "code",
   "execution_count": null,
   "id": "abcc674b",
   "metadata": {},
   "outputs": [],
   "source": []
  },
  {
   "cell_type": "markdown",
   "id": "9b369642",
   "metadata": {},
   "source": [
    "# Map reduce for e-commerce transactions"
   ]
  },
  {
   "cell_type": "code",
   "execution_count": 5,
   "id": "e16c9f79",
   "metadata": {},
   "outputs": [],
   "source": [
    "# Read the data from the text file\n",
    "with open('ecommerce_transactions.txt', 'r') as file:\n",
    "    data = file.readlines()\n",
    "    \n",
    "#print(data)"
   ]
  },
  {
   "cell_type": "code",
   "execution_count": 8,
   "id": "1b1e1a0c",
   "metadata": {},
   "outputs": [],
   "source": [
    "# Let's define a function called map_to_stuctured_data that creates a list of tuples with product_id and revenue (price*quantity). \n",
    "\n",
    "#def map_to_structured_data(transaction):\n"
   ]
  },
  {
   "cell_type": "code",
   "execution_count": 9,
   "id": "046a455d",
   "metadata": {},
   "outputs": [],
   "source": [
    "# Perform the map operation\n"
   ]
  },
  {
   "cell_type": "code",
   "execution_count": 10,
   "id": "9ad9aa34",
   "metadata": {},
   "outputs": [],
   "source": [
    "# Let's define a function to sort the transactions due to the product name.\n",
    "\n",
    "#def sort_transactions(structured_data):\n"
   ]
  },
  {
   "cell_type": "code",
   "execution_count": 11,
   "id": "075e6cf9",
   "metadata": {},
   "outputs": [],
   "source": [
    "# Perform the sort operation\n",
    "\n"
   ]
  },
  {
   "cell_type": "code",
   "execution_count": 12,
   "id": "db06c722",
   "metadata": {},
   "outputs": [],
   "source": [
    "# Let's define a reduce function:\n",
    "\n",
    "#def reduce_transactions(structured_data):\n"
   ]
  },
  {
   "cell_type": "code",
   "execution_count": 13,
   "id": "cd20f3d3",
   "metadata": {},
   "outputs": [],
   "source": [
    "# Perform the reduce operation\n"
   ]
  },
  {
   "cell_type": "code",
   "execution_count": 14,
   "id": "b1fbf600",
   "metadata": {},
   "outputs": [],
   "source": [
    "# Print the total revenue by product for the first 5 products\n"
   ]
  }
 ],
 "metadata": {
  "kernelspec": {
   "display_name": "Python 3 (ipykernel)",
   "language": "python",
   "name": "python3"
  },
  "language_info": {
   "codemirror_mode": {
    "name": "ipython",
    "version": 3
   },
   "file_extension": ".py",
   "mimetype": "text/x-python",
   "name": "python",
   "nbconvert_exporter": "python",
   "pygments_lexer": "ipython3",
   "version": "3.11.4"
  }
 },
 "nbformat": 4,
 "nbformat_minor": 5
}
