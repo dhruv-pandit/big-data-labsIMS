{
 "cells": [
  {
   "cell_type": "markdown",
   "metadata": {
    "application/vnd.databricks.v1+cell": {
     "cellMetadata": {
      "byteLimit": 2048000,
      "rowLimit": 10000
     },
     "inputWidgets": {},
     "nuid": "a0cbb8e0-28af-4682-ab51-db0204595434",
     "showTitle": false,
     "title": ""
    }
   },
   "source": [
    "\n",
    "# Advanced Graph Analysis & NLP"
   ]
  },
  {
   "cell_type": "markdown",
   "metadata": {
    "application/vnd.databricks.v1+cell": {
     "cellMetadata": {
      "byteLimit": 2048000,
      "rowLimit": 10000
     },
     "inputWidgets": {},
     "nuid": "4383c448-391b-44da-ae17-8df5e96449f4",
     "showTitle": false,
     "title": ""
    }
   },
   "source": [
    "In this notebook, we will be using a combination of Natural Language Processing and network analysis to look at a Mafia network. The settings the mafia network is the following: As members of an investigation unit, we have been observing a network of families, which have been associated with nefarious activities. We will use two datasets:\n",
    "\n",
    "1. PDF files written by an undercover agent\n",
    "2. A network of interactions between those families\n",
    "\n",
    "For NLP in Spark we can use the open-source *spark-nlp* library, which allows us to use a variety of Deep Learning models."
   ]
  },
  {
   "cell_type": "markdown",
   "metadata": {
    "application/vnd.databricks.v1+cell": {
     "cellMetadata": {
      "byteLimit": 2048000,
      "rowLimit": 10000
     },
     "inputWidgets": {},
     "nuid": "66e96512-c69e-4639-b6d0-a3e64990b51c",
     "showTitle": false,
     "title": ""
    }
   },
   "source": [
    "Since here we are given several PDFs to work with, we need a Python library to parse them using ``UDF``. We first need to install the external Python library ``pypdf``. The *graphframes* library, which we used in the previous lab, offers the useful ``GraphFrame``, but choices for graph algorithms are relatively limited. Thus, we will install the ``networkx`` library, which offers a range of popular graph algorithms."
   ]
  },
  {
   "cell_type": "code",
   "execution_count": 0,
   "metadata": {
    "application/vnd.databricks.v1+cell": {
     "cellMetadata": {
      "byteLimit": 2048000,
      "rowLimit": 10000
     },
     "inputWidgets": {},
     "nuid": "ada1760e-c4ee-4aaf-b287-fbe2bafdc9f1",
     "showTitle": false,
     "title": ""
    }
   },
   "outputs": [
    {
     "output_type": "stream",
     "name": "stdout",
     "output_type": "stream",
     "text": [
      "Collecting pypdf\r\n  Downloading pypdf-4.2.0-py3-none-any.whl (290 kB)\r\n\u001B[?25l\r\u001B[K     |█▏                              | 10 kB 17.3 MB/s eta 0:00:01\r\u001B[K     |██▎                             | 20 kB 2.6 MB/s eta 0:00:01\r\u001B[K     |███▍                            | 30 kB 3.8 MB/s eta 0:00:01\r\u001B[K     |████▌                           | 40 kB 3.3 MB/s eta 0:00:01\r\u001B[K     |█████▋                          | 51 kB 3.5 MB/s eta 0:00:01\r\u001B[K     |██████▊                         | 61 kB 4.1 MB/s eta 0:00:01\r\u001B[K     |████████                        | 71 kB 4.2 MB/s eta 0:00:01\r\u001B[K     |█████████                       | 81 kB 4.3 MB/s eta 0:00:01\r\u001B[K     |██████████▏                     | 92 kB 4.8 MB/s eta 0:00:01\r\u001B[K     |███████████▎                    | 102 kB 4.6 MB/s eta 0:00:01\r\u001B[K     |████████████▍                   | 112 kB 4.6 MB/s eta 0:00:01\r\u001B[K     |█████████████▌                  | 122 kB 4.6 MB/s eta 0:00:01\r\u001B[K     |██████████████▋                 | 133 kB 4.6 MB/s eta 0:00:01\r\u001B[K     |███████████████▉                | 143 kB 4.6 MB/s eta 0:00:01\r\u001B[K     |█████████████████               | 153 kB 4.6 MB/s eta 0:00:01\r\u001B[K     |██████████████████              | 163 kB 4.6 MB/s eta 0:00:01\r\u001B[K     |███████████████████▏            | 174 kB 4.6 MB/s eta 0:00:01\r\u001B[K     |████████████████████▎           | 184 kB 4.6 MB/s eta 0:00:01\r\u001B[K     |█████████████████████▍          | 194 kB 4.6 MB/s eta 0:00:01\r\u001B[K     |██████████████████████▋         | 204 kB 4.6 MB/s eta 0:00:01\r\u001B[K     |███████████████████████▊        | 215 kB 4.6 MB/s eta 0:00:01\r\u001B[K     |████████████████████████▉       | 225 kB 4.6 MB/s eta 0:00:01\r\u001B[K     |██████████████████████████      | 235 kB 4.6 MB/s eta 0:00:01\r\u001B[K     |███████████████████████████     | 245 kB 4.6 MB/s eta 0:00:01\r\u001B[K     |████████████████████████████▏   | 256 kB 4.6 MB/s eta 0:00:01\r\u001B[K     |█████████████████████████████▎  | 266 kB 4.6 MB/s eta 0:00:01\r\u001B[K     |██████████████████████████████▌ | 276 kB 4.6 MB/s eta 0:00:01\r\u001B[K     |███████████████████████████████▋| 286 kB 4.6 MB/s eta 0:00:01\r\u001B[K     |████████████████████████████████| 290 kB 4.6 MB/s \r\n\u001B[?25hRequirement already satisfied: networkx in /databricks/python3/lib/python3.9/site-packages (2.7.1)\r\nRequirement already satisfied: typing_extensions>=4.0 in /databricks/python3/lib/python3.9/site-packages (from pypdf) (4.1.1)\r\nInstalling collected packages: pypdf\r\nSuccessfully installed pypdf-4.2.0\r\n\u001B[33mWARNING: You are using pip version 21.2.4; however, version 24.0 is available.\r\nYou should consider upgrading via the '/local_disk0/.ephemeral_nfs/envs/pythonEnv-482a319a-f728-4057-acd9-8b09e94dff36/bin/python -m pip install --upgrade pip' command.\u001B[0m\r\n"
     ]
    }
   ],
   "source": [
    "!pip3 install pypdf networkx"
   ]
  },
  {
   "cell_type": "code",
   "execution_count": 0,
   "metadata": {
    "application/vnd.databricks.v1+cell": {
     "cellMetadata": {
      "byteLimit": 2048000,
      "rowLimit": 10000
     },
     "inputWidgets": {},
     "nuid": "0223681d-d05c-4368-99b9-da0850e97464",
     "showTitle": false,
     "title": ""
    }
   },
   "outputs": [],
   "source": [
    "import io\n",
    "import numpy as np\n",
    "import networkx as nx\n",
    "from pypdf import PdfReader "
   ]
  },
  {
   "cell_type": "markdown",
   "metadata": {
    "application/vnd.databricks.v1+cell": {
     "cellMetadata": {
      "byteLimit": 2048000,
      "rowLimit": 10000
     },
     "inputWidgets": {},
     "nuid": "0bdd652c-baf9-4b04-b107-2b66a791d795",
     "showTitle": false,
     "title": ""
    }
   },
   "source": [
    "We install the ``spark-nlp`` dependencies next. "
   ]
  },
  {
   "cell_type": "code",
   "execution_count": 0,
   "metadata": {
    "application/vnd.databricks.v1+cell": {
     "cellMetadata": {
      "byteLimit": 2048000,
      "rowLimit": 10000
     },
     "inputWidgets": {},
     "nuid": "82df891a-f325-4f94-a3d0-8b81cd4eb821",
     "showTitle": false,
     "title": ""
    }
   },
   "outputs": [
    {
     "output_type": "stream",
     "name": "stdout",
     "output_type": "stream",
     "text": [
      "Warning::Spark Session already created, some configs may not take.\n"
     ]
    }
   ],
   "source": [
    "import sparknlp\n",
    "\n",
    "# Start Spark Session\n",
    "spark = sparknlp.start()\n",
    "\n",
    "from sparknlp.base import DocumentAssembler, Pipeline, LightPipeline\n",
    "from sparknlp.annotator import (\n",
    "    Tokenizer,\n",
    "    WordEmbeddingsModel,\n",
    "    NerDLModel,\n",
    "    NerConverter\n",
    ")\n",
    "\n",
    "import pyspark.sql.functions as F"
   ]
  },
  {
   "cell_type": "markdown",
   "metadata": {
    "application/vnd.databricks.v1+cell": {
     "cellMetadata": {
      "byteLimit": 2048000,
      "rowLimit": 10000
     },
     "inputWidgets": {},
     "nuid": "09f92550-77ed-4b30-85db-7a96440e62f0",
     "showTitle": false,
     "title": ""
    }
   },
   "source": [
    "We load all the reports from our agent as PDF files."
   ]
  },
  {
   "cell_type": "code",
   "execution_count": 0,
   "metadata": {
    "application/vnd.databricks.v1+cell": {
     "cellMetadata": {
      "byteLimit": 2048000,
      "rowLimit": 10000
     },
     "inputWidgets": {},
     "nuid": "20ec6615-3478-4899-8353-4318764ea0e5",
     "showTitle": false,
     "title": ""
    }
   },
   "outputs": [],
   "source": [
    "mafia_network_communications = spark.read.format(\"binaryFile\").load(\"dbfs:/FileStore/crime_letters/*.pdf\")"
   ]
  },
  {
   "cell_type": "code",
   "execution_count": 0,
   "metadata": {
    "application/vnd.databricks.v1+cell": {
     "cellMetadata": {
      "byteLimit": 2048000,
      "rowLimit": 10000
     },
     "inputWidgets": {},
     "nuid": "2b101ccd-789c-462d-af3f-8e9eea3a0b34",
     "showTitle": false,
     "title": ""
    }
   },
   "outputs": [
    {
     "output_type": "display_data",
     "data": {
      "text/html": [
       "<style scoped>\n",
       "  .table-result-container {\n",
       "    max-height: 300px;\n",
       "    overflow: auto;\n",
       "  }\n",
       "  table, th, td {\n",
       "    border: 1px solid black;\n",
       "    border-collapse: collapse;\n",
       "  }\n",
       "  th, td {\n",
       "    padding: 5px;\n",
       "  }\n",
       "  th {\n",
       "    text-align: left;\n",
       "  }\n",
       "</style><div class='table-result-container'><table class='table-result'><thead style='background-color: white'><tr><th>path</th><th>modificationTime</th><th>length</th><th>content</th></tr></thead><tbody><tr><td>dbfs:/FileStore/crime_letters/communication_22_5_2013.pdf</td><td>2024-05-06T22:50:58.000+0000</td><td>142828</td><td>JVBERi0xLjQNCiXi48/TDQoxIDAgb2JqDQo8PA0KL1R5cGUgL1BhZ2UNCi9NZWRpYUJveCBbIDAgMCA1OTUuMzA0IDg0MS44OSBdDQovUmVzb3VyY2VzIDw8IC9YT2JqZWN0IDw8IC9JbTQxIDIgMCBSID4+IC9Gb250IDw8IC8= (truncated)</td></tr><tr><td>dbfs:/FileStore/crime_letters/communication_15_4_2013.pdf</td><td>2024-05-06T22:50:58.000+0000</td><td>91833</td><td>JVBERi0xLjQNCiXi48/TDQoxIDAgb2JqDQo8PA0KL1R5cGUgL1BhZ2UNCi9NZWRpYUJveCBbIDAgMCA1OTUuMzA0IDg0MS44OSBdDQovUmVzb3VyY2VzIDw8IC9YT2JqZWN0IDw8IC9JbTIzIDIgMCBSID4+IC9Gb250IDw8IC8= (truncated)</td></tr><tr><td>dbfs:/FileStore/crime_letters/communication_2_3_2013.pdf</td><td>2024-05-06T22:50:57.000+0000</td><td>89489</td><td>JVBERi0xLjQNCiXi48/TDQoxIDAgb2JqDQo8PA0KL1R5cGUgL1BhZ2UNCi9NZWRpYUJveCBbIDAgMCA1OTUuMzA0IDg0MS44OSBdDQovUmVzb3VyY2VzIDw8IC9YT2JqZWN0IDw8IC9JbTUgMiAwIFIgPj4gL0ZvbnQgPDwgL0Y= (truncated)</td></tr><tr><td>dbfs:/FileStore/crime_letters/communication_19_4_2013.pdf</td><td>2024-05-06T22:50:58.000+0000</td><td>27676</td><td>JVBERi0xLjQNCiXi48/TDQoxIDAgb2JqDQo8PA0KL1R5cGUgL1BhZ2UNCi9NZWRpYUJveCBbIDAgMCA1OTUuMzA0IDg0MS44OSBdDQovUmVzb3VyY2VzIDw8IC9Gb250IDw8IC9GMSAyIDAgUiA+PiA+Pg0KL0NvbnRlbnRzIDM= (truncated)</td></tr><tr><td>dbfs:/FileStore/crime_letters/communication_3_4_2013.pdf</td><td>2024-05-06T22:50:57.000+0000</td><td>27587</td><td>JVBERi0xLjQNCiXi48/TDQoxIDAgb2JqDQo8PA0KL1R5cGUgL1BhZ2UNCi9NZWRpYUJveCBbIDAgMCA1OTUuMzA0IDg0MS44OSBdDQovUmVzb3VyY2VzIDw8IC9Gb250IDw8IC9GMSAyIDAgUiA+PiA+Pg0KL0NvbnRlbnRzIDM= (truncated)</td></tr><tr><td>dbfs:/FileStore/crime_letters/communication_17_4_2013.pdf</td><td>2024-05-06T22:50:58.000+0000</td><td>27535</td><td>JVBERi0xLjQNCiXi48/TDQoxIDAgb2JqDQo8PA0KL1R5cGUgL1BhZ2UNCi9NZWRpYUJveCBbIDAgMCA1OTUuMzA0IDg0MS44OSBdDQovUmVzb3VyY2VzIDw8IC9Gb250IDw8IC9GMSAyIDAgUiA+PiA+Pg0KL0NvbnRlbnRzIDM= (truncated)</td></tr><tr><td>dbfs:/FileStore/crime_letters/communication_6_4_2013.pdf</td><td>2024-05-06T22:50:58.000+0000</td><td>27517</td><td>JVBERi0xLjQNCiXi48/TDQoxIDAgb2JqDQo8PA0KL1R5cGUgL1BhZ2UNCi9NZWRpYUJveCBbIDAgMCA1OTUuMzA0IDg0MS44OSBdDQovUmVzb3VyY2VzIDw8IC9Gb250IDw8IC9GMSAyIDAgUiA+PiA+Pg0KL0NvbnRlbnRzIDM= (truncated)</td></tr></tbody></table></div>"
      ]
     },
     "metadata": {
      "application/vnd.databricks.v1+output": {
       "addedWidgets": {},
       "aggData": [],
       "aggError": "",
       "aggOverflow": false,
       "aggSchema": [],
       "aggSeriesLimitReached": false,
       "aggType": "",
       "arguments": {},
       "columnCustomDisplayInfos": {},
       "data": [
        [
         "dbfs:/FileStore/crime_letters/communication_22_5_2013.pdf",
         "2024-05-06T22:50:58.000+0000",
         142828,
         "JVBERi0xLjQNCiXi48/TDQoxIDAgb2JqDQo8PA0KL1R5cGUgL1BhZ2UNCi9NZWRpYUJveCBbIDAgMCA1OTUuMzA0IDg0MS44OSBdDQovUmVzb3VyY2VzIDw8IC9YT2JqZWN0IDw8IC9JbTQxIDIgMCBSID4+IC9Gb250IDw8IC8= (truncated)"
        ],
        [
         "dbfs:/FileStore/crime_letters/communication_15_4_2013.pdf",
         "2024-05-06T22:50:58.000+0000",
         91833,
         "JVBERi0xLjQNCiXi48/TDQoxIDAgb2JqDQo8PA0KL1R5cGUgL1BhZ2UNCi9NZWRpYUJveCBbIDAgMCA1OTUuMzA0IDg0MS44OSBdDQovUmVzb3VyY2VzIDw8IC9YT2JqZWN0IDw8IC9JbTIzIDIgMCBSID4+IC9Gb250IDw8IC8= (truncated)"
        ],
        [
         "dbfs:/FileStore/crime_letters/communication_2_3_2013.pdf",
         "2024-05-06T22:50:57.000+0000",
         89489,
         "JVBERi0xLjQNCiXi48/TDQoxIDAgb2JqDQo8PA0KL1R5cGUgL1BhZ2UNCi9NZWRpYUJveCBbIDAgMCA1OTUuMzA0IDg0MS44OSBdDQovUmVzb3VyY2VzIDw8IC9YT2JqZWN0IDw8IC9JbTUgMiAwIFIgPj4gL0ZvbnQgPDwgL0Y= (truncated)"
        ],
        [
         "dbfs:/FileStore/crime_letters/communication_19_4_2013.pdf",
         "2024-05-06T22:50:58.000+0000",
         27676,
         "JVBERi0xLjQNCiXi48/TDQoxIDAgb2JqDQo8PA0KL1R5cGUgL1BhZ2UNCi9NZWRpYUJveCBbIDAgMCA1OTUuMzA0IDg0MS44OSBdDQovUmVzb3VyY2VzIDw8IC9Gb250IDw8IC9GMSAyIDAgUiA+PiA+Pg0KL0NvbnRlbnRzIDM= (truncated)"
        ],
        [
         "dbfs:/FileStore/crime_letters/communication_3_4_2013.pdf",
         "2024-05-06T22:50:57.000+0000",
         27587,
         "JVBERi0xLjQNCiXi48/TDQoxIDAgb2JqDQo8PA0KL1R5cGUgL1BhZ2UNCi9NZWRpYUJveCBbIDAgMCA1OTUuMzA0IDg0MS44OSBdDQovUmVzb3VyY2VzIDw8IC9Gb250IDw8IC9GMSAyIDAgUiA+PiA+Pg0KL0NvbnRlbnRzIDM= (truncated)"
        ],
        [
         "dbfs:/FileStore/crime_letters/communication_17_4_2013.pdf",
         "2024-05-06T22:50:58.000+0000",
         27535,
         "JVBERi0xLjQNCiXi48/TDQoxIDAgb2JqDQo8PA0KL1R5cGUgL1BhZ2UNCi9NZWRpYUJveCBbIDAgMCA1OTUuMzA0IDg0MS44OSBdDQovUmVzb3VyY2VzIDw8IC9Gb250IDw8IC9GMSAyIDAgUiA+PiA+Pg0KL0NvbnRlbnRzIDM= (truncated)"
        ],
        [
         "dbfs:/FileStore/crime_letters/communication_6_4_2013.pdf",
         "2024-05-06T22:50:58.000+0000",
         27517,
         "JVBERi0xLjQNCiXi48/TDQoxIDAgb2JqDQo8PA0KL1R5cGUgL1BhZ2UNCi9NZWRpYUJveCBbIDAgMCA1OTUuMzA0IDg0MS44OSBdDQovUmVzb3VyY2VzIDw8IC9Gb250IDw8IC9GMSAyIDAgUiA+PiA+Pg0KL0NvbnRlbnRzIDM= (truncated)"
        ]
       ],
       "datasetInfos": [],
       "dbfsResultPath": null,
       "isJsonSchema": true,
       "metadata": {},
       "overflow": false,
       "plotOptions": {
        "customPlotOptions": {},
        "displayType": "table",
        "pivotAggregation": null,
        "pivotColumns": null,
        "xColumns": null,
        "yColumns": null
       },
       "removedWidgets": [],
       "schema": [
        {
         "metadata": "{}",
         "name": "path",
         "type": "\"string\""
        },
        {
         "metadata": "{}",
         "name": "modificationTime",
         "type": "\"timestamp\""
        },
        {
         "metadata": "{}",
         "name": "length",
         "type": "\"long\""
        },
        {
         "metadata": "{\"spark.contentAnnotation.mimeType\":\"application/pdf\"}",
         "name": "content",
         "type": "\"binary\""
        }
       ],
       "type": "table"
      }
     },
     "output_type": "display_data"
    }
   ],
   "source": [
    "mafia_network_communications.display()"
   ]
  },
  {
   "cell_type": "markdown",
   "metadata": {
    "application/vnd.databricks.v1+cell": {
     "cellMetadata": {
      "byteLimit": 2048000,
      "rowLimit": 10000
     },
     "inputWidgets": {},
     "nuid": "bc887e27-800a-452d-b770-0d4d72f6fbdd",
     "showTitle": false,
     "title": ""
    }
   },
   "source": [
    "As the next step, we define a Python UDF that takes the binary content of each PDF and convert it to text."
   ]
  },
  {
   "cell_type": "code",
   "execution_count": 0,
   "metadata": {
    "application/vnd.databricks.v1+cell": {
     "cellMetadata": {
      "byteLimit": 2048000,
      "rowLimit": 10000
     },
     "inputWidgets": {},
     "nuid": "d2610bbe-5e3f-4fd6-bdea-a5cd0dc059d3",
     "showTitle": false,
     "title": ""
    }
   },
   "outputs": [],
   "source": [
    "@udf\n",
    "def pdf_to_text(pdf) -> str:\n",
    "    \"\"\"\n",
    "    We transform a PDF (binary) into a string. The \"content\" column is already binary, so we read the bytes directly.\n",
    "    \"\"\"\n",
    "\n",
    "    # First we load the binary content\n",
    "    bytes_stream = io.BytesIO(pdf)\n",
    "\n",
    "    # We initialize the reader\n",
    "    reader = PdfReader(bytes_stream)\n",
    "\n",
    "    # As the final step, we go over each page (note though that in our case our PDFs have only one page each) and extract the text\n",
    "    text = \"\"\n",
    "    for page in reader.pages:\n",
    "        text += page.extract_text() + \"\\n\"\n",
    "\n",
    "    return text"
   ]
  },
  {
   "cell_type": "code",
   "execution_count": 0,
   "metadata": {
    "application/vnd.databricks.v1+cell": {
     "cellMetadata": {
      "byteLimit": 2048000,
      "rowLimit": 10000
     },
     "inputWidgets": {},
     "nuid": "c90050d3-873a-452a-9761-699200692b00",
     "showTitle": false,
     "title": ""
    }
   },
   "outputs": [],
   "source": [
    "mafia_network_communications = mafia_network_communications \\\n",
    "  .withColumn(\"report_text\", pdf_to_text(F.col(\"content\")))"
   ]
  },
  {
   "cell_type": "code",
   "execution_count": 0,
   "metadata": {
    "application/vnd.databricks.v1+cell": {
     "cellMetadata": {
      "byteLimit": 2048000,
      "rowLimit": 10000
     },
     "inputWidgets": {},
     "nuid": "51ae0643-216d-438d-b48f-cfec8c8a2080",
     "showTitle": false,
     "title": ""
    }
   },
   "outputs": [
    {
     "output_type": "display_data",
     "data": {
      "text/html": [
       "<style scoped>\n",
       "  .table-result-container {\n",
       "    max-height: 300px;\n",
       "    overflow: auto;\n",
       "  }\n",
       "  table, th, td {\n",
       "    border: 1px solid black;\n",
       "    border-collapse: collapse;\n",
       "  }\n",
       "  th, td {\n",
       "    padding: 5px;\n",
       "  }\n",
       "  th {\n",
       "    text-align: left;\n",
       "  }\n",
       "</style><div class='table-result-container'><table class='table-result'><thead style='background-color: white'><tr><th>path</th><th>modificationTime</th><th>length</th><th>content</th><th>report_text</th></tr></thead><tbody><tr><td>dbfs:/FileStore/crime_letters/communication_22_5_2013.pdf</td><td>2024-05-06T22:50:58.000+0000</td><td>142828</td><td>JVBERi0xLjQNCiXi48/TDQoxIDAgb2JqDQo8PA0KL1R5cGUgL1BhZ2UNCi9NZWRpYUJveCBbIDAgMCA1OTUuMzA0IDg0MS44OSBdDQovUmVzb3VyY2VzIDw8IC9YT2JqZWN0IDw8IC9JbTQxIDIgMCBSID4+IC9Gb250IDw8IC8= (truncated)</td><td>I am writing to report on my recent surveillance findings regarding illegal  \n",
       "activities within various crime families. Giulia Bianchi, a key figure in \n",
       "the Bianchi organization, has been observed exchanging encrypted messages \n",
       "with Federico Romano of the Romano syndicate. These communications suggest  \n",
       "a potential collaboration between the two families to expand their illicit \n",
       "enterprises. Furthermore, intercepted conversations between Elena Conti \n",
       "from the Conti Crime Family and Francesco Ricci indicate negotiations for a \n",
       "large-scale drug trafficking operation. It is evident that these families \n",
       "are actively seeking to strengthen their positions in the criminal \n",
       "underworld.\n",
       "Additionally, during my investigations, I uncovered disturbing information  \n",
       "regarding Luca Moretti, who appears to be operating an illegal Balsamico \n",
       "Vinegar factory that adulterates the finest Tuscan Balsamico vinegar. The \n",
       "shipments are facilitated by Giuseppe Rossi, who acts as a business associate  \n",
       "in transporting goods from Peru to Italy. This operation poses significant \n",
       "risks to public health and safety and must be addressed promptly.\n",
       "On a personal note, amidst the complexities of my undercover work, I must \n",
       "confess to finding solace in the indulgence of Italian Grappa spirit and \n",
       "embracing the \"Dolce Vita\" lifestyle. While it may seem trivial in the context  \n",
       "of my duties, it serves as a reminder of the finer pleasures amidst the \n",
       "darkness of criminal activities.\n",
       "I will continue to gather intelligence and keep you informed of any \n",
       "significant developments.\n",
       "</td></tr><tr><td>dbfs:/FileStore/crime_letters/communication_15_4_2013.pdf</td><td>2024-05-06T22:50:58.000+0000</td><td>91833</td><td>JVBERi0xLjQNCiXi48/TDQoxIDAgb2JqDQo8PA0KL1R5cGUgL1BhZ2UNCi9NZWRpYUJveCBbIDAgMCA1OTUuMzA0IDg0MS44OSBdDQovUmVzb3VyY2VzIDw8IC9YT2JqZWN0IDw8IC9JbTIzIDIgMCBSID4+IC9Gb250IDw8IC8= (truncated)</td><td>I am writing to update you on my ongoing undercover investigation into \n",
       "various criminal syndicates. Recent surveillance has revealed interactions  \n",
       "between Sofia Rossi of the Rossi Crime Family and Carlo Romano from the \n",
       "Romano organization. These meetings suggest a potential partnership \n",
       "between the two families to expand their criminal enterprises. \n",
       "Additionally, intercepted communications between Giovanni Moretti of the \n",
       "Moretti syndicate and Francesca Marini from the Marini family indicate \n",
       "discussions regarding the smuggling of contraband goods. It is crucial that \n",
       "we take decisive action to disrupt these illegal activities and dismantle \n",
       "the alliances forming between the crime families. I will continue to gather \n",
       "intelligence and provide further updates as necessary.\n",
       "</td></tr><tr><td>dbfs:/FileStore/crime_letters/communication_2_3_2013.pdf</td><td>2024-05-06T22:50:57.000+0000</td><td>89489</td><td>JVBERi0xLjQNCiXi48/TDQoxIDAgb2JqDQo8PA0KL1R5cGUgL1BhZ2UNCi9NZWRpYUJveCBbIDAgMCA1OTUuMzA0IDg0MS44OSBdDQovUmVzb3VyY2VzIDw8IC9YT2JqZWN0IDw8IC9JbTUgMiAwIFIgPj4gL0ZvbnQgPDwgL0Y= (truncated)</td><td>I am writing to provide updates on my infiltration into the criminal \n",
       "underworld. During my surveillance, I have observed interactions between \n",
       "members of various families. Giuseppe Rossi, head of the Rossi Crime Family, \n",
       "has been seen meeting with Marco Bianchi from the Bianchi syndicate. This \n",
       "rendezvous raises concerns about a potential collaboration between the two \n",
       "families. Additionally, there have been intercepted communications between \n",
       "Francesco Ricci of the Ricci Crime Family and Teresa Marini from the Marini \n",
       "organization, discussing the distribution of illegal goods. Such alliances \n",
       "could significantly impact organized crime dynamics in the region. I will \n",
       "continue to monitor these developments closely and provide further updates \n",
       "as necessary.\n",
       "</td></tr><tr><td>dbfs:/FileStore/crime_letters/communication_19_4_2013.pdf</td><td>2024-05-06T22:50:58.000+0000</td><td>27676</td><td>JVBERi0xLjQNCiXi48/TDQoxIDAgb2JqDQo8PA0KL1R5cGUgL1BhZ2UNCi9NZWRpYUJveCBbIDAgMCA1OTUuMzA0IDg0MS44OSBdDQovUmVzb3VyY2VzIDw8IC9Gb250IDw8IC9GMSAyIDAgUiA+PiA+Pg0KL0NvbnRlbnRzIDM= (truncated)</td><td>I am writing to provide updates on my infiltration into the criminal \n",
       "underworld. During my surveillance, I have observed interactions between \n",
       "members of various families. Giuseppe Rossi, head of the Rossi Crime Family, \n",
       "has been seen meeting with Marco Bianchi from the Bianchi syndicate. This \n",
       "rendezvous raises concerns about a potential collaboration between the two \n",
       "families. Additionally, there have been intercepted communications between \n",
       "Francesco Ricci of the Ricci Crime Family and Teresa Marini from the Marini \n",
       "organization, discussing the distribution of illegal goods. Such alliances \n",
       "could significantly impact organized crime dynamics in the region. I will \n",
       "continue to monitor these developments closely and provide further updates \n",
       "as necessary.\n",
       "P.S. I must express my frustration as my cover was almost blown during a \n",
       "close encounter with a member of the Rossi Family. Extra caution is \n",
       "warranted moving forward.\n",
       "</td></tr><tr><td>dbfs:/FileStore/crime_letters/communication_3_4_2013.pdf</td><td>2024-05-06T22:50:57.000+0000</td><td>27587</td><td>JVBERi0xLjQNCiXi48/TDQoxIDAgb2JqDQo8PA0KL1R5cGUgL1BhZ2UNCi9NZWRpYUJveCBbIDAgMCA1OTUuMzA0IDg0MS44OSBdDQovUmVzb3VyY2VzIDw8IC9Gb250IDw8IC9GMSAyIDAgUiA+PiA+Pg0KL0NvbnRlbnRzIDM= (truncated)</td><td>I am writing to report on my recent surveillance findings regarding illegal  \n",
       "activities within various crime families. Giulia Bianchi, a key figure in \n",
       "the Bianchi organization, has been observed exchanging encrypted messages \n",
       "with Federico Romano of the Romano syndicate. These communications suggest  \n",
       "a potential collaboration between the two families to expand their illicit \n",
       "enterprises. Furthermore, intercepted conversations between Elena Conti \n",
       "from the Conti Crime Family and Francesco Ricci indicate negotiations for a \n",
       "large-scale drug trafficking operation. It is evident that these families \n",
       "are actively seeking to strengthen their positions in the criminal \n",
       "underworld. I will continue to gather intelligence and keep you informed of \n",
       "any significant developments.\n",
       "</td></tr><tr><td>dbfs:/FileStore/crime_letters/communication_17_4_2013.pdf</td><td>2024-05-06T22:50:58.000+0000</td><td>27535</td><td>JVBERi0xLjQNCiXi48/TDQoxIDAgb2JqDQo8PA0KL1R5cGUgL1BhZ2UNCi9NZWRpYUJveCBbIDAgMCA1OTUuMzA0IDg0MS44OSBdDQovUmVzb3VyY2VzIDw8IC9Gb250IDw8IC9GMSAyIDAgUiA+PiA+Pg0KL0NvbnRlbnRzIDM= (truncated)</td><td>I am writing to provide an update on my surveillance of criminal syndicates \n",
       "operating in the region. Recent observations have revealed interactions \n",
       "between Francesco Ricci of the Ricci Crime Family and Paolo Conti from the \n",
       "Conti organization. These encounters suggest a potential partnership \n",
       "between the two families to expand their influence in the illicit arms \n",
       "trade. Additionally, intercepted communications between Giuliana Conti of \n",
       "the Conti syndicate and Giovanni Moretti from the Moretti family indicate \n",
       "discussions regarding the distribution of narcotics. It is imperative that \n",
       "we intervene to disrupt these criminal activities and prevent further \n",
       "collaboration between the crime families. I will continue to monitor their \n",
       "movements and communications closely and provide updates as necessary.\n",
       "</td></tr><tr><td>dbfs:/FileStore/crime_letters/communication_6_4_2013.pdf</td><td>2024-05-06T22:50:58.000+0000</td><td>27517</td><td>JVBERi0xLjQNCiXi48/TDQoxIDAgb2JqDQo8PA0KL1R5cGUgL1BhZ2UNCi9NZWRpYUJveCBbIDAgMCA1OTUuMzA0IDg0MS44OSBdDQovUmVzb3VyY2VzIDw8IC9Gb250IDw8IC9GMSAyIDAgUiA+PiA+Pg0KL0NvbnRlbnRzIDM= (truncated)</td><td>I am writing to provide updates on my covert surveillance of criminal \n",
       "activities within various syndicates. Recent observations have revealed \n",
       "interactions between Antonio Rossi of the Rossi Crime Family and Chiara \n",
       "Ricci from the Ricci organization. These encounters suggest a potential \n",
       "alliance between the two families to consolidate their power in the region. \n",
       "Additionally, communications intercepted between Luca Bianchi of the \n",
       "Bianchi syndicate and Martina Romano from the Romano family indicate \n",
       "discussions about a large-scale money laundering operation. It is \n",
       "imperative that we intervene to disrupt these illicit activities and prevent  \n",
       "further collaboration between the crime families. I will continue to \n",
       "monitor their movements and communications closely.\n",
       "</td></tr></tbody></table></div>"
      ]
     },
     "metadata": {
      "application/vnd.databricks.v1+output": {
       "addedWidgets": {},
       "aggData": [],
       "aggError": "",
       "aggOverflow": false,
       "aggSchema": [],
       "aggSeriesLimitReached": false,
       "aggType": "",
       "arguments": {},
       "columnCustomDisplayInfos": {},
       "data": [
        [
         "dbfs:/FileStore/crime_letters/communication_22_5_2013.pdf",
         "2024-05-06T22:50:58.000+0000",
         142828,
         "JVBERi0xLjQNCiXi48/TDQoxIDAgb2JqDQo8PA0KL1R5cGUgL1BhZ2UNCi9NZWRpYUJveCBbIDAgMCA1OTUuMzA0IDg0MS44OSBdDQovUmVzb3VyY2VzIDw8IC9YT2JqZWN0IDw8IC9JbTQxIDIgMCBSID4+IC9Gb250IDw8IC8= (truncated)",
         "I am writing to report on my recent surveillance findings regarding illegal  \nactivities within various crime families. Giulia Bianchi, a key figure in \nthe Bianchi organization, has been observed exchanging encrypted messages \nwith Federico Romano of the Romano syndicate. These communications suggest  \na potential collaboration between the two families to expand their illicit \nenterprises. Furthermore, intercepted conversations between Elena Conti \nfrom the Conti Crime Family and Francesco Ricci indicate negotiations for a \nlarge-scale drug trafficking operation. It is evident that these families \nare actively seeking to strengthen their positions in the criminal \nunderworld.\nAdditionally, during my investigations, I uncovered disturbing information  \nregarding Luca Moretti, who appears to be operating an illegal Balsamico \nVinegar factory that adulterates the finest Tuscan Balsamico vinegar. The \nshipments are facilitated by Giuseppe Rossi, who acts as a business associate  \nin transporting goods from Peru to Italy. This operation poses significant \nrisks to public health and safety and must be addressed promptly.\nOn a personal note, amidst the complexities of my undercover work, I must \nconfess to finding solace in the indulgence of Italian Grappa spirit and \nembracing the \"Dolce Vita\" lifestyle. While it may seem trivial in the context  \nof my duties, it serves as a reminder of the finer pleasures amidst the \ndarkness of criminal activities.\nI will continue to gather intelligence and keep you informed of any \nsignificant developments.\n"
        ],
        [
         "dbfs:/FileStore/crime_letters/communication_15_4_2013.pdf",
         "2024-05-06T22:50:58.000+0000",
         91833,
         "JVBERi0xLjQNCiXi48/TDQoxIDAgb2JqDQo8PA0KL1R5cGUgL1BhZ2UNCi9NZWRpYUJveCBbIDAgMCA1OTUuMzA0IDg0MS44OSBdDQovUmVzb3VyY2VzIDw8IC9YT2JqZWN0IDw8IC9JbTIzIDIgMCBSID4+IC9Gb250IDw8IC8= (truncated)",
         "I am writing to update you on my ongoing undercover investigation into \nvarious criminal syndicates. Recent surveillance has revealed interactions  \nbetween Sofia Rossi of the Rossi Crime Family and Carlo Romano from the \nRomano organization. These meetings suggest a potential partnership \nbetween the two families to expand their criminal enterprises. \nAdditionally, intercepted communications between Giovanni Moretti of the \nMoretti syndicate and Francesca Marini from the Marini family indicate \ndiscussions regarding the smuggling of contraband goods. It is crucial that \nwe take decisive action to disrupt these illegal activities and dismantle \nthe alliances forming between the crime families. I will continue to gather \nintelligence and provide further updates as necessary.\n"
        ],
        [
         "dbfs:/FileStore/crime_letters/communication_2_3_2013.pdf",
         "2024-05-06T22:50:57.000+0000",
         89489,
         "JVBERi0xLjQNCiXi48/TDQoxIDAgb2JqDQo8PA0KL1R5cGUgL1BhZ2UNCi9NZWRpYUJveCBbIDAgMCA1OTUuMzA0IDg0MS44OSBdDQovUmVzb3VyY2VzIDw8IC9YT2JqZWN0IDw8IC9JbTUgMiAwIFIgPj4gL0ZvbnQgPDwgL0Y= (truncated)",
         "I am writing to provide updates on my infiltration into the criminal \nunderworld. During my surveillance, I have observed interactions between \nmembers of various families. Giuseppe Rossi, head of the Rossi Crime Family, \nhas been seen meeting with Marco Bianchi from the Bianchi syndicate. This \nrendezvous raises concerns about a potential collaboration between the two \nfamilies. Additionally, there have been intercepted communications between \nFrancesco Ricci of the Ricci Crime Family and Teresa Marini from the Marini \norganization, discussing the distribution of illegal goods. Such alliances \ncould significantly impact organized crime dynamics in the region. I will \ncontinue to monitor these developments closely and provide further updates \nas necessary.\n"
        ],
        [
         "dbfs:/FileStore/crime_letters/communication_19_4_2013.pdf",
         "2024-05-06T22:50:58.000+0000",
         27676,
         "JVBERi0xLjQNCiXi48/TDQoxIDAgb2JqDQo8PA0KL1R5cGUgL1BhZ2UNCi9NZWRpYUJveCBbIDAgMCA1OTUuMzA0IDg0MS44OSBdDQovUmVzb3VyY2VzIDw8IC9Gb250IDw8IC9GMSAyIDAgUiA+PiA+Pg0KL0NvbnRlbnRzIDM= (truncated)",
         "I am writing to provide updates on my infiltration into the criminal \nunderworld. During my surveillance, I have observed interactions between \nmembers of various families. Giuseppe Rossi, head of the Rossi Crime Family, \nhas been seen meeting with Marco Bianchi from the Bianchi syndicate. This \nrendezvous raises concerns about a potential collaboration between the two \nfamilies. Additionally, there have been intercepted communications between \nFrancesco Ricci of the Ricci Crime Family and Teresa Marini from the Marini \norganization, discussing the distribution of illegal goods. Such alliances \ncould significantly impact organized crime dynamics in the region. I will \ncontinue to monitor these developments closely and provide further updates \nas necessary.\nP.S. I must express my frustration as my cover was almost blown during a \nclose encounter with a member of the Rossi Family. Extra caution is \nwarranted moving forward.\n"
        ],
        [
         "dbfs:/FileStore/crime_letters/communication_3_4_2013.pdf",
         "2024-05-06T22:50:57.000+0000",
         27587,
         "JVBERi0xLjQNCiXi48/TDQoxIDAgb2JqDQo8PA0KL1R5cGUgL1BhZ2UNCi9NZWRpYUJveCBbIDAgMCA1OTUuMzA0IDg0MS44OSBdDQovUmVzb3VyY2VzIDw8IC9Gb250IDw8IC9GMSAyIDAgUiA+PiA+Pg0KL0NvbnRlbnRzIDM= (truncated)",
         "I am writing to report on my recent surveillance findings regarding illegal  \nactivities within various crime families. Giulia Bianchi, a key figure in \nthe Bianchi organization, has been observed exchanging encrypted messages \nwith Federico Romano of the Romano syndicate. These communications suggest  \na potential collaboration between the two families to expand their illicit \nenterprises. Furthermore, intercepted conversations between Elena Conti \nfrom the Conti Crime Family and Francesco Ricci indicate negotiations for a \nlarge-scale drug trafficking operation. It is evident that these families \nare actively seeking to strengthen their positions in the criminal \nunderworld. I will continue to gather intelligence and keep you informed of \nany significant developments.\n"
        ],
        [
         "dbfs:/FileStore/crime_letters/communication_17_4_2013.pdf",
         "2024-05-06T22:50:58.000+0000",
         27535,
         "JVBERi0xLjQNCiXi48/TDQoxIDAgb2JqDQo8PA0KL1R5cGUgL1BhZ2UNCi9NZWRpYUJveCBbIDAgMCA1OTUuMzA0IDg0MS44OSBdDQovUmVzb3VyY2VzIDw8IC9Gb250IDw8IC9GMSAyIDAgUiA+PiA+Pg0KL0NvbnRlbnRzIDM= (truncated)",
         "I am writing to provide an update on my surveillance of criminal syndicates \noperating in the region. Recent observations have revealed interactions \nbetween Francesco Ricci of the Ricci Crime Family and Paolo Conti from the \nConti organization. These encounters suggest a potential partnership \nbetween the two families to expand their influence in the illicit arms \ntrade. Additionally, intercepted communications between Giuliana Conti of \nthe Conti syndicate and Giovanni Moretti from the Moretti family indicate \ndiscussions regarding the distribution of narcotics. It is imperative that \nwe intervene to disrupt these criminal activities and prevent further \ncollaboration between the crime families. I will continue to monitor their \nmovements and communications closely and provide updates as necessary.\n"
        ],
        [
         "dbfs:/FileStore/crime_letters/communication_6_4_2013.pdf",
         "2024-05-06T22:50:58.000+0000",
         27517,
         "JVBERi0xLjQNCiXi48/TDQoxIDAgb2JqDQo8PA0KL1R5cGUgL1BhZ2UNCi9NZWRpYUJveCBbIDAgMCA1OTUuMzA0IDg0MS44OSBdDQovUmVzb3VyY2VzIDw8IC9Gb250IDw8IC9GMSAyIDAgUiA+PiA+Pg0KL0NvbnRlbnRzIDM= (truncated)",
         "I am writing to provide updates on my covert surveillance of criminal \nactivities within various syndicates. Recent observations have revealed \ninteractions between Antonio Rossi of the Rossi Crime Family and Chiara \nRicci from the Ricci organization. These encounters suggest a potential \nalliance between the two families to consolidate their power in the region. \nAdditionally, communications intercepted between Luca Bianchi of the \nBianchi syndicate and Martina Romano from the Romano family indicate \ndiscussions about a large-scale money laundering operation. It is \nimperative that we intervene to disrupt these illicit activities and prevent  \nfurther collaboration between the crime families. I will continue to \nmonitor their movements and communications closely.\n"
        ]
       ],
       "datasetInfos": [],
       "dbfsResultPath": null,
       "isJsonSchema": true,
       "metadata": {},
       "overflow": false,
       "plotOptions": {
        "customPlotOptions": {},
        "displayType": "table",
        "pivotAggregation": null,
        "pivotColumns": null,
        "xColumns": null,
        "yColumns": null
       },
       "removedWidgets": [],
       "schema": [
        {
         "metadata": "{}",
         "name": "path",
         "type": "\"string\""
        },
        {
         "metadata": "{}",
         "name": "modificationTime",
         "type": "\"timestamp\""
        },
        {
         "metadata": "{}",
         "name": "length",
         "type": "\"long\""
        },
        {
         "metadata": "{\"spark.contentAnnotation.mimeType\":\"application/pdf\"}",
         "name": "content",
         "type": "\"binary\""
        },
        {
         "metadata": "{}",
         "name": "report_text",
         "type": "\"string\""
        }
       ],
       "type": "table"
      }
     },
     "output_type": "display_data"
    }
   ],
   "source": [
    "mafia_network_communications.display()"
   ]
  },
  {
   "cell_type": "markdown",
   "metadata": {
    "application/vnd.databricks.v1+cell": {
     "cellMetadata": {
      "byteLimit": 2048000,
      "rowLimit": 10000
     },
     "inputWidgets": {},
     "nuid": "06b75ce2-228a-4456-b13e-94140d651728",
     "showTitle": false,
     "title": ""
    }
   },
   "source": [
    "#### Named Entity Recognition\n",
    "Named Entity Recognition (NER) is a natural language processing (NLP) technique that identifies and categorizes named entities within text into predefined categories such as names of persons, organizations, locations and dates. Our informant, who has infiltrated the organization, is sending regular letters. You are tasked with building a prototype of automatically processing the reports and extracting the names of the people in each letter, which can then be related to the larger network. \n",
    "\n",
    "We will define manually a pipeline that transforms our report text first into an embedding representation and then extracts our entities."
   ]
  },
  {
   "cell_type": "code",
   "execution_count": 0,
   "metadata": {
    "application/vnd.databricks.v1+cell": {
     "cellMetadata": {
      "byteLimit": 2048000,
      "rowLimit": 10000
     },
     "inputWidgets": {},
     "nuid": "9d4d6bd0-2576-45c9-aaec-02e7342c2d39",
     "showTitle": false,
     "title": ""
    }
   },
   "outputs": [
    {
     "output_type": "stream",
     "name": "stdout",
     "output_type": "stream",
     "text": [
      "glove_100d download started this may take some time.\nApproximate size to download 145.3 MB\n\r[ | ]\r[ / ]\r[ — ]\r[ \\ ]\r[ | ]\r[ / ]\r[ — ]\r[ \\ ]\r[ | ]\r[ / ]\r[ — ]\r[ \\ ]\r[ | ]\r[ / ]\r[ — ]\r[ \\ ]\r[ | ]\r[ / ]\r[ — ]\r[ \\ ]\r[ | ]\r[ / ]\r[OK!]\nner_dl download started this may take some time.\nApproximate size to download 13.6 MB\n\r[ | ]\r[ / ]\r[ — ]\r[ \\ ]\r[ | ]\r[ / ]\r[ — ]\r[ \\ ]\r[ | ]\r[ / ]\r[ — ]\r[OK!]\n"
     ]
    }
   ],
   "source": [
    "# Step 1: Transforms raw texts to \"document\" annotation\n",
    "documentAssembler = DocumentAssembler()\\\n",
    "    .setInputCol(\"report_text\")\\\n",
    "    .setOutputCol(\"document\")\n",
    "\n",
    "# Step 2: Tokenization\n",
    "tokenizer = Tokenizer() \\\n",
    "    .setInputCols([\"document\"]) \\\n",
    "    .setOutputCol(\"token\")\n",
    "\n",
    "# Step 3: Get the embeddings using glove_100d\n",
    "embeddings = WordEmbeddingsModel.pretrained(\"glove_100d\").\\\n",
    "                  setInputCols([\"document\", \"token\"]).\\\n",
    "                  setOutputCol(\"embeddings\")\n",
    "\n",
    "# Step 4: Use the ``ner_dl`` model\n",
    "public_ner = NerDLModel.pretrained(\"ner_dl\", \"en\") \\\n",
    "          .setInputCols([\"document\", \"token\", \"embeddings\"]) \\\n",
    "          .setOutputCol(\"ner\")\n",
    "\n",
    "# Step 5: Convert to NER\n",
    "ner_converter = NerConverter() \\\n",
    "                .setInputCols([\"document\", \"token\", \"ner\"]) \\\n",
    "                  .setOutputCol(\"entities\")\n",
    "\n",
    "# Define the pipeline\n",
    "ner_pipeline = Pipeline(stages=[ documentAssembler, \n",
    "                                 tokenizer,\n",
    "                                 embeddings,\n",
    "                                 public_ner,\n",
    "                                 ner_converter\n",
    "                                 ])"
   ]
  },
  {
   "cell_type": "markdown",
   "metadata": {
    "application/vnd.databricks.v1+cell": {
     "cellMetadata": {
      "byteLimit": 2048000,
      "rowLimit": 10000
     },
     "inputWidgets": {},
     "nuid": "e88aa67c-3ecd-45b1-8e19-aa7254fdec8d",
     "showTitle": false,
     "title": ""
    }
   },
   "source": [
    "``Pipelines`` are a Spark concept that we will revisit during our labs on Machine Learning. You will find the API similar to that of ``scikit-learn`` in that it follows the fit/transform structure. Using pipelines, you may specify the steps of a sequence. Most often, you will find yourself using them "
   ]
  },
  {
   "cell_type": "code",
   "execution_count": 0,
   "metadata": {
    "application/vnd.databricks.v1+cell": {
     "cellMetadata": {
      "byteLimit": 2048000,
      "rowLimit": 10000
     },
     "inputWidgets": {},
     "nuid": "498e403c-aaeb-4d59-906e-95015214cef7",
     "showTitle": false,
     "title": ""
    }
   },
   "outputs": [],
   "source": [
    "# We fit our model \n",
    "ner_pipeline_model = ner_pipeline.fit(mafia_network_communications)\n",
    "\n",
    "# And transform the data\n",
    "processed = ner_pipeline_model.transform(mafia_network_communications)"
   ]
  },
  {
   "cell_type": "code",
   "execution_count": 0,
   "metadata": {
    "application/vnd.databricks.v1+cell": {
     "cellMetadata": {
      "byteLimit": 2048000,
      "rowLimit": 10000
     },
     "inputWidgets": {},
     "nuid": "732c02a1-9327-4937-8cc9-1b0d95d7cbb8",
     "showTitle": false,
     "title": ""
    }
   },
   "outputs": [],
   "source": [
    "ner_results = processed \\\n",
    "    .select(F.col(\"ner\"), F.col(\"path\"))"
   ]
  },
  {
   "cell_type": "markdown",
   "metadata": {
    "application/vnd.databricks.v1+cell": {
     "cellMetadata": {
      "byteLimit": 2048000,
      "rowLimit": 10000
     },
     "inputWidgets": {},
     "nuid": "6c5d9f29-e8d0-471a-8bfb-1f0a71625f7c",
     "showTitle": false,
     "title": ""
    }
   },
   "source": [
    "Let us now inspect the results."
   ]
  },
  {
   "cell_type": "code",
   "execution_count": 0,
   "metadata": {
    "application/vnd.databricks.v1+cell": {
     "cellMetadata": {
      "byteLimit": 2048000,
      "rowLimit": 10000
     },
     "inputWidgets": {},
     "nuid": "5273d07a-6ceb-414e-9995-50f5fd937115",
     "showTitle": false,
     "title": ""
    }
   },
   "outputs": [
    {
     "output_type": "display_data",
     "data": {
      "text/html": [
       "<style scoped>\n",
       "  .table-result-container {\n",
       "    max-height: 300px;\n",
       "    overflow: auto;\n",
       "  }\n",
       "  table, th, td {\n",
       "    border: 1px solid black;\n",
       "    border-collapse: collapse;\n",
       "  }\n",
       "  th, td {\n",
       "    padding: 5px;\n",
       "  }\n",
       "  th {\n",
       "    text-align: left;\n",
       "  }\n",
       "</style><div class='table-result-container'><table class='table-result'><thead style='background-color: white'><tr><th>ner</th><th>path</th></tr></thead><tbody><tr><td>List(List(named_entity, 0, 0, O, Map(word -> I, sentence -> 0), List()), List(named_entity, 2, 3, O, Map(word -> am, sentence -> 0), List()), List(named_entity, 5, 11, O, Map(word -> writing, sentence -> 0), List()), List(named_entity, 13, 14, O, Map(word -> to, sentence -> 0), List()), List(named_entity, 16, 21, O, Map(word -> report, sentence -> 0), List()), List(named_entity, 23, 24, O, Map(word -> on, sentence -> 0), List()), List(named_entity, 26, 27, O, Map(word -> my, sentence -> 0), List()), List(named_entity, 29, 34, O, Map(word -> recent, sentence -> 0), List()), List(named_entity, 36, 47, O, Map(word -> surveillance, sentence -> 0), List()), List(named_entity, 49, 56, O, Map(word -> findings, sentence -> 0), List()), List(named_entity, 58, 66, O, Map(word -> regarding, sentence -> 0), List()), List(named_entity, 68, 74, O, Map(word -> illegal, sentence -> 0), List()), List(named_entity, 78, 87, O, Map(word -> activities, sentence -> 0), List()), List(named_entity, 89, 94, O, Map(word -> within, sentence -> 0), List()), List(named_entity, 96, 102, O, Map(word -> various, sentence -> 0), List()), List(named_entity, 104, 108, O, Map(word -> crime, sentence -> 0), List()), List(named_entity, 110, 117, O, Map(word -> families, sentence -> 0), List()), List(named_entity, 118, 118, O, Map(word -> ., sentence -> 0), List()), List(named_entity, 120, 125, B-PER, Map(word -> Giulia, sentence -> 0), List()), List(named_entity, 127, 133, I-PER, Map(word -> Bianchi, sentence -> 0), List()), List(named_entity, 134, 134, O, Map(word -> ,, sentence -> 0), List()), List(named_entity, 136, 136, O, Map(word -> a, sentence -> 0), List()), List(named_entity, 138, 140, O, Map(word -> key, sentence -> 0), List()), List(named_entity, 142, 147, O, Map(word -> figure, sentence -> 0), List()), List(named_entity, 149, 150, O, Map(word -> in, sentence -> 0), List()), List(named_entity, 153, 155, O, Map(word -> the, sentence -> 0), List()), List(named_entity, 157, 163, B-ORG, Map(word -> Bianchi, sentence -> 0), List()), List(named_entity, 165, 176, O, Map(word -> organization, sentence -> 0), List()), List(named_entity, 177, 177, O, Map(word -> ,, sentence -> 0), List()), List(named_entity, 179, 181, O, Map(word -> has, sentence -> 0), List()), List(named_entity, 183, 186, O, Map(word -> been, sentence -> 0), List()), List(named_entity, 188, 195, O, Map(word -> observed, sentence -> 0), List()), List(named_entity, 197, 206, O, Map(word -> exchanging, sentence -> 0), List()), List(named_entity, 208, 216, O, Map(word -> encrypted, sentence -> 0), List()), List(named_entity, 218, 225, O, Map(word -> messages, sentence -> 0), List()), List(named_entity, 228, 231, O, Map(word -> with, sentence -> 0), List()), List(named_entity, 233, 240, B-PER, Map(word -> Federico, sentence -> 0), List()), List(named_entity, 242, 247, I-PER, Map(word -> Romano, sentence -> 0), List()), List(named_entity, 249, 250, O, Map(word -> of, sentence -> 0), List()), List(named_entity, 252, 254, O, Map(word -> the, sentence -> 0), List()), List(named_entity, 256, 261, B-PER, Map(word -> Romano, sentence -> 0), List()), List(named_entity, 263, 271, O, Map(word -> syndicate, sentence -> 0), List()), List(named_entity, 272, 272, O, Map(word -> ., sentence -> 0), List()), List(named_entity, 274, 278, O, Map(word -> These, sentence -> 0), List()), List(named_entity, 280, 293, O, Map(word -> communications, sentence -> 0), List()), List(named_entity, 295, 301, O, Map(word -> suggest, sentence -> 0), List()), List(named_entity, 305, 305, O, Map(word -> a, sentence -> 0), List()), List(named_entity, 307, 315, O, Map(word -> potential, sentence -> 0), List()), List(named_entity, 317, 329, O, Map(word -> collaboration, sentence -> 0), List()), List(named_entity, 331, 337, O, Map(word -> between, sentence -> 0), List()), List(named_entity, 339, 341, O, Map(word -> the, sentence -> 0), List()), List(named_entity, 343, 345, O, Map(word -> two, sentence -> 0), List()), List(named_entity, 347, 354, O, Map(word -> families, sentence -> 0), List()), List(named_entity, 356, 357, O, Map(word -> to, sentence -> 0), List()), List(named_entity, 359, 364, O, Map(word -> expand, sentence -> 0), List()), List(named_entity, 366, 370, O, Map(word -> their, sentence -> 0), List()), List(named_entity, 372, 378, O, Map(word -> illicit, sentence -> 0), List()), List(named_entity, 381, 391, O, Map(word -> enterprises, sentence -> 0), List()), List(named_entity, 392, 392, O, Map(word -> ., sentence -> 0), List()), List(named_entity, 394, 404, O, Map(word -> Furthermore, sentence -> 0), List()), List(named_entity, 405, 405, O, Map(word -> ,, sentence -> 0), List()), List(named_entity, 407, 417, O, Map(word -> intercepted, sentence -> 0), List()), List(named_entity, 419, 431, O, Map(word -> conversations, sentence -> 0), List()), List(named_entity, 433, 439, O, Map(word -> between, sentence -> 0), List()), List(named_entity, 441, 445, B-PER, Map(word -> Elena, sentence -> 0), List()), List(named_entity, 447, 451, I-PER, Map(word -> Conti, sentence -> 0), List()), List(named_entity, 454, 457, O, Map(word -> from, sentence -> 0), List()), List(named_entity, 459, 461, O, Map(word -> the, sentence -> 0), List()), List(named_entity, 463, 467, B-ORG, Map(word -> Conti, sentence -> 0), List()), List(named_entity, 469, 473, I-ORG, Map(word -> Crime, sentence -> 0), List()), List(named_entity, 475, 480, I-ORG, Map(word -> Family, sentence -> 0), List()), List(named_entity, 482, 484, O, Map(word -> and, sentence -> 0), List()), List(named_entity, 486, 494, B-PER, Map(word -> Francesco, sentence -> 0), List()), List(named_entity, 496, 500, I-PER, Map(word -> Ricci, sentence -> 0), List()), List(named_entity, 502, 509, O, Map(word -> indicate, sentence -> 0), List()), List(named_entity, 511, 522, O, Map(word -> negotiations, sentence -> 0), List()), List(named_entity, 524, 526, O, Map(word -> for, sentence -> 0), List()), List(named_entity, 528, 528, O, Map(word -> a, sentence -> 0), List()), List(named_entity, 531, 541, O, Map(word -> large-scale, sentence -> 0), List()), List(named_entity, 543, 546, O, Map(word -> drug, sentence -> 0), List()), List(named_entity, 548, 558, O, Map(word -> trafficking, sentence -> 0), List()), List(named_entity, 560, 568, O, Map(word -> operation, sentence -> 0), List()), List(named_entity, 569, 569, O, Map(word -> ., sentence -> 0), List()), List(named_entity, 571, 572, O, Map(word -> It, sentence -> 0), List()), List(named_entity, 574, 575, O, Map(word -> is, sentence -> 0), List()), List(named_entity, 577, 583, O, Map(word -> evident, sentence -> 0), List()), List(named_entity, 585, 588, O, Map(word -> that, sentence -> 0), List()), List(named_entity, 590, 594, O, Map(word -> these, sentence -> 0), List()), List(named_entity, 596, 603, O, Map(word -> families, sentence -> 0), List()), List(named_entity, 606, 608, O, Map(word -> are, sentence -> 0), List()), List(named_entity, 610, 617, O, Map(word -> actively, sentence -> 0), List()), List(named_entity, 619, 625, O, Map(word -> seeking, sentence -> 0), List()), List(named_entity, 627, 628, O, Map(word -> to, sentence -> 0), List()), List(named_entity, 630, 639, O, Map(word -> strengthen, sentence -> 0), List()), List(named_entity, 641, 645, O, Map(word -> their, sentence -> 0), List()), List(named_entity, 647, 655, O, Map(word -> positions, sentence -> 0), List()), List(named_entity, 657, 658, O, Map(word -> in, sentence -> 0), List()), List(named_entity, 660, 662, O, Map(word -> the, sentence -> 0), List()), List(named_entity, 664, 671, O, Map(word -> criminal, sentence -> 0), List()), List(named_entity, 674, 683, O, Map(word -> underworld, sentence -> 0), List()), List(named_entity, 684, 684, O, Map(word -> ., sentence -> 0), List()), List(named_entity, 686, 697, O, Map(word -> Additionally, sentence -> 0), List()), List(named_entity, 698, 698, O, Map(word -> ,, sentence -> 0), List()), List(named_entity, 700, 705, O, Map(word -> during, sentence -> 0), List()), List(named_entity, 707, 708, O, Map(word -> my, sentence -> 0), List()), List(named_entity, 710, 723, O, Map(word -> investigations, sentence -> 0), List()), List(named_entity, 724, 724, O, Map(word -> ,, sentence -> 0), List()), List(named_entity, 726, 726, O, Map(word -> I, sentence -> 0), List()), List(named_entity, 728, 736, O, Map(word -> uncovered, sentence -> 0), List()), List(named_entity, 738, 747, O, Map(word -> disturbing, sentence -> 0), List()), List(named_entity, 749, 759, O, Map(word -> information, sentence -> 0), List()), List(named_entity, 763, 771, O, Map(word -> regarding, sentence -> 0), List()), List(named_entity, 773, 776, B-PER, Map(word -> Luca, sentence -> 0), List()), List(named_entity, 778, 784, I-PER, Map(word -> Moretti, sentence -> 0), List()), List(named_entity, 785, 785, O, Map(word -> ,, sentence -> 0), List()), List(named_entity, 787, 789, O, Map(word -> who, sentence -> 0), List()), List(named_entity, 791, 797, O, Map(word -> appears, sentence -> 0), List()), List(named_entity, 799, 800, O, Map(word -> to, sentence -> 0), List()), List(named_entity, 802, 803, O, Map(word -> be, sentence -> 0), List()), List(named_entity, 805, 813, O, Map(word -> operating, sentence -> 0), List()), List(named_entity, 815, 816, O, Map(word -> an, sentence -> 0), List()), List(named_entity, 818, 824, O, Map(word -> illegal, sentence -> 0), List()), List(named_entity, 826, 834, B-ORG, Map(word -> Balsamico, sentence -> 0), List()), List(named_entity, 837, 843, I-ORG, Map(word -> Vinegar, sentence -> 0), List()), List(named_entity, 845, 851, O, Map(word -> factory, sentence -> 0), List()), List(named_entity, 853, 856, O, Map(word -> that, sentence -> 0), List()), List(named_entity, 858, 868, O, Map(word -> adulterates, sentence -> 0), List()), List(named_entity, 870, 872, O, Map(word -> the, sentence -> 0), List()), List(named_entity, 874, 879, O, Map(word -> finest, sentence -> 0), List()), List(named_entity, 881, 886, B-MISC, Map(word -> Tuscan, sentence -> 0), List()), List(named_entity, 888, 896, I-MISC, Map(word -> Balsamico, sentence -> 0), List()), List(named_entity, 898, 904, O, Map(word -> vinegar, sentence -> 0), List()), List(named_entity, 905, 905, O, Map(word -> ., sentence -> 0), List()), List(named_entity, 907, 909, O, Map(word -> The, sentence -> 0), List()), List(named_entity, 912, 920, O, Map(word -> shipments, sentence -> 0), List()), List(named_entity, 922, 924, O, Map(word -> are, sentence -> 0), List()), List(named_entity, 926, 936, O, Map(word -> facilitated, sentence -> 0), List()), List(named_entity, 938, 939, O, Map(word -> by, sentence -> 0), List()), List(named_entity, 941, 948, B-PER, Map(word -> Giuseppe, sentence -> 0), List()), List(named_entity, 950, 954, I-PER, Map(word -> Rossi, sentence -> 0), List()), List(named_entity, 955, 955, O, Map(word -> ,, sentence -> 0), List()), List(named_entity, 957, 959, O, Map(word -> who, sentence -> 0), List()), List(named_entity, 961, 964, O, Map(word -> acts, sentence -> 0), List()), List(named_entity, 966, 967, O, Map(word -> as, sentence -> 0), List()), List(named_entity, 969, 969, O, Map(word -> a, sentence -> 0), List()), List(named_entity, 971, 978, O, Map(word -> business, sentence -> 0), List()), List(named_entity, 980, 988, O, Map(word -> associate, sentence -> 0), List()), List(named_entity, 992, 993, O, Map(word -> in, sentence -> 0), List()), List(named_entity, 995, 1006, O, Map(word -> transporting, sentence -> 0), List()), List(named_entity, 1008, 1012, O, Map(word -> goods, sentence -> 0), List()), List(named_entity, 1014, 1017, O, Map(word -> from, sentence -> 0), List()), List(named_entity, 1019, 1022, B-LOC, Map(word -> Peru, sentence -> 0), List()), List(named_entity, 1024, 1025, O, Map(word -> to, sentence -> 0), List()), List(named_entity, 1027, 1031, B-LOC, Map(word -> Italy, sentence -> 0), List()), List(named_entity, 1032, 1032, O, Map(word -> ., sentence -> 0), List()), List(named_entity, 1034, 1037, O, Map(word -> This, sentence -> 0), List()), List(named_entity, 1039, 1047, O, Map(word -> operation, sentence -> 0), List()), List(named_entity, 1049, 1053, O, Map(word -> poses, sentence -> 0), List()), List(named_entity, 1055, 1065, O, Map(word -> significant, sentence -> 0), List()), List(named_entity, 1068, 1072, O, Map(word -> risks, sentence -> 0), List()), List(named_entity, 1074, 1075, O, Map(word -> to, sentence -> 0), List()), List(named_entity, 1077, 1082, O, Map(word -> public, sentence -> 0), List()), List(named_entity, 1084, 1089, O, Map(word -> health, sentence -> 0), List()), List(named_entity, 1091, 1093, O, Map(word -> and, sentence -> 0), List()), List(named_entity, 1095, 1100, O, Map(word -> safety, sentence -> 0), List()), List(named_entity, 1102, 1104, O, Map(word -> and, sentence -> 0), List()), List(named_entity, 1106, 1109, O, Map(word -> must, sentence -> 0), List()), List(named_entity, 1111, 1112, O, Map(word -> be, sentence -> 0), List()), List(named_entity, 1114, 1122, O, Map(word -> addressed, sentence -> 0), List()), List(named_entity, 1124, 1131, O, Map(word -> promptly, sentence -> 0), List()), List(named_entity, 1132, 1132, O, Map(word -> ., sentence -> 0), List()), List(named_entity, 1134, 1135, O, Map(word -> On, sentence -> 0), List()), List(named_entity, 1137, 1137, O, Map(word -> a, sentence -> 0), List()), List(named_entity, 1139, 1146, O, Map(word -> personal, sentence -> 0), List()), List(named_entity, 1148, 1151, O, Map(word -> note, sentence -> 0), List()), List(named_entity, 1152, 1152, O, Map(word -> ,, sentence -> 0), List()), List(named_entity, 1154, 1159, O, Map(word -> amidst, sentence -> 0), List()), List(named_entity, 1161, 1163, O, Map(word -> the, sentence -> 0), List()), List(named_entity, 1165, 1176, O, Map(word -> complexities, sentence -> 0), List()), List(named_entity, 1178, 1179, O, Map(word -> of, sentence -> 0), List()), List(named_entity, 1181, 1182, O, Map(word -> my, sentence -> 0), List()), List(named_entity, 1184, 1193, O, Map(word -> undercover, sentence -> 0), List()), List(named_entity, 1195, 1198, O, Map(word -> work, sentence -> 0), List()), List(named_entity, 1199, 1199, O, Map(word -> ,, sentence -> 0), List()), List(named_entity, 1201, 1201, O, Map(word -> I, sentence -> 0), List()), List(named_entity, 1203, 1206, O, Map(word -> must, sentence -> 0), List()), List(named_entity, 1209, 1215, O, Map(word -> confess, sentence -> 0), List()), List(named_entity, 1217, 1218, O, Map(word -> to, sentence -> 0), List()), List(named_entity, 1220, 1226, O, Map(word -> finding, sentence -> 0), List()), List(named_entity, 1228, 1233, O, Map(word -> solace, sentence -> 0), List()), List(named_entity, 1235, 1236, O, Map(word -> in, sentence -> 0), List()), List(named_entity, 1238, 1240, O, Map(word -> the, sentence -> 0), List()), List(named_entity, 1242, 1251, O, Map(word -> indulgence, sentence -> 0), List()), List(named_entity, 1253, 1254, O, Map(word -> of, sentence -> 0), List()), List(named_entity, 1256, 1262, B-MISC, Map(word -> Italian, sentence -> 0), List()), List(named_entity, 1264, 1269, I-MISC, Map(word -> Grappa, sentence -> 0), List()), List(named_entity, 1271, 1276, O, Map(word -> spirit, sentence -> 0), List()), List(named_entity, 1278, 1280, O, Map(word -> and, sentence -> 0), List()), List(named_entity, 1283, 1291, O, Map(word -> embracing, sentence -> 0), List()), List(named_entity, 1293, 1295, O, Map(word -> the, sentence -> 0), List()), List(named_entity, 1297, 1297, O, Map(word -> \", sentence -> 0), List()), List(named_entity, 1298, 1302, B-ORG, Map(word -> Dolce, sentence -> 0), List()), List(named_entity, 1304, 1307, I-ORG, Map(word -> Vita, sentence -> 0), List()), List(named_entity, 1308, 1308, O, Map(word -> \", sentence -> 0), List()), List(named_entity, 1310, 1318, O, Map(word -> lifestyle, sentence -> 0), List()), List(named_entity, 1319, 1319, O, Map(word -> ., sentence -> 0), List()), List(named_entity, 1321, 1325, O, Map(word -> While, sentence -> 0), List()), List(named_entity, 1327, 1328, O, Map(word -> it, sentence -> 0), List()), List(named_entity, 1330, 1332, O, Map(word -> may, sentence -> 0), List()), List(named_entity, 1334, 1337, O, Map(word -> seem, sentence -> 0), List()), List(named_entity, 1339, 1345, O, Map(word -> trivial, sentence -> 0), List()), List(named_entity, 1347, 1348, O, Map(word -> in, sentence -> 0), List()), List(named_entity, 1350, 1352, O, Map(word -> the, sentence -> 0), List()), List(named_entity, 1354, 1360, O, Map(word -> context, sentence -> 0), List()), List(named_entity, 1364, 1365, O, Map(word -> of, sentence -> 0), List()), List(named_entity, 1367, 1368, O, Map(word -> my, sentence -> 0), List()), List(named_entity, 1370, 1375, O, Map(word -> duties, sentence -> 0), List()), List(named_entity, 1376, 1376, O, Map(word -> ,, sentence -> 0), List()), List(named_entity, 1378, 1379, O, Map(word -> it, sentence -> 0), List()), List(named_entity, 1381, 1386, O, Map(word -> serves, sentence -> 0), List()), List(named_entity, 1388, 1389, O, Map(word -> as, sentence -> 0), List()), List(named_entity, 1391, 1391, O, Map(word -> a, sentence -> 0), List()), List(named_entity, 1393, 1400, O, Map(word -> reminder, sentence -> 0), List()), List(named_entity, 1402, 1403, O, Map(word -> of, sentence -> 0), List()), List(named_entity, 1405, 1407, O, Map(word -> the, sentence -> 0), List()), List(named_entity, 1409, 1413, O, Map(word -> finer, sentence -> 0), List()), List(named_entity, 1415, 1423, O, Map(word -> pleasures, sentence -> 0), List()), List(named_entity, 1425, 1430, O, Map(word -> amidst, sentence -> 0), List()), List(named_entity, 1432, 1434, O, Map(word -> the, sentence -> 0), List()), List(named_entity, 1437, 1444, O, Map(word -> darkness, sentence -> 0), List()), List(named_entity, 1446, 1447, O, Map(word -> of, sentence -> 0), List()), List(named_entity, 1449, 1456, O, Map(word -> criminal, sentence -> 0), List()), List(named_entity, 1458, 1467, O, Map(word -> activities, sentence -> 0), List()), List(named_entity, 1468, 1468, O, Map(word -> ., sentence -> 0), List()), List(named_entity, 1470, 1470, O, Map(word -> I, sentence -> 0), List()), List(named_entity, 1472, 1475, O, Map(word -> will, sentence -> 0), List()), List(named_entity, 1477, 1484, O, Map(word -> continue, sentence -> 0), List()), List(named_entity, 1486, 1487, O, Map(word -> to, sentence -> 0), List()), List(named_entity, 1489, 1494, O, Map(word -> gather, sentence -> 0), List()), List(named_entity, 1496, 1507, O, Map(word -> intelligence, sentence -> 0), List()), List(named_entity, 1509, 1511, O, Map(word -> and, sentence -> 0), List()), List(named_entity, 1513, 1516, O, Map(word -> keep, sentence -> 0), List()), List(named_entity, 1518, 1520, O, Map(word -> you, sentence -> 0), List()), List(named_entity, 1522, 1529, O, Map(word -> informed, sentence -> 0), List()), List(named_entity, 1531, 1532, O, Map(word -> of, sentence -> 0), List()), List(named_entity, 1534, 1536, O, Map(word -> any, sentence -> 0), List()), List(named_entity, 1539, 1549, O, Map(word -> significant, sentence -> 0), List()), List(named_entity, 1551, 1562, O, Map(word -> developments, sentence -> 0), List()), List(named_entity, 1563, 1563, O, Map(word -> ., sentence -> 0), List()))</td><td>dbfs:/FileStore/crime_letters/communication_22_5_2013.pdf</td></tr></tbody></table></div>"
      ]
     },
     "metadata": {
      "application/vnd.databricks.v1+output": {
       "addedWidgets": {},
       "aggData": [],
       "aggError": "",
       "aggOverflow": false,
       "aggSchema": [],
       "aggSeriesLimitReached": false,
       "aggType": "",
       "arguments": {},
       "columnCustomDisplayInfos": {},
       "data": [
        [
         [
          [
           "named_entity",
           0,
           0,
           "O",
           {
            "sentence": "0",
            "word": "I"
           },
           []
          ],
          [
           "named_entity",
           2,
           3,
           "O",
           {
            "sentence": "0",
            "word": "am"
           },
           []
          ],
          [
           "named_entity",
           5,
           11,
           "O",
           {
            "sentence": "0",
            "word": "writing"
           },
           []
          ],
          [
           "named_entity",
           13,
           14,
           "O",
           {
            "sentence": "0",
            "word": "to"
           },
           []
          ],
          [
           "named_entity",
           16,
           21,
           "O",
           {
            "sentence": "0",
            "word": "report"
           },
           []
          ],
          [
           "named_entity",
           23,
           24,
           "O",
           {
            "sentence": "0",
            "word": "on"
           },
           []
          ],
          [
           "named_entity",
           26,
           27,
           "O",
           {
            "sentence": "0",
            "word": "my"
           },
           []
          ],
          [
           "named_entity",
           29,
           34,
           "O",
           {
            "sentence": "0",
            "word": "recent"
           },
           []
          ],
          [
           "named_entity",
           36,
           47,
           "O",
           {
            "sentence": "0",
            "word": "surveillance"
           },
           []
          ],
          [
           "named_entity",
           49,
           56,
           "O",
           {
            "sentence": "0",
            "word": "findings"
           },
           []
          ],
          [
           "named_entity",
           58,
           66,
           "O",
           {
            "sentence": "0",
            "word": "regarding"
           },
           []
          ],
          [
           "named_entity",
           68,
           74,
           "O",
           {
            "sentence": "0",
            "word": "illegal"
           },
           []
          ],
          [
           "named_entity",
           78,
           87,
           "O",
           {
            "sentence": "0",
            "word": "activities"
           },
           []
          ],
          [
           "named_entity",
           89,
           94,
           "O",
           {
            "sentence": "0",
            "word": "within"
           },
           []
          ],
          [
           "named_entity",
           96,
           102,
           "O",
           {
            "sentence": "0",
            "word": "various"
           },
           []
          ],
          [
           "named_entity",
           104,
           108,
           "O",
           {
            "sentence": "0",
            "word": "crime"
           },
           []
          ],
          [
           "named_entity",
           110,
           117,
           "O",
           {
            "sentence": "0",
            "word": "families"
           },
           []
          ],
          [
           "named_entity",
           118,
           118,
           "O",
           {
            "sentence": "0",
            "word": "."
           },
           []
          ],
          [
           "named_entity",
           120,
           125,
           "B-PER",
           {
            "sentence": "0",
            "word": "Giulia"
           },
           []
          ],
          [
           "named_entity",
           127,
           133,
           "I-PER",
           {
            "sentence": "0",
            "word": "Bianchi"
           },
           []
          ],
          [
           "named_entity",
           134,
           134,
           "O",
           {
            "sentence": "0",
            "word": ","
           },
           []
          ],
          [
           "named_entity",
           136,
           136,
           "O",
           {
            "sentence": "0",
            "word": "a"
           },
           []
          ],
          [
           "named_entity",
           138,
           140,
           "O",
           {
            "sentence": "0",
            "word": "key"
           },
           []
          ],
          [
           "named_entity",
           142,
           147,
           "O",
           {
            "sentence": "0",
            "word": "figure"
           },
           []
          ],
          [
           "named_entity",
           149,
           150,
           "O",
           {
            "sentence": "0",
            "word": "in"
           },
           []
          ],
          [
           "named_entity",
           153,
           155,
           "O",
           {
            "sentence": "0",
            "word": "the"
           },
           []
          ],
          [
           "named_entity",
           157,
           163,
           "B-ORG",
           {
            "sentence": "0",
            "word": "Bianchi"
           },
           []
          ],
          [
           "named_entity",
           165,
           176,
           "O",
           {
            "sentence": "0",
            "word": "organization"
           },
           []
          ],
          [
           "named_entity",
           177,
           177,
           "O",
           {
            "sentence": "0",
            "word": ","
           },
           []
          ],
          [
           "named_entity",
           179,
           181,
           "O",
           {
            "sentence": "0",
            "word": "has"
           },
           []
          ],
          [
           "named_entity",
           183,
           186,
           "O",
           {
            "sentence": "0",
            "word": "been"
           },
           []
          ],
          [
           "named_entity",
           188,
           195,
           "O",
           {
            "sentence": "0",
            "word": "observed"
           },
           []
          ],
          [
           "named_entity",
           197,
           206,
           "O",
           {
            "sentence": "0",
            "word": "exchanging"
           },
           []
          ],
          [
           "named_entity",
           208,
           216,
           "O",
           {
            "sentence": "0",
            "word": "encrypted"
           },
           []
          ],
          [
           "named_entity",
           218,
           225,
           "O",
           {
            "sentence": "0",
            "word": "messages"
           },
           []
          ],
          [
           "named_entity",
           228,
           231,
           "O",
           {
            "sentence": "0",
            "word": "with"
           },
           []
          ],
          [
           "named_entity",
           233,
           240,
           "B-PER",
           {
            "sentence": "0",
            "word": "Federico"
           },
           []
          ],
          [
           "named_entity",
           242,
           247,
           "I-PER",
           {
            "sentence": "0",
            "word": "Romano"
           },
           []
          ],
          [
           "named_entity",
           249,
           250,
           "O",
           {
            "sentence": "0",
            "word": "of"
           },
           []
          ],
          [
           "named_entity",
           252,
           254,
           "O",
           {
            "sentence": "0",
            "word": "the"
           },
           []
          ],
          [
           "named_entity",
           256,
           261,
           "B-PER",
           {
            "sentence": "0",
            "word": "Romano"
           },
           []
          ],
          [
           "named_entity",
           263,
           271,
           "O",
           {
            "sentence": "0",
            "word": "syndicate"
           },
           []
          ],
          [
           "named_entity",
           272,
           272,
           "O",
           {
            "sentence": "0",
            "word": "."
           },
           []
          ],
          [
           "named_entity",
           274,
           278,
           "O",
           {
            "sentence": "0",
            "word": "These"
           },
           []
          ],
          [
           "named_entity",
           280,
           293,
           "O",
           {
            "sentence": "0",
            "word": "communications"
           },
           []
          ],
          [
           "named_entity",
           295,
           301,
           "O",
           {
            "sentence": "0",
            "word": "suggest"
           },
           []
          ],
          [
           "named_entity",
           305,
           305,
           "O",
           {
            "sentence": "0",
            "word": "a"
           },
           []
          ],
          [
           "named_entity",
           307,
           315,
           "O",
           {
            "sentence": "0",
            "word": "potential"
           },
           []
          ],
          [
           "named_entity",
           317,
           329,
           "O",
           {
            "sentence": "0",
            "word": "collaboration"
           },
           []
          ],
          [
           "named_entity",
           331,
           337,
           "O",
           {
            "sentence": "0",
            "word": "between"
           },
           []
          ],
          [
           "named_entity",
           339,
           341,
           "O",
           {
            "sentence": "0",
            "word": "the"
           },
           []
          ],
          [
           "named_entity",
           343,
           345,
           "O",
           {
            "sentence": "0",
            "word": "two"
           },
           []
          ],
          [
           "named_entity",
           347,
           354,
           "O",
           {
            "sentence": "0",
            "word": "families"
           },
           []
          ],
          [
           "named_entity",
           356,
           357,
           "O",
           {
            "sentence": "0",
            "word": "to"
           },
           []
          ],
          [
           "named_entity",
           359,
           364,
           "O",
           {
            "sentence": "0",
            "word": "expand"
           },
           []
          ],
          [
           "named_entity",
           366,
           370,
           "O",
           {
            "sentence": "0",
            "word": "their"
           },
           []
          ],
          [
           "named_entity",
           372,
           378,
           "O",
           {
            "sentence": "0",
            "word": "illicit"
           },
           []
          ],
          [
           "named_entity",
           381,
           391,
           "O",
           {
            "sentence": "0",
            "word": "enterprises"
           },
           []
          ],
          [
           "named_entity",
           392,
           392,
           "O",
           {
            "sentence": "0",
            "word": "."
           },
           []
          ],
          [
           "named_entity",
           394,
           404,
           "O",
           {
            "sentence": "0",
            "word": "Furthermore"
           },
           []
          ],
          [
           "named_entity",
           405,
           405,
           "O",
           {
            "sentence": "0",
            "word": ","
           },
           []
          ],
          [
           "named_entity",
           407,
           417,
           "O",
           {
            "sentence": "0",
            "word": "intercepted"
           },
           []
          ],
          [
           "named_entity",
           419,
           431,
           "O",
           {
            "sentence": "0",
            "word": "conversations"
           },
           []
          ],
          [
           "named_entity",
           433,
           439,
           "O",
           {
            "sentence": "0",
            "word": "between"
           },
           []
          ],
          [
           "named_entity",
           441,
           445,
           "B-PER",
           {
            "sentence": "0",
            "word": "Elena"
           },
           []
          ],
          [
           "named_entity",
           447,
           451,
           "I-PER",
           {
            "sentence": "0",
            "word": "Conti"
           },
           []
          ],
          [
           "named_entity",
           454,
           457,
           "O",
           {
            "sentence": "0",
            "word": "from"
           },
           []
          ],
          [
           "named_entity",
           459,
           461,
           "O",
           {
            "sentence": "0",
            "word": "the"
           },
           []
          ],
          [
           "named_entity",
           463,
           467,
           "B-ORG",
           {
            "sentence": "0",
            "word": "Conti"
           },
           []
          ],
          [
           "named_entity",
           469,
           473,
           "I-ORG",
           {
            "sentence": "0",
            "word": "Crime"
           },
           []
          ],
          [
           "named_entity",
           475,
           480,
           "I-ORG",
           {
            "sentence": "0",
            "word": "Family"
           },
           []
          ],
          [
           "named_entity",
           482,
           484,
           "O",
           {
            "sentence": "0",
            "word": "and"
           },
           []
          ],
          [
           "named_entity",
           486,
           494,
           "B-PER",
           {
            "sentence": "0",
            "word": "Francesco"
           },
           []
          ],
          [
           "named_entity",
           496,
           500,
           "I-PER",
           {
            "sentence": "0",
            "word": "Ricci"
           },
           []
          ],
          [
           "named_entity",
           502,
           509,
           "O",
           {
            "sentence": "0",
            "word": "indicate"
           },
           []
          ],
          [
           "named_entity",
           511,
           522,
           "O",
           {
            "sentence": "0",
            "word": "negotiations"
           },
           []
          ],
          [
           "named_entity",
           524,
           526,
           "O",
           {
            "sentence": "0",
            "word": "for"
           },
           []
          ],
          [
           "named_entity",
           528,
           528,
           "O",
           {
            "sentence": "0",
            "word": "a"
           },
           []
          ],
          [
           "named_entity",
           531,
           541,
           "O",
           {
            "sentence": "0",
            "word": "large-scale"
           },
           []
          ],
          [
           "named_entity",
           543,
           546,
           "O",
           {
            "sentence": "0",
            "word": "drug"
           },
           []
          ],
          [
           "named_entity",
           548,
           558,
           "O",
           {
            "sentence": "0",
            "word": "trafficking"
           },
           []
          ],
          [
           "named_entity",
           560,
           568,
           "O",
           {
            "sentence": "0",
            "word": "operation"
           },
           []
          ],
          [
           "named_entity",
           569,
           569,
           "O",
           {
            "sentence": "0",
            "word": "."
           },
           []
          ],
          [
           "named_entity",
           571,
           572,
           "O",
           {
            "sentence": "0",
            "word": "It"
           },
           []
          ],
          [
           "named_entity",
           574,
           575,
           "O",
           {
            "sentence": "0",
            "word": "is"
           },
           []
          ],
          [
           "named_entity",
           577,
           583,
           "O",
           {
            "sentence": "0",
            "word": "evident"
           },
           []
          ],
          [
           "named_entity",
           585,
           588,
           "O",
           {
            "sentence": "0",
            "word": "that"
           },
           []
          ],
          [
           "named_entity",
           590,
           594,
           "O",
           {
            "sentence": "0",
            "word": "these"
           },
           []
          ],
          [
           "named_entity",
           596,
           603,
           "O",
           {
            "sentence": "0",
            "word": "families"
           },
           []
          ],
          [
           "named_entity",
           606,
           608,
           "O",
           {
            "sentence": "0",
            "word": "are"
           },
           []
          ],
          [
           "named_entity",
           610,
           617,
           "O",
           {
            "sentence": "0",
            "word": "actively"
           },
           []
          ],
          [
           "named_entity",
           619,
           625,
           "O",
           {
            "sentence": "0",
            "word": "seeking"
           },
           []
          ],
          [
           "named_entity",
           627,
           628,
           "O",
           {
            "sentence": "0",
            "word": "to"
           },
           []
          ],
          [
           "named_entity",
           630,
           639,
           "O",
           {
            "sentence": "0",
            "word": "strengthen"
           },
           []
          ],
          [
           "named_entity",
           641,
           645,
           "O",
           {
            "sentence": "0",
            "word": "their"
           },
           []
          ],
          [
           "named_entity",
           647,
           655,
           "O",
           {
            "sentence": "0",
            "word": "positions"
           },
           []
          ],
          [
           "named_entity",
           657,
           658,
           "O",
           {
            "sentence": "0",
            "word": "in"
           },
           []
          ],
          [
           "named_entity",
           660,
           662,
           "O",
           {
            "sentence": "0",
            "word": "the"
           },
           []
          ],
          [
           "named_entity",
           664,
           671,
           "O",
           {
            "sentence": "0",
            "word": "criminal"
           },
           []
          ],
          [
           "named_entity",
           674,
           683,
           "O",
           {
            "sentence": "0",
            "word": "underworld"
           },
           []
          ],
          [
           "named_entity",
           684,
           684,
           "O",
           {
            "sentence": "0",
            "word": "."
           },
           []
          ],
          [
           "named_entity",
           686,
           697,
           "O",
           {
            "sentence": "0",
            "word": "Additionally"
           },
           []
          ],
          [
           "named_entity",
           698,
           698,
           "O",
           {
            "sentence": "0",
            "word": ","
           },
           []
          ],
          [
           "named_entity",
           700,
           705,
           "O",
           {
            "sentence": "0",
            "word": "during"
           },
           []
          ],
          [
           "named_entity",
           707,
           708,
           "O",
           {
            "sentence": "0",
            "word": "my"
           },
           []
          ],
          [
           "named_entity",
           710,
           723,
           "O",
           {
            "sentence": "0",
            "word": "investigations"
           },
           []
          ],
          [
           "named_entity",
           724,
           724,
           "O",
           {
            "sentence": "0",
            "word": ","
           },
           []
          ],
          [
           "named_entity",
           726,
           726,
           "O",
           {
            "sentence": "0",
            "word": "I"
           },
           []
          ],
          [
           "named_entity",
           728,
           736,
           "O",
           {
            "sentence": "0",
            "word": "uncovered"
           },
           []
          ],
          [
           "named_entity",
           738,
           747,
           "O",
           {
            "sentence": "0",
            "word": "disturbing"
           },
           []
          ],
          [
           "named_entity",
           749,
           759,
           "O",
           {
            "sentence": "0",
            "word": "information"
           },
           []
          ],
          [
           "named_entity",
           763,
           771,
           "O",
           {
            "sentence": "0",
            "word": "regarding"
           },
           []
          ],
          [
           "named_entity",
           773,
           776,
           "B-PER",
           {
            "sentence": "0",
            "word": "Luca"
           },
           []
          ],
          [
           "named_entity",
           778,
           784,
           "I-PER",
           {
            "sentence": "0",
            "word": "Moretti"
           },
           []
          ],
          [
           "named_entity",
           785,
           785,
           "O",
           {
            "sentence": "0",
            "word": ","
           },
           []
          ],
          [
           "named_entity",
           787,
           789,
           "O",
           {
            "sentence": "0",
            "word": "who"
           },
           []
          ],
          [
           "named_entity",
           791,
           797,
           "O",
           {
            "sentence": "0",
            "word": "appears"
           },
           []
          ],
          [
           "named_entity",
           799,
           800,
           "O",
           {
            "sentence": "0",
            "word": "to"
           },
           []
          ],
          [
           "named_entity",
           802,
           803,
           "O",
           {
            "sentence": "0",
            "word": "be"
           },
           []
          ],
          [
           "named_entity",
           805,
           813,
           "O",
           {
            "sentence": "0",
            "word": "operating"
           },
           []
          ],
          [
           "named_entity",
           815,
           816,
           "O",
           {
            "sentence": "0",
            "word": "an"
           },
           []
          ],
          [
           "named_entity",
           818,
           824,
           "O",
           {
            "sentence": "0",
            "word": "illegal"
           },
           []
          ],
          [
           "named_entity",
           826,
           834,
           "B-ORG",
           {
            "sentence": "0",
            "word": "Balsamico"
           },
           []
          ],
          [
           "named_entity",
           837,
           843,
           "I-ORG",
           {
            "sentence": "0",
            "word": "Vinegar"
           },
           []
          ],
          [
           "named_entity",
           845,
           851,
           "O",
           {
            "sentence": "0",
            "word": "factory"
           },
           []
          ],
          [
           "named_entity",
           853,
           856,
           "O",
           {
            "sentence": "0",
            "word": "that"
           },
           []
          ],
          [
           "named_entity",
           858,
           868,
           "O",
           {
            "sentence": "0",
            "word": "adulterates"
           },
           []
          ],
          [
           "named_entity",
           870,
           872,
           "O",
           {
            "sentence": "0",
            "word": "the"
           },
           []
          ],
          [
           "named_entity",
           874,
           879,
           "O",
           {
            "sentence": "0",
            "word": "finest"
           },
           []
          ],
          [
           "named_entity",
           881,
           886,
           "B-MISC",
           {
            "sentence": "0",
            "word": "Tuscan"
           },
           []
          ],
          [
           "named_entity",
           888,
           896,
           "I-MISC",
           {
            "sentence": "0",
            "word": "Balsamico"
           },
           []
          ],
          [
           "named_entity",
           898,
           904,
           "O",
           {
            "sentence": "0",
            "word": "vinegar"
           },
           []
          ],
          [
           "named_entity",
           905,
           905,
           "O",
           {
            "sentence": "0",
            "word": "."
           },
           []
          ],
          [
           "named_entity",
           907,
           909,
           "O",
           {
            "sentence": "0",
            "word": "The"
           },
           []
          ],
          [
           "named_entity",
           912,
           920,
           "O",
           {
            "sentence": "0",
            "word": "shipments"
           },
           []
          ],
          [
           "named_entity",
           922,
           924,
           "O",
           {
            "sentence": "0",
            "word": "are"
           },
           []
          ],
          [
           "named_entity",
           926,
           936,
           "O",
           {
            "sentence": "0",
            "word": "facilitated"
           },
           []
          ],
          [
           "named_entity",
           938,
           939,
           "O",
           {
            "sentence": "0",
            "word": "by"
           },
           []
          ],
          [
           "named_entity",
           941,
           948,
           "B-PER",
           {
            "sentence": "0",
            "word": "Giuseppe"
           },
           []
          ],
          [
           "named_entity",
           950,
           954,
           "I-PER",
           {
            "sentence": "0",
            "word": "Rossi"
           },
           []
          ],
          [
           "named_entity",
           955,
           955,
           "O",
           {
            "sentence": "0",
            "word": ","
           },
           []
          ],
          [
           "named_entity",
           957,
           959,
           "O",
           {
            "sentence": "0",
            "word": "who"
           },
           []
          ],
          [
           "named_entity",
           961,
           964,
           "O",
           {
            "sentence": "0",
            "word": "acts"
           },
           []
          ],
          [
           "named_entity",
           966,
           967,
           "O",
           {
            "sentence": "0",
            "word": "as"
           },
           []
          ],
          [
           "named_entity",
           969,
           969,
           "O",
           {
            "sentence": "0",
            "word": "a"
           },
           []
          ],
          [
           "named_entity",
           971,
           978,
           "O",
           {
            "sentence": "0",
            "word": "business"
           },
           []
          ],
          [
           "named_entity",
           980,
           988,
           "O",
           {
            "sentence": "0",
            "word": "associate"
           },
           []
          ],
          [
           "named_entity",
           992,
           993,
           "O",
           {
            "sentence": "0",
            "word": "in"
           },
           []
          ],
          [
           "named_entity",
           995,
           1006,
           "O",
           {
            "sentence": "0",
            "word": "transporting"
           },
           []
          ],
          [
           "named_entity",
           1008,
           1012,
           "O",
           {
            "sentence": "0",
            "word": "goods"
           },
           []
          ],
          [
           "named_entity",
           1014,
           1017,
           "O",
           {
            "sentence": "0",
            "word": "from"
           },
           []
          ],
          [
           "named_entity",
           1019,
           1022,
           "B-LOC",
           {
            "sentence": "0",
            "word": "Peru"
           },
           []
          ],
          [
           "named_entity",
           1024,
           1025,
           "O",
           {
            "sentence": "0",
            "word": "to"
           },
           []
          ],
          [
           "named_entity",
           1027,
           1031,
           "B-LOC",
           {
            "sentence": "0",
            "word": "Italy"
           },
           []
          ],
          [
           "named_entity",
           1032,
           1032,
           "O",
           {
            "sentence": "0",
            "word": "."
           },
           []
          ],
          [
           "named_entity",
           1034,
           1037,
           "O",
           {
            "sentence": "0",
            "word": "This"
           },
           []
          ],
          [
           "named_entity",
           1039,
           1047,
           "O",
           {
            "sentence": "0",
            "word": "operation"
           },
           []
          ],
          [
           "named_entity",
           1049,
           1053,
           "O",
           {
            "sentence": "0",
            "word": "poses"
           },
           []
          ],
          [
           "named_entity",
           1055,
           1065,
           "O",
           {
            "sentence": "0",
            "word": "significant"
           },
           []
          ],
          [
           "named_entity",
           1068,
           1072,
           "O",
           {
            "sentence": "0",
            "word": "risks"
           },
           []
          ],
          [
           "named_entity",
           1074,
           1075,
           "O",
           {
            "sentence": "0",
            "word": "to"
           },
           []
          ],
          [
           "named_entity",
           1077,
           1082,
           "O",
           {
            "sentence": "0",
            "word": "public"
           },
           []
          ],
          [
           "named_entity",
           1084,
           1089,
           "O",
           {
            "sentence": "0",
            "word": "health"
           },
           []
          ],
          [
           "named_entity",
           1091,
           1093,
           "O",
           {
            "sentence": "0",
            "word": "and"
           },
           []
          ],
          [
           "named_entity",
           1095,
           1100,
           "O",
           {
            "sentence": "0",
            "word": "safety"
           },
           []
          ],
          [
           "named_entity",
           1102,
           1104,
           "O",
           {
            "sentence": "0",
            "word": "and"
           },
           []
          ],
          [
           "named_entity",
           1106,
           1109,
           "O",
           {
            "sentence": "0",
            "word": "must"
           },
           []
          ],
          [
           "named_entity",
           1111,
           1112,
           "O",
           {
            "sentence": "0",
            "word": "be"
           },
           []
          ],
          [
           "named_entity",
           1114,
           1122,
           "O",
           {
            "sentence": "0",
            "word": "addressed"
           },
           []
          ],
          [
           "named_entity",
           1124,
           1131,
           "O",
           {
            "sentence": "0",
            "word": "promptly"
           },
           []
          ],
          [
           "named_entity",
           1132,
           1132,
           "O",
           {
            "sentence": "0",
            "word": "."
           },
           []
          ],
          [
           "named_entity",
           1134,
           1135,
           "O",
           {
            "sentence": "0",
            "word": "On"
           },
           []
          ],
          [
           "named_entity",
           1137,
           1137,
           "O",
           {
            "sentence": "0",
            "word": "a"
           },
           []
          ],
          [
           "named_entity",
           1139,
           1146,
           "O",
           {
            "sentence": "0",
            "word": "personal"
           },
           []
          ],
          [
           "named_entity",
           1148,
           1151,
           "O",
           {
            "sentence": "0",
            "word": "note"
           },
           []
          ],
          [
           "named_entity",
           1152,
           1152,
           "O",
           {
            "sentence": "0",
            "word": ","
           },
           []
          ],
          [
           "named_entity",
           1154,
           1159,
           "O",
           {
            "sentence": "0",
            "word": "amidst"
           },
           []
          ],
          [
           "named_entity",
           1161,
           1163,
           "O",
           {
            "sentence": "0",
            "word": "the"
           },
           []
          ],
          [
           "named_entity",
           1165,
           1176,
           "O",
           {
            "sentence": "0",
            "word": "complexities"
           },
           []
          ],
          [
           "named_entity",
           1178,
           1179,
           "O",
           {
            "sentence": "0",
            "word": "of"
           },
           []
          ],
          [
           "named_entity",
           1181,
           1182,
           "O",
           {
            "sentence": "0",
            "word": "my"
           },
           []
          ],
          [
           "named_entity",
           1184,
           1193,
           "O",
           {
            "sentence": "0",
            "word": "undercover"
           },
           []
          ],
          [
           "named_entity",
           1195,
           1198,
           "O",
           {
            "sentence": "0",
            "word": "work"
           },
           []
          ],
          [
           "named_entity",
           1199,
           1199,
           "O",
           {
            "sentence": "0",
            "word": ","
           },
           []
          ],
          [
           "named_entity",
           1201,
           1201,
           "O",
           {
            "sentence": "0",
            "word": "I"
           },
           []
          ],
          [
           "named_entity",
           1203,
           1206,
           "O",
           {
            "sentence": "0",
            "word": "must"
           },
           []
          ],
          [
           "named_entity",
           1209,
           1215,
           "O",
           {
            "sentence": "0",
            "word": "confess"
           },
           []
          ],
          [
           "named_entity",
           1217,
           1218,
           "O",
           {
            "sentence": "0",
            "word": "to"
           },
           []
          ],
          [
           "named_entity",
           1220,
           1226,
           "O",
           {
            "sentence": "0",
            "word": "finding"
           },
           []
          ],
          [
           "named_entity",
           1228,
           1233,
           "O",
           {
            "sentence": "0",
            "word": "solace"
           },
           []
          ],
          [
           "named_entity",
           1235,
           1236,
           "O",
           {
            "sentence": "0",
            "word": "in"
           },
           []
          ],
          [
           "named_entity",
           1238,
           1240,
           "O",
           {
            "sentence": "0",
            "word": "the"
           },
           []
          ],
          [
           "named_entity",
           1242,
           1251,
           "O",
           {
            "sentence": "0",
            "word": "indulgence"
           },
           []
          ],
          [
           "named_entity",
           1253,
           1254,
           "O",
           {
            "sentence": "0",
            "word": "of"
           },
           []
          ],
          [
           "named_entity",
           1256,
           1262,
           "B-MISC",
           {
            "sentence": "0",
            "word": "Italian"
           },
           []
          ],
          [
           "named_entity",
           1264,
           1269,
           "I-MISC",
           {
            "sentence": "0",
            "word": "Grappa"
           },
           []
          ],
          [
           "named_entity",
           1271,
           1276,
           "O",
           {
            "sentence": "0",
            "word": "spirit"
           },
           []
          ],
          [
           "named_entity",
           1278,
           1280,
           "O",
           {
            "sentence": "0",
            "word": "and"
           },
           []
          ],
          [
           "named_entity",
           1283,
           1291,
           "O",
           {
            "sentence": "0",
            "word": "embracing"
           },
           []
          ],
          [
           "named_entity",
           1293,
           1295,
           "O",
           {
            "sentence": "0",
            "word": "the"
           },
           []
          ],
          [
           "named_entity",
           1297,
           1297,
           "O",
           {
            "sentence": "0",
            "word": "\""
           },
           []
          ],
          [
           "named_entity",
           1298,
           1302,
           "B-ORG",
           {
            "sentence": "0",
            "word": "Dolce"
           },
           []
          ],
          [
           "named_entity",
           1304,
           1307,
           "I-ORG",
           {
            "sentence": "0",
            "word": "Vita"
           },
           []
          ],
          [
           "named_entity",
           1308,
           1308,
           "O",
           {
            "sentence": "0",
            "word": "\""
           },
           []
          ],
          [
           "named_entity",
           1310,
           1318,
           "O",
           {
            "sentence": "0",
            "word": "lifestyle"
           },
           []
          ],
          [
           "named_entity",
           1319,
           1319,
           "O",
           {
            "sentence": "0",
            "word": "."
           },
           []
          ],
          [
           "named_entity",
           1321,
           1325,
           "O",
           {
            "sentence": "0",
            "word": "While"
           },
           []
          ],
          [
           "named_entity",
           1327,
           1328,
           "O",
           {
            "sentence": "0",
            "word": "it"
           },
           []
          ],
          [
           "named_entity",
           1330,
           1332,
           "O",
           {
            "sentence": "0",
            "word": "may"
           },
           []
          ],
          [
           "named_entity",
           1334,
           1337,
           "O",
           {
            "sentence": "0",
            "word": "seem"
           },
           []
          ],
          [
           "named_entity",
           1339,
           1345,
           "O",
           {
            "sentence": "0",
            "word": "trivial"
           },
           []
          ],
          [
           "named_entity",
           1347,
           1348,
           "O",
           {
            "sentence": "0",
            "word": "in"
           },
           []
          ],
          [
           "named_entity",
           1350,
           1352,
           "O",
           {
            "sentence": "0",
            "word": "the"
           },
           []
          ],
          [
           "named_entity",
           1354,
           1360,
           "O",
           {
            "sentence": "0",
            "word": "context"
           },
           []
          ],
          [
           "named_entity",
           1364,
           1365,
           "O",
           {
            "sentence": "0",
            "word": "of"
           },
           []
          ],
          [
           "named_entity",
           1367,
           1368,
           "O",
           {
            "sentence": "0",
            "word": "my"
           },
           []
          ],
          [
           "named_entity",
           1370,
           1375,
           "O",
           {
            "sentence": "0",
            "word": "duties"
           },
           []
          ],
          [
           "named_entity",
           1376,
           1376,
           "O",
           {
            "sentence": "0",
            "word": ","
           },
           []
          ],
          [
           "named_entity",
           1378,
           1379,
           "O",
           {
            "sentence": "0",
            "word": "it"
           },
           []
          ],
          [
           "named_entity",
           1381,
           1386,
           "O",
           {
            "sentence": "0",
            "word": "serves"
           },
           []
          ],
          [
           "named_entity",
           1388,
           1389,
           "O",
           {
            "sentence": "0",
            "word": "as"
           },
           []
          ],
          [
           "named_entity",
           1391,
           1391,
           "O",
           {
            "sentence": "0",
            "word": "a"
           },
           []
          ],
          [
           "named_entity",
           1393,
           1400,
           "O",
           {
            "sentence": "0",
            "word": "reminder"
           },
           []
          ],
          [
           "named_entity",
           1402,
           1403,
           "O",
           {
            "sentence": "0",
            "word": "of"
           },
           []
          ],
          [
           "named_entity",
           1405,
           1407,
           "O",
           {
            "sentence": "0",
            "word": "the"
           },
           []
          ],
          [
           "named_entity",
           1409,
           1413,
           "O",
           {
            "sentence": "0",
            "word": "finer"
           },
           []
          ],
          [
           "named_entity",
           1415,
           1423,
           "O",
           {
            "sentence": "0",
            "word": "pleasures"
           },
           []
          ],
          [
           "named_entity",
           1425,
           1430,
           "O",
           {
            "sentence": "0",
            "word": "amidst"
           },
           []
          ],
          [
           "named_entity",
           1432,
           1434,
           "O",
           {
            "sentence": "0",
            "word": "the"
           },
           []
          ],
          [
           "named_entity",
           1437,
           1444,
           "O",
           {
            "sentence": "0",
            "word": "darkness"
           },
           []
          ],
          [
           "named_entity",
           1446,
           1447,
           "O",
           {
            "sentence": "0",
            "word": "of"
           },
           []
          ],
          [
           "named_entity",
           1449,
           1456,
           "O",
           {
            "sentence": "0",
            "word": "criminal"
           },
           []
          ],
          [
           "named_entity",
           1458,
           1467,
           "O",
           {
            "sentence": "0",
            "word": "activities"
           },
           []
          ],
          [
           "named_entity",
           1468,
           1468,
           "O",
           {
            "sentence": "0",
            "word": "."
           },
           []
          ],
          [
           "named_entity",
           1470,
           1470,
           "O",
           {
            "sentence": "0",
            "word": "I"
           },
           []
          ],
          [
           "named_entity",
           1472,
           1475,
           "O",
           {
            "sentence": "0",
            "word": "will"
           },
           []
          ],
          [
           "named_entity",
           1477,
           1484,
           "O",
           {
            "sentence": "0",
            "word": "continue"
           },
           []
          ],
          [
           "named_entity",
           1486,
           1487,
           "O",
           {
            "sentence": "0",
            "word": "to"
           },
           []
          ],
          [
           "named_entity",
           1489,
           1494,
           "O",
           {
            "sentence": "0",
            "word": "gather"
           },
           []
          ],
          [
           "named_entity",
           1496,
           1507,
           "O",
           {
            "sentence": "0",
            "word": "intelligence"
           },
           []
          ],
          [
           "named_entity",
           1509,
           1511,
           "O",
           {
            "sentence": "0",
            "word": "and"
           },
           []
          ],
          [
           "named_entity",
           1513,
           1516,
           "O",
           {
            "sentence": "0",
            "word": "keep"
           },
           []
          ],
          [
           "named_entity",
           1518,
           1520,
           "O",
           {
            "sentence": "0",
            "word": "you"
           },
           []
          ],
          [
           "named_entity",
           1522,
           1529,
           "O",
           {
            "sentence": "0",
            "word": "informed"
           },
           []
          ],
          [
           "named_entity",
           1531,
           1532,
           "O",
           {
            "sentence": "0",
            "word": "of"
           },
           []
          ],
          [
           "named_entity",
           1534,
           1536,
           "O",
           {
            "sentence": "0",
            "word": "any"
           },
           []
          ],
          [
           "named_entity",
           1539,
           1549,
           "O",
           {
            "sentence": "0",
            "word": "significant"
           },
           []
          ],
          [
           "named_entity",
           1551,
           1562,
           "O",
           {
            "sentence": "0",
            "word": "developments"
           },
           []
          ],
          [
           "named_entity",
           1563,
           1563,
           "O",
           {
            "sentence": "0",
            "word": "."
           },
           []
          ]
         ],
         "dbfs:/FileStore/crime_letters/communication_22_5_2013.pdf"
        ]
       ],
       "datasetInfos": [],
       "dbfsResultPath": null,
       "isJsonSchema": true,
       "metadata": {},
       "overflow": false,
       "plotOptions": {
        "customPlotOptions": {},
        "displayType": "table",
        "pivotAggregation": null,
        "pivotColumns": null,
        "xColumns": null,
        "yColumns": null
       },
       "removedWidgets": [],
       "schema": [
        {
         "metadata": "{\"annotatorType\":\"named_entity\"}",
         "name": "ner",
         "type": "{\"type\":\"array\",\"elementType\":{\"type\":\"struct\",\"fields\":[{\"name\":\"annotatorType\",\"type\":\"string\",\"nullable\":true,\"metadata\":{}},{\"name\":\"begin\",\"type\":\"integer\",\"nullable\":false,\"metadata\":{}},{\"name\":\"end\",\"type\":\"integer\",\"nullable\":false,\"metadata\":{}},{\"name\":\"result\",\"type\":\"string\",\"nullable\":true,\"metadata\":{}},{\"name\":\"metadata\",\"type\":{\"type\":\"map\",\"keyType\":\"string\",\"valueType\":\"string\",\"valueContainsNull\":true},\"nullable\":true,\"metadata\":{}},{\"name\":\"embeddings\",\"type\":{\"type\":\"array\",\"elementType\":\"float\",\"containsNull\":false},\"nullable\":true,\"metadata\":{}}]},\"containsNull\":true}"
        },
        {
         "metadata": "{}",
         "name": "path",
         "type": "\"string\""
        }
       ],
       "type": "table"
      }
     },
     "output_type": "display_data"
    }
   ],
   "source": [
    "ner_results.limit(1).display()"
   ]
  },
  {
   "cell_type": "markdown",
   "metadata": {
    "application/vnd.databricks.v1+cell": {
     "cellMetadata": {
      "byteLimit": 2048000,
      "rowLimit": 10000
     },
     "inputWidgets": {},
     "nuid": "35aff8ca-64e9-4f63-a9f4-4e39382c273d",
     "showTitle": false,
     "title": ""
    }
   },
   "source": [
    "To facilitate our analysis, we will use the ``path`` column to extract the date of the report and use the date to assign a report id. We will accomplish this by using a Window function. From there, we explode the array of struct (the result of the NER) and retrieve only the entity and the associated word."
   ]
  },
  {
   "cell_type": "code",
   "execution_count": 0,
   "metadata": {
    "application/vnd.databricks.v1+cell": {
     "cellMetadata": {
      "byteLimit": 2048000,
      "rowLimit": 10000
     },
     "inputWidgets": {},
     "nuid": "83f62762-d7eb-40db-a33c-67c894ea0310",
     "showTitle": false,
     "title": ""
    }
   },
   "outputs": [],
   "source": [
    "from pyspark.sql.window import Window"
   ]
  },
  {
   "cell_type": "code",
   "execution_count": 0,
   "metadata": {
    "application/vnd.databricks.v1+cell": {
     "cellMetadata": {
      "byteLimit": 2048000,
      "rowLimit": 10000
     },
     "inputWidgets": {},
     "nuid": "72c2170c-fc0c-494b-b1d7-79ee3e19e07c",
     "showTitle": false,
     "title": ""
    }
   },
   "outputs": [],
   "source": [
    "# 1. We extract the date\n",
    "# 2. Get a row ID based on date\n",
    "# 3. Explode the column\n",
    "# 4. Extract the results (in a struct)\n",
    "\n",
    "reports_parsed = ner_results \\\n",
    "    .withColumn(\"date\", F.to_date(F.regexp_extract(F.col(\"path\"), r\"(\\d{4}-\\d+-\\d{2})\", 1))) \\\n",
    "    .withColumn(\"report_id\", F.row_number().over(Window.orderBy(\"date\"))) \\\n",
    "    .withColumn(\"ner_exploded\", F.explode(\"ner\")) \\\n",
    "    .withColumns({\n",
    "        \"result\":  F.col(\"ner_exploded.result\"), \n",
    "        \"metadata\": F.col(\"ner_exploded.metadata.word\") \n",
    "    }\n",
    "    ) \\\n",
    "    .withColumn(\"row_number\", F.row_number().over(Window.orderBy(\"report_id\"))) \\\n",
    "    .select(F.col(\"result\"), F.col(\"metadata\"), F.col(\"report_id\"), F.col(\"row_number\"))"
   ]
  },
  {
   "cell_type": "code",
   "execution_count": 0,
   "metadata": {
    "application/vnd.databricks.v1+cell": {
     "cellMetadata": {
      "byteLimit": 2048000,
      "rowLimit": 10000
     },
     "inputWidgets": {},
     "nuid": "a483f4f3-d642-4e64-b78f-93b1a033e08b",
     "showTitle": false,
     "title": ""
    }
   },
   "outputs": [
    {
     "output_type": "display_data",
     "data": {
      "text/html": [
       "<style scoped>\n",
       "  .table-result-container {\n",
       "    max-height: 300px;\n",
       "    overflow: auto;\n",
       "  }\n",
       "  table, th, td {\n",
       "    border: 1px solid black;\n",
       "    border-collapse: collapse;\n",
       "  }\n",
       "  th, td {\n",
       "    padding: 5px;\n",
       "  }\n",
       "  th {\n",
       "    text-align: left;\n",
       "  }\n",
       "</style><div class='table-result-container'><table class='table-result'><thead style='background-color: white'><tr><th>result</th><th>metadata</th><th>report_id</th><th>row_number</th></tr></thead><tbody><tr><td>O</td><td>I</td><td>1</td><td>1</td></tr><tr><td>O</td><td>am</td><td>1</td><td>2</td></tr><tr><td>O</td><td>writing</td><td>1</td><td>3</td></tr><tr><td>O</td><td>to</td><td>1</td><td>4</td></tr><tr><td>O</td><td>report</td><td>1</td><td>5</td></tr><tr><td>O</td><td>on</td><td>1</td><td>6</td></tr><tr><td>O</td><td>my</td><td>1</td><td>7</td></tr><tr><td>O</td><td>recent</td><td>1</td><td>8</td></tr><tr><td>O</td><td>surveillance</td><td>1</td><td>9</td></tr><tr><td>O</td><td>findings</td><td>1</td><td>10</td></tr><tr><td>O</td><td>regarding</td><td>1</td><td>11</td></tr><tr><td>O</td><td>illegal</td><td>1</td><td>12</td></tr><tr><td>O</td><td>activities</td><td>1</td><td>13</td></tr><tr><td>O</td><td>within</td><td>1</td><td>14</td></tr><tr><td>O</td><td>various</td><td>1</td><td>15</td></tr><tr><td>O</td><td>crime</td><td>1</td><td>16</td></tr><tr><td>O</td><td>families</td><td>1</td><td>17</td></tr><tr><td>O</td><td>.</td><td>1</td><td>18</td></tr><tr><td>B-PER</td><td>Giulia</td><td>1</td><td>19</td></tr><tr><td>I-PER</td><td>Bianchi</td><td>1</td><td>20</td></tr><tr><td>O</td><td>,</td><td>1</td><td>21</td></tr><tr><td>O</td><td>a</td><td>1</td><td>22</td></tr><tr><td>O</td><td>key</td><td>1</td><td>23</td></tr><tr><td>O</td><td>figure</td><td>1</td><td>24</td></tr><tr><td>O</td><td>in</td><td>1</td><td>25</td></tr><tr><td>O</td><td>the</td><td>1</td><td>26</td></tr><tr><td>B-ORG</td><td>Bianchi</td><td>1</td><td>27</td></tr><tr><td>O</td><td>organization</td><td>1</td><td>28</td></tr><tr><td>O</td><td>,</td><td>1</td><td>29</td></tr><tr><td>O</td><td>has</td><td>1</td><td>30</td></tr><tr><td>O</td><td>been</td><td>1</td><td>31</td></tr><tr><td>O</td><td>observed</td><td>1</td><td>32</td></tr><tr><td>O</td><td>exchanging</td><td>1</td><td>33</td></tr><tr><td>O</td><td>encrypted</td><td>1</td><td>34</td></tr><tr><td>O</td><td>messages</td><td>1</td><td>35</td></tr><tr><td>O</td><td>with</td><td>1</td><td>36</td></tr><tr><td>B-PER</td><td>Federico</td><td>1</td><td>37</td></tr><tr><td>I-PER</td><td>Romano</td><td>1</td><td>38</td></tr><tr><td>O</td><td>of</td><td>1</td><td>39</td></tr><tr><td>O</td><td>the</td><td>1</td><td>40</td></tr><tr><td>B-PER</td><td>Romano</td><td>1</td><td>41</td></tr><tr><td>O</td><td>syndicate</td><td>1</td><td>42</td></tr><tr><td>O</td><td>.</td><td>1</td><td>43</td></tr><tr><td>O</td><td>These</td><td>1</td><td>44</td></tr><tr><td>O</td><td>communications</td><td>1</td><td>45</td></tr><tr><td>O</td><td>suggest</td><td>1</td><td>46</td></tr><tr><td>O</td><td>a</td><td>1</td><td>47</td></tr><tr><td>O</td><td>potential</td><td>1</td><td>48</td></tr><tr><td>O</td><td>collaboration</td><td>1</td><td>49</td></tr><tr><td>O</td><td>between</td><td>1</td><td>50</td></tr></tbody></table></div>"
      ]
     },
     "metadata": {
      "application/vnd.databricks.v1+output": {
       "addedWidgets": {},
       "aggData": [],
       "aggError": "",
       "aggOverflow": false,
       "aggSchema": [],
       "aggSeriesLimitReached": false,
       "aggType": "",
       "arguments": {},
       "columnCustomDisplayInfos": {},
       "data": [
        [
         "O",
         "I",
         1,
         1
        ],
        [
         "O",
         "am",
         1,
         2
        ],
        [
         "O",
         "writing",
         1,
         3
        ],
        [
         "O",
         "to",
         1,
         4
        ],
        [
         "O",
         "report",
         1,
         5
        ],
        [
         "O",
         "on",
         1,
         6
        ],
        [
         "O",
         "my",
         1,
         7
        ],
        [
         "O",
         "recent",
         1,
         8
        ],
        [
         "O",
         "surveillance",
         1,
         9
        ],
        [
         "O",
         "findings",
         1,
         10
        ],
        [
         "O",
         "regarding",
         1,
         11
        ],
        [
         "O",
         "illegal",
         1,
         12
        ],
        [
         "O",
         "activities",
         1,
         13
        ],
        [
         "O",
         "within",
         1,
         14
        ],
        [
         "O",
         "various",
         1,
         15
        ],
        [
         "O",
         "crime",
         1,
         16
        ],
        [
         "O",
         "families",
         1,
         17
        ],
        [
         "O",
         ".",
         1,
         18
        ],
        [
         "B-PER",
         "Giulia",
         1,
         19
        ],
        [
         "I-PER",
         "Bianchi",
         1,
         20
        ],
        [
         "O",
         ",",
         1,
         21
        ],
        [
         "O",
         "a",
         1,
         22
        ],
        [
         "O",
         "key",
         1,
         23
        ],
        [
         "O",
         "figure",
         1,
         24
        ],
        [
         "O",
         "in",
         1,
         25
        ],
        [
         "O",
         "the",
         1,
         26
        ],
        [
         "B-ORG",
         "Bianchi",
         1,
         27
        ],
        [
         "O",
         "organization",
         1,
         28
        ],
        [
         "O",
         ",",
         1,
         29
        ],
        [
         "O",
         "has",
         1,
         30
        ],
        [
         "O",
         "been",
         1,
         31
        ],
        [
         "O",
         "observed",
         1,
         32
        ],
        [
         "O",
         "exchanging",
         1,
         33
        ],
        [
         "O",
         "encrypted",
         1,
         34
        ],
        [
         "O",
         "messages",
         1,
         35
        ],
        [
         "O",
         "with",
         1,
         36
        ],
        [
         "B-PER",
         "Federico",
         1,
         37
        ],
        [
         "I-PER",
         "Romano",
         1,
         38
        ],
        [
         "O",
         "of",
         1,
         39
        ],
        [
         "O",
         "the",
         1,
         40
        ],
        [
         "B-PER",
         "Romano",
         1,
         41
        ],
        [
         "O",
         "syndicate",
         1,
         42
        ],
        [
         "O",
         ".",
         1,
         43
        ],
        [
         "O",
         "These",
         1,
         44
        ],
        [
         "O",
         "communications",
         1,
         45
        ],
        [
         "O",
         "suggest",
         1,
         46
        ],
        [
         "O",
         "a",
         1,
         47
        ],
        [
         "O",
         "potential",
         1,
         48
        ],
        [
         "O",
         "collaboration",
         1,
         49
        ],
        [
         "O",
         "between",
         1,
         50
        ]
       ],
       "datasetInfos": [],
       "dbfsResultPath": null,
       "isJsonSchema": true,
       "metadata": {},
       "overflow": false,
       "plotOptions": {
        "customPlotOptions": {},
        "displayType": "table",
        "pivotAggregation": null,
        "pivotColumns": null,
        "xColumns": null,
        "yColumns": null
       },
       "removedWidgets": [],
       "schema": [
        {
         "metadata": "{}",
         "name": "result",
         "type": "\"string\""
        },
        {
         "metadata": "{}",
         "name": "metadata",
         "type": "\"string\""
        },
        {
         "metadata": "{}",
         "name": "report_id",
         "type": "\"integer\""
        },
        {
         "metadata": "{}",
         "name": "row_number",
         "type": "\"integer\""
        }
       ],
       "type": "table"
      }
     },
     "output_type": "display_data"
    }
   ],
   "source": [
    "reports_parsed.limit(50).display()"
   ]
  },
  {
   "cell_type": "markdown",
   "metadata": {
    "application/vnd.databricks.v1+cell": {
     "cellMetadata": {
      "byteLimit": 2048000,
      "rowLimit": 10000
     },
     "inputWidgets": {},
     "nuid": "64615088-9a40-4aa9-8f2c-45ef630be805",
     "showTitle": false,
     "title": ""
    }
   },
   "source": [
    "We know that our agent always spells out the full name of the persons he follows (how convenient!). This allows us to do a clever join to get the people's full name: We join the DataFrame onto itself on the newly created variable ``row_number``, where the left side corresponds to the first name and the right side to the last name. Since we know the ordering we have as the join key (``row_number``, ``row_number - 1``)."
   ]
  },
  {
   "cell_type": "code",
   "execution_count": 0,
   "metadata": {
    "application/vnd.databricks.v1+cell": {
     "cellMetadata": {
      "byteLimit": 2048000,
      "rowLimit": 10000
     },
     "inputWidgets": {},
     "nuid": "fa9109f9-9333-42e4-abbd-c1d387a0fad9",
     "showTitle": false,
     "title": ""
    }
   },
   "outputs": [
    {
     "output_type": "display_data",
     "data": {
      "text/html": [
       "<style scoped>\n",
       "  .table-result-container {\n",
       "    max-height: 300px;\n",
       "    overflow: auto;\n",
       "  }\n",
       "  table, th, td {\n",
       "    border: 1px solid black;\n",
       "    border-collapse: collapse;\n",
       "  }\n",
       "  th, td {\n",
       "    padding: 5px;\n",
       "  }\n",
       "  th {\n",
       "    text-align: left;\n",
       "  }\n",
       "</style><div class='table-result-container'><table class='table-result'><thead style='background-color: white'><tr><th>result</th><th>First Name</th><th>report_id</th><th>row_number</th><th>result</th><th>Last Name</th><th>report_id</th><th>row_number</th></tr></thead><tbody><tr><td>B-PER</td><td>Giulia</td><td>1</td><td>19</td><td>I-PER</td><td>Bianchi</td><td>1</td><td>20</td></tr><tr><td>B-PER</td><td>Federico</td><td>1</td><td>37</td><td>I-PER</td><td>Romano</td><td>1</td><td>38</td></tr><tr><td>B-PER</td><td>Elena</td><td>1</td><td>65</td><td>I-PER</td><td>Conti</td><td>1</td><td>66</td></tr><tr><td>B-PER</td><td>Francesco</td><td>1</td><td>73</td><td>I-PER</td><td>Ricci</td><td>1</td><td>74</td></tr><tr><td>B-PER</td><td>Luca</td><td>1</td><td>113</td><td>I-PER</td><td>Moretti</td><td>1</td><td>114</td></tr><tr><td>B-PER</td><td>Giuseppe</td><td>1</td><td>139</td><td>I-PER</td><td>Rossi</td><td>1</td><td>140</td></tr><tr><td>B-PER</td><td>Carlo</td><td>2</td><td>280</td><td>I-PER</td><td>Romano</td><td>2</td><td>281</td></tr><tr><td>B-PER</td><td>Giovanni</td><td>2</td><td>308</td><td>I-PER</td><td>Moretti</td><td>2</td><td>309</td></tr><tr><td>B-PER</td><td>Francesca</td><td>2</td><td>315</td><td>I-PER</td><td>Marini</td><td>2</td><td>316</td></tr><tr><td>B-PER</td><td>Giuseppe</td><td>3</td><td>394</td><td>I-PER</td><td>Rossi</td><td>3</td><td>395</td></tr><tr><td>B-PER</td><td>Marco</td><td>3</td><td>409</td><td>I-PER</td><td>Bianchi</td><td>3</td><td>410</td></tr><tr><td>B-PER</td><td>Francesco</td><td>3</td><td>437</td><td>I-PER</td><td>Ricci</td><td>3</td><td>438</td></tr><tr><td>B-PER</td><td>Teresa</td><td>3</td><td>445</td><td>I-PER</td><td>Marini</td><td>3</td><td>446</td></tr><tr><td>B-PER</td><td>Giuseppe</td><td>4</td><td>514</td><td>I-PER</td><td>Rossi</td><td>4</td><td>515</td></tr><tr><td>B-PER</td><td>Marco</td><td>4</td><td>529</td><td>I-PER</td><td>Bianchi</td><td>4</td><td>530</td></tr><tr><td>B-PER</td><td>Francesco</td><td>4</td><td>557</td><td>I-PER</td><td>Ricci</td><td>4</td><td>558</td></tr><tr><td>B-PER</td><td>Teresa</td><td>4</td><td>565</td><td>I-PER</td><td>Marini</td><td>4</td><td>566</td></tr><tr><td>B-PER</td><td>Rossi</td><td>4</td><td>628</td><td>I-PER</td><td>Family</td><td>4</td><td>629</td></tr><tr><td>B-PER</td><td>Giulia</td><td>5</td><td>656</td><td>I-PER</td><td>Bianchi</td><td>5</td><td>657</td></tr><tr><td>B-PER</td><td>Federico</td><td>5</td><td>674</td><td>I-PER</td><td>Romano</td><td>5</td><td>675</td></tr><tr><td>B-PER</td><td>Elena</td><td>5</td><td>702</td><td>I-PER</td><td>Conti</td><td>5</td><td>703</td></tr><tr><td>B-PER</td><td>Francesco</td><td>5</td><td>710</td><td>I-PER</td><td>Ricci</td><td>5</td><td>711</td></tr><tr><td>B-PER</td><td>Francesco</td><td>6</td><td>778</td><td>I-PER</td><td>Ricci</td><td>6</td><td>779</td></tr><tr><td>B-PER</td><td>Paolo</td><td>6</td><td>786</td><td>I-PER</td><td>Conti</td><td>6</td><td>787</td></tr><tr><td>B-PER</td><td>Giuliana</td><td>6</td><td>818</td><td>I-PER</td><td>Conti</td><td>6</td><td>819</td></tr><tr><td>B-PER</td><td>Giovanni</td><td>6</td><td>825</td><td>I-PER</td><td>Moretti</td><td>6</td><td>826</td></tr><tr><td>B-PER</td><td>Antonio</td><td>7</td><td>898</td><td>I-PER</td><td>Rossi</td><td>7</td><td>899</td></tr><tr><td>B-PER</td><td>Chiara</td><td>7</td><td>906</td><td>I-PER</td><td>Ricci</td><td>7</td><td>907</td></tr><tr><td>B-PER</td><td>Luca</td><td>7</td><td>936</td><td>I-PER</td><td>Bianchi</td><td>7</td><td>937</td></tr><tr><td>B-PER</td><td>Martina</td><td>7</td><td>943</td><td>I-PER</td><td>Romano</td><td>7</td><td>944</td></tr></tbody></table></div>"
      ]
     },
     "metadata": {
      "application/vnd.databricks.v1+output": {
       "addedWidgets": {},
       "aggData": [],
       "aggError": "",
       "aggOverflow": false,
       "aggSchema": [],
       "aggSeriesLimitReached": false,
       "aggType": "",
       "arguments": {},
       "columnCustomDisplayInfos": {},
       "data": [
        [
         "B-PER",
         "Giulia",
         1,
         19,
         "I-PER",
         "Bianchi",
         1,
         20
        ],
        [
         "B-PER",
         "Federico",
         1,
         37,
         "I-PER",
         "Romano",
         1,
         38
        ],
        [
         "B-PER",
         "Elena",
         1,
         65,
         "I-PER",
         "Conti",
         1,
         66
        ],
        [
         "B-PER",
         "Francesco",
         1,
         73,
         "I-PER",
         "Ricci",
         1,
         74
        ],
        [
         "B-PER",
         "Luca",
         1,
         113,
         "I-PER",
         "Moretti",
         1,
         114
        ],
        [
         "B-PER",
         "Giuseppe",
         1,
         139,
         "I-PER",
         "Rossi",
         1,
         140
        ],
        [
         "B-PER",
         "Carlo",
         2,
         280,
         "I-PER",
         "Romano",
         2,
         281
        ],
        [
         "B-PER",
         "Giovanni",
         2,
         308,
         "I-PER",
         "Moretti",
         2,
         309
        ],
        [
         "B-PER",
         "Francesca",
         2,
         315,
         "I-PER",
         "Marini",
         2,
         316
        ],
        [
         "B-PER",
         "Giuseppe",
         3,
         394,
         "I-PER",
         "Rossi",
         3,
         395
        ],
        [
         "B-PER",
         "Marco",
         3,
         409,
         "I-PER",
         "Bianchi",
         3,
         410
        ],
        [
         "B-PER",
         "Francesco",
         3,
         437,
         "I-PER",
         "Ricci",
         3,
         438
        ],
        [
         "B-PER",
         "Teresa",
         3,
         445,
         "I-PER",
         "Marini",
         3,
         446
        ],
        [
         "B-PER",
         "Giuseppe",
         4,
         514,
         "I-PER",
         "Rossi",
         4,
         515
        ],
        [
         "B-PER",
         "Marco",
         4,
         529,
         "I-PER",
         "Bianchi",
         4,
         530
        ],
        [
         "B-PER",
         "Francesco",
         4,
         557,
         "I-PER",
         "Ricci",
         4,
         558
        ],
        [
         "B-PER",
         "Teresa",
         4,
         565,
         "I-PER",
         "Marini",
         4,
         566
        ],
        [
         "B-PER",
         "Rossi",
         4,
         628,
         "I-PER",
         "Family",
         4,
         629
        ],
        [
         "B-PER",
         "Giulia",
         5,
         656,
         "I-PER",
         "Bianchi",
         5,
         657
        ],
        [
         "B-PER",
         "Federico",
         5,
         674,
         "I-PER",
         "Romano",
         5,
         675
        ],
        [
         "B-PER",
         "Elena",
         5,
         702,
         "I-PER",
         "Conti",
         5,
         703
        ],
        [
         "B-PER",
         "Francesco",
         5,
         710,
         "I-PER",
         "Ricci",
         5,
         711
        ],
        [
         "B-PER",
         "Francesco",
         6,
         778,
         "I-PER",
         "Ricci",
         6,
         779
        ],
        [
         "B-PER",
         "Paolo",
         6,
         786,
         "I-PER",
         "Conti",
         6,
         787
        ],
        [
         "B-PER",
         "Giuliana",
         6,
         818,
         "I-PER",
         "Conti",
         6,
         819
        ],
        [
         "B-PER",
         "Giovanni",
         6,
         825,
         "I-PER",
         "Moretti",
         6,
         826
        ],
        [
         "B-PER",
         "Antonio",
         7,
         898,
         "I-PER",
         "Rossi",
         7,
         899
        ],
        [
         "B-PER",
         "Chiara",
         7,
         906,
         "I-PER",
         "Ricci",
         7,
         907
        ],
        [
         "B-PER",
         "Luca",
         7,
         936,
         "I-PER",
         "Bianchi",
         7,
         937
        ],
        [
         "B-PER",
         "Martina",
         7,
         943,
         "I-PER",
         "Romano",
         7,
         944
        ]
       ],
       "datasetInfos": [],
       "dbfsResultPath": null,
       "isJsonSchema": true,
       "metadata": {},
       "overflow": false,
       "plotOptions": {
        "customPlotOptions": {},
        "displayType": "table",
        "pivotAggregation": null,
        "pivotColumns": null,
        "xColumns": null,
        "yColumns": null
       },
       "removedWidgets": [],
       "schema": [
        {
         "metadata": "{}",
         "name": "result",
         "type": "\"string\""
        },
        {
         "metadata": "{}",
         "name": "First Name",
         "type": "\"string\""
        },
        {
         "metadata": "{}",
         "name": "report_id",
         "type": "\"integer\""
        },
        {
         "metadata": "{}",
         "name": "row_number",
         "type": "\"integer\""
        },
        {
         "metadata": "{}",
         "name": "result",
         "type": "\"string\""
        },
        {
         "metadata": "{}",
         "name": "Last Name",
         "type": "\"string\""
        },
        {
         "metadata": "{}",
         "name": "report_id",
         "type": "\"integer\""
        },
        {
         "metadata": "{}",
         "name": "row_number",
         "type": "\"integer\""
        }
       ],
       "type": "table"
      }
     },
     "output_type": "display_data"
    }
   ],
   "source": [
    "sub_network = reports_parsed.alias(\"df1\").withColumnRenamed(\"metadata\", \"First Name\").join(\n",
    "    reports_parsed.alias(\"df2\").withColumnRenamed(\"metadata\", \"Last Name\"),\n",
    "    (F.col(\"df1.row_number\") == F.col(\"df2.row_number\") - 1) & \n",
    "    (F.col(\"df1.result\") == \"B-PER\") & \n",
    "    (F.col(\"df2.result\") == \"I-PER\"),\n",
    "    \"inner\"\n",
    ")\n",
    "\n",
    "display(sub_network)"
   ]
  },
  {
   "cell_type": "markdown",
   "metadata": {
    "application/vnd.databricks.v1+cell": {
     "cellMetadata": {
      "byteLimit": 2048000,
      "rowLimit": 10000
     },
     "inputWidgets": {},
     "nuid": "5f953b61-81ec-485c-8137-b07add0477b7",
     "showTitle": false,
     "title": ""
    }
   },
   "source": [
    "We have now extracted a subnet of the overall Mafia network. Our tasks are now two-fold:\n",
    "\n",
    "1. Which is the individual with the highest influence within the sub-network (based on each relation type)?\n",
    "2. Which is the individual with the highest influence within the overall network (based on each relation type)?\n",
    "\n",
    "Both of these question can be answered using network analysis!"
   ]
  },
  {
   "cell_type": "code",
   "execution_count": 0,
   "metadata": {
    "application/vnd.databricks.v1+cell": {
     "cellMetadata": {
      "byteLimit": 2048000,
      "rowLimit": 10000
     },
     "inputWidgets": {},
     "nuid": "cad213ed-289c-4828-b57e-dafdc406ee05",
     "showTitle": false,
     "title": ""
    }
   },
   "outputs": [],
   "source": [
    "from graphframes import * \n",
    "\n",
    "nodes = spark.read.csv(\"dbfs:/FileStore/mafia_nodes.csv\", header=True)\n",
    "edges = spark.read.csv(\"dbfs:/FileStore/mafia_edges.csv\", header=True)\n"
   ]
  },
  {
   "cell_type": "markdown",
   "metadata": {
    "application/vnd.databricks.v1+cell": {
     "cellMetadata": {
      "byteLimit": 2048000,
      "rowLimit": 10000
     },
     "inputWidgets": {},
     "nuid": "eacf1f2d-8fcb-431a-b72f-e050339c943d",
     "showTitle": false,
     "title": ""
    }
   },
   "source": [
    "We will create an index column for the relation types."
   ]
  },
  {
   "cell_type": "code",
   "execution_count": 0,
   "metadata": {
    "application/vnd.databricks.v1+cell": {
     "cellMetadata": {
      "byteLimit": 2048000,
      "rowLimit": 10000
     },
     "inputWidgets": {},
     "nuid": "1f38d436-6261-4b1f-bb1d-a071237de493",
     "showTitle": false,
     "title": ""
    }
   },
   "outputs": [
    {
     "output_type": "display_data",
     "data": {
      "text/html": [
       "<style scoped>\n",
       "  .table-result-container {\n",
       "    max-height: 300px;\n",
       "    overflow: auto;\n",
       "  }\n",
       "  table, th, td {\n",
       "    border: 1px solid black;\n",
       "    border-collapse: collapse;\n",
       "  }\n",
       "  th, td {\n",
       "    padding: 5px;\n",
       "  }\n",
       "  th {\n",
       "    text-align: left;\n",
       "  }\n",
       "</style><div class='table-result-container'><table class='table-result'><thead style='background-color: white'><tr><th>src</th><th>dst</th><th>relation_type</th><th>weight</th><th>relation_type_index</th></tr></thead><tbody><tr><td>1</td><td>2</td><td>Asked for Meeting With</td><td>1</td><td>1</td></tr><tr><td>3</td><td>4</td><td>Asked for Meeting With</td><td>2</td><td>1</td></tr><tr><td>4</td><td>1</td><td>Asked for Meeting With</td><td>1</td><td>1</td></tr><tr><td>5</td><td>6</td><td>Asked for Meeting With</td><td>1</td><td>1</td></tr><tr><td>5</td><td>7</td><td>Asked for Meeting With</td><td>1</td><td>1</td></tr><tr><td>6</td><td>5</td><td>Asked for Meeting With</td><td>2</td><td>1</td></tr><tr><td>7</td><td>5</td><td>Asked for Meeting With</td><td>1</td><td>1</td></tr><tr><td>8</td><td>7</td><td>Asked for Meeting With</td><td>1</td><td>1</td></tr><tr><td>9</td><td>12</td><td>Asked for Meeting With</td><td>1</td><td>1</td></tr><tr><td>11</td><td>12</td><td>Asked for Meeting With</td><td>2</td><td>1</td></tr><tr><td>12</td><td>9</td><td>Asked for Meeting With</td><td>1</td><td>1</td></tr><tr><td>13</td><td>15</td><td>Asked for Meeting With</td><td>2</td><td>1</td></tr><tr><td>13</td><td>16</td><td>Asked for Meeting With</td><td>1</td><td>1</td></tr><tr><td>14</td><td>13</td><td>Asked for Meeting With</td><td>1</td><td>1</td></tr><tr><td>15</td><td>13</td><td>Asked for Meeting With</td><td>1</td><td>1</td></tr><tr><td>15</td><td>14</td><td>Asked for Meeting With</td><td>1</td><td>1</td></tr><tr><td>16</td><td>13</td><td>Asked for Meeting With</td><td>1</td><td>1</td></tr><tr><td>17</td><td>18</td><td>Asked for Meeting With</td><td>1</td><td>1</td></tr><tr><td>17</td><td>19</td><td>Asked for Meeting With</td><td>1</td><td>1</td></tr><tr><td>18</td><td>17</td><td>Asked for Meeting With</td><td>2</td><td>1</td></tr><tr><td>18</td><td>20</td><td>Asked for Meeting With</td><td>1</td><td>1</td></tr><tr><td>19</td><td>17</td><td>Asked for Meeting With</td><td>1</td><td>1</td></tr><tr><td>19</td><td>20</td><td>Asked for Meeting With</td><td>2</td><td>1</td></tr><tr><td>20</td><td>18</td><td>Asked for Meeting With</td><td>1</td><td>1</td></tr><tr><td>20</td><td>19</td><td>Asked for Meeting With</td><td>1</td><td>1</td></tr><tr><td>21</td><td>23</td><td>Asked for Meeting With</td><td>1</td><td>1</td></tr><tr><td>21</td><td>24</td><td>Asked for Meeting With</td><td>1</td><td>1</td></tr><tr><td>22</td><td>21</td><td>Asked for Meeting With</td><td>2</td><td>1</td></tr><tr><td>23</td><td>21</td><td>Asked for Meeting With</td><td>1</td><td>1</td></tr><tr><td>23</td><td>22</td><td>Asked for Meeting With</td><td>1</td><td>1</td></tr><tr><td>24</td><td>21</td><td>Asked for Meeting With</td><td>1</td><td>1</td></tr><tr><td>24</td><td>22</td><td>Asked for Meeting With</td><td>2</td><td>1</td></tr><tr><td>25</td><td>26</td><td>Asked for Meeting With</td><td>1</td><td>1</td></tr><tr><td>25</td><td>27</td><td>Asked for Meeting With</td><td>1</td><td>1</td></tr><tr><td>26</td><td>25</td><td>Asked for Meeting With</td><td>2</td><td>1</td></tr><tr><td>27</td><td>25</td><td>Asked for Meeting With</td><td>1</td><td>1</td></tr><tr><td>27</td><td>26</td><td>Asked for Meeting With</td><td>1</td><td>1</td></tr><tr><td>28</td><td>27</td><td>Asked for Meeting With</td><td>1</td><td>1</td></tr><tr><td>29</td><td>30</td><td>Asked for Meeting With</td><td>1</td><td>1</td></tr><tr><td>29</td><td>32</td><td>Asked for Meeting With</td><td>1</td><td>1</td></tr><tr><td>31</td><td>32</td><td>Asked for Meeting With</td><td>2</td><td>1</td></tr><tr><td>32</td><td>29</td><td>Asked for Meeting With</td><td>1</td><td>1</td></tr><tr><td>33</td><td>34</td><td>Asked for Meeting With</td><td>1</td><td>1</td></tr><tr><td>33</td><td>35</td><td>Asked for Meeting With</td><td>1</td><td>1</td></tr><tr><td>33</td><td>36</td><td>Asked for Meeting With</td><td>1</td><td>1</td></tr><tr><td>34</td><td>33</td><td>Asked for Meeting With</td><td>2</td><td>1</td></tr><tr><td>35</td><td>33</td><td>Asked for Meeting With</td><td>1</td><td>1</td></tr><tr><td>35</td><td>34</td><td>Asked for Meeting With</td><td>1</td><td>1</td></tr><tr><td>35</td><td>36</td><td>Asked for Meeting With</td><td>2</td><td>1</td></tr><tr><td>36</td><td>33</td><td>Asked for Meeting With</td><td>1</td><td>1</td></tr><tr><td>36</td><td>35</td><td>Asked for Meeting With</td><td>1</td><td>1</td></tr><tr><td>37</td><td>38</td><td>Asked for Meeting With</td><td>1</td><td>1</td></tr><tr><td>37</td><td>39</td><td>Asked for Meeting With</td><td>1</td><td>1</td></tr><tr><td>38</td><td>37</td><td>Asked for Meeting With</td><td>2</td><td>1</td></tr><tr><td>38</td><td>39</td><td>Asked for Meeting With</td><td>1</td><td>1</td></tr><tr><td>39</td><td>37</td><td>Asked for Meeting With</td><td>1</td><td>1</td></tr><tr><td>39</td><td>38</td><td>Asked for Meeting With</td><td>1</td><td>1</td></tr><tr><td>39</td><td>40</td><td>Asked for Meeting With</td><td>2</td><td>1</td></tr><tr><td>40</td><td>37</td><td>Asked for Meeting With</td><td>1</td><td>1</td></tr><tr><td>41</td><td>42</td><td>Asked for Meeting With</td><td>1</td><td>1</td></tr><tr><td>41</td><td>43</td><td>Asked for Meeting With</td><td>1</td><td>1</td></tr><tr><td>41</td><td>44</td><td>Asked for Meeting With</td><td>1</td><td>1</td></tr><tr><td>42</td><td>41</td><td>Asked for Meeting With</td><td>2</td><td>1</td></tr><tr><td>43</td><td>41</td><td>Asked for Meeting With</td><td>1</td><td>1</td></tr><tr><td>43</td><td>42</td><td>Asked for Meeting With</td><td>1</td><td>1</td></tr><tr><td>43</td><td>44</td><td>Asked for Meeting With</td><td>2</td><td>1</td></tr><tr><td>44</td><td>41</td><td>Asked for Meeting With</td><td>1</td><td>1</td></tr><tr><td>44</td><td>42</td><td>Asked for Meeting With</td><td>1</td><td>1</td></tr><tr><td>45</td><td>46</td><td>Asked for Meeting With</td><td>1</td><td>1</td></tr><tr><td>45</td><td>47</td><td>Asked for Meeting With</td><td>1</td><td>1</td></tr><tr><td>46</td><td>45</td><td>Asked for Meeting With</td><td>2</td><td>1</td></tr><tr><td>46</td><td>47</td><td>Asked for Meeting With</td><td>1</td><td>1</td></tr><tr><td>47</td><td>45</td><td>Asked for Meeting With</td><td>1</td><td>1</td></tr><tr><td>47</td><td>46</td><td>Asked for Meeting With</td><td>1</td><td>1</td></tr><tr><td>47</td><td>48</td><td>Asked for Meeting With</td><td>2</td><td>1</td></tr><tr><td>48</td><td>46</td><td>Asked for Meeting With</td><td>1</td><td>1</td></tr><tr><td>48</td><td>47</td><td>Asked for Meeting With</td><td>1</td><td>1</td></tr><tr><td>49</td><td>50</td><td>Asked for Meeting With</td><td>1</td><td>1</td></tr><tr><td>49</td><td>51</td><td>Asked for Meeting With</td><td>1</td><td>1</td></tr><tr><td>49</td><td>52</td><td>Asked for Meeting With</td><td>1</td><td>1</td></tr><tr><td>50</td><td>49</td><td>Asked for Meeting With</td><td>2</td><td>1</td></tr><tr><td>51</td><td>49</td><td>Asked for Meeting With</td><td>1</td><td>1</td></tr><tr><td>51</td><td>50</td><td>Asked for Meeting With</td><td>1</td><td>1</td></tr><tr><td>51</td><td>52</td><td>Asked for Meeting With</td><td>2</td><td>1</td></tr><tr><td>52</td><td>49</td><td>Asked for Meeting With</td><td>1</td><td>1</td></tr><tr><td>52</td><td>51</td><td>Asked for Meeting With</td><td>1</td><td>1</td></tr><tr><td>52</td><td>50</td><td>Asked for Meeting With</td><td>1</td><td>1</td></tr><tr><td>53</td><td>54</td><td>Asked for Meeting With</td><td>1</td><td>1</td></tr><tr><td>53</td><td>55</td><td>Asked for Meeting With</td><td>1</td><td>1</td></tr><tr><td>53</td><td>56</td><td>Asked for Meeting With</td><td>1</td><td>1</td></tr><tr><td>54</td><td>53</td><td>Asked for Meeting With</td><td>2</td><td>1</td></tr><tr><td>55</td><td>53</td><td>Asked for Meeting With</td><td>1</td><td>1</td></tr><tr><td>55</td><td>54</td><td>Asked for Meeting With</td><td>1</td><td>1</td></tr><tr><td>55</td><td>56</td><td>Asked for Meeting With</td><td>2</td><td>1</td></tr><tr><td>56</td><td>53</td><td>Asked for Meeting With</td><td>1</td><td>1</td></tr><tr><td>56</td><td>55</td><td>Asked for Meeting With</td><td>1</td><td>1</td></tr><tr><td>9</td><td>13</td><td>Asked for Meeting With</td><td>1</td><td>1</td></tr><tr><td>9</td><td>17</td><td>Asked for Meeting With</td><td>2</td><td>1</td></tr><tr><td>9</td><td>21</td><td>Asked for Meeting With</td><td>1</td><td>1</td></tr><tr><td>9</td><td>25</td><td>Asked for Meeting With</td><td>2</td><td>1</td></tr><tr><td>9</td><td>29</td><td>Asked for Meeting With</td><td>1</td><td>1</td></tr><tr><td>9</td><td>33</td><td>Asked for Meeting With</td><td>2</td><td>1</td></tr><tr><td>9</td><td>37</td><td>Asked for Meeting With</td><td>1</td><td>1</td></tr><tr><td>9</td><td>41</td><td>Asked for Meeting With</td><td>2</td><td>1</td></tr><tr><td>9</td><td>45</td><td>Asked for Meeting With</td><td>1</td><td>1</td></tr><tr><td>9</td><td>49</td><td>Asked for Meeting With</td><td>2</td><td>1</td></tr><tr><td>9</td><td>53</td><td>Asked for Meeting With</td><td>1</td><td>1</td></tr><tr><td>10</td><td>14</td><td>Asked for Meeting With</td><td>1</td><td>1</td></tr><tr><td>10</td><td>18</td><td>Asked for Meeting With</td><td>2</td><td>1</td></tr><tr><td>10</td><td>22</td><td>Asked for Meeting With</td><td>1</td><td>1</td></tr><tr><td>10</td><td>26</td><td>Asked for Meeting With</td><td>2</td><td>1</td></tr><tr><td>10</td><td>30</td><td>Asked for Meeting With</td><td>1</td><td>1</td></tr><tr><td>10</td><td>34</td><td>Asked for Meeting With</td><td>2</td><td>1</td></tr><tr><td>10</td><td>38</td><td>Asked for Meeting With</td><td>1</td><td>1</td></tr><tr><td>10</td><td>42</td><td>Asked for Meeting With</td><td>2</td><td>1</td></tr><tr><td>10</td><td>46</td><td>Asked for Meeting With</td><td>1</td><td>1</td></tr><tr><td>10</td><td>50</td><td>Asked for Meeting With</td><td>2</td><td>1</td></tr><tr><td>10</td><td>54</td><td>Asked for Meeting With</td><td>1</td><td>1</td></tr><tr><td>11</td><td>15</td><td>Asked for Meeting With</td><td>1</td><td>1</td></tr><tr><td>11</td><td>19</td><td>Asked for Meeting With</td><td>2</td><td>1</td></tr><tr><td>11</td><td>23</td><td>Asked for Meeting With</td><td>1</td><td>1</td></tr><tr><td>11</td><td>27</td><td>Asked for Meeting With</td><td>2</td><td>1</td></tr><tr><td>11</td><td>31</td><td>Asked for Meeting With</td><td>1</td><td>1</td></tr><tr><td>11</td><td>35</td><td>Asked for Meeting With</td><td>2</td><td>1</td></tr><tr><td>11</td><td>39</td><td>Asked for Meeting With</td><td>1</td><td>1</td></tr><tr><td>11</td><td>43</td><td>Asked for Meeting With</td><td>2</td><td>1</td></tr><tr><td>11</td><td>47</td><td>Asked for Meeting With</td><td>1</td><td>1</td></tr><tr><td>11</td><td>51</td><td>Asked for Meeting With</td><td>2</td><td>1</td></tr><tr><td>11</td><td>55</td><td>Asked for Meeting With</td><td>1</td><td>1</td></tr><tr><td>12</td><td>16</td><td>Asked for Meeting With</td><td>1</td><td>1</td></tr><tr><td>12</td><td>20</td><td>Asked for Meeting With</td><td>2</td><td>1</td></tr><tr><td>12</td><td>24</td><td>Asked for Meeting With</td><td>1</td><td>1</td></tr><tr><td>12</td><td>28</td><td>Asked for Meeting With</td><td>2</td><td>1</td></tr><tr><td>12</td><td>32</td><td>Asked for Meeting With</td><td>1</td><td>1</td></tr><tr><td>12</td><td>36</td><td>Asked for Meeting With</td><td>2</td><td>1</td></tr><tr><td>12</td><td>40</td><td>Asked for Meeting With</td><td>1</td><td>1</td></tr><tr><td>12</td><td>44</td><td>Asked for Meeting With</td><td>2</td><td>1</td></tr><tr><td>12</td><td>48</td><td>Asked for Meeting With</td><td>1</td><td>1</td></tr><tr><td>12</td><td>52</td><td>Asked for Meeting With</td><td>2</td><td>1</td></tr><tr><td>12</td><td>56</td><td>Asked for Meeting With</td><td>1</td><td>1</td></tr><tr><td>13</td><td>25</td><td>Asked for Meeting With</td><td>3</td><td>1</td></tr><tr><td>13</td><td>37</td><td>Asked for Meeting With</td><td>2</td><td>1</td></tr><tr><td>13</td><td>49</td><td>Asked for Meeting With</td><td>2</td><td>1</td></tr><tr><td>1</td><td>3</td><td>Called</td><td>2</td><td>2</td></tr><tr><td>3</td><td>2</td><td>Called</td><td>3</td><td>2</td></tr><tr><td>6</td><td>8</td><td>Called</td><td>1</td><td>2</td></tr><tr><td>7</td><td>8</td><td>Called</td><td>2</td><td>2</td></tr><tr><td>8</td><td>6</td><td>Called</td><td>2</td><td>2</td></tr><tr><td>9</td><td>11</td><td>Called</td><td>2</td><td>2</td></tr><tr><td>11</td><td>9</td><td>Called</td><td>3</td><td>2</td></tr><tr><td>14</td><td>15</td><td>Called</td><td>1</td><td>2</td></tr><tr><td>15</td><td>16</td><td>Called</td><td>2</td><td>2</td></tr><tr><td>16</td><td>15</td><td>Called</td><td>1</td><td>2</td></tr><tr><td>21</td><td>22</td><td>Called</td><td>2</td><td>2</td></tr><tr><td>25</td><td>28</td><td>Called</td><td>1</td><td>2</td></tr><tr><td>26</td><td>27</td><td>Called</td><td>1</td><td>2</td></tr><tr><td>27</td><td>28</td><td>Called</td><td>2</td><td>2</td></tr><tr><td>28</td><td>25</td><td>Called</td><td>1</td><td>2</td></tr><tr><td>29</td><td>31</td><td>Called</td><td>2</td><td>2</td></tr><tr><td>31</td><td>29</td><td>Called</td><td>3</td><td>2</td></tr><tr><td>37</td><td>40</td><td>Called</td><td>1</td><td>2</td></tr><tr><td>40</td><td>38</td><td>Called</td><td>1</td><td>2</td></tr><tr><td>45</td><td>48</td><td>Called</td><td>1</td><td>2</td></tr><tr><td>48</td><td>45</td><td>Called</td><td>1</td><td>2</td></tr><tr><td>50</td><td>51</td><td>Called</td><td>1</td><td>2</td></tr><tr><td>5</td><td>9</td><td>Called</td><td>2</td><td>2</td></tr><tr><td>5</td><td>13</td><td>Called</td><td>1</td><td>2</td></tr><tr><td>5</td><td>17</td><td>Called</td><td>2</td><td>2</td></tr><tr><td>5</td><td>21</td><td>Called</td><td>1</td><td>2</td></tr><tr><td>5</td><td>25</td><td>Called</td><td>2</td><td>2</td></tr><tr><td>5</td><td>29</td><td>Called</td><td>1</td><td>2</td></tr><tr><td>5</td><td>33</td><td>Called</td><td>2</td><td>2</td></tr><tr><td>5</td><td>37</td><td>Called</td><td>1</td><td>2</td></tr><tr><td>5</td><td>41</td><td>Called</td><td>2</td><td>2</td></tr><tr><td>5</td><td>45</td><td>Called</td><td>1</td><td>2</td></tr><tr><td>5</td><td>49</td><td>Called</td><td>2</td><td>2</td></tr><tr><td>5</td><td>53</td><td>Called</td><td>1</td><td>2</td></tr><tr><td>6</td><td>10</td><td>Called</td><td>2</td><td>2</td></tr><tr><td>6</td><td>14</td><td>Called</td><td>1</td><td>2</td></tr><tr><td>6</td><td>18</td><td>Called</td><td>2</td><td>2</td></tr><tr><td>6</td><td>22</td><td>Called</td><td>1</td><td>2</td></tr><tr><td>6</td><td>26</td><td>Called</td><td>2</td><td>2</td></tr><tr><td>6</td><td>30</td><td>Called</td><td>1</td><td>2</td></tr><tr><td>6</td><td>34</td><td>Called</td><td>2</td><td>2</td></tr><tr><td>6</td><td>38</td><td>Called</td><td>1</td><td>2</td></tr><tr><td>6</td><td>42</td><td>Called</td><td>2</td><td>2</td></tr><tr><td>6</td><td>46</td><td>Called</td><td>1</td><td>2</td></tr><tr><td>6</td><td>50</td><td>Called</td><td>2</td><td>2</td></tr><tr><td>6</td><td>54</td><td>Called</td><td>1</td><td>2</td></tr><tr><td>7</td><td>11</td><td>Called</td><td>2</td><td>2</td></tr><tr><td>7</td><td>15</td><td>Called</td><td>1</td><td>2</td></tr><tr><td>7</td><td>19</td><td>Called</td><td>2</td><td>2</td></tr><tr><td>7</td><td>23</td><td>Called</td><td>1</td><td>2</td></tr><tr><td>7</td><td>27</td><td>Called</td><td>2</td><td>2</td></tr><tr><td>7</td><td>31</td><td>Called</td><td>1</td><td>2</td></tr><tr><td>7</td><td>35</td><td>Called</td><td>2</td><td>2</td></tr><tr><td>7</td><td>39</td><td>Called</td><td>1</td><td>2</td></tr><tr><td>7</td><td>43</td><td>Called</td><td>2</td><td>2</td></tr><tr><td>7</td><td>47</td><td>Called</td><td>1</td><td>2</td></tr><tr><td>7</td><td>51</td><td>Called</td><td>2</td><td>2</td></tr><tr><td>7</td><td>55</td><td>Called</td><td>1</td><td>2</td></tr><tr><td>8</td><td>12</td><td>Called</td><td>2</td><td>2</td></tr><tr><td>8</td><td>16</td><td>Called</td><td>1</td><td>2</td></tr><tr><td>8</td><td>20</td><td>Called</td><td>2</td><td>2</td></tr><tr><td>8</td><td>24</td><td>Called</td><td>1</td><td>2</td></tr><tr><td>8</td><td>28</td><td>Called</td><td>2</td><td>2</td></tr><tr><td>8</td><td>32</td><td>Called</td><td>1</td><td>2</td></tr><tr><td>8</td><td>36</td><td>Called</td><td>2</td><td>2</td></tr><tr><td>8</td><td>40</td><td>Called</td><td>1</td><td>2</td></tr><tr><td>8</td><td>44</td><td>Called</td><td>2</td><td>2</td></tr><tr><td>8</td><td>48</td><td>Called</td><td>1</td><td>2</td></tr><tr><td>8</td><td>52</td><td>Called</td><td>2</td><td>2</td></tr><tr><td>8</td><td>56</td><td>Called</td><td>1</td><td>2</td></tr><tr><td>13</td><td>29</td><td>Called</td><td>2</td><td>2</td></tr><tr><td>13</td><td>41</td><td>Called</td><td>1</td><td>2</td></tr><tr><td>13</td><td>53</td><td>Called</td><td>1</td><td>2</td></tr><tr><td>1</td><td>4</td><td>Sent Money</td><td>1</td><td>3</td></tr><tr><td>9</td><td>10</td><td>Sent Money</td><td>1</td><td>3</td></tr><tr><td>13</td><td>14</td><td>Sent Money</td><td>1</td><td>3</td></tr><tr><td>22</td><td>23</td><td>Sent Money</td><td>1</td><td>3</td></tr><tr><td>34</td><td>35</td><td>Sent Money</td><td>1</td><td>3</td></tr><tr><td>42</td><td>43</td><td>Sent Money</td><td>1</td><td>3</td></tr><tr><td>54</td><td>55</td><td>Sent Money</td><td>1</td><td>3</td></tr><tr><td>1</td><td>5</td><td>Sent Money</td><td>3</td><td>3</td></tr><tr><td>1</td><td>9</td><td>Sent Money</td><td>2</td><td>3</td></tr><tr><td>1</td><td>13</td><td>Sent Money</td><td>1</td><td>3</td></tr><tr><td>1</td><td>17</td><td>Sent Money</td><td>2</td><td>3</td></tr><tr><td>1</td><td>21</td><td>Sent Money</td><td>1</td><td>3</td></tr><tr><td>1</td><td>25</td><td>Sent Money</td><td>3</td><td>3</td></tr><tr><td>1</td><td>29</td><td>Sent Money</td><td>2</td><td>3</td></tr><tr><td>1</td><td>33</td><td>Sent Money</td><td>1</td><td>3</td></tr><tr><td>1</td><td>37</td><td>Sent Money</td><td>2</td><td>3</td></tr><tr><td>1</td><td>41</td><td>Sent Money</td><td>1</td><td>3</td></tr><tr><td>1</td><td>45</td><td>Sent Money</td><td>3</td><td>3</td></tr><tr><td>1</td><td>49</td><td>Sent Money</td><td>2</td><td>3</td></tr><tr><td>1</td><td>53</td><td>Sent Money</td><td>1</td><td>3</td></tr><tr><td>2</td><td>6</td><td>Sent Money</td><td>3</td><td>3</td></tr><tr><td>2</td><td>10</td><td>Sent Money</td><td>2</td><td>3</td></tr><tr><td>2</td><td>14</td><td>Sent Money</td><td>1</td><td>3</td></tr><tr><td>2</td><td>18</td><td>Sent Money</td><td>2</td><td>3</td></tr><tr><td>2</td><td>22</td><td>Sent Money</td><td>1</td><td>3</td></tr><tr><td>2</td><td>26</td><td>Sent Money</td><td>3</td><td>3</td></tr><tr><td>2</td><td>30</td><td>Sent Money</td><td>2</td><td>3</td></tr><tr><td>2</td><td>34</td><td>Sent Money</td><td>1</td><td>3</td></tr><tr><td>2</td><td>38</td><td>Sent Money</td><td>2</td><td>3</td></tr><tr><td>2</td><td>42</td><td>Sent Money</td><td>1</td><td>3</td></tr><tr><td>2</td><td>46</td><td>Sent Money</td><td>3</td><td>3</td></tr><tr><td>2</td><td>50</td><td>Sent Money</td><td>2</td><td>3</td></tr><tr><td>2</td><td>54</td><td>Sent Money</td><td>1</td><td>3</td></tr><tr><td>3</td><td>7</td><td>Sent Money</td><td>3</td><td>3</td></tr><tr><td>3</td><td>11</td><td>Sent Money</td><td>2</td><td>3</td></tr><tr><td>3</td><td>15</td><td>Sent Money</td><td>1</td><td>3</td></tr><tr><td>3</td><td>19</td><td>Sent Money</td><td>2</td><td>3</td></tr><tr><td>3</td><td>23</td><td>Sent Money</td><td>1</td><td>3</td></tr><tr><td>3</td><td>27</td><td>Sent Money</td><td>3</td><td>3</td></tr><tr><td>3</td><td>31</td><td>Sent Money</td><td>2</td><td>3</td></tr><tr><td>3</td><td>35</td><td>Sent Money</td><td>1</td><td>3</td></tr><tr><td>3</td><td>39</td><td>Sent Money</td><td>2</td><td>3</td></tr><tr><td>3</td><td>43</td><td>Sent Money</td><td>1</td><td>3</td></tr><tr><td>3</td><td>47</td><td>Sent Money</td><td>3</td><td>3</td></tr><tr><td>3</td><td>51</td><td>Sent Money</td><td>2</td><td>3</td></tr><tr><td>3</td><td>55</td><td>Sent Money</td><td>1</td><td>3</td></tr><tr><td>4</td><td>8</td><td>Sent Money</td><td>3</td><td>3</td></tr><tr><td>4</td><td>12</td><td>Sent Money</td><td>2</td><td>3</td></tr><tr><td>4</td><td>16</td><td>Sent Money</td><td>1</td><td>3</td></tr><tr><td>4</td><td>20</td><td>Sent Money</td><td>2</td><td>3</td></tr><tr><td>4</td><td>24</td><td>Sent Money</td><td>1</td><td>3</td></tr><tr><td>4</td><td>28</td><td>Sent Money</td><td>3</td><td>3</td></tr><tr><td>4</td><td>32</td><td>Sent Money</td><td>2</td><td>3</td></tr><tr><td>4</td><td>36</td><td>Sent Money</td><td>1</td><td>3</td></tr><tr><td>4</td><td>40</td><td>Sent Money</td><td>2</td><td>3</td></tr><tr><td>4</td><td>44</td><td>Sent Money</td><td>1</td><td>3</td></tr><tr><td>4</td><td>48</td><td>Sent Money</td><td>3</td><td>3</td></tr><tr><td>4</td><td>52</td><td>Sent Money</td><td>2</td><td>3</td></tr><tr><td>4</td><td>56</td><td>Sent Money</td><td>1</td><td>3</td></tr><tr><td>13</td><td>21</td><td>Sent Money</td><td>1</td><td>3</td></tr><tr><td>13</td><td>33</td><td>Sent Money</td><td>1</td><td>3</td></tr><tr><td>13</td><td>45</td><td>Sent Money</td><td>3</td><td>3</td></tr><tr><td>2</td><td>1</td><td>Threatened</td><td>1</td><td>4</td></tr><tr><td>4</td><td>3</td><td>Threatened</td><td>1</td><td>4</td></tr><tr><td>10</td><td>9</td><td>Threatened</td><td>1</td><td>4</td></tr><tr><td>12</td><td>11</td><td>Threatened</td><td>1</td><td>4</td></tr><tr><td>30</td><td>29</td><td>Threatened</td><td>1</td><td>4</td></tr><tr><td>32</td><td>31</td><td>Threatened</td><td>1</td><td>4</td></tr><tr><td>13</td><td>17</td><td>Threatened</td><td>2</td><td>4</td></tr></tbody></table></div>"
      ]
     },
     "metadata": {
      "application/vnd.databricks.v1+output": {
       "addedWidgets": {},
       "aggData": [],
       "aggError": "",
       "aggOverflow": false,
       "aggSchema": [],
       "aggSeriesLimitReached": false,
       "aggType": "",
       "arguments": {},
       "columnCustomDisplayInfos": {},
       "data": [
        [
         "1",
         "2",
         "Asked for Meeting With",
         1,
         1
        ],
        [
         "3",
         "4",
         "Asked for Meeting With",
         2,
         1
        ],
        [
         "4",
         "1",
         "Asked for Meeting With",
         1,
         1
        ],
        [
         "5",
         "6",
         "Asked for Meeting With",
         1,
         1
        ],
        [
         "5",
         "7",
         "Asked for Meeting With",
         1,
         1
        ],
        [
         "6",
         "5",
         "Asked for Meeting With",
         2,
         1
        ],
        [
         "7",
         "5",
         "Asked for Meeting With",
         1,
         1
        ],
        [
         "8",
         "7",
         "Asked for Meeting With",
         1,
         1
        ],
        [
         "9",
         "12",
         "Asked for Meeting With",
         1,
         1
        ],
        [
         "11",
         "12",
         "Asked for Meeting With",
         2,
         1
        ],
        [
         "12",
         "9",
         "Asked for Meeting With",
         1,
         1
        ],
        [
         "13",
         "15",
         "Asked for Meeting With",
         2,
         1
        ],
        [
         "13",
         "16",
         "Asked for Meeting With",
         1,
         1
        ],
        [
         "14",
         "13",
         "Asked for Meeting With",
         1,
         1
        ],
        [
         "15",
         "13",
         "Asked for Meeting With",
         1,
         1
        ],
        [
         "15",
         "14",
         "Asked for Meeting With",
         1,
         1
        ],
        [
         "16",
         "13",
         "Asked for Meeting With",
         1,
         1
        ],
        [
         "17",
         "18",
         "Asked for Meeting With",
         1,
         1
        ],
        [
         "17",
         "19",
         "Asked for Meeting With",
         1,
         1
        ],
        [
         "18",
         "17",
         "Asked for Meeting With",
         2,
         1
        ],
        [
         "18",
         "20",
         "Asked for Meeting With",
         1,
         1
        ],
        [
         "19",
         "17",
         "Asked for Meeting With",
         1,
         1
        ],
        [
         "19",
         "20",
         "Asked for Meeting With",
         2,
         1
        ],
        [
         "20",
         "18",
         "Asked for Meeting With",
         1,
         1
        ],
        [
         "20",
         "19",
         "Asked for Meeting With",
         1,
         1
        ],
        [
         "21",
         "23",
         "Asked for Meeting With",
         1,
         1
        ],
        [
         "21",
         "24",
         "Asked for Meeting With",
         1,
         1
        ],
        [
         "22",
         "21",
         "Asked for Meeting With",
         2,
         1
        ],
        [
         "23",
         "21",
         "Asked for Meeting With",
         1,
         1
        ],
        [
         "23",
         "22",
         "Asked for Meeting With",
         1,
         1
        ],
        [
         "24",
         "21",
         "Asked for Meeting With",
         1,
         1
        ],
        [
         "24",
         "22",
         "Asked for Meeting With",
         2,
         1
        ],
        [
         "25",
         "26",
         "Asked for Meeting With",
         1,
         1
        ],
        [
         "25",
         "27",
         "Asked for Meeting With",
         1,
         1
        ],
        [
         "26",
         "25",
         "Asked for Meeting With",
         2,
         1
        ],
        [
         "27",
         "25",
         "Asked for Meeting With",
         1,
         1
        ],
        [
         "27",
         "26",
         "Asked for Meeting With",
         1,
         1
        ],
        [
         "28",
         "27",
         "Asked for Meeting With",
         1,
         1
        ],
        [
         "29",
         "30",
         "Asked for Meeting With",
         1,
         1
        ],
        [
         "29",
         "32",
         "Asked for Meeting With",
         1,
         1
        ],
        [
         "31",
         "32",
         "Asked for Meeting With",
         2,
         1
        ],
        [
         "32",
         "29",
         "Asked for Meeting With",
         1,
         1
        ],
        [
         "33",
         "34",
         "Asked for Meeting With",
         1,
         1
        ],
        [
         "33",
         "35",
         "Asked for Meeting With",
         1,
         1
        ],
        [
         "33",
         "36",
         "Asked for Meeting With",
         1,
         1
        ],
        [
         "34",
         "33",
         "Asked for Meeting With",
         2,
         1
        ],
        [
         "35",
         "33",
         "Asked for Meeting With",
         1,
         1
        ],
        [
         "35",
         "34",
         "Asked for Meeting With",
         1,
         1
        ],
        [
         "35",
         "36",
         "Asked for Meeting With",
         2,
         1
        ],
        [
         "36",
         "33",
         "Asked for Meeting With",
         1,
         1
        ],
        [
         "36",
         "35",
         "Asked for Meeting With",
         1,
         1
        ],
        [
         "37",
         "38",
         "Asked for Meeting With",
         1,
         1
        ],
        [
         "37",
         "39",
         "Asked for Meeting With",
         1,
         1
        ],
        [
         "38",
         "37",
         "Asked for Meeting With",
         2,
         1
        ],
        [
         "38",
         "39",
         "Asked for Meeting With",
         1,
         1
        ],
        [
         "39",
         "37",
         "Asked for Meeting With",
         1,
         1
        ],
        [
         "39",
         "38",
         "Asked for Meeting With",
         1,
         1
        ],
        [
         "39",
         "40",
         "Asked for Meeting With",
         2,
         1
        ],
        [
         "40",
         "37",
         "Asked for Meeting With",
         1,
         1
        ],
        [
         "41",
         "42",
         "Asked for Meeting With",
         1,
         1
        ],
        [
         "41",
         "43",
         "Asked for Meeting With",
         1,
         1
        ],
        [
         "41",
         "44",
         "Asked for Meeting With",
         1,
         1
        ],
        [
         "42",
         "41",
         "Asked for Meeting With",
         2,
         1
        ],
        [
         "43",
         "41",
         "Asked for Meeting With",
         1,
         1
        ],
        [
         "43",
         "42",
         "Asked for Meeting With",
         1,
         1
        ],
        [
         "43",
         "44",
         "Asked for Meeting With",
         2,
         1
        ],
        [
         "44",
         "41",
         "Asked for Meeting With",
         1,
         1
        ],
        [
         "44",
         "42",
         "Asked for Meeting With",
         1,
         1
        ],
        [
         "45",
         "46",
         "Asked for Meeting With",
         1,
         1
        ],
        [
         "45",
         "47",
         "Asked for Meeting With",
         1,
         1
        ],
        [
         "46",
         "45",
         "Asked for Meeting With",
         2,
         1
        ],
        [
         "46",
         "47",
         "Asked for Meeting With",
         1,
         1
        ],
        [
         "47",
         "45",
         "Asked for Meeting With",
         1,
         1
        ],
        [
         "47",
         "46",
         "Asked for Meeting With",
         1,
         1
        ],
        [
         "47",
         "48",
         "Asked for Meeting With",
         2,
         1
        ],
        [
         "48",
         "46",
         "Asked for Meeting With",
         1,
         1
        ],
        [
         "48",
         "47",
         "Asked for Meeting With",
         1,
         1
        ],
        [
         "49",
         "50",
         "Asked for Meeting With",
         1,
         1
        ],
        [
         "49",
         "51",
         "Asked for Meeting With",
         1,
         1
        ],
        [
         "49",
         "52",
         "Asked for Meeting With",
         1,
         1
        ],
        [
         "50",
         "49",
         "Asked for Meeting With",
         2,
         1
        ],
        [
         "51",
         "49",
         "Asked for Meeting With",
         1,
         1
        ],
        [
         "51",
         "50",
         "Asked for Meeting With",
         1,
         1
        ],
        [
         "51",
         "52",
         "Asked for Meeting With",
         2,
         1
        ],
        [
         "52",
         "49",
         "Asked for Meeting With",
         1,
         1
        ],
        [
         "52",
         "51",
         "Asked for Meeting With",
         1,
         1
        ],
        [
         "52",
         "50",
         "Asked for Meeting With",
         1,
         1
        ],
        [
         "53",
         "54",
         "Asked for Meeting With",
         1,
         1
        ],
        [
         "53",
         "55",
         "Asked for Meeting With",
         1,
         1
        ],
        [
         "53",
         "56",
         "Asked for Meeting With",
         1,
         1
        ],
        [
         "54",
         "53",
         "Asked for Meeting With",
         2,
         1
        ],
        [
         "55",
         "53",
         "Asked for Meeting With",
         1,
         1
        ],
        [
         "55",
         "54",
         "Asked for Meeting With",
         1,
         1
        ],
        [
         "55",
         "56",
         "Asked for Meeting With",
         2,
         1
        ],
        [
         "56",
         "53",
         "Asked for Meeting With",
         1,
         1
        ],
        [
         "56",
         "55",
         "Asked for Meeting With",
         1,
         1
        ],
        [
         "9",
         "13",
         "Asked for Meeting With",
         1,
         1
        ],
        [
         "9",
         "17",
         "Asked for Meeting With",
         2,
         1
        ],
        [
         "9",
         "21",
         "Asked for Meeting With",
         1,
         1
        ],
        [
         "9",
         "25",
         "Asked for Meeting With",
         2,
         1
        ],
        [
         "9",
         "29",
         "Asked for Meeting With",
         1,
         1
        ],
        [
         "9",
         "33",
         "Asked for Meeting With",
         2,
         1
        ],
        [
         "9",
         "37",
         "Asked for Meeting With",
         1,
         1
        ],
        [
         "9",
         "41",
         "Asked for Meeting With",
         2,
         1
        ],
        [
         "9",
         "45",
         "Asked for Meeting With",
         1,
         1
        ],
        [
         "9",
         "49",
         "Asked for Meeting With",
         2,
         1
        ],
        [
         "9",
         "53",
         "Asked for Meeting With",
         1,
         1
        ],
        [
         "10",
         "14",
         "Asked for Meeting With",
         1,
         1
        ],
        [
         "10",
         "18",
         "Asked for Meeting With",
         2,
         1
        ],
        [
         "10",
         "22",
         "Asked for Meeting With",
         1,
         1
        ],
        [
         "10",
         "26",
         "Asked for Meeting With",
         2,
         1
        ],
        [
         "10",
         "30",
         "Asked for Meeting With",
         1,
         1
        ],
        [
         "10",
         "34",
         "Asked for Meeting With",
         2,
         1
        ],
        [
         "10",
         "38",
         "Asked for Meeting With",
         1,
         1
        ],
        [
         "10",
         "42",
         "Asked for Meeting With",
         2,
         1
        ],
        [
         "10",
         "46",
         "Asked for Meeting With",
         1,
         1
        ],
        [
         "10",
         "50",
         "Asked for Meeting With",
         2,
         1
        ],
        [
         "10",
         "54",
         "Asked for Meeting With",
         1,
         1
        ],
        [
         "11",
         "15",
         "Asked for Meeting With",
         1,
         1
        ],
        [
         "11",
         "19",
         "Asked for Meeting With",
         2,
         1
        ],
        [
         "11",
         "23",
         "Asked for Meeting With",
         1,
         1
        ],
        [
         "11",
         "27",
         "Asked for Meeting With",
         2,
         1
        ],
        [
         "11",
         "31",
         "Asked for Meeting With",
         1,
         1
        ],
        [
         "11",
         "35",
         "Asked for Meeting With",
         2,
         1
        ],
        [
         "11",
         "39",
         "Asked for Meeting With",
         1,
         1
        ],
        [
         "11",
         "43",
         "Asked for Meeting With",
         2,
         1
        ],
        [
         "11",
         "47",
         "Asked for Meeting With",
         1,
         1
        ],
        [
         "11",
         "51",
         "Asked for Meeting With",
         2,
         1
        ],
        [
         "11",
         "55",
         "Asked for Meeting With",
         1,
         1
        ],
        [
         "12",
         "16",
         "Asked for Meeting With",
         1,
         1
        ],
        [
         "12",
         "20",
         "Asked for Meeting With",
         2,
         1
        ],
        [
         "12",
         "24",
         "Asked for Meeting With",
         1,
         1
        ],
        [
         "12",
         "28",
         "Asked for Meeting With",
         2,
         1
        ],
        [
         "12",
         "32",
         "Asked for Meeting With",
         1,
         1
        ],
        [
         "12",
         "36",
         "Asked for Meeting With",
         2,
         1
        ],
        [
         "12",
         "40",
         "Asked for Meeting With",
         1,
         1
        ],
        [
         "12",
         "44",
         "Asked for Meeting With",
         2,
         1
        ],
        [
         "12",
         "48",
         "Asked for Meeting With",
         1,
         1
        ],
        [
         "12",
         "52",
         "Asked for Meeting With",
         2,
         1
        ],
        [
         "12",
         "56",
         "Asked for Meeting With",
         1,
         1
        ],
        [
         "13",
         "25",
         "Asked for Meeting With",
         3,
         1
        ],
        [
         "13",
         "37",
         "Asked for Meeting With",
         2,
         1
        ],
        [
         "13",
         "49",
         "Asked for Meeting With",
         2,
         1
        ],
        [
         "1",
         "3",
         "Called",
         2,
         2
        ],
        [
         "3",
         "2",
         "Called",
         3,
         2
        ],
        [
         "6",
         "8",
         "Called",
         1,
         2
        ],
        [
         "7",
         "8",
         "Called",
         2,
         2
        ],
        [
         "8",
         "6",
         "Called",
         2,
         2
        ],
        [
         "9",
         "11",
         "Called",
         2,
         2
        ],
        [
         "11",
         "9",
         "Called",
         3,
         2
        ],
        [
         "14",
         "15",
         "Called",
         1,
         2
        ],
        [
         "15",
         "16",
         "Called",
         2,
         2
        ],
        [
         "16",
         "15",
         "Called",
         1,
         2
        ],
        [
         "21",
         "22",
         "Called",
         2,
         2
        ],
        [
         "25",
         "28",
         "Called",
         1,
         2
        ],
        [
         "26",
         "27",
         "Called",
         1,
         2
        ],
        [
         "27",
         "28",
         "Called",
         2,
         2
        ],
        [
         "28",
         "25",
         "Called",
         1,
         2
        ],
        [
         "29",
         "31",
         "Called",
         2,
         2
        ],
        [
         "31",
         "29",
         "Called",
         3,
         2
        ],
        [
         "37",
         "40",
         "Called",
         1,
         2
        ],
        [
         "40",
         "38",
         "Called",
         1,
         2
        ],
        [
         "45",
         "48",
         "Called",
         1,
         2
        ],
        [
         "48",
         "45",
         "Called",
         1,
         2
        ],
        [
         "50",
         "51",
         "Called",
         1,
         2
        ],
        [
         "5",
         "9",
         "Called",
         2,
         2
        ],
        [
         "5",
         "13",
         "Called",
         1,
         2
        ],
        [
         "5",
         "17",
         "Called",
         2,
         2
        ],
        [
         "5",
         "21",
         "Called",
         1,
         2
        ],
        [
         "5",
         "25",
         "Called",
         2,
         2
        ],
        [
         "5",
         "29",
         "Called",
         1,
         2
        ],
        [
         "5",
         "33",
         "Called",
         2,
         2
        ],
        [
         "5",
         "37",
         "Called",
         1,
         2
        ],
        [
         "5",
         "41",
         "Called",
         2,
         2
        ],
        [
         "5",
         "45",
         "Called",
         1,
         2
        ],
        [
         "5",
         "49",
         "Called",
         2,
         2
        ],
        [
         "5",
         "53",
         "Called",
         1,
         2
        ],
        [
         "6",
         "10",
         "Called",
         2,
         2
        ],
        [
         "6",
         "14",
         "Called",
         1,
         2
        ],
        [
         "6",
         "18",
         "Called",
         2,
         2
        ],
        [
         "6",
         "22",
         "Called",
         1,
         2
        ],
        [
         "6",
         "26",
         "Called",
         2,
         2
        ],
        [
         "6",
         "30",
         "Called",
         1,
         2
        ],
        [
         "6",
         "34",
         "Called",
         2,
         2
        ],
        [
         "6",
         "38",
         "Called",
         1,
         2
        ],
        [
         "6",
         "42",
         "Called",
         2,
         2
        ],
        [
         "6",
         "46",
         "Called",
         1,
         2
        ],
        [
         "6",
         "50",
         "Called",
         2,
         2
        ],
        [
         "6",
         "54",
         "Called",
         1,
         2
        ],
        [
         "7",
         "11",
         "Called",
         2,
         2
        ],
        [
         "7",
         "15",
         "Called",
         1,
         2
        ],
        [
         "7",
         "19",
         "Called",
         2,
         2
        ],
        [
         "7",
         "23",
         "Called",
         1,
         2
        ],
        [
         "7",
         "27",
         "Called",
         2,
         2
        ],
        [
         "7",
         "31",
         "Called",
         1,
         2
        ],
        [
         "7",
         "35",
         "Called",
         2,
         2
        ],
        [
         "7",
         "39",
         "Called",
         1,
         2
        ],
        [
         "7",
         "43",
         "Called",
         2,
         2
        ],
        [
         "7",
         "47",
         "Called",
         1,
         2
        ],
        [
         "7",
         "51",
         "Called",
         2,
         2
        ],
        [
         "7",
         "55",
         "Called",
         1,
         2
        ],
        [
         "8",
         "12",
         "Called",
         2,
         2
        ],
        [
         "8",
         "16",
         "Called",
         1,
         2
        ],
        [
         "8",
         "20",
         "Called",
         2,
         2
        ],
        [
         "8",
         "24",
         "Called",
         1,
         2
        ],
        [
         "8",
         "28",
         "Called",
         2,
         2
        ],
        [
         "8",
         "32",
         "Called",
         1,
         2
        ],
        [
         "8",
         "36",
         "Called",
         2,
         2
        ],
        [
         "8",
         "40",
         "Called",
         1,
         2
        ],
        [
         "8",
         "44",
         "Called",
         2,
         2
        ],
        [
         "8",
         "48",
         "Called",
         1,
         2
        ],
        [
         "8",
         "52",
         "Called",
         2,
         2
        ],
        [
         "8",
         "56",
         "Called",
         1,
         2
        ],
        [
         "13",
         "29",
         "Called",
         2,
         2
        ],
        [
         "13",
         "41",
         "Called",
         1,
         2
        ],
        [
         "13",
         "53",
         "Called",
         1,
         2
        ],
        [
         "1",
         "4",
         "Sent Money",
         1,
         3
        ],
        [
         "9",
         "10",
         "Sent Money",
         1,
         3
        ],
        [
         "13",
         "14",
         "Sent Money",
         1,
         3
        ],
        [
         "22",
         "23",
         "Sent Money",
         1,
         3
        ],
        [
         "34",
         "35",
         "Sent Money",
         1,
         3
        ],
        [
         "42",
         "43",
         "Sent Money",
         1,
         3
        ],
        [
         "54",
         "55",
         "Sent Money",
         1,
         3
        ],
        [
         "1",
         "5",
         "Sent Money",
         3,
         3
        ],
        [
         "1",
         "9",
         "Sent Money",
         2,
         3
        ],
        [
         "1",
         "13",
         "Sent Money",
         1,
         3
        ],
        [
         "1",
         "17",
         "Sent Money",
         2,
         3
        ],
        [
         "1",
         "21",
         "Sent Money",
         1,
         3
        ],
        [
         "1",
         "25",
         "Sent Money",
         3,
         3
        ],
        [
         "1",
         "29",
         "Sent Money",
         2,
         3
        ],
        [
         "1",
         "33",
         "Sent Money",
         1,
         3
        ],
        [
         "1",
         "37",
         "Sent Money",
         2,
         3
        ],
        [
         "1",
         "41",
         "Sent Money",
         1,
         3
        ],
        [
         "1",
         "45",
         "Sent Money",
         3,
         3
        ],
        [
         "1",
         "49",
         "Sent Money",
         2,
         3
        ],
        [
         "1",
         "53",
         "Sent Money",
         1,
         3
        ],
        [
         "2",
         "6",
         "Sent Money",
         3,
         3
        ],
        [
         "2",
         "10",
         "Sent Money",
         2,
         3
        ],
        [
         "2",
         "14",
         "Sent Money",
         1,
         3
        ],
        [
         "2",
         "18",
         "Sent Money",
         2,
         3
        ],
        [
         "2",
         "22",
         "Sent Money",
         1,
         3
        ],
        [
         "2",
         "26",
         "Sent Money",
         3,
         3
        ],
        [
         "2",
         "30",
         "Sent Money",
         2,
         3
        ],
        [
         "2",
         "34",
         "Sent Money",
         1,
         3
        ],
        [
         "2",
         "38",
         "Sent Money",
         2,
         3
        ],
        [
         "2",
         "42",
         "Sent Money",
         1,
         3
        ],
        [
         "2",
         "46",
         "Sent Money",
         3,
         3
        ],
        [
         "2",
         "50",
         "Sent Money",
         2,
         3
        ],
        [
         "2",
         "54",
         "Sent Money",
         1,
         3
        ],
        [
         "3",
         "7",
         "Sent Money",
         3,
         3
        ],
        [
         "3",
         "11",
         "Sent Money",
         2,
         3
        ],
        [
         "3",
         "15",
         "Sent Money",
         1,
         3
        ],
        [
         "3",
         "19",
         "Sent Money",
         2,
         3
        ],
        [
         "3",
         "23",
         "Sent Money",
         1,
         3
        ],
        [
         "3",
         "27",
         "Sent Money",
         3,
         3
        ],
        [
         "3",
         "31",
         "Sent Money",
         2,
         3
        ],
        [
         "3",
         "35",
         "Sent Money",
         1,
         3
        ],
        [
         "3",
         "39",
         "Sent Money",
         2,
         3
        ],
        [
         "3",
         "43",
         "Sent Money",
         1,
         3
        ],
        [
         "3",
         "47",
         "Sent Money",
         3,
         3
        ],
        [
         "3",
         "51",
         "Sent Money",
         2,
         3
        ],
        [
         "3",
         "55",
         "Sent Money",
         1,
         3
        ],
        [
         "4",
         "8",
         "Sent Money",
         3,
         3
        ],
        [
         "4",
         "12",
         "Sent Money",
         2,
         3
        ],
        [
         "4",
         "16",
         "Sent Money",
         1,
         3
        ],
        [
         "4",
         "20",
         "Sent Money",
         2,
         3
        ],
        [
         "4",
         "24",
         "Sent Money",
         1,
         3
        ],
        [
         "4",
         "28",
         "Sent Money",
         3,
         3
        ],
        [
         "4",
         "32",
         "Sent Money",
         2,
         3
        ],
        [
         "4",
         "36",
         "Sent Money",
         1,
         3
        ],
        [
         "4",
         "40",
         "Sent Money",
         2,
         3
        ],
        [
         "4",
         "44",
         "Sent Money",
         1,
         3
        ],
        [
         "4",
         "48",
         "Sent Money",
         3,
         3
        ],
        [
         "4",
         "52",
         "Sent Money",
         2,
         3
        ],
        [
         "4",
         "56",
         "Sent Money",
         1,
         3
        ],
        [
         "13",
         "21",
         "Sent Money",
         1,
         3
        ],
        [
         "13",
         "33",
         "Sent Money",
         1,
         3
        ],
        [
         "13",
         "45",
         "Sent Money",
         3,
         3
        ],
        [
         "2",
         "1",
         "Threatened",
         1,
         4
        ],
        [
         "4",
         "3",
         "Threatened",
         1,
         4
        ],
        [
         "10",
         "9",
         "Threatened",
         1,
         4
        ],
        [
         "12",
         "11",
         "Threatened",
         1,
         4
        ],
        [
         "30",
         "29",
         "Threatened",
         1,
         4
        ],
        [
         "32",
         "31",
         "Threatened",
         1,
         4
        ],
        [
         "13",
         "17",
         "Threatened",
         2,
         4
        ]
       ],
       "datasetInfos": [],
       "dbfsResultPath": null,
       "isJsonSchema": true,
       "metadata": {},
       "overflow": false,
       "plotOptions": {
        "customPlotOptions": {},
        "displayType": "table",
        "pivotAggregation": null,
        "pivotColumns": null,
        "xColumns": null,
        "yColumns": null
       },
       "removedWidgets": [],
       "schema": [
        {
         "metadata": "{}",
         "name": "src",
         "type": "\"string\""
        },
        {
         "metadata": "{}",
         "name": "dst",
         "type": "\"string\""
        },
        {
         "metadata": "{}",
         "name": "relation_type",
         "type": "\"string\""
        },
        {
         "metadata": "{}",
         "name": "weight",
         "type": "\"integer\""
        },
        {
         "metadata": "{}",
         "name": "relation_type_index",
         "type": "\"integer\""
        }
       ],
       "type": "table"
      }
     },
     "output_type": "display_data"
    }
   ],
   "source": [
    "import pyspark.sql.types as tp\n",
    "\n",
    "edges = edges \\\n",
    "    .withColumn(\"relation_type_index\", F.dense_rank().over(Window.orderBy(\"relation_type\"))) \\\n",
    "    .withColumn(\"weight\", F.col(\"weight\").cast(tp.IntegerType()))\n",
    "edges.display()"
   ]
  },
  {
   "cell_type": "markdown",
   "metadata": {
    "application/vnd.databricks.v1+cell": {
     "cellMetadata": {
      "byteLimit": 2048000,
      "rowLimit": 10000
     },
     "inputWidgets": {},
     "nuid": "ec6470cc-3201-4ccc-98a9-df9a2a90ca95",
     "showTitle": false,
     "title": ""
    }
   },
   "source": [
    "Now we instantiate our complete graph."
   ]
  },
  {
   "cell_type": "code",
   "execution_count": 0,
   "metadata": {
    "application/vnd.databricks.v1+cell": {
     "cellMetadata": {
      "byteLimit": 2048000,
      "rowLimit": 10000
     },
     "inputWidgets": {},
     "nuid": "0c02a467-8881-4774-9a96-5af11d1e3555",
     "showTitle": false,
     "title": ""
    }
   },
   "outputs": [
    {
     "output_type": "stream",
     "name": "stderr",
     "output_type": "stream",
     "text": [
      "/databricks/spark/python/pyspark/sql/dataframe.py:170: UserWarning: DataFrame.sql_ctx is an internal property, and will be removed in future releases. Use DataFrame.sparkSession instead.\n  warnings.warn(\n"
     ]
    }
   ],
   "source": [
    "mafia_graph = GraphFrame(nodes, edges)"
   ]
  },
  {
   "cell_type": "code",
   "execution_count": 0,
   "metadata": {
    "application/vnd.databricks.v1+cell": {
     "cellMetadata": {
      "byteLimit": 2048000,
      "rowLimit": 10000
     },
     "inputWidgets": {},
     "nuid": "a3a76425-b27f-42fa-969c-8a4f6c6211a4",
     "showTitle": false,
     "title": ""
    }
   },
   "outputs": [
    {
     "output_type": "stream",
     "name": "stdout",
     "output_type": "stream",
     "text": [
      "+---+----------+---------+--------------+\n| id|First Name|Last Name|        Family|\n+---+----------+---------+--------------+\n|  1|  Giuseppe|    Rossi|  Rossi Family|\n|  2|     Maria|    Rossi|  Rossi Family|\n|  3|   Antonio|    Rossi|  Rossi Family|\n|  4|     Sofia|    Rossi|  Rossi Family|\n|  5|      Luca|  Bianchi|Bianchi Family|\n|  6|    Giulia|  Bianchi|Bianchi Family|\n|  7|     Marco|  Bianchi|Bianchi Family|\n|  8|   Alessia|  Bianchi|Bianchi Family|\n|  9| Francesco|    Ricci|  Ricci Family|\n| 10|    Chiara|    Ricci|  Ricci Family|\n| 11|   Roberto|    Ricci|  Ricci Family|\n| 12|     Laura|    Ricci|  Ricci Family|\n| 13|  Giovanni|  Moretti|Moretti Family|\n| 14|      Anna|  Moretti|Moretti Family|\n| 15|    Matteo|  Moretti|Moretti Family|\n| 16|     Elena|  Moretti|Moretti Family|\n| 17|     Carlo|   Romano| Romano Family|\n| 18|     Lucia|   Romano| Romano Family|\n| 19|  Federico|   Romano| Romano Family|\n| 20|   Martina|   Romano| Romano Family|\n+---+----------+---------+--------------+\nonly showing top 20 rows\n\n+---+---+--------------------+------+-------------------+\n|src|dst|       relation_type|weight|relation_type_index|\n+---+---+--------------------+------+-------------------+\n| 11| 12|Asked for Meeting...|     2|                  1|\n| 14| 13|Asked for Meeting...|     1|                  1|\n| 20| 19|Asked for Meeting...|     1|                  1|\n| 15| 13|Asked for Meeting...|     1|                  1|\n|  4|  1|Asked for Meeting...|     1|                  1|\n| 15| 14|Asked for Meeting...|     1|                  1|\n|  5|  7|Asked for Meeting...|     1|                  1|\n| 16| 13|Asked for Meeting...|     1|                  1|\n|  7|  5|Asked for Meeting...|     1|                  1|\n| 17| 18|Asked for Meeting...|     1|                  1|\n|  9| 12|Asked for Meeting...|     1|                  1|\n| 17| 19|Asked for Meeting...|     1|                  1|\n| 12|  9|Asked for Meeting...|     1|                  1|\n| 18| 17|Asked for Meeting...|     2|                  1|\n| 13| 16|Asked for Meeting...|     1|                  1|\n| 18| 20|Asked for Meeting...|     1|                  1|\n|  5|  6|Asked for Meeting...|     1|                  1|\n| 19| 17|Asked for Meeting...|     1|                  1|\n|  8|  7|Asked for Meeting...|     1|                  1|\n| 19| 20|Asked for Meeting...|     2|                  1|\n+---+---+--------------------+------+-------------------+\nonly showing top 20 rows\n\n"
     ]
    }
   ],
   "source": [
    "# Let us inspect the graph\n",
    "mafia_graph.vertices.show()\n",
    "mafia_graph.edges.show()"
   ]
  },
  {
   "cell_type": "code",
   "execution_count": 0,
   "metadata": {
    "application/vnd.databricks.v1+cell": {
     "cellMetadata": {
      "byteLimit": 2048000,
      "rowLimit": 10000
     },
     "inputWidgets": {},
     "nuid": "7641548a-1cb2-4b44-8f3a-04e697b8cff9",
     "showTitle": false,
     "title": ""
    }
   },
   "outputs": [
    {
     "output_type": "stream",
     "name": "stdout",
     "output_type": "stream",
     "text": [
      "+--------------------+\n|       relation_type|\n+--------------------+\n|Asked for Meeting...|\n|          Threatened|\n|          Sent Money|\n|              Called|\n+--------------------+\n\n"
     ]
    }
   ],
   "source": [
    "import pyspark.sql.functions as F\n",
    "mafia_graph.edges.select(F.col(\"relation_type\")).distinct().show()"
   ]
  },
  {
   "cell_type": "markdown",
   "metadata": {
    "application/vnd.databricks.v1+cell": {
     "cellMetadata": {
      "byteLimit": 2048000,
      "rowLimit": 10000
     },
     "inputWidgets": {},
     "nuid": "ea9757bf-1618-4208-a233-e5332e2d4a3d",
     "showTitle": false,
     "title": ""
    }
   },
   "source": [
    "We now subset our overall ``nodes`` DataFrame to extract the sub-network only."
   ]
  },
  {
   "cell_type": "code",
   "execution_count": 0,
   "metadata": {
    "application/vnd.databricks.v1+cell": {
     "cellMetadata": {
      "byteLimit": 2048000,
      "rowLimit": 10000
     },
     "inputWidgets": {},
     "nuid": "a5a09fa3-19fa-4774-a412-d75cf1591530",
     "showTitle": false,
     "title": ""
    }
   },
   "outputs": [
    {
     "output_type": "display_data",
     "data": {
      "text/html": [
       "<style scoped>\n",
       "  .table-result-container {\n",
       "    max-height: 300px;\n",
       "    overflow: auto;\n",
       "  }\n",
       "  table, th, td {\n",
       "    border: 1px solid black;\n",
       "    border-collapse: collapse;\n",
       "  }\n",
       "  th, td {\n",
       "    padding: 5px;\n",
       "  }\n",
       "  th {\n",
       "    text-align: left;\n",
       "  }\n",
       "</style><div class='table-result-container'><table class='table-result'><thead style='background-color: white'><tr><th>First Name</th><th>Last Name</th><th>id</th><th>Family</th><th>result</th><th>report_id</th><th>row_number</th><th>result</th><th>report_id</th><th>row_number</th></tr></thead><tbody><tr><td>Antonio</td><td>Rossi</td><td>3</td><td>Rossi Family</td><td>B-PER</td><td>7</td><td>898</td><td>I-PER</td><td>7</td><td>899</td></tr><tr><td>Carlo</td><td>Romano</td><td>17</td><td>Romano Family</td><td>B-PER</td><td>2</td><td>280</td><td>I-PER</td><td>2</td><td>281</td></tr><tr><td>Chiara</td><td>Ricci</td><td>10</td><td>Ricci Family</td><td>B-PER</td><td>7</td><td>906</td><td>I-PER</td><td>7</td><td>907</td></tr><tr><td>Elena</td><td>Conti</td><td>26</td><td>Conti Family</td><td>B-PER</td><td>1</td><td>65</td><td>I-PER</td><td>1</td><td>66</td></tr><tr><td>Federico</td><td>Romano</td><td>19</td><td>Romano Family</td><td>B-PER</td><td>1</td><td>37</td><td>I-PER</td><td>1</td><td>38</td></tr><tr><td>Francesca</td><td>Marini</td><td>24</td><td>Marini Family</td><td>B-PER</td><td>2</td><td>315</td><td>I-PER</td><td>2</td><td>316</td></tr><tr><td>Francesco</td><td>Ricci</td><td>9</td><td>Ricci Family</td><td>B-PER</td><td>1</td><td>73</td><td>I-PER</td><td>1</td><td>74</td></tr><tr><td>Giovanni</td><td>Moretti</td><td>13</td><td>Moretti Family</td><td>B-PER</td><td>2</td><td>308</td><td>I-PER</td><td>2</td><td>309</td></tr><tr><td>Giulia</td><td>Bianchi</td><td>6</td><td>Bianchi Family</td><td>B-PER</td><td>1</td><td>19</td><td>I-PER</td><td>1</td><td>20</td></tr><tr><td>Giuliana</td><td>Conti</td><td>28</td><td>Conti Family</td><td>B-PER</td><td>6</td><td>818</td><td>I-PER</td><td>6</td><td>819</td></tr><tr><td>Giuseppe</td><td>Rossi</td><td>1</td><td>Rossi Family</td><td>B-PER</td><td>1</td><td>139</td><td>I-PER</td><td>1</td><td>140</td></tr><tr><td>Luca</td><td>Bianchi</td><td>5</td><td>Bianchi Family</td><td>B-PER</td><td>7</td><td>936</td><td>I-PER</td><td>7</td><td>937</td></tr><tr><td>Luca</td><td>Moretti</td><td>41</td><td>Moretti Family</td><td>B-PER</td><td>1</td><td>113</td><td>I-PER</td><td>1</td><td>114</td></tr><tr><td>Marco</td><td>Bianchi</td><td>7</td><td>Bianchi Family</td><td>B-PER</td><td>3</td><td>409</td><td>I-PER</td><td>3</td><td>410</td></tr><tr><td>Martina</td><td>Romano</td><td>20</td><td>Romano Family</td><td>B-PER</td><td>7</td><td>943</td><td>I-PER</td><td>7</td><td>944</td></tr><tr><td>Paolo</td><td>Conti</td><td>27</td><td>Conti Family</td><td>B-PER</td><td>6</td><td>786</td><td>I-PER</td><td>6</td><td>787</td></tr><tr><td>Teresa</td><td>Marini</td><td>22</td><td>Marini Family</td><td>B-PER</td><td>3</td><td>445</td><td>I-PER</td><td>3</td><td>446</td></tr></tbody></table></div>"
      ]
     },
     "metadata": {
      "application/vnd.databricks.v1+output": {
       "addedWidgets": {},
       "aggData": [],
       "aggError": "",
       "aggOverflow": false,
       "aggSchema": [],
       "aggSeriesLimitReached": false,
       "aggType": "",
       "arguments": {},
       "columnCustomDisplayInfos": {},
       "data": [
        [
         "Antonio",
         "Rossi",
         "3",
         "Rossi Family",
         "B-PER",
         7,
         898,
         "I-PER",
         7,
         899
        ],
        [
         "Carlo",
         "Romano",
         "17",
         "Romano Family",
         "B-PER",
         2,
         280,
         "I-PER",
         2,
         281
        ],
        [
         "Chiara",
         "Ricci",
         "10",
         "Ricci Family",
         "B-PER",
         7,
         906,
         "I-PER",
         7,
         907
        ],
        [
         "Elena",
         "Conti",
         "26",
         "Conti Family",
         "B-PER",
         1,
         65,
         "I-PER",
         1,
         66
        ],
        [
         "Federico",
         "Romano",
         "19",
         "Romano Family",
         "B-PER",
         1,
         37,
         "I-PER",
         1,
         38
        ],
        [
         "Francesca",
         "Marini",
         "24",
         "Marini Family",
         "B-PER",
         2,
         315,
         "I-PER",
         2,
         316
        ],
        [
         "Francesco",
         "Ricci",
         "9",
         "Ricci Family",
         "B-PER",
         1,
         73,
         "I-PER",
         1,
         74
        ],
        [
         "Giovanni",
         "Moretti",
         "13",
         "Moretti Family",
         "B-PER",
         2,
         308,
         "I-PER",
         2,
         309
        ],
        [
         "Giulia",
         "Bianchi",
         "6",
         "Bianchi Family",
         "B-PER",
         1,
         19,
         "I-PER",
         1,
         20
        ],
        [
         "Giuliana",
         "Conti",
         "28",
         "Conti Family",
         "B-PER",
         6,
         818,
         "I-PER",
         6,
         819
        ],
        [
         "Giuseppe",
         "Rossi",
         "1",
         "Rossi Family",
         "B-PER",
         1,
         139,
         "I-PER",
         1,
         140
        ],
        [
         "Luca",
         "Bianchi",
         "5",
         "Bianchi Family",
         "B-PER",
         7,
         936,
         "I-PER",
         7,
         937
        ],
        [
         "Luca",
         "Moretti",
         "41",
         "Moretti Family",
         "B-PER",
         1,
         113,
         "I-PER",
         1,
         114
        ],
        [
         "Marco",
         "Bianchi",
         "7",
         "Bianchi Family",
         "B-PER",
         3,
         409,
         "I-PER",
         3,
         410
        ],
        [
         "Martina",
         "Romano",
         "20",
         "Romano Family",
         "B-PER",
         7,
         943,
         "I-PER",
         7,
         944
        ],
        [
         "Paolo",
         "Conti",
         "27",
         "Conti Family",
         "B-PER",
         6,
         786,
         "I-PER",
         6,
         787
        ],
        [
         "Teresa",
         "Marini",
         "22",
         "Marini Family",
         "B-PER",
         3,
         445,
         "I-PER",
         3,
         446
        ]
       ],
       "datasetInfos": [],
       "dbfsResultPath": null,
       "isJsonSchema": true,
       "metadata": {},
       "overflow": false,
       "plotOptions": {
        "customPlotOptions": {},
        "displayType": "table",
        "pivotAggregation": null,
        "pivotColumns": null,
        "xColumns": null,
        "yColumns": null
       },
       "removedWidgets": [],
       "schema": [
        {
         "metadata": "{}",
         "name": "First Name",
         "type": "\"string\""
        },
        {
         "metadata": "{}",
         "name": "Last Name",
         "type": "\"string\""
        },
        {
         "metadata": "{}",
         "name": "id",
         "type": "\"string\""
        },
        {
         "metadata": "{}",
         "name": "Family",
         "type": "\"string\""
        },
        {
         "metadata": "{}",
         "name": "result",
         "type": "\"string\""
        },
        {
         "metadata": "{}",
         "name": "report_id",
         "type": "\"integer\""
        },
        {
         "metadata": "{}",
         "name": "row_number",
         "type": "\"integer\""
        },
        {
         "metadata": "{}",
         "name": "result",
         "type": "\"string\""
        },
        {
         "metadata": "{}",
         "name": "report_id",
         "type": "\"integer\""
        },
        {
         "metadata": "{}",
         "name": "row_number",
         "type": "\"integer\""
        }
       ],
       "type": "table"
      }
     },
     "output_type": "display_data"
    }
   ],
   "source": [
    "sub_network_nodes = mafia_graph.vertices \\\n",
    "    .join(sub_network, on=[\"First Name\", \"Last Name\"], how=\"inner\") \\\n",
    "    .dropDuplicates([\"First Name\", \"Last Name\"])\n",
    "\n",
    "display(sub_network_nodes)"
   ]
  },
  {
   "cell_type": "code",
   "execution_count": 0,
   "metadata": {
    "application/vnd.databricks.v1+cell": {
     "cellMetadata": {
      "byteLimit": 2048000,
      "rowLimit": 10000
     },
     "inputWidgets": {},
     "nuid": "994515fa-7cf9-4ebf-9ef7-c7517c159183",
     "showTitle": false,
     "title": ""
    }
   },
   "outputs": [
    {
     "output_type": "display_data",
     "data": {
      "text/html": [
       "<style scoped>\n",
       "  .table-result-container {\n",
       "    max-height: 300px;\n",
       "    overflow: auto;\n",
       "  }\n",
       "  table, th, td {\n",
       "    border: 1px solid black;\n",
       "    border-collapse: collapse;\n",
       "  }\n",
       "  th, td {\n",
       "    padding: 5px;\n",
       "  }\n",
       "  th {\n",
       "    text-align: left;\n",
       "  }\n",
       "</style><div class='table-result-container'><table class='table-result'><thead style='background-color: white'><tr><th>edge_id</th><th>node_in_edge</th></tr></thead><tbody><tr><td>121</td><td>1</td></tr><tr><td>121</td><td>2</td></tr><tr><td>341</td><td>3</td></tr><tr><td>341</td><td>4</td></tr><tr><td>411</td><td>4</td></tr><tr><td>411</td><td>1</td></tr><tr><td>561</td><td>5</td></tr><tr><td>561</td><td>6</td></tr><tr><td>571</td><td>5</td></tr><tr><td>571</td><td>7</td></tr><tr><td>651</td><td>6</td></tr><tr><td>651</td><td>5</td></tr><tr><td>751</td><td>7</td></tr><tr><td>751</td><td>5</td></tr><tr><td>871</td><td>8</td></tr><tr><td>871</td><td>7</td></tr><tr><td>9121</td><td>9</td></tr><tr><td>9121</td><td>12</td></tr><tr><td>11121</td><td>11</td></tr><tr><td>11121</td><td>12</td></tr><tr><td>1291</td><td>12</td></tr><tr><td>1291</td><td>9</td></tr><tr><td>13151</td><td>13</td></tr><tr><td>13151</td><td>15</td></tr><tr><td>13161</td><td>13</td></tr><tr><td>13161</td><td>16</td></tr><tr><td>14131</td><td>14</td></tr><tr><td>14131</td><td>13</td></tr><tr><td>15131</td><td>15</td></tr><tr><td>15131</td><td>13</td></tr><tr><td>15141</td><td>15</td></tr><tr><td>15141</td><td>14</td></tr><tr><td>16131</td><td>16</td></tr><tr><td>16131</td><td>13</td></tr><tr><td>17181</td><td>17</td></tr><tr><td>17181</td><td>18</td></tr><tr><td>17191</td><td>17</td></tr><tr><td>17191</td><td>19</td></tr><tr><td>18171</td><td>18</td></tr><tr><td>18171</td><td>17</td></tr><tr><td>18201</td><td>18</td></tr><tr><td>18201</td><td>20</td></tr><tr><td>19171</td><td>19</td></tr><tr><td>19171</td><td>17</td></tr><tr><td>19201</td><td>19</td></tr><tr><td>19201</td><td>20</td></tr><tr><td>20181</td><td>20</td></tr><tr><td>20181</td><td>18</td></tr><tr><td>20191</td><td>20</td></tr><tr><td>20191</td><td>19</td></tr><tr><td>21231</td><td>21</td></tr><tr><td>21231</td><td>23</td></tr><tr><td>21241</td><td>21</td></tr><tr><td>21241</td><td>24</td></tr><tr><td>22211</td><td>22</td></tr><tr><td>22211</td><td>21</td></tr><tr><td>23211</td><td>23</td></tr><tr><td>23211</td><td>21</td></tr><tr><td>23221</td><td>23</td></tr><tr><td>23221</td><td>22</td></tr><tr><td>24211</td><td>24</td></tr><tr><td>24211</td><td>21</td></tr><tr><td>24221</td><td>24</td></tr><tr><td>24221</td><td>22</td></tr><tr><td>25261</td><td>25</td></tr><tr><td>25261</td><td>26</td></tr><tr><td>25271</td><td>25</td></tr><tr><td>25271</td><td>27</td></tr><tr><td>26251</td><td>26</td></tr><tr><td>26251</td><td>25</td></tr><tr><td>27251</td><td>27</td></tr><tr><td>27251</td><td>25</td></tr><tr><td>27261</td><td>27</td></tr><tr><td>27261</td><td>26</td></tr><tr><td>28271</td><td>28</td></tr><tr><td>28271</td><td>27</td></tr><tr><td>29301</td><td>29</td></tr><tr><td>29301</td><td>30</td></tr><tr><td>29321</td><td>29</td></tr><tr><td>29321</td><td>32</td></tr><tr><td>31321</td><td>31</td></tr><tr><td>31321</td><td>32</td></tr><tr><td>32291</td><td>32</td></tr><tr><td>32291</td><td>29</td></tr><tr><td>33341</td><td>33</td></tr><tr><td>33341</td><td>34</td></tr><tr><td>33351</td><td>33</td></tr><tr><td>33351</td><td>35</td></tr><tr><td>33361</td><td>33</td></tr><tr><td>33361</td><td>36</td></tr><tr><td>34331</td><td>34</td></tr><tr><td>34331</td><td>33</td></tr><tr><td>35331</td><td>35</td></tr><tr><td>35331</td><td>33</td></tr><tr><td>35341</td><td>35</td></tr><tr><td>35341</td><td>34</td></tr><tr><td>35361</td><td>35</td></tr><tr><td>35361</td><td>36</td></tr><tr><td>36331</td><td>36</td></tr><tr><td>36331</td><td>33</td></tr><tr><td>36351</td><td>36</td></tr><tr><td>36351</td><td>35</td></tr><tr><td>37381</td><td>37</td></tr><tr><td>37381</td><td>38</td></tr><tr><td>37391</td><td>37</td></tr><tr><td>37391</td><td>39</td></tr><tr><td>38371</td><td>38</td></tr><tr><td>38371</td><td>37</td></tr><tr><td>38391</td><td>38</td></tr><tr><td>38391</td><td>39</td></tr><tr><td>39371</td><td>39</td></tr><tr><td>39371</td><td>37</td></tr><tr><td>39381</td><td>39</td></tr><tr><td>39381</td><td>38</td></tr><tr><td>39401</td><td>39</td></tr><tr><td>39401</td><td>40</td></tr><tr><td>40371</td><td>40</td></tr><tr><td>40371</td><td>37</td></tr><tr><td>41421</td><td>41</td></tr><tr><td>41421</td><td>42</td></tr><tr><td>41431</td><td>41</td></tr><tr><td>41431</td><td>43</td></tr><tr><td>41441</td><td>41</td></tr><tr><td>41441</td><td>44</td></tr><tr><td>42411</td><td>42</td></tr><tr><td>42411</td><td>41</td></tr><tr><td>43411</td><td>43</td></tr><tr><td>43411</td><td>41</td></tr><tr><td>43421</td><td>43</td></tr><tr><td>43421</td><td>42</td></tr><tr><td>43441</td><td>43</td></tr><tr><td>43441</td><td>44</td></tr><tr><td>44411</td><td>44</td></tr><tr><td>44411</td><td>41</td></tr><tr><td>44421</td><td>44</td></tr><tr><td>44421</td><td>42</td></tr><tr><td>45461</td><td>45</td></tr><tr><td>45461</td><td>46</td></tr><tr><td>45471</td><td>45</td></tr><tr><td>45471</td><td>47</td></tr><tr><td>46451</td><td>46</td></tr><tr><td>46451</td><td>45</td></tr><tr><td>46471</td><td>46</td></tr><tr><td>46471</td><td>47</td></tr><tr><td>47451</td><td>47</td></tr><tr><td>47451</td><td>45</td></tr><tr><td>47461</td><td>47</td></tr><tr><td>47461</td><td>46</td></tr><tr><td>47481</td><td>47</td></tr><tr><td>47481</td><td>48</td></tr><tr><td>48461</td><td>48</td></tr><tr><td>48461</td><td>46</td></tr><tr><td>48471</td><td>48</td></tr><tr><td>48471</td><td>47</td></tr><tr><td>49501</td><td>49</td></tr><tr><td>49501</td><td>50</td></tr><tr><td>49511</td><td>49</td></tr><tr><td>49511</td><td>51</td></tr><tr><td>49521</td><td>49</td></tr><tr><td>49521</td><td>52</td></tr><tr><td>50491</td><td>50</td></tr><tr><td>50491</td><td>49</td></tr><tr><td>51491</td><td>51</td></tr><tr><td>51491</td><td>49</td></tr><tr><td>51501</td><td>51</td></tr><tr><td>51501</td><td>50</td></tr><tr><td>51521</td><td>51</td></tr><tr><td>51521</td><td>52</td></tr><tr><td>52491</td><td>52</td></tr><tr><td>52491</td><td>49</td></tr><tr><td>52511</td><td>52</td></tr><tr><td>52511</td><td>51</td></tr><tr><td>52501</td><td>52</td></tr><tr><td>52501</td><td>50</td></tr><tr><td>53541</td><td>53</td></tr><tr><td>53541</td><td>54</td></tr><tr><td>53551</td><td>53</td></tr><tr><td>53551</td><td>55</td></tr><tr><td>53561</td><td>53</td></tr><tr><td>53561</td><td>56</td></tr><tr><td>54531</td><td>54</td></tr><tr><td>54531</td><td>53</td></tr><tr><td>55531</td><td>55</td></tr><tr><td>55531</td><td>53</td></tr><tr><td>55541</td><td>55</td></tr><tr><td>55541</td><td>54</td></tr><tr><td>55561</td><td>55</td></tr><tr><td>55561</td><td>56</td></tr><tr><td>56531</td><td>56</td></tr><tr><td>56531</td><td>53</td></tr><tr><td>56551</td><td>56</td></tr><tr><td>56551</td><td>55</td></tr><tr><td>9131</td><td>9</td></tr><tr><td>9131</td><td>13</td></tr><tr><td>9171</td><td>9</td></tr><tr><td>9171</td><td>17</td></tr><tr><td>9211</td><td>9</td></tr><tr><td>9211</td><td>21</td></tr><tr><td>9251</td><td>9</td></tr><tr><td>9251</td><td>25</td></tr><tr><td>9291</td><td>9</td></tr><tr><td>9291</td><td>29</td></tr><tr><td>9331</td><td>9</td></tr><tr><td>9331</td><td>33</td></tr><tr><td>9371</td><td>9</td></tr><tr><td>9371</td><td>37</td></tr><tr><td>9411</td><td>9</td></tr><tr><td>9411</td><td>41</td></tr><tr><td>9451</td><td>9</td></tr><tr><td>9451</td><td>45</td></tr><tr><td>9491</td><td>9</td></tr><tr><td>9491</td><td>49</td></tr><tr><td>9531</td><td>9</td></tr><tr><td>9531</td><td>53</td></tr><tr><td>10141</td><td>10</td></tr><tr><td>10141</td><td>14</td></tr><tr><td>10181</td><td>10</td></tr><tr><td>10181</td><td>18</td></tr><tr><td>10221</td><td>10</td></tr><tr><td>10221</td><td>22</td></tr><tr><td>10261</td><td>10</td></tr><tr><td>10261</td><td>26</td></tr><tr><td>10301</td><td>10</td></tr><tr><td>10301</td><td>30</td></tr><tr><td>10341</td><td>10</td></tr><tr><td>10341</td><td>34</td></tr><tr><td>10381</td><td>10</td></tr><tr><td>10381</td><td>38</td></tr><tr><td>10421</td><td>10</td></tr><tr><td>10421</td><td>42</td></tr><tr><td>10461</td><td>10</td></tr><tr><td>10461</td><td>46</td></tr><tr><td>10501</td><td>10</td></tr><tr><td>10501</td><td>50</td></tr><tr><td>10541</td><td>10</td></tr><tr><td>10541</td><td>54</td></tr><tr><td>11151</td><td>11</td></tr><tr><td>11151</td><td>15</td></tr><tr><td>11191</td><td>11</td></tr><tr><td>11191</td><td>19</td></tr><tr><td>11231</td><td>11</td></tr><tr><td>11231</td><td>23</td></tr><tr><td>11271</td><td>11</td></tr><tr><td>11271</td><td>27</td></tr><tr><td>11311</td><td>11</td></tr><tr><td>11311</td><td>31</td></tr><tr><td>11351</td><td>11</td></tr><tr><td>11351</td><td>35</td></tr><tr><td>11391</td><td>11</td></tr><tr><td>11391</td><td>39</td></tr><tr><td>11431</td><td>11</td></tr><tr><td>11431</td><td>43</td></tr><tr><td>11471</td><td>11</td></tr><tr><td>11471</td><td>47</td></tr><tr><td>11511</td><td>11</td></tr><tr><td>11511</td><td>51</td></tr><tr><td>11551</td><td>11</td></tr><tr><td>11551</td><td>55</td></tr><tr><td>12161</td><td>12</td></tr><tr><td>12161</td><td>16</td></tr><tr><td>12201</td><td>12</td></tr><tr><td>12201</td><td>20</td></tr><tr><td>12241</td><td>12</td></tr><tr><td>12241</td><td>24</td></tr><tr><td>12281</td><td>12</td></tr><tr><td>12281</td><td>28</td></tr><tr><td>12321</td><td>12</td></tr><tr><td>12321</td><td>32</td></tr><tr><td>12361</td><td>12</td></tr><tr><td>12361</td><td>36</td></tr><tr><td>12401</td><td>12</td></tr><tr><td>12401</td><td>40</td></tr><tr><td>12441</td><td>12</td></tr><tr><td>12441</td><td>44</td></tr><tr><td>12481</td><td>12</td></tr><tr><td>12481</td><td>48</td></tr><tr><td>12521</td><td>12</td></tr><tr><td>12521</td><td>52</td></tr><tr><td>12561</td><td>12</td></tr><tr><td>12561</td><td>56</td></tr><tr><td>13251</td><td>13</td></tr><tr><td>13251</td><td>25</td></tr><tr><td>13371</td><td>13</td></tr><tr><td>13371</td><td>37</td></tr><tr><td>13491</td><td>13</td></tr><tr><td>13491</td><td>49</td></tr><tr><td>132</td><td>1</td></tr><tr><td>132</td><td>3</td></tr><tr><td>322</td><td>3</td></tr><tr><td>322</td><td>2</td></tr><tr><td>682</td><td>6</td></tr><tr><td>682</td><td>8</td></tr><tr><td>782</td><td>7</td></tr><tr><td>782</td><td>8</td></tr><tr><td>862</td><td>8</td></tr><tr><td>862</td><td>6</td></tr><tr><td>9112</td><td>9</td></tr><tr><td>9112</td><td>11</td></tr><tr><td>1192</td><td>11</td></tr><tr><td>1192</td><td>9</td></tr><tr><td>14152</td><td>14</td></tr><tr><td>14152</td><td>15</td></tr><tr><td>15162</td><td>15</td></tr><tr><td>15162</td><td>16</td></tr><tr><td>16152</td><td>16</td></tr><tr><td>16152</td><td>15</td></tr><tr><td>21222</td><td>21</td></tr><tr><td>21222</td><td>22</td></tr><tr><td>25282</td><td>25</td></tr><tr><td>25282</td><td>28</td></tr><tr><td>26272</td><td>26</td></tr><tr><td>26272</td><td>27</td></tr><tr><td>27282</td><td>27</td></tr><tr><td>27282</td><td>28</td></tr><tr><td>28252</td><td>28</td></tr><tr><td>28252</td><td>25</td></tr><tr><td>29312</td><td>29</td></tr><tr><td>29312</td><td>31</td></tr><tr><td>31292</td><td>31</td></tr><tr><td>31292</td><td>29</td></tr><tr><td>37402</td><td>37</td></tr><tr><td>37402</td><td>40</td></tr><tr><td>40382</td><td>40</td></tr><tr><td>40382</td><td>38</td></tr><tr><td>45482</td><td>45</td></tr><tr><td>45482</td><td>48</td></tr><tr><td>48452</td><td>48</td></tr><tr><td>48452</td><td>45</td></tr><tr><td>50512</td><td>50</td></tr><tr><td>50512</td><td>51</td></tr><tr><td>592</td><td>5</td></tr><tr><td>592</td><td>9</td></tr><tr><td>5132</td><td>5</td></tr><tr><td>5132</td><td>13</td></tr><tr><td>5172</td><td>5</td></tr><tr><td>5172</td><td>17</td></tr><tr><td>5212</td><td>5</td></tr><tr><td>5212</td><td>21</td></tr><tr><td>5252</td><td>5</td></tr><tr><td>5252</td><td>25</td></tr><tr><td>5292</td><td>5</td></tr><tr><td>5292</td><td>29</td></tr><tr><td>5332</td><td>5</td></tr><tr><td>5332</td><td>33</td></tr><tr><td>5372</td><td>5</td></tr><tr><td>5372</td><td>37</td></tr><tr><td>5412</td><td>5</td></tr><tr><td>5412</td><td>41</td></tr><tr><td>5452</td><td>5</td></tr><tr><td>5452</td><td>45</td></tr><tr><td>5492</td><td>5</td></tr><tr><td>5492</td><td>49</td></tr><tr><td>5532</td><td>5</td></tr><tr><td>5532</td><td>53</td></tr><tr><td>6102</td><td>6</td></tr><tr><td>6102</td><td>10</td></tr><tr><td>6142</td><td>6</td></tr><tr><td>6142</td><td>14</td></tr><tr><td>6182</td><td>6</td></tr><tr><td>6182</td><td>18</td></tr><tr><td>6222</td><td>6</td></tr><tr><td>6222</td><td>22</td></tr><tr><td>6262</td><td>6</td></tr><tr><td>6262</td><td>26</td></tr><tr><td>6302</td><td>6</td></tr><tr><td>6302</td><td>30</td></tr><tr><td>6342</td><td>6</td></tr><tr><td>6342</td><td>34</td></tr><tr><td>6382</td><td>6</td></tr><tr><td>6382</td><td>38</td></tr><tr><td>6422</td><td>6</td></tr><tr><td>6422</td><td>42</td></tr><tr><td>6462</td><td>6</td></tr><tr><td>6462</td><td>46</td></tr><tr><td>6502</td><td>6</td></tr><tr><td>6502</td><td>50</td></tr><tr><td>6542</td><td>6</td></tr><tr><td>6542</td><td>54</td></tr><tr><td>7112</td><td>7</td></tr><tr><td>7112</td><td>11</td></tr><tr><td>7152</td><td>7</td></tr><tr><td>7152</td><td>15</td></tr><tr><td>7192</td><td>7</td></tr><tr><td>7192</td><td>19</td></tr><tr><td>7232</td><td>7</td></tr><tr><td>7232</td><td>23</td></tr><tr><td>7272</td><td>7</td></tr><tr><td>7272</td><td>27</td></tr><tr><td>7312</td><td>7</td></tr><tr><td>7312</td><td>31</td></tr><tr><td>7352</td><td>7</td></tr><tr><td>7352</td><td>35</td></tr><tr><td>7392</td><td>7</td></tr><tr><td>7392</td><td>39</td></tr><tr><td>7432</td><td>7</td></tr><tr><td>7432</td><td>43</td></tr><tr><td>7472</td><td>7</td></tr><tr><td>7472</td><td>47</td></tr><tr><td>7512</td><td>7</td></tr><tr><td>7512</td><td>51</td></tr><tr><td>7552</td><td>7</td></tr><tr><td>7552</td><td>55</td></tr><tr><td>8122</td><td>8</td></tr><tr><td>8122</td><td>12</td></tr><tr><td>8162</td><td>8</td></tr><tr><td>8162</td><td>16</td></tr><tr><td>8202</td><td>8</td></tr><tr><td>8202</td><td>20</td></tr><tr><td>8242</td><td>8</td></tr><tr><td>8242</td><td>24</td></tr><tr><td>8282</td><td>8</td></tr><tr><td>8282</td><td>28</td></tr><tr><td>8322</td><td>8</td></tr><tr><td>8322</td><td>32</td></tr><tr><td>8362</td><td>8</td></tr><tr><td>8362</td><td>36</td></tr><tr><td>8402</td><td>8</td></tr><tr><td>8402</td><td>40</td></tr><tr><td>8442</td><td>8</td></tr><tr><td>8442</td><td>44</td></tr><tr><td>8482</td><td>8</td></tr><tr><td>8482</td><td>48</td></tr><tr><td>8522</td><td>8</td></tr><tr><td>8522</td><td>52</td></tr><tr><td>8562</td><td>8</td></tr><tr><td>8562</td><td>56</td></tr><tr><td>13292</td><td>13</td></tr><tr><td>13292</td><td>29</td></tr><tr><td>13412</td><td>13</td></tr><tr><td>13412</td><td>41</td></tr><tr><td>13532</td><td>13</td></tr><tr><td>13532</td><td>53</td></tr><tr><td>143</td><td>1</td></tr><tr><td>143</td><td>4</td></tr><tr><td>9103</td><td>9</td></tr><tr><td>9103</td><td>10</td></tr><tr><td>13143</td><td>13</td></tr><tr><td>13143</td><td>14</td></tr><tr><td>22233</td><td>22</td></tr><tr><td>22233</td><td>23</td></tr><tr><td>34353</td><td>34</td></tr><tr><td>34353</td><td>35</td></tr><tr><td>42433</td><td>42</td></tr><tr><td>42433</td><td>43</td></tr><tr><td>54553</td><td>54</td></tr><tr><td>54553</td><td>55</td></tr><tr><td>153</td><td>1</td></tr><tr><td>153</td><td>5</td></tr><tr><td>193</td><td>1</td></tr><tr><td>193</td><td>9</td></tr><tr><td>1133</td><td>1</td></tr><tr><td>1133</td><td>13</td></tr><tr><td>1173</td><td>1</td></tr><tr><td>1173</td><td>17</td></tr><tr><td>1213</td><td>1</td></tr><tr><td>1213</td><td>21</td></tr><tr><td>1253</td><td>1</td></tr><tr><td>1253</td><td>25</td></tr><tr><td>1293</td><td>1</td></tr><tr><td>1293</td><td>29</td></tr><tr><td>1333</td><td>1</td></tr><tr><td>1333</td><td>33</td></tr><tr><td>1373</td><td>1</td></tr><tr><td>1373</td><td>37</td></tr><tr><td>1413</td><td>1</td></tr><tr><td>1413</td><td>41</td></tr><tr><td>1453</td><td>1</td></tr><tr><td>1453</td><td>45</td></tr><tr><td>1493</td><td>1</td></tr><tr><td>1493</td><td>49</td></tr><tr><td>1533</td><td>1</td></tr><tr><td>1533</td><td>53</td></tr><tr><td>263</td><td>2</td></tr><tr><td>263</td><td>6</td></tr><tr><td>2103</td><td>2</td></tr><tr><td>2103</td><td>10</td></tr><tr><td>2143</td><td>2</td></tr><tr><td>2143</td><td>14</td></tr><tr><td>2183</td><td>2</td></tr><tr><td>2183</td><td>18</td></tr><tr><td>2223</td><td>2</td></tr><tr><td>2223</td><td>22</td></tr><tr><td>2263</td><td>2</td></tr><tr><td>2263</td><td>26</td></tr><tr><td>2303</td><td>2</td></tr><tr><td>2303</td><td>30</td></tr><tr><td>2343</td><td>2</td></tr><tr><td>2343</td><td>34</td></tr><tr><td>2383</td><td>2</td></tr><tr><td>2383</td><td>38</td></tr><tr><td>2423</td><td>2</td></tr><tr><td>2423</td><td>42</td></tr><tr><td>2463</td><td>2</td></tr><tr><td>2463</td><td>46</td></tr><tr><td>2503</td><td>2</td></tr><tr><td>2503</td><td>50</td></tr><tr><td>2543</td><td>2</td></tr><tr><td>2543</td><td>54</td></tr><tr><td>373</td><td>3</td></tr><tr><td>373</td><td>7</td></tr><tr><td>3113</td><td>3</td></tr><tr><td>3113</td><td>11</td></tr><tr><td>3153</td><td>3</td></tr><tr><td>3153</td><td>15</td></tr><tr><td>3193</td><td>3</td></tr><tr><td>3193</td><td>19</td></tr><tr><td>3233</td><td>3</td></tr><tr><td>3233</td><td>23</td></tr><tr><td>3273</td><td>3</td></tr><tr><td>3273</td><td>27</td></tr><tr><td>3313</td><td>3</td></tr><tr><td>3313</td><td>31</td></tr><tr><td>3353</td><td>3</td></tr><tr><td>3353</td><td>35</td></tr><tr><td>3393</td><td>3</td></tr><tr><td>3393</td><td>39</td></tr><tr><td>3433</td><td>3</td></tr><tr><td>3433</td><td>43</td></tr><tr><td>3473</td><td>3</td></tr><tr><td>3473</td><td>47</td></tr><tr><td>3513</td><td>3</td></tr><tr><td>3513</td><td>51</td></tr><tr><td>3553</td><td>3</td></tr><tr><td>3553</td><td>55</td></tr><tr><td>483</td><td>4</td></tr><tr><td>483</td><td>8</td></tr><tr><td>4123</td><td>4</td></tr><tr><td>4123</td><td>12</td></tr><tr><td>4163</td><td>4</td></tr><tr><td>4163</td><td>16</td></tr><tr><td>4203</td><td>4</td></tr><tr><td>4203</td><td>20</td></tr><tr><td>4243</td><td>4</td></tr><tr><td>4243</td><td>24</td></tr><tr><td>4283</td><td>4</td></tr><tr><td>4283</td><td>28</td></tr><tr><td>4323</td><td>4</td></tr><tr><td>4323</td><td>32</td></tr><tr><td>4363</td><td>4</td></tr><tr><td>4363</td><td>36</td></tr><tr><td>4403</td><td>4</td></tr><tr><td>4403</td><td>40</td></tr><tr><td>4443</td><td>4</td></tr><tr><td>4443</td><td>44</td></tr><tr><td>4483</td><td>4</td></tr><tr><td>4483</td><td>48</td></tr><tr><td>4523</td><td>4</td></tr><tr><td>4523</td><td>52</td></tr><tr><td>4563</td><td>4</td></tr><tr><td>4563</td><td>56</td></tr><tr><td>13213</td><td>13</td></tr><tr><td>13213</td><td>21</td></tr><tr><td>13333</td><td>13</td></tr><tr><td>13333</td><td>33</td></tr><tr><td>13453</td><td>13</td></tr><tr><td>13453</td><td>45</td></tr><tr><td>214</td><td>2</td></tr><tr><td>214</td><td>1</td></tr><tr><td>434</td><td>4</td></tr><tr><td>434</td><td>3</td></tr><tr><td>1094</td><td>10</td></tr><tr><td>1094</td><td>9</td></tr><tr><td>12114</td><td>12</td></tr><tr><td>12114</td><td>11</td></tr><tr><td>30294</td><td>30</td></tr><tr><td>30294</td><td>29</td></tr><tr><td>32314</td><td>32</td></tr><tr><td>32314</td><td>31</td></tr><tr><td>13174</td><td>13</td></tr><tr><td>13174</td><td>17</td></tr></tbody></table></div>"
      ]
     },
     "metadata": {
      "application/vnd.databricks.v1+output": {
       "addedWidgets": {},
       "aggData": [],
       "aggError": "",
       "aggOverflow": false,
       "aggSchema": [],
       "aggSeriesLimitReached": false,
       "aggType": "",
       "arguments": {},
       "columnCustomDisplayInfos": {},
       "data": [
        [
         "121",
         "1"
        ],
        [
         "121",
         "2"
        ],
        [
         "341",
         "3"
        ],
        [
         "341",
         "4"
        ],
        [
         "411",
         "4"
        ],
        [
         "411",
         "1"
        ],
        [
         "561",
         "5"
        ],
        [
         "561",
         "6"
        ],
        [
         "571",
         "5"
        ],
        [
         "571",
         "7"
        ],
        [
         "651",
         "6"
        ],
        [
         "651",
         "5"
        ],
        [
         "751",
         "7"
        ],
        [
         "751",
         "5"
        ],
        [
         "871",
         "8"
        ],
        [
         "871",
         "7"
        ],
        [
         "9121",
         "9"
        ],
        [
         "9121",
         "12"
        ],
        [
         "11121",
         "11"
        ],
        [
         "11121",
         "12"
        ],
        [
         "1291",
         "12"
        ],
        [
         "1291",
         "9"
        ],
        [
         "13151",
         "13"
        ],
        [
         "13151",
         "15"
        ],
        [
         "13161",
         "13"
        ],
        [
         "13161",
         "16"
        ],
        [
         "14131",
         "14"
        ],
        [
         "14131",
         "13"
        ],
        [
         "15131",
         "15"
        ],
        [
         "15131",
         "13"
        ],
        [
         "15141",
         "15"
        ],
        [
         "15141",
         "14"
        ],
        [
         "16131",
         "16"
        ],
        [
         "16131",
         "13"
        ],
        [
         "17181",
         "17"
        ],
        [
         "17181",
         "18"
        ],
        [
         "17191",
         "17"
        ],
        [
         "17191",
         "19"
        ],
        [
         "18171",
         "18"
        ],
        [
         "18171",
         "17"
        ],
        [
         "18201",
         "18"
        ],
        [
         "18201",
         "20"
        ],
        [
         "19171",
         "19"
        ],
        [
         "19171",
         "17"
        ],
        [
         "19201",
         "19"
        ],
        [
         "19201",
         "20"
        ],
        [
         "20181",
         "20"
        ],
        [
         "20181",
         "18"
        ],
        [
         "20191",
         "20"
        ],
        [
         "20191",
         "19"
        ],
        [
         "21231",
         "21"
        ],
        [
         "21231",
         "23"
        ],
        [
         "21241",
         "21"
        ],
        [
         "21241",
         "24"
        ],
        [
         "22211",
         "22"
        ],
        [
         "22211",
         "21"
        ],
        [
         "23211",
         "23"
        ],
        [
         "23211",
         "21"
        ],
        [
         "23221",
         "23"
        ],
        [
         "23221",
         "22"
        ],
        [
         "24211",
         "24"
        ],
        [
         "24211",
         "21"
        ],
        [
         "24221",
         "24"
        ],
        [
         "24221",
         "22"
        ],
        [
         "25261",
         "25"
        ],
        [
         "25261",
         "26"
        ],
        [
         "25271",
         "25"
        ],
        [
         "25271",
         "27"
        ],
        [
         "26251",
         "26"
        ],
        [
         "26251",
         "25"
        ],
        [
         "27251",
         "27"
        ],
        [
         "27251",
         "25"
        ],
        [
         "27261",
         "27"
        ],
        [
         "27261",
         "26"
        ],
        [
         "28271",
         "28"
        ],
        [
         "28271",
         "27"
        ],
        [
         "29301",
         "29"
        ],
        [
         "29301",
         "30"
        ],
        [
         "29321",
         "29"
        ],
        [
         "29321",
         "32"
        ],
        [
         "31321",
         "31"
        ],
        [
         "31321",
         "32"
        ],
        [
         "32291",
         "32"
        ],
        [
         "32291",
         "29"
        ],
        [
         "33341",
         "33"
        ],
        [
         "33341",
         "34"
        ],
        [
         "33351",
         "33"
        ],
        [
         "33351",
         "35"
        ],
        [
         "33361",
         "33"
        ],
        [
         "33361",
         "36"
        ],
        [
         "34331",
         "34"
        ],
        [
         "34331",
         "33"
        ],
        [
         "35331",
         "35"
        ],
        [
         "35331",
         "33"
        ],
        [
         "35341",
         "35"
        ],
        [
         "35341",
         "34"
        ],
        [
         "35361",
         "35"
        ],
        [
         "35361",
         "36"
        ],
        [
         "36331",
         "36"
        ],
        [
         "36331",
         "33"
        ],
        [
         "36351",
         "36"
        ],
        [
         "36351",
         "35"
        ],
        [
         "37381",
         "37"
        ],
        [
         "37381",
         "38"
        ],
        [
         "37391",
         "37"
        ],
        [
         "37391",
         "39"
        ],
        [
         "38371",
         "38"
        ],
        [
         "38371",
         "37"
        ],
        [
         "38391",
         "38"
        ],
        [
         "38391",
         "39"
        ],
        [
         "39371",
         "39"
        ],
        [
         "39371",
         "37"
        ],
        [
         "39381",
         "39"
        ],
        [
         "39381",
         "38"
        ],
        [
         "39401",
         "39"
        ],
        [
         "39401",
         "40"
        ],
        [
         "40371",
         "40"
        ],
        [
         "40371",
         "37"
        ],
        [
         "41421",
         "41"
        ],
        [
         "41421",
         "42"
        ],
        [
         "41431",
         "41"
        ],
        [
         "41431",
         "43"
        ],
        [
         "41441",
         "41"
        ],
        [
         "41441",
         "44"
        ],
        [
         "42411",
         "42"
        ],
        [
         "42411",
         "41"
        ],
        [
         "43411",
         "43"
        ],
        [
         "43411",
         "41"
        ],
        [
         "43421",
         "43"
        ],
        [
         "43421",
         "42"
        ],
        [
         "43441",
         "43"
        ],
        [
         "43441",
         "44"
        ],
        [
         "44411",
         "44"
        ],
        [
         "44411",
         "41"
        ],
        [
         "44421",
         "44"
        ],
        [
         "44421",
         "42"
        ],
        [
         "45461",
         "45"
        ],
        [
         "45461",
         "46"
        ],
        [
         "45471",
         "45"
        ],
        [
         "45471",
         "47"
        ],
        [
         "46451",
         "46"
        ],
        [
         "46451",
         "45"
        ],
        [
         "46471",
         "46"
        ],
        [
         "46471",
         "47"
        ],
        [
         "47451",
         "47"
        ],
        [
         "47451",
         "45"
        ],
        [
         "47461",
         "47"
        ],
        [
         "47461",
         "46"
        ],
        [
         "47481",
         "47"
        ],
        [
         "47481",
         "48"
        ],
        [
         "48461",
         "48"
        ],
        [
         "48461",
         "46"
        ],
        [
         "48471",
         "48"
        ],
        [
         "48471",
         "47"
        ],
        [
         "49501",
         "49"
        ],
        [
         "49501",
         "50"
        ],
        [
         "49511",
         "49"
        ],
        [
         "49511",
         "51"
        ],
        [
         "49521",
         "49"
        ],
        [
         "49521",
         "52"
        ],
        [
         "50491",
         "50"
        ],
        [
         "50491",
         "49"
        ],
        [
         "51491",
         "51"
        ],
        [
         "51491",
         "49"
        ],
        [
         "51501",
         "51"
        ],
        [
         "51501",
         "50"
        ],
        [
         "51521",
         "51"
        ],
        [
         "51521",
         "52"
        ],
        [
         "52491",
         "52"
        ],
        [
         "52491",
         "49"
        ],
        [
         "52511",
         "52"
        ],
        [
         "52511",
         "51"
        ],
        [
         "52501",
         "52"
        ],
        [
         "52501",
         "50"
        ],
        [
         "53541",
         "53"
        ],
        [
         "53541",
         "54"
        ],
        [
         "53551",
         "53"
        ],
        [
         "53551",
         "55"
        ],
        [
         "53561",
         "53"
        ],
        [
         "53561",
         "56"
        ],
        [
         "54531",
         "54"
        ],
        [
         "54531",
         "53"
        ],
        [
         "55531",
         "55"
        ],
        [
         "55531",
         "53"
        ],
        [
         "55541",
         "55"
        ],
        [
         "55541",
         "54"
        ],
        [
         "55561",
         "55"
        ],
        [
         "55561",
         "56"
        ],
        [
         "56531",
         "56"
        ],
        [
         "56531",
         "53"
        ],
        [
         "56551",
         "56"
        ],
        [
         "56551",
         "55"
        ],
        [
         "9131",
         "9"
        ],
        [
         "9131",
         "13"
        ],
        [
         "9171",
         "9"
        ],
        [
         "9171",
         "17"
        ],
        [
         "9211",
         "9"
        ],
        [
         "9211",
         "21"
        ],
        [
         "9251",
         "9"
        ],
        [
         "9251",
         "25"
        ],
        [
         "9291",
         "9"
        ],
        [
         "9291",
         "29"
        ],
        [
         "9331",
         "9"
        ],
        [
         "9331",
         "33"
        ],
        [
         "9371",
         "9"
        ],
        [
         "9371",
         "37"
        ],
        [
         "9411",
         "9"
        ],
        [
         "9411",
         "41"
        ],
        [
         "9451",
         "9"
        ],
        [
         "9451",
         "45"
        ],
        [
         "9491",
         "9"
        ],
        [
         "9491",
         "49"
        ],
        [
         "9531",
         "9"
        ],
        [
         "9531",
         "53"
        ],
        [
         "10141",
         "10"
        ],
        [
         "10141",
         "14"
        ],
        [
         "10181",
         "10"
        ],
        [
         "10181",
         "18"
        ],
        [
         "10221",
         "10"
        ],
        [
         "10221",
         "22"
        ],
        [
         "10261",
         "10"
        ],
        [
         "10261",
         "26"
        ],
        [
         "10301",
         "10"
        ],
        [
         "10301",
         "30"
        ],
        [
         "10341",
         "10"
        ],
        [
         "10341",
         "34"
        ],
        [
         "10381",
         "10"
        ],
        [
         "10381",
         "38"
        ],
        [
         "10421",
         "10"
        ],
        [
         "10421",
         "42"
        ],
        [
         "10461",
         "10"
        ],
        [
         "10461",
         "46"
        ],
        [
         "10501",
         "10"
        ],
        [
         "10501",
         "50"
        ],
        [
         "10541",
         "10"
        ],
        [
         "10541",
         "54"
        ],
        [
         "11151",
         "11"
        ],
        [
         "11151",
         "15"
        ],
        [
         "11191",
         "11"
        ],
        [
         "11191",
         "19"
        ],
        [
         "11231",
         "11"
        ],
        [
         "11231",
         "23"
        ],
        [
         "11271",
         "11"
        ],
        [
         "11271",
         "27"
        ],
        [
         "11311",
         "11"
        ],
        [
         "11311",
         "31"
        ],
        [
         "11351",
         "11"
        ],
        [
         "11351",
         "35"
        ],
        [
         "11391",
         "11"
        ],
        [
         "11391",
         "39"
        ],
        [
         "11431",
         "11"
        ],
        [
         "11431",
         "43"
        ],
        [
         "11471",
         "11"
        ],
        [
         "11471",
         "47"
        ],
        [
         "11511",
         "11"
        ],
        [
         "11511",
         "51"
        ],
        [
         "11551",
         "11"
        ],
        [
         "11551",
         "55"
        ],
        [
         "12161",
         "12"
        ],
        [
         "12161",
         "16"
        ],
        [
         "12201",
         "12"
        ],
        [
         "12201",
         "20"
        ],
        [
         "12241",
         "12"
        ],
        [
         "12241",
         "24"
        ],
        [
         "12281",
         "12"
        ],
        [
         "12281",
         "28"
        ],
        [
         "12321",
         "12"
        ],
        [
         "12321",
         "32"
        ],
        [
         "12361",
         "12"
        ],
        [
         "12361",
         "36"
        ],
        [
         "12401",
         "12"
        ],
        [
         "12401",
         "40"
        ],
        [
         "12441",
         "12"
        ],
        [
         "12441",
         "44"
        ],
        [
         "12481",
         "12"
        ],
        [
         "12481",
         "48"
        ],
        [
         "12521",
         "12"
        ],
        [
         "12521",
         "52"
        ],
        [
         "12561",
         "12"
        ],
        [
         "12561",
         "56"
        ],
        [
         "13251",
         "13"
        ],
        [
         "13251",
         "25"
        ],
        [
         "13371",
         "13"
        ],
        [
         "13371",
         "37"
        ],
        [
         "13491",
         "13"
        ],
        [
         "13491",
         "49"
        ],
        [
         "132",
         "1"
        ],
        [
         "132",
         "3"
        ],
        [
         "322",
         "3"
        ],
        [
         "322",
         "2"
        ],
        [
         "682",
         "6"
        ],
        [
         "682",
         "8"
        ],
        [
         "782",
         "7"
        ],
        [
         "782",
         "8"
        ],
        [
         "862",
         "8"
        ],
        [
         "862",
         "6"
        ],
        [
         "9112",
         "9"
        ],
        [
         "9112",
         "11"
        ],
        [
         "1192",
         "11"
        ],
        [
         "1192",
         "9"
        ],
        [
         "14152",
         "14"
        ],
        [
         "14152",
         "15"
        ],
        [
         "15162",
         "15"
        ],
        [
         "15162",
         "16"
        ],
        [
         "16152",
         "16"
        ],
        [
         "16152",
         "15"
        ],
        [
         "21222",
         "21"
        ],
        [
         "21222",
         "22"
        ],
        [
         "25282",
         "25"
        ],
        [
         "25282",
         "28"
        ],
        [
         "26272",
         "26"
        ],
        [
         "26272",
         "27"
        ],
        [
         "27282",
         "27"
        ],
        [
         "27282",
         "28"
        ],
        [
         "28252",
         "28"
        ],
        [
         "28252",
         "25"
        ],
        [
         "29312",
         "29"
        ],
        [
         "29312",
         "31"
        ],
        [
         "31292",
         "31"
        ],
        [
         "31292",
         "29"
        ],
        [
         "37402",
         "37"
        ],
        [
         "37402",
         "40"
        ],
        [
         "40382",
         "40"
        ],
        [
         "40382",
         "38"
        ],
        [
         "45482",
         "45"
        ],
        [
         "45482",
         "48"
        ],
        [
         "48452",
         "48"
        ],
        [
         "48452",
         "45"
        ],
        [
         "50512",
         "50"
        ],
        [
         "50512",
         "51"
        ],
        [
         "592",
         "5"
        ],
        [
         "592",
         "9"
        ],
        [
         "5132",
         "5"
        ],
        [
         "5132",
         "13"
        ],
        [
         "5172",
         "5"
        ],
        [
         "5172",
         "17"
        ],
        [
         "5212",
         "5"
        ],
        [
         "5212",
         "21"
        ],
        [
         "5252",
         "5"
        ],
        [
         "5252",
         "25"
        ],
        [
         "5292",
         "5"
        ],
        [
         "5292",
         "29"
        ],
        [
         "5332",
         "5"
        ],
        [
         "5332",
         "33"
        ],
        [
         "5372",
         "5"
        ],
        [
         "5372",
         "37"
        ],
        [
         "5412",
         "5"
        ],
        [
         "5412",
         "41"
        ],
        [
         "5452",
         "5"
        ],
        [
         "5452",
         "45"
        ],
        [
         "5492",
         "5"
        ],
        [
         "5492",
         "49"
        ],
        [
         "5532",
         "5"
        ],
        [
         "5532",
         "53"
        ],
        [
         "6102",
         "6"
        ],
        [
         "6102",
         "10"
        ],
        [
         "6142",
         "6"
        ],
        [
         "6142",
         "14"
        ],
        [
         "6182",
         "6"
        ],
        [
         "6182",
         "18"
        ],
        [
         "6222",
         "6"
        ],
        [
         "6222",
         "22"
        ],
        [
         "6262",
         "6"
        ],
        [
         "6262",
         "26"
        ],
        [
         "6302",
         "6"
        ],
        [
         "6302",
         "30"
        ],
        [
         "6342",
         "6"
        ],
        [
         "6342",
         "34"
        ],
        [
         "6382",
         "6"
        ],
        [
         "6382",
         "38"
        ],
        [
         "6422",
         "6"
        ],
        [
         "6422",
         "42"
        ],
        [
         "6462",
         "6"
        ],
        [
         "6462",
         "46"
        ],
        [
         "6502",
         "6"
        ],
        [
         "6502",
         "50"
        ],
        [
         "6542",
         "6"
        ],
        [
         "6542",
         "54"
        ],
        [
         "7112",
         "7"
        ],
        [
         "7112",
         "11"
        ],
        [
         "7152",
         "7"
        ],
        [
         "7152",
         "15"
        ],
        [
         "7192",
         "7"
        ],
        [
         "7192",
         "19"
        ],
        [
         "7232",
         "7"
        ],
        [
         "7232",
         "23"
        ],
        [
         "7272",
         "7"
        ],
        [
         "7272",
         "27"
        ],
        [
         "7312",
         "7"
        ],
        [
         "7312",
         "31"
        ],
        [
         "7352",
         "7"
        ],
        [
         "7352",
         "35"
        ],
        [
         "7392",
         "7"
        ],
        [
         "7392",
         "39"
        ],
        [
         "7432",
         "7"
        ],
        [
         "7432",
         "43"
        ],
        [
         "7472",
         "7"
        ],
        [
         "7472",
         "47"
        ],
        [
         "7512",
         "7"
        ],
        [
         "7512",
         "51"
        ],
        [
         "7552",
         "7"
        ],
        [
         "7552",
         "55"
        ],
        [
         "8122",
         "8"
        ],
        [
         "8122",
         "12"
        ],
        [
         "8162",
         "8"
        ],
        [
         "8162",
         "16"
        ],
        [
         "8202",
         "8"
        ],
        [
         "8202",
         "20"
        ],
        [
         "8242",
         "8"
        ],
        [
         "8242",
         "24"
        ],
        [
         "8282",
         "8"
        ],
        [
         "8282",
         "28"
        ],
        [
         "8322",
         "8"
        ],
        [
         "8322",
         "32"
        ],
        [
         "8362",
         "8"
        ],
        [
         "8362",
         "36"
        ],
        [
         "8402",
         "8"
        ],
        [
         "8402",
         "40"
        ],
        [
         "8442",
         "8"
        ],
        [
         "8442",
         "44"
        ],
        [
         "8482",
         "8"
        ],
        [
         "8482",
         "48"
        ],
        [
         "8522",
         "8"
        ],
        [
         "8522",
         "52"
        ],
        [
         "8562",
         "8"
        ],
        [
         "8562",
         "56"
        ],
        [
         "13292",
         "13"
        ],
        [
         "13292",
         "29"
        ],
        [
         "13412",
         "13"
        ],
        [
         "13412",
         "41"
        ],
        [
         "13532",
         "13"
        ],
        [
         "13532",
         "53"
        ],
        [
         "143",
         "1"
        ],
        [
         "143",
         "4"
        ],
        [
         "9103",
         "9"
        ],
        [
         "9103",
         "10"
        ],
        [
         "13143",
         "13"
        ],
        [
         "13143",
         "14"
        ],
        [
         "22233",
         "22"
        ],
        [
         "22233",
         "23"
        ],
        [
         "34353",
         "34"
        ],
        [
         "34353",
         "35"
        ],
        [
         "42433",
         "42"
        ],
        [
         "42433",
         "43"
        ],
        [
         "54553",
         "54"
        ],
        [
         "54553",
         "55"
        ],
        [
         "153",
         "1"
        ],
        [
         "153",
         "5"
        ],
        [
         "193",
         "1"
        ],
        [
         "193",
         "9"
        ],
        [
         "1133",
         "1"
        ],
        [
         "1133",
         "13"
        ],
        [
         "1173",
         "1"
        ],
        [
         "1173",
         "17"
        ],
        [
         "1213",
         "1"
        ],
        [
         "1213",
         "21"
        ],
        [
         "1253",
         "1"
        ],
        [
         "1253",
         "25"
        ],
        [
         "1293",
         "1"
        ],
        [
         "1293",
         "29"
        ],
        [
         "1333",
         "1"
        ],
        [
         "1333",
         "33"
        ],
        [
         "1373",
         "1"
        ],
        [
         "1373",
         "37"
        ],
        [
         "1413",
         "1"
        ],
        [
         "1413",
         "41"
        ],
        [
         "1453",
         "1"
        ],
        [
         "1453",
         "45"
        ],
        [
         "1493",
         "1"
        ],
        [
         "1493",
         "49"
        ],
        [
         "1533",
         "1"
        ],
        [
         "1533",
         "53"
        ],
        [
         "263",
         "2"
        ],
        [
         "263",
         "6"
        ],
        [
         "2103",
         "2"
        ],
        [
         "2103",
         "10"
        ],
        [
         "2143",
         "2"
        ],
        [
         "2143",
         "14"
        ],
        [
         "2183",
         "2"
        ],
        [
         "2183",
         "18"
        ],
        [
         "2223",
         "2"
        ],
        [
         "2223",
         "22"
        ],
        [
         "2263",
         "2"
        ],
        [
         "2263",
         "26"
        ],
        [
         "2303",
         "2"
        ],
        [
         "2303",
         "30"
        ],
        [
         "2343",
         "2"
        ],
        [
         "2343",
         "34"
        ],
        [
         "2383",
         "2"
        ],
        [
         "2383",
         "38"
        ],
        [
         "2423",
         "2"
        ],
        [
         "2423",
         "42"
        ],
        [
         "2463",
         "2"
        ],
        [
         "2463",
         "46"
        ],
        [
         "2503",
         "2"
        ],
        [
         "2503",
         "50"
        ],
        [
         "2543",
         "2"
        ],
        [
         "2543",
         "54"
        ],
        [
         "373",
         "3"
        ],
        [
         "373",
         "7"
        ],
        [
         "3113",
         "3"
        ],
        [
         "3113",
         "11"
        ],
        [
         "3153",
         "3"
        ],
        [
         "3153",
         "15"
        ],
        [
         "3193",
         "3"
        ],
        [
         "3193",
         "19"
        ],
        [
         "3233",
         "3"
        ],
        [
         "3233",
         "23"
        ],
        [
         "3273",
         "3"
        ],
        [
         "3273",
         "27"
        ],
        [
         "3313",
         "3"
        ],
        [
         "3313",
         "31"
        ],
        [
         "3353",
         "3"
        ],
        [
         "3353",
         "35"
        ],
        [
         "3393",
         "3"
        ],
        [
         "3393",
         "39"
        ],
        [
         "3433",
         "3"
        ],
        [
         "3433",
         "43"
        ],
        [
         "3473",
         "3"
        ],
        [
         "3473",
         "47"
        ],
        [
         "3513",
         "3"
        ],
        [
         "3513",
         "51"
        ],
        [
         "3553",
         "3"
        ],
        [
         "3553",
         "55"
        ],
        [
         "483",
         "4"
        ],
        [
         "483",
         "8"
        ],
        [
         "4123",
         "4"
        ],
        [
         "4123",
         "12"
        ],
        [
         "4163",
         "4"
        ],
        [
         "4163",
         "16"
        ],
        [
         "4203",
         "4"
        ],
        [
         "4203",
         "20"
        ],
        [
         "4243",
         "4"
        ],
        [
         "4243",
         "24"
        ],
        [
         "4283",
         "4"
        ],
        [
         "4283",
         "28"
        ],
        [
         "4323",
         "4"
        ],
        [
         "4323",
         "32"
        ],
        [
         "4363",
         "4"
        ],
        [
         "4363",
         "36"
        ],
        [
         "4403",
         "4"
        ],
        [
         "4403",
         "40"
        ],
        [
         "4443",
         "4"
        ],
        [
         "4443",
         "44"
        ],
        [
         "4483",
         "4"
        ],
        [
         "4483",
         "48"
        ],
        [
         "4523",
         "4"
        ],
        [
         "4523",
         "52"
        ],
        [
         "4563",
         "4"
        ],
        [
         "4563",
         "56"
        ],
        [
         "13213",
         "13"
        ],
        [
         "13213",
         "21"
        ],
        [
         "13333",
         "13"
        ],
        [
         "13333",
         "33"
        ],
        [
         "13453",
         "13"
        ],
        [
         "13453",
         "45"
        ],
        [
         "214",
         "2"
        ],
        [
         "214",
         "1"
        ],
        [
         "434",
         "4"
        ],
        [
         "434",
         "3"
        ],
        [
         "1094",
         "10"
        ],
        [
         "1094",
         "9"
        ],
        [
         "12114",
         "12"
        ],
        [
         "12114",
         "11"
        ],
        [
         "30294",
         "30"
        ],
        [
         "30294",
         "29"
        ],
        [
         "32314",
         "32"
        ],
        [
         "32314",
         "31"
        ],
        [
         "13174",
         "13"
        ],
        [
         "13174",
         "17"
        ]
       ],
       "datasetInfos": [],
       "dbfsResultPath": null,
       "isJsonSchema": true,
       "metadata": {},
       "overflow": false,
       "plotOptions": {
        "customPlotOptions": {},
        "displayType": "table",
        "pivotAggregation": null,
        "pivotColumns": null,
        "xColumns": null,
        "yColumns": null
       },
       "removedWidgets": [],
       "schema": [
        {
         "metadata": "{}",
         "name": "edge_id",
         "type": "\"string\""
        },
        {
         "metadata": "{}",
         "name": "node_in_edge",
         "type": "\"string\""
        }
       ],
       "type": "table"
      }
     },
     "output_type": "display_data"
    }
   ],
   "source": [
    "# mafia_graph_edges_sub_network = sub_network_nodes \\\n",
    "#     .withColumn(\"edge_id\", F.concat(F.col(\"src\"), F.col(\"dst\"), F.col(\"row_number\"))) \\\n",
    "#     .selectExpr(\"edge_id\", 'explode(array(src, dst)) AS node_in_edge') \\\n",
    "#     .dropDuplicates()\n",
    "\n",
    "# mafia_graph_edges_sub_network.display()"
   ]
  },
  {
   "cell_type": "code",
   "execution_count": 0,
   "metadata": {
    "application/vnd.databricks.v1+cell": {
     "cellMetadata": {
      "byteLimit": 2048000,
      "rowLimit": 10000
     },
     "inputWidgets": {},
     "nuid": "7b2be719-6c79-446b-85e1-25c928b71787",
     "showTitle": false,
     "title": ""
    }
   },
   "outputs": [
    {
     "output_type": "stream",
     "name": "stderr",
     "output_type": "stream",
     "text": [
      "/databricks/spark/python/pyspark/sql/dataframe.py:149: UserWarning: DataFrame constructor is internal. Do not directly use it.\n  warnings.warn(\"DataFrame constructor is internal. Do not directly use it.\")\n/databricks/spark/python/pyspark/sql/dataframe.py:170: UserWarning: DataFrame.sql_ctx is an internal property, and will be removed in future releases. Use DataFrame.sparkSession instead.\n  warnings.warn(\n"
     ]
    }
   ],
   "source": [
    "# Get unique edges from subnetwork\n",
    "sub_network_edges = list(map(lambda x: x[\"id\"], sub_network_nodes.select(\"id\").collect()))\n",
    "\n",
    "# Filter network by subnetwork nodes\n",
    "sub_network_df = mafia_graph.filterEdges(F.col(\"src\").isin(sub_network_edges) | F.col(\"dst\").isin(sub_network_edges)).edges"
   ]
  },
  {
   "cell_type": "code",
   "execution_count": 0,
   "metadata": {
    "application/vnd.databricks.v1+cell": {
     "cellMetadata": {
      "byteLimit": 2048000,
      "rowLimit": 10000
     },
     "inputWidgets": {},
     "nuid": "fa165a08-ad59-48c4-b989-29c80a2ac3fc",
     "showTitle": false,
     "title": ""
    }
   },
   "outputs": [
    {
     "output_type": "stream",
     "name": "stderr",
     "output_type": "stream",
     "text": [
      "/databricks/spark/python/pyspark/sql/dataframe.py:170: UserWarning: DataFrame.sql_ctx is an internal property, and will be removed in future releases. Use DataFrame.sparkSession instead.\n  warnings.warn(\n"
     ]
    },
    {
     "output_type": "stream",
     "name": "stdout",
     "output_type": "stream",
     "text": [
      "+----------+---------+---+--------------+------+---------+----------+------+---------+----------+\n|First Name|Last Name| id|        Family|result|report_id|row_number|result|report_id|row_number|\n+----------+---------+---+--------------+------+---------+----------+------+---------+----------+\n|   Antonio|    Rossi|  3|  Rossi Family| B-PER|        7|       898| I-PER|        7|       899|\n|     Carlo|   Romano| 17| Romano Family| B-PER|        2|       280| I-PER|        2|       281|\n|    Chiara|    Ricci| 10|  Ricci Family| B-PER|        7|       906| I-PER|        7|       907|\n|     Elena|    Conti| 26|  Conti Family| B-PER|        1|        65| I-PER|        1|        66|\n|  Federico|   Romano| 19| Romano Family| B-PER|        1|        37| I-PER|        1|        38|\n| Francesca|   Marini| 24| Marini Family| B-PER|        2|       315| I-PER|        2|       316|\n| Francesco|    Ricci|  9|  Ricci Family| B-PER|        1|        73| I-PER|        1|        74|\n|  Giovanni|  Moretti| 13|Moretti Family| B-PER|        2|       308| I-PER|        2|       309|\n|    Giulia|  Bianchi|  6|Bianchi Family| B-PER|        1|        19| I-PER|        1|        20|\n|  Giuliana|    Conti| 28|  Conti Family| B-PER|        6|       818| I-PER|        6|       819|\n|  Giuseppe|    Rossi|  1|  Rossi Family| B-PER|        1|       139| I-PER|        1|       140|\n|      Luca|  Bianchi|  5|Bianchi Family| B-PER|        7|       936| I-PER|        7|       937|\n|      Luca|  Moretti| 41|Moretti Family| B-PER|        1|       113| I-PER|        1|       114|\n|     Marco|  Bianchi|  7|Bianchi Family| B-PER|        3|       409| I-PER|        3|       410|\n|   Martina|   Romano| 20| Romano Family| B-PER|        7|       943| I-PER|        7|       944|\n|     Paolo|    Conti| 27|  Conti Family| B-PER|        6|       786| I-PER|        6|       787|\n|    Teresa|   Marini| 22| Marini Family| B-PER|        3|       445| I-PER|        3|       446|\n+----------+---------+---+--------------+------+---------+----------+------+---------+----------+\n\n"
     ]
    }
   ],
   "source": [
    "mafia_subgraph = GraphFrame(sub_network_nodes, sub_network_df)\n",
    "\n",
    "mafia_subgraph.vertices.show()"
   ]
  },
  {
   "cell_type": "markdown",
   "metadata": {
    "application/vnd.databricks.v1+cell": {
     "cellMetadata": {
      "byteLimit": 2048000,
      "rowLimit": 10000
     },
     "inputWidgets": {},
     "nuid": "1bcbe0b0-471c-446b-b60e-6f143f49a537",
     "showTitle": false,
     "title": ""
    }
   },
   "source": [
    "While ``graphframes`` offers a method to compute ``degree centrality``, its inventory is relatively limited. Since we are operating on different partitions of the graph (i.e. the subgraph induced by the mentioned people in the reports and the entire graph), we can use Spark's capabilities and parallelize the operations. To this end, we will make use of the ``networkx`` library, which offers a wealth of functions to work with graphs."
   ]
  },
  {
   "cell_type": "markdown",
   "metadata": {
    "application/vnd.databricks.v1+cell": {
     "cellMetadata": {
      "byteLimit": 2048000,
      "rowLimit": 10000
     },
     "inputWidgets": {},
     "nuid": "b6be89e5-d523-4479-b80e-6b596b0d0610",
     "showTitle": false,
     "title": ""
    }
   },
   "source": [
    "As we can see, there are four different types of edges:\n",
    "- Asked for Meeting\n",
    "- Threatened\n",
    "- Sent Money\n",
    "- Called\n",
    "\n",
    "Those edge types give us the idea that this graph is directed."
   ]
  },
  {
   "cell_type": "markdown",
   "metadata": {
    "application/vnd.databricks.v1+cell": {
     "cellMetadata": {
      "byteLimit": 2048000,
      "rowLimit": 10000
     },
     "inputWidgets": {},
     "nuid": "36d6bdca-b969-45fa-a3c1-d5681dcbe965",
     "showTitle": false,
     "title": ""
    }
   },
   "source": [
    "Let us now proceed to our actual network analysis. We will compute to network centrality measures here, (in-/out-)degree centrality and betweenness centrality."
   ]
  },
  {
   "cell_type": "markdown",
   "metadata": {
    "application/vnd.databricks.v1+cell": {
     "cellMetadata": {
      "byteLimit": 2048000,
      "rowLimit": 10000
     },
     "inputWidgets": {},
     "nuid": "f640e65e-7543-4393-b809-de1ee74cf77f",
     "showTitle": false,
     "title": ""
    }
   },
   "source": [
    "- *Degree centrality* measures the importance of a node in a network based on its connections. In the context of in-degree centrality, this metric quantifies how many incoming connections a node has, reflecting its popularity or influence within the network. Conversely, out-degree centrality assesses the number of outgoing connections from a node, indicating its capacity to disseminate information or influence others. \n",
    "\n",
    "- *Betweenness centrality*, on the other hand, evaluates the extent to which a node serves as a bridge or intermediary between other nodes in the network. Nodes with high betweenness centrality often lie on many shortest paths between pairs of nodes, suggesting their critical role in maintaining connectivity and facilitating communication within the network.\n",
    "\n",
    "Both of these, among many others, are implement in ``networkx``. To make us of these functionalities, we use a trick we learned in a previous class: ``pandas`` UDFs, which allow us to pass our graphframe or dataframe into a function and operate on it as normal Python code."
   ]
  },
  {
   "cell_type": "code",
   "execution_count": 0,
   "metadata": {
    "application/vnd.databricks.v1+cell": {
     "cellMetadata": {
      "byteLimit": 2048000,
      "rowLimit": 10000
     },
     "inputWidgets": {},
     "nuid": "53675d45-2475-43bf-bd06-df6f5fde7bf5",
     "showTitle": false,
     "title": ""
    }
   },
   "outputs": [
    {
     "output_type": "display_data",
     "data": {
      "application/vnd.databricks.v1+bamboolib_hint": "{\"pd.DataFrames\": [], \"version\": \"0.0.1\"}",
      "text/plain": []
     },
     "metadata": {},
     "output_type": "display_data"
    }
   ],
   "source": [
    "import pandas as pd\n",
    "\n",
    "output_schema_degree = tp.StructType([\n",
    "    tp.StructField(\"relation_type\", tp.StringType(), False),\n",
    "    tp.StructField(\"node\", tp.StringType(), False),\n",
    "    tp.StructField(\"in_degree_centrality\", tp.FloatType(), False),\n",
    "    tp.StructField(\"out_degree_centrality\", tp.FloatType(), False),\n",
    "])\n",
    "\n",
    "output_schema_betweenness = tp.StructType([\n",
    "    tp.StructField(\"relation_type\", tp.StringType(), False),\n",
    "    tp.StructField(\"node\", tp.StringType(), False),\n",
    "    tp.StructField(\"betweenness_centrality\", tp.FloatType(), False),\n",
    "])\n",
    "\n",
    "def nx_degree_centrality(pdf: pd.DataFrame) -> pd.DataFrame:\n",
    "    # We get the relation_type key\n",
    "    key = pdf[\"relation_type\"].iloc[0]\n",
    "\n",
    "    # Here we instantiate a networkx directed graph (DiGraph)\n",
    "    in_degree_centralities = nx.in_degree_centrality(nx.DiGraph(nx.from_pandas_edgelist(pdf, \"src\", \"dst\", edge_attr=\"weight\")))\n",
    "    out_degree_centralities = nx.out_degree_centrality(nx.DiGraph(nx.from_pandas_edgelist(pdf, \"src\", \"dst\", edge_attr=\"weight\")))\n",
    "    \n",
    "    # Finally, we return a pd.DataFrame\n",
    "    return pd.DataFrame(\n",
    "        {\n",
    "            \"relation_type\": [key for _ in range(1, len(in_degree_centralities.values()) + 1)], \n",
    "            \"node\": in_degree_centralities.keys(), \n",
    "            \"in_degree_centrality\": in_degree_centralities.values(),\n",
    "            \"out_degree_centrality\": out_degree_centralities.values(),\n",
    "        }\n",
    "    )\n",
    "\n",
    "def nx_betweenness_centrality(pdf: pd.DataFrame) -> pd.DataFrame:\n",
    "    # We get the relation_type key\n",
    "    key = pdf[\"relation_type\"].iloc[0]\n",
    "\n",
    "    # Here we instantiate a networkx directed graph (DiGraph)\n",
    "    betweenness_centrality = nx.betweenness_centrality(nx.DiGraph(nx.from_pandas_edgelist(pdf, \"src\", \"dst\", edge_attr=\"weight\")))\n",
    "    \n",
    "    # Finally, we return a pd.DataFrame\n",
    "    return pd.DataFrame(\n",
    "        {\n",
    "            \"relation_type\": [key for _ in range(1, len(betweenness_centrality.values()) + 1)], \n",
    "            \"node\": betweenness_centrality.keys(), \n",
    "            \"betweenness_centrality\": betweenness_centrality.values()\n",
    "        }\n",
    "    )"
   ]
  },
  {
   "cell_type": "markdown",
   "metadata": {
    "application/vnd.databricks.v1+cell": {
     "cellMetadata": {
      "byteLimit": 2048000,
      "rowLimit": 10000
     },
     "inputWidgets": {},
     "nuid": "c8af4bcf-a452-4cc3-ae5a-ff7d3cdacff3",
     "showTitle": false,
     "title": ""
    }
   },
   "source": [
    "We compute degree centrality and betweenness centrality for the subgraph"
   ]
  },
  {
   "cell_type": "code",
   "execution_count": 0,
   "metadata": {
    "application/vnd.databricks.v1+cell": {
     "cellMetadata": {
      "byteLimit": 2048000,
      "rowLimit": 10000
     },
     "inputWidgets": {},
     "nuid": "4ae090ad-754d-491e-a7f2-1534c382d911",
     "showTitle": false,
     "title": ""
    }
   },
   "outputs": [
    {
     "output_type": "display_data",
     "data": {
      "text/html": [
       "<style scoped>\n",
       "  .table-result-container {\n",
       "    max-height: 300px;\n",
       "    overflow: auto;\n",
       "  }\n",
       "  table, th, td {\n",
       "    border: 1px solid black;\n",
       "    border-collapse: collapse;\n",
       "  }\n",
       "  th, td {\n",
       "    padding: 5px;\n",
       "  }\n",
       "  th {\n",
       "    text-align: left;\n",
       "  }\n",
       "</style><div class='table-result-container'><table class='table-result'><thead style='background-color: white'><tr><th>relation_type</th><th>node</th><th>in_degree_centrality</th><th>out_degree_centrality</th><th>id</th><th>First Name</th><th>Last Name</th><th>Family</th></tr></thead><tbody><tr><td>Threatened</td><td>2</td><td>0.07692308</td><td>0.07692308</td><td>2</td><td>Maria</td><td>Rossi</td><td>Rossi Family</td></tr><tr><td>Threatened</td><td>1</td><td>0.07692308</td><td>0.07692308</td><td>1</td><td>Giuseppe</td><td>Rossi</td><td>Rossi Family</td></tr><tr><td>Threatened</td><td>4</td><td>0.07692308</td><td>0.07692308</td><td>4</td><td>Sofia</td><td>Rossi</td><td>Rossi Family</td></tr><tr><td>Threatened</td><td>3</td><td>0.07692308</td><td>0.07692308</td><td>3</td><td>Antonio</td><td>Rossi</td><td>Rossi Family</td></tr><tr><td>Threatened</td><td>10</td><td>0.07692308</td><td>0.07692308</td><td>10</td><td>Chiara</td><td>Ricci</td><td>Ricci Family</td></tr><tr><td>Threatened</td><td>9</td><td>0.07692308</td><td>0.07692308</td><td>9</td><td>Francesco</td><td>Ricci</td><td>Ricci Family</td></tr><tr><td>Threatened</td><td>12</td><td>0.07692308</td><td>0.07692308</td><td>12</td><td>Laura</td><td>Ricci</td><td>Ricci Family</td></tr><tr><td>Threatened</td><td>11</td><td>0.07692308</td><td>0.07692308</td><td>11</td><td>Roberto</td><td>Ricci</td><td>Ricci Family</td></tr><tr><td>Threatened</td><td>30</td><td>0.07692308</td><td>0.07692308</td><td>30</td><td>Paola</td><td>Rossi</td><td>Rossi Family</td></tr><tr><td>Threatened</td><td>29</td><td>0.07692308</td><td>0.07692308</td><td>29</td><td>Giorgio</td><td>Rossi</td><td>Rossi Family</td></tr><tr><td>Threatened</td><td>32</td><td>0.07692308</td><td>0.07692308</td><td>32</td><td>Alice</td><td>Rossi</td><td>Rossi Family</td></tr><tr><td>Threatened</td><td>31</td><td>0.07692308</td><td>0.07692308</td><td>31</td><td>Fabio</td><td>Rossi</td><td>Rossi Family</td></tr><tr><td>Threatened</td><td>13</td><td>0.07692308</td><td>0.07692308</td><td>13</td><td>Giovanni</td><td>Moretti</td><td>Moretti Family</td></tr><tr><td>Threatened</td><td>17</td><td>0.07692308</td><td>0.07692308</td><td>17</td><td>Carlo</td><td>Romano</td><td>Romano Family</td></tr><tr><td>Sent Money</td><td>1</td><td>0.25454545</td><td>0.25454545</td><td>1</td><td>Giuseppe</td><td>Rossi</td><td>Rossi Family</td></tr><tr><td>Sent Money</td><td>4</td><td>0.25454545</td><td>0.25454545</td><td>4</td><td>Sofia</td><td>Rossi</td><td>Rossi Family</td></tr><tr><td>Sent Money</td><td>2</td><td>0.23636363</td><td>0.23636363</td><td>2</td><td>Maria</td><td>Rossi</td><td>Rossi Family</td></tr><tr><td>Sent Money</td><td>3</td><td>0.23636363</td><td>0.23636363</td><td>3</td><td>Antonio</td><td>Rossi</td><td>Rossi Family</td></tr><tr><td>Sent Money</td><td>13</td><td>0.09090909</td><td>0.09090909</td><td>13</td><td>Giovanni</td><td>Moretti</td><td>Moretti Family</td></tr><tr><td>Sent Money</td><td>9</td><td>0.036363635</td><td>0.036363635</td><td>9</td><td>Francesco</td><td>Ricci</td><td>Ricci Family</td></tr><tr><td>Sent Money</td><td>10</td><td>0.036363635</td><td>0.036363635</td><td>10</td><td>Chiara</td><td>Ricci</td><td>Ricci Family</td></tr><tr><td>Sent Money</td><td>14</td><td>0.036363635</td><td>0.036363635</td><td>14</td><td>Anna</td><td>Moretti</td><td>Moretti Family</td></tr><tr><td>Sent Money</td><td>22</td><td>0.036363635</td><td>0.036363635</td><td>22</td><td>Teresa</td><td>Marini</td><td>Marini Family</td></tr><tr><td>Sent Money</td><td>23</td><td>0.036363635</td><td>0.036363635</td><td>23</td><td>Andrea</td><td>Marini</td><td>Marini Family</td></tr><tr><td>Sent Money</td><td>34</td><td>0.036363635</td><td>0.036363635</td><td>34</td><td>Valentina</td><td>Bianchi</td><td>Bianchi Family</td></tr><tr><td>Sent Money</td><td>35</td><td>0.036363635</td><td>0.036363635</td><td>35</td><td>Federica</td><td>Bianchi</td><td>Bianchi Family</td></tr><tr><td>Sent Money</td><td>42</td><td>0.036363635</td><td>0.036363635</td><td>42</td><td>Simona</td><td>Moretti</td><td>Moretti Family</td></tr><tr><td>Sent Money</td><td>43</td><td>0.036363635</td><td>0.036363635</td><td>43</td><td>Roberta</td><td>Moretti</td><td>Moretti Family</td></tr><tr><td>Sent Money</td><td>54</td><td>0.036363635</td><td>0.036363635</td><td>54</td><td>Sara</td><td>Conti</td><td>Conti Family</td></tr><tr><td>Sent Money</td><td>55</td><td>0.036363635</td><td>0.036363635</td><td>55</td><td>Lorenzo</td><td>Conti</td><td>Conti Family</td></tr><tr><td>Sent Money</td><td>21</td><td>0.036363635</td><td>0.036363635</td><td>21</td><td>Luigi</td><td>Marini</td><td>Marini Family</td></tr><tr><td>Sent Money</td><td>33</td><td>0.036363635</td><td>0.036363635</td><td>33</td><td>Andrea</td><td>Bianchi</td><td>Bianchi Family</td></tr><tr><td>Sent Money</td><td>45</td><td>0.036363635</td><td>0.036363635</td><td>45</td><td>Giulia</td><td>Romano</td><td>Romano Family</td></tr><tr><td>Sent Money</td><td>5</td><td>0.018181818</td><td>0.018181818</td><td>5</td><td>Luca</td><td>Bianchi</td><td>Bianchi Family</td></tr><tr><td>Sent Money</td><td>17</td><td>0.018181818</td><td>0.018181818</td><td>17</td><td>Carlo</td><td>Romano</td><td>Romano Family</td></tr><tr><td>Sent Money</td><td>25</td><td>0.018181818</td><td>0.018181818</td><td>25</td><td>Mario</td><td>Conti</td><td>Conti Family</td></tr><tr><td>Sent Money</td><td>29</td><td>0.018181818</td><td>0.018181818</td><td>29</td><td>Giorgio</td><td>Rossi</td><td>Rossi Family</td></tr><tr><td>Sent Money</td><td>37</td><td>0.018181818</td><td>0.018181818</td><td>37</td><td>Marco</td><td>Ricci</td><td>Ricci Family</td></tr><tr><td>Sent Money</td><td>41</td><td>0.018181818</td><td>0.018181818</td><td>41</td><td>Luca</td><td>Moretti</td><td>Moretti Family</td></tr><tr><td>Sent Money</td><td>49</td><td>0.018181818</td><td>0.018181818</td><td>49</td><td>Marco</td><td>Marini</td><td>Marini Family</td></tr><tr><td>Sent Money</td><td>53</td><td>0.018181818</td><td>0.018181818</td><td>53</td><td>Andrea</td><td>Conti</td><td>Conti Family</td></tr><tr><td>Sent Money</td><td>6</td><td>0.018181818</td><td>0.018181818</td><td>6</td><td>Giulia</td><td>Bianchi</td><td>Bianchi Family</td></tr><tr><td>Sent Money</td><td>18</td><td>0.018181818</td><td>0.018181818</td><td>18</td><td>Lucia</td><td>Romano</td><td>Romano Family</td></tr><tr><td>Sent Money</td><td>26</td><td>0.018181818</td><td>0.018181818</td><td>26</td><td>Elena</td><td>Conti</td><td>Conti Family</td></tr><tr><td>Sent Money</td><td>30</td><td>0.018181818</td><td>0.018181818</td><td>30</td><td>Paola</td><td>Rossi</td><td>Rossi Family</td></tr><tr><td>Sent Money</td><td>38</td><td>0.018181818</td><td>0.018181818</td><td>38</td><td>Elisa</td><td>Ricci</td><td>Ricci Family</td></tr><tr><td>Sent Money</td><td>46</td><td>0.018181818</td><td>0.018181818</td><td>46</td><td>Stefano</td><td>Romano</td><td>Romano Family</td></tr><tr><td>Sent Money</td><td>50</td><td>0.018181818</td><td>0.018181818</td><td>50</td><td>Linda</td><td>Marini</td><td>Marini Family</td></tr><tr><td>Sent Money</td><td>7</td><td>0.018181818</td><td>0.018181818</td><td>7</td><td>Marco</td><td>Bianchi</td><td>Bianchi Family</td></tr><tr><td>Sent Money</td><td>11</td><td>0.018181818</td><td>0.018181818</td><td>11</td><td>Roberto</td><td>Ricci</td><td>Ricci Family</td></tr><tr><td>Sent Money</td><td>15</td><td>0.018181818</td><td>0.018181818</td><td>15</td><td>Matteo</td><td>Moretti</td><td>Moretti Family</td></tr><tr><td>Sent Money</td><td>19</td><td>0.018181818</td><td>0.018181818</td><td>19</td><td>Federico</td><td>Romano</td><td>Romano Family</td></tr><tr><td>Sent Money</td><td>27</td><td>0.018181818</td><td>0.018181818</td><td>27</td><td>Paolo</td><td>Conti</td><td>Conti Family</td></tr><tr><td>Sent Money</td><td>31</td><td>0.018181818</td><td>0.018181818</td><td>31</td><td>Fabio</td><td>Rossi</td><td>Rossi Family</td></tr><tr><td>Sent Money</td><td>39</td><td>0.018181818</td><td>0.018181818</td><td>39</td><td>Giorgio</td><td>Ricci</td><td>Ricci Family</td></tr><tr><td>Sent Money</td><td>47</td><td>0.018181818</td><td>0.018181818</td><td>47</td><td>Elisa</td><td>Romano</td><td>Romano Family</td></tr><tr><td>Sent Money</td><td>51</td><td>0.018181818</td><td>0.018181818</td><td>51</td><td>Giulia</td><td>Marini</td><td>Marini Family</td></tr><tr><td>Sent Money</td><td>8</td><td>0.018181818</td><td>0.018181818</td><td>8</td><td>Alessia</td><td>Bianchi</td><td>Bianchi Family</td></tr><tr><td>Sent Money</td><td>12</td><td>0.018181818</td><td>0.018181818</td><td>12</td><td>Laura</td><td>Ricci</td><td>Ricci Family</td></tr><tr><td>Sent Money</td><td>16</td><td>0.018181818</td><td>0.018181818</td><td>16</td><td>Elena</td><td>Moretti</td><td>Moretti Family</td></tr><tr><td>Sent Money</td><td>20</td><td>0.018181818</td><td>0.018181818</td><td>20</td><td>Martina</td><td>Romano</td><td>Romano Family</td></tr><tr><td>Sent Money</td><td>24</td><td>0.018181818</td><td>0.018181818</td><td>24</td><td>Francesca</td><td>Marini</td><td>Marini Family</td></tr><tr><td>Sent Money</td><td>28</td><td>0.018181818</td><td>0.018181818</td><td>28</td><td>Giuliana</td><td>Conti</td><td>Conti Family</td></tr><tr><td>Sent Money</td><td>32</td><td>0.018181818</td><td>0.018181818</td><td>32</td><td>Alice</td><td>Rossi</td><td>Rossi Family</td></tr><tr><td>Sent Money</td><td>36</td><td>0.018181818</td><td>0.018181818</td><td>36</td><td>Lorenzo</td><td>Bianchi</td><td>Bianchi Family</td></tr><tr><td>Sent Money</td><td>40</td><td>0.018181818</td><td>0.018181818</td><td>40</td><td>Anna</td><td>Ricci</td><td>Ricci Family</td></tr><tr><td>Sent Money</td><td>44</td><td>0.018181818</td><td>0.018181818</td><td>44</td><td>Alessandro</td><td>Moretti</td><td>Moretti Family</td></tr><tr><td>Sent Money</td><td>48</td><td>0.018181818</td><td>0.018181818</td><td>48</td><td>Mattia</td><td>Romano</td><td>Romano Family</td></tr><tr><td>Sent Money</td><td>52</td><td>0.018181818</td><td>0.018181818</td><td>52</td><td>Federico</td><td>Marini</td><td>Marini Family</td></tr><tr><td>Sent Money</td><td>56</td><td>0.018181818</td><td>0.018181818</td><td>56</td><td>Francesca</td><td>Conti</td><td>Conti Family</td></tr><tr><td>Called</td><td>8</td><td>0.25925925</td><td>0.25925925</td><td>8</td><td>Alessia</td><td>Bianchi</td><td>Bianchi Family</td></tr><tr><td>Called</td><td>6</td><td>0.24074075</td><td>0.24074075</td><td>6</td><td>Giulia</td><td>Bianchi</td><td>Bianchi Family</td></tr><tr><td>Called</td><td>7</td><td>0.24074075</td><td>0.24074075</td><td>7</td><td>Marco</td><td>Bianchi</td><td>Bianchi Family</td></tr><tr><td>Called</td><td>5</td><td>0.22222222</td><td>0.22222222</td><td>5</td><td>Luca</td><td>Bianchi</td><td>Bianchi Family</td></tr><tr><td>Called</td><td>13</td><td>0.074074075</td><td>0.074074075</td><td>13</td><td>Giovanni</td><td>Moretti</td><td>Moretti Family</td></tr><tr><td>Called</td><td>15</td><td>0.055555556</td><td>0.055555556</td><td>15</td><td>Matteo</td><td>Moretti</td><td>Moretti Family</td></tr><tr><td>Called</td><td>28</td><td>0.055555556</td><td>0.055555556</td><td>28</td><td>Giuliana</td><td>Conti</td><td>Conti Family</td></tr><tr><td>Called</td><td>27</td><td>0.055555556</td><td>0.055555556</td><td>27</td><td>Paolo</td><td>Conti</td><td>Conti Family</td></tr><tr><td>Called</td><td>29</td><td>0.055555556</td><td>0.055555556</td><td>29</td><td>Giorgio</td><td>Rossi</td><td>Rossi Family</td></tr><tr><td>Called</td><td>40</td><td>0.055555556</td><td>0.055555556</td><td>40</td><td>Anna</td><td>Ricci</td><td>Ricci Family</td></tr><tr><td>Called</td><td>3</td><td>0.037037037</td><td>0.037037037</td><td>3</td><td>Antonio</td><td>Rossi</td><td>Rossi Family</td></tr><tr><td>Called</td><td>9</td><td>0.037037037</td><td>0.037037037</td><td>9</td><td>Francesco</td><td>Ricci</td><td>Ricci Family</td></tr><tr><td>Called</td><td>11</td><td>0.037037037</td><td>0.037037037</td><td>11</td><td>Roberto</td><td>Ricci</td><td>Ricci Family</td></tr><tr><td>Called</td><td>14</td><td>0.037037037</td><td>0.037037037</td><td>14</td><td>Anna</td><td>Moretti</td><td>Moretti Family</td></tr><tr><td>Called</td><td>16</td><td>0.037037037</td><td>0.037037037</td><td>16</td><td>Elena</td><td>Moretti</td><td>Moretti Family</td></tr><tr><td>Called</td><td>21</td><td>0.037037037</td><td>0.037037037</td><td>21</td><td>Luigi</td><td>Marini</td><td>Marini Family</td></tr><tr><td>Called</td><td>22</td><td>0.037037037</td><td>0.037037037</td><td>22</td><td>Teresa</td><td>Marini</td><td>Marini Family</td></tr><tr><td>Called</td><td>25</td><td>0.037037037</td><td>0.037037037</td><td>25</td><td>Mario</td><td>Conti</td><td>Conti Family</td></tr><tr><td>Called</td><td>26</td><td>0.037037037</td><td>0.037037037</td><td>26</td><td>Elena</td><td>Conti</td><td>Conti Family</td></tr><tr><td>Called</td><td>31</td><td>0.037037037</td><td>0.037037037</td><td>31</td><td>Fabio</td><td>Rossi</td><td>Rossi Family</td></tr><tr><td>Called</td><td>37</td><td>0.037037037</td><td>0.037037037</td><td>37</td><td>Marco</td><td>Ricci</td><td>Ricci Family</td></tr><tr><td>Called</td><td>38</td><td>0.037037037</td><td>0.037037037</td><td>38</td><td>Elisa</td><td>Ricci</td><td>Ricci Family</td></tr><tr><td>Called</td><td>45</td><td>0.037037037</td><td>0.037037037</td><td>45</td><td>Giulia</td><td>Romano</td><td>Romano Family</td></tr><tr><td>Called</td><td>48</td><td>0.037037037</td><td>0.037037037</td><td>48</td><td>Mattia</td><td>Romano</td><td>Romano Family</td></tr><tr><td>Called</td><td>50</td><td>0.037037037</td><td>0.037037037</td><td>50</td><td>Linda</td><td>Marini</td><td>Marini Family</td></tr><tr><td>Called</td><td>51</td><td>0.037037037</td><td>0.037037037</td><td>51</td><td>Giulia</td><td>Marini</td><td>Marini Family</td></tr><tr><td>Called</td><td>41</td><td>0.037037037</td><td>0.037037037</td><td>41</td><td>Luca</td><td>Moretti</td><td>Moretti Family</td></tr><tr><td>Called</td><td>53</td><td>0.037037037</td><td>0.037037037</td><td>53</td><td>Andrea</td><td>Conti</td><td>Conti Family</td></tr><tr><td>Called</td><td>1</td><td>0.018518519</td><td>0.018518519</td><td>1</td><td>Giuseppe</td><td>Rossi</td><td>Rossi Family</td></tr><tr><td>Called</td><td>2</td><td>0.018518519</td><td>0.018518519</td><td>2</td><td>Maria</td><td>Rossi</td><td>Rossi Family</td></tr><tr><td>Called</td><td>17</td><td>0.018518519</td><td>0.018518519</td><td>17</td><td>Carlo</td><td>Romano</td><td>Romano Family</td></tr><tr><td>Called</td><td>33</td><td>0.018518519</td><td>0.018518519</td><td>33</td><td>Andrea</td><td>Bianchi</td><td>Bianchi Family</td></tr><tr><td>Called</td><td>49</td><td>0.018518519</td><td>0.018518519</td><td>49</td><td>Marco</td><td>Marini</td><td>Marini Family</td></tr><tr><td>Called</td><td>10</td><td>0.018518519</td><td>0.018518519</td><td>10</td><td>Chiara</td><td>Ricci</td><td>Ricci Family</td></tr><tr><td>Called</td><td>18</td><td>0.018518519</td><td>0.018518519</td><td>18</td><td>Lucia</td><td>Romano</td><td>Romano Family</td></tr><tr><td>Called</td><td>30</td><td>0.018518519</td><td>0.018518519</td><td>30</td><td>Paola</td><td>Rossi</td><td>Rossi Family</td></tr><tr><td>Called</td><td>34</td><td>0.018518519</td><td>0.018518519</td><td>34</td><td>Valentina</td><td>Bianchi</td><td>Bianchi Family</td></tr><tr><td>Called</td><td>42</td><td>0.018518519</td><td>0.018518519</td><td>42</td><td>Simona</td><td>Moretti</td><td>Moretti Family</td></tr><tr><td>Called</td><td>46</td><td>0.018518519</td><td>0.018518519</td><td>46</td><td>Stefano</td><td>Romano</td><td>Romano Family</td></tr><tr><td>Called</td><td>54</td><td>0.018518519</td><td>0.018518519</td><td>54</td><td>Sara</td><td>Conti</td><td>Conti Family</td></tr><tr><td>Called</td><td>19</td><td>0.018518519</td><td>0.018518519</td><td>19</td><td>Federico</td><td>Romano</td><td>Romano Family</td></tr><tr><td>Called</td><td>23</td><td>0.018518519</td><td>0.018518519</td><td>23</td><td>Andrea</td><td>Marini</td><td>Marini Family</td></tr><tr><td>Called</td><td>35</td><td>0.018518519</td><td>0.018518519</td><td>35</td><td>Federica</td><td>Bianchi</td><td>Bianchi Family</td></tr><tr><td>Called</td><td>39</td><td>0.018518519</td><td>0.018518519</td><td>39</td><td>Giorgio</td><td>Ricci</td><td>Ricci Family</td></tr><tr><td>Called</td><td>43</td><td>0.018518519</td><td>0.018518519</td><td>43</td><td>Roberta</td><td>Moretti</td><td>Moretti Family</td></tr><tr><td>Called</td><td>47</td><td>0.018518519</td><td>0.018518519</td><td>47</td><td>Elisa</td><td>Romano</td><td>Romano Family</td></tr><tr><td>Called</td><td>55</td><td>0.018518519</td><td>0.018518519</td><td>55</td><td>Lorenzo</td><td>Conti</td><td>Conti Family</td></tr><tr><td>Called</td><td>12</td><td>0.018518519</td><td>0.018518519</td><td>12</td><td>Laura</td><td>Ricci</td><td>Ricci Family</td></tr><tr><td>Called</td><td>20</td><td>0.018518519</td><td>0.018518519</td><td>20</td><td>Martina</td><td>Romano</td><td>Romano Family</td></tr><tr><td>Called</td><td>24</td><td>0.018518519</td><td>0.018518519</td><td>24</td><td>Francesca</td><td>Marini</td><td>Marini Family</td></tr><tr><td>Called</td><td>32</td><td>0.018518519</td><td>0.018518519</td><td>32</td><td>Alice</td><td>Rossi</td><td>Rossi Family</td></tr><tr><td>Called</td><td>36</td><td>0.018518519</td><td>0.018518519</td><td>36</td><td>Lorenzo</td><td>Bianchi</td><td>Bianchi Family</td></tr><tr><td>Called</td><td>44</td><td>0.018518519</td><td>0.018518519</td><td>44</td><td>Alessandro</td><td>Moretti</td><td>Moretti Family</td></tr><tr><td>Called</td><td>52</td><td>0.018518519</td><td>0.018518519</td><td>52</td><td>Federico</td><td>Marini</td><td>Marini Family</td></tr><tr><td>Called</td><td>56</td><td>0.018518519</td><td>0.018518519</td><td>56</td><td>Francesca</td><td>Conti</td><td>Conti Family</td></tr><tr><td>Asked for Meeting With</td><td>12</td><td>0.23636363</td><td>0.23636363</td><td>12</td><td>Laura</td><td>Ricci</td><td>Ricci Family</td></tr><tr><td>Asked for Meeting With</td><td>9</td><td>0.21818182</td><td>0.21818182</td><td>9</td><td>Francesco</td><td>Ricci</td><td>Ricci Family</td></tr><tr><td>Asked for Meeting With</td><td>11</td><td>0.21818182</td><td>0.21818182</td><td>11</td><td>Roberto</td><td>Ricci</td><td>Ricci Family</td></tr><tr><td>Asked for Meeting With</td><td>10</td><td>0.2</td><td>0.2</td><td>10</td><td>Chiara</td><td>Ricci</td><td>Ricci Family</td></tr><tr><td>Asked for Meeting With</td><td>13</td><td>0.12727273</td><td>0.12727273</td><td>13</td><td>Giovanni</td><td>Moretti</td><td>Moretti Family</td></tr><tr><td>Asked for Meeting With</td><td>37</td><td>0.09090909</td><td>0.09090909</td><td>37</td><td>Marco</td><td>Ricci</td><td>Ricci Family</td></tr><tr><td>Asked for Meeting With</td><td>49</td><td>0.09090909</td><td>0.09090909</td><td>49</td><td>Marco</td><td>Marini</td><td>Marini Family</td></tr><tr><td>Asked for Meeting With</td><td>21</td><td>0.07272727</td><td>0.07272727</td><td>21</td><td>Luigi</td><td>Marini</td><td>Marini Family</td></tr><tr><td>Asked for Meeting With</td><td>22</td><td>0.07272727</td><td>0.07272727</td><td>22</td><td>Teresa</td><td>Marini</td><td>Marini Family</td></tr><tr><td>Asked for Meeting With</td><td>25</td><td>0.07272727</td><td>0.07272727</td><td>25</td><td>Mario</td><td>Conti</td><td>Conti Family</td></tr><tr><td>Asked for Meeting With</td><td>27</td><td>0.07272727</td><td>0.07272727</td><td>27</td><td>Paolo</td><td>Conti</td><td>Conti Family</td></tr><tr><td>Asked for Meeting With</td><td>33</td><td>0.07272727</td><td>0.07272727</td><td>33</td><td>Andrea</td><td>Bianchi</td><td>Bianchi Family</td></tr><tr><td>Asked for Meeting With</td><td>35</td><td>0.07272727</td><td>0.07272727</td><td>35</td><td>Federica</td><td>Bianchi</td><td>Bianchi Family</td></tr><tr><td>Asked for Meeting With</td><td>39</td><td>0.07272727</td><td>0.07272727</td><td>39</td><td>Giorgio</td><td>Ricci</td><td>Ricci Family</td></tr><tr><td>Asked for Meeting With</td><td>41</td><td>0.07272727</td><td>0.07272727</td><td>41</td><td>Luca</td><td>Moretti</td><td>Moretti Family</td></tr><tr><td>Asked for Meeting With</td><td>42</td><td>0.07272727</td><td>0.07272727</td><td>42</td><td>Simona</td><td>Moretti</td><td>Moretti Family</td></tr><tr><td>Asked for Meeting With</td><td>43</td><td>0.07272727</td><td>0.07272727</td><td>43</td><td>Roberta</td><td>Moretti</td><td>Moretti Family</td></tr><tr><td>Asked for Meeting With</td><td>44</td><td>0.07272727</td><td>0.07272727</td><td>44</td><td>Alessandro</td><td>Moretti</td><td>Moretti Family</td></tr><tr><td>Asked for Meeting With</td><td>46</td><td>0.07272727</td><td>0.07272727</td><td>46</td><td>Stefano</td><td>Romano</td><td>Romano Family</td></tr><tr><td>Asked for Meeting With</td><td>47</td><td>0.07272727</td><td>0.07272727</td><td>47</td><td>Elisa</td><td>Romano</td><td>Romano Family</td></tr><tr><td>Asked for Meeting With</td><td>50</td><td>0.07272727</td><td>0.07272727</td><td>50</td><td>Linda</td><td>Marini</td><td>Marini Family</td></tr><tr><td>Asked for Meeting With</td><td>51</td><td>0.07272727</td><td>0.07272727</td><td>51</td><td>Giulia</td><td>Marini</td><td>Marini Family</td></tr><tr><td>Asked for Meeting With</td><td>52</td><td>0.07272727</td><td>0.07272727</td><td>52</td><td>Federico</td><td>Marini</td><td>Marini Family</td></tr><tr><td>Asked for Meeting With</td><td>53</td><td>0.07272727</td><td>0.07272727</td><td>53</td><td>Andrea</td><td>Conti</td><td>Conti Family</td></tr><tr><td>Asked for Meeting With</td><td>55</td><td>0.07272727</td><td>0.07272727</td><td>55</td><td>Lorenzo</td><td>Conti</td><td>Conti Family</td></tr><tr><td>Asked for Meeting With</td><td>15</td><td>0.054545455</td><td>0.054545455</td><td>15</td><td>Matteo</td><td>Moretti</td><td>Moretti Family</td></tr><tr><td>Asked for Meeting With</td><td>14</td><td>0.054545455</td><td>0.054545455</td><td>14</td><td>Anna</td><td>Moretti</td><td>Moretti Family</td></tr><tr><td>Asked for Meeting With</td><td>17</td><td>0.054545455</td><td>0.054545455</td><td>17</td><td>Carlo</td><td>Romano</td><td>Romano Family</td></tr><tr><td>Asked for Meeting With</td><td>18</td><td>0.054545455</td><td>0.054545455</td><td>18</td><td>Lucia</td><td>Romano</td><td>Romano Family</td></tr><tr><td>Asked for Meeting With</td><td>19</td><td>0.054545455</td><td>0.054545455</td><td>19</td><td>Federico</td><td>Romano</td><td>Romano Family</td></tr><tr><td>Asked for Meeting With</td><td>20</td><td>0.054545455</td><td>0.054545455</td><td>20</td><td>Martina</td><td>Romano</td><td>Romano Family</td></tr><tr><td>Asked for Meeting With</td><td>23</td><td>0.054545455</td><td>0.054545455</td><td>23</td><td>Andrea</td><td>Marini</td><td>Marini Family</td></tr><tr><td>Asked for Meeting With</td><td>24</td><td>0.054545455</td><td>0.054545455</td><td>24</td><td>Francesca</td><td>Marini</td><td>Marini Family</td></tr><tr><td>Asked for Meeting With</td><td>26</td><td>0.054545455</td><td>0.054545455</td><td>26</td><td>Elena</td><td>Conti</td><td>Conti Family</td></tr><tr><td>Asked for Meeting With</td><td>29</td><td>0.054545455</td><td>0.054545455</td><td>29</td><td>Giorgio</td><td>Rossi</td><td>Rossi Family</td></tr><tr><td>Asked for Meeting With</td><td>32</td><td>0.054545455</td><td>0.054545455</td><td>32</td><td>Alice</td><td>Rossi</td><td>Rossi Family</td></tr><tr><td>Asked for Meeting With</td><td>34</td><td>0.054545455</td><td>0.054545455</td><td>34</td><td>Valentina</td><td>Bianchi</td><td>Bianchi Family</td></tr><tr><td>Asked for Meeting With</td><td>36</td><td>0.054545455</td><td>0.054545455</td><td>36</td><td>Lorenzo</td><td>Bianchi</td><td>Bianchi Family</td></tr><tr><td>Asked for Meeting With</td><td>38</td><td>0.054545455</td><td>0.054545455</td><td>38</td><td>Elisa</td><td>Ricci</td><td>Ricci Family</td></tr><tr><td>Asked for Meeting With</td><td>40</td><td>0.054545455</td><td>0.054545455</td><td>40</td><td>Anna</td><td>Ricci</td><td>Ricci Family</td></tr><tr><td>Asked for Meeting With</td><td>45</td><td>0.054545455</td><td>0.054545455</td><td>45</td><td>Giulia</td><td>Romano</td><td>Romano Family</td></tr><tr><td>Asked for Meeting With</td><td>48</td><td>0.054545455</td><td>0.054545455</td><td>48</td><td>Mattia</td><td>Romano</td><td>Romano Family</td></tr><tr><td>Asked for Meeting With</td><td>54</td><td>0.054545455</td><td>0.054545455</td><td>54</td><td>Sara</td><td>Conti</td><td>Conti Family</td></tr><tr><td>Asked for Meeting With</td><td>56</td><td>0.054545455</td><td>0.054545455</td><td>56</td><td>Francesca</td><td>Conti</td><td>Conti Family</td></tr><tr><td>Asked for Meeting With</td><td>1</td><td>0.036363635</td><td>0.036363635</td><td>1</td><td>Giuseppe</td><td>Rossi</td><td>Rossi Family</td></tr><tr><td>Asked for Meeting With</td><td>4</td><td>0.036363635</td><td>0.036363635</td><td>4</td><td>Sofia</td><td>Rossi</td><td>Rossi Family</td></tr><tr><td>Asked for Meeting With</td><td>5</td><td>0.036363635</td><td>0.036363635</td><td>5</td><td>Luca</td><td>Bianchi</td><td>Bianchi Family</td></tr><tr><td>Asked for Meeting With</td><td>7</td><td>0.036363635</td><td>0.036363635</td><td>7</td><td>Marco</td><td>Bianchi</td><td>Bianchi Family</td></tr><tr><td>Asked for Meeting With</td><td>16</td><td>0.036363635</td><td>0.036363635</td><td>16</td><td>Elena</td><td>Moretti</td><td>Moretti Family</td></tr><tr><td>Asked for Meeting With</td><td>28</td><td>0.036363635</td><td>0.036363635</td><td>28</td><td>Giuliana</td><td>Conti</td><td>Conti Family</td></tr><tr><td>Asked for Meeting With</td><td>30</td><td>0.036363635</td><td>0.036363635</td><td>30</td><td>Paola</td><td>Rossi</td><td>Rossi Family</td></tr><tr><td>Asked for Meeting With</td><td>31</td><td>0.036363635</td><td>0.036363635</td><td>31</td><td>Fabio</td><td>Rossi</td><td>Rossi Family</td></tr><tr><td>Asked for Meeting With</td><td>2</td><td>0.018181818</td><td>0.018181818</td><td>2</td><td>Maria</td><td>Rossi</td><td>Rossi Family</td></tr><tr><td>Asked for Meeting With</td><td>3</td><td>0.018181818</td><td>0.018181818</td><td>3</td><td>Antonio</td><td>Rossi</td><td>Rossi Family</td></tr><tr><td>Asked for Meeting With</td><td>6</td><td>0.018181818</td><td>0.018181818</td><td>6</td><td>Giulia</td><td>Bianchi</td><td>Bianchi Family</td></tr><tr><td>Asked for Meeting With</td><td>8</td><td>0.018181818</td><td>0.018181818</td><td>8</td><td>Alessia</td><td>Bianchi</td><td>Bianchi Family</td></tr></tbody></table></div>"
      ]
     },
     "metadata": {
      "application/vnd.databricks.v1+output": {
       "addedWidgets": {},
       "aggData": [],
       "aggError": "",
       "aggOverflow": false,
       "aggSchema": [],
       "aggSeriesLimitReached": false,
       "aggType": "",
       "arguments": {},
       "columnCustomDisplayInfos": {},
       "data": [
        [
         "Threatened",
         "2",
         0.07692308,
         0.07692308,
         "2",
         "Maria",
         "Rossi",
         "Rossi Family"
        ],
        [
         "Threatened",
         "1",
         0.07692308,
         0.07692308,
         "1",
         "Giuseppe",
         "Rossi",
         "Rossi Family"
        ],
        [
         "Threatened",
         "4",
         0.07692308,
         0.07692308,
         "4",
         "Sofia",
         "Rossi",
         "Rossi Family"
        ],
        [
         "Threatened",
         "3",
         0.07692308,
         0.07692308,
         "3",
         "Antonio",
         "Rossi",
         "Rossi Family"
        ],
        [
         "Threatened",
         "10",
         0.07692308,
         0.07692308,
         "10",
         "Chiara",
         "Ricci",
         "Ricci Family"
        ],
        [
         "Threatened",
         "9",
         0.07692308,
         0.07692308,
         "9",
         "Francesco",
         "Ricci",
         "Ricci Family"
        ],
        [
         "Threatened",
         "12",
         0.07692308,
         0.07692308,
         "12",
         "Laura",
         "Ricci",
         "Ricci Family"
        ],
        [
         "Threatened",
         "11",
         0.07692308,
         0.07692308,
         "11",
         "Roberto",
         "Ricci",
         "Ricci Family"
        ],
        [
         "Threatened",
         "30",
         0.07692308,
         0.07692308,
         "30",
         "Paola",
         "Rossi",
         "Rossi Family"
        ],
        [
         "Threatened",
         "29",
         0.07692308,
         0.07692308,
         "29",
         "Giorgio",
         "Rossi",
         "Rossi Family"
        ],
        [
         "Threatened",
         "32",
         0.07692308,
         0.07692308,
         "32",
         "Alice",
         "Rossi",
         "Rossi Family"
        ],
        [
         "Threatened",
         "31",
         0.07692308,
         0.07692308,
         "31",
         "Fabio",
         "Rossi",
         "Rossi Family"
        ],
        [
         "Threatened",
         "13",
         0.07692308,
         0.07692308,
         "13",
         "Giovanni",
         "Moretti",
         "Moretti Family"
        ],
        [
         "Threatened",
         "17",
         0.07692308,
         0.07692308,
         "17",
         "Carlo",
         "Romano",
         "Romano Family"
        ],
        [
         "Sent Money",
         "1",
         0.25454545,
         0.25454545,
         "1",
         "Giuseppe",
         "Rossi",
         "Rossi Family"
        ],
        [
         "Sent Money",
         "4",
         0.25454545,
         0.25454545,
         "4",
         "Sofia",
         "Rossi",
         "Rossi Family"
        ],
        [
         "Sent Money",
         "2",
         0.23636363,
         0.23636363,
         "2",
         "Maria",
         "Rossi",
         "Rossi Family"
        ],
        [
         "Sent Money",
         "3",
         0.23636363,
         0.23636363,
         "3",
         "Antonio",
         "Rossi",
         "Rossi Family"
        ],
        [
         "Sent Money",
         "13",
         0.09090909,
         0.09090909,
         "13",
         "Giovanni",
         "Moretti",
         "Moretti Family"
        ],
        [
         "Sent Money",
         "9",
         0.036363635,
         0.036363635,
         "9",
         "Francesco",
         "Ricci",
         "Ricci Family"
        ],
        [
         "Sent Money",
         "10",
         0.036363635,
         0.036363635,
         "10",
         "Chiara",
         "Ricci",
         "Ricci Family"
        ],
        [
         "Sent Money",
         "14",
         0.036363635,
         0.036363635,
         "14",
         "Anna",
         "Moretti",
         "Moretti Family"
        ],
        [
         "Sent Money",
         "22",
         0.036363635,
         0.036363635,
         "22",
         "Teresa",
         "Marini",
         "Marini Family"
        ],
        [
         "Sent Money",
         "23",
         0.036363635,
         0.036363635,
         "23",
         "Andrea",
         "Marini",
         "Marini Family"
        ],
        [
         "Sent Money",
         "34",
         0.036363635,
         0.036363635,
         "34",
         "Valentina",
         "Bianchi",
         "Bianchi Family"
        ],
        [
         "Sent Money",
         "35",
         0.036363635,
         0.036363635,
         "35",
         "Federica",
         "Bianchi",
         "Bianchi Family"
        ],
        [
         "Sent Money",
         "42",
         0.036363635,
         0.036363635,
         "42",
         "Simona",
         "Moretti",
         "Moretti Family"
        ],
        [
         "Sent Money",
         "43",
         0.036363635,
         0.036363635,
         "43",
         "Roberta",
         "Moretti",
         "Moretti Family"
        ],
        [
         "Sent Money",
         "54",
         0.036363635,
         0.036363635,
         "54",
         "Sara",
         "Conti",
         "Conti Family"
        ],
        [
         "Sent Money",
         "55",
         0.036363635,
         0.036363635,
         "55",
         "Lorenzo",
         "Conti",
         "Conti Family"
        ],
        [
         "Sent Money",
         "21",
         0.036363635,
         0.036363635,
         "21",
         "Luigi",
         "Marini",
         "Marini Family"
        ],
        [
         "Sent Money",
         "33",
         0.036363635,
         0.036363635,
         "33",
         "Andrea",
         "Bianchi",
         "Bianchi Family"
        ],
        [
         "Sent Money",
         "45",
         0.036363635,
         0.036363635,
         "45",
         "Giulia",
         "Romano",
         "Romano Family"
        ],
        [
         "Sent Money",
         "5",
         0.018181818,
         0.018181818,
         "5",
         "Luca",
         "Bianchi",
         "Bianchi Family"
        ],
        [
         "Sent Money",
         "17",
         0.018181818,
         0.018181818,
         "17",
         "Carlo",
         "Romano",
         "Romano Family"
        ],
        [
         "Sent Money",
         "25",
         0.018181818,
         0.018181818,
         "25",
         "Mario",
         "Conti",
         "Conti Family"
        ],
        [
         "Sent Money",
         "29",
         0.018181818,
         0.018181818,
         "29",
         "Giorgio",
         "Rossi",
         "Rossi Family"
        ],
        [
         "Sent Money",
         "37",
         0.018181818,
         0.018181818,
         "37",
         "Marco",
         "Ricci",
         "Ricci Family"
        ],
        [
         "Sent Money",
         "41",
         0.018181818,
         0.018181818,
         "41",
         "Luca",
         "Moretti",
         "Moretti Family"
        ],
        [
         "Sent Money",
         "49",
         0.018181818,
         0.018181818,
         "49",
         "Marco",
         "Marini",
         "Marini Family"
        ],
        [
         "Sent Money",
         "53",
         0.018181818,
         0.018181818,
         "53",
         "Andrea",
         "Conti",
         "Conti Family"
        ],
        [
         "Sent Money",
         "6",
         0.018181818,
         0.018181818,
         "6",
         "Giulia",
         "Bianchi",
         "Bianchi Family"
        ],
        [
         "Sent Money",
         "18",
         0.018181818,
         0.018181818,
         "18",
         "Lucia",
         "Romano",
         "Romano Family"
        ],
        [
         "Sent Money",
         "26",
         0.018181818,
         0.018181818,
         "26",
         "Elena",
         "Conti",
         "Conti Family"
        ],
        [
         "Sent Money",
         "30",
         0.018181818,
         0.018181818,
         "30",
         "Paola",
         "Rossi",
         "Rossi Family"
        ],
        [
         "Sent Money",
         "38",
         0.018181818,
         0.018181818,
         "38",
         "Elisa",
         "Ricci",
         "Ricci Family"
        ],
        [
         "Sent Money",
         "46",
         0.018181818,
         0.018181818,
         "46",
         "Stefano",
         "Romano",
         "Romano Family"
        ],
        [
         "Sent Money",
         "50",
         0.018181818,
         0.018181818,
         "50",
         "Linda",
         "Marini",
         "Marini Family"
        ],
        [
         "Sent Money",
         "7",
         0.018181818,
         0.018181818,
         "7",
         "Marco",
         "Bianchi",
         "Bianchi Family"
        ],
        [
         "Sent Money",
         "11",
         0.018181818,
         0.018181818,
         "11",
         "Roberto",
         "Ricci",
         "Ricci Family"
        ],
        [
         "Sent Money",
         "15",
         0.018181818,
         0.018181818,
         "15",
         "Matteo",
         "Moretti",
         "Moretti Family"
        ],
        [
         "Sent Money",
         "19",
         0.018181818,
         0.018181818,
         "19",
         "Federico",
         "Romano",
         "Romano Family"
        ],
        [
         "Sent Money",
         "27",
         0.018181818,
         0.018181818,
         "27",
         "Paolo",
         "Conti",
         "Conti Family"
        ],
        [
         "Sent Money",
         "31",
         0.018181818,
         0.018181818,
         "31",
         "Fabio",
         "Rossi",
         "Rossi Family"
        ],
        [
         "Sent Money",
         "39",
         0.018181818,
         0.018181818,
         "39",
         "Giorgio",
         "Ricci",
         "Ricci Family"
        ],
        [
         "Sent Money",
         "47",
         0.018181818,
         0.018181818,
         "47",
         "Elisa",
         "Romano",
         "Romano Family"
        ],
        [
         "Sent Money",
         "51",
         0.018181818,
         0.018181818,
         "51",
         "Giulia",
         "Marini",
         "Marini Family"
        ],
        [
         "Sent Money",
         "8",
         0.018181818,
         0.018181818,
         "8",
         "Alessia",
         "Bianchi",
         "Bianchi Family"
        ],
        [
         "Sent Money",
         "12",
         0.018181818,
         0.018181818,
         "12",
         "Laura",
         "Ricci",
         "Ricci Family"
        ],
        [
         "Sent Money",
         "16",
         0.018181818,
         0.018181818,
         "16",
         "Elena",
         "Moretti",
         "Moretti Family"
        ],
        [
         "Sent Money",
         "20",
         0.018181818,
         0.018181818,
         "20",
         "Martina",
         "Romano",
         "Romano Family"
        ],
        [
         "Sent Money",
         "24",
         0.018181818,
         0.018181818,
         "24",
         "Francesca",
         "Marini",
         "Marini Family"
        ],
        [
         "Sent Money",
         "28",
         0.018181818,
         0.018181818,
         "28",
         "Giuliana",
         "Conti",
         "Conti Family"
        ],
        [
         "Sent Money",
         "32",
         0.018181818,
         0.018181818,
         "32",
         "Alice",
         "Rossi",
         "Rossi Family"
        ],
        [
         "Sent Money",
         "36",
         0.018181818,
         0.018181818,
         "36",
         "Lorenzo",
         "Bianchi",
         "Bianchi Family"
        ],
        [
         "Sent Money",
         "40",
         0.018181818,
         0.018181818,
         "40",
         "Anna",
         "Ricci",
         "Ricci Family"
        ],
        [
         "Sent Money",
         "44",
         0.018181818,
         0.018181818,
         "44",
         "Alessandro",
         "Moretti",
         "Moretti Family"
        ],
        [
         "Sent Money",
         "48",
         0.018181818,
         0.018181818,
         "48",
         "Mattia",
         "Romano",
         "Romano Family"
        ],
        [
         "Sent Money",
         "52",
         0.018181818,
         0.018181818,
         "52",
         "Federico",
         "Marini",
         "Marini Family"
        ],
        [
         "Sent Money",
         "56",
         0.018181818,
         0.018181818,
         "56",
         "Francesca",
         "Conti",
         "Conti Family"
        ],
        [
         "Called",
         "8",
         0.25925925,
         0.25925925,
         "8",
         "Alessia",
         "Bianchi",
         "Bianchi Family"
        ],
        [
         "Called",
         "6",
         0.24074075,
         0.24074075,
         "6",
         "Giulia",
         "Bianchi",
         "Bianchi Family"
        ],
        [
         "Called",
         "7",
         0.24074075,
         0.24074075,
         "7",
         "Marco",
         "Bianchi",
         "Bianchi Family"
        ],
        [
         "Called",
         "5",
         0.22222222,
         0.22222222,
         "5",
         "Luca",
         "Bianchi",
         "Bianchi Family"
        ],
        [
         "Called",
         "13",
         0.074074075,
         0.074074075,
         "13",
         "Giovanni",
         "Moretti",
         "Moretti Family"
        ],
        [
         "Called",
         "15",
         0.055555556,
         0.055555556,
         "15",
         "Matteo",
         "Moretti",
         "Moretti Family"
        ],
        [
         "Called",
         "28",
         0.055555556,
         0.055555556,
         "28",
         "Giuliana",
         "Conti",
         "Conti Family"
        ],
        [
         "Called",
         "27",
         0.055555556,
         0.055555556,
         "27",
         "Paolo",
         "Conti",
         "Conti Family"
        ],
        [
         "Called",
         "29",
         0.055555556,
         0.055555556,
         "29",
         "Giorgio",
         "Rossi",
         "Rossi Family"
        ],
        [
         "Called",
         "40",
         0.055555556,
         0.055555556,
         "40",
         "Anna",
         "Ricci",
         "Ricci Family"
        ],
        [
         "Called",
         "3",
         0.037037037,
         0.037037037,
         "3",
         "Antonio",
         "Rossi",
         "Rossi Family"
        ],
        [
         "Called",
         "9",
         0.037037037,
         0.037037037,
         "9",
         "Francesco",
         "Ricci",
         "Ricci Family"
        ],
        [
         "Called",
         "11",
         0.037037037,
         0.037037037,
         "11",
         "Roberto",
         "Ricci",
         "Ricci Family"
        ],
        [
         "Called",
         "14",
         0.037037037,
         0.037037037,
         "14",
         "Anna",
         "Moretti",
         "Moretti Family"
        ],
        [
         "Called",
         "16",
         0.037037037,
         0.037037037,
         "16",
         "Elena",
         "Moretti",
         "Moretti Family"
        ],
        [
         "Called",
         "21",
         0.037037037,
         0.037037037,
         "21",
         "Luigi",
         "Marini",
         "Marini Family"
        ],
        [
         "Called",
         "22",
         0.037037037,
         0.037037037,
         "22",
         "Teresa",
         "Marini",
         "Marini Family"
        ],
        [
         "Called",
         "25",
         0.037037037,
         0.037037037,
         "25",
         "Mario",
         "Conti",
         "Conti Family"
        ],
        [
         "Called",
         "26",
         0.037037037,
         0.037037037,
         "26",
         "Elena",
         "Conti",
         "Conti Family"
        ],
        [
         "Called",
         "31",
         0.037037037,
         0.037037037,
         "31",
         "Fabio",
         "Rossi",
         "Rossi Family"
        ],
        [
         "Called",
         "37",
         0.037037037,
         0.037037037,
         "37",
         "Marco",
         "Ricci",
         "Ricci Family"
        ],
        [
         "Called",
         "38",
         0.037037037,
         0.037037037,
         "38",
         "Elisa",
         "Ricci",
         "Ricci Family"
        ],
        [
         "Called",
         "45",
         0.037037037,
         0.037037037,
         "45",
         "Giulia",
         "Romano",
         "Romano Family"
        ],
        [
         "Called",
         "48",
         0.037037037,
         0.037037037,
         "48",
         "Mattia",
         "Romano",
         "Romano Family"
        ],
        [
         "Called",
         "50",
         0.037037037,
         0.037037037,
         "50",
         "Linda",
         "Marini",
         "Marini Family"
        ],
        [
         "Called",
         "51",
         0.037037037,
         0.037037037,
         "51",
         "Giulia",
         "Marini",
         "Marini Family"
        ],
        [
         "Called",
         "41",
         0.037037037,
         0.037037037,
         "41",
         "Luca",
         "Moretti",
         "Moretti Family"
        ],
        [
         "Called",
         "53",
         0.037037037,
         0.037037037,
         "53",
         "Andrea",
         "Conti",
         "Conti Family"
        ],
        [
         "Called",
         "1",
         0.018518519,
         0.018518519,
         "1",
         "Giuseppe",
         "Rossi",
         "Rossi Family"
        ],
        [
         "Called",
         "2",
         0.018518519,
         0.018518519,
         "2",
         "Maria",
         "Rossi",
         "Rossi Family"
        ],
        [
         "Called",
         "17",
         0.018518519,
         0.018518519,
         "17",
         "Carlo",
         "Romano",
         "Romano Family"
        ],
        [
         "Called",
         "33",
         0.018518519,
         0.018518519,
         "33",
         "Andrea",
         "Bianchi",
         "Bianchi Family"
        ],
        [
         "Called",
         "49",
         0.018518519,
         0.018518519,
         "49",
         "Marco",
         "Marini",
         "Marini Family"
        ],
        [
         "Called",
         "10",
         0.018518519,
         0.018518519,
         "10",
         "Chiara",
         "Ricci",
         "Ricci Family"
        ],
        [
         "Called",
         "18",
         0.018518519,
         0.018518519,
         "18",
         "Lucia",
         "Romano",
         "Romano Family"
        ],
        [
         "Called",
         "30",
         0.018518519,
         0.018518519,
         "30",
         "Paola",
         "Rossi",
         "Rossi Family"
        ],
        [
         "Called",
         "34",
         0.018518519,
         0.018518519,
         "34",
         "Valentina",
         "Bianchi",
         "Bianchi Family"
        ],
        [
         "Called",
         "42",
         0.018518519,
         0.018518519,
         "42",
         "Simona",
         "Moretti",
         "Moretti Family"
        ],
        [
         "Called",
         "46",
         0.018518519,
         0.018518519,
         "46",
         "Stefano",
         "Romano",
         "Romano Family"
        ],
        [
         "Called",
         "54",
         0.018518519,
         0.018518519,
         "54",
         "Sara",
         "Conti",
         "Conti Family"
        ],
        [
         "Called",
         "19",
         0.018518519,
         0.018518519,
         "19",
         "Federico",
         "Romano",
         "Romano Family"
        ],
        [
         "Called",
         "23",
         0.018518519,
         0.018518519,
         "23",
         "Andrea",
         "Marini",
         "Marini Family"
        ],
        [
         "Called",
         "35",
         0.018518519,
         0.018518519,
         "35",
         "Federica",
         "Bianchi",
         "Bianchi Family"
        ],
        [
         "Called",
         "39",
         0.018518519,
         0.018518519,
         "39",
         "Giorgio",
         "Ricci",
         "Ricci Family"
        ],
        [
         "Called",
         "43",
         0.018518519,
         0.018518519,
         "43",
         "Roberta",
         "Moretti",
         "Moretti Family"
        ],
        [
         "Called",
         "47",
         0.018518519,
         0.018518519,
         "47",
         "Elisa",
         "Romano",
         "Romano Family"
        ],
        [
         "Called",
         "55",
         0.018518519,
         0.018518519,
         "55",
         "Lorenzo",
         "Conti",
         "Conti Family"
        ],
        [
         "Called",
         "12",
         0.018518519,
         0.018518519,
         "12",
         "Laura",
         "Ricci",
         "Ricci Family"
        ],
        [
         "Called",
         "20",
         0.018518519,
         0.018518519,
         "20",
         "Martina",
         "Romano",
         "Romano Family"
        ],
        [
         "Called",
         "24",
         0.018518519,
         0.018518519,
         "24",
         "Francesca",
         "Marini",
         "Marini Family"
        ],
        [
         "Called",
         "32",
         0.018518519,
         0.018518519,
         "32",
         "Alice",
         "Rossi",
         "Rossi Family"
        ],
        [
         "Called",
         "36",
         0.018518519,
         0.018518519,
         "36",
         "Lorenzo",
         "Bianchi",
         "Bianchi Family"
        ],
        [
         "Called",
         "44",
         0.018518519,
         0.018518519,
         "44",
         "Alessandro",
         "Moretti",
         "Moretti Family"
        ],
        [
         "Called",
         "52",
         0.018518519,
         0.018518519,
         "52",
         "Federico",
         "Marini",
         "Marini Family"
        ],
        [
         "Called",
         "56",
         0.018518519,
         0.018518519,
         "56",
         "Francesca",
         "Conti",
         "Conti Family"
        ],
        [
         "Asked for Meeting With",
         "12",
         0.23636363,
         0.23636363,
         "12",
         "Laura",
         "Ricci",
         "Ricci Family"
        ],
        [
         "Asked for Meeting With",
         "9",
         0.21818182,
         0.21818182,
         "9",
         "Francesco",
         "Ricci",
         "Ricci Family"
        ],
        [
         "Asked for Meeting With",
         "11",
         0.21818182,
         0.21818182,
         "11",
         "Roberto",
         "Ricci",
         "Ricci Family"
        ],
        [
         "Asked for Meeting With",
         "10",
         0.2,
         0.2,
         "10",
         "Chiara",
         "Ricci",
         "Ricci Family"
        ],
        [
         "Asked for Meeting With",
         "13",
         0.12727273,
         0.12727273,
         "13",
         "Giovanni",
         "Moretti",
         "Moretti Family"
        ],
        [
         "Asked for Meeting With",
         "37",
         0.09090909,
         0.09090909,
         "37",
         "Marco",
         "Ricci",
         "Ricci Family"
        ],
        [
         "Asked for Meeting With",
         "49",
         0.09090909,
         0.09090909,
         "49",
         "Marco",
         "Marini",
         "Marini Family"
        ],
        [
         "Asked for Meeting With",
         "21",
         0.07272727,
         0.07272727,
         "21",
         "Luigi",
         "Marini",
         "Marini Family"
        ],
        [
         "Asked for Meeting With",
         "22",
         0.07272727,
         0.07272727,
         "22",
         "Teresa",
         "Marini",
         "Marini Family"
        ],
        [
         "Asked for Meeting With",
         "25",
         0.07272727,
         0.07272727,
         "25",
         "Mario",
         "Conti",
         "Conti Family"
        ],
        [
         "Asked for Meeting With",
         "27",
         0.07272727,
         0.07272727,
         "27",
         "Paolo",
         "Conti",
         "Conti Family"
        ],
        [
         "Asked for Meeting With",
         "33",
         0.07272727,
         0.07272727,
         "33",
         "Andrea",
         "Bianchi",
         "Bianchi Family"
        ],
        [
         "Asked for Meeting With",
         "35",
         0.07272727,
         0.07272727,
         "35",
         "Federica",
         "Bianchi",
         "Bianchi Family"
        ],
        [
         "Asked for Meeting With",
         "39",
         0.07272727,
         0.07272727,
         "39",
         "Giorgio",
         "Ricci",
         "Ricci Family"
        ],
        [
         "Asked for Meeting With",
         "41",
         0.07272727,
         0.07272727,
         "41",
         "Luca",
         "Moretti",
         "Moretti Family"
        ],
        [
         "Asked for Meeting With",
         "42",
         0.07272727,
         0.07272727,
         "42",
         "Simona",
         "Moretti",
         "Moretti Family"
        ],
        [
         "Asked for Meeting With",
         "43",
         0.07272727,
         0.07272727,
         "43",
         "Roberta",
         "Moretti",
         "Moretti Family"
        ],
        [
         "Asked for Meeting With",
         "44",
         0.07272727,
         0.07272727,
         "44",
         "Alessandro",
         "Moretti",
         "Moretti Family"
        ],
        [
         "Asked for Meeting With",
         "46",
         0.07272727,
         0.07272727,
         "46",
         "Stefano",
         "Romano",
         "Romano Family"
        ],
        [
         "Asked for Meeting With",
         "47",
         0.07272727,
         0.07272727,
         "47",
         "Elisa",
         "Romano",
         "Romano Family"
        ],
        [
         "Asked for Meeting With",
         "50",
         0.07272727,
         0.07272727,
         "50",
         "Linda",
         "Marini",
         "Marini Family"
        ],
        [
         "Asked for Meeting With",
         "51",
         0.07272727,
         0.07272727,
         "51",
         "Giulia",
         "Marini",
         "Marini Family"
        ],
        [
         "Asked for Meeting With",
         "52",
         0.07272727,
         0.07272727,
         "52",
         "Federico",
         "Marini",
         "Marini Family"
        ],
        [
         "Asked for Meeting With",
         "53",
         0.07272727,
         0.07272727,
         "53",
         "Andrea",
         "Conti",
         "Conti Family"
        ],
        [
         "Asked for Meeting With",
         "55",
         0.07272727,
         0.07272727,
         "55",
         "Lorenzo",
         "Conti",
         "Conti Family"
        ],
        [
         "Asked for Meeting With",
         "15",
         0.054545455,
         0.054545455,
         "15",
         "Matteo",
         "Moretti",
         "Moretti Family"
        ],
        [
         "Asked for Meeting With",
         "14",
         0.054545455,
         0.054545455,
         "14",
         "Anna",
         "Moretti",
         "Moretti Family"
        ],
        [
         "Asked for Meeting With",
         "17",
         0.054545455,
         0.054545455,
         "17",
         "Carlo",
         "Romano",
         "Romano Family"
        ],
        [
         "Asked for Meeting With",
         "18",
         0.054545455,
         0.054545455,
         "18",
         "Lucia",
         "Romano",
         "Romano Family"
        ],
        [
         "Asked for Meeting With",
         "19",
         0.054545455,
         0.054545455,
         "19",
         "Federico",
         "Romano",
         "Romano Family"
        ],
        [
         "Asked for Meeting With",
         "20",
         0.054545455,
         0.054545455,
         "20",
         "Martina",
         "Romano",
         "Romano Family"
        ],
        [
         "Asked for Meeting With",
         "23",
         0.054545455,
         0.054545455,
         "23",
         "Andrea",
         "Marini",
         "Marini Family"
        ],
        [
         "Asked for Meeting With",
         "24",
         0.054545455,
         0.054545455,
         "24",
         "Francesca",
         "Marini",
         "Marini Family"
        ],
        [
         "Asked for Meeting With",
         "26",
         0.054545455,
         0.054545455,
         "26",
         "Elena",
         "Conti",
         "Conti Family"
        ],
        [
         "Asked for Meeting With",
         "29",
         0.054545455,
         0.054545455,
         "29",
         "Giorgio",
         "Rossi",
         "Rossi Family"
        ],
        [
         "Asked for Meeting With",
         "32",
         0.054545455,
         0.054545455,
         "32",
         "Alice",
         "Rossi",
         "Rossi Family"
        ],
        [
         "Asked for Meeting With",
         "34",
         0.054545455,
         0.054545455,
         "34",
         "Valentina",
         "Bianchi",
         "Bianchi Family"
        ],
        [
         "Asked for Meeting With",
         "36",
         0.054545455,
         0.054545455,
         "36",
         "Lorenzo",
         "Bianchi",
         "Bianchi Family"
        ],
        [
         "Asked for Meeting With",
         "38",
         0.054545455,
         0.054545455,
         "38",
         "Elisa",
         "Ricci",
         "Ricci Family"
        ],
        [
         "Asked for Meeting With",
         "40",
         0.054545455,
         0.054545455,
         "40",
         "Anna",
         "Ricci",
         "Ricci Family"
        ],
        [
         "Asked for Meeting With",
         "45",
         0.054545455,
         0.054545455,
         "45",
         "Giulia",
         "Romano",
         "Romano Family"
        ],
        [
         "Asked for Meeting With",
         "48",
         0.054545455,
         0.054545455,
         "48",
         "Mattia",
         "Romano",
         "Romano Family"
        ],
        [
         "Asked for Meeting With",
         "54",
         0.054545455,
         0.054545455,
         "54",
         "Sara",
         "Conti",
         "Conti Family"
        ],
        [
         "Asked for Meeting With",
         "56",
         0.054545455,
         0.054545455,
         "56",
         "Francesca",
         "Conti",
         "Conti Family"
        ],
        [
         "Asked for Meeting With",
         "1",
         0.036363635,
         0.036363635,
         "1",
         "Giuseppe",
         "Rossi",
         "Rossi Family"
        ],
        [
         "Asked for Meeting With",
         "4",
         0.036363635,
         0.036363635,
         "4",
         "Sofia",
         "Rossi",
         "Rossi Family"
        ],
        [
         "Asked for Meeting With",
         "5",
         0.036363635,
         0.036363635,
         "5",
         "Luca",
         "Bianchi",
         "Bianchi Family"
        ],
        [
         "Asked for Meeting With",
         "7",
         0.036363635,
         0.036363635,
         "7",
         "Marco",
         "Bianchi",
         "Bianchi Family"
        ],
        [
         "Asked for Meeting With",
         "16",
         0.036363635,
         0.036363635,
         "16",
         "Elena",
         "Moretti",
         "Moretti Family"
        ],
        [
         "Asked for Meeting With",
         "28",
         0.036363635,
         0.036363635,
         "28",
         "Giuliana",
         "Conti",
         "Conti Family"
        ],
        [
         "Asked for Meeting With",
         "30",
         0.036363635,
         0.036363635,
         "30",
         "Paola",
         "Rossi",
         "Rossi Family"
        ],
        [
         "Asked for Meeting With",
         "31",
         0.036363635,
         0.036363635,
         "31",
         "Fabio",
         "Rossi",
         "Rossi Family"
        ],
        [
         "Asked for Meeting With",
         "2",
         0.018181818,
         0.018181818,
         "2",
         "Maria",
         "Rossi",
         "Rossi Family"
        ],
        [
         "Asked for Meeting With",
         "3",
         0.018181818,
         0.018181818,
         "3",
         "Antonio",
         "Rossi",
         "Rossi Family"
        ],
        [
         "Asked for Meeting With",
         "6",
         0.018181818,
         0.018181818,
         "6",
         "Giulia",
         "Bianchi",
         "Bianchi Family"
        ],
        [
         "Asked for Meeting With",
         "8",
         0.018181818,
         0.018181818,
         "8",
         "Alessia",
         "Bianchi",
         "Bianchi Family"
        ]
       ],
       "datasetInfos": [],
       "dbfsResultPath": null,
       "isJsonSchema": true,
       "metadata": {},
       "overflow": false,
       "plotOptions": {
        "customPlotOptions": {},
        "displayType": "table",
        "pivotAggregation": null,
        "pivotColumns": null,
        "xColumns": null,
        "yColumns": null
       },
       "removedWidgets": [],
       "schema": [
        {
         "metadata": "{}",
         "name": "relation_type",
         "type": "\"string\""
        },
        {
         "metadata": "{}",
         "name": "node",
         "type": "\"string\""
        },
        {
         "metadata": "{}",
         "name": "in_degree_centrality",
         "type": "\"float\""
        },
        {
         "metadata": "{}",
         "name": "out_degree_centrality",
         "type": "\"float\""
        },
        {
         "metadata": "{}",
         "name": "id",
         "type": "\"string\""
        },
        {
         "metadata": "{}",
         "name": "First Name",
         "type": "\"string\""
        },
        {
         "metadata": "{}",
         "name": "Last Name",
         "type": "\"string\""
        },
        {
         "metadata": "{}",
         "name": "Family",
         "type": "\"string\""
        }
       ],
       "type": "table"
      }
     },
     "output_type": "display_data"
    }
   ],
   "source": [
    "# Summarize results for degree centrality\n",
    "mafia_subgraph \\\n",
    "    .edges \\\n",
    "    .groupby(\"relation_type\") \\\n",
    "    .applyInPandas(nx_degree_centrality, output_schema_degree) \\\n",
    "    .alias(\"degree_df\") \\\n",
    "    .join(mafia_graph.vertices.alias(\"node_df\"), F.col(\"degree_df.node\") == F.col(\"node_df.id\")) \\\n",
    "    .orderBy(\"relation_type\", \"in_degree_centrality\", ascending=False) \\\n",
    "    .display()"
   ]
  },
  {
   "cell_type": "code",
   "execution_count": 0,
   "metadata": {
    "application/vnd.databricks.v1+cell": {
     "cellMetadata": {
      "byteLimit": 2048000,
      "rowLimit": 10000
     },
     "inputWidgets": {},
     "nuid": "601b8169-45f1-41d6-be99-64907e9f642a",
     "showTitle": false,
     "title": ""
    }
   },
   "outputs": [
    {
     "output_type": "display_data",
     "data": {
      "text/html": [
       "<style scoped>\n",
       "  .table-result-container {\n",
       "    max-height: 300px;\n",
       "    overflow: auto;\n",
       "  }\n",
       "  table, th, td {\n",
       "    border: 1px solid black;\n",
       "    border-collapse: collapse;\n",
       "  }\n",
       "  th, td {\n",
       "    padding: 5px;\n",
       "  }\n",
       "  th {\n",
       "    text-align: left;\n",
       "  }\n",
       "</style><div class='table-result-container'><table class='table-result'><thead style='background-color: white'><tr><th>relation_type</th><th>node</th><th>betweenness_centrality</th><th>id</th><th>First Name</th><th>Last Name</th><th>Family</th></tr></thead><tbody><tr><td>Threatened</td><td>2</td><td>0.0</td><td>2</td><td>Maria</td><td>Rossi</td><td>Rossi Family</td></tr><tr><td>Threatened</td><td>1</td><td>0.0</td><td>1</td><td>Giuseppe</td><td>Rossi</td><td>Rossi Family</td></tr><tr><td>Threatened</td><td>4</td><td>0.0</td><td>4</td><td>Sofia</td><td>Rossi</td><td>Rossi Family</td></tr><tr><td>Threatened</td><td>3</td><td>0.0</td><td>3</td><td>Antonio</td><td>Rossi</td><td>Rossi Family</td></tr><tr><td>Threatened</td><td>10</td><td>0.0</td><td>10</td><td>Chiara</td><td>Ricci</td><td>Ricci Family</td></tr><tr><td>Threatened</td><td>9</td><td>0.0</td><td>9</td><td>Francesco</td><td>Ricci</td><td>Ricci Family</td></tr><tr><td>Threatened</td><td>12</td><td>0.0</td><td>12</td><td>Laura</td><td>Ricci</td><td>Ricci Family</td></tr><tr><td>Threatened</td><td>11</td><td>0.0</td><td>11</td><td>Roberto</td><td>Ricci</td><td>Ricci Family</td></tr><tr><td>Threatened</td><td>30</td><td>0.0</td><td>30</td><td>Paola</td><td>Rossi</td><td>Rossi Family</td></tr><tr><td>Threatened</td><td>29</td><td>0.0</td><td>29</td><td>Giorgio</td><td>Rossi</td><td>Rossi Family</td></tr><tr><td>Threatened</td><td>32</td><td>0.0</td><td>32</td><td>Alice</td><td>Rossi</td><td>Rossi Family</td></tr><tr><td>Threatened</td><td>31</td><td>0.0</td><td>31</td><td>Fabio</td><td>Rossi</td><td>Rossi Family</td></tr><tr><td>Threatened</td><td>13</td><td>0.0</td><td>13</td><td>Giovanni</td><td>Moretti</td><td>Moretti Family</td></tr><tr><td>Threatened</td><td>17</td><td>0.0</td><td>17</td><td>Carlo</td><td>Romano</td><td>Romano Family</td></tr><tr><td>Sent Money</td><td>2</td><td>0.613468</td><td>2</td><td>Maria</td><td>Rossi</td><td>Rossi Family</td></tr><tr><td>Sent Money</td><td>1</td><td>0.5895623</td><td>1</td><td>Giuseppe</td><td>Rossi</td><td>Rossi Family</td></tr><tr><td>Sent Money</td><td>4</td><td>0.42020202</td><td>4</td><td>Sofia</td><td>Rossi</td><td>Rossi Family</td></tr><tr><td>Sent Money</td><td>3</td><td>0.31111112</td><td>3</td><td>Antonio</td><td>Rossi</td><td>Rossi Family</td></tr><tr><td>Sent Money</td><td>13</td><td>0.27272728</td><td>13</td><td>Giovanni</td><td>Moretti</td><td>Moretti Family</td></tr><tr><td>Sent Money</td><td>14</td><td>0.27171716</td><td>14</td><td>Anna</td><td>Moretti</td><td>Moretti Family</td></tr><tr><td>Sent Money</td><td>9</td><td>0.21919192</td><td>9</td><td>Francesco</td><td>Ricci</td><td>Ricci Family</td></tr><tr><td>Sent Money</td><td>10</td><td>0.21919192</td><td>10</td><td>Chiara</td><td>Ricci</td><td>Ricci Family</td></tr><tr><td>Sent Money</td><td>22</td><td>0.09057239</td><td>22</td><td>Teresa</td><td>Marini</td><td>Marini Family</td></tr><tr><td>Sent Money</td><td>34</td><td>0.09057239</td><td>34</td><td>Valentina</td><td>Bianchi</td><td>Bianchi Family</td></tr><tr><td>Sent Money</td><td>42</td><td>0.09057239</td><td>42</td><td>Simona</td><td>Moretti</td><td>Moretti Family</td></tr><tr><td>Sent Money</td><td>54</td><td>0.09057239</td><td>54</td><td>Sara</td><td>Conti</td><td>Conti Family</td></tr><tr><td>Sent Money</td><td>23</td><td>0.07171717</td><td>23</td><td>Andrea</td><td>Marini</td><td>Marini Family</td></tr><tr><td>Sent Money</td><td>35</td><td>0.07171717</td><td>35</td><td>Federica</td><td>Bianchi</td><td>Bianchi Family</td></tr><tr><td>Sent Money</td><td>43</td><td>0.07171717</td><td>43</td><td>Roberta</td><td>Moretti</td><td>Moretti Family</td></tr><tr><td>Sent Money</td><td>55</td><td>0.07171717</td><td>55</td><td>Lorenzo</td><td>Conti</td><td>Conti Family</td></tr><tr><td>Sent Money</td><td>5</td><td>0.0</td><td>5</td><td>Luca</td><td>Bianchi</td><td>Bianchi Family</td></tr><tr><td>Sent Money</td><td>17</td><td>0.0</td><td>17</td><td>Carlo</td><td>Romano</td><td>Romano Family</td></tr><tr><td>Sent Money</td><td>21</td><td>0.0</td><td>21</td><td>Luigi</td><td>Marini</td><td>Marini Family</td></tr><tr><td>Sent Money</td><td>25</td><td>0.0</td><td>25</td><td>Mario</td><td>Conti</td><td>Conti Family</td></tr><tr><td>Sent Money</td><td>29</td><td>0.0</td><td>29</td><td>Giorgio</td><td>Rossi</td><td>Rossi Family</td></tr><tr><td>Sent Money</td><td>33</td><td>0.0</td><td>33</td><td>Andrea</td><td>Bianchi</td><td>Bianchi Family</td></tr><tr><td>Sent Money</td><td>37</td><td>0.0</td><td>37</td><td>Marco</td><td>Ricci</td><td>Ricci Family</td></tr><tr><td>Sent Money</td><td>41</td><td>0.0</td><td>41</td><td>Luca</td><td>Moretti</td><td>Moretti Family</td></tr><tr><td>Sent Money</td><td>45</td><td>0.0</td><td>45</td><td>Giulia</td><td>Romano</td><td>Romano Family</td></tr><tr><td>Sent Money</td><td>49</td><td>0.0</td><td>49</td><td>Marco</td><td>Marini</td><td>Marini Family</td></tr><tr><td>Sent Money</td><td>53</td><td>0.0</td><td>53</td><td>Andrea</td><td>Conti</td><td>Conti Family</td></tr><tr><td>Sent Money</td><td>6</td><td>0.0</td><td>6</td><td>Giulia</td><td>Bianchi</td><td>Bianchi Family</td></tr><tr><td>Sent Money</td><td>18</td><td>0.0</td><td>18</td><td>Lucia</td><td>Romano</td><td>Romano Family</td></tr><tr><td>Sent Money</td><td>26</td><td>0.0</td><td>26</td><td>Elena</td><td>Conti</td><td>Conti Family</td></tr><tr><td>Sent Money</td><td>30</td><td>0.0</td><td>30</td><td>Paola</td><td>Rossi</td><td>Rossi Family</td></tr><tr><td>Sent Money</td><td>38</td><td>0.0</td><td>38</td><td>Elisa</td><td>Ricci</td><td>Ricci Family</td></tr><tr><td>Sent Money</td><td>46</td><td>0.0</td><td>46</td><td>Stefano</td><td>Romano</td><td>Romano Family</td></tr><tr><td>Sent Money</td><td>50</td><td>0.0</td><td>50</td><td>Linda</td><td>Marini</td><td>Marini Family</td></tr><tr><td>Sent Money</td><td>7</td><td>0.0</td><td>7</td><td>Marco</td><td>Bianchi</td><td>Bianchi Family</td></tr><tr><td>Sent Money</td><td>11</td><td>0.0</td><td>11</td><td>Roberto</td><td>Ricci</td><td>Ricci Family</td></tr><tr><td>Sent Money</td><td>15</td><td>0.0</td><td>15</td><td>Matteo</td><td>Moretti</td><td>Moretti Family</td></tr><tr><td>Sent Money</td><td>19</td><td>0.0</td><td>19</td><td>Federico</td><td>Romano</td><td>Romano Family</td></tr><tr><td>Sent Money</td><td>27</td><td>0.0</td><td>27</td><td>Paolo</td><td>Conti</td><td>Conti Family</td></tr><tr><td>Sent Money</td><td>31</td><td>0.0</td><td>31</td><td>Fabio</td><td>Rossi</td><td>Rossi Family</td></tr><tr><td>Sent Money</td><td>39</td><td>0.0</td><td>39</td><td>Giorgio</td><td>Ricci</td><td>Ricci Family</td></tr><tr><td>Sent Money</td><td>47</td><td>0.0</td><td>47</td><td>Elisa</td><td>Romano</td><td>Romano Family</td></tr><tr><td>Sent Money</td><td>51</td><td>0.0</td><td>51</td><td>Giulia</td><td>Marini</td><td>Marini Family</td></tr><tr><td>Sent Money</td><td>8</td><td>0.0</td><td>8</td><td>Alessia</td><td>Bianchi</td><td>Bianchi Family</td></tr><tr><td>Sent Money</td><td>12</td><td>0.0</td><td>12</td><td>Laura</td><td>Ricci</td><td>Ricci Family</td></tr><tr><td>Sent Money</td><td>16</td><td>0.0</td><td>16</td><td>Elena</td><td>Moretti</td><td>Moretti Family</td></tr><tr><td>Sent Money</td><td>20</td><td>0.0</td><td>20</td><td>Martina</td><td>Romano</td><td>Romano Family</td></tr><tr><td>Sent Money</td><td>24</td><td>0.0</td><td>24</td><td>Francesca</td><td>Marini</td><td>Marini Family</td></tr><tr><td>Sent Money</td><td>28</td><td>0.0</td><td>28</td><td>Giuliana</td><td>Conti</td><td>Conti Family</td></tr><tr><td>Sent Money</td><td>32</td><td>0.0</td><td>32</td><td>Alice</td><td>Rossi</td><td>Rossi Family</td></tr><tr><td>Sent Money</td><td>36</td><td>0.0</td><td>36</td><td>Lorenzo</td><td>Bianchi</td><td>Bianchi Family</td></tr><tr><td>Sent Money</td><td>40</td><td>0.0</td><td>40</td><td>Anna</td><td>Ricci</td><td>Ricci Family</td></tr><tr><td>Sent Money</td><td>44</td><td>0.0</td><td>44</td><td>Alessandro</td><td>Moretti</td><td>Moretti Family</td></tr><tr><td>Sent Money</td><td>48</td><td>0.0</td><td>48</td><td>Mattia</td><td>Romano</td><td>Romano Family</td></tr><tr><td>Sent Money</td><td>52</td><td>0.0</td><td>52</td><td>Federico</td><td>Marini</td><td>Marini Family</td></tr><tr><td>Sent Money</td><td>56</td><td>0.0</td><td>56</td><td>Francesca</td><td>Conti</td><td>Conti Family</td></tr><tr><td>Called</td><td>8</td><td>0.44593525</td><td>8</td><td>Alessia</td><td>Bianchi</td><td>Bianchi Family</td></tr><tr><td>Called</td><td>7</td><td>0.33763102</td><td>7</td><td>Marco</td><td>Bianchi</td><td>Bianchi Family</td></tr><tr><td>Called</td><td>6</td><td>0.32296762</td><td>6</td><td>Giulia</td><td>Bianchi</td><td>Bianchi Family</td></tr><tr><td>Called</td><td>5</td><td>0.22118565</td><td>5</td><td>Luca</td><td>Bianchi</td><td>Bianchi Family</td></tr><tr><td>Called</td><td>22</td><td>0.07512229</td><td>22</td><td>Teresa</td><td>Marini</td><td>Marini Family</td></tr><tr><td>Called</td><td>21</td><td>0.06522246</td><td>21</td><td>Luigi</td><td>Marini</td><td>Marini Family</td></tr><tr><td>Called</td><td>31</td><td>0.0551945</td><td>31</td><td>Fabio</td><td>Rossi</td><td>Rossi Family</td></tr><tr><td>Called</td><td>40</td><td>0.05412299</td><td>40</td><td>Anna</td><td>Ricci</td><td>Ricci Family</td></tr><tr><td>Called</td><td>28</td><td>0.05144421</td><td>28</td><td>Giuliana</td><td>Conti</td><td>Conti Family</td></tr><tr><td>Called</td><td>29</td><td>0.043664105</td><td>29</td><td>Giorgio</td><td>Rossi</td><td>Rossi Family</td></tr><tr><td>Called</td><td>11</td><td>0.040414628</td><td>11</td><td>Roberto</td><td>Ricci</td><td>Ricci Family</td></tr><tr><td>Called</td><td>48</td><td>0.038982064</td><td>48</td><td>Mattia</td><td>Romano</td><td>Romano Family</td></tr><tr><td>Called</td><td>25</td><td>0.031062195</td><td>25</td><td>Mario</td><td>Conti</td><td>Conti Family</td></tr><tr><td>Called</td><td>37</td><td>0.030130444</td><td>37</td><td>Marco</td><td>Ricci</td><td>Ricci Family</td></tr><tr><td>Called</td><td>9</td><td>0.02888423</td><td>9</td><td>Francesco</td><td>Ricci</td><td>Ricci Family</td></tr><tr><td>Called</td><td>45</td><td>0.023375262</td><td>45</td><td>Giulia</td><td>Romano</td><td>Romano Family</td></tr><tr><td>Called</td><td>27</td><td>0.020498486</td><td>27</td><td>Paolo</td><td>Conti</td><td>Conti Family</td></tr><tr><td>Called</td><td>15</td><td>0.015047752</td><td>15</td><td>Matteo</td><td>Moretti</td><td>Moretti Family</td></tr><tr><td>Called</td><td>51</td><td>0.009433962</td><td>51</td><td>Giulia</td><td>Marini</td><td>Marini Family</td></tr><tr><td>Called</td><td>14</td><td>0.008385744</td><td>14</td><td>Anna</td><td>Moretti</td><td>Moretti Family</td></tr><tr><td>Called</td><td>50</td><td>0.008385744</td><td>50</td><td>Linda</td><td>Marini</td><td>Marini Family</td></tr><tr><td>Called</td><td>26</td><td>0.008036338</td><td>26</td><td>Elena</td><td>Conti</td><td>Conti Family</td></tr><tr><td>Called</td><td>38</td><td>0.008036338</td><td>38</td><td>Elisa</td><td>Ricci</td><td>Ricci Family</td></tr><tr><td>Called</td><td>13</td><td>0.006405777</td><td>13</td><td>Giovanni</td><td>Moretti</td><td>Moretti Family</td></tr><tr><td>Called</td><td>16</td><td>0.0050081527</td><td>16</td><td>Elena</td><td>Moretti</td><td>Moretti Family</td></tr><tr><td>Called</td><td>3</td><td>6.98812E-4</td><td>3</td><td>Antonio</td><td>Rossi</td><td>Rossi Family</td></tr><tr><td>Called</td><td>1</td><td>0.0</td><td>1</td><td>Giuseppe</td><td>Rossi</td><td>Rossi Family</td></tr><tr><td>Called</td><td>2</td><td>0.0</td><td>2</td><td>Maria</td><td>Rossi</td><td>Rossi Family</td></tr><tr><td>Called</td><td>17</td><td>0.0</td><td>17</td><td>Carlo</td><td>Romano</td><td>Romano Family</td></tr><tr><td>Called</td><td>33</td><td>0.0</td><td>33</td><td>Andrea</td><td>Bianchi</td><td>Bianchi Family</td></tr><tr><td>Called</td><td>41</td><td>0.0</td><td>41</td><td>Luca</td><td>Moretti</td><td>Moretti Family</td></tr><tr><td>Called</td><td>49</td><td>0.0</td><td>49</td><td>Marco</td><td>Marini</td><td>Marini Family</td></tr><tr><td>Called</td><td>53</td><td>0.0</td><td>53</td><td>Andrea</td><td>Conti</td><td>Conti Family</td></tr><tr><td>Called</td><td>10</td><td>0.0</td><td>10</td><td>Chiara</td><td>Ricci</td><td>Ricci Family</td></tr><tr><td>Called</td><td>18</td><td>0.0</td><td>18</td><td>Lucia</td><td>Romano</td><td>Romano Family</td></tr><tr><td>Called</td><td>30</td><td>0.0</td><td>30</td><td>Paola</td><td>Rossi</td><td>Rossi Family</td></tr><tr><td>Called</td><td>34</td><td>0.0</td><td>34</td><td>Valentina</td><td>Bianchi</td><td>Bianchi Family</td></tr><tr><td>Called</td><td>42</td><td>0.0</td><td>42</td><td>Simona</td><td>Moretti</td><td>Moretti Family</td></tr><tr><td>Called</td><td>46</td><td>0.0</td><td>46</td><td>Stefano</td><td>Romano</td><td>Romano Family</td></tr><tr><td>Called</td><td>54</td><td>0.0</td><td>54</td><td>Sara</td><td>Conti</td><td>Conti Family</td></tr><tr><td>Called</td><td>19</td><td>0.0</td><td>19</td><td>Federico</td><td>Romano</td><td>Romano Family</td></tr><tr><td>Called</td><td>23</td><td>0.0</td><td>23</td><td>Andrea</td><td>Marini</td><td>Marini Family</td></tr><tr><td>Called</td><td>35</td><td>0.0</td><td>35</td><td>Federica</td><td>Bianchi</td><td>Bianchi Family</td></tr><tr><td>Called</td><td>39</td><td>0.0</td><td>39</td><td>Giorgio</td><td>Ricci</td><td>Ricci Family</td></tr><tr><td>Called</td><td>43</td><td>0.0</td><td>43</td><td>Roberta</td><td>Moretti</td><td>Moretti Family</td></tr><tr><td>Called</td><td>47</td><td>0.0</td><td>47</td><td>Elisa</td><td>Romano</td><td>Romano Family</td></tr><tr><td>Called</td><td>55</td><td>0.0</td><td>55</td><td>Lorenzo</td><td>Conti</td><td>Conti Family</td></tr><tr><td>Called</td><td>12</td><td>0.0</td><td>12</td><td>Laura</td><td>Ricci</td><td>Ricci Family</td></tr><tr><td>Called</td><td>20</td><td>0.0</td><td>20</td><td>Martina</td><td>Romano</td><td>Romano Family</td></tr><tr><td>Called</td><td>24</td><td>0.0</td><td>24</td><td>Francesca</td><td>Marini</td><td>Marini Family</td></tr><tr><td>Called</td><td>32</td><td>0.0</td><td>32</td><td>Alice</td><td>Rossi</td><td>Rossi Family</td></tr><tr><td>Called</td><td>36</td><td>0.0</td><td>36</td><td>Lorenzo</td><td>Bianchi</td><td>Bianchi Family</td></tr><tr><td>Called</td><td>44</td><td>0.0</td><td>44</td><td>Alessandro</td><td>Moretti</td><td>Moretti Family</td></tr><tr><td>Called</td><td>52</td><td>0.0</td><td>52</td><td>Federico</td><td>Marini</td><td>Marini Family</td></tr><tr><td>Called</td><td>56</td><td>0.0</td><td>56</td><td>Francesca</td><td>Conti</td><td>Conti Family</td></tr><tr><td>Asked for Meeting With</td><td>12</td><td>0.18597323</td><td>12</td><td>Laura</td><td>Ricci</td><td>Ricci Family</td></tr><tr><td>Asked for Meeting With</td><td>11</td><td>0.16890012</td><td>11</td><td>Roberto</td><td>Ricci</td><td>Ricci Family</td></tr><tr><td>Asked for Meeting With</td><td>9</td><td>0.1646128</td><td>9</td><td>Francesco</td><td>Ricci</td><td>Ricci Family</td></tr><tr><td>Asked for Meeting With</td><td>10</td><td>0.13895944</td><td>10</td><td>Chiara</td><td>Ricci</td><td>Ricci Family</td></tr><tr><td>Asked for Meeting With</td><td>13</td><td>0.02889319</td><td>13</td><td>Giovanni</td><td>Moretti</td><td>Moretti Family</td></tr><tr><td>Asked for Meeting With</td><td>37</td><td>0.018324004</td><td>37</td><td>Marco</td><td>Ricci</td><td>Ricci Family</td></tr><tr><td>Asked for Meeting With</td><td>27</td><td>0.01651622</td><td>27</td><td>Paolo</td><td>Conti</td><td>Conti Family</td></tr><tr><td>Asked for Meeting With</td><td>22</td><td>0.015545692</td><td>22</td><td>Teresa</td><td>Marini</td><td>Marini Family</td></tr><tr><td>Asked for Meeting With</td><td>46</td><td>0.015545692</td><td>46</td><td>Stefano</td><td>Romano</td><td>Romano Family</td></tr><tr><td>Asked for Meeting With</td><td>35</td><td>0.015316124</td><td>35</td><td>Federica</td><td>Bianchi</td><td>Bianchi Family</td></tr><tr><td>Asked for Meeting With</td><td>55</td><td>0.015316124</td><td>55</td><td>Lorenzo</td><td>Conti</td><td>Conti Family</td></tr><tr><td>Asked for Meeting With</td><td>42</td><td>0.015208992</td><td>42</td><td>Simona</td><td>Moretti</td><td>Moretti Family</td></tr><tr><td>Asked for Meeting With</td><td>49</td><td>0.0147637995</td><td>49</td><td>Marco</td><td>Marini</td><td>Marini Family</td></tr><tr><td>Asked for Meeting With</td><td>33</td><td>0.014752576</td><td>33</td><td>Andrea</td><td>Bianchi</td><td>Bianchi Family</td></tr><tr><td>Asked for Meeting With</td><td>53</td><td>0.014752576</td><td>53</td><td>Andrea</td><td>Conti</td><td>Conti Family</td></tr><tr><td>Asked for Meeting With</td><td>50</td><td>0.014198891</td><td>50</td><td>Linda</td><td>Marini</td><td>Marini Family</td></tr><tr><td>Asked for Meeting With</td><td>39</td><td>0.014089573</td><td>39</td><td>Giorgio</td><td>Ricci</td><td>Ricci Family</td></tr><tr><td>Asked for Meeting With</td><td>29</td><td>0.013590159</td><td>29</td><td>Giorgio</td><td>Rossi</td><td>Rossi Family</td></tr><tr><td>Asked for Meeting With</td><td>47</td><td>0.012431725</td><td>47</td><td>Elisa</td><td>Romano</td><td>Romano Family</td></tr><tr><td>Asked for Meeting With</td><td>25</td><td>0.012370822</td><td>25</td><td>Mario</td><td>Conti</td><td>Conti Family</td></tr><tr><td>Asked for Meeting With</td><td>43</td><td>0.012095024</td><td>43</td><td>Roberta</td><td>Moretti</td><td>Moretti Family</td></tr><tr><td>Asked for Meeting With</td><td>44</td><td>0.011919192</td><td>44</td><td>Alessandro</td><td>Moretti</td><td>Moretti Family</td></tr><tr><td>Asked for Meeting With</td><td>18</td><td>0.011755943</td><td>18</td><td>Lucia</td><td>Romano</td><td>Romano Family</td></tr><tr><td>Asked for Meeting With</td><td>21</td><td>0.011733497</td><td>21</td><td>Luigi</td><td>Marini</td><td>Marini Family</td></tr><tr><td>Asked for Meeting With</td><td>41</td><td>0.011396796</td><td>41</td><td>Luca</td><td>Moretti</td><td>Moretti Family</td></tr><tr><td>Asked for Meeting With</td><td>51</td><td>0.01130939</td><td>51</td><td>Giulia</td><td>Marini</td><td>Marini Family</td></tr><tr><td>Asked for Meeting With</td><td>52</td><td>0.011189675</td><td>52</td><td>Federico</td><td>Marini</td><td>Marini Family</td></tr><tr><td>Asked for Meeting With</td><td>20</td><td>0.010852974</td><td>20</td><td>Martina</td><td>Romano</td><td>Romano Family</td></tr><tr><td>Asked for Meeting With</td><td>34</td><td>0.010677968</td><td>34</td><td>Valentina</td><td>Bianchi</td><td>Bianchi Family</td></tr><tr><td>Asked for Meeting With</td><td>54</td><td>0.010677968</td><td>54</td><td>Sara</td><td>Conti</td><td>Conti Family</td></tr><tr><td>Asked for Meeting With</td><td>17</td><td>0.009993878</td><td>17</td><td>Carlo</td><td>Romano</td><td>Romano Family</td></tr><tr><td>Asked for Meeting With</td><td>38</td><td>0.009788116</td><td>38</td><td>Elisa</td><td>Ricci</td><td>Ricci Family</td></tr><tr><td>Asked for Meeting With</td><td>26</td><td>0.009687107</td><td>26</td><td>Elena</td><td>Conti</td><td>Conti Family</td></tr><tr><td>Asked for Meeting With</td><td>32</td><td>0.009450056</td><td>32</td><td>Alice</td><td>Rossi</td><td>Rossi Family</td></tr><tr><td>Asked for Meeting With</td><td>23</td><td>0.009289188</td><td>23</td><td>Andrea</td><td>Marini</td><td>Marini Family</td></tr><tr><td>Asked for Meeting With</td><td>24</td><td>0.009113356</td><td>24</td><td>Francesca</td><td>Marini</td><td>Marini Family</td></tr><tr><td>Asked for Meeting With</td><td>48</td><td>0.009001123</td><td>48</td><td>Mattia</td><td>Romano</td><td>Romano Family</td></tr><tr><td>Asked for Meeting With</td><td>15</td><td>0.009000588</td><td>15</td><td>Matteo</td><td>Moretti</td><td>Moretti Family</td></tr><tr><td>Asked for Meeting With</td><td>14</td><td>0.008733123</td><td>14</td><td>Anna</td><td>Moretti</td><td>Moretti Family</td></tr><tr><td>Asked for Meeting With</td><td>45</td><td>0.008478726</td><td>45</td><td>Giulia</td><td>Romano</td><td>Romano Family</td></tr><tr><td>Asked for Meeting With</td><td>19</td><td>0.008305275</td><td>19</td><td>Federico</td><td>Romano</td><td>Romano Family</td></tr><tr><td>Asked for Meeting With</td><td>36</td><td>0.0070386403</td><td>36</td><td>Lorenzo</td><td>Bianchi</td><td>Bianchi Family</td></tr><tr><td>Asked for Meeting With</td><td>56</td><td>0.0070386403</td><td>56</td><td>Francesca</td><td>Conti</td><td>Conti Family</td></tr><tr><td>Asked for Meeting With</td><td>40</td><td>0.0064213565</td><td>40</td><td>Anna</td><td>Ricci</td><td>Ricci Family</td></tr><tr><td>Asked for Meeting With</td><td>30</td><td>0.0053554303</td><td>30</td><td>Paola</td><td>Rossi</td><td>Rossi Family</td></tr><tr><td>Asked for Meeting With</td><td>31</td><td>0.003599487</td><td>31</td><td>Fabio</td><td>Rossi</td><td>Rossi Family</td></tr><tr><td>Asked for Meeting With</td><td>28</td><td>0.0033068783</td><td>28</td><td>Giuliana</td><td>Conti</td><td>Conti Family</td></tr><tr><td>Asked for Meeting With</td><td>16</td><td>0.0029982363</td><td>16</td><td>Elena</td><td>Moretti</td><td>Moretti Family</td></tr><tr><td>Asked for Meeting With</td><td>1</td><td>0.0013468013</td><td>1</td><td>Giuseppe</td><td>Rossi</td><td>Rossi Family</td></tr><tr><td>Asked for Meeting With</td><td>4</td><td>0.0013468013</td><td>4</td><td>Sofia</td><td>Rossi</td><td>Rossi Family</td></tr><tr><td>Asked for Meeting With</td><td>5</td><td>0.0013468013</td><td>5</td><td>Luca</td><td>Bianchi</td><td>Bianchi Family</td></tr><tr><td>Asked for Meeting With</td><td>7</td><td>0.0013468013</td><td>7</td><td>Marco</td><td>Bianchi</td><td>Bianchi Family</td></tr><tr><td>Asked for Meeting With</td><td>2</td><td>0.0</td><td>2</td><td>Maria</td><td>Rossi</td><td>Rossi Family</td></tr><tr><td>Asked for Meeting With</td><td>3</td><td>0.0</td><td>3</td><td>Antonio</td><td>Rossi</td><td>Rossi Family</td></tr><tr><td>Asked for Meeting With</td><td>6</td><td>0.0</td><td>6</td><td>Giulia</td><td>Bianchi</td><td>Bianchi Family</td></tr><tr><td>Asked for Meeting With</td><td>8</td><td>0.0</td><td>8</td><td>Alessia</td><td>Bianchi</td><td>Bianchi Family</td></tr></tbody></table></div>"
      ]
     },
     "metadata": {
      "application/vnd.databricks.v1+output": {
       "addedWidgets": {},
       "aggData": [],
       "aggError": "",
       "aggOverflow": false,
       "aggSchema": [],
       "aggSeriesLimitReached": false,
       "aggType": "",
       "arguments": {},
       "columnCustomDisplayInfos": {},
       "data": [
        [
         "Threatened",
         "2",
         0.0,
         "2",
         "Maria",
         "Rossi",
         "Rossi Family"
        ],
        [
         "Threatened",
         "1",
         0.0,
         "1",
         "Giuseppe",
         "Rossi",
         "Rossi Family"
        ],
        [
         "Threatened",
         "4",
         0.0,
         "4",
         "Sofia",
         "Rossi",
         "Rossi Family"
        ],
        [
         "Threatened",
         "3",
         0.0,
         "3",
         "Antonio",
         "Rossi",
         "Rossi Family"
        ],
        [
         "Threatened",
         "10",
         0.0,
         "10",
         "Chiara",
         "Ricci",
         "Ricci Family"
        ],
        [
         "Threatened",
         "9",
         0.0,
         "9",
         "Francesco",
         "Ricci",
         "Ricci Family"
        ],
        [
         "Threatened",
         "12",
         0.0,
         "12",
         "Laura",
         "Ricci",
         "Ricci Family"
        ],
        [
         "Threatened",
         "11",
         0.0,
         "11",
         "Roberto",
         "Ricci",
         "Ricci Family"
        ],
        [
         "Threatened",
         "30",
         0.0,
         "30",
         "Paola",
         "Rossi",
         "Rossi Family"
        ],
        [
         "Threatened",
         "29",
         0.0,
         "29",
         "Giorgio",
         "Rossi",
         "Rossi Family"
        ],
        [
         "Threatened",
         "32",
         0.0,
         "32",
         "Alice",
         "Rossi",
         "Rossi Family"
        ],
        [
         "Threatened",
         "31",
         0.0,
         "31",
         "Fabio",
         "Rossi",
         "Rossi Family"
        ],
        [
         "Threatened",
         "13",
         0.0,
         "13",
         "Giovanni",
         "Moretti",
         "Moretti Family"
        ],
        [
         "Threatened",
         "17",
         0.0,
         "17",
         "Carlo",
         "Romano",
         "Romano Family"
        ],
        [
         "Sent Money",
         "2",
         0.613468,
         "2",
         "Maria",
         "Rossi",
         "Rossi Family"
        ],
        [
         "Sent Money",
         "1",
         0.5895623,
         "1",
         "Giuseppe",
         "Rossi",
         "Rossi Family"
        ],
        [
         "Sent Money",
         "4",
         0.42020202,
         "4",
         "Sofia",
         "Rossi",
         "Rossi Family"
        ],
        [
         "Sent Money",
         "3",
         0.31111112,
         "3",
         "Antonio",
         "Rossi",
         "Rossi Family"
        ],
        [
         "Sent Money",
         "13",
         0.27272728,
         "13",
         "Giovanni",
         "Moretti",
         "Moretti Family"
        ],
        [
         "Sent Money",
         "14",
         0.27171716,
         "14",
         "Anna",
         "Moretti",
         "Moretti Family"
        ],
        [
         "Sent Money",
         "9",
         0.21919192,
         "9",
         "Francesco",
         "Ricci",
         "Ricci Family"
        ],
        [
         "Sent Money",
         "10",
         0.21919192,
         "10",
         "Chiara",
         "Ricci",
         "Ricci Family"
        ],
        [
         "Sent Money",
         "22",
         0.09057239,
         "22",
         "Teresa",
         "Marini",
         "Marini Family"
        ],
        [
         "Sent Money",
         "34",
         0.09057239,
         "34",
         "Valentina",
         "Bianchi",
         "Bianchi Family"
        ],
        [
         "Sent Money",
         "42",
         0.09057239,
         "42",
         "Simona",
         "Moretti",
         "Moretti Family"
        ],
        [
         "Sent Money",
         "54",
         0.09057239,
         "54",
         "Sara",
         "Conti",
         "Conti Family"
        ],
        [
         "Sent Money",
         "23",
         0.07171717,
         "23",
         "Andrea",
         "Marini",
         "Marini Family"
        ],
        [
         "Sent Money",
         "35",
         0.07171717,
         "35",
         "Federica",
         "Bianchi",
         "Bianchi Family"
        ],
        [
         "Sent Money",
         "43",
         0.07171717,
         "43",
         "Roberta",
         "Moretti",
         "Moretti Family"
        ],
        [
         "Sent Money",
         "55",
         0.07171717,
         "55",
         "Lorenzo",
         "Conti",
         "Conti Family"
        ],
        [
         "Sent Money",
         "5",
         0.0,
         "5",
         "Luca",
         "Bianchi",
         "Bianchi Family"
        ],
        [
         "Sent Money",
         "17",
         0.0,
         "17",
         "Carlo",
         "Romano",
         "Romano Family"
        ],
        [
         "Sent Money",
         "21",
         0.0,
         "21",
         "Luigi",
         "Marini",
         "Marini Family"
        ],
        [
         "Sent Money",
         "25",
         0.0,
         "25",
         "Mario",
         "Conti",
         "Conti Family"
        ],
        [
         "Sent Money",
         "29",
         0.0,
         "29",
         "Giorgio",
         "Rossi",
         "Rossi Family"
        ],
        [
         "Sent Money",
         "33",
         0.0,
         "33",
         "Andrea",
         "Bianchi",
         "Bianchi Family"
        ],
        [
         "Sent Money",
         "37",
         0.0,
         "37",
         "Marco",
         "Ricci",
         "Ricci Family"
        ],
        [
         "Sent Money",
         "41",
         0.0,
         "41",
         "Luca",
         "Moretti",
         "Moretti Family"
        ],
        [
         "Sent Money",
         "45",
         0.0,
         "45",
         "Giulia",
         "Romano",
         "Romano Family"
        ],
        [
         "Sent Money",
         "49",
         0.0,
         "49",
         "Marco",
         "Marini",
         "Marini Family"
        ],
        [
         "Sent Money",
         "53",
         0.0,
         "53",
         "Andrea",
         "Conti",
         "Conti Family"
        ],
        [
         "Sent Money",
         "6",
         0.0,
         "6",
         "Giulia",
         "Bianchi",
         "Bianchi Family"
        ],
        [
         "Sent Money",
         "18",
         0.0,
         "18",
         "Lucia",
         "Romano",
         "Romano Family"
        ],
        [
         "Sent Money",
         "26",
         0.0,
         "26",
         "Elena",
         "Conti",
         "Conti Family"
        ],
        [
         "Sent Money",
         "30",
         0.0,
         "30",
         "Paola",
         "Rossi",
         "Rossi Family"
        ],
        [
         "Sent Money",
         "38",
         0.0,
         "38",
         "Elisa",
         "Ricci",
         "Ricci Family"
        ],
        [
         "Sent Money",
         "46",
         0.0,
         "46",
         "Stefano",
         "Romano",
         "Romano Family"
        ],
        [
         "Sent Money",
         "50",
         0.0,
         "50",
         "Linda",
         "Marini",
         "Marini Family"
        ],
        [
         "Sent Money",
         "7",
         0.0,
         "7",
         "Marco",
         "Bianchi",
         "Bianchi Family"
        ],
        [
         "Sent Money",
         "11",
         0.0,
         "11",
         "Roberto",
         "Ricci",
         "Ricci Family"
        ],
        [
         "Sent Money",
         "15",
         0.0,
         "15",
         "Matteo",
         "Moretti",
         "Moretti Family"
        ],
        [
         "Sent Money",
         "19",
         0.0,
         "19",
         "Federico",
         "Romano",
         "Romano Family"
        ],
        [
         "Sent Money",
         "27",
         0.0,
         "27",
         "Paolo",
         "Conti",
         "Conti Family"
        ],
        [
         "Sent Money",
         "31",
         0.0,
         "31",
         "Fabio",
         "Rossi",
         "Rossi Family"
        ],
        [
         "Sent Money",
         "39",
         0.0,
         "39",
         "Giorgio",
         "Ricci",
         "Ricci Family"
        ],
        [
         "Sent Money",
         "47",
         0.0,
         "47",
         "Elisa",
         "Romano",
         "Romano Family"
        ],
        [
         "Sent Money",
         "51",
         0.0,
         "51",
         "Giulia",
         "Marini",
         "Marini Family"
        ],
        [
         "Sent Money",
         "8",
         0.0,
         "8",
         "Alessia",
         "Bianchi",
         "Bianchi Family"
        ],
        [
         "Sent Money",
         "12",
         0.0,
         "12",
         "Laura",
         "Ricci",
         "Ricci Family"
        ],
        [
         "Sent Money",
         "16",
         0.0,
         "16",
         "Elena",
         "Moretti",
         "Moretti Family"
        ],
        [
         "Sent Money",
         "20",
         0.0,
         "20",
         "Martina",
         "Romano",
         "Romano Family"
        ],
        [
         "Sent Money",
         "24",
         0.0,
         "24",
         "Francesca",
         "Marini",
         "Marini Family"
        ],
        [
         "Sent Money",
         "28",
         0.0,
         "28",
         "Giuliana",
         "Conti",
         "Conti Family"
        ],
        [
         "Sent Money",
         "32",
         0.0,
         "32",
         "Alice",
         "Rossi",
         "Rossi Family"
        ],
        [
         "Sent Money",
         "36",
         0.0,
         "36",
         "Lorenzo",
         "Bianchi",
         "Bianchi Family"
        ],
        [
         "Sent Money",
         "40",
         0.0,
         "40",
         "Anna",
         "Ricci",
         "Ricci Family"
        ],
        [
         "Sent Money",
         "44",
         0.0,
         "44",
         "Alessandro",
         "Moretti",
         "Moretti Family"
        ],
        [
         "Sent Money",
         "48",
         0.0,
         "48",
         "Mattia",
         "Romano",
         "Romano Family"
        ],
        [
         "Sent Money",
         "52",
         0.0,
         "52",
         "Federico",
         "Marini",
         "Marini Family"
        ],
        [
         "Sent Money",
         "56",
         0.0,
         "56",
         "Francesca",
         "Conti",
         "Conti Family"
        ],
        [
         "Called",
         "8",
         0.44593525,
         "8",
         "Alessia",
         "Bianchi",
         "Bianchi Family"
        ],
        [
         "Called",
         "7",
         0.33763102,
         "7",
         "Marco",
         "Bianchi",
         "Bianchi Family"
        ],
        [
         "Called",
         "6",
         0.32296762,
         "6",
         "Giulia",
         "Bianchi",
         "Bianchi Family"
        ],
        [
         "Called",
         "5",
         0.22118565,
         "5",
         "Luca",
         "Bianchi",
         "Bianchi Family"
        ],
        [
         "Called",
         "22",
         0.07512229,
         "22",
         "Teresa",
         "Marini",
         "Marini Family"
        ],
        [
         "Called",
         "21",
         0.06522246,
         "21",
         "Luigi",
         "Marini",
         "Marini Family"
        ],
        [
         "Called",
         "31",
         0.0551945,
         "31",
         "Fabio",
         "Rossi",
         "Rossi Family"
        ],
        [
         "Called",
         "40",
         0.05412299,
         "40",
         "Anna",
         "Ricci",
         "Ricci Family"
        ],
        [
         "Called",
         "28",
         0.05144421,
         "28",
         "Giuliana",
         "Conti",
         "Conti Family"
        ],
        [
         "Called",
         "29",
         0.043664105,
         "29",
         "Giorgio",
         "Rossi",
         "Rossi Family"
        ],
        [
         "Called",
         "11",
         0.040414628,
         "11",
         "Roberto",
         "Ricci",
         "Ricci Family"
        ],
        [
         "Called",
         "48",
         0.038982064,
         "48",
         "Mattia",
         "Romano",
         "Romano Family"
        ],
        [
         "Called",
         "25",
         0.031062195,
         "25",
         "Mario",
         "Conti",
         "Conti Family"
        ],
        [
         "Called",
         "37",
         0.030130444,
         "37",
         "Marco",
         "Ricci",
         "Ricci Family"
        ],
        [
         "Called",
         "9",
         0.02888423,
         "9",
         "Francesco",
         "Ricci",
         "Ricci Family"
        ],
        [
         "Called",
         "45",
         0.023375262,
         "45",
         "Giulia",
         "Romano",
         "Romano Family"
        ],
        [
         "Called",
         "27",
         0.020498486,
         "27",
         "Paolo",
         "Conti",
         "Conti Family"
        ],
        [
         "Called",
         "15",
         0.015047752,
         "15",
         "Matteo",
         "Moretti",
         "Moretti Family"
        ],
        [
         "Called",
         "51",
         0.009433962,
         "51",
         "Giulia",
         "Marini",
         "Marini Family"
        ],
        [
         "Called",
         "14",
         0.008385744,
         "14",
         "Anna",
         "Moretti",
         "Moretti Family"
        ],
        [
         "Called",
         "50",
         0.008385744,
         "50",
         "Linda",
         "Marini",
         "Marini Family"
        ],
        [
         "Called",
         "26",
         0.008036338,
         "26",
         "Elena",
         "Conti",
         "Conti Family"
        ],
        [
         "Called",
         "38",
         0.008036338,
         "38",
         "Elisa",
         "Ricci",
         "Ricci Family"
        ],
        [
         "Called",
         "13",
         0.006405777,
         "13",
         "Giovanni",
         "Moretti",
         "Moretti Family"
        ],
        [
         "Called",
         "16",
         0.0050081527,
         "16",
         "Elena",
         "Moretti",
         "Moretti Family"
        ],
        [
         "Called",
         "3",
         6.98812E-4,
         "3",
         "Antonio",
         "Rossi",
         "Rossi Family"
        ],
        [
         "Called",
         "1",
         0.0,
         "1",
         "Giuseppe",
         "Rossi",
         "Rossi Family"
        ],
        [
         "Called",
         "2",
         0.0,
         "2",
         "Maria",
         "Rossi",
         "Rossi Family"
        ],
        [
         "Called",
         "17",
         0.0,
         "17",
         "Carlo",
         "Romano",
         "Romano Family"
        ],
        [
         "Called",
         "33",
         0.0,
         "33",
         "Andrea",
         "Bianchi",
         "Bianchi Family"
        ],
        [
         "Called",
         "41",
         0.0,
         "41",
         "Luca",
         "Moretti",
         "Moretti Family"
        ],
        [
         "Called",
         "49",
         0.0,
         "49",
         "Marco",
         "Marini",
         "Marini Family"
        ],
        [
         "Called",
         "53",
         0.0,
         "53",
         "Andrea",
         "Conti",
         "Conti Family"
        ],
        [
         "Called",
         "10",
         0.0,
         "10",
         "Chiara",
         "Ricci",
         "Ricci Family"
        ],
        [
         "Called",
         "18",
         0.0,
         "18",
         "Lucia",
         "Romano",
         "Romano Family"
        ],
        [
         "Called",
         "30",
         0.0,
         "30",
         "Paola",
         "Rossi",
         "Rossi Family"
        ],
        [
         "Called",
         "34",
         0.0,
         "34",
         "Valentina",
         "Bianchi",
         "Bianchi Family"
        ],
        [
         "Called",
         "42",
         0.0,
         "42",
         "Simona",
         "Moretti",
         "Moretti Family"
        ],
        [
         "Called",
         "46",
         0.0,
         "46",
         "Stefano",
         "Romano",
         "Romano Family"
        ],
        [
         "Called",
         "54",
         0.0,
         "54",
         "Sara",
         "Conti",
         "Conti Family"
        ],
        [
         "Called",
         "19",
         0.0,
         "19",
         "Federico",
         "Romano",
         "Romano Family"
        ],
        [
         "Called",
         "23",
         0.0,
         "23",
         "Andrea",
         "Marini",
         "Marini Family"
        ],
        [
         "Called",
         "35",
         0.0,
         "35",
         "Federica",
         "Bianchi",
         "Bianchi Family"
        ],
        [
         "Called",
         "39",
         0.0,
         "39",
         "Giorgio",
         "Ricci",
         "Ricci Family"
        ],
        [
         "Called",
         "43",
         0.0,
         "43",
         "Roberta",
         "Moretti",
         "Moretti Family"
        ],
        [
         "Called",
         "47",
         0.0,
         "47",
         "Elisa",
         "Romano",
         "Romano Family"
        ],
        [
         "Called",
         "55",
         0.0,
         "55",
         "Lorenzo",
         "Conti",
         "Conti Family"
        ],
        [
         "Called",
         "12",
         0.0,
         "12",
         "Laura",
         "Ricci",
         "Ricci Family"
        ],
        [
         "Called",
         "20",
         0.0,
         "20",
         "Martina",
         "Romano",
         "Romano Family"
        ],
        [
         "Called",
         "24",
         0.0,
         "24",
         "Francesca",
         "Marini",
         "Marini Family"
        ],
        [
         "Called",
         "32",
         0.0,
         "32",
         "Alice",
         "Rossi",
         "Rossi Family"
        ],
        [
         "Called",
         "36",
         0.0,
         "36",
         "Lorenzo",
         "Bianchi",
         "Bianchi Family"
        ],
        [
         "Called",
         "44",
         0.0,
         "44",
         "Alessandro",
         "Moretti",
         "Moretti Family"
        ],
        [
         "Called",
         "52",
         0.0,
         "52",
         "Federico",
         "Marini",
         "Marini Family"
        ],
        [
         "Called",
         "56",
         0.0,
         "56",
         "Francesca",
         "Conti",
         "Conti Family"
        ],
        [
         "Asked for Meeting With",
         "12",
         0.18597323,
         "12",
         "Laura",
         "Ricci",
         "Ricci Family"
        ],
        [
         "Asked for Meeting With",
         "11",
         0.16890012,
         "11",
         "Roberto",
         "Ricci",
         "Ricci Family"
        ],
        [
         "Asked for Meeting With",
         "9",
         0.1646128,
         "9",
         "Francesco",
         "Ricci",
         "Ricci Family"
        ],
        [
         "Asked for Meeting With",
         "10",
         0.13895944,
         "10",
         "Chiara",
         "Ricci",
         "Ricci Family"
        ],
        [
         "Asked for Meeting With",
         "13",
         0.02889319,
         "13",
         "Giovanni",
         "Moretti",
         "Moretti Family"
        ],
        [
         "Asked for Meeting With",
         "37",
         0.018324004,
         "37",
         "Marco",
         "Ricci",
         "Ricci Family"
        ],
        [
         "Asked for Meeting With",
         "27",
         0.01651622,
         "27",
         "Paolo",
         "Conti",
         "Conti Family"
        ],
        [
         "Asked for Meeting With",
         "22",
         0.015545692,
         "22",
         "Teresa",
         "Marini",
         "Marini Family"
        ],
        [
         "Asked for Meeting With",
         "46",
         0.015545692,
         "46",
         "Stefano",
         "Romano",
         "Romano Family"
        ],
        [
         "Asked for Meeting With",
         "35",
         0.015316124,
         "35",
         "Federica",
         "Bianchi",
         "Bianchi Family"
        ],
        [
         "Asked for Meeting With",
         "55",
         0.015316124,
         "55",
         "Lorenzo",
         "Conti",
         "Conti Family"
        ],
        [
         "Asked for Meeting With",
         "42",
         0.015208992,
         "42",
         "Simona",
         "Moretti",
         "Moretti Family"
        ],
        [
         "Asked for Meeting With",
         "49",
         0.0147637995,
         "49",
         "Marco",
         "Marini",
         "Marini Family"
        ],
        [
         "Asked for Meeting With",
         "33",
         0.014752576,
         "33",
         "Andrea",
         "Bianchi",
         "Bianchi Family"
        ],
        [
         "Asked for Meeting With",
         "53",
         0.014752576,
         "53",
         "Andrea",
         "Conti",
         "Conti Family"
        ],
        [
         "Asked for Meeting With",
         "50",
         0.014198891,
         "50",
         "Linda",
         "Marini",
         "Marini Family"
        ],
        [
         "Asked for Meeting With",
         "39",
         0.014089573,
         "39",
         "Giorgio",
         "Ricci",
         "Ricci Family"
        ],
        [
         "Asked for Meeting With",
         "29",
         0.013590159,
         "29",
         "Giorgio",
         "Rossi",
         "Rossi Family"
        ],
        [
         "Asked for Meeting With",
         "47",
         0.012431725,
         "47",
         "Elisa",
         "Romano",
         "Romano Family"
        ],
        [
         "Asked for Meeting With",
         "25",
         0.012370822,
         "25",
         "Mario",
         "Conti",
         "Conti Family"
        ],
        [
         "Asked for Meeting With",
         "43",
         0.012095024,
         "43",
         "Roberta",
         "Moretti",
         "Moretti Family"
        ],
        [
         "Asked for Meeting With",
         "44",
         0.011919192,
         "44",
         "Alessandro",
         "Moretti",
         "Moretti Family"
        ],
        [
         "Asked for Meeting With",
         "18",
         0.011755943,
         "18",
         "Lucia",
         "Romano",
         "Romano Family"
        ],
        [
         "Asked for Meeting With",
         "21",
         0.011733497,
         "21",
         "Luigi",
         "Marini",
         "Marini Family"
        ],
        [
         "Asked for Meeting With",
         "41",
         0.011396796,
         "41",
         "Luca",
         "Moretti",
         "Moretti Family"
        ],
        [
         "Asked for Meeting With",
         "51",
         0.01130939,
         "51",
         "Giulia",
         "Marini",
         "Marini Family"
        ],
        [
         "Asked for Meeting With",
         "52",
         0.011189675,
         "52",
         "Federico",
         "Marini",
         "Marini Family"
        ],
        [
         "Asked for Meeting With",
         "20",
         0.010852974,
         "20",
         "Martina",
         "Romano",
         "Romano Family"
        ],
        [
         "Asked for Meeting With",
         "34",
         0.010677968,
         "34",
         "Valentina",
         "Bianchi",
         "Bianchi Family"
        ],
        [
         "Asked for Meeting With",
         "54",
         0.010677968,
         "54",
         "Sara",
         "Conti",
         "Conti Family"
        ],
        [
         "Asked for Meeting With",
         "17",
         0.009993878,
         "17",
         "Carlo",
         "Romano",
         "Romano Family"
        ],
        [
         "Asked for Meeting With",
         "38",
         0.009788116,
         "38",
         "Elisa",
         "Ricci",
         "Ricci Family"
        ],
        [
         "Asked for Meeting With",
         "26",
         0.009687107,
         "26",
         "Elena",
         "Conti",
         "Conti Family"
        ],
        [
         "Asked for Meeting With",
         "32",
         0.009450056,
         "32",
         "Alice",
         "Rossi",
         "Rossi Family"
        ],
        [
         "Asked for Meeting With",
         "23",
         0.009289188,
         "23",
         "Andrea",
         "Marini",
         "Marini Family"
        ],
        [
         "Asked for Meeting With",
         "24",
         0.009113356,
         "24",
         "Francesca",
         "Marini",
         "Marini Family"
        ],
        [
         "Asked for Meeting With",
         "48",
         0.009001123,
         "48",
         "Mattia",
         "Romano",
         "Romano Family"
        ],
        [
         "Asked for Meeting With",
         "15",
         0.009000588,
         "15",
         "Matteo",
         "Moretti",
         "Moretti Family"
        ],
        [
         "Asked for Meeting With",
         "14",
         0.008733123,
         "14",
         "Anna",
         "Moretti",
         "Moretti Family"
        ],
        [
         "Asked for Meeting With",
         "45",
         0.008478726,
         "45",
         "Giulia",
         "Romano",
         "Romano Family"
        ],
        [
         "Asked for Meeting With",
         "19",
         0.008305275,
         "19",
         "Federico",
         "Romano",
         "Romano Family"
        ],
        [
         "Asked for Meeting With",
         "36",
         0.0070386403,
         "36",
         "Lorenzo",
         "Bianchi",
         "Bianchi Family"
        ],
        [
         "Asked for Meeting With",
         "56",
         0.0070386403,
         "56",
         "Francesca",
         "Conti",
         "Conti Family"
        ],
        [
         "Asked for Meeting With",
         "40",
         0.0064213565,
         "40",
         "Anna",
         "Ricci",
         "Ricci Family"
        ],
        [
         "Asked for Meeting With",
         "30",
         0.0053554303,
         "30",
         "Paola",
         "Rossi",
         "Rossi Family"
        ],
        [
         "Asked for Meeting With",
         "31",
         0.003599487,
         "31",
         "Fabio",
         "Rossi",
         "Rossi Family"
        ],
        [
         "Asked for Meeting With",
         "28",
         0.0033068783,
         "28",
         "Giuliana",
         "Conti",
         "Conti Family"
        ],
        [
         "Asked for Meeting With",
         "16",
         0.0029982363,
         "16",
         "Elena",
         "Moretti",
         "Moretti Family"
        ],
        [
         "Asked for Meeting With",
         "1",
         0.0013468013,
         "1",
         "Giuseppe",
         "Rossi",
         "Rossi Family"
        ],
        [
         "Asked for Meeting With",
         "4",
         0.0013468013,
         "4",
         "Sofia",
         "Rossi",
         "Rossi Family"
        ],
        [
         "Asked for Meeting With",
         "5",
         0.0013468013,
         "5",
         "Luca",
         "Bianchi",
         "Bianchi Family"
        ],
        [
         "Asked for Meeting With",
         "7",
         0.0013468013,
         "7",
         "Marco",
         "Bianchi",
         "Bianchi Family"
        ],
        [
         "Asked for Meeting With",
         "2",
         0.0,
         "2",
         "Maria",
         "Rossi",
         "Rossi Family"
        ],
        [
         "Asked for Meeting With",
         "3",
         0.0,
         "3",
         "Antonio",
         "Rossi",
         "Rossi Family"
        ],
        [
         "Asked for Meeting With",
         "6",
         0.0,
         "6",
         "Giulia",
         "Bianchi",
         "Bianchi Family"
        ],
        [
         "Asked for Meeting With",
         "8",
         0.0,
         "8",
         "Alessia",
         "Bianchi",
         "Bianchi Family"
        ]
       ],
       "datasetInfos": [],
       "dbfsResultPath": null,
       "isJsonSchema": true,
       "metadata": {},
       "overflow": false,
       "plotOptions": {
        "customPlotOptions": {},
        "displayType": "table",
        "pivotAggregation": null,
        "pivotColumns": null,
        "xColumns": null,
        "yColumns": null
       },
       "removedWidgets": [],
       "schema": [
        {
         "metadata": "{}",
         "name": "relation_type",
         "type": "\"string\""
        },
        {
         "metadata": "{}",
         "name": "node",
         "type": "\"string\""
        },
        {
         "metadata": "{}",
         "name": "betweenness_centrality",
         "type": "\"float\""
        },
        {
         "metadata": "{}",
         "name": "id",
         "type": "\"string\""
        },
        {
         "metadata": "{}",
         "name": "First Name",
         "type": "\"string\""
        },
        {
         "metadata": "{}",
         "name": "Last Name",
         "type": "\"string\""
        },
        {
         "metadata": "{}",
         "name": "Family",
         "type": "\"string\""
        }
       ],
       "type": "table"
      }
     },
     "output_type": "display_data"
    }
   ],
   "source": [
    "# Summarize results for betweenness centrality\n",
    "mafia_subgraph \\\n",
    "    .edges \\\n",
    "    .groupby(\"relation_type\") \\\n",
    "    .applyInPandas(nx_betweenness_centrality, output_schema_betweenness) \\\n",
    "    .alias(\"degree_df\") \\\n",
    "    .join(mafia_graph.vertices.alias(\"node_df\"), F.col(\"degree_df.node\") == F.col(\"node_df.id\")) \\\n",
    "    .orderBy(\"relation_type\", \"betweenness_centrality\", ascending=False) \\\n",
    "    .display()"
   ]
  },
  {
   "cell_type": "markdown",
   "metadata": {
    "application/vnd.databricks.v1+cell": {
     "cellMetadata": {
      "byteLimit": 2048000,
      "rowLimit": 10000
     },
     "inputWidgets": {},
     "nuid": "d0ee8809-45d8-43a8-b6a2-d9754a424b68",
     "showTitle": false,
     "title": ""
    }
   },
   "source": [
    "We repeat this exercise for the entire graph."
   ]
  },
  {
   "cell_type": "code",
   "execution_count": 0,
   "metadata": {
    "application/vnd.databricks.v1+cell": {
     "cellMetadata": {
      "byteLimit": 2048000,
      "rowLimit": 10000
     },
     "inputWidgets": {},
     "nuid": "97adcd54-7fb1-4888-8634-f7b450e02139",
     "showTitle": false,
     "title": ""
    }
   },
   "outputs": [
    {
     "output_type": "display_data",
     "data": {
      "text/html": [
       "<style scoped>\n",
       "  .table-result-container {\n",
       "    max-height: 300px;\n",
       "    overflow: auto;\n",
       "  }\n",
       "  table, th, td {\n",
       "    border: 1px solid black;\n",
       "    border-collapse: collapse;\n",
       "  }\n",
       "  th, td {\n",
       "    padding: 5px;\n",
       "  }\n",
       "  th {\n",
       "    text-align: left;\n",
       "  }\n",
       "</style><div class='table-result-container'><table class='table-result'><thead style='background-color: white'><tr><th>relation_type</th><th>node</th><th>in_degree_centrality</th><th>out_degree_centrality</th><th>id</th><th>First Name</th><th>Last Name</th><th>Family</th></tr></thead><tbody><tr><td>Threatened</td><td>2</td><td>0.07692308</td><td>0.07692308</td><td>2</td><td>Maria</td><td>Rossi</td><td>Rossi Family</td></tr><tr><td>Threatened</td><td>1</td><td>0.07692308</td><td>0.07692308</td><td>1</td><td>Giuseppe</td><td>Rossi</td><td>Rossi Family</td></tr><tr><td>Threatened</td><td>4</td><td>0.07692308</td><td>0.07692308</td><td>4</td><td>Sofia</td><td>Rossi</td><td>Rossi Family</td></tr><tr><td>Threatened</td><td>3</td><td>0.07692308</td><td>0.07692308</td><td>3</td><td>Antonio</td><td>Rossi</td><td>Rossi Family</td></tr><tr><td>Threatened</td><td>10</td><td>0.07692308</td><td>0.07692308</td><td>10</td><td>Chiara</td><td>Ricci</td><td>Ricci Family</td></tr><tr><td>Threatened</td><td>9</td><td>0.07692308</td><td>0.07692308</td><td>9</td><td>Francesco</td><td>Ricci</td><td>Ricci Family</td></tr><tr><td>Threatened</td><td>12</td><td>0.07692308</td><td>0.07692308</td><td>12</td><td>Laura</td><td>Ricci</td><td>Ricci Family</td></tr><tr><td>Threatened</td><td>11</td><td>0.07692308</td><td>0.07692308</td><td>11</td><td>Roberto</td><td>Ricci</td><td>Ricci Family</td></tr><tr><td>Threatened</td><td>30</td><td>0.07692308</td><td>0.07692308</td><td>30</td><td>Paola</td><td>Rossi</td><td>Rossi Family</td></tr><tr><td>Threatened</td><td>29</td><td>0.07692308</td><td>0.07692308</td><td>29</td><td>Giorgio</td><td>Rossi</td><td>Rossi Family</td></tr><tr><td>Threatened</td><td>32</td><td>0.07692308</td><td>0.07692308</td><td>32</td><td>Alice</td><td>Rossi</td><td>Rossi Family</td></tr><tr><td>Threatened</td><td>31</td><td>0.07692308</td><td>0.07692308</td><td>31</td><td>Fabio</td><td>Rossi</td><td>Rossi Family</td></tr><tr><td>Threatened</td><td>13</td><td>0.07692308</td><td>0.07692308</td><td>13</td><td>Giovanni</td><td>Moretti</td><td>Moretti Family</td></tr><tr><td>Threatened</td><td>17</td><td>0.07692308</td><td>0.07692308</td><td>17</td><td>Carlo</td><td>Romano</td><td>Romano Family</td></tr><tr><td>Sent Money</td><td>1</td><td>0.25454545</td><td>0.25454545</td><td>1</td><td>Giuseppe</td><td>Rossi</td><td>Rossi Family</td></tr><tr><td>Sent Money</td><td>4</td><td>0.25454545</td><td>0.25454545</td><td>4</td><td>Sofia</td><td>Rossi</td><td>Rossi Family</td></tr><tr><td>Sent Money</td><td>2</td><td>0.23636363</td><td>0.23636363</td><td>2</td><td>Maria</td><td>Rossi</td><td>Rossi Family</td></tr><tr><td>Sent Money</td><td>3</td><td>0.23636363</td><td>0.23636363</td><td>3</td><td>Antonio</td><td>Rossi</td><td>Rossi Family</td></tr><tr><td>Sent Money</td><td>13</td><td>0.09090909</td><td>0.09090909</td><td>13</td><td>Giovanni</td><td>Moretti</td><td>Moretti Family</td></tr><tr><td>Sent Money</td><td>9</td><td>0.036363635</td><td>0.036363635</td><td>9</td><td>Francesco</td><td>Ricci</td><td>Ricci Family</td></tr><tr><td>Sent Money</td><td>10</td><td>0.036363635</td><td>0.036363635</td><td>10</td><td>Chiara</td><td>Ricci</td><td>Ricci Family</td></tr><tr><td>Sent Money</td><td>14</td><td>0.036363635</td><td>0.036363635</td><td>14</td><td>Anna</td><td>Moretti</td><td>Moretti Family</td></tr><tr><td>Sent Money</td><td>22</td><td>0.036363635</td><td>0.036363635</td><td>22</td><td>Teresa</td><td>Marini</td><td>Marini Family</td></tr><tr><td>Sent Money</td><td>23</td><td>0.036363635</td><td>0.036363635</td><td>23</td><td>Andrea</td><td>Marini</td><td>Marini Family</td></tr><tr><td>Sent Money</td><td>34</td><td>0.036363635</td><td>0.036363635</td><td>34</td><td>Valentina</td><td>Bianchi</td><td>Bianchi Family</td></tr><tr><td>Sent Money</td><td>35</td><td>0.036363635</td><td>0.036363635</td><td>35</td><td>Federica</td><td>Bianchi</td><td>Bianchi Family</td></tr><tr><td>Sent Money</td><td>42</td><td>0.036363635</td><td>0.036363635</td><td>42</td><td>Simona</td><td>Moretti</td><td>Moretti Family</td></tr><tr><td>Sent Money</td><td>43</td><td>0.036363635</td><td>0.036363635</td><td>43</td><td>Roberta</td><td>Moretti</td><td>Moretti Family</td></tr><tr><td>Sent Money</td><td>54</td><td>0.036363635</td><td>0.036363635</td><td>54</td><td>Sara</td><td>Conti</td><td>Conti Family</td></tr><tr><td>Sent Money</td><td>55</td><td>0.036363635</td><td>0.036363635</td><td>55</td><td>Lorenzo</td><td>Conti</td><td>Conti Family</td></tr><tr><td>Sent Money</td><td>21</td><td>0.036363635</td><td>0.036363635</td><td>21</td><td>Luigi</td><td>Marini</td><td>Marini Family</td></tr><tr><td>Sent Money</td><td>33</td><td>0.036363635</td><td>0.036363635</td><td>33</td><td>Andrea</td><td>Bianchi</td><td>Bianchi Family</td></tr><tr><td>Sent Money</td><td>45</td><td>0.036363635</td><td>0.036363635</td><td>45</td><td>Giulia</td><td>Romano</td><td>Romano Family</td></tr><tr><td>Sent Money</td><td>5</td><td>0.018181818</td><td>0.018181818</td><td>5</td><td>Luca</td><td>Bianchi</td><td>Bianchi Family</td></tr><tr><td>Sent Money</td><td>17</td><td>0.018181818</td><td>0.018181818</td><td>17</td><td>Carlo</td><td>Romano</td><td>Romano Family</td></tr><tr><td>Sent Money</td><td>25</td><td>0.018181818</td><td>0.018181818</td><td>25</td><td>Mario</td><td>Conti</td><td>Conti Family</td></tr><tr><td>Sent Money</td><td>29</td><td>0.018181818</td><td>0.018181818</td><td>29</td><td>Giorgio</td><td>Rossi</td><td>Rossi Family</td></tr><tr><td>Sent Money</td><td>37</td><td>0.018181818</td><td>0.018181818</td><td>37</td><td>Marco</td><td>Ricci</td><td>Ricci Family</td></tr><tr><td>Sent Money</td><td>41</td><td>0.018181818</td><td>0.018181818</td><td>41</td><td>Luca</td><td>Moretti</td><td>Moretti Family</td></tr><tr><td>Sent Money</td><td>49</td><td>0.018181818</td><td>0.018181818</td><td>49</td><td>Marco</td><td>Marini</td><td>Marini Family</td></tr><tr><td>Sent Money</td><td>53</td><td>0.018181818</td><td>0.018181818</td><td>53</td><td>Andrea</td><td>Conti</td><td>Conti Family</td></tr><tr><td>Sent Money</td><td>6</td><td>0.018181818</td><td>0.018181818</td><td>6</td><td>Giulia</td><td>Bianchi</td><td>Bianchi Family</td></tr><tr><td>Sent Money</td><td>18</td><td>0.018181818</td><td>0.018181818</td><td>18</td><td>Lucia</td><td>Romano</td><td>Romano Family</td></tr><tr><td>Sent Money</td><td>26</td><td>0.018181818</td><td>0.018181818</td><td>26</td><td>Elena</td><td>Conti</td><td>Conti Family</td></tr><tr><td>Sent Money</td><td>30</td><td>0.018181818</td><td>0.018181818</td><td>30</td><td>Paola</td><td>Rossi</td><td>Rossi Family</td></tr><tr><td>Sent Money</td><td>38</td><td>0.018181818</td><td>0.018181818</td><td>38</td><td>Elisa</td><td>Ricci</td><td>Ricci Family</td></tr><tr><td>Sent Money</td><td>46</td><td>0.018181818</td><td>0.018181818</td><td>46</td><td>Stefano</td><td>Romano</td><td>Romano Family</td></tr><tr><td>Sent Money</td><td>50</td><td>0.018181818</td><td>0.018181818</td><td>50</td><td>Linda</td><td>Marini</td><td>Marini Family</td></tr><tr><td>Sent Money</td><td>7</td><td>0.018181818</td><td>0.018181818</td><td>7</td><td>Marco</td><td>Bianchi</td><td>Bianchi Family</td></tr><tr><td>Sent Money</td><td>11</td><td>0.018181818</td><td>0.018181818</td><td>11</td><td>Roberto</td><td>Ricci</td><td>Ricci Family</td></tr><tr><td>Sent Money</td><td>15</td><td>0.018181818</td><td>0.018181818</td><td>15</td><td>Matteo</td><td>Moretti</td><td>Moretti Family</td></tr><tr><td>Sent Money</td><td>19</td><td>0.018181818</td><td>0.018181818</td><td>19</td><td>Federico</td><td>Romano</td><td>Romano Family</td></tr><tr><td>Sent Money</td><td>27</td><td>0.018181818</td><td>0.018181818</td><td>27</td><td>Paolo</td><td>Conti</td><td>Conti Family</td></tr><tr><td>Sent Money</td><td>31</td><td>0.018181818</td><td>0.018181818</td><td>31</td><td>Fabio</td><td>Rossi</td><td>Rossi Family</td></tr><tr><td>Sent Money</td><td>39</td><td>0.018181818</td><td>0.018181818</td><td>39</td><td>Giorgio</td><td>Ricci</td><td>Ricci Family</td></tr><tr><td>Sent Money</td><td>47</td><td>0.018181818</td><td>0.018181818</td><td>47</td><td>Elisa</td><td>Romano</td><td>Romano Family</td></tr><tr><td>Sent Money</td><td>51</td><td>0.018181818</td><td>0.018181818</td><td>51</td><td>Giulia</td><td>Marini</td><td>Marini Family</td></tr><tr><td>Sent Money</td><td>8</td><td>0.018181818</td><td>0.018181818</td><td>8</td><td>Alessia</td><td>Bianchi</td><td>Bianchi Family</td></tr><tr><td>Sent Money</td><td>12</td><td>0.018181818</td><td>0.018181818</td><td>12</td><td>Laura</td><td>Ricci</td><td>Ricci Family</td></tr><tr><td>Sent Money</td><td>16</td><td>0.018181818</td><td>0.018181818</td><td>16</td><td>Elena</td><td>Moretti</td><td>Moretti Family</td></tr><tr><td>Sent Money</td><td>20</td><td>0.018181818</td><td>0.018181818</td><td>20</td><td>Martina</td><td>Romano</td><td>Romano Family</td></tr><tr><td>Sent Money</td><td>24</td><td>0.018181818</td><td>0.018181818</td><td>24</td><td>Francesca</td><td>Marini</td><td>Marini Family</td></tr><tr><td>Sent Money</td><td>28</td><td>0.018181818</td><td>0.018181818</td><td>28</td><td>Giuliana</td><td>Conti</td><td>Conti Family</td></tr><tr><td>Sent Money</td><td>32</td><td>0.018181818</td><td>0.018181818</td><td>32</td><td>Alice</td><td>Rossi</td><td>Rossi Family</td></tr><tr><td>Sent Money</td><td>36</td><td>0.018181818</td><td>0.018181818</td><td>36</td><td>Lorenzo</td><td>Bianchi</td><td>Bianchi Family</td></tr><tr><td>Sent Money</td><td>40</td><td>0.018181818</td><td>0.018181818</td><td>40</td><td>Anna</td><td>Ricci</td><td>Ricci Family</td></tr><tr><td>Sent Money</td><td>44</td><td>0.018181818</td><td>0.018181818</td><td>44</td><td>Alessandro</td><td>Moretti</td><td>Moretti Family</td></tr><tr><td>Sent Money</td><td>48</td><td>0.018181818</td><td>0.018181818</td><td>48</td><td>Mattia</td><td>Romano</td><td>Romano Family</td></tr><tr><td>Sent Money</td><td>52</td><td>0.018181818</td><td>0.018181818</td><td>52</td><td>Federico</td><td>Marini</td><td>Marini Family</td></tr><tr><td>Sent Money</td><td>56</td><td>0.018181818</td><td>0.018181818</td><td>56</td><td>Francesca</td><td>Conti</td><td>Conti Family</td></tr><tr><td>Called</td><td>8</td><td>0.25925925</td><td>0.25925925</td><td>8</td><td>Alessia</td><td>Bianchi</td><td>Bianchi Family</td></tr><tr><td>Called</td><td>6</td><td>0.24074075</td><td>0.24074075</td><td>6</td><td>Giulia</td><td>Bianchi</td><td>Bianchi Family</td></tr><tr><td>Called</td><td>7</td><td>0.24074075</td><td>0.24074075</td><td>7</td><td>Marco</td><td>Bianchi</td><td>Bianchi Family</td></tr><tr><td>Called</td><td>5</td><td>0.22222222</td><td>0.22222222</td><td>5</td><td>Luca</td><td>Bianchi</td><td>Bianchi Family</td></tr><tr><td>Called</td><td>13</td><td>0.074074075</td><td>0.074074075</td><td>13</td><td>Giovanni</td><td>Moretti</td><td>Moretti Family</td></tr><tr><td>Called</td><td>15</td><td>0.055555556</td><td>0.055555556</td><td>15</td><td>Matteo</td><td>Moretti</td><td>Moretti Family</td></tr><tr><td>Called</td><td>28</td><td>0.055555556</td><td>0.055555556</td><td>28</td><td>Giuliana</td><td>Conti</td><td>Conti Family</td></tr><tr><td>Called</td><td>27</td><td>0.055555556</td><td>0.055555556</td><td>27</td><td>Paolo</td><td>Conti</td><td>Conti Family</td></tr><tr><td>Called</td><td>29</td><td>0.055555556</td><td>0.055555556</td><td>29</td><td>Giorgio</td><td>Rossi</td><td>Rossi Family</td></tr><tr><td>Called</td><td>40</td><td>0.055555556</td><td>0.055555556</td><td>40</td><td>Anna</td><td>Ricci</td><td>Ricci Family</td></tr><tr><td>Called</td><td>3</td><td>0.037037037</td><td>0.037037037</td><td>3</td><td>Antonio</td><td>Rossi</td><td>Rossi Family</td></tr><tr><td>Called</td><td>9</td><td>0.037037037</td><td>0.037037037</td><td>9</td><td>Francesco</td><td>Ricci</td><td>Ricci Family</td></tr><tr><td>Called</td><td>11</td><td>0.037037037</td><td>0.037037037</td><td>11</td><td>Roberto</td><td>Ricci</td><td>Ricci Family</td></tr><tr><td>Called</td><td>14</td><td>0.037037037</td><td>0.037037037</td><td>14</td><td>Anna</td><td>Moretti</td><td>Moretti Family</td></tr><tr><td>Called</td><td>16</td><td>0.037037037</td><td>0.037037037</td><td>16</td><td>Elena</td><td>Moretti</td><td>Moretti Family</td></tr><tr><td>Called</td><td>21</td><td>0.037037037</td><td>0.037037037</td><td>21</td><td>Luigi</td><td>Marini</td><td>Marini Family</td></tr><tr><td>Called</td><td>22</td><td>0.037037037</td><td>0.037037037</td><td>22</td><td>Teresa</td><td>Marini</td><td>Marini Family</td></tr><tr><td>Called</td><td>25</td><td>0.037037037</td><td>0.037037037</td><td>25</td><td>Mario</td><td>Conti</td><td>Conti Family</td></tr><tr><td>Called</td><td>26</td><td>0.037037037</td><td>0.037037037</td><td>26</td><td>Elena</td><td>Conti</td><td>Conti Family</td></tr><tr><td>Called</td><td>31</td><td>0.037037037</td><td>0.037037037</td><td>31</td><td>Fabio</td><td>Rossi</td><td>Rossi Family</td></tr><tr><td>Called</td><td>37</td><td>0.037037037</td><td>0.037037037</td><td>37</td><td>Marco</td><td>Ricci</td><td>Ricci Family</td></tr><tr><td>Called</td><td>38</td><td>0.037037037</td><td>0.037037037</td><td>38</td><td>Elisa</td><td>Ricci</td><td>Ricci Family</td></tr><tr><td>Called</td><td>45</td><td>0.037037037</td><td>0.037037037</td><td>45</td><td>Giulia</td><td>Romano</td><td>Romano Family</td></tr><tr><td>Called</td><td>48</td><td>0.037037037</td><td>0.037037037</td><td>48</td><td>Mattia</td><td>Romano</td><td>Romano Family</td></tr><tr><td>Called</td><td>50</td><td>0.037037037</td><td>0.037037037</td><td>50</td><td>Linda</td><td>Marini</td><td>Marini Family</td></tr><tr><td>Called</td><td>51</td><td>0.037037037</td><td>0.037037037</td><td>51</td><td>Giulia</td><td>Marini</td><td>Marini Family</td></tr><tr><td>Called</td><td>41</td><td>0.037037037</td><td>0.037037037</td><td>41</td><td>Luca</td><td>Moretti</td><td>Moretti Family</td></tr><tr><td>Called</td><td>53</td><td>0.037037037</td><td>0.037037037</td><td>53</td><td>Andrea</td><td>Conti</td><td>Conti Family</td></tr><tr><td>Called</td><td>1</td><td>0.018518519</td><td>0.018518519</td><td>1</td><td>Giuseppe</td><td>Rossi</td><td>Rossi Family</td></tr><tr><td>Called</td><td>2</td><td>0.018518519</td><td>0.018518519</td><td>2</td><td>Maria</td><td>Rossi</td><td>Rossi Family</td></tr><tr><td>Called</td><td>17</td><td>0.018518519</td><td>0.018518519</td><td>17</td><td>Carlo</td><td>Romano</td><td>Romano Family</td></tr><tr><td>Called</td><td>33</td><td>0.018518519</td><td>0.018518519</td><td>33</td><td>Andrea</td><td>Bianchi</td><td>Bianchi Family</td></tr><tr><td>Called</td><td>49</td><td>0.018518519</td><td>0.018518519</td><td>49</td><td>Marco</td><td>Marini</td><td>Marini Family</td></tr><tr><td>Called</td><td>10</td><td>0.018518519</td><td>0.018518519</td><td>10</td><td>Chiara</td><td>Ricci</td><td>Ricci Family</td></tr><tr><td>Called</td><td>18</td><td>0.018518519</td><td>0.018518519</td><td>18</td><td>Lucia</td><td>Romano</td><td>Romano Family</td></tr><tr><td>Called</td><td>30</td><td>0.018518519</td><td>0.018518519</td><td>30</td><td>Paola</td><td>Rossi</td><td>Rossi Family</td></tr><tr><td>Called</td><td>34</td><td>0.018518519</td><td>0.018518519</td><td>34</td><td>Valentina</td><td>Bianchi</td><td>Bianchi Family</td></tr><tr><td>Called</td><td>42</td><td>0.018518519</td><td>0.018518519</td><td>42</td><td>Simona</td><td>Moretti</td><td>Moretti Family</td></tr><tr><td>Called</td><td>46</td><td>0.018518519</td><td>0.018518519</td><td>46</td><td>Stefano</td><td>Romano</td><td>Romano Family</td></tr><tr><td>Called</td><td>54</td><td>0.018518519</td><td>0.018518519</td><td>54</td><td>Sara</td><td>Conti</td><td>Conti Family</td></tr><tr><td>Called</td><td>19</td><td>0.018518519</td><td>0.018518519</td><td>19</td><td>Federico</td><td>Romano</td><td>Romano Family</td></tr><tr><td>Called</td><td>23</td><td>0.018518519</td><td>0.018518519</td><td>23</td><td>Andrea</td><td>Marini</td><td>Marini Family</td></tr><tr><td>Called</td><td>35</td><td>0.018518519</td><td>0.018518519</td><td>35</td><td>Federica</td><td>Bianchi</td><td>Bianchi Family</td></tr><tr><td>Called</td><td>39</td><td>0.018518519</td><td>0.018518519</td><td>39</td><td>Giorgio</td><td>Ricci</td><td>Ricci Family</td></tr><tr><td>Called</td><td>43</td><td>0.018518519</td><td>0.018518519</td><td>43</td><td>Roberta</td><td>Moretti</td><td>Moretti Family</td></tr><tr><td>Called</td><td>47</td><td>0.018518519</td><td>0.018518519</td><td>47</td><td>Elisa</td><td>Romano</td><td>Romano Family</td></tr><tr><td>Called</td><td>55</td><td>0.018518519</td><td>0.018518519</td><td>55</td><td>Lorenzo</td><td>Conti</td><td>Conti Family</td></tr><tr><td>Called</td><td>12</td><td>0.018518519</td><td>0.018518519</td><td>12</td><td>Laura</td><td>Ricci</td><td>Ricci Family</td></tr><tr><td>Called</td><td>20</td><td>0.018518519</td><td>0.018518519</td><td>20</td><td>Martina</td><td>Romano</td><td>Romano Family</td></tr><tr><td>Called</td><td>24</td><td>0.018518519</td><td>0.018518519</td><td>24</td><td>Francesca</td><td>Marini</td><td>Marini Family</td></tr><tr><td>Called</td><td>32</td><td>0.018518519</td><td>0.018518519</td><td>32</td><td>Alice</td><td>Rossi</td><td>Rossi Family</td></tr><tr><td>Called</td><td>36</td><td>0.018518519</td><td>0.018518519</td><td>36</td><td>Lorenzo</td><td>Bianchi</td><td>Bianchi Family</td></tr><tr><td>Called</td><td>44</td><td>0.018518519</td><td>0.018518519</td><td>44</td><td>Alessandro</td><td>Moretti</td><td>Moretti Family</td></tr><tr><td>Called</td><td>52</td><td>0.018518519</td><td>0.018518519</td><td>52</td><td>Federico</td><td>Marini</td><td>Marini Family</td></tr><tr><td>Called</td><td>56</td><td>0.018518519</td><td>0.018518519</td><td>56</td><td>Francesca</td><td>Conti</td><td>Conti Family</td></tr><tr><td>Asked for Meeting With</td><td>12</td><td>0.23636363</td><td>0.23636363</td><td>12</td><td>Laura</td><td>Ricci</td><td>Ricci Family</td></tr><tr><td>Asked for Meeting With</td><td>9</td><td>0.21818182</td><td>0.21818182</td><td>9</td><td>Francesco</td><td>Ricci</td><td>Ricci Family</td></tr><tr><td>Asked for Meeting With</td><td>11</td><td>0.21818182</td><td>0.21818182</td><td>11</td><td>Roberto</td><td>Ricci</td><td>Ricci Family</td></tr><tr><td>Asked for Meeting With</td><td>10</td><td>0.2</td><td>0.2</td><td>10</td><td>Chiara</td><td>Ricci</td><td>Ricci Family</td></tr><tr><td>Asked for Meeting With</td><td>13</td><td>0.12727273</td><td>0.12727273</td><td>13</td><td>Giovanni</td><td>Moretti</td><td>Moretti Family</td></tr><tr><td>Asked for Meeting With</td><td>37</td><td>0.09090909</td><td>0.09090909</td><td>37</td><td>Marco</td><td>Ricci</td><td>Ricci Family</td></tr><tr><td>Asked for Meeting With</td><td>49</td><td>0.09090909</td><td>0.09090909</td><td>49</td><td>Marco</td><td>Marini</td><td>Marini Family</td></tr><tr><td>Asked for Meeting With</td><td>21</td><td>0.07272727</td><td>0.07272727</td><td>21</td><td>Luigi</td><td>Marini</td><td>Marini Family</td></tr><tr><td>Asked for Meeting With</td><td>22</td><td>0.07272727</td><td>0.07272727</td><td>22</td><td>Teresa</td><td>Marini</td><td>Marini Family</td></tr><tr><td>Asked for Meeting With</td><td>25</td><td>0.07272727</td><td>0.07272727</td><td>25</td><td>Mario</td><td>Conti</td><td>Conti Family</td></tr><tr><td>Asked for Meeting With</td><td>27</td><td>0.07272727</td><td>0.07272727</td><td>27</td><td>Paolo</td><td>Conti</td><td>Conti Family</td></tr><tr><td>Asked for Meeting With</td><td>33</td><td>0.07272727</td><td>0.07272727</td><td>33</td><td>Andrea</td><td>Bianchi</td><td>Bianchi Family</td></tr><tr><td>Asked for Meeting With</td><td>35</td><td>0.07272727</td><td>0.07272727</td><td>35</td><td>Federica</td><td>Bianchi</td><td>Bianchi Family</td></tr><tr><td>Asked for Meeting With</td><td>39</td><td>0.07272727</td><td>0.07272727</td><td>39</td><td>Giorgio</td><td>Ricci</td><td>Ricci Family</td></tr><tr><td>Asked for Meeting With</td><td>41</td><td>0.07272727</td><td>0.07272727</td><td>41</td><td>Luca</td><td>Moretti</td><td>Moretti Family</td></tr><tr><td>Asked for Meeting With</td><td>42</td><td>0.07272727</td><td>0.07272727</td><td>42</td><td>Simona</td><td>Moretti</td><td>Moretti Family</td></tr><tr><td>Asked for Meeting With</td><td>43</td><td>0.07272727</td><td>0.07272727</td><td>43</td><td>Roberta</td><td>Moretti</td><td>Moretti Family</td></tr><tr><td>Asked for Meeting With</td><td>44</td><td>0.07272727</td><td>0.07272727</td><td>44</td><td>Alessandro</td><td>Moretti</td><td>Moretti Family</td></tr><tr><td>Asked for Meeting With</td><td>46</td><td>0.07272727</td><td>0.07272727</td><td>46</td><td>Stefano</td><td>Romano</td><td>Romano Family</td></tr><tr><td>Asked for Meeting With</td><td>47</td><td>0.07272727</td><td>0.07272727</td><td>47</td><td>Elisa</td><td>Romano</td><td>Romano Family</td></tr><tr><td>Asked for Meeting With</td><td>50</td><td>0.07272727</td><td>0.07272727</td><td>50</td><td>Linda</td><td>Marini</td><td>Marini Family</td></tr><tr><td>Asked for Meeting With</td><td>51</td><td>0.07272727</td><td>0.07272727</td><td>51</td><td>Giulia</td><td>Marini</td><td>Marini Family</td></tr><tr><td>Asked for Meeting With</td><td>52</td><td>0.07272727</td><td>0.07272727</td><td>52</td><td>Federico</td><td>Marini</td><td>Marini Family</td></tr><tr><td>Asked for Meeting With</td><td>53</td><td>0.07272727</td><td>0.07272727</td><td>53</td><td>Andrea</td><td>Conti</td><td>Conti Family</td></tr><tr><td>Asked for Meeting With</td><td>55</td><td>0.07272727</td><td>0.07272727</td><td>55</td><td>Lorenzo</td><td>Conti</td><td>Conti Family</td></tr><tr><td>Asked for Meeting With</td><td>15</td><td>0.054545455</td><td>0.054545455</td><td>15</td><td>Matteo</td><td>Moretti</td><td>Moretti Family</td></tr><tr><td>Asked for Meeting With</td><td>14</td><td>0.054545455</td><td>0.054545455</td><td>14</td><td>Anna</td><td>Moretti</td><td>Moretti Family</td></tr><tr><td>Asked for Meeting With</td><td>17</td><td>0.054545455</td><td>0.054545455</td><td>17</td><td>Carlo</td><td>Romano</td><td>Romano Family</td></tr><tr><td>Asked for Meeting With</td><td>18</td><td>0.054545455</td><td>0.054545455</td><td>18</td><td>Lucia</td><td>Romano</td><td>Romano Family</td></tr><tr><td>Asked for Meeting With</td><td>19</td><td>0.054545455</td><td>0.054545455</td><td>19</td><td>Federico</td><td>Romano</td><td>Romano Family</td></tr><tr><td>Asked for Meeting With</td><td>20</td><td>0.054545455</td><td>0.054545455</td><td>20</td><td>Martina</td><td>Romano</td><td>Romano Family</td></tr><tr><td>Asked for Meeting With</td><td>23</td><td>0.054545455</td><td>0.054545455</td><td>23</td><td>Andrea</td><td>Marini</td><td>Marini Family</td></tr><tr><td>Asked for Meeting With</td><td>24</td><td>0.054545455</td><td>0.054545455</td><td>24</td><td>Francesca</td><td>Marini</td><td>Marini Family</td></tr><tr><td>Asked for Meeting With</td><td>26</td><td>0.054545455</td><td>0.054545455</td><td>26</td><td>Elena</td><td>Conti</td><td>Conti Family</td></tr><tr><td>Asked for Meeting With</td><td>29</td><td>0.054545455</td><td>0.054545455</td><td>29</td><td>Giorgio</td><td>Rossi</td><td>Rossi Family</td></tr><tr><td>Asked for Meeting With</td><td>32</td><td>0.054545455</td><td>0.054545455</td><td>32</td><td>Alice</td><td>Rossi</td><td>Rossi Family</td></tr><tr><td>Asked for Meeting With</td><td>34</td><td>0.054545455</td><td>0.054545455</td><td>34</td><td>Valentina</td><td>Bianchi</td><td>Bianchi Family</td></tr><tr><td>Asked for Meeting With</td><td>36</td><td>0.054545455</td><td>0.054545455</td><td>36</td><td>Lorenzo</td><td>Bianchi</td><td>Bianchi Family</td></tr><tr><td>Asked for Meeting With</td><td>38</td><td>0.054545455</td><td>0.054545455</td><td>38</td><td>Elisa</td><td>Ricci</td><td>Ricci Family</td></tr><tr><td>Asked for Meeting With</td><td>40</td><td>0.054545455</td><td>0.054545455</td><td>40</td><td>Anna</td><td>Ricci</td><td>Ricci Family</td></tr><tr><td>Asked for Meeting With</td><td>45</td><td>0.054545455</td><td>0.054545455</td><td>45</td><td>Giulia</td><td>Romano</td><td>Romano Family</td></tr><tr><td>Asked for Meeting With</td><td>48</td><td>0.054545455</td><td>0.054545455</td><td>48</td><td>Mattia</td><td>Romano</td><td>Romano Family</td></tr><tr><td>Asked for Meeting With</td><td>54</td><td>0.054545455</td><td>0.054545455</td><td>54</td><td>Sara</td><td>Conti</td><td>Conti Family</td></tr><tr><td>Asked for Meeting With</td><td>56</td><td>0.054545455</td><td>0.054545455</td><td>56</td><td>Francesca</td><td>Conti</td><td>Conti Family</td></tr><tr><td>Asked for Meeting With</td><td>1</td><td>0.036363635</td><td>0.036363635</td><td>1</td><td>Giuseppe</td><td>Rossi</td><td>Rossi Family</td></tr><tr><td>Asked for Meeting With</td><td>4</td><td>0.036363635</td><td>0.036363635</td><td>4</td><td>Sofia</td><td>Rossi</td><td>Rossi Family</td></tr><tr><td>Asked for Meeting With</td><td>5</td><td>0.036363635</td><td>0.036363635</td><td>5</td><td>Luca</td><td>Bianchi</td><td>Bianchi Family</td></tr><tr><td>Asked for Meeting With</td><td>7</td><td>0.036363635</td><td>0.036363635</td><td>7</td><td>Marco</td><td>Bianchi</td><td>Bianchi Family</td></tr><tr><td>Asked for Meeting With</td><td>16</td><td>0.036363635</td><td>0.036363635</td><td>16</td><td>Elena</td><td>Moretti</td><td>Moretti Family</td></tr><tr><td>Asked for Meeting With</td><td>28</td><td>0.036363635</td><td>0.036363635</td><td>28</td><td>Giuliana</td><td>Conti</td><td>Conti Family</td></tr><tr><td>Asked for Meeting With</td><td>30</td><td>0.036363635</td><td>0.036363635</td><td>30</td><td>Paola</td><td>Rossi</td><td>Rossi Family</td></tr><tr><td>Asked for Meeting With</td><td>31</td><td>0.036363635</td><td>0.036363635</td><td>31</td><td>Fabio</td><td>Rossi</td><td>Rossi Family</td></tr><tr><td>Asked for Meeting With</td><td>2</td><td>0.018181818</td><td>0.018181818</td><td>2</td><td>Maria</td><td>Rossi</td><td>Rossi Family</td></tr><tr><td>Asked for Meeting With</td><td>3</td><td>0.018181818</td><td>0.018181818</td><td>3</td><td>Antonio</td><td>Rossi</td><td>Rossi Family</td></tr><tr><td>Asked for Meeting With</td><td>6</td><td>0.018181818</td><td>0.018181818</td><td>6</td><td>Giulia</td><td>Bianchi</td><td>Bianchi Family</td></tr><tr><td>Asked for Meeting With</td><td>8</td><td>0.018181818</td><td>0.018181818</td><td>8</td><td>Alessia</td><td>Bianchi</td><td>Bianchi Family</td></tr></tbody></table></div>"
      ]
     },
     "metadata": {
      "application/vnd.databricks.v1+output": {
       "addedWidgets": {},
       "aggData": [],
       "aggError": "",
       "aggOverflow": false,
       "aggSchema": [],
       "aggSeriesLimitReached": false,
       "aggType": "",
       "arguments": {},
       "columnCustomDisplayInfos": {},
       "data": [
        [
         "Threatened",
         "2",
         0.07692308,
         0.07692308,
         "2",
         "Maria",
         "Rossi",
         "Rossi Family"
        ],
        [
         "Threatened",
         "1",
         0.07692308,
         0.07692308,
         "1",
         "Giuseppe",
         "Rossi",
         "Rossi Family"
        ],
        [
         "Threatened",
         "4",
         0.07692308,
         0.07692308,
         "4",
         "Sofia",
         "Rossi",
         "Rossi Family"
        ],
        [
         "Threatened",
         "3",
         0.07692308,
         0.07692308,
         "3",
         "Antonio",
         "Rossi",
         "Rossi Family"
        ],
        [
         "Threatened",
         "10",
         0.07692308,
         0.07692308,
         "10",
         "Chiara",
         "Ricci",
         "Ricci Family"
        ],
        [
         "Threatened",
         "9",
         0.07692308,
         0.07692308,
         "9",
         "Francesco",
         "Ricci",
         "Ricci Family"
        ],
        [
         "Threatened",
         "12",
         0.07692308,
         0.07692308,
         "12",
         "Laura",
         "Ricci",
         "Ricci Family"
        ],
        [
         "Threatened",
         "11",
         0.07692308,
         0.07692308,
         "11",
         "Roberto",
         "Ricci",
         "Ricci Family"
        ],
        [
         "Threatened",
         "30",
         0.07692308,
         0.07692308,
         "30",
         "Paola",
         "Rossi",
         "Rossi Family"
        ],
        [
         "Threatened",
         "29",
         0.07692308,
         0.07692308,
         "29",
         "Giorgio",
         "Rossi",
         "Rossi Family"
        ],
        [
         "Threatened",
         "32",
         0.07692308,
         0.07692308,
         "32",
         "Alice",
         "Rossi",
         "Rossi Family"
        ],
        [
         "Threatened",
         "31",
         0.07692308,
         0.07692308,
         "31",
         "Fabio",
         "Rossi",
         "Rossi Family"
        ],
        [
         "Threatened",
         "13",
         0.07692308,
         0.07692308,
         "13",
         "Giovanni",
         "Moretti",
         "Moretti Family"
        ],
        [
         "Threatened",
         "17",
         0.07692308,
         0.07692308,
         "17",
         "Carlo",
         "Romano",
         "Romano Family"
        ],
        [
         "Sent Money",
         "1",
         0.25454545,
         0.25454545,
         "1",
         "Giuseppe",
         "Rossi",
         "Rossi Family"
        ],
        [
         "Sent Money",
         "4",
         0.25454545,
         0.25454545,
         "4",
         "Sofia",
         "Rossi",
         "Rossi Family"
        ],
        [
         "Sent Money",
         "2",
         0.23636363,
         0.23636363,
         "2",
         "Maria",
         "Rossi",
         "Rossi Family"
        ],
        [
         "Sent Money",
         "3",
         0.23636363,
         0.23636363,
         "3",
         "Antonio",
         "Rossi",
         "Rossi Family"
        ],
        [
         "Sent Money",
         "13",
         0.09090909,
         0.09090909,
         "13",
         "Giovanni",
         "Moretti",
         "Moretti Family"
        ],
        [
         "Sent Money",
         "9",
         0.036363635,
         0.036363635,
         "9",
         "Francesco",
         "Ricci",
         "Ricci Family"
        ],
        [
         "Sent Money",
         "10",
         0.036363635,
         0.036363635,
         "10",
         "Chiara",
         "Ricci",
         "Ricci Family"
        ],
        [
         "Sent Money",
         "14",
         0.036363635,
         0.036363635,
         "14",
         "Anna",
         "Moretti",
         "Moretti Family"
        ],
        [
         "Sent Money",
         "22",
         0.036363635,
         0.036363635,
         "22",
         "Teresa",
         "Marini",
         "Marini Family"
        ],
        [
         "Sent Money",
         "23",
         0.036363635,
         0.036363635,
         "23",
         "Andrea",
         "Marini",
         "Marini Family"
        ],
        [
         "Sent Money",
         "34",
         0.036363635,
         0.036363635,
         "34",
         "Valentina",
         "Bianchi",
         "Bianchi Family"
        ],
        [
         "Sent Money",
         "35",
         0.036363635,
         0.036363635,
         "35",
         "Federica",
         "Bianchi",
         "Bianchi Family"
        ],
        [
         "Sent Money",
         "42",
         0.036363635,
         0.036363635,
         "42",
         "Simona",
         "Moretti",
         "Moretti Family"
        ],
        [
         "Sent Money",
         "43",
         0.036363635,
         0.036363635,
         "43",
         "Roberta",
         "Moretti",
         "Moretti Family"
        ],
        [
         "Sent Money",
         "54",
         0.036363635,
         0.036363635,
         "54",
         "Sara",
         "Conti",
         "Conti Family"
        ],
        [
         "Sent Money",
         "55",
         0.036363635,
         0.036363635,
         "55",
         "Lorenzo",
         "Conti",
         "Conti Family"
        ],
        [
         "Sent Money",
         "21",
         0.036363635,
         0.036363635,
         "21",
         "Luigi",
         "Marini",
         "Marini Family"
        ],
        [
         "Sent Money",
         "33",
         0.036363635,
         0.036363635,
         "33",
         "Andrea",
         "Bianchi",
         "Bianchi Family"
        ],
        [
         "Sent Money",
         "45",
         0.036363635,
         0.036363635,
         "45",
         "Giulia",
         "Romano",
         "Romano Family"
        ],
        [
         "Sent Money",
         "5",
         0.018181818,
         0.018181818,
         "5",
         "Luca",
         "Bianchi",
         "Bianchi Family"
        ],
        [
         "Sent Money",
         "17",
         0.018181818,
         0.018181818,
         "17",
         "Carlo",
         "Romano",
         "Romano Family"
        ],
        [
         "Sent Money",
         "25",
         0.018181818,
         0.018181818,
         "25",
         "Mario",
         "Conti",
         "Conti Family"
        ],
        [
         "Sent Money",
         "29",
         0.018181818,
         0.018181818,
         "29",
         "Giorgio",
         "Rossi",
         "Rossi Family"
        ],
        [
         "Sent Money",
         "37",
         0.018181818,
         0.018181818,
         "37",
         "Marco",
         "Ricci",
         "Ricci Family"
        ],
        [
         "Sent Money",
         "41",
         0.018181818,
         0.018181818,
         "41",
         "Luca",
         "Moretti",
         "Moretti Family"
        ],
        [
         "Sent Money",
         "49",
         0.018181818,
         0.018181818,
         "49",
         "Marco",
         "Marini",
         "Marini Family"
        ],
        [
         "Sent Money",
         "53",
         0.018181818,
         0.018181818,
         "53",
         "Andrea",
         "Conti",
         "Conti Family"
        ],
        [
         "Sent Money",
         "6",
         0.018181818,
         0.018181818,
         "6",
         "Giulia",
         "Bianchi",
         "Bianchi Family"
        ],
        [
         "Sent Money",
         "18",
         0.018181818,
         0.018181818,
         "18",
         "Lucia",
         "Romano",
         "Romano Family"
        ],
        [
         "Sent Money",
         "26",
         0.018181818,
         0.018181818,
         "26",
         "Elena",
         "Conti",
         "Conti Family"
        ],
        [
         "Sent Money",
         "30",
         0.018181818,
         0.018181818,
         "30",
         "Paola",
         "Rossi",
         "Rossi Family"
        ],
        [
         "Sent Money",
         "38",
         0.018181818,
         0.018181818,
         "38",
         "Elisa",
         "Ricci",
         "Ricci Family"
        ],
        [
         "Sent Money",
         "46",
         0.018181818,
         0.018181818,
         "46",
         "Stefano",
         "Romano",
         "Romano Family"
        ],
        [
         "Sent Money",
         "50",
         0.018181818,
         0.018181818,
         "50",
         "Linda",
         "Marini",
         "Marini Family"
        ],
        [
         "Sent Money",
         "7",
         0.018181818,
         0.018181818,
         "7",
         "Marco",
         "Bianchi",
         "Bianchi Family"
        ],
        [
         "Sent Money",
         "11",
         0.018181818,
         0.018181818,
         "11",
         "Roberto",
         "Ricci",
         "Ricci Family"
        ],
        [
         "Sent Money",
         "15",
         0.018181818,
         0.018181818,
         "15",
         "Matteo",
         "Moretti",
         "Moretti Family"
        ],
        [
         "Sent Money",
         "19",
         0.018181818,
         0.018181818,
         "19",
         "Federico",
         "Romano",
         "Romano Family"
        ],
        [
         "Sent Money",
         "27",
         0.018181818,
         0.018181818,
         "27",
         "Paolo",
         "Conti",
         "Conti Family"
        ],
        [
         "Sent Money",
         "31",
         0.018181818,
         0.018181818,
         "31",
         "Fabio",
         "Rossi",
         "Rossi Family"
        ],
        [
         "Sent Money",
         "39",
         0.018181818,
         0.018181818,
         "39",
         "Giorgio",
         "Ricci",
         "Ricci Family"
        ],
        [
         "Sent Money",
         "47",
         0.018181818,
         0.018181818,
         "47",
         "Elisa",
         "Romano",
         "Romano Family"
        ],
        [
         "Sent Money",
         "51",
         0.018181818,
         0.018181818,
         "51",
         "Giulia",
         "Marini",
         "Marini Family"
        ],
        [
         "Sent Money",
         "8",
         0.018181818,
         0.018181818,
         "8",
         "Alessia",
         "Bianchi",
         "Bianchi Family"
        ],
        [
         "Sent Money",
         "12",
         0.018181818,
         0.018181818,
         "12",
         "Laura",
         "Ricci",
         "Ricci Family"
        ],
        [
         "Sent Money",
         "16",
         0.018181818,
         0.018181818,
         "16",
         "Elena",
         "Moretti",
         "Moretti Family"
        ],
        [
         "Sent Money",
         "20",
         0.018181818,
         0.018181818,
         "20",
         "Martina",
         "Romano",
         "Romano Family"
        ],
        [
         "Sent Money",
         "24",
         0.018181818,
         0.018181818,
         "24",
         "Francesca",
         "Marini",
         "Marini Family"
        ],
        [
         "Sent Money",
         "28",
         0.018181818,
         0.018181818,
         "28",
         "Giuliana",
         "Conti",
         "Conti Family"
        ],
        [
         "Sent Money",
         "32",
         0.018181818,
         0.018181818,
         "32",
         "Alice",
         "Rossi",
         "Rossi Family"
        ],
        [
         "Sent Money",
         "36",
         0.018181818,
         0.018181818,
         "36",
         "Lorenzo",
         "Bianchi",
         "Bianchi Family"
        ],
        [
         "Sent Money",
         "40",
         0.018181818,
         0.018181818,
         "40",
         "Anna",
         "Ricci",
         "Ricci Family"
        ],
        [
         "Sent Money",
         "44",
         0.018181818,
         0.018181818,
         "44",
         "Alessandro",
         "Moretti",
         "Moretti Family"
        ],
        [
         "Sent Money",
         "48",
         0.018181818,
         0.018181818,
         "48",
         "Mattia",
         "Romano",
         "Romano Family"
        ],
        [
         "Sent Money",
         "52",
         0.018181818,
         0.018181818,
         "52",
         "Federico",
         "Marini",
         "Marini Family"
        ],
        [
         "Sent Money",
         "56",
         0.018181818,
         0.018181818,
         "56",
         "Francesca",
         "Conti",
         "Conti Family"
        ],
        [
         "Called",
         "8",
         0.25925925,
         0.25925925,
         "8",
         "Alessia",
         "Bianchi",
         "Bianchi Family"
        ],
        [
         "Called",
         "6",
         0.24074075,
         0.24074075,
         "6",
         "Giulia",
         "Bianchi",
         "Bianchi Family"
        ],
        [
         "Called",
         "7",
         0.24074075,
         0.24074075,
         "7",
         "Marco",
         "Bianchi",
         "Bianchi Family"
        ],
        [
         "Called",
         "5",
         0.22222222,
         0.22222222,
         "5",
         "Luca",
         "Bianchi",
         "Bianchi Family"
        ],
        [
         "Called",
         "13",
         0.074074075,
         0.074074075,
         "13",
         "Giovanni",
         "Moretti",
         "Moretti Family"
        ],
        [
         "Called",
         "15",
         0.055555556,
         0.055555556,
         "15",
         "Matteo",
         "Moretti",
         "Moretti Family"
        ],
        [
         "Called",
         "28",
         0.055555556,
         0.055555556,
         "28",
         "Giuliana",
         "Conti",
         "Conti Family"
        ],
        [
         "Called",
         "27",
         0.055555556,
         0.055555556,
         "27",
         "Paolo",
         "Conti",
         "Conti Family"
        ],
        [
         "Called",
         "29",
         0.055555556,
         0.055555556,
         "29",
         "Giorgio",
         "Rossi",
         "Rossi Family"
        ],
        [
         "Called",
         "40",
         0.055555556,
         0.055555556,
         "40",
         "Anna",
         "Ricci",
         "Ricci Family"
        ],
        [
         "Called",
         "3",
         0.037037037,
         0.037037037,
         "3",
         "Antonio",
         "Rossi",
         "Rossi Family"
        ],
        [
         "Called",
         "9",
         0.037037037,
         0.037037037,
         "9",
         "Francesco",
         "Ricci",
         "Ricci Family"
        ],
        [
         "Called",
         "11",
         0.037037037,
         0.037037037,
         "11",
         "Roberto",
         "Ricci",
         "Ricci Family"
        ],
        [
         "Called",
         "14",
         0.037037037,
         0.037037037,
         "14",
         "Anna",
         "Moretti",
         "Moretti Family"
        ],
        [
         "Called",
         "16",
         0.037037037,
         0.037037037,
         "16",
         "Elena",
         "Moretti",
         "Moretti Family"
        ],
        [
         "Called",
         "21",
         0.037037037,
         0.037037037,
         "21",
         "Luigi",
         "Marini",
         "Marini Family"
        ],
        [
         "Called",
         "22",
         0.037037037,
         0.037037037,
         "22",
         "Teresa",
         "Marini",
         "Marini Family"
        ],
        [
         "Called",
         "25",
         0.037037037,
         0.037037037,
         "25",
         "Mario",
         "Conti",
         "Conti Family"
        ],
        [
         "Called",
         "26",
         0.037037037,
         0.037037037,
         "26",
         "Elena",
         "Conti",
         "Conti Family"
        ],
        [
         "Called",
         "31",
         0.037037037,
         0.037037037,
         "31",
         "Fabio",
         "Rossi",
         "Rossi Family"
        ],
        [
         "Called",
         "37",
         0.037037037,
         0.037037037,
         "37",
         "Marco",
         "Ricci",
         "Ricci Family"
        ],
        [
         "Called",
         "38",
         0.037037037,
         0.037037037,
         "38",
         "Elisa",
         "Ricci",
         "Ricci Family"
        ],
        [
         "Called",
         "45",
         0.037037037,
         0.037037037,
         "45",
         "Giulia",
         "Romano",
         "Romano Family"
        ],
        [
         "Called",
         "48",
         0.037037037,
         0.037037037,
         "48",
         "Mattia",
         "Romano",
         "Romano Family"
        ],
        [
         "Called",
         "50",
         0.037037037,
         0.037037037,
         "50",
         "Linda",
         "Marini",
         "Marini Family"
        ],
        [
         "Called",
         "51",
         0.037037037,
         0.037037037,
         "51",
         "Giulia",
         "Marini",
         "Marini Family"
        ],
        [
         "Called",
         "41",
         0.037037037,
         0.037037037,
         "41",
         "Luca",
         "Moretti",
         "Moretti Family"
        ],
        [
         "Called",
         "53",
         0.037037037,
         0.037037037,
         "53",
         "Andrea",
         "Conti",
         "Conti Family"
        ],
        [
         "Called",
         "1",
         0.018518519,
         0.018518519,
         "1",
         "Giuseppe",
         "Rossi",
         "Rossi Family"
        ],
        [
         "Called",
         "2",
         0.018518519,
         0.018518519,
         "2",
         "Maria",
         "Rossi",
         "Rossi Family"
        ],
        [
         "Called",
         "17",
         0.018518519,
         0.018518519,
         "17",
         "Carlo",
         "Romano",
         "Romano Family"
        ],
        [
         "Called",
         "33",
         0.018518519,
         0.018518519,
         "33",
         "Andrea",
         "Bianchi",
         "Bianchi Family"
        ],
        [
         "Called",
         "49",
         0.018518519,
         0.018518519,
         "49",
         "Marco",
         "Marini",
         "Marini Family"
        ],
        [
         "Called",
         "10",
         0.018518519,
         0.018518519,
         "10",
         "Chiara",
         "Ricci",
         "Ricci Family"
        ],
        [
         "Called",
         "18",
         0.018518519,
         0.018518519,
         "18",
         "Lucia",
         "Romano",
         "Romano Family"
        ],
        [
         "Called",
         "30",
         0.018518519,
         0.018518519,
         "30",
         "Paola",
         "Rossi",
         "Rossi Family"
        ],
        [
         "Called",
         "34",
         0.018518519,
         0.018518519,
         "34",
         "Valentina",
         "Bianchi",
         "Bianchi Family"
        ],
        [
         "Called",
         "42",
         0.018518519,
         0.018518519,
         "42",
         "Simona",
         "Moretti",
         "Moretti Family"
        ],
        [
         "Called",
         "46",
         0.018518519,
         0.018518519,
         "46",
         "Stefano",
         "Romano",
         "Romano Family"
        ],
        [
         "Called",
         "54",
         0.018518519,
         0.018518519,
         "54",
         "Sara",
         "Conti",
         "Conti Family"
        ],
        [
         "Called",
         "19",
         0.018518519,
         0.018518519,
         "19",
         "Federico",
         "Romano",
         "Romano Family"
        ],
        [
         "Called",
         "23",
         0.018518519,
         0.018518519,
         "23",
         "Andrea",
         "Marini",
         "Marini Family"
        ],
        [
         "Called",
         "35",
         0.018518519,
         0.018518519,
         "35",
         "Federica",
         "Bianchi",
         "Bianchi Family"
        ],
        [
         "Called",
         "39",
         0.018518519,
         0.018518519,
         "39",
         "Giorgio",
         "Ricci",
         "Ricci Family"
        ],
        [
         "Called",
         "43",
         0.018518519,
         0.018518519,
         "43",
         "Roberta",
         "Moretti",
         "Moretti Family"
        ],
        [
         "Called",
         "47",
         0.018518519,
         0.018518519,
         "47",
         "Elisa",
         "Romano",
         "Romano Family"
        ],
        [
         "Called",
         "55",
         0.018518519,
         0.018518519,
         "55",
         "Lorenzo",
         "Conti",
         "Conti Family"
        ],
        [
         "Called",
         "12",
         0.018518519,
         0.018518519,
         "12",
         "Laura",
         "Ricci",
         "Ricci Family"
        ],
        [
         "Called",
         "20",
         0.018518519,
         0.018518519,
         "20",
         "Martina",
         "Romano",
         "Romano Family"
        ],
        [
         "Called",
         "24",
         0.018518519,
         0.018518519,
         "24",
         "Francesca",
         "Marini",
         "Marini Family"
        ],
        [
         "Called",
         "32",
         0.018518519,
         0.018518519,
         "32",
         "Alice",
         "Rossi",
         "Rossi Family"
        ],
        [
         "Called",
         "36",
         0.018518519,
         0.018518519,
         "36",
         "Lorenzo",
         "Bianchi",
         "Bianchi Family"
        ],
        [
         "Called",
         "44",
         0.018518519,
         0.018518519,
         "44",
         "Alessandro",
         "Moretti",
         "Moretti Family"
        ],
        [
         "Called",
         "52",
         0.018518519,
         0.018518519,
         "52",
         "Federico",
         "Marini",
         "Marini Family"
        ],
        [
         "Called",
         "56",
         0.018518519,
         0.018518519,
         "56",
         "Francesca",
         "Conti",
         "Conti Family"
        ],
        [
         "Asked for Meeting With",
         "12",
         0.23636363,
         0.23636363,
         "12",
         "Laura",
         "Ricci",
         "Ricci Family"
        ],
        [
         "Asked for Meeting With",
         "9",
         0.21818182,
         0.21818182,
         "9",
         "Francesco",
         "Ricci",
         "Ricci Family"
        ],
        [
         "Asked for Meeting With",
         "11",
         0.21818182,
         0.21818182,
         "11",
         "Roberto",
         "Ricci",
         "Ricci Family"
        ],
        [
         "Asked for Meeting With",
         "10",
         0.2,
         0.2,
         "10",
         "Chiara",
         "Ricci",
         "Ricci Family"
        ],
        [
         "Asked for Meeting With",
         "13",
         0.12727273,
         0.12727273,
         "13",
         "Giovanni",
         "Moretti",
         "Moretti Family"
        ],
        [
         "Asked for Meeting With",
         "37",
         0.09090909,
         0.09090909,
         "37",
         "Marco",
         "Ricci",
         "Ricci Family"
        ],
        [
         "Asked for Meeting With",
         "49",
         0.09090909,
         0.09090909,
         "49",
         "Marco",
         "Marini",
         "Marini Family"
        ],
        [
         "Asked for Meeting With",
         "21",
         0.07272727,
         0.07272727,
         "21",
         "Luigi",
         "Marini",
         "Marini Family"
        ],
        [
         "Asked for Meeting With",
         "22",
         0.07272727,
         0.07272727,
         "22",
         "Teresa",
         "Marini",
         "Marini Family"
        ],
        [
         "Asked for Meeting With",
         "25",
         0.07272727,
         0.07272727,
         "25",
         "Mario",
         "Conti",
         "Conti Family"
        ],
        [
         "Asked for Meeting With",
         "27",
         0.07272727,
         0.07272727,
         "27",
         "Paolo",
         "Conti",
         "Conti Family"
        ],
        [
         "Asked for Meeting With",
         "33",
         0.07272727,
         0.07272727,
         "33",
         "Andrea",
         "Bianchi",
         "Bianchi Family"
        ],
        [
         "Asked for Meeting With",
         "35",
         0.07272727,
         0.07272727,
         "35",
         "Federica",
         "Bianchi",
         "Bianchi Family"
        ],
        [
         "Asked for Meeting With",
         "39",
         0.07272727,
         0.07272727,
         "39",
         "Giorgio",
         "Ricci",
         "Ricci Family"
        ],
        [
         "Asked for Meeting With",
         "41",
         0.07272727,
         0.07272727,
         "41",
         "Luca",
         "Moretti",
         "Moretti Family"
        ],
        [
         "Asked for Meeting With",
         "42",
         0.07272727,
         0.07272727,
         "42",
         "Simona",
         "Moretti",
         "Moretti Family"
        ],
        [
         "Asked for Meeting With",
         "43",
         0.07272727,
         0.07272727,
         "43",
         "Roberta",
         "Moretti",
         "Moretti Family"
        ],
        [
         "Asked for Meeting With",
         "44",
         0.07272727,
         0.07272727,
         "44",
         "Alessandro",
         "Moretti",
         "Moretti Family"
        ],
        [
         "Asked for Meeting With",
         "46",
         0.07272727,
         0.07272727,
         "46",
         "Stefano",
         "Romano",
         "Romano Family"
        ],
        [
         "Asked for Meeting With",
         "47",
         0.07272727,
         0.07272727,
         "47",
         "Elisa",
         "Romano",
         "Romano Family"
        ],
        [
         "Asked for Meeting With",
         "50",
         0.07272727,
         0.07272727,
         "50",
         "Linda",
         "Marini",
         "Marini Family"
        ],
        [
         "Asked for Meeting With",
         "51",
         0.07272727,
         0.07272727,
         "51",
         "Giulia",
         "Marini",
         "Marini Family"
        ],
        [
         "Asked for Meeting With",
         "52",
         0.07272727,
         0.07272727,
         "52",
         "Federico",
         "Marini",
         "Marini Family"
        ],
        [
         "Asked for Meeting With",
         "53",
         0.07272727,
         0.07272727,
         "53",
         "Andrea",
         "Conti",
         "Conti Family"
        ],
        [
         "Asked for Meeting With",
         "55",
         0.07272727,
         0.07272727,
         "55",
         "Lorenzo",
         "Conti",
         "Conti Family"
        ],
        [
         "Asked for Meeting With",
         "15",
         0.054545455,
         0.054545455,
         "15",
         "Matteo",
         "Moretti",
         "Moretti Family"
        ],
        [
         "Asked for Meeting With",
         "14",
         0.054545455,
         0.054545455,
         "14",
         "Anna",
         "Moretti",
         "Moretti Family"
        ],
        [
         "Asked for Meeting With",
         "17",
         0.054545455,
         0.054545455,
         "17",
         "Carlo",
         "Romano",
         "Romano Family"
        ],
        [
         "Asked for Meeting With",
         "18",
         0.054545455,
         0.054545455,
         "18",
         "Lucia",
         "Romano",
         "Romano Family"
        ],
        [
         "Asked for Meeting With",
         "19",
         0.054545455,
         0.054545455,
         "19",
         "Federico",
         "Romano",
         "Romano Family"
        ],
        [
         "Asked for Meeting With",
         "20",
         0.054545455,
         0.054545455,
         "20",
         "Martina",
         "Romano",
         "Romano Family"
        ],
        [
         "Asked for Meeting With",
         "23",
         0.054545455,
         0.054545455,
         "23",
         "Andrea",
         "Marini",
         "Marini Family"
        ],
        [
         "Asked for Meeting With",
         "24",
         0.054545455,
         0.054545455,
         "24",
         "Francesca",
         "Marini",
         "Marini Family"
        ],
        [
         "Asked for Meeting With",
         "26",
         0.054545455,
         0.054545455,
         "26",
         "Elena",
         "Conti",
         "Conti Family"
        ],
        [
         "Asked for Meeting With",
         "29",
         0.054545455,
         0.054545455,
         "29",
         "Giorgio",
         "Rossi",
         "Rossi Family"
        ],
        [
         "Asked for Meeting With",
         "32",
         0.054545455,
         0.054545455,
         "32",
         "Alice",
         "Rossi",
         "Rossi Family"
        ],
        [
         "Asked for Meeting With",
         "34",
         0.054545455,
         0.054545455,
         "34",
         "Valentina",
         "Bianchi",
         "Bianchi Family"
        ],
        [
         "Asked for Meeting With",
         "36",
         0.054545455,
         0.054545455,
         "36",
         "Lorenzo",
         "Bianchi",
         "Bianchi Family"
        ],
        [
         "Asked for Meeting With",
         "38",
         0.054545455,
         0.054545455,
         "38",
         "Elisa",
         "Ricci",
         "Ricci Family"
        ],
        [
         "Asked for Meeting With",
         "40",
         0.054545455,
         0.054545455,
         "40",
         "Anna",
         "Ricci",
         "Ricci Family"
        ],
        [
         "Asked for Meeting With",
         "45",
         0.054545455,
         0.054545455,
         "45",
         "Giulia",
         "Romano",
         "Romano Family"
        ],
        [
         "Asked for Meeting With",
         "48",
         0.054545455,
         0.054545455,
         "48",
         "Mattia",
         "Romano",
         "Romano Family"
        ],
        [
         "Asked for Meeting With",
         "54",
         0.054545455,
         0.054545455,
         "54",
         "Sara",
         "Conti",
         "Conti Family"
        ],
        [
         "Asked for Meeting With",
         "56",
         0.054545455,
         0.054545455,
         "56",
         "Francesca",
         "Conti",
         "Conti Family"
        ],
        [
         "Asked for Meeting With",
         "1",
         0.036363635,
         0.036363635,
         "1",
         "Giuseppe",
         "Rossi",
         "Rossi Family"
        ],
        [
         "Asked for Meeting With",
         "4",
         0.036363635,
         0.036363635,
         "4",
         "Sofia",
         "Rossi",
         "Rossi Family"
        ],
        [
         "Asked for Meeting With",
         "5",
         0.036363635,
         0.036363635,
         "5",
         "Luca",
         "Bianchi",
         "Bianchi Family"
        ],
        [
         "Asked for Meeting With",
         "7",
         0.036363635,
         0.036363635,
         "7",
         "Marco",
         "Bianchi",
         "Bianchi Family"
        ],
        [
         "Asked for Meeting With",
         "16",
         0.036363635,
         0.036363635,
         "16",
         "Elena",
         "Moretti",
         "Moretti Family"
        ],
        [
         "Asked for Meeting With",
         "28",
         0.036363635,
         0.036363635,
         "28",
         "Giuliana",
         "Conti",
         "Conti Family"
        ],
        [
         "Asked for Meeting With",
         "30",
         0.036363635,
         0.036363635,
         "30",
         "Paola",
         "Rossi",
         "Rossi Family"
        ],
        [
         "Asked for Meeting With",
         "31",
         0.036363635,
         0.036363635,
         "31",
         "Fabio",
         "Rossi",
         "Rossi Family"
        ],
        [
         "Asked for Meeting With",
         "2",
         0.018181818,
         0.018181818,
         "2",
         "Maria",
         "Rossi",
         "Rossi Family"
        ],
        [
         "Asked for Meeting With",
         "3",
         0.018181818,
         0.018181818,
         "3",
         "Antonio",
         "Rossi",
         "Rossi Family"
        ],
        [
         "Asked for Meeting With",
         "6",
         0.018181818,
         0.018181818,
         "6",
         "Giulia",
         "Bianchi",
         "Bianchi Family"
        ],
        [
         "Asked for Meeting With",
         "8",
         0.018181818,
         0.018181818,
         "8",
         "Alessia",
         "Bianchi",
         "Bianchi Family"
        ]
       ],
       "datasetInfos": [],
       "dbfsResultPath": null,
       "isJsonSchema": true,
       "metadata": {},
       "overflow": false,
       "plotOptions": {
        "customPlotOptions": {},
        "displayType": "table",
        "pivotAggregation": null,
        "pivotColumns": null,
        "xColumns": null,
        "yColumns": null
       },
       "removedWidgets": [],
       "schema": [
        {
         "metadata": "{}",
         "name": "relation_type",
         "type": "\"string\""
        },
        {
         "metadata": "{}",
         "name": "node",
         "type": "\"string\""
        },
        {
         "metadata": "{}",
         "name": "in_degree_centrality",
         "type": "\"float\""
        },
        {
         "metadata": "{}",
         "name": "out_degree_centrality",
         "type": "\"float\""
        },
        {
         "metadata": "{}",
         "name": "id",
         "type": "\"string\""
        },
        {
         "metadata": "{}",
         "name": "First Name",
         "type": "\"string\""
        },
        {
         "metadata": "{}",
         "name": "Last Name",
         "type": "\"string\""
        },
        {
         "metadata": "{}",
         "name": "Family",
         "type": "\"string\""
        }
       ],
       "type": "table"
      }
     },
     "output_type": "display_data"
    }
   ],
   "source": [
    "# Summarize results for degree centrality\n",
    "mafia_graph \\\n",
    "    .edges \\\n",
    "    .groupby(\"relation_type\") \\\n",
    "    .applyInPandas(nx_degree_centrality, output_schema_degree) \\\n",
    "    .alias(\"degree_df\") \\\n",
    "    .join(mafia_graph.vertices.alias(\"node_df\"), F.col(\"degree_df.node\") == F.col(\"node_df.id\")) \\\n",
    "    .orderBy(\"relation_type\", \"in_degree_centrality\", ascending=False) \\\n",
    "    .display()"
   ]
  },
  {
   "cell_type": "code",
   "execution_count": 0,
   "metadata": {
    "application/vnd.databricks.v1+cell": {
     "cellMetadata": {
      "byteLimit": 2048000,
      "rowLimit": 10000
     },
     "inputWidgets": {},
     "nuid": "fc1e73f2-c14a-40ac-8d99-149c2c112bfa",
     "showTitle": false,
     "title": ""
    }
   },
   "outputs": [
    {
     "output_type": "display_data",
     "data": {
      "text/html": [
       "<style scoped>\n",
       "  .table-result-container {\n",
       "    max-height: 300px;\n",
       "    overflow: auto;\n",
       "  }\n",
       "  table, th, td {\n",
       "    border: 1px solid black;\n",
       "    border-collapse: collapse;\n",
       "  }\n",
       "  th, td {\n",
       "    padding: 5px;\n",
       "  }\n",
       "  th {\n",
       "    text-align: left;\n",
       "  }\n",
       "</style><div class='table-result-container'><table class='table-result'><thead style='background-color: white'><tr><th>relation_type</th><th>node</th><th>betweenness_centrality</th><th>id</th><th>First Name</th><th>Last Name</th><th>Family</th></tr></thead><tbody><tr><td>Threatened</td><td>2</td><td>0.0</td><td>2</td><td>Maria</td><td>Rossi</td><td>Rossi Family</td></tr><tr><td>Threatened</td><td>1</td><td>0.0</td><td>1</td><td>Giuseppe</td><td>Rossi</td><td>Rossi Family</td></tr><tr><td>Threatened</td><td>4</td><td>0.0</td><td>4</td><td>Sofia</td><td>Rossi</td><td>Rossi Family</td></tr><tr><td>Threatened</td><td>3</td><td>0.0</td><td>3</td><td>Antonio</td><td>Rossi</td><td>Rossi Family</td></tr><tr><td>Threatened</td><td>10</td><td>0.0</td><td>10</td><td>Chiara</td><td>Ricci</td><td>Ricci Family</td></tr><tr><td>Threatened</td><td>9</td><td>0.0</td><td>9</td><td>Francesco</td><td>Ricci</td><td>Ricci Family</td></tr><tr><td>Threatened</td><td>12</td><td>0.0</td><td>12</td><td>Laura</td><td>Ricci</td><td>Ricci Family</td></tr><tr><td>Threatened</td><td>11</td><td>0.0</td><td>11</td><td>Roberto</td><td>Ricci</td><td>Ricci Family</td></tr><tr><td>Threatened</td><td>30</td><td>0.0</td><td>30</td><td>Paola</td><td>Rossi</td><td>Rossi Family</td></tr><tr><td>Threatened</td><td>29</td><td>0.0</td><td>29</td><td>Giorgio</td><td>Rossi</td><td>Rossi Family</td></tr><tr><td>Threatened</td><td>32</td><td>0.0</td><td>32</td><td>Alice</td><td>Rossi</td><td>Rossi Family</td></tr><tr><td>Threatened</td><td>31</td><td>0.0</td><td>31</td><td>Fabio</td><td>Rossi</td><td>Rossi Family</td></tr><tr><td>Threatened</td><td>13</td><td>0.0</td><td>13</td><td>Giovanni</td><td>Moretti</td><td>Moretti Family</td></tr><tr><td>Threatened</td><td>17</td><td>0.0</td><td>17</td><td>Carlo</td><td>Romano</td><td>Romano Family</td></tr><tr><td>Sent Money</td><td>2</td><td>0.613468</td><td>2</td><td>Maria</td><td>Rossi</td><td>Rossi Family</td></tr><tr><td>Sent Money</td><td>1</td><td>0.5895623</td><td>1</td><td>Giuseppe</td><td>Rossi</td><td>Rossi Family</td></tr><tr><td>Sent Money</td><td>4</td><td>0.42020202</td><td>4</td><td>Sofia</td><td>Rossi</td><td>Rossi Family</td></tr><tr><td>Sent Money</td><td>3</td><td>0.31111112</td><td>3</td><td>Antonio</td><td>Rossi</td><td>Rossi Family</td></tr><tr><td>Sent Money</td><td>13</td><td>0.27272728</td><td>13</td><td>Giovanni</td><td>Moretti</td><td>Moretti Family</td></tr><tr><td>Sent Money</td><td>14</td><td>0.27171716</td><td>14</td><td>Anna</td><td>Moretti</td><td>Moretti Family</td></tr><tr><td>Sent Money</td><td>9</td><td>0.21919192</td><td>9</td><td>Francesco</td><td>Ricci</td><td>Ricci Family</td></tr><tr><td>Sent Money</td><td>10</td><td>0.21919192</td><td>10</td><td>Chiara</td><td>Ricci</td><td>Ricci Family</td></tr><tr><td>Sent Money</td><td>22</td><td>0.09057239</td><td>22</td><td>Teresa</td><td>Marini</td><td>Marini Family</td></tr><tr><td>Sent Money</td><td>34</td><td>0.09057239</td><td>34</td><td>Valentina</td><td>Bianchi</td><td>Bianchi Family</td></tr><tr><td>Sent Money</td><td>42</td><td>0.09057239</td><td>42</td><td>Simona</td><td>Moretti</td><td>Moretti Family</td></tr><tr><td>Sent Money</td><td>54</td><td>0.09057239</td><td>54</td><td>Sara</td><td>Conti</td><td>Conti Family</td></tr><tr><td>Sent Money</td><td>23</td><td>0.07171717</td><td>23</td><td>Andrea</td><td>Marini</td><td>Marini Family</td></tr><tr><td>Sent Money</td><td>35</td><td>0.07171717</td><td>35</td><td>Federica</td><td>Bianchi</td><td>Bianchi Family</td></tr><tr><td>Sent Money</td><td>43</td><td>0.07171717</td><td>43</td><td>Roberta</td><td>Moretti</td><td>Moretti Family</td></tr><tr><td>Sent Money</td><td>55</td><td>0.07171717</td><td>55</td><td>Lorenzo</td><td>Conti</td><td>Conti Family</td></tr><tr><td>Sent Money</td><td>5</td><td>0.0</td><td>5</td><td>Luca</td><td>Bianchi</td><td>Bianchi Family</td></tr><tr><td>Sent Money</td><td>17</td><td>0.0</td><td>17</td><td>Carlo</td><td>Romano</td><td>Romano Family</td></tr><tr><td>Sent Money</td><td>21</td><td>0.0</td><td>21</td><td>Luigi</td><td>Marini</td><td>Marini Family</td></tr><tr><td>Sent Money</td><td>25</td><td>0.0</td><td>25</td><td>Mario</td><td>Conti</td><td>Conti Family</td></tr><tr><td>Sent Money</td><td>29</td><td>0.0</td><td>29</td><td>Giorgio</td><td>Rossi</td><td>Rossi Family</td></tr><tr><td>Sent Money</td><td>33</td><td>0.0</td><td>33</td><td>Andrea</td><td>Bianchi</td><td>Bianchi Family</td></tr><tr><td>Sent Money</td><td>37</td><td>0.0</td><td>37</td><td>Marco</td><td>Ricci</td><td>Ricci Family</td></tr><tr><td>Sent Money</td><td>41</td><td>0.0</td><td>41</td><td>Luca</td><td>Moretti</td><td>Moretti Family</td></tr><tr><td>Sent Money</td><td>45</td><td>0.0</td><td>45</td><td>Giulia</td><td>Romano</td><td>Romano Family</td></tr><tr><td>Sent Money</td><td>49</td><td>0.0</td><td>49</td><td>Marco</td><td>Marini</td><td>Marini Family</td></tr><tr><td>Sent Money</td><td>53</td><td>0.0</td><td>53</td><td>Andrea</td><td>Conti</td><td>Conti Family</td></tr><tr><td>Sent Money</td><td>6</td><td>0.0</td><td>6</td><td>Giulia</td><td>Bianchi</td><td>Bianchi Family</td></tr><tr><td>Sent Money</td><td>18</td><td>0.0</td><td>18</td><td>Lucia</td><td>Romano</td><td>Romano Family</td></tr><tr><td>Sent Money</td><td>26</td><td>0.0</td><td>26</td><td>Elena</td><td>Conti</td><td>Conti Family</td></tr><tr><td>Sent Money</td><td>30</td><td>0.0</td><td>30</td><td>Paola</td><td>Rossi</td><td>Rossi Family</td></tr><tr><td>Sent Money</td><td>38</td><td>0.0</td><td>38</td><td>Elisa</td><td>Ricci</td><td>Ricci Family</td></tr><tr><td>Sent Money</td><td>46</td><td>0.0</td><td>46</td><td>Stefano</td><td>Romano</td><td>Romano Family</td></tr><tr><td>Sent Money</td><td>50</td><td>0.0</td><td>50</td><td>Linda</td><td>Marini</td><td>Marini Family</td></tr><tr><td>Sent Money</td><td>7</td><td>0.0</td><td>7</td><td>Marco</td><td>Bianchi</td><td>Bianchi Family</td></tr><tr><td>Sent Money</td><td>11</td><td>0.0</td><td>11</td><td>Roberto</td><td>Ricci</td><td>Ricci Family</td></tr><tr><td>Sent Money</td><td>15</td><td>0.0</td><td>15</td><td>Matteo</td><td>Moretti</td><td>Moretti Family</td></tr><tr><td>Sent Money</td><td>19</td><td>0.0</td><td>19</td><td>Federico</td><td>Romano</td><td>Romano Family</td></tr><tr><td>Sent Money</td><td>27</td><td>0.0</td><td>27</td><td>Paolo</td><td>Conti</td><td>Conti Family</td></tr><tr><td>Sent Money</td><td>31</td><td>0.0</td><td>31</td><td>Fabio</td><td>Rossi</td><td>Rossi Family</td></tr><tr><td>Sent Money</td><td>39</td><td>0.0</td><td>39</td><td>Giorgio</td><td>Ricci</td><td>Ricci Family</td></tr><tr><td>Sent Money</td><td>47</td><td>0.0</td><td>47</td><td>Elisa</td><td>Romano</td><td>Romano Family</td></tr><tr><td>Sent Money</td><td>51</td><td>0.0</td><td>51</td><td>Giulia</td><td>Marini</td><td>Marini Family</td></tr><tr><td>Sent Money</td><td>8</td><td>0.0</td><td>8</td><td>Alessia</td><td>Bianchi</td><td>Bianchi Family</td></tr><tr><td>Sent Money</td><td>12</td><td>0.0</td><td>12</td><td>Laura</td><td>Ricci</td><td>Ricci Family</td></tr><tr><td>Sent Money</td><td>16</td><td>0.0</td><td>16</td><td>Elena</td><td>Moretti</td><td>Moretti Family</td></tr><tr><td>Sent Money</td><td>20</td><td>0.0</td><td>20</td><td>Martina</td><td>Romano</td><td>Romano Family</td></tr><tr><td>Sent Money</td><td>24</td><td>0.0</td><td>24</td><td>Francesca</td><td>Marini</td><td>Marini Family</td></tr><tr><td>Sent Money</td><td>28</td><td>0.0</td><td>28</td><td>Giuliana</td><td>Conti</td><td>Conti Family</td></tr><tr><td>Sent Money</td><td>32</td><td>0.0</td><td>32</td><td>Alice</td><td>Rossi</td><td>Rossi Family</td></tr><tr><td>Sent Money</td><td>36</td><td>0.0</td><td>36</td><td>Lorenzo</td><td>Bianchi</td><td>Bianchi Family</td></tr><tr><td>Sent Money</td><td>40</td><td>0.0</td><td>40</td><td>Anna</td><td>Ricci</td><td>Ricci Family</td></tr><tr><td>Sent Money</td><td>44</td><td>0.0</td><td>44</td><td>Alessandro</td><td>Moretti</td><td>Moretti Family</td></tr><tr><td>Sent Money</td><td>48</td><td>0.0</td><td>48</td><td>Mattia</td><td>Romano</td><td>Romano Family</td></tr><tr><td>Sent Money</td><td>52</td><td>0.0</td><td>52</td><td>Federico</td><td>Marini</td><td>Marini Family</td></tr><tr><td>Sent Money</td><td>56</td><td>0.0</td><td>56</td><td>Francesca</td><td>Conti</td><td>Conti Family</td></tr><tr><td>Called</td><td>8</td><td>0.44593525</td><td>8</td><td>Alessia</td><td>Bianchi</td><td>Bianchi Family</td></tr><tr><td>Called</td><td>7</td><td>0.33763102</td><td>7</td><td>Marco</td><td>Bianchi</td><td>Bianchi Family</td></tr><tr><td>Called</td><td>6</td><td>0.32296762</td><td>6</td><td>Giulia</td><td>Bianchi</td><td>Bianchi Family</td></tr><tr><td>Called</td><td>5</td><td>0.22118565</td><td>5</td><td>Luca</td><td>Bianchi</td><td>Bianchi Family</td></tr><tr><td>Called</td><td>22</td><td>0.07512229</td><td>22</td><td>Teresa</td><td>Marini</td><td>Marini Family</td></tr><tr><td>Called</td><td>21</td><td>0.06522246</td><td>21</td><td>Luigi</td><td>Marini</td><td>Marini Family</td></tr><tr><td>Called</td><td>31</td><td>0.0551945</td><td>31</td><td>Fabio</td><td>Rossi</td><td>Rossi Family</td></tr><tr><td>Called</td><td>40</td><td>0.05412299</td><td>40</td><td>Anna</td><td>Ricci</td><td>Ricci Family</td></tr><tr><td>Called</td><td>28</td><td>0.05144421</td><td>28</td><td>Giuliana</td><td>Conti</td><td>Conti Family</td></tr><tr><td>Called</td><td>29</td><td>0.043664105</td><td>29</td><td>Giorgio</td><td>Rossi</td><td>Rossi Family</td></tr><tr><td>Called</td><td>11</td><td>0.040414628</td><td>11</td><td>Roberto</td><td>Ricci</td><td>Ricci Family</td></tr><tr><td>Called</td><td>48</td><td>0.038982064</td><td>48</td><td>Mattia</td><td>Romano</td><td>Romano Family</td></tr><tr><td>Called</td><td>25</td><td>0.031062195</td><td>25</td><td>Mario</td><td>Conti</td><td>Conti Family</td></tr><tr><td>Called</td><td>37</td><td>0.030130444</td><td>37</td><td>Marco</td><td>Ricci</td><td>Ricci Family</td></tr><tr><td>Called</td><td>9</td><td>0.02888423</td><td>9</td><td>Francesco</td><td>Ricci</td><td>Ricci Family</td></tr><tr><td>Called</td><td>45</td><td>0.023375262</td><td>45</td><td>Giulia</td><td>Romano</td><td>Romano Family</td></tr><tr><td>Called</td><td>27</td><td>0.020498486</td><td>27</td><td>Paolo</td><td>Conti</td><td>Conti Family</td></tr><tr><td>Called</td><td>15</td><td>0.015047752</td><td>15</td><td>Matteo</td><td>Moretti</td><td>Moretti Family</td></tr><tr><td>Called</td><td>51</td><td>0.009433962</td><td>51</td><td>Giulia</td><td>Marini</td><td>Marini Family</td></tr><tr><td>Called</td><td>14</td><td>0.008385744</td><td>14</td><td>Anna</td><td>Moretti</td><td>Moretti Family</td></tr><tr><td>Called</td><td>50</td><td>0.008385744</td><td>50</td><td>Linda</td><td>Marini</td><td>Marini Family</td></tr><tr><td>Called</td><td>26</td><td>0.008036338</td><td>26</td><td>Elena</td><td>Conti</td><td>Conti Family</td></tr><tr><td>Called</td><td>38</td><td>0.008036338</td><td>38</td><td>Elisa</td><td>Ricci</td><td>Ricci Family</td></tr><tr><td>Called</td><td>13</td><td>0.006405777</td><td>13</td><td>Giovanni</td><td>Moretti</td><td>Moretti Family</td></tr><tr><td>Called</td><td>16</td><td>0.0050081527</td><td>16</td><td>Elena</td><td>Moretti</td><td>Moretti Family</td></tr><tr><td>Called</td><td>3</td><td>6.98812E-4</td><td>3</td><td>Antonio</td><td>Rossi</td><td>Rossi Family</td></tr><tr><td>Called</td><td>1</td><td>0.0</td><td>1</td><td>Giuseppe</td><td>Rossi</td><td>Rossi Family</td></tr><tr><td>Called</td><td>2</td><td>0.0</td><td>2</td><td>Maria</td><td>Rossi</td><td>Rossi Family</td></tr><tr><td>Called</td><td>17</td><td>0.0</td><td>17</td><td>Carlo</td><td>Romano</td><td>Romano Family</td></tr><tr><td>Called</td><td>33</td><td>0.0</td><td>33</td><td>Andrea</td><td>Bianchi</td><td>Bianchi Family</td></tr><tr><td>Called</td><td>41</td><td>0.0</td><td>41</td><td>Luca</td><td>Moretti</td><td>Moretti Family</td></tr><tr><td>Called</td><td>49</td><td>0.0</td><td>49</td><td>Marco</td><td>Marini</td><td>Marini Family</td></tr><tr><td>Called</td><td>53</td><td>0.0</td><td>53</td><td>Andrea</td><td>Conti</td><td>Conti Family</td></tr><tr><td>Called</td><td>10</td><td>0.0</td><td>10</td><td>Chiara</td><td>Ricci</td><td>Ricci Family</td></tr><tr><td>Called</td><td>18</td><td>0.0</td><td>18</td><td>Lucia</td><td>Romano</td><td>Romano Family</td></tr><tr><td>Called</td><td>30</td><td>0.0</td><td>30</td><td>Paola</td><td>Rossi</td><td>Rossi Family</td></tr><tr><td>Called</td><td>34</td><td>0.0</td><td>34</td><td>Valentina</td><td>Bianchi</td><td>Bianchi Family</td></tr><tr><td>Called</td><td>42</td><td>0.0</td><td>42</td><td>Simona</td><td>Moretti</td><td>Moretti Family</td></tr><tr><td>Called</td><td>46</td><td>0.0</td><td>46</td><td>Stefano</td><td>Romano</td><td>Romano Family</td></tr><tr><td>Called</td><td>54</td><td>0.0</td><td>54</td><td>Sara</td><td>Conti</td><td>Conti Family</td></tr><tr><td>Called</td><td>19</td><td>0.0</td><td>19</td><td>Federico</td><td>Romano</td><td>Romano Family</td></tr><tr><td>Called</td><td>23</td><td>0.0</td><td>23</td><td>Andrea</td><td>Marini</td><td>Marini Family</td></tr><tr><td>Called</td><td>35</td><td>0.0</td><td>35</td><td>Federica</td><td>Bianchi</td><td>Bianchi Family</td></tr><tr><td>Called</td><td>39</td><td>0.0</td><td>39</td><td>Giorgio</td><td>Ricci</td><td>Ricci Family</td></tr><tr><td>Called</td><td>43</td><td>0.0</td><td>43</td><td>Roberta</td><td>Moretti</td><td>Moretti Family</td></tr><tr><td>Called</td><td>47</td><td>0.0</td><td>47</td><td>Elisa</td><td>Romano</td><td>Romano Family</td></tr><tr><td>Called</td><td>55</td><td>0.0</td><td>55</td><td>Lorenzo</td><td>Conti</td><td>Conti Family</td></tr><tr><td>Called</td><td>12</td><td>0.0</td><td>12</td><td>Laura</td><td>Ricci</td><td>Ricci Family</td></tr><tr><td>Called</td><td>20</td><td>0.0</td><td>20</td><td>Martina</td><td>Romano</td><td>Romano Family</td></tr><tr><td>Called</td><td>24</td><td>0.0</td><td>24</td><td>Francesca</td><td>Marini</td><td>Marini Family</td></tr><tr><td>Called</td><td>32</td><td>0.0</td><td>32</td><td>Alice</td><td>Rossi</td><td>Rossi Family</td></tr><tr><td>Called</td><td>36</td><td>0.0</td><td>36</td><td>Lorenzo</td><td>Bianchi</td><td>Bianchi Family</td></tr><tr><td>Called</td><td>44</td><td>0.0</td><td>44</td><td>Alessandro</td><td>Moretti</td><td>Moretti Family</td></tr><tr><td>Called</td><td>52</td><td>0.0</td><td>52</td><td>Federico</td><td>Marini</td><td>Marini Family</td></tr><tr><td>Called</td><td>56</td><td>0.0</td><td>56</td><td>Francesca</td><td>Conti</td><td>Conti Family</td></tr><tr><td>Asked for Meeting With</td><td>12</td><td>0.18597323</td><td>12</td><td>Laura</td><td>Ricci</td><td>Ricci Family</td></tr><tr><td>Asked for Meeting With</td><td>11</td><td>0.16890012</td><td>11</td><td>Roberto</td><td>Ricci</td><td>Ricci Family</td></tr><tr><td>Asked for Meeting With</td><td>9</td><td>0.1646128</td><td>9</td><td>Francesco</td><td>Ricci</td><td>Ricci Family</td></tr><tr><td>Asked for Meeting With</td><td>10</td><td>0.13895944</td><td>10</td><td>Chiara</td><td>Ricci</td><td>Ricci Family</td></tr><tr><td>Asked for Meeting With</td><td>13</td><td>0.02889319</td><td>13</td><td>Giovanni</td><td>Moretti</td><td>Moretti Family</td></tr><tr><td>Asked for Meeting With</td><td>37</td><td>0.018324004</td><td>37</td><td>Marco</td><td>Ricci</td><td>Ricci Family</td></tr><tr><td>Asked for Meeting With</td><td>27</td><td>0.01651622</td><td>27</td><td>Paolo</td><td>Conti</td><td>Conti Family</td></tr><tr><td>Asked for Meeting With</td><td>22</td><td>0.015545692</td><td>22</td><td>Teresa</td><td>Marini</td><td>Marini Family</td></tr><tr><td>Asked for Meeting With</td><td>46</td><td>0.015545692</td><td>46</td><td>Stefano</td><td>Romano</td><td>Romano Family</td></tr><tr><td>Asked for Meeting With</td><td>35</td><td>0.015316124</td><td>35</td><td>Federica</td><td>Bianchi</td><td>Bianchi Family</td></tr><tr><td>Asked for Meeting With</td><td>55</td><td>0.015316124</td><td>55</td><td>Lorenzo</td><td>Conti</td><td>Conti Family</td></tr><tr><td>Asked for Meeting With</td><td>42</td><td>0.015208992</td><td>42</td><td>Simona</td><td>Moretti</td><td>Moretti Family</td></tr><tr><td>Asked for Meeting With</td><td>49</td><td>0.0147637995</td><td>49</td><td>Marco</td><td>Marini</td><td>Marini Family</td></tr><tr><td>Asked for Meeting With</td><td>33</td><td>0.014752576</td><td>33</td><td>Andrea</td><td>Bianchi</td><td>Bianchi Family</td></tr><tr><td>Asked for Meeting With</td><td>53</td><td>0.014752576</td><td>53</td><td>Andrea</td><td>Conti</td><td>Conti Family</td></tr><tr><td>Asked for Meeting With</td><td>50</td><td>0.014198891</td><td>50</td><td>Linda</td><td>Marini</td><td>Marini Family</td></tr><tr><td>Asked for Meeting With</td><td>39</td><td>0.014089573</td><td>39</td><td>Giorgio</td><td>Ricci</td><td>Ricci Family</td></tr><tr><td>Asked for Meeting With</td><td>29</td><td>0.013590159</td><td>29</td><td>Giorgio</td><td>Rossi</td><td>Rossi Family</td></tr><tr><td>Asked for Meeting With</td><td>47</td><td>0.012431725</td><td>47</td><td>Elisa</td><td>Romano</td><td>Romano Family</td></tr><tr><td>Asked for Meeting With</td><td>25</td><td>0.012370822</td><td>25</td><td>Mario</td><td>Conti</td><td>Conti Family</td></tr><tr><td>Asked for Meeting With</td><td>43</td><td>0.012095024</td><td>43</td><td>Roberta</td><td>Moretti</td><td>Moretti Family</td></tr><tr><td>Asked for Meeting With</td><td>44</td><td>0.011919192</td><td>44</td><td>Alessandro</td><td>Moretti</td><td>Moretti Family</td></tr><tr><td>Asked for Meeting With</td><td>18</td><td>0.011755943</td><td>18</td><td>Lucia</td><td>Romano</td><td>Romano Family</td></tr><tr><td>Asked for Meeting With</td><td>21</td><td>0.011733497</td><td>21</td><td>Luigi</td><td>Marini</td><td>Marini Family</td></tr><tr><td>Asked for Meeting With</td><td>41</td><td>0.011396796</td><td>41</td><td>Luca</td><td>Moretti</td><td>Moretti Family</td></tr><tr><td>Asked for Meeting With</td><td>51</td><td>0.01130939</td><td>51</td><td>Giulia</td><td>Marini</td><td>Marini Family</td></tr><tr><td>Asked for Meeting With</td><td>52</td><td>0.011189675</td><td>52</td><td>Federico</td><td>Marini</td><td>Marini Family</td></tr><tr><td>Asked for Meeting With</td><td>20</td><td>0.010852974</td><td>20</td><td>Martina</td><td>Romano</td><td>Romano Family</td></tr><tr><td>Asked for Meeting With</td><td>34</td><td>0.010677968</td><td>34</td><td>Valentina</td><td>Bianchi</td><td>Bianchi Family</td></tr><tr><td>Asked for Meeting With</td><td>54</td><td>0.010677968</td><td>54</td><td>Sara</td><td>Conti</td><td>Conti Family</td></tr><tr><td>Asked for Meeting With</td><td>17</td><td>0.009993878</td><td>17</td><td>Carlo</td><td>Romano</td><td>Romano Family</td></tr><tr><td>Asked for Meeting With</td><td>38</td><td>0.009788116</td><td>38</td><td>Elisa</td><td>Ricci</td><td>Ricci Family</td></tr><tr><td>Asked for Meeting With</td><td>26</td><td>0.009687107</td><td>26</td><td>Elena</td><td>Conti</td><td>Conti Family</td></tr><tr><td>Asked for Meeting With</td><td>32</td><td>0.009450056</td><td>32</td><td>Alice</td><td>Rossi</td><td>Rossi Family</td></tr><tr><td>Asked for Meeting With</td><td>23</td><td>0.009289188</td><td>23</td><td>Andrea</td><td>Marini</td><td>Marini Family</td></tr><tr><td>Asked for Meeting With</td><td>24</td><td>0.009113356</td><td>24</td><td>Francesca</td><td>Marini</td><td>Marini Family</td></tr><tr><td>Asked for Meeting With</td><td>48</td><td>0.009001123</td><td>48</td><td>Mattia</td><td>Romano</td><td>Romano Family</td></tr><tr><td>Asked for Meeting With</td><td>15</td><td>0.009000588</td><td>15</td><td>Matteo</td><td>Moretti</td><td>Moretti Family</td></tr><tr><td>Asked for Meeting With</td><td>14</td><td>0.008733123</td><td>14</td><td>Anna</td><td>Moretti</td><td>Moretti Family</td></tr><tr><td>Asked for Meeting With</td><td>45</td><td>0.008478726</td><td>45</td><td>Giulia</td><td>Romano</td><td>Romano Family</td></tr><tr><td>Asked for Meeting With</td><td>19</td><td>0.008305275</td><td>19</td><td>Federico</td><td>Romano</td><td>Romano Family</td></tr><tr><td>Asked for Meeting With</td><td>36</td><td>0.0070386403</td><td>36</td><td>Lorenzo</td><td>Bianchi</td><td>Bianchi Family</td></tr><tr><td>Asked for Meeting With</td><td>56</td><td>0.0070386403</td><td>56</td><td>Francesca</td><td>Conti</td><td>Conti Family</td></tr><tr><td>Asked for Meeting With</td><td>40</td><td>0.0064213565</td><td>40</td><td>Anna</td><td>Ricci</td><td>Ricci Family</td></tr><tr><td>Asked for Meeting With</td><td>30</td><td>0.0053554303</td><td>30</td><td>Paola</td><td>Rossi</td><td>Rossi Family</td></tr><tr><td>Asked for Meeting With</td><td>31</td><td>0.003599487</td><td>31</td><td>Fabio</td><td>Rossi</td><td>Rossi Family</td></tr><tr><td>Asked for Meeting With</td><td>28</td><td>0.0033068783</td><td>28</td><td>Giuliana</td><td>Conti</td><td>Conti Family</td></tr><tr><td>Asked for Meeting With</td><td>16</td><td>0.0029982363</td><td>16</td><td>Elena</td><td>Moretti</td><td>Moretti Family</td></tr><tr><td>Asked for Meeting With</td><td>1</td><td>0.0013468013</td><td>1</td><td>Giuseppe</td><td>Rossi</td><td>Rossi Family</td></tr><tr><td>Asked for Meeting With</td><td>4</td><td>0.0013468013</td><td>4</td><td>Sofia</td><td>Rossi</td><td>Rossi Family</td></tr><tr><td>Asked for Meeting With</td><td>5</td><td>0.0013468013</td><td>5</td><td>Luca</td><td>Bianchi</td><td>Bianchi Family</td></tr><tr><td>Asked for Meeting With</td><td>7</td><td>0.0013468013</td><td>7</td><td>Marco</td><td>Bianchi</td><td>Bianchi Family</td></tr><tr><td>Asked for Meeting With</td><td>2</td><td>0.0</td><td>2</td><td>Maria</td><td>Rossi</td><td>Rossi Family</td></tr><tr><td>Asked for Meeting With</td><td>3</td><td>0.0</td><td>3</td><td>Antonio</td><td>Rossi</td><td>Rossi Family</td></tr><tr><td>Asked for Meeting With</td><td>6</td><td>0.0</td><td>6</td><td>Giulia</td><td>Bianchi</td><td>Bianchi Family</td></tr><tr><td>Asked for Meeting With</td><td>8</td><td>0.0</td><td>8</td><td>Alessia</td><td>Bianchi</td><td>Bianchi Family</td></tr></tbody></table></div>"
      ]
     },
     "metadata": {
      "application/vnd.databricks.v1+output": {
       "addedWidgets": {},
       "aggData": [],
       "aggError": "",
       "aggOverflow": false,
       "aggSchema": [],
       "aggSeriesLimitReached": false,
       "aggType": "",
       "arguments": {},
       "columnCustomDisplayInfos": {},
       "data": [
        [
         "Threatened",
         "2",
         0.0,
         "2",
         "Maria",
         "Rossi",
         "Rossi Family"
        ],
        [
         "Threatened",
         "1",
         0.0,
         "1",
         "Giuseppe",
         "Rossi",
         "Rossi Family"
        ],
        [
         "Threatened",
         "4",
         0.0,
         "4",
         "Sofia",
         "Rossi",
         "Rossi Family"
        ],
        [
         "Threatened",
         "3",
         0.0,
         "3",
         "Antonio",
         "Rossi",
         "Rossi Family"
        ],
        [
         "Threatened",
         "10",
         0.0,
         "10",
         "Chiara",
         "Ricci",
         "Ricci Family"
        ],
        [
         "Threatened",
         "9",
         0.0,
         "9",
         "Francesco",
         "Ricci",
         "Ricci Family"
        ],
        [
         "Threatened",
         "12",
         0.0,
         "12",
         "Laura",
         "Ricci",
         "Ricci Family"
        ],
        [
         "Threatened",
         "11",
         0.0,
         "11",
         "Roberto",
         "Ricci",
         "Ricci Family"
        ],
        [
         "Threatened",
         "30",
         0.0,
         "30",
         "Paola",
         "Rossi",
         "Rossi Family"
        ],
        [
         "Threatened",
         "29",
         0.0,
         "29",
         "Giorgio",
         "Rossi",
         "Rossi Family"
        ],
        [
         "Threatened",
         "32",
         0.0,
         "32",
         "Alice",
         "Rossi",
         "Rossi Family"
        ],
        [
         "Threatened",
         "31",
         0.0,
         "31",
         "Fabio",
         "Rossi",
         "Rossi Family"
        ],
        [
         "Threatened",
         "13",
         0.0,
         "13",
         "Giovanni",
         "Moretti",
         "Moretti Family"
        ],
        [
         "Threatened",
         "17",
         0.0,
         "17",
         "Carlo",
         "Romano",
         "Romano Family"
        ],
        [
         "Sent Money",
         "2",
         0.613468,
         "2",
         "Maria",
         "Rossi",
         "Rossi Family"
        ],
        [
         "Sent Money",
         "1",
         0.5895623,
         "1",
         "Giuseppe",
         "Rossi",
         "Rossi Family"
        ],
        [
         "Sent Money",
         "4",
         0.42020202,
         "4",
         "Sofia",
         "Rossi",
         "Rossi Family"
        ],
        [
         "Sent Money",
         "3",
         0.31111112,
         "3",
         "Antonio",
         "Rossi",
         "Rossi Family"
        ],
        [
         "Sent Money",
         "13",
         0.27272728,
         "13",
         "Giovanni",
         "Moretti",
         "Moretti Family"
        ],
        [
         "Sent Money",
         "14",
         0.27171716,
         "14",
         "Anna",
         "Moretti",
         "Moretti Family"
        ],
        [
         "Sent Money",
         "9",
         0.21919192,
         "9",
         "Francesco",
         "Ricci",
         "Ricci Family"
        ],
        [
         "Sent Money",
         "10",
         0.21919192,
         "10",
         "Chiara",
         "Ricci",
         "Ricci Family"
        ],
        [
         "Sent Money",
         "22",
         0.09057239,
         "22",
         "Teresa",
         "Marini",
         "Marini Family"
        ],
        [
         "Sent Money",
         "34",
         0.09057239,
         "34",
         "Valentina",
         "Bianchi",
         "Bianchi Family"
        ],
        [
         "Sent Money",
         "42",
         0.09057239,
         "42",
         "Simona",
         "Moretti",
         "Moretti Family"
        ],
        [
         "Sent Money",
         "54",
         0.09057239,
         "54",
         "Sara",
         "Conti",
         "Conti Family"
        ],
        [
         "Sent Money",
         "23",
         0.07171717,
         "23",
         "Andrea",
         "Marini",
         "Marini Family"
        ],
        [
         "Sent Money",
         "35",
         0.07171717,
         "35",
         "Federica",
         "Bianchi",
         "Bianchi Family"
        ],
        [
         "Sent Money",
         "43",
         0.07171717,
         "43",
         "Roberta",
         "Moretti",
         "Moretti Family"
        ],
        [
         "Sent Money",
         "55",
         0.07171717,
         "55",
         "Lorenzo",
         "Conti",
         "Conti Family"
        ],
        [
         "Sent Money",
         "5",
         0.0,
         "5",
         "Luca",
         "Bianchi",
         "Bianchi Family"
        ],
        [
         "Sent Money",
         "17",
         0.0,
         "17",
         "Carlo",
         "Romano",
         "Romano Family"
        ],
        [
         "Sent Money",
         "21",
         0.0,
         "21",
         "Luigi",
         "Marini",
         "Marini Family"
        ],
        [
         "Sent Money",
         "25",
         0.0,
         "25",
         "Mario",
         "Conti",
         "Conti Family"
        ],
        [
         "Sent Money",
         "29",
         0.0,
         "29",
         "Giorgio",
         "Rossi",
         "Rossi Family"
        ],
        [
         "Sent Money",
         "33",
         0.0,
         "33",
         "Andrea",
         "Bianchi",
         "Bianchi Family"
        ],
        [
         "Sent Money",
         "37",
         0.0,
         "37",
         "Marco",
         "Ricci",
         "Ricci Family"
        ],
        [
         "Sent Money",
         "41",
         0.0,
         "41",
         "Luca",
         "Moretti",
         "Moretti Family"
        ],
        [
         "Sent Money",
         "45",
         0.0,
         "45",
         "Giulia",
         "Romano",
         "Romano Family"
        ],
        [
         "Sent Money",
         "49",
         0.0,
         "49",
         "Marco",
         "Marini",
         "Marini Family"
        ],
        [
         "Sent Money",
         "53",
         0.0,
         "53",
         "Andrea",
         "Conti",
         "Conti Family"
        ],
        [
         "Sent Money",
         "6",
         0.0,
         "6",
         "Giulia",
         "Bianchi",
         "Bianchi Family"
        ],
        [
         "Sent Money",
         "18",
         0.0,
         "18",
         "Lucia",
         "Romano",
         "Romano Family"
        ],
        [
         "Sent Money",
         "26",
         0.0,
         "26",
         "Elena",
         "Conti",
         "Conti Family"
        ],
        [
         "Sent Money",
         "30",
         0.0,
         "30",
         "Paola",
         "Rossi",
         "Rossi Family"
        ],
        [
         "Sent Money",
         "38",
         0.0,
         "38",
         "Elisa",
         "Ricci",
         "Ricci Family"
        ],
        [
         "Sent Money",
         "46",
         0.0,
         "46",
         "Stefano",
         "Romano",
         "Romano Family"
        ],
        [
         "Sent Money",
         "50",
         0.0,
         "50",
         "Linda",
         "Marini",
         "Marini Family"
        ],
        [
         "Sent Money",
         "7",
         0.0,
         "7",
         "Marco",
         "Bianchi",
         "Bianchi Family"
        ],
        [
         "Sent Money",
         "11",
         0.0,
         "11",
         "Roberto",
         "Ricci",
         "Ricci Family"
        ],
        [
         "Sent Money",
         "15",
         0.0,
         "15",
         "Matteo",
         "Moretti",
         "Moretti Family"
        ],
        [
         "Sent Money",
         "19",
         0.0,
         "19",
         "Federico",
         "Romano",
         "Romano Family"
        ],
        [
         "Sent Money",
         "27",
         0.0,
         "27",
         "Paolo",
         "Conti",
         "Conti Family"
        ],
        [
         "Sent Money",
         "31",
         0.0,
         "31",
         "Fabio",
         "Rossi",
         "Rossi Family"
        ],
        [
         "Sent Money",
         "39",
         0.0,
         "39",
         "Giorgio",
         "Ricci",
         "Ricci Family"
        ],
        [
         "Sent Money",
         "47",
         0.0,
         "47",
         "Elisa",
         "Romano",
         "Romano Family"
        ],
        [
         "Sent Money",
         "51",
         0.0,
         "51",
         "Giulia",
         "Marini",
         "Marini Family"
        ],
        [
         "Sent Money",
         "8",
         0.0,
         "8",
         "Alessia",
         "Bianchi",
         "Bianchi Family"
        ],
        [
         "Sent Money",
         "12",
         0.0,
         "12",
         "Laura",
         "Ricci",
         "Ricci Family"
        ],
        [
         "Sent Money",
         "16",
         0.0,
         "16",
         "Elena",
         "Moretti",
         "Moretti Family"
        ],
        [
         "Sent Money",
         "20",
         0.0,
         "20",
         "Martina",
         "Romano",
         "Romano Family"
        ],
        [
         "Sent Money",
         "24",
         0.0,
         "24",
         "Francesca",
         "Marini",
         "Marini Family"
        ],
        [
         "Sent Money",
         "28",
         0.0,
         "28",
         "Giuliana",
         "Conti",
         "Conti Family"
        ],
        [
         "Sent Money",
         "32",
         0.0,
         "32",
         "Alice",
         "Rossi",
         "Rossi Family"
        ],
        [
         "Sent Money",
         "36",
         0.0,
         "36",
         "Lorenzo",
         "Bianchi",
         "Bianchi Family"
        ],
        [
         "Sent Money",
         "40",
         0.0,
         "40",
         "Anna",
         "Ricci",
         "Ricci Family"
        ],
        [
         "Sent Money",
         "44",
         0.0,
         "44",
         "Alessandro",
         "Moretti",
         "Moretti Family"
        ],
        [
         "Sent Money",
         "48",
         0.0,
         "48",
         "Mattia",
         "Romano",
         "Romano Family"
        ],
        [
         "Sent Money",
         "52",
         0.0,
         "52",
         "Federico",
         "Marini",
         "Marini Family"
        ],
        [
         "Sent Money",
         "56",
         0.0,
         "56",
         "Francesca",
         "Conti",
         "Conti Family"
        ],
        [
         "Called",
         "8",
         0.44593525,
         "8",
         "Alessia",
         "Bianchi",
         "Bianchi Family"
        ],
        [
         "Called",
         "7",
         0.33763102,
         "7",
         "Marco",
         "Bianchi",
         "Bianchi Family"
        ],
        [
         "Called",
         "6",
         0.32296762,
         "6",
         "Giulia",
         "Bianchi",
         "Bianchi Family"
        ],
        [
         "Called",
         "5",
         0.22118565,
         "5",
         "Luca",
         "Bianchi",
         "Bianchi Family"
        ],
        [
         "Called",
         "22",
         0.07512229,
         "22",
         "Teresa",
         "Marini",
         "Marini Family"
        ],
        [
         "Called",
         "21",
         0.06522246,
         "21",
         "Luigi",
         "Marini",
         "Marini Family"
        ],
        [
         "Called",
         "31",
         0.0551945,
         "31",
         "Fabio",
         "Rossi",
         "Rossi Family"
        ],
        [
         "Called",
         "40",
         0.05412299,
         "40",
         "Anna",
         "Ricci",
         "Ricci Family"
        ],
        [
         "Called",
         "28",
         0.05144421,
         "28",
         "Giuliana",
         "Conti",
         "Conti Family"
        ],
        [
         "Called",
         "29",
         0.043664105,
         "29",
         "Giorgio",
         "Rossi",
         "Rossi Family"
        ],
        [
         "Called",
         "11",
         0.040414628,
         "11",
         "Roberto",
         "Ricci",
         "Ricci Family"
        ],
        [
         "Called",
         "48",
         0.038982064,
         "48",
         "Mattia",
         "Romano",
         "Romano Family"
        ],
        [
         "Called",
         "25",
         0.031062195,
         "25",
         "Mario",
         "Conti",
         "Conti Family"
        ],
        [
         "Called",
         "37",
         0.030130444,
         "37",
         "Marco",
         "Ricci",
         "Ricci Family"
        ],
        [
         "Called",
         "9",
         0.02888423,
         "9",
         "Francesco",
         "Ricci",
         "Ricci Family"
        ],
        [
         "Called",
         "45",
         0.023375262,
         "45",
         "Giulia",
         "Romano",
         "Romano Family"
        ],
        [
         "Called",
         "27",
         0.020498486,
         "27",
         "Paolo",
         "Conti",
         "Conti Family"
        ],
        [
         "Called",
         "15",
         0.015047752,
         "15",
         "Matteo",
         "Moretti",
         "Moretti Family"
        ],
        [
         "Called",
         "51",
         0.009433962,
         "51",
         "Giulia",
         "Marini",
         "Marini Family"
        ],
        [
         "Called",
         "14",
         0.008385744,
         "14",
         "Anna",
         "Moretti",
         "Moretti Family"
        ],
        [
         "Called",
         "50",
         0.008385744,
         "50",
         "Linda",
         "Marini",
         "Marini Family"
        ],
        [
         "Called",
         "26",
         0.008036338,
         "26",
         "Elena",
         "Conti",
         "Conti Family"
        ],
        [
         "Called",
         "38",
         0.008036338,
         "38",
         "Elisa",
         "Ricci",
         "Ricci Family"
        ],
        [
         "Called",
         "13",
         0.006405777,
         "13",
         "Giovanni",
         "Moretti",
         "Moretti Family"
        ],
        [
         "Called",
         "16",
         0.0050081527,
         "16",
         "Elena",
         "Moretti",
         "Moretti Family"
        ],
        [
         "Called",
         "3",
         6.98812E-4,
         "3",
         "Antonio",
         "Rossi",
         "Rossi Family"
        ],
        [
         "Called",
         "1",
         0.0,
         "1",
         "Giuseppe",
         "Rossi",
         "Rossi Family"
        ],
        [
         "Called",
         "2",
         0.0,
         "2",
         "Maria",
         "Rossi",
         "Rossi Family"
        ],
        [
         "Called",
         "17",
         0.0,
         "17",
         "Carlo",
         "Romano",
         "Romano Family"
        ],
        [
         "Called",
         "33",
         0.0,
         "33",
         "Andrea",
         "Bianchi",
         "Bianchi Family"
        ],
        [
         "Called",
         "41",
         0.0,
         "41",
         "Luca",
         "Moretti",
         "Moretti Family"
        ],
        [
         "Called",
         "49",
         0.0,
         "49",
         "Marco",
         "Marini",
         "Marini Family"
        ],
        [
         "Called",
         "53",
         0.0,
         "53",
         "Andrea",
         "Conti",
         "Conti Family"
        ],
        [
         "Called",
         "10",
         0.0,
         "10",
         "Chiara",
         "Ricci",
         "Ricci Family"
        ],
        [
         "Called",
         "18",
         0.0,
         "18",
         "Lucia",
         "Romano",
         "Romano Family"
        ],
        [
         "Called",
         "30",
         0.0,
         "30",
         "Paola",
         "Rossi",
         "Rossi Family"
        ],
        [
         "Called",
         "34",
         0.0,
         "34",
         "Valentina",
         "Bianchi",
         "Bianchi Family"
        ],
        [
         "Called",
         "42",
         0.0,
         "42",
         "Simona",
         "Moretti",
         "Moretti Family"
        ],
        [
         "Called",
         "46",
         0.0,
         "46",
         "Stefano",
         "Romano",
         "Romano Family"
        ],
        [
         "Called",
         "54",
         0.0,
         "54",
         "Sara",
         "Conti",
         "Conti Family"
        ],
        [
         "Called",
         "19",
         0.0,
         "19",
         "Federico",
         "Romano",
         "Romano Family"
        ],
        [
         "Called",
         "23",
         0.0,
         "23",
         "Andrea",
         "Marini",
         "Marini Family"
        ],
        [
         "Called",
         "35",
         0.0,
         "35",
         "Federica",
         "Bianchi",
         "Bianchi Family"
        ],
        [
         "Called",
         "39",
         0.0,
         "39",
         "Giorgio",
         "Ricci",
         "Ricci Family"
        ],
        [
         "Called",
         "43",
         0.0,
         "43",
         "Roberta",
         "Moretti",
         "Moretti Family"
        ],
        [
         "Called",
         "47",
         0.0,
         "47",
         "Elisa",
         "Romano",
         "Romano Family"
        ],
        [
         "Called",
         "55",
         0.0,
         "55",
         "Lorenzo",
         "Conti",
         "Conti Family"
        ],
        [
         "Called",
         "12",
         0.0,
         "12",
         "Laura",
         "Ricci",
         "Ricci Family"
        ],
        [
         "Called",
         "20",
         0.0,
         "20",
         "Martina",
         "Romano",
         "Romano Family"
        ],
        [
         "Called",
         "24",
         0.0,
         "24",
         "Francesca",
         "Marini",
         "Marini Family"
        ],
        [
         "Called",
         "32",
         0.0,
         "32",
         "Alice",
         "Rossi",
         "Rossi Family"
        ],
        [
         "Called",
         "36",
         0.0,
         "36",
         "Lorenzo",
         "Bianchi",
         "Bianchi Family"
        ],
        [
         "Called",
         "44",
         0.0,
         "44",
         "Alessandro",
         "Moretti",
         "Moretti Family"
        ],
        [
         "Called",
         "52",
         0.0,
         "52",
         "Federico",
         "Marini",
         "Marini Family"
        ],
        [
         "Called",
         "56",
         0.0,
         "56",
         "Francesca",
         "Conti",
         "Conti Family"
        ],
        [
         "Asked for Meeting With",
         "12",
         0.18597323,
         "12",
         "Laura",
         "Ricci",
         "Ricci Family"
        ],
        [
         "Asked for Meeting With",
         "11",
         0.16890012,
         "11",
         "Roberto",
         "Ricci",
         "Ricci Family"
        ],
        [
         "Asked for Meeting With",
         "9",
         0.1646128,
         "9",
         "Francesco",
         "Ricci",
         "Ricci Family"
        ],
        [
         "Asked for Meeting With",
         "10",
         0.13895944,
         "10",
         "Chiara",
         "Ricci",
         "Ricci Family"
        ],
        [
         "Asked for Meeting With",
         "13",
         0.02889319,
         "13",
         "Giovanni",
         "Moretti",
         "Moretti Family"
        ],
        [
         "Asked for Meeting With",
         "37",
         0.018324004,
         "37",
         "Marco",
         "Ricci",
         "Ricci Family"
        ],
        [
         "Asked for Meeting With",
         "27",
         0.01651622,
         "27",
         "Paolo",
         "Conti",
         "Conti Family"
        ],
        [
         "Asked for Meeting With",
         "22",
         0.015545692,
         "22",
         "Teresa",
         "Marini",
         "Marini Family"
        ],
        [
         "Asked for Meeting With",
         "46",
         0.015545692,
         "46",
         "Stefano",
         "Romano",
         "Romano Family"
        ],
        [
         "Asked for Meeting With",
         "35",
         0.015316124,
         "35",
         "Federica",
         "Bianchi",
         "Bianchi Family"
        ],
        [
         "Asked for Meeting With",
         "55",
         0.015316124,
         "55",
         "Lorenzo",
         "Conti",
         "Conti Family"
        ],
        [
         "Asked for Meeting With",
         "42",
         0.015208992,
         "42",
         "Simona",
         "Moretti",
         "Moretti Family"
        ],
        [
         "Asked for Meeting With",
         "49",
         0.0147637995,
         "49",
         "Marco",
         "Marini",
         "Marini Family"
        ],
        [
         "Asked for Meeting With",
         "33",
         0.014752576,
         "33",
         "Andrea",
         "Bianchi",
         "Bianchi Family"
        ],
        [
         "Asked for Meeting With",
         "53",
         0.014752576,
         "53",
         "Andrea",
         "Conti",
         "Conti Family"
        ],
        [
         "Asked for Meeting With",
         "50",
         0.014198891,
         "50",
         "Linda",
         "Marini",
         "Marini Family"
        ],
        [
         "Asked for Meeting With",
         "39",
         0.014089573,
         "39",
         "Giorgio",
         "Ricci",
         "Ricci Family"
        ],
        [
         "Asked for Meeting With",
         "29",
         0.013590159,
         "29",
         "Giorgio",
         "Rossi",
         "Rossi Family"
        ],
        [
         "Asked for Meeting With",
         "47",
         0.012431725,
         "47",
         "Elisa",
         "Romano",
         "Romano Family"
        ],
        [
         "Asked for Meeting With",
         "25",
         0.012370822,
         "25",
         "Mario",
         "Conti",
         "Conti Family"
        ],
        [
         "Asked for Meeting With",
         "43",
         0.012095024,
         "43",
         "Roberta",
         "Moretti",
         "Moretti Family"
        ],
        [
         "Asked for Meeting With",
         "44",
         0.011919192,
         "44",
         "Alessandro",
         "Moretti",
         "Moretti Family"
        ],
        [
         "Asked for Meeting With",
         "18",
         0.011755943,
         "18",
         "Lucia",
         "Romano",
         "Romano Family"
        ],
        [
         "Asked for Meeting With",
         "21",
         0.011733497,
         "21",
         "Luigi",
         "Marini",
         "Marini Family"
        ],
        [
         "Asked for Meeting With",
         "41",
         0.011396796,
         "41",
         "Luca",
         "Moretti",
         "Moretti Family"
        ],
        [
         "Asked for Meeting With",
         "51",
         0.01130939,
         "51",
         "Giulia",
         "Marini",
         "Marini Family"
        ],
        [
         "Asked for Meeting With",
         "52",
         0.011189675,
         "52",
         "Federico",
         "Marini",
         "Marini Family"
        ],
        [
         "Asked for Meeting With",
         "20",
         0.010852974,
         "20",
         "Martina",
         "Romano",
         "Romano Family"
        ],
        [
         "Asked for Meeting With",
         "34",
         0.010677968,
         "34",
         "Valentina",
         "Bianchi",
         "Bianchi Family"
        ],
        [
         "Asked for Meeting With",
         "54",
         0.010677968,
         "54",
         "Sara",
         "Conti",
         "Conti Family"
        ],
        [
         "Asked for Meeting With",
         "17",
         0.009993878,
         "17",
         "Carlo",
         "Romano",
         "Romano Family"
        ],
        [
         "Asked for Meeting With",
         "38",
         0.009788116,
         "38",
         "Elisa",
         "Ricci",
         "Ricci Family"
        ],
        [
         "Asked for Meeting With",
         "26",
         0.009687107,
         "26",
         "Elena",
         "Conti",
         "Conti Family"
        ],
        [
         "Asked for Meeting With",
         "32",
         0.009450056,
         "32",
         "Alice",
         "Rossi",
         "Rossi Family"
        ],
        [
         "Asked for Meeting With",
         "23",
         0.009289188,
         "23",
         "Andrea",
         "Marini",
         "Marini Family"
        ],
        [
         "Asked for Meeting With",
         "24",
         0.009113356,
         "24",
         "Francesca",
         "Marini",
         "Marini Family"
        ],
        [
         "Asked for Meeting With",
         "48",
         0.009001123,
         "48",
         "Mattia",
         "Romano",
         "Romano Family"
        ],
        [
         "Asked for Meeting With",
         "15",
         0.009000588,
         "15",
         "Matteo",
         "Moretti",
         "Moretti Family"
        ],
        [
         "Asked for Meeting With",
         "14",
         0.008733123,
         "14",
         "Anna",
         "Moretti",
         "Moretti Family"
        ],
        [
         "Asked for Meeting With",
         "45",
         0.008478726,
         "45",
         "Giulia",
         "Romano",
         "Romano Family"
        ],
        [
         "Asked for Meeting With",
         "19",
         0.008305275,
         "19",
         "Federico",
         "Romano",
         "Romano Family"
        ],
        [
         "Asked for Meeting With",
         "36",
         0.0070386403,
         "36",
         "Lorenzo",
         "Bianchi",
         "Bianchi Family"
        ],
        [
         "Asked for Meeting With",
         "56",
         0.0070386403,
         "56",
         "Francesca",
         "Conti",
         "Conti Family"
        ],
        [
         "Asked for Meeting With",
         "40",
         0.0064213565,
         "40",
         "Anna",
         "Ricci",
         "Ricci Family"
        ],
        [
         "Asked for Meeting With",
         "30",
         0.0053554303,
         "30",
         "Paola",
         "Rossi",
         "Rossi Family"
        ],
        [
         "Asked for Meeting With",
         "31",
         0.003599487,
         "31",
         "Fabio",
         "Rossi",
         "Rossi Family"
        ],
        [
         "Asked for Meeting With",
         "28",
         0.0033068783,
         "28",
         "Giuliana",
         "Conti",
         "Conti Family"
        ],
        [
         "Asked for Meeting With",
         "16",
         0.0029982363,
         "16",
         "Elena",
         "Moretti",
         "Moretti Family"
        ],
        [
         "Asked for Meeting With",
         "1",
         0.0013468013,
         "1",
         "Giuseppe",
         "Rossi",
         "Rossi Family"
        ],
        [
         "Asked for Meeting With",
         "4",
         0.0013468013,
         "4",
         "Sofia",
         "Rossi",
         "Rossi Family"
        ],
        [
         "Asked for Meeting With",
         "5",
         0.0013468013,
         "5",
         "Luca",
         "Bianchi",
         "Bianchi Family"
        ],
        [
         "Asked for Meeting With",
         "7",
         0.0013468013,
         "7",
         "Marco",
         "Bianchi",
         "Bianchi Family"
        ],
        [
         "Asked for Meeting With",
         "2",
         0.0,
         "2",
         "Maria",
         "Rossi",
         "Rossi Family"
        ],
        [
         "Asked for Meeting With",
         "3",
         0.0,
         "3",
         "Antonio",
         "Rossi",
         "Rossi Family"
        ],
        [
         "Asked for Meeting With",
         "6",
         0.0,
         "6",
         "Giulia",
         "Bianchi",
         "Bianchi Family"
        ],
        [
         "Asked for Meeting With",
         "8",
         0.0,
         "8",
         "Alessia",
         "Bianchi",
         "Bianchi Family"
        ]
       ],
       "datasetInfos": [],
       "dbfsResultPath": null,
       "isJsonSchema": true,
       "metadata": {},
       "overflow": false,
       "plotOptions": {
        "customPlotOptions": {},
        "displayType": "table",
        "pivotAggregation": null,
        "pivotColumns": null,
        "xColumns": null,
        "yColumns": null
       },
       "removedWidgets": [],
       "schema": [
        {
         "metadata": "{}",
         "name": "relation_type",
         "type": "\"string\""
        },
        {
         "metadata": "{}",
         "name": "node",
         "type": "\"string\""
        },
        {
         "metadata": "{}",
         "name": "betweenness_centrality",
         "type": "\"float\""
        },
        {
         "metadata": "{}",
         "name": "id",
         "type": "\"string\""
        },
        {
         "metadata": "{}",
         "name": "First Name",
         "type": "\"string\""
        },
        {
         "metadata": "{}",
         "name": "Last Name",
         "type": "\"string\""
        },
        {
         "metadata": "{}",
         "name": "Family",
         "type": "\"string\""
        }
       ],
       "type": "table"
      }
     },
     "output_type": "display_data"
    }
   ],
   "source": [
    "# Summarize results for betweenness centrality\n",
    "mafia_graph \\\n",
    "    .edges \\\n",
    "    .groupby(\"relation_type\") \\\n",
    "    .applyInPandas(nx_betweenness_centrality, output_schema_betweenness) \\\n",
    "    .alias(\"degree_df\") \\\n",
    "    .join(mafia_graph.vertices.alias(\"node_df\"), F.col(\"degree_df.node\") == F.col(\"node_df.id\")) \\\n",
    "    .orderBy(\"relation_type\", \"betweenness_centrality\", ascending=False) \\\n",
    "    .display()"
   ]
  },
  {
   "cell_type": "markdown",
   "metadata": {
    "application/vnd.databricks.v1+cell": {
     "cellMetadata": {
      "byteLimit": 2048000,
      "rowLimit": 10000
     },
     "inputWidgets": {},
     "nuid": "aac36b91-63e5-4944-b061-542be9b095ed",
     "showTitle": false,
     "title": ""
    }
   },
   "source": [
    "#### Bonus\n",
    "If would like to compute the overall influence, without regard to the relation type, you can use a *fictional* relation type by creating a column with a literal value, such as 1 or a string. Note that using networkx does not leverage the speed of Spark, unless we partition our network in some way. Since we have a network with weights, we can use a groupby to sum the weight, which automatically imposes a uniqueness condition. We still need our fictional groupby to use ``applyInPandas``."
   ]
  },
  {
   "cell_type": "code",
   "execution_count": 0,
   "metadata": {
    "application/vnd.databricks.v1+cell": {
     "cellMetadata": {
      "byteLimit": 2048000,
      "rowLimit": 10000
     },
     "inputWidgets": {},
     "nuid": "e6ce9ecb-57a2-417a-8201-33698cda0ea7",
     "showTitle": false,
     "title": ""
    }
   },
   "outputs": [
    {
     "output_type": "display_data",
     "data": {
      "text/html": [
       "<style scoped>\n",
       "  .table-result-container {\n",
       "    max-height: 300px;\n",
       "    overflow: auto;\n",
       "  }\n",
       "  table, th, td {\n",
       "    border: 1px solid black;\n",
       "    border-collapse: collapse;\n",
       "  }\n",
       "  th, td {\n",
       "    padding: 5px;\n",
       "  }\n",
       "  th {\n",
       "    text-align: left;\n",
       "  }\n",
       "</style><div class='table-result-container'><table class='table-result'><thead style='background-color: white'><tr><th>relation_type</th><th>node</th><th>in_degree_centrality</th><th>out_degree_centrality</th><th>id</th><th>First Name</th><th>Last Name</th><th>Family</th></tr></thead><tbody><tr><td>1</td><td>9</td><td>0.29090908</td><td>0.29090908</td><td>9</td><td>Francesco</td><td>Ricci</td><td>Ricci Family</td></tr><tr><td>1</td><td>13</td><td>0.29090908</td><td>0.29090908</td><td>13</td><td>Giovanni</td><td>Moretti</td><td>Moretti Family</td></tr><tr><td>1</td><td>1</td><td>0.29090908</td><td>0.29090908</td><td>1</td><td>Giuseppe</td><td>Rossi</td><td>Rossi Family</td></tr><tr><td>1</td><td>3</td><td>0.29090908</td><td>0.29090908</td><td>3</td><td>Antonio</td><td>Rossi</td><td>Rossi Family</td></tr><tr><td>1</td><td>6</td><td>0.27272728</td><td>0.27272728</td><td>6</td><td>Giulia</td><td>Bianchi</td><td>Bianchi Family</td></tr><tr><td>1</td><td>8</td><td>0.27272728</td><td>0.27272728</td><td>8</td><td>Alessia</td><td>Bianchi</td><td>Bianchi Family</td></tr><tr><td>1</td><td>11</td><td>0.27272728</td><td>0.27272728</td><td>11</td><td>Roberto</td><td>Ricci</td><td>Ricci Family</td></tr><tr><td>1</td><td>4</td><td>0.27272728</td><td>0.27272728</td><td>4</td><td>Sofia</td><td>Rossi</td><td>Rossi Family</td></tr><tr><td>1</td><td>7</td><td>0.27272728</td><td>0.27272728</td><td>7</td><td>Marco</td><td>Bianchi</td><td>Bianchi Family</td></tr><tr><td>1</td><td>5</td><td>0.27272728</td><td>0.27272728</td><td>5</td><td>Luca</td><td>Bianchi</td><td>Bianchi Family</td></tr><tr><td>1</td><td>2</td><td>0.27272728</td><td>0.27272728</td><td>2</td><td>Maria</td><td>Rossi</td><td>Rossi Family</td></tr><tr><td>1</td><td>12</td><td>0.27272728</td><td>0.27272728</td><td>12</td><td>Laura</td><td>Ricci</td><td>Ricci Family</td></tr><tr><td>1</td><td>10</td><td>0.25454545</td><td>0.25454545</td><td>10</td><td>Chiara</td><td>Ricci</td><td>Ricci Family</td></tr><tr><td>1</td><td>29</td><td>0.12727273</td><td>0.12727273</td><td>29</td><td>Giorgio</td><td>Rossi</td><td>Rossi Family</td></tr><tr><td>1</td><td>25</td><td>0.12727273</td><td>0.12727273</td><td>25</td><td>Mario</td><td>Conti</td><td>Conti Family</td></tr><tr><td>1</td><td>37</td><td>0.12727273</td><td>0.12727273</td><td>37</td><td>Marco</td><td>Ricci</td><td>Ricci Family</td></tr><tr><td>1</td><td>45</td><td>0.12727273</td><td>0.12727273</td><td>45</td><td>Giulia</td><td>Romano</td><td>Romano Family</td></tr><tr><td>1</td><td>33</td><td>0.12727273</td><td>0.12727273</td><td>33</td><td>Andrea</td><td>Bianchi</td><td>Bianchi Family</td></tr><tr><td>1</td><td>21</td><td>0.12727273</td><td>0.12727273</td><td>21</td><td>Luigi</td><td>Marini</td><td>Marini Family</td></tr><tr><td>1</td><td>49</td><td>0.12727273</td><td>0.12727273</td><td>49</td><td>Marco</td><td>Marini</td><td>Marini Family</td></tr><tr><td>1</td><td>53</td><td>0.12727273</td><td>0.12727273</td><td>53</td><td>Andrea</td><td>Conti</td><td>Conti Family</td></tr><tr><td>1</td><td>41</td><td>0.12727273</td><td>0.12727273</td><td>41</td><td>Luca</td><td>Moretti</td><td>Moretti Family</td></tr><tr><td>1</td><td>39</td><td>0.10909091</td><td>0.10909091</td><td>39</td><td>Giorgio</td><td>Ricci</td><td>Ricci Family</td></tr><tr><td>1</td><td>47</td><td>0.10909091</td><td>0.10909091</td><td>47</td><td>Elisa</td><td>Romano</td><td>Romano Family</td></tr><tr><td>1</td><td>17</td><td>0.10909091</td><td>0.10909091</td><td>17</td><td>Carlo</td><td>Romano</td><td>Romano Family</td></tr><tr><td>1</td><td>22</td><td>0.10909091</td><td>0.10909091</td><td>22</td><td>Teresa</td><td>Marini</td><td>Marini Family</td></tr><tr><td>1</td><td>46</td><td>0.10909091</td><td>0.10909091</td><td>46</td><td>Stefano</td><td>Romano</td><td>Romano Family</td></tr><tr><td>1</td><td>50</td><td>0.10909091</td><td>0.10909091</td><td>50</td><td>Linda</td><td>Marini</td><td>Marini Family</td></tr><tr><td>1</td><td>27</td><td>0.10909091</td><td>0.10909091</td><td>27</td><td>Paolo</td><td>Conti</td><td>Conti Family</td></tr><tr><td>1</td><td>55</td><td>0.10909091</td><td>0.10909091</td><td>55</td><td>Lorenzo</td><td>Conti</td><td>Conti Family</td></tr><tr><td>1</td><td>40</td><td>0.10909091</td><td>0.10909091</td><td>40</td><td>Anna</td><td>Ricci</td><td>Ricci Family</td></tr><tr><td>1</td><td>51</td><td>0.10909091</td><td>0.10909091</td><td>51</td><td>Giulia</td><td>Marini</td><td>Marini Family</td></tr><tr><td>1</td><td>48</td><td>0.10909091</td><td>0.10909091</td><td>48</td><td>Mattia</td><td>Romano</td><td>Romano Family</td></tr><tr><td>1</td><td>38</td><td>0.10909091</td><td>0.10909091</td><td>38</td><td>Elisa</td><td>Ricci</td><td>Ricci Family</td></tr><tr><td>1</td><td>42</td><td>0.10909091</td><td>0.10909091</td><td>42</td><td>Simona</td><td>Moretti</td><td>Moretti Family</td></tr><tr><td>1</td><td>44</td><td>0.10909091</td><td>0.10909091</td><td>44</td><td>Alessandro</td><td>Moretti</td><td>Moretti Family</td></tr><tr><td>1</td><td>35</td><td>0.10909091</td><td>0.10909091</td><td>35</td><td>Federica</td><td>Bianchi</td><td>Bianchi Family</td></tr><tr><td>1</td><td>15</td><td>0.10909091</td><td>0.10909091</td><td>15</td><td>Matteo</td><td>Moretti</td><td>Moretti Family</td></tr><tr><td>1</td><td>43</td><td>0.10909091</td><td>0.10909091</td><td>43</td><td>Roberta</td><td>Moretti</td><td>Moretti Family</td></tr><tr><td>1</td><td>52</td><td>0.10909091</td><td>0.10909091</td><td>52</td><td>Federico</td><td>Marini</td><td>Marini Family</td></tr><tr><td>1</td><td>54</td><td>0.09090909</td><td>0.09090909</td><td>54</td><td>Sara</td><td>Conti</td><td>Conti Family</td></tr><tr><td>1</td><td>19</td><td>0.09090909</td><td>0.09090909</td><td>19</td><td>Federico</td><td>Romano</td><td>Romano Family</td></tr><tr><td>1</td><td>20</td><td>0.09090909</td><td>0.09090909</td><td>20</td><td>Martina</td><td>Romano</td><td>Romano Family</td></tr><tr><td>1</td><td>36</td><td>0.09090909</td><td>0.09090909</td><td>36</td><td>Lorenzo</td><td>Bianchi</td><td>Bianchi Family</td></tr><tr><td>1</td><td>32</td><td>0.09090909</td><td>0.09090909</td><td>32</td><td>Alice</td><td>Rossi</td><td>Rossi Family</td></tr><tr><td>1</td><td>31</td><td>0.09090909</td><td>0.09090909</td><td>31</td><td>Fabio</td><td>Rossi</td><td>Rossi Family</td></tr><tr><td>1</td><td>56</td><td>0.09090909</td><td>0.09090909</td><td>56</td><td>Francesca</td><td>Conti</td><td>Conti Family</td></tr><tr><td>1</td><td>24</td><td>0.09090909</td><td>0.09090909</td><td>24</td><td>Francesca</td><td>Marini</td><td>Marini Family</td></tr><tr><td>1</td><td>23</td><td>0.09090909</td><td>0.09090909</td><td>23</td><td>Andrea</td><td>Marini</td><td>Marini Family</td></tr><tr><td>1</td><td>34</td><td>0.09090909</td><td>0.09090909</td><td>34</td><td>Valentina</td><td>Bianchi</td><td>Bianchi Family</td></tr><tr><td>1</td><td>14</td><td>0.09090909</td><td>0.09090909</td><td>14</td><td>Anna</td><td>Moretti</td><td>Moretti Family</td></tr><tr><td>1</td><td>16</td><td>0.09090909</td><td>0.09090909</td><td>16</td><td>Elena</td><td>Moretti</td><td>Moretti Family</td></tr><tr><td>1</td><td>26</td><td>0.09090909</td><td>0.09090909</td><td>26</td><td>Elena</td><td>Conti</td><td>Conti Family</td></tr><tr><td>1</td><td>18</td><td>0.09090909</td><td>0.09090909</td><td>18</td><td>Lucia</td><td>Romano</td><td>Romano Family</td></tr><tr><td>1</td><td>28</td><td>0.09090909</td><td>0.09090909</td><td>28</td><td>Giuliana</td><td>Conti</td><td>Conti Family</td></tr><tr><td>1</td><td>30</td><td>0.07272727</td><td>0.07272727</td><td>30</td><td>Paola</td><td>Rossi</td><td>Rossi Family</td></tr></tbody></table></div>"
      ]
     },
     "metadata": {
      "application/vnd.databricks.v1+output": {
       "addedWidgets": {},
       "aggData": [],
       "aggError": "",
       "aggOverflow": false,
       "aggSchema": [],
       "aggSeriesLimitReached": false,
       "aggType": "",
       "arguments": {},
       "columnCustomDisplayInfos": {},
       "data": [
        [
         "1",
         "9",
         0.29090908,
         0.29090908,
         "9",
         "Francesco",
         "Ricci",
         "Ricci Family"
        ],
        [
         "1",
         "13",
         0.29090908,
         0.29090908,
         "13",
         "Giovanni",
         "Moretti",
         "Moretti Family"
        ],
        [
         "1",
         "1",
         0.29090908,
         0.29090908,
         "1",
         "Giuseppe",
         "Rossi",
         "Rossi Family"
        ],
        [
         "1",
         "3",
         0.29090908,
         0.29090908,
         "3",
         "Antonio",
         "Rossi",
         "Rossi Family"
        ],
        [
         "1",
         "6",
         0.27272728,
         0.27272728,
         "6",
         "Giulia",
         "Bianchi",
         "Bianchi Family"
        ],
        [
         "1",
         "8",
         0.27272728,
         0.27272728,
         "8",
         "Alessia",
         "Bianchi",
         "Bianchi Family"
        ],
        [
         "1",
         "11",
         0.27272728,
         0.27272728,
         "11",
         "Roberto",
         "Ricci",
         "Ricci Family"
        ],
        [
         "1",
         "4",
         0.27272728,
         0.27272728,
         "4",
         "Sofia",
         "Rossi",
         "Rossi Family"
        ],
        [
         "1",
         "7",
         0.27272728,
         0.27272728,
         "7",
         "Marco",
         "Bianchi",
         "Bianchi Family"
        ],
        [
         "1",
         "5",
         0.27272728,
         0.27272728,
         "5",
         "Luca",
         "Bianchi",
         "Bianchi Family"
        ],
        [
         "1",
         "2",
         0.27272728,
         0.27272728,
         "2",
         "Maria",
         "Rossi",
         "Rossi Family"
        ],
        [
         "1",
         "12",
         0.27272728,
         0.27272728,
         "12",
         "Laura",
         "Ricci",
         "Ricci Family"
        ],
        [
         "1",
         "10",
         0.25454545,
         0.25454545,
         "10",
         "Chiara",
         "Ricci",
         "Ricci Family"
        ],
        [
         "1",
         "29",
         0.12727273,
         0.12727273,
         "29",
         "Giorgio",
         "Rossi",
         "Rossi Family"
        ],
        [
         "1",
         "25",
         0.12727273,
         0.12727273,
         "25",
         "Mario",
         "Conti",
         "Conti Family"
        ],
        [
         "1",
         "37",
         0.12727273,
         0.12727273,
         "37",
         "Marco",
         "Ricci",
         "Ricci Family"
        ],
        [
         "1",
         "45",
         0.12727273,
         0.12727273,
         "45",
         "Giulia",
         "Romano",
         "Romano Family"
        ],
        [
         "1",
         "33",
         0.12727273,
         0.12727273,
         "33",
         "Andrea",
         "Bianchi",
         "Bianchi Family"
        ],
        [
         "1",
         "21",
         0.12727273,
         0.12727273,
         "21",
         "Luigi",
         "Marini",
         "Marini Family"
        ],
        [
         "1",
         "49",
         0.12727273,
         0.12727273,
         "49",
         "Marco",
         "Marini",
         "Marini Family"
        ],
        [
         "1",
         "53",
         0.12727273,
         0.12727273,
         "53",
         "Andrea",
         "Conti",
         "Conti Family"
        ],
        [
         "1",
         "41",
         0.12727273,
         0.12727273,
         "41",
         "Luca",
         "Moretti",
         "Moretti Family"
        ],
        [
         "1",
         "39",
         0.10909091,
         0.10909091,
         "39",
         "Giorgio",
         "Ricci",
         "Ricci Family"
        ],
        [
         "1",
         "47",
         0.10909091,
         0.10909091,
         "47",
         "Elisa",
         "Romano",
         "Romano Family"
        ],
        [
         "1",
         "17",
         0.10909091,
         0.10909091,
         "17",
         "Carlo",
         "Romano",
         "Romano Family"
        ],
        [
         "1",
         "22",
         0.10909091,
         0.10909091,
         "22",
         "Teresa",
         "Marini",
         "Marini Family"
        ],
        [
         "1",
         "46",
         0.10909091,
         0.10909091,
         "46",
         "Stefano",
         "Romano",
         "Romano Family"
        ],
        [
         "1",
         "50",
         0.10909091,
         0.10909091,
         "50",
         "Linda",
         "Marini",
         "Marini Family"
        ],
        [
         "1",
         "27",
         0.10909091,
         0.10909091,
         "27",
         "Paolo",
         "Conti",
         "Conti Family"
        ],
        [
         "1",
         "55",
         0.10909091,
         0.10909091,
         "55",
         "Lorenzo",
         "Conti",
         "Conti Family"
        ],
        [
         "1",
         "40",
         0.10909091,
         0.10909091,
         "40",
         "Anna",
         "Ricci",
         "Ricci Family"
        ],
        [
         "1",
         "51",
         0.10909091,
         0.10909091,
         "51",
         "Giulia",
         "Marini",
         "Marini Family"
        ],
        [
         "1",
         "48",
         0.10909091,
         0.10909091,
         "48",
         "Mattia",
         "Romano",
         "Romano Family"
        ],
        [
         "1",
         "38",
         0.10909091,
         0.10909091,
         "38",
         "Elisa",
         "Ricci",
         "Ricci Family"
        ],
        [
         "1",
         "42",
         0.10909091,
         0.10909091,
         "42",
         "Simona",
         "Moretti",
         "Moretti Family"
        ],
        [
         "1",
         "44",
         0.10909091,
         0.10909091,
         "44",
         "Alessandro",
         "Moretti",
         "Moretti Family"
        ],
        [
         "1",
         "35",
         0.10909091,
         0.10909091,
         "35",
         "Federica",
         "Bianchi",
         "Bianchi Family"
        ],
        [
         "1",
         "15",
         0.10909091,
         0.10909091,
         "15",
         "Matteo",
         "Moretti",
         "Moretti Family"
        ],
        [
         "1",
         "43",
         0.10909091,
         0.10909091,
         "43",
         "Roberta",
         "Moretti",
         "Moretti Family"
        ],
        [
         "1",
         "52",
         0.10909091,
         0.10909091,
         "52",
         "Federico",
         "Marini",
         "Marini Family"
        ],
        [
         "1",
         "54",
         0.09090909,
         0.09090909,
         "54",
         "Sara",
         "Conti",
         "Conti Family"
        ],
        [
         "1",
         "19",
         0.09090909,
         0.09090909,
         "19",
         "Federico",
         "Romano",
         "Romano Family"
        ],
        [
         "1",
         "20",
         0.09090909,
         0.09090909,
         "20",
         "Martina",
         "Romano",
         "Romano Family"
        ],
        [
         "1",
         "36",
         0.09090909,
         0.09090909,
         "36",
         "Lorenzo",
         "Bianchi",
         "Bianchi Family"
        ],
        [
         "1",
         "32",
         0.09090909,
         0.09090909,
         "32",
         "Alice",
         "Rossi",
         "Rossi Family"
        ],
        [
         "1",
         "31",
         0.09090909,
         0.09090909,
         "31",
         "Fabio",
         "Rossi",
         "Rossi Family"
        ],
        [
         "1",
         "56",
         0.09090909,
         0.09090909,
         "56",
         "Francesca",
         "Conti",
         "Conti Family"
        ],
        [
         "1",
         "24",
         0.09090909,
         0.09090909,
         "24",
         "Francesca",
         "Marini",
         "Marini Family"
        ],
        [
         "1",
         "23",
         0.09090909,
         0.09090909,
         "23",
         "Andrea",
         "Marini",
         "Marini Family"
        ],
        [
         "1",
         "34",
         0.09090909,
         0.09090909,
         "34",
         "Valentina",
         "Bianchi",
         "Bianchi Family"
        ],
        [
         "1",
         "14",
         0.09090909,
         0.09090909,
         "14",
         "Anna",
         "Moretti",
         "Moretti Family"
        ],
        [
         "1",
         "16",
         0.09090909,
         0.09090909,
         "16",
         "Elena",
         "Moretti",
         "Moretti Family"
        ],
        [
         "1",
         "26",
         0.09090909,
         0.09090909,
         "26",
         "Elena",
         "Conti",
         "Conti Family"
        ],
        [
         "1",
         "18",
         0.09090909,
         0.09090909,
         "18",
         "Lucia",
         "Romano",
         "Romano Family"
        ],
        [
         "1",
         "28",
         0.09090909,
         0.09090909,
         "28",
         "Giuliana",
         "Conti",
         "Conti Family"
        ],
        [
         "1",
         "30",
         0.07272727,
         0.07272727,
         "30",
         "Paola",
         "Rossi",
         "Rossi Family"
        ]
       ],
       "datasetInfos": [],
       "dbfsResultPath": null,
       "isJsonSchema": true,
       "metadata": {},
       "overflow": false,
       "plotOptions": {
        "customPlotOptions": {},
        "displayType": "table",
        "pivotAggregation": null,
        "pivotColumns": null,
        "xColumns": null,
        "yColumns": null
       },
       "removedWidgets": [],
       "schema": [
        {
         "metadata": "{}",
         "name": "relation_type",
         "type": "\"string\""
        },
        {
         "metadata": "{}",
         "name": "node",
         "type": "\"string\""
        },
        {
         "metadata": "{}",
         "name": "in_degree_centrality",
         "type": "\"float\""
        },
        {
         "metadata": "{}",
         "name": "out_degree_centrality",
         "type": "\"float\""
        },
        {
         "metadata": "{}",
         "name": "id",
         "type": "\"string\""
        },
        {
         "metadata": "{}",
         "name": "First Name",
         "type": "\"string\""
        },
        {
         "metadata": "{}",
         "name": "Last Name",
         "type": "\"string\""
        },
        {
         "metadata": "{}",
         "name": "Family",
         "type": "\"string\""
        }
       ],
       "type": "table"
      }
     },
     "output_type": "display_data"
    }
   ],
   "source": [
    "mafia_graph \\\n",
    "    .edges \\\n",
    "    .withColumn(\"relation_type\", F.lit(\"1\")) \\\n",
    "    .groupby([\"src\", \"dst\", \"relation_type\"]) \\\n",
    "    .agg(F.sum(\"weight\").alias(\"weight\")) \\\n",
    "    .groupby(\"relation_type\") \\\n",
    "    .applyInPandas(nx_degree_centrality, output_schema_degree) \\\n",
    "    .alias(\"degree_df\") \\\n",
    "    .join(mafia_graph.vertices.alias(\"node_df\"), F.col(\"degree_df.node\") == F.col(\"node_df.id\")) \\\n",
    "    .orderBy(\"relation_type\", \"in_degree_centrality\", ascending=False) \\\n",
    "    .display()"
   ]
  },
  {
   "cell_type": "markdown",
   "metadata": {
    "application/vnd.databricks.v1+cell": {
     "cellMetadata": {
      "byteLimit": 2048000,
      "rowLimit": 10000
     },
     "inputWidgets": {},
     "nuid": "f39cbe9e-2891-4dfe-9272-f24fce6f3e5d",
     "showTitle": false,
     "title": ""
    }
   },
   "source": []
  }
 ],
 "metadata": {
  "application/vnd.databricks.v1+notebook": {
   "dashboards": [],
   "environmentMetadata": null,
   "language": "python",
   "notebookMetadata": {
    "mostRecentlyExecutedCommandWithImplicitDF": {
     "commandId": 3646305723147179,
     "dataframes": [
      "_sqldf"
     ]
    },
    "pythonIndentUnit": 4
   },
   "notebookName": "lab10_bda_solved",
   "widgets": {}
  }
 },
 "nbformat": 4,
 "nbformat_minor": 0
}
