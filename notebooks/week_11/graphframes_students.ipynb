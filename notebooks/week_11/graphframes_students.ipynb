{
 "cells": [
  {
   "cell_type": "markdown",
   "metadata": {
    "application/vnd.databricks.v1+cell": {
     "cellMetadata": {},
     "inputWidgets": {},
     "nuid": "6c101d94-0744-44f3-ac7d-f508f1662a0e",
     "showTitle": false,
     "title": ""
    }
   },
   "source": [
    "# Spark GraphFrames - Student Version\n",
    "\n",
    "Before running present notebook please install the GraphFrames package into your cluster by following the steps in the pdf available with this notebook.  \n",
    "To check you have everything setup correctly run the below code and make sure there are no errors. If you get a message about connecting to a cluster click ok."
   ]
  },
  {
   "cell_type": "code",
   "execution_count": 0,
   "metadata": {
    "application/vnd.databricks.v1+cell": {
     "cellMetadata": {
      "byteLimit": 2048000,
      "rowLimit": 10000
     },
     "inputWidgets": {},
     "nuid": "833c09ad-41e2-432c-a910-8de95829a5a3",
     "showTitle": false,
     "title": ""
    }
   },
   "outputs": [],
   "source": [
    "#import the package we just installed\n",
    "from graphframes import *\n",
    "#import data types - All data types of Spark SQL are located in the package of pyspark.sql.types\n",
    "from pyspark.sql.types import *\n",
    "#row can be used to create a row object by using named arguments\n",
    "from pyspark.sql import Row\n",
    "from pyspark.sql.functions import col\n"
   ]
  },
  {
   "cell_type": "markdown",
   "metadata": {
    "application/vnd.databricks.v1+cell": {
     "cellMetadata": {},
     "inputWidgets": {},
     "nuid": "6f320ffa-f632-4ebe-bc55-9b5122229cd0",
     "showTitle": false,
     "title": ""
    }
   },
   "source": [
    "<b>Graphs:</b> Graphs are mathematical structures used to model pairwise relations between objects. A graph in this context is made up of vertices (also called nodes or points) which are connected by edges (also called links or lines). A distinction is made between undirected graphs, where edges link two vertices symmetrically, and directed graphs, where edges link two vertices asymmetrically; see Graph (discrete mathematics) for more detailed definitions and for other variations in the types of graph that are commonly considered (follow this link: https://en.wikipedia.org/wiki/Graph_(discrete_mathematics)). Graphs are one of the prime objects of study in discrete mathematics.\n",
    "\n",
    "![image](https://mathinsight.org/media/image/image/small_undirected_network_labeled.png)\n",
    "\n",
    "Graph processing is important aspect of analysis that applies to a lot of use cases. Fundamentally graph theory and processing are about defining relationships between different nodes and edges. Nodes or vertices are the units while edges define the relationships between nodes. This works great for social network analysis and running algorithms like PageRank to better understand and weigh relationships.\n",
    "\n",
    "Some business use cases could be to look at central people in social networks [who is most popular in a group of friends], importance of papers in bibliographic networks [which papers are most referenced], and of course ranking web pages.\n",
    "\n",
    "## Pagerank\n",
    "\n",
    "For this class we will look into the page rank algorithm again but this time  from another point of view. As you might remenber, the page rank of a particular web page indicates its relative importance within a group of web pages. The higher the page rank, the higher up it will appear in a search result list. The importance of a page is defined by the importance of all the web pages that provide an outbound link to the web page in consideration. For example, say that web page X has very high relative importance. Web page X is outbounding to web page Y (webpage X links to Y); hence, web page Y will also have high importance. However, if webpage X links to many webpages, including Y, the importance of Y is lower.\n",
    "\n",
    "For more information on pagerank you either:\n",
    "\n",
    "Follow through the worked example: https://www.cs.princeton.edu/~chazelle/courses/BIB/pagerank.htm\n",
    "\n",
    "Take a look at one of the many youtube explanations, for example (10min): https://www.youtube.com/watch?v=qpIqLjfcabs\n",
    "\n",
    "Part of what is important here is to understand the data format we use to represent a graph. I have commented the steps below:"
   ]
  },
  {
   "cell_type": "code",
   "execution_count": 0,
   "metadata": {
    "application/vnd.databricks.v1+cell": {
     "cellMetadata": {
      "byteLimit": 2048000,
      "rowLimit": 10000
     },
     "inputWidgets": {},
     "nuid": "8e10d01f-b770-4b03-b176-6c35e5e98b0d",
     "showTitle": false,
     "title": ""
    }
   },
   "outputs": [],
   "source": [
    "# First we start with the list of vertices, I have 5 vertices here, each named with a letter of the alphabet\n",
    "verticesList = ['a', 'b', 'c', 'd']\n",
    "# We load this list into an RDD as we have seen before\n",
    "verticesListRDD = sc.parallelize(verticesList, 1)\n",
    "# We convert this RDD to a dataframe using row objects and specifying a schema.\n",
    "verticesListRowsRDD = verticesListRDD.map( lambda data : Row(data))\n",
    "verticesSchema = StructType([StructField('id', StringType(), True)])\n",
    "verticesDataFrame = verticesListRowsRDD.toDF(verticesSchema).persist()\n",
    "#Here I show the schema of the Dataframe.\n",
    "verticesDataFrame.show()"
   ]
  },
  {
   "cell_type": "markdown",
   "metadata": {
    "application/vnd.databricks.v1+cell": {
     "cellMetadata": {},
     "inputWidgets": {},
     "nuid": "fa37f9d9-bc68-413b-be4c-2547c29bfb92",
     "showTitle": false,
     "title": ""
    }
   },
   "source": [
    "Next we need to know how the vertices are connected, a list of edges. The process is very similar to that we just saw.\n",
    "\n",
    "First, we have to create a list of edges. Each edge in the list will be defined by a tuple.\n",
    "\n",
    "Then, we have to create an RDD of edges.\n",
    "\n",
    "Thereafter, we have to transform our RDD to an RDD of row objects. This will be followed by creating a schema and a DataFrame of edges. Let’s perform the steps:"
   ]
  },
  {
   "cell_type": "code",
   "execution_count": 0,
   "metadata": {
    "application/vnd.databricks.v1+cell": {
     "cellMetadata": {
      "byteLimit": 2048000,
      "rowLimit": 10000
     },
     "inputWidgets": {},
     "nuid": "7f4af656-311a-4d2e-9cc1-6f2b7aaeebe2",
     "showTitle": false,
     "title": ""
    }
   },
   "outputs": [],
   "source": [
    "edgeDataList = [('a','b'), ('a','c'), ('a','d'), ('b', 'c'),\n",
    "('b', 'd'),('c', 'b'), ('d', 'a'), ('d', 'c')]\n",
    "sourceColumn = StructField('src', StringType(),True)\n",
    "destinationColumn = StructField('dst', StringType(), True)\n",
    "edgeSchema = StructType([sourceColumn, destinationColumn])\n",
    "edgeRDD = sc.parallelize(edgeDataList, 1)\n",
    "edgeRDDRows = edgeRDD.map( lambda data : Row(data[0], data[1]))\n",
    "edgeDataFrame = edgeRDDRows.toDF(edgeSchema).persist()\n",
    "edgeDataFrame.show()"
   ]
  },
  {
   "cell_type": "markdown",
   "metadata": {
    "application/vnd.databricks.v1+cell": {
     "cellMetadata": {},
     "inputWidgets": {},
     "nuid": "729a937f-01cd-4539-b550-8ce5d0b2fdbb",
     "showTitle": false,
     "title": ""
    }
   },
   "source": [
    "At this moment, we have `verticesDataFrame`, a DataFrame of vertices; and `edgeDataFrame`, a DataFrames of edges. Using these two, we can create our graph. The GraphFrame Python class is defined under the `graphframes.graphframe` submodule. GraphFrame() takes the vertices and edges DataFrames and returns a GraphFrames object. We have our `GraphFrames` object, `ourGraph`. We can fetch all the vertices as follows: In `GraphFrames`, we can create a graph by using the following code lines:\n",
    "\n",
    "**If you get an error on the below cell make sure you installed the correct version of dataframes**"
   ]
  },
  {
   "cell_type": "code",
   "execution_count": 0,
   "metadata": {
    "application/vnd.databricks.v1+cell": {
     "cellMetadata": {
      "byteLimit": 2048000,
      "rowLimit": 10000
     },
     "inputWidgets": {},
     "nuid": "55e4208a-5791-4aab-b4e0-75d66aba017f",
     "showTitle": false,
     "title": ""
    }
   },
   "outputs": [],
   "source": [
    "ourGraph = GraphFrame(verticesDataFrame, edgeDataFrame)\n",
    "ourGraph.vertices.show()\n",
    "ourGraph.edges.show()"
   ]
  },
  {
   "cell_type": "markdown",
   "metadata": {
    "application/vnd.databricks.v1+cell": {
     "cellMetadata": {},
     "inputWidgets": {},
     "nuid": "6c84c1fb-5640-47d9-b3e7-1d18e8b5cfbb",
     "showTitle": false,
     "title": ""
    }
   },
   "source": [
    "#### VISUALIZATION OF THE NETWORK\n",
    "note that the library that i will use to visualize the network is not a big data scale graph visualization tool. This serves ONLY for you to have a idea of the graph we just created.\n",
    "\n",
    "for you reference big data capable software tools are:\n",
    "\n",
    "* Gephi: Gephi is a popular open-source network visualization tool capable of handling networks with up to a million nodes and edges.\n",
    "\n",
    "* Graphistry: Graphistry uses GPU acceleration for handling and visualizing large graphs and can be integrated with PySpark. However, it's a commercial product.\n"
   ]
  },
  {
   "cell_type": "code",
   "execution_count": 0,
   "metadata": {
    "application/vnd.databricks.v1+cell": {
     "cellMetadata": {
      "byteLimit": 2048000,
      "rowLimit": 10000
     },
     "inputWidgets": {},
     "nuid": "afd288ea-ec1c-46bd-91c4-d2142d6695b7",
     "showTitle": false,
     "title": ""
    }
   },
   "outputs": [],
   "source": [
    "# Requirements\n",
    "!pip install 'scipy>=1.8'\n",
    "!pip install 'networkx<2.7'"
   ]
  },
  {
   "cell_type": "code",
   "execution_count": 0,
   "metadata": {
    "application/vnd.databricks.v1+cell": {
     "cellMetadata": {
      "byteLimit": 2048000,
      "rowLimit": 10000
     },
     "inputWidgets": {},
     "nuid": "87f83458-e479-4986-85df-22a8677b4077",
     "showTitle": false,
     "title": ""
    }
   },
   "outputs": [],
   "source": [
    "import networkx as nx\n",
    "import matplotlib.pyplot as plt\n",
    "\n",
    "# Create a new directed graph\n",
    "G = nx.DiGraph()\n",
    "\n",
    "# Add vertices to the graph\n",
    "for vertex in verticesList:\n",
    "    G.add_node(vertex)\n",
    "\n",
    "# Add edges to the graph\n",
    "for edge in edgeDataList:\n",
    "    G.add_edge(edge[0], edge[1])\n",
    "\n",
    "# Draw the graph\n",
    "nx.draw(G, with_labels=True, node_color='lightblue', font_weight='bold', arrows=True)\n",
    "plt.show()"
   ]
  },
  {
   "cell_type": "markdown",
   "metadata": {
    "application/vnd.databricks.v1+cell": {
     "cellMetadata": {},
     "inputWidgets": {},
     "nuid": "1092b093-55ba-4a67-ba02-92c03fc64b8e",
     "showTitle": false,
     "title": ""
    }
   },
   "source": [
    "### Some simple analysis"
   ]
  },
  {
   "cell_type": "code",
   "execution_count": 0,
   "metadata": {
    "application/vnd.databricks.v1+cell": {
     "cellMetadata": {
      "byteLimit": 2048000,
      "rowLimit": 10000
     },
     "inputWidgets": {},
     "nuid": "0758d932-6d68-4390-8893-2391695059e8",
     "showTitle": false,
     "title": ""
    }
   },
   "outputs": [],
   "source": [
    "# View the inDegrees (the number of edges directed into a vertex)\n"
   ]
  },
  {
   "cell_type": "code",
   "execution_count": 0,
   "metadata": {
    "application/vnd.databricks.v1+cell": {
     "cellMetadata": {
      "byteLimit": 2048000,
      "rowLimit": 10000
     },
     "inputWidgets": {},
     "nuid": "42936304-f43b-4e92-93a7-602f08a92f08",
     "showTitle": false,
     "title": ""
    }
   },
   "outputs": [],
   "source": [
    "# View the outDegrees (the number of edges directed out of a vertex)\n"
   ]
  },
  {
   "cell_type": "markdown",
   "metadata": {
    "application/vnd.databricks.v1+cell": {
     "cellMetadata": {},
     "inputWidgets": {},
     "nuid": "17416c8b-c0f8-43d8-b741-96400eff5395",
     "showTitle": false,
     "title": ""
    }
   },
   "source": [
    "Page rank for pages can be found by using the `pageRank()` function, which is defined on the GraphFrames object.\n",
    "\n",
    "`pageRank()` function take two arguments: first is resetProbability (is the alpha explained below) and the second is maxIter\n",
    "\n",
    "Informally Page Rank Explanation: consider someone browsing the web (\"surfer\"). At every page, the surfer either follows a link on the page to another page or does something else. When following a link, without any other information, the surfer picks a link from the page at random and follows that one. When “doing something else,” the surfer moves to a random page on the web and restarts the surfing. To generate a simple model, we assume both of these behaviors even though they may seem ridiculous. When stated mathematically, this random surfer model is called a Markov chain because the behavior of the surfer only depends upon the current page and not the history of previous pages. Let α be the probability that the surfer follows a link; then 1 − α is the probability that the surfer “does something else.” \n",
    "\n",
    "Now imagine that we let the surfer run for a long time. The PageRank of a page is the probability of finding the surfer at that page as the surfing time becomes infinite. A key assumption behind PageRank is that pages where we are more likely to find the random surfer are more important pages and thus we can view the PageRank as a measure of the page’s importance.\n",
    "\n",
    "<img src=\"https://upload.wikimedia.org/wikipedia/commons/6/69/PageRank-hi-res.png\" style=\"width:750px\">\n",
    "\n",
    "*Source: https://web.stanford.edu/group/SOL/dissertations/pagerank-sensitivity-thesis-online.pdf*"
   ]
  },
  {
   "cell_type": "code",
   "execution_count": 0,
   "metadata": {
    "application/vnd.databricks.v1+cell": {
     "cellMetadata": {
      "byteLimit": 2048000,
      "rowLimit": 10000
     },
     "inputWidgets": {},
     "nuid": "5d8ba3f3-a6f5-4192-940b-2adec23675b3",
     "showTitle": false,
     "title": ""
    }
   },
   "outputs": [],
   "source": [
    "# Calculate the Pagerank with resetProbability=0.15 and maxIter = 5\n"
   ]
  },
  {
   "cell_type": "code",
   "execution_count": 0,
   "metadata": {
    "application/vnd.databricks.v1+cell": {
     "cellMetadata": {
      "byteLimit": 2048000,
      "rowLimit": 10000
     },
     "inputWidgets": {},
     "nuid": "0330191c-a9ec-4d89-846e-15285b3e249f",
     "showTitle": false,
     "title": ""
    }
   },
   "outputs": [],
   "source": []
  },
  {
   "cell_type": "markdown",
   "metadata": {
    "application/vnd.databricks.v1+cell": {
     "cellMetadata": {},
     "inputWidgets": {},
     "nuid": "21aee473-493d-40eb-8bc1-2903a608ec57",
     "showTitle": false,
     "title": ""
    }
   },
   "source": [
    "## More graphframes applications"
   ]
  },
  {
   "cell_type": "markdown",
   "metadata": {
    "application/vnd.databricks.v1+cell": {
     "cellMetadata": {},
     "inputWidgets": {},
     "nuid": "d43984a6-1986-43e6-9344-74aad5688c2a",
     "showTitle": false,
     "title": ""
    }
   },
   "source": [
    "Let's look at a slightly more interesting dataset. Look at the code below, you should see we are loading a number of people as vertices, then they can either connect as friends (bi-directional) or one can follow another (uni directional)."
   ]
  },
  {
   "cell_type": "code",
   "execution_count": 0,
   "metadata": {
    "application/vnd.databricks.v1+cell": {
     "cellMetadata": {
      "byteLimit": 2048000,
      "rowLimit": 10000
     },
     "inputWidgets": {},
     "nuid": "ab58f5e5-5ae1-4d3d-9343-19a88c59d8f5",
     "showTitle": false,
     "title": ""
    }
   },
   "outputs": [],
   "source": [
    "\n",
    "vertices = spark.createDataFrame([('1', 'Carter', 'Derrick', 50), \n",
    "                                  ('2', 'May', 'Derrick', 26),\n",
    "                                 ('3', 'Mills', 'Jeff', 80),\n",
    "                                  ('4', 'Hood', 'Robert', 65),\n",
    "                                  ('5', 'Banks', 'Mike', 93),\n",
    "                                 ('98', 'Berg', 'Tim', 28),\n",
    "                                 ('99', 'Page', 'Allan', 16)],\n",
    "                                 ['id', 'name', 'firstname', 'age'])\n",
    "edges = spark.createDataFrame([('1', '2', 'friend'), \n",
    "                               ('2', '1', 'friend'),\n",
    "                              ('3', '1', 'friend'),\n",
    "                              ('1', '3', 'friend'),\n",
    "                               ('2', '3', 'follows'),\n",
    "                               ('1', '4', 'follows'),\n",
    "                               ('4', '5', 'follows'),\n",
    "                               ('3', '4', 'friend'),\n",
    "                               ('4', '3', 'friend'),\n",
    "                               ('5', '3', 'friend'),\n",
    "                               ('3', '5', 'friend'),\n",
    "                               ('4', '5', 'follows'),\n",
    "                              ('98', '99', 'friend'),\n",
    "                              ('99', '98', 'friend')],\n",
    "                              ['src', 'dst', 'type'])\n",
    "g = GraphFrame(vertices, edges)\n",
    "## Take a look at the DataFrames\n",
    "g.vertices.show()\n",
    "g.edges.show()\n",
    "## Check the number of edges of each vertex\n",
    "g.degrees.show()"
   ]
  },
  {
   "cell_type": "markdown",
   "metadata": {
    "application/vnd.databricks.v1+cell": {
     "cellMetadata": {},
     "inputWidgets": {},
     "nuid": "abb354b3-c6c9-4673-97b1-4a5b3b748542",
     "showTitle": false,
     "title": ""
    }
   },
   "source": [
    "Undirected graphs have edges that do not have a direction. The edges indicate a two-way relationship, in that each edge can be traversed in both directions. If your DataFrame only consist of two-way directed edges, you may be interested in analyzing undirected edges. You can convert your graph by mapping a function over the edges DataFrame that deletes the row if src ≥ dst (or the other way around). Then each edge is only included once.\n",
    "\n",
    "Start from the dataframe called edges, notice that directional edges are listed [a,b, follows] where a < b (so the lowest number edge is listed first), uniderctional edges are listed twice.\n",
    "\n"
   ]
  },
  {
   "cell_type": "code",
   "execution_count": 0,
   "metadata": {
    "application/vnd.databricks.v1+cell": {
     "cellMetadata": {
      "byteLimit": 2048000,
      "rowLimit": 10000
     },
     "inputWidgets": {},
     "nuid": "5bf3a06f-b3bc-4515-b28d-6f4e4f997280",
     "showTitle": false,
     "title": ""
    }
   },
   "outputs": [],
   "source": [
    "# Create a new dataframe edge that only contains edges in one direction (src > dst) to identify the friends links\n"
   ]
  },
  {
   "cell_type": "markdown",
   "metadata": {
    "application/vnd.databricks.v1+cell": {
     "cellMetadata": {},
     "inputWidgets": {},
     "nuid": "e1a8952d-eab8-417a-acc8-6db9cb9804a8",
     "showTitle": false,
     "title": ""
    }
   },
   "source": [
    "We can filter edges and vertices directly as well. If we want to work with a GraphFrame with only follows and people over 30 for example we can use a subgraph, for example:"
   ]
  },
  {
   "cell_type": "code",
   "execution_count": 0,
   "metadata": {
    "application/vnd.databricks.v1+cell": {
     "cellMetadata": {
      "byteLimit": 2048000,
      "rowLimit": 10000
     },
     "inputWidgets": {},
     "nuid": "e4569a4a-f6ae-4480-8311-46e0c9ae32b1",
     "showTitle": false,
     "title": ""
    }
   },
   "outputs": [],
   "source": [
    "# filterEdges with \"type = 'follows'\" and filterVertices with \"age > 30\" and show the edges\n"
   ]
  },
  {
   "cell_type": "markdown",
   "metadata": {
    "application/vnd.databricks.v1+cell": {
     "cellMetadata": {},
     "inputWidgets": {},
     "nuid": "8e3bdda0-2b81-4d74-a921-5687641f7084",
     "showTitle": false,
     "title": ""
    }
   },
   "source": [
    "<b> Degrees </b> One question we might be interested in is how many inbound and outbound connections each vertices has, we can use the inDegrees and outDegrees functions to calculate this:"
   ]
  },
  {
   "cell_type": "code",
   "execution_count": 0,
   "metadata": {
    "application/vnd.databricks.v1+cell": {
     "cellMetadata": {
      "byteLimit": 2048000,
      "rowLimit": 10000
     },
     "inputWidgets": {},
     "nuid": "49f6b681-a2a6-4bae-b660-862aa1c74585",
     "showTitle": false,
     "title": ""
    }
   },
   "outputs": [],
   "source": []
  },
  {
   "cell_type": "markdown",
   "metadata": {
    "application/vnd.databricks.v1+cell": {
     "cellMetadata": {},
     "inputWidgets": {},
     "nuid": "dce41d21-36d3-474f-b679-b4b34b0acb5d",
     "showTitle": false,
     "title": ""
    }
   },
   "source": [
    "<b> Motif </b> All networks, including biological networks, social networks, technological networks (e.g., computer networks and electrical circuits) and more, can be represented as graphs, which include a wide variety of subgraphs. One important local property of networks are so-called network motifs, which are defined as recurrent and statistically significant sub-graphs or patterns.\n",
    "\n",
    "Network motifs are sub-graphs that repeat themselves in a specific network or even among various networks. Each of these sub-graphs, defined by a particular pattern of interactions between vertices, may reflect a framework in which particular functions are achieved efficiently. Indeed, motifs are of notable importance largely because they may reflect functional properties. They have recently gathered much attention as a useful concept to uncover structural design principles of complex networks. Although network motifs may provide a deep insight into the network’s functional abilities, their detection is computationally challenging.\n",
    "\n",
    "GraphFrame motif finding uses a simple Domain-Specific Language (DSL) for expressing structural queries. For example, graph.find(\"(a)-[e]->(b); (b)-[e2]->(a)\") will search for pairs of vertices a,b connected by edges in both directions. It will return a DataFrame of all such structures in the graph, with columns for each of the named elements (vertices or edges) in the motif. In this case, the returned columns will be “a, b, e, e2.”\n",
    "\n",
    "DSL for expressing structural patterns:\n",
    "\n",
    "The basic unit of a pattern is an edge. For example, \"(a)-[e]->(b)\" expresses an edge e from vertex a to vertex b. Note that vertices are denoted by parentheses (a), while edges are denoted by square brackets [e].\n",
    "\n",
    "A pattern is expressed as a union of edges. Edge patterns can be joined with semicolons. Motif \"(a)-[e]->(b); (b)-[e2]->(c)\" specifies two edges from a to b to c.\n",
    "\n",
    "Within a pattern, names can be assigned to vertices and edges. For example, \"(a)-[e]->(b)\" has three named elements: vertices a,b and edge e. These names serve two purposes:\n",
    "\n",
    "*  The names can identify common elements among edges. For example, \"(a)-[e]->(b); (b)-[e2]->(c)\" specifies that the same vertex b is the destination of edge e and source of edge e2.\n",
    "\n",
    "*  The names are used as column names in the result DataFrame. If a motif contains named vertex a, then the result DataFrame will contain a column “a” which is a StructType with sub-fields equivalent to the schema (columns) of GraphFrame.vertices. Similarly, an edge e in a motif will produce a column “e” in the result DataFrame with sub-fields equivalent to the schema (columns) of GraphFrame.edges.\n",
    "\n",
    "*  Be aware that names do not identify distinct elements: two elements with different names may refer to the same graph element. For example, in the motif \"(a)-[e]->(b); (b)-[e2]->(c)\", the names a and c could refer to the same vertex. To restrict named elements to be distinct vertices or edges, use post-hoc filters such as resultDataframe.filter(\"a.id != c.id\").\n",
    "\n",
    "It is acceptable to omit names for vertices or edges in motifs when not needed. E.g., \"(a)-[]->(b)\" expresses an edge between vertices a,b but does not assign a name to the edge. There will be no column for the anonymous edge in the result DataFrame. Similarly, \"(a)-[e]->()\" indicates an out-edge of vertex a but does not name the destination vertex. These are called anonymous vertices and edges.\n",
    "\n",
    "An edge can be negated to indicate that the edge should not be present in the graph. E.g., \"(a)-[]->(b); !(b)-[]->(a)\" finds edges from a to b for which there is no edge from b to a.\n",
    "\n",
    "For more information: http://graphframes.github.io/graphframes/docs/_site/user-guide.html#motif-finding\n",
    "\n",
    "A worked example is available here with a few motif patterns applied. They use Scala as opposed to Python but you can ignore the code outside of the patterns they use: http://www.twesdai.com/2017/09/15/motif-analysis-using-apache-spark-graphframes/\n",
    "\n",
    "Let's look at a simple example to try to make how this works clear. "
   ]
  },
  {
   "cell_type": "code",
   "execution_count": 0,
   "metadata": {
    "application/vnd.databricks.v1+cell": {
     "cellMetadata": {},
     "inputWidgets": {},
     "nuid": "bd04018f-8392-4833-ab0b-95bd6dc0b706",
     "showTitle": false,
     "title": ""
    }
   },
   "outputs": [],
   "source": [
    "# find where a is connected to b, but b is not connected to a\n"
   ]
  },
  {
   "cell_type": "markdown",
   "metadata": {
    "application/vnd.databricks.v1+cell": {
     "cellMetadata": {},
     "inputWidgets": {},
     "nuid": "914b02ba-270b-454a-b551-4ef91c1e7fe1",
     "showTitle": false,
     "title": ""
    }
   },
   "source": [
    "We could find the same by specifing a condition on the edges by naming the edge in the find e1 and using filter \"e1.type = 'follows'\""
   ]
  },
  {
   "cell_type": "code",
   "execution_count": 0,
   "metadata": {
    "application/vnd.databricks.v1+cell": {
     "cellMetadata": {},
     "inputWidgets": {},
     "nuid": "ec8668c5-e7ac-409a-91b7-f2b1161526fb",
     "showTitle": false,
     "title": ""
    }
   },
   "outputs": [],
   "source": []
  },
  {
   "cell_type": "markdown",
   "metadata": {
    "application/vnd.databricks.v1+cell": {
     "cellMetadata": {},
     "inputWidgets": {},
     "nuid": "57238063-cb6e-4794-a132-abd495277025",
     "showTitle": false,
     "title": ""
    }
   },
   "source": [
    "Find everyone connected to someone under 30. Display their id, name and age using select on \"b.id\",\"b.name\",\"b.age\""
   ]
  },
  {
   "cell_type": "code",
   "execution_count": 0,
   "metadata": {
    "application/vnd.databricks.v1+cell": {
     "cellMetadata": {
      "byteLimit": 2048000,
      "rowLimit": 10000
     },
     "inputWidgets": {},
     "nuid": "c812a680-549e-4c31-bc4b-bdbf7071945b",
     "showTitle": false,
     "title": ""
    }
   },
   "outputs": [],
   "source": []
  },
  {
   "cell_type": "markdown",
   "metadata": {
    "application/vnd.databricks.v1+cell": {
     "cellMetadata": {},
     "inputWidgets": {},
     "nuid": "e395c2a4-f7eb-410a-a807-da8e0fdd6d4a",
     "showTitle": false,
     "title": ""
    }
   },
   "source": [
    "#### Pratice Exercises\n",
    "\n",
    "Find all friend relationships without filtering on edges (so specifying the network structure of the motif you want to find)."
   ]
  },
  {
   "cell_type": "code",
   "execution_count": 0,
   "metadata": {
    "application/vnd.databricks.v1+cell": {
     "cellMetadata": {},
     "inputWidgets": {},
     "nuid": "233127b9-0103-4d02-b75b-85e17c8f5f98",
     "showTitle": false,
     "title": ""
    }
   },
   "outputs": [],
   "source": []
  },
  {
   "cell_type": "markdown",
   "metadata": {
    "application/vnd.databricks.v1+cell": {
     "cellMetadata": {},
     "inputWidgets": {},
     "nuid": "92107d73-ad11-4ca9-b05a-8214e6ddbd5e",
     "showTitle": false,
     "title": ""
    }
   },
   "source": [
    "Find all the people who are older than 60 and have at least one friend."
   ]
  },
  {
   "cell_type": "code",
   "execution_count": 0,
   "metadata": {
    "application/vnd.databricks.v1+cell": {
     "cellMetadata": {},
     "inputWidgets": {},
     "nuid": "cf466aa4-93a1-4235-ad97-b1e2368902d5",
     "showTitle": false,
     "title": ""
    }
   },
   "outputs": [],
   "source": []
  },
  {
   "cell_type": "markdown",
   "metadata": {
    "application/vnd.databricks.v1+cell": {
     "cellMetadata": {},
     "inputWidgets": {},
     "nuid": "39e91cd9-0444-4c7b-8e8d-b27150c03a64",
     "showTitle": false,
     "title": ""
    }
   },
   "source": [
    "<b>Connected components</b> A connected component of a graph is a subgraph in which any two vertices are connected to each other by one or more edges, and which is connected to no additional vertices in the supergraph. In the graph below there would be 5 connected component subgraphs:\n",
    "\n",
    "![image](http://lemon.cs.elte.hu/pub/doc/1.2.3/connected_components.png)\n",
    "\n",
    "\n",
    "\n",
    "Graphframes can compute the connected component membership of each vertex and return a DataFrame with each vertex assigned a component ID. The GraphFrames connected components implementation can take advantage of checkpointing to improve performance. This will take up tp 10 min to run."
   ]
  },
  {
   "cell_type": "code",
   "execution_count": 0,
   "metadata": {
    "application/vnd.databricks.v1+cell": {
     "cellMetadata": {
      "byteLimit": 2048000,
      "rowLimit": 10000
     },
     "inputWidgets": {},
     "nuid": "32e7c154-d8da-40fe-b6e9-e315c6f762c5",
     "showTitle": false,
     "title": ""
    }
   },
   "outputs": [],
   "source": [
    "sc.setCheckpointDir(\"/tmp/graphframes-example-connected-components\")\n",
    "# find and show connectedComponents \n"
   ]
  },
  {
   "cell_type": "code",
   "execution_count": 0,
   "metadata": {
    "application/vnd.databricks.v1+cell": {
     "cellMetadata": {
      "byteLimit": 2048000,
      "rowLimit": 10000
     },
     "inputWidgets": {},
     "nuid": "6840ada7-3c58-4e03-9cf2-937c10294cd3",
     "showTitle": false,
     "title": ""
    }
   },
   "outputs": [],
   "source": [
    "# find and show stronglyConnectedComponents with maxIter=10  \n"
   ]
  },
  {
   "cell_type": "markdown",
   "metadata": {
    "application/vnd.databricks.v1+cell": {
     "cellMetadata": {},
     "inputWidgets": {},
     "nuid": "25c52286-d47e-4bf0-9551-fb7fa05c0831",
     "showTitle": false,
     "title": ""
    }
   },
   "source": [
    "The Label Propagation algorithm (LPA) is a fast algorithm for finding communities in a graph. In the context of social networks, a community could represent users with shared interests or characteristics. Apply the label propogation algorithm with a max of 100 iterations."
   ]
  },
  {
   "cell_type": "code",
   "execution_count": 0,
   "metadata": {
    "application/vnd.databricks.v1+cell": {
     "cellMetadata": {
      "byteLimit": 2048000,
      "rowLimit": 10000
     },
     "inputWidgets": {},
     "nuid": "916b59fc-657a-4d6a-8544-234a596c198b",
     "showTitle": false,
     "title": ""
    }
   },
   "outputs": [],
   "source": [
    "# find communities with labelPropagation using maxIter=10\n",
    "\n",
    "# Display the detected communities by id and label\n"
   ]
  },
  {
   "cell_type": "markdown",
   "metadata": {
    "application/vnd.databricks.v1+cell": {
     "cellMetadata": {},
     "inputWidgets": {},
     "nuid": "2402d051-2a78-4873-a004-e919a61c2e01",
     "showTitle": false,
     "title": ""
    }
   },
   "source": [
    "Let's use this information to colour our graph."
   ]
  },
  {
   "cell_type": "code",
   "execution_count": 0,
   "metadata": {
    "application/vnd.databricks.v1+cell": {
     "cellMetadata": {
      "byteLimit": 2048000,
      "rowLimit": 10000
     },
     "inputWidgets": {},
     "nuid": "bc21bb4c-c7ad-42c1-894b-e178616dbeea",
     "showTitle": false,
     "title": ""
    }
   },
   "outputs": [],
   "source": [
    "import numpy as np\n",
    "# Create a directed graph\n",
    "G = nx.DiGraph()\n",
    "\n",
    "#convert results to pandas\n",
    "pdf = result_scc.orderBy(\"id\").toPandas()\n",
    "\n",
    "# Add edges\n",
    "for row in g.vertices.collect():\n",
    "    G.add_node(row['id'])\n",
    "\n",
    "# Add edges\n",
    "for row in g.edges.collect():\n",
    "    G.add_edge(row['src'], row['dst'])\n",
    "\n",
    "# Create a color map based on the component id\n",
    "color_map = {}\n",
    "\n",
    "# Get all unique components and create a color for each of them\n",
    "unique_components = pdf[pdf.columns[-1]].unique()\n",
    "colors = plt.cm.rainbow(np.linspace(0, 1, len(unique_components)))\n",
    "\n",
    "for component, color in zip(unique_components, colors):\n",
    "    color_map[component] = color\n",
    "\n",
    "# Map the nodes to their colors\n",
    "node_colors = [color_map[component] for component in pdf[pdf.columns[-1]]]\n",
    "\n",
    "# Draw the graph\n",
    "nx.draw(G, node_color=node_colors, with_labels=True)\n",
    "plt.show()\n"
   ]
  },
  {
   "cell_type": "markdown",
   "metadata": {
    "application/vnd.databricks.v1+cell": {
     "cellMetadata": {},
     "inputWidgets": {},
     "nuid": "6a710715-c72a-4240-94e4-c605204e60f5",
     "showTitle": false,
     "title": ""
    }
   },
   "source": [
    "####Triangle Count:\n",
    "The triangle count for a node in a graph is a measure of the cohesiveness of the user's immediate network, which can help identify tightly-knit communities.\n",
    "\n",
    "The Triangle Count algorithm is a graph analysis algorithm that counts the number of triangles in a graph. A triangle in a graph consists of three nodes that are connected to each other, forming a closed loop. The Triangle Count algorithm helps identify the presence of triangles and provides a measure of the cohesiveness or clustering of nodes within a graph."
   ]
  },
  {
   "cell_type": "code",
   "execution_count": 0,
   "metadata": {
    "application/vnd.databricks.v1+cell": {
     "cellMetadata": {
      "byteLimit": 2048000,
      "rowLimit": 10000
     },
     "inputWidgets": {},
     "nuid": "491b0f2d-574e-4df8-8e17-41564936ae76",
     "showTitle": false,
     "title": ""
    }
   },
   "outputs": [],
   "source": [
    "# Run triangleCount algorithm\n",
    "\n",
    "# Display the number of triangles for each user\n"
   ]
  },
  {
   "cell_type": "markdown",
   "metadata": {
    "application/vnd.databricks.v1+cell": {
     "cellMetadata": {},
     "inputWidgets": {},
     "nuid": "566a6ef9-8768-4bae-b5ce-a86dad867def",
     "showTitle": false,
     "title": ""
    }
   },
   "source": [
    "What does the result say about how are people connected in our graph? Take a look at who is connected to who in the data and see if you can match a pattern to what is being reported (the component number is not important, only which nodes have the same component).\n",
    "\n",
    "<b> Shortest path </b> Graphframes includes a simple shortest path algorithm, it finds the distance between all nodes and a given set of landmarks.\n",
    "\n",
    "In the example below we will see from each node how many steps does it take to get to a landmark. So for example [5 -> 1, 1 -> 1] would means that to get to vertice named 5 takes 1 edge, to get to a vertice named 1 also takes 1 step."
   ]
  },
  {
   "cell_type": "code",
   "execution_count": 0,
   "metadata": {
    "application/vnd.databricks.v1+cell": {
     "cellMetadata": {
      "byteLimit": 2048000,
      "rowLimit": 10000
     },
     "inputWidgets": {},
     "nuid": "75baa30a-f56c-4ac9-ae6e-f355b94545b5",
     "showTitle": false,
     "title": ""
    }
   },
   "outputs": [],
   "source": [
    "# Find shortestPaths between landmarks [\"1\", \"5\"] \n"
   ]
  },
  {
   "cell_type": "markdown",
   "metadata": {
    "application/vnd.databricks.v1+cell": {
     "cellMetadata": {},
     "inputWidgets": {},
     "nuid": "ae5bd154-2a8c-409e-a6ed-0abf041cfbf9",
     "showTitle": false,
     "title": ""
    }
   },
   "source": [
    "<b>Search</b> Breadth-first search (BFS) is an algorithm for traversing or searching tree or graph data structures. It starts at the tree root (or some arbitrary node of a graph, sometimes referred to as a 'search key'[1]), and explores all of the neighbor nodes at the present depth prior to moving on to the nodes at the next depth level.\n",
    "\n",
    "It uses the opposite strategy as depth-first search, which instead explores the highest-depth nodes first before being forced to backtrack and expand shallower nodes.\n",
    "\n",
    "For more information on these alogrithms: https://en.wikipedia.org/wiki/Breadth-first_search\n",
    "\n",
    "Let's apply bfs using the fromExpr and toExpr arguments to find a path from id 1 to id 5."
   ]
  },
  {
   "cell_type": "code",
   "execution_count": 0,
   "metadata": {
    "application/vnd.databricks.v1+cell": {
     "cellMetadata": {},
     "inputWidgets": {},
     "nuid": "17b90bd3-8295-491b-b370-bccbded8392f",
     "showTitle": false,
     "title": ""
    }
   },
   "outputs": [],
   "source": [
    "# use bfs with fromExpr=\"id='1'\", toExpr = \"id='5'\" \n"
   ]
  },
  {
   "cell_type": "markdown",
   "metadata": {
    "application/vnd.databricks.v1+cell": {
     "cellMetadata": {},
     "inputWidgets": {},
     "nuid": "f61ad678-3a2b-42fb-ba9d-4b4274598479",
     "showTitle": false,
     "title": ""
    }
   },
   "source": [
    "we can be even more specific for example find a path from id 1 to anyone over 65, but not using any friend edges (edgeFilter argument) and setting a max length of 4 (maxPathLength argument). It can also be useufl to drop duplicates."
   ]
  },
  {
   "cell_type": "code",
   "execution_count": 0,
   "metadata": {
    "application/vnd.databricks.v1+cell": {
     "cellMetadata": {
      "byteLimit": 2048000,
      "rowLimit": 10000
     },
     "inputWidgets": {},
     "nuid": "472e4c3f-b520-46e0-88ca-e2fc5bdf5fc0",
     "showTitle": false,
     "title": ""
    }
   },
   "outputs": [],
   "source": [
    "# use bfs with fromExpr=\"id='1'\",  toExpr = \"age >65\", edgeFilter = \"type != 'friend'\", maxPathLength = 4\n"
   ]
  },
  {
   "cell_type": "markdown",
   "metadata": {
    "application/vnd.databricks.v1+cell": {
     "cellMetadata": {},
     "inputWidgets": {},
     "nuid": "01d74302-7631-4d2e-9da6-c085b24c9ad8",
     "showTitle": false,
     "title": ""
    }
   },
   "source": [
    "## Exercise\n",
    "\n",
    "In the following exercises you will use a data extract from instagram that represents a soical network. You will need to upload the data to the dbfs using the upload command under file.\n",
    "\n",
    "Then the below commands will load the data into dataframes to work with."
   ]
  },
  {
   "cell_type": "code",
   "execution_count": 0,
   "metadata": {
    "application/vnd.databricks.v1+cell": {
     "cellMetadata": {
      "byteLimit": 2048000,
      "rowLimit": 10000
     },
     "inputWidgets": {},
     "nuid": "8aed2c5f-80c3-4e23-9f9f-23f82e734eec",
     "showTitle": false,
     "title": ""
    }
   },
   "outputs": [],
   "source": [
    "nodes_df = spark.read.format(\"csv\").option(\"header\", \"true\").load(\"dbfs:/FileStore/shared_uploads/iscott@novaims.unl.pt/instagram_nodes.csv\")\n",
    "edges_df = spark.read.format(\"csv\").option(\"header\", \"true\").load(\"dbfs:/FileStore/shared_uploads/iscott@novaims.unl.pt/instagram_edges___directed.csv\")"
   ]
  },
  {
   "cell_type": "markdown",
   "metadata": {
    "application/vnd.databricks.v1+cell": {
     "cellMetadata": {},
     "inputWidgets": {},
     "nuid": "d49412d9-4ec2-4f40-89f5-807023aed667",
     "showTitle": false,
     "title": ""
    }
   },
   "source": [
    "Let's take a look at the data:"
   ]
  },
  {
   "cell_type": "code",
   "execution_count": 0,
   "metadata": {
    "application/vnd.databricks.v1+cell": {
     "cellMetadata": {
      "byteLimit": 2048000,
      "rowLimit": 10000
     },
     "inputWidgets": {},
     "nuid": "99127627-a5fc-4dbf-9ca2-ed2be6db7c84",
     "showTitle": false,
     "title": ""
    }
   },
   "outputs": [],
   "source": [
    "display(nodes_df)"
   ]
  },
  {
   "cell_type": "code",
   "execution_count": 0,
   "metadata": {
    "application/vnd.databricks.v1+cell": {
     "cellMetadata": {
      "byteLimit": 2048000,
      "rowLimit": 10000
     },
     "inputWidgets": {},
     "nuid": "e60b546d-bb83-4bae-9978-482caa94b398",
     "showTitle": false,
     "title": ""
    }
   },
   "outputs": [],
   "source": [
    "display(edges_df)"
   ]
  },
  {
   "cell_type": "code",
   "execution_count": 0,
   "metadata": {
    "application/vnd.databricks.v1+cell": {
     "cellMetadata": {
      "byteLimit": 2048000,
      "rowLimit": 10000
     },
     "inputWidgets": {},
     "nuid": "a87f56c2-f570-4d24-8074-b17672379fca",
     "showTitle": false,
     "title": ""
    }
   },
   "outputs": [],
   "source": [
    "# create a graphframes graph from the data:\n"
   ]
  },
  {
   "cell_type": "markdown",
   "metadata": {
    "application/vnd.databricks.v1+cell": {
     "cellMetadata": {},
     "inputWidgets": {},
     "nuid": "dfaacc3a-c826-4e10-9001-8bd4764c3aa8",
     "showTitle": false,
     "title": ""
    }
   },
   "source": [
    "How many edges and vertices are their in our graph?"
   ]
  },
  {
   "cell_type": "code",
   "execution_count": 0,
   "metadata": {
    "application/vnd.databricks.v1+cell": {
     "cellMetadata": {
      "byteLimit": 2048000,
      "rowLimit": 10000
     },
     "inputWidgets": {},
     "nuid": "6d5e0686-189a-4d1e-9202-a6a642b3b686",
     "showTitle": false,
     "title": ""
    }
   },
   "outputs": [],
   "source": []
  },
  {
   "cell_type": "markdown",
   "metadata": {
    "application/vnd.databricks.v1+cell": {
     "cellMetadata": {},
     "inputWidgets": {},
     "nuid": "d758eba6-9c64-404c-b340-b63bf4c55e1c",
     "showTitle": false,
     "title": ""
    }
   },
   "source": [
    "In our dataset who is followed the most (including friends) and who follows the most in our dataset (hint: think degrees)"
   ]
  },
  {
   "cell_type": "code",
   "execution_count": 0,
   "metadata": {
    "application/vnd.databricks.v1+cell": {
     "cellMetadata": {
      "byteLimit": 2048000,
      "rowLimit": 10000
     },
     "inputWidgets": {},
     "nuid": "be926537-7d5d-4fa8-a439-115872432fe0",
     "showTitle": false,
     "title": ""
    }
   },
   "outputs": [],
   "source": []
  },
  {
   "cell_type": "code",
   "execution_count": 0,
   "metadata": {
    "application/vnd.databricks.v1+cell": {
     "cellMetadata": {
      "byteLimit": 2048000,
      "rowLimit": 10000
     },
     "inputWidgets": {},
     "nuid": "5c0364dd-60fa-4590-90d1-09f5735fc7ff",
     "showTitle": false,
     "title": ""
    }
   },
   "outputs": [],
   "source": []
  },
  {
   "cell_type": "markdown",
   "metadata": {
    "application/vnd.databricks.v1+cell": {
     "cellMetadata": {},
     "inputWidgets": {},
     "nuid": "548ccf74-8efe-4dac-a8ff-39cab2b7790f",
     "showTitle": false,
     "title": ""
    }
   },
   "source": [
    "Apply label propogation algorithm and find how many unique labels exist. Bonus: use Network X to plot a coloured graph"
   ]
  },
  {
   "cell_type": "code",
   "execution_count": 0,
   "metadata": {
    "application/vnd.databricks.v1+cell": {
     "cellMetadata": {
      "byteLimit": 2048000,
      "rowLimit": 10000
     },
     "inputWidgets": {},
     "nuid": "e70aa810-5c7a-48d4-9044-897c28e40b5e",
     "showTitle": false,
     "title": ""
    }
   },
   "outputs": [],
   "source": []
  },
  {
   "cell_type": "code",
   "execution_count": 0,
   "metadata": {
    "application/vnd.databricks.v1+cell": {
     "cellMetadata": {
      "byteLimit": 2048000,
      "rowLimit": 10000
     },
     "inputWidgets": {},
     "nuid": "07055715-85d5-4cec-9cc3-157278f8b9f7",
     "showTitle": false,
     "title": ""
    }
   },
   "outputs": [],
   "source": []
  },
  {
   "cell_type": "markdown",
   "metadata": {
    "application/vnd.databricks.v1+cell": {
     "cellMetadata": {},
     "inputWidgets": {},
     "nuid": "3d567c58-926e-487d-840d-97e316e5fee9",
     "showTitle": false,
     "title": ""
    }
   },
   "source": [
    "Who is the most influential by pagerank and by number of triangles?"
   ]
  },
  {
   "cell_type": "code",
   "execution_count": 0,
   "metadata": {
    "application/vnd.databricks.v1+cell": {
     "cellMetadata": {
      "byteLimit": 2048000,
      "rowLimit": 10000
     },
     "inputWidgets": {},
     "nuid": "be522a11-6ca0-4fe6-9c72-be24a7adb06d",
     "showTitle": false,
     "title": ""
    }
   },
   "outputs": [],
   "source": []
  },
  {
   "cell_type": "code",
   "execution_count": 0,
   "metadata": {
    "application/vnd.databricks.v1+cell": {
     "cellMetadata": {
      "byteLimit": 2048000,
      "rowLimit": 10000
     },
     "inputWidgets": {},
     "nuid": "8bcd6054-54f0-4990-83a6-92ea5357df66",
     "showTitle": false,
     "title": ""
    }
   },
   "outputs": [],
   "source": []
  },
  {
   "cell_type": "markdown",
   "metadata": {
    "application/vnd.databricks.v1+cell": {
     "cellMetadata": {
      "byteLimit": 2048000,
      "rowLimit": 10000
     },
     "inputWidgets": {},
     "nuid": "bbac3d46-cb59-43c8-bed7-c25ee4b47379",
     "showTitle": false,
     "title": ""
    }
   },
   "source": [
    "For each node find all follower of followers who are not directly followed."
   ]
  },
  {
   "cell_type": "code",
   "execution_count": 0,
   "metadata": {
    "application/vnd.databricks.v1+cell": {
     "cellMetadata": {
      "byteLimit": 2048000,
      "rowLimit": 10000
     },
     "inputWidgets": {},
     "nuid": "8a6b0777-7297-4f2d-9ef3-4f0b8b416639",
     "showTitle": false,
     "title": ""
    }
   },
   "outputs": [],
   "source": []
  },
  {
   "cell_type": "markdown",
   "metadata": {
    "application/vnd.databricks.v1+cell": {
     "cellMetadata": {},
     "inputWidgets": {},
     "nuid": "3743226f-6191-4035-8e0e-0cc02466baaf",
     "showTitle": false,
     "title": ""
    }
   },
   "source": [
    "For each node find all mutual followers of mutual followers who are not directly followed or mutually followed."
   ]
  },
  {
   "cell_type": "code",
   "execution_count": 0,
   "metadata": {
    "application/vnd.databricks.v1+cell": {
     "cellMetadata": {
      "byteLimit": 2048000,
      "rowLimit": 10000
     },
     "inputWidgets": {},
     "nuid": "982b3cdc-1b7d-4008-97c1-8091d6812ed7",
     "showTitle": false,
     "title": ""
    }
   },
   "outputs": [],
   "source": []
  },
  {
   "cell_type": "markdown",
   "metadata": {
    "application/vnd.databricks.v1+cell": {
     "cellMetadata": {},
     "inputWidgets": {},
     "nuid": "1bedc9f7-0e81-4df6-a690-0e238de55f58",
     "showTitle": false,
     "title": ""
    },
    "jupyter": {
     "outputs_hidden": true
    }
   },
   "source": [
    "What is the shortest distance from our top influencer (by pagerank) to someone older than them?"
   ]
  },
  {
   "cell_type": "code",
   "execution_count": 0,
   "metadata": {
    "application/vnd.databricks.v1+cell": {
     "cellMetadata": {
      "byteLimit": 2048000,
      "rowLimit": 10000
     },
     "inputWidgets": {},
     "nuid": "ee93edb4-1c12-413b-b205-d0d8f784d1e7",
     "showTitle": false,
     "title": ""
    }
   },
   "outputs": [],
   "source": []
  },
  {
   "cell_type": "markdown",
   "metadata": {
    "application/vnd.databricks.v1+cell": {
     "cellMetadata": {},
     "inputWidgets": {},
     "nuid": "71f20127-c2b4-40f0-8e5e-d7ea57e913dc",
     "showTitle": false,
     "title": ""
    }
   },
   "source": [
    "## Bonus Exercise: Bikeshare"
   ]
  },
  {
   "cell_type": "markdown",
   "metadata": {
    "application/vnd.databricks.v1+cell": {
     "cellMetadata": {},
     "inputWidgets": {},
     "nuid": "5907e6eb-4cca-4517-b87c-dd701a0452a0",
     "showTitle": false,
     "title": ""
    }
   },
   "source": [
    "Here is your chance to apply what you have learned to some real data. We will be using a bike sharing dataset, but a very different one from last class\n",
    "\n",
    "Here you’re going to be working with publicly available bike data from the Bay Area Bike Share portal, specifically analyzing the 2017 year of data. First we will download the data and read it into spark, we will also rename some of the columns to meet the requirements of graphframes."
   ]
  },
  {
   "cell_type": "code",
   "execution_count": 0,
   "metadata": {
    "application/vnd.databricks.v1+cell": {
     "cellMetadata": {
      "byteLimit": 2048000,
      "rowLimit": 10000
     },
     "inputWidgets": {},
     "nuid": "eb528782-59e1-43d7-8f0e-56ea76967074",
     "showTitle": false,
     "title": ""
    }
   },
   "outputs": [],
   "source": [
    "%sh wget https://raw.githubusercontent.com/udacity/data-analyst/master/projects/bike_sharing/201508_trip_data.csv"
   ]
  },
  {
   "cell_type": "code",
   "execution_count": 0,
   "metadata": {
    "application/vnd.databricks.v1+cell": {
     "cellMetadata": {},
     "inputWidgets": {},
     "nuid": "45cfbe56-4296-4dae-831d-aba7ea9d10d5",
     "showTitle": false,
     "title": ""
    }
   },
   "outputs": [],
   "source": [
    "%sh wget https://raw.githubusercontent.com/udacity/data-analyst/master/projects/bike_sharing/201508_station_data.csv"
   ]
  },
  {
   "cell_type": "code",
   "execution_count": 0,
   "metadata": {
    "application/vnd.databricks.v1+cell": {
     "cellMetadata": {},
     "inputWidgets": {},
     "nuid": "294a81ec-4de4-43f4-8eb7-87ae87a213b9",
     "showTitle": false,
     "title": ""
    }
   },
   "outputs": [],
   "source": [
    "tripDF = spark.read.csv('file:/databricks/driver/201508_trip_data.csv',header=True, inferSchema = True)\n",
    "tripDF.printSchema()"
   ]
  },
  {
   "cell_type": "code",
   "execution_count": 0,
   "metadata": {
    "application/vnd.databricks.v1+cell": {
     "cellMetadata": {},
     "inputWidgets": {},
     "nuid": "12e0f690-aa44-4bc7-b032-97fdc271a292",
     "showTitle": false,
     "title": ""
    }
   },
   "outputs": [],
   "source": [
    "stationDF = spark.read.csv('file:/databricks/driver/201508_station_data.csv',header=True, inferSchema = True)\n",
    "stationDF.printSchema()"
   ]
  },
  {
   "cell_type": "code",
   "execution_count": 0,
   "metadata": {
    "application/vnd.databricks.v1+cell": {
     "cellMetadata": {},
     "inputWidgets": {},
     "nuid": "48c8dbb5-875a-414b-80fa-700aff5c9e57",
     "showTitle": false,
     "title": ""
    }
   },
   "outputs": [],
   "source": [
    "stationVertices = stationDF.withColumnRenamed(\"name\", \"id\").distinct()\n",
    "tripEdges = tripDF.withColumnRenamed(\"Start Station\", \"src\").withColumnRenamed(\"End Station\", \"dst\")"
   ]
  },
  {
   "cell_type": "code",
   "execution_count": 0,
   "metadata": {
    "application/vnd.databricks.v1+cell": {
     "cellMetadata": {},
     "inputWidgets": {},
     "nuid": "43829314-2df1-4843-85ee-e4160a1cb052",
     "showTitle": false,
     "title": ""
    }
   },
   "outputs": [],
   "source": [
    "tripEdges.show(10, False)"
   ]
  },
  {
   "cell_type": "code",
   "execution_count": 0,
   "metadata": {
    "application/vnd.databricks.v1+cell": {
     "cellMetadata": {},
     "inputWidgets": {},
     "nuid": "d022fd89-9664-456f-b3fe-85aa56f7b732",
     "showTitle": false,
     "title": ""
    }
   },
   "outputs": [],
   "source": [
    "stationVertices.show(10, False)"
   ]
  },
  {
   "cell_type": "markdown",
   "metadata": {
    "application/vnd.databricks.v1+cell": {
     "cellMetadata": {},
     "inputWidgets": {},
     "nuid": "ff2f80f7-91bd-4943-b8e9-2f405866a4f7",
     "showTitle": false,
     "title": ""
    }
   },
   "source": [
    "Alright you now have the data formatted as you need to perform analysis. Take a look to make sure you understand what the data is. Basically you have bike stations (verticies) and trips between the stations (edges). \n",
    "\n",
    "Hint: in the cell above I used 'False' in the `show()`, this will be useful for you to prevent truncating station names. The highest ranked station should be San Jose Diridon Caltrain Station.\n",
    "\n",
    "#####Create a graphframe and perform a pagerank to find the most import stations (make sure to set the maxIterations to 5)."
   ]
  },
  {
   "cell_type": "code",
   "execution_count": 0,
   "metadata": {
    "application/vnd.databricks.v1+cell": {
     "cellMetadata": {},
     "inputWidgets": {},
     "nuid": "550f6be8-6d9f-4c89-ab2d-67395d47508a",
     "showTitle": false,
     "title": ""
    }
   },
   "outputs": [],
   "source": [
    "#take the vertices and edges DataFrames and returns a GraphFrames object.\n"
   ]
  },
  {
   "cell_type": "code",
   "execution_count": 0,
   "metadata": {
    "application/vnd.databricks.v1+cell": {
     "cellMetadata": {},
     "inputWidgets": {},
     "nuid": "d8d9212e-9fa1-4465-ab9e-ef1610de5106",
     "showTitle": false,
     "title": ""
    }
   },
   "outputs": [],
   "source": [
    "#show the edges\n"
   ]
  },
  {
   "cell_type": "code",
   "execution_count": 0,
   "metadata": {
    "application/vnd.databricks.v1+cell": {
     "cellMetadata": {},
     "inputWidgets": {},
     "nuid": "b9584cdf-03e0-4b4d-95c4-8f4c2445415a",
     "showTitle": false,
     "title": ""
    }
   },
   "outputs": [],
   "source": [
    "#Run the pageRank()\n"
   ]
  },
  {
   "cell_type": "code",
   "execution_count": 0,
   "metadata": {
    "application/vnd.databricks.v1+cell": {
     "cellMetadata": {},
     "inputWidgets": {},
     "nuid": "b6da7cf0-b5a5-47a4-94e3-de55c7b58794",
     "showTitle": false,
     "title": ""
    }
   },
   "outputs": [],
   "source": [
    "#Show() the vertices, ranked\n"
   ]
  },
  {
   "cell_type": "markdown",
   "metadata": {
    "application/vnd.databricks.v1+cell": {
     "cellMetadata": {},
     "inputWidgets": {},
     "nuid": "6c7b0e1a-c9aa-4c85-8637-6ad16d18cf88",
     "showTitle": false,
     "title": ""
    }
   },
   "source": [
    "One question is: what are the most common trip paths? You can do this by performing a grouping operator and adding the edge counts together, think of how we used sparkSQL to implement SQL like queries last week. Remember the list of edges is just a dataframe so you can use SQL queries to find a result like this. In case you have forgotten this link has some information on groupBy:\n",
    "\n",
    "https://sparkbyexamples.com/spark/using-groupby-on-dataframe/\n",
    "\n",
    "The most common trip should be:\n",
    "\n",
    "San Francisco Caltrain 2 (330 Townsend)  ->    Townsend at 7th."
   ]
  },
  {
   "cell_type": "code",
   "execution_count": 0,
   "metadata": {
    "application/vnd.databricks.v1+cell": {
     "cellMetadata": {},
     "inputWidgets": {},
     "nuid": "696c562b-32a5-449b-a7d5-f04f412da187",
     "showTitle": false,
     "title": ""
    }
   },
   "outputs": [],
   "source": []
  },
  {
   "cell_type": "markdown",
   "metadata": {
    "application/vnd.databricks.v1+cell": {
     "cellMetadata": {},
     "inputWidgets": {},
     "nuid": "94570efb-dbc9-441c-aa5c-f5a38aeba766",
     "showTitle": false,
     "title": ""
    }
   },
   "source": [
    "Create a new graphframe with only unique edges (you can use the dataframe you created above) and check if all stations are connected."
   ]
  },
  {
   "cell_type": "code",
   "execution_count": 0,
   "metadata": {
    "application/vnd.databricks.v1+cell": {
     "cellMetadata": {},
     "inputWidgets": {},
     "nuid": "71426f4a-2994-4208-b12e-7282c893d591",
     "showTitle": false,
     "title": ""
    }
   },
   "outputs": [],
   "source": [
    "#Create a gbsUnique graphframe\n"
   ]
  },
  {
   "cell_type": "code",
   "execution_count": 0,
   "metadata": {
    "application/vnd.databricks.v1+cell": {
     "cellMetadata": {},
     "inputWidgets": {},
     "nuid": "1eb0b0e9-9cab-42a9-b963-2a63066f2588",
     "showTitle": false,
     "title": ""
    }
   },
   "outputs": [],
   "source": [
    "#Computes the strongly connected component membership of each vertex and returns a graph with each vertex assigned a component ID.\n",
    "\n"
   ]
  },
  {
   "cell_type": "code",
   "execution_count": 0,
   "metadata": {
    "application/vnd.databricks.v1+cell": {
     "cellMetadata": {},
     "inputWidgets": {},
     "nuid": "8dbb95c9-167c-4210-9604-ca90f8827edb",
     "showTitle": false,
     "title": ""
    }
   },
   "outputs": [],
   "source": [
    "#show the graphframe with component\n"
   ]
  },
  {
   "cell_type": "markdown",
   "metadata": {
    "application/vnd.databricks.v1+cell": {
     "cellMetadata": {},
     "inputWidgets": {},
     "nuid": "c22d6647-8e59-4e80-9cca-91bece3f3337",
     "showTitle": false,
     "title": ""
    }
   },
   "source": [
    "Remember that in this instance you’ve got a directed graph. That means that your trips are directional - from one location to another. Therefore you get access to a wealth of analysis that you can use. You can find the number of trips that go into a specific station and leave from a specific station.\n",
    "\n",
    "One interesting question you could ask is what is the station with the highest ratio of in degrees to out degrees. As in, what station acts as a pure trip sink. A station where trips end at but rarely start from. This station will end up with a lot of excess bikes that will need to be re-distributed."
   ]
  },
  {
   "cell_type": "code",
   "execution_count": 0,
   "metadata": {
    "application/vnd.databricks.v1+cell": {
     "cellMetadata": {},
     "inputWidgets": {},
     "nuid": "67e77aaf-5f8b-4579-935d-bf82a26371a6",
     "showTitle": false,
     "title": ""
    }
   },
   "outputs": [],
   "source": []
  },
  {
   "cell_type": "code",
   "execution_count": 0,
   "metadata": {
    "application/vnd.databricks.v1+cell": {
     "cellMetadata": {},
     "inputWidgets": {},
     "nuid": "6f0a2dba-fe76-491c-9c4e-eeb564fb5ad9",
     "showTitle": false,
     "title": ""
    }
   },
   "outputs": [],
   "source": []
  },
  {
   "cell_type": "code",
   "execution_count": 0,
   "metadata": {
    "application/vnd.databricks.v1+cell": {
     "cellMetadata": {},
     "inputWidgets": {},
     "nuid": "1d64ee7d-307a-4dec-b3e7-a4c8a0ababdd",
     "showTitle": false,
     "title": ""
    }
   },
   "outputs": [],
   "source": []
  },
  {
   "cell_type": "markdown",
   "metadata": {
    "application/vnd.databricks.v1+cell": {
     "cellMetadata": {},
     "inputWidgets": {},
     "nuid": "6fa2589f-236e-483e-8a77-c680bf092afa",
     "showTitle": false,
     "title": ""
    }
   },
   "source": [
    "Consider the station with the highest ratio of intrips to outtrips, find all stations connected by 1 or 2 trips to this station using motifs."
   ]
  },
  {
   "cell_type": "code",
   "execution_count": 0,
   "metadata": {
    "application/vnd.databricks.v1+cell": {
     "cellMetadata": {},
     "inputWidgets": {},
     "nuid": "275f232b-b01a-4cdd-b608-1dd50245509c",
     "showTitle": false,
     "title": ""
    }
   },
   "outputs": [],
   "source": []
  },
  {
   "cell_type": "code",
   "execution_count": 0,
   "metadata": {
    "application/vnd.databricks.v1+cell": {
     "cellMetadata": {},
     "inputWidgets": {},
     "nuid": "c05c7924-3da3-43eb-952c-3a8f250dad39",
     "showTitle": false,
     "title": ""
    }
   },
   "outputs": [],
   "source": []
  },
  {
   "cell_type": "code",
   "execution_count": 0,
   "metadata": {
    "application/vnd.databricks.v1+cell": {
     "cellMetadata": {},
     "inputWidgets": {},
     "nuid": "ee2b963e-68d6-450d-b57f-83facf514180",
     "showTitle": false,
     "title": ""
    }
   },
   "outputs": [],
   "source": [
    "#store the intermediate computation so they can be reused in subsequent actions.\n"
   ]
  },
  {
   "cell_type": "code",
   "execution_count": 0,
   "metadata": {
    "application/vnd.databricks.v1+cell": {
     "cellMetadata": {},
     "inputWidgets": {},
     "nuid": "ab438231-5378-4bfd-85b8-9510e54f7935",
     "showTitle": false,
     "title": ""
    }
   },
   "outputs": [],
   "source": [
    "#count the number os connections\n"
   ]
  },
  {
   "cell_type": "code",
   "execution_count": 0,
   "metadata": {
    "application/vnd.databricks.v1+cell": {
     "cellMetadata": {
      "byteLimit": 2048000,
      "rowLimit": 10000
     },
     "inputWidgets": {},
     "nuid": "aaa87f2c-3225-41dd-be10-24b3ff9f012b",
     "showTitle": false,
     "title": ""
    }
   },
   "outputs": [],
   "source": [
    "# Find stations connected by one trip\n"
   ]
  },
  {
   "cell_type": "code",
   "execution_count": 0,
   "metadata": {
    "application/vnd.databricks.v1+cell": {
     "cellMetadata": {},
     "inputWidgets": {},
     "nuid": "6ebdf090-251a-4efa-b8b8-025c4122342c",
     "showTitle": false,
     "title": ""
    }
   },
   "outputs": [],
   "source": []
  }
 ],
 "metadata": {
  "application/vnd.databricks.v1+notebook": {
   "dashboards": [],
   "language": "python",
   "notebookMetadata": {
    "mostRecentlyExecutedCommandWithImplicitDF": {
     "commandId": 4334922876386656,
     "dataframes": [
      "_sqldf"
     ]
    },
    "pythonIndentUnit": 4
   },
   "notebookName": "graphframes_students",
   "widgets": {}
  }
 },
 "nbformat": 4,
 "nbformat_minor": 0
}
