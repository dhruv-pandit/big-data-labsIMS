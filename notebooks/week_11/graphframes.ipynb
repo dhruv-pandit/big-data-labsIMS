{
 "cells": [
  {
   "cell_type": "markdown",
   "metadata": {
    "application/vnd.databricks.v1+cell": {
     "cellMetadata": {
      "byteLimit": 2048000,
      "rowLimit": 10000
     },
     "inputWidgets": {},
     "nuid": "6c101d94-0744-44f3-ac7d-f508f1662a0e",
     "showTitle": false,
     "title": ""
    }
   },
   "source": [
    "# Spark GraphFrames - Solutions\n",
    "\n",
    "Before running present notebook please install the GraphFrames package into your cluster by following the steps in the pdf available with this notebook.  \n",
    "To check you have everything setup correctly run the below code and make sure there are no errors. If you get a message about connecting to a cluster click ok."
   ]
  },
  {
   "cell_type": "code",
   "execution_count": null,
   "metadata": {
    "application/vnd.databricks.v1+cell": {
     "cellMetadata": {
      "byteLimit": 2048000,
      "rowLimit": 10000
     },
     "inputWidgets": {},
     "nuid": "833c09ad-41e2-432c-a910-8de95829a5a3",
     "showTitle": false,
     "title": ""
    }
   },
   "outputs": [],
   "source": [
    "#import the package we just installed\n",
    "from graphframes import *\n",
    "#import data types - All data types of Spark SQL are located in the package of pyspark.sql.types\n",
    "from pyspark.sql.types import *\n",
    "#row can be used to create a row object by using named arguments\n",
    "from pyspark.sql import Row\n",
    "from pyspark.sql.functions import col\n"
   ]
  },
  {
   "cell_type": "markdown",
   "metadata": {
    "application/vnd.databricks.v1+cell": {
     "cellMetadata": {
      "byteLimit": 2048000,
      "rowLimit": 10000
     },
     "inputWidgets": {},
     "nuid": "6f320ffa-f632-4ebe-bc55-9b5122229cd0",
     "showTitle": false,
     "title": ""
    }
   },
   "source": [
    "<b>Graphs:</b> Graphs are mathematical structures used to model pairwise relations between objects. A graph in this context is made up of vertices (also called nodes or points) which are connected by edges (also called links or lines). A distinction is made between undirected graphs, where edges link two vertices symmetrically, and directed graphs, where edges link two vertices asymmetrically; see Graph (discrete mathematics) for more detailed definitions and for other variations in the types of graph that are commonly considered (follow this link: https://en.wikipedia.org/wiki/Graph_(discrete_mathematics)). Graphs are one of the prime objects of study in discrete mathematics.\n",
    "\n",
    "![image](https://mathinsight.org/media/image/image/small_undirected_network_labeled.png)\n",
    "\n",
    "Graph processing is important aspect of analysis that applies to a lot of use cases. Fundamentally graph theory and processing are about defining relationships between different nodes and edges. Nodes or vertices are the units while edges define the relationships between nodes. This works great for social network analysis and running algorithms like PageRank to better understand and weigh relationships.\n",
    "\n",
    "Some business use cases could be to look at central people in social networks [who is most popular in a group of friends], importance of papers in bibliographic networks [which papers are most referenced], and of course ranking web pages.\n",
    "\n",
    "## Pagerank\n",
    "\n",
    "For this class we will look into the page rank algorithm again but this time  from another point of view. As you might remenber, the page rank of a particular web page indicates its relative importance within a group of web pages. The higher the page rank, the higher up it will appear in a search result list. The importance of a page is defined by the importance of all the web pages that provide an outbound link to the web page in consideration. For example, say that web page X has very high relative importance. Web page X is outbounding to web page Y (webpage X links to Y); hence, web page Y will also have high importance. However, if webpage X links to many webpages, including Y, the importance of Y is lower.\n",
    "\n",
    "For more information on pagerank you either:\n",
    "\n",
    "Follow through the worked example: https://www.cs.princeton.edu/~chazelle/courses/BIB/pagerank.htm\n",
    "\n",
    "Take a look at one of the many youtube explanations, for example (10min): https://www.youtube.com/watch?v=qpIqLjfcabs\n",
    "\n",
    "Part of what is important here is to understand the data format we use to represent a graph. I have commented the steps below:"
   ]
  },
  {
   "cell_type": "code",
   "execution_count": null,
   "metadata": {
    "application/vnd.databricks.v1+cell": {
     "cellMetadata": {
      "byteLimit": 2048000,
      "rowLimit": 10000
     },
     "inputWidgets": {},
     "nuid": "8e10d01f-b770-4b03-b176-6c35e5e98b0d",
     "showTitle": false,
     "title": ""
    }
   },
   "outputs": [
    {
     "name": "stdout",
     "output_type": "stream",
     "text": [
      "+---+\n",
      "| id|\n",
      "+---+\n",
      "|  a|\n",
      "|  b|\n",
      "|  c|\n",
      "|  d|\n",
      "+---+\n",
      "\n"
     ]
    }
   ],
   "source": [
    "# First we start with the list of vertices, I have 5 vertices here, each named with a letter of the alphabet\n",
    "verticesList = ['a', 'b', 'c', 'd']\n",
    "# We load this list into an RDD as we have seen before\n",
    "verticesListRDD = sc.parallelize(verticesList, 1)\n",
    "# We convert this RDD to a dataframe using row objects and specifying a schema.\n",
    "verticesListRowsRDD = verticesListRDD.map( lambda data : Row(data))\n",
    "verticesSchema = StructType([StructField('id', StringType(), True)])\n",
    "verticesDataFrame = verticesListRowsRDD.toDF(verticesSchema).persist()\n",
    "#Here I show the schema of the Dataframe.\n",
    "verticesDataFrame.show()"
   ]
  },
  {
   "cell_type": "markdown",
   "metadata": {
    "application/vnd.databricks.v1+cell": {
     "cellMetadata": {
      "byteLimit": 2048000,
      "rowLimit": 10000
     },
     "inputWidgets": {},
     "nuid": "fa37f9d9-bc68-413b-be4c-2547c29bfb92",
     "showTitle": false,
     "title": ""
    }
   },
   "source": [
    "Next we need to know how the vertices are connected, a list of edges. The process is very similar to that we just saw.\n",
    "\n",
    "First, we have to create a list of edges. Each edge in the list will be defined by a tuple.\n",
    "\n",
    "Then, we have to create an RDD of edges.\n",
    "\n",
    "Thereafter, we have to transform our RDD to an RDD of row objects. This will be followed by creating a schema and a DataFrame of edges. Let’s perform the steps:"
   ]
  },
  {
   "cell_type": "code",
   "execution_count": null,
   "metadata": {
    "application/vnd.databricks.v1+cell": {
     "cellMetadata": {
      "byteLimit": 2048000,
      "rowLimit": 10000
     },
     "inputWidgets": {},
     "nuid": "7f4af656-311a-4d2e-9cc1-6f2b7aaeebe2",
     "showTitle": false,
     "title": ""
    }
   },
   "outputs": [
    {
     "name": "stdout",
     "output_type": "stream",
     "text": [
      "+---+---+\n",
      "|src|dst|\n",
      "+---+---+\n",
      "|  a|  b|\n",
      "|  a|  c|\n",
      "|  a|  d|\n",
      "|  b|  c|\n",
      "|  b|  d|\n",
      "|  c|  b|\n",
      "|  d|  a|\n",
      "|  d|  c|\n",
      "+---+---+\n",
      "\n"
     ]
    }
   ],
   "source": [
    "edgeDataList = [('a','b'), ('a','c'), ('a','d'), ('b', 'c'),\n",
    "('b', 'd'),('c', 'b'), ('d', 'a'), ('d', 'c')]\n",
    "sourceColumn = StructField('src', StringType(),True)\n",
    "destinationColumn = StructField('dst', StringType(), True)\n",
    "edgeSchema = StructType([sourceColumn, destinationColumn])\n",
    "edgeRDD = sc.parallelize(edgeDataList, 1)\n",
    "edgeRDDRows = edgeRDD.map( lambda data : Row(data[0], data[1]))\n",
    "edgeDataFrame = edgeRDDRows.toDF(edgeSchema).persist()\n",
    "edgeDataFrame.show()"
   ]
  },
  {
   "cell_type": "markdown",
   "metadata": {
    "application/vnd.databricks.v1+cell": {
     "cellMetadata": {
      "byteLimit": 2048000,
      "rowLimit": 10000
     },
     "inputWidgets": {},
     "nuid": "729a937f-01cd-4539-b550-8ce5d0b2fdbb",
     "showTitle": false,
     "title": ""
    }
   },
   "source": [
    "At this moment, we have `verticesDataFrame`, a DataFrame of vertices; and `edgeDataFrame`, a DataFrames of edges. Using these two, we can create our graph. The GraphFrame Python class is defined under the `graphframes.graphframe` submodule. GraphFrame() takes the vertices and edges DataFrames and returns a GraphFrames object. We have our `GraphFrames` object, `ourGraph`. We can fetch all the vertices as follows: In `GraphFrames`, we can create a graph by using the following code lines:\n",
    "\n",
    "**If you get an error on the below cell make sure you installed the correct version of dataframes**"
   ]
  },
  {
   "cell_type": "code",
   "execution_count": null,
   "metadata": {
    "application/vnd.databricks.v1+cell": {
     "cellMetadata": {
      "byteLimit": 2048000,
      "rowLimit": 10000
     },
     "inputWidgets": {},
     "nuid": "55e4208a-5791-4aab-b4e0-75d66aba017f",
     "showTitle": false,
     "title": ""
    }
   },
   "outputs": [
    {
     "name": "stdout",
     "output_type": "stream",
     "text": [
      "+---+\n",
      "| id|\n",
      "+---+\n",
      "|  a|\n",
      "|  b|\n",
      "|  c|\n",
      "|  d|\n",
      "+---+\n",
      "\n",
      "+---+---+\n",
      "|src|dst|\n",
      "+---+---+\n",
      "|  a|  b|\n",
      "|  a|  c|\n",
      "|  a|  d|\n",
      "|  b|  c|\n",
      "|  b|  d|\n",
      "|  c|  b|\n",
      "|  d|  a|\n",
      "|  d|  c|\n",
      "+---+---+\n",
      "\n"
     ]
    }
   ],
   "source": [
    "from graphframes import *\n",
    "\n",
    "ourGraph = GraphFrame(verticesDataFrame, edgeDataFrame)\n",
    "ourGraph.vertices.show()\n",
    "ourGraph.edges.show()"
   ]
  },
  {
   "cell_type": "markdown",
   "metadata": {
    "application/vnd.databricks.v1+cell": {
     "cellMetadata": {
      "byteLimit": 2048000,
      "rowLimit": 10000
     },
     "inputWidgets": {},
     "nuid": "6c84c1fb-5640-47d9-b3e7-1d18e8b5cfbb",
     "showTitle": false,
     "title": ""
    }
   },
   "source": [
    "#### VISUALIZATION OF THE NETWORK\n",
    "note that the library that i will use to visualize the network is not a big data scale graph visualization tool. This serves ONLY for you to have a idea of the graph we just created.\n",
    "\n",
    "for you reference big data capable software tools are:\n",
    "\n",
    "* Gephi: Gephi is a popular open-source network visualization tool capable of handling networks with up to a million nodes and edges.\n",
    "\n",
    "* Graphistry: Graphistry uses GPU acceleration for handling and visualizing large graphs and can be integrated with PySpark. However, it's a commercial product.\n"
   ]
  },
  {
   "cell_type": "code",
   "execution_count": null,
   "metadata": {
    "application/vnd.databricks.v1+cell": {
     "cellMetadata": {
      "byteLimit": 2048000,
      "rowLimit": 10000
     },
     "inputWidgets": {},
     "nuid": "afd288ea-ec1c-46bd-91c4-d2142d6695b7",
     "showTitle": false,
     "title": ""
    }
   },
   "outputs": [
    {
     "name": "stdout",
     "output_type": "stream",
     "text": [
      "Collecting scipy>=1.8\r\n",
      "  Downloading scipy-1.10.1-cp38-cp38-manylinux_2_17_x86_64.manylinux2014_x86_64.whl (34.5 MB)\r\n",
      "\u001b[?25l\r\u001b[K     |                                | 10 kB 14.2 MB/s eta 0:00:03\r\u001b[K     |                                | 20 kB 6.8 MB/s eta 0:00:06\r\u001b[K     |                                | 30 kB 9.6 MB/s eta 0:00:04\r\u001b[K     |                                | 40 kB 5.8 MB/s eta 0:00:06\r\u001b[K     |                                | 51 kB 5.5 MB/s eta 0:00:07\r\u001b[K     |                                | 61 kB 6.5 MB/s eta 0:00:06\r\u001b[K     |                                | 71 kB 6.5 MB/s eta 0:00:06\r\u001b[K     |                                | 81 kB 6.3 MB/s eta 0:00:06\r\u001b[K     |                                | 92 kB 7.0 MB/s eta 0:00:05\r\u001b[K     |                                | 102 kB 5.9 MB/s eta 0:00:06\r\u001b[K     |                                | 112 kB 5.9 MB/s eta 0:00:06\r\u001b[K     |▏                               | 122 kB 5.9 MB/s eta 0:00:06\r\u001b[K     |▏                               | 133 kB 5.9 MB/s eta 0:00:06\r\u001b[K     |▏                               | 143 kB 5.9 MB/s eta 0:00:06\r\u001b[K     |▏                               | 153 kB 5.9 MB/s eta 0:00:06\r\u001b[K     |▏                               | 163 kB 5.9 MB/s eta 0:00:06\r\u001b[K     |▏                               | 174 kB 5.9 MB/s eta 0:00:06\r\u001b[K     |▏                               | 184 kB 5.9 MB/s eta 0:00:06\r\u001b[K     |▏                               | 194 kB 5.9 MB/s eta 0:00:06\r\u001b[K     |▏                               | 204 kB 5.9 MB/s eta 0:00:06\r\u001b[K     |▏                               | 215 kB 5.9 MB/s eta 0:00:06\r\u001b[K     |▏                               | 225 kB 5.9 MB/s eta 0:00:06\r\u001b[K     |▏                               | 235 kB 5.9 MB/s eta 0:00:06\r\u001b[K     |▎                               | 245 kB 5.9 MB/s eta 0:00:06\r\u001b[K     |▎                               | 256 kB 5.9 MB/s eta 0:00:06\r\u001b[K     |▎                               | 266 kB 5.9 MB/s eta 0:00:06\r\u001b[K     |▎                               | 276 kB 5.9 MB/s eta 0:00:06\r\u001b[K     |▎                               | 286 kB 5.9 MB/s eta 0:00:06\r\u001b[K     |▎                               | 296 kB 5.9 MB/s eta 0:00:06\r\u001b[K     |▎                               | 307 kB 5.9 MB/s eta 0:00:06\r\u001b[K     |▎                               | 317 kB 5.9 MB/s eta 0:00:06\r\u001b[K     |▎                               | 327 kB 5.9 MB/s eta 0:00:06\r\u001b[K     |▎                               | 337 kB 5.9 MB/s eta 0:00:06\r\u001b[K     |▎                               | 348 kB 5.9 MB/s eta 0:00:06\r\u001b[K     |▎                               | 358 kB 5.9 MB/s eta 0:00:06\r\u001b[K     |▍                               | 368 kB 5.9 MB/s eta 0:00:06\r\u001b[K     |▍                               | 378 kB 5.9 MB/s eta 0:00:06\r\u001b[K     |▍                               | 389 kB 5.9 MB/s eta 0:00:06\r\u001b[K     |▍                               | 399 kB 5.9 MB/s eta 0:00:06\r\u001b[K     |▍                               | 409 kB 5.9 MB/s eta 0:00:06\r\u001b[K     |▍                               | 419 kB 5.9 MB/s eta 0:00:06\r\u001b[K     |▍                               | 430 kB 5.9 MB/s eta 0:00:06\r\u001b[K     |▍                               | 440 kB 5.9 MB/s eta 0:00:06\r\u001b[K     |▍                               | 450 kB 5.9 MB/s eta 0:00:06\r\u001b[K     |▍                               | 460 kB 5.9 MB/s eta 0:00:06\r\u001b[K     |▍                               | 471 kB 5.9 MB/s eta 0:00:06\r\u001b[K     |▌                               | 481 kB 5.9 MB/s eta 0:00:06\r\u001b[K     |▌                               | 491 kB 5.9 MB/s eta 0:00:06\r\u001b[K     |▌                               | 501 kB 5.9 MB/s eta 0:00:06\r\u001b[K     |▌                               | 512 kB 5.9 MB/s eta 0:00:06\r\u001b[K     |▌                               | 522 kB 5.9 MB/s eta 0:00:06\r\u001b[K     |▌                               | 532 kB 5.9 MB/s eta 0:00:06\r\u001b[K     |▌                               | 542 kB 5.9 MB/s eta 0:00:06\r\u001b[K     |▌                               | 552 kB 5.9 MB/s eta 0:00:06\r\u001b[K     |▌                               | 563 kB 5.9 MB/s eta 0:00:06\r\u001b[K     |▌                               | 573 kB 5.9 MB/s eta 0:00:06\r\u001b[K     |▌                               | 583 kB 5.9 MB/s eta 0:00:06\r\u001b[K     |▌                               | 593 kB 5.9 MB/s eta 0:00:06\r\u001b[K     |▋                               | 604 kB 5.9 MB/s eta 0:00:06\r\u001b[K     |▋                               | 614 kB 5.9 MB/s eta 0:00:06\r\u001b[K     |▋                               | 624 kB 5.9 MB/s eta 0:00:06\r\u001b[K     |▋                               | 634 kB 5.9 MB/s eta 0:00:06\r\u001b[K     |▋                               | 645 kB 5.9 MB/s eta 0:00:06\r\u001b[K     |▋                               | 655 kB 5.9 MB/s eta 0:00:06\r\u001b[K     |▋                               | 665 kB 5.9 MB/s eta 0:00:06\r\u001b[K     |▋                               | 675 kB 5.9 MB/s eta 0:00:06\r\u001b[K     |▋                               | 686 kB 5.9 MB/s eta 0:00:06\r\u001b[K     |▋                               | 696 kB 5.9 MB/s eta 0:00:06\r\u001b[K     |▋                               | 706 kB 5.9 MB/s eta 0:00:06\r\u001b[K     |▋                               | 716 kB 5.9 MB/s eta 0:00:06\r\u001b[K     |▊                               | 727 kB 5.9 MB/s eta 0:00:06\r\u001b[K     |▊                               | 737 kB 5.9 MB/s eta 0:00:06\r\u001b[K     |▊                               | 747 kB 5.9 MB/s eta 0:00:06\r\u001b[K     |▊                               | 757 kB 5.9 MB/s eta 0:00:06\r\u001b[K     |▊                               | 768 kB 5.9 MB/s eta 0:00:06\r\u001b[K     |▊                               | 778 kB 5.9 MB/s eta 0:00:06\r\u001b[K     |▊                               | 788 kB 5.9 MB/s eta 0:00:06\r\u001b[K     |▊                               | 798 kB 5.9 MB/s eta 0:00:06\r\u001b[K     |▊                               | 808 kB 5.9 MB/s eta 0:00:06\r\u001b[K     |▊                               | 819 kB 5.9 MB/s eta 0:00:06\r\u001b[K     |▊                               | 829 kB 5.9 MB/s eta 0:00:06\r\u001b[K     |▉                               | 839 kB 5.9 MB/s eta 0:00:06\r\u001b[K     |▉                               | 849 kB 5.9 MB/s eta 0:00:06\r\u001b[K     |▉                               | 860 kB 5.9 MB/s eta 0:00:06\r\u001b[K     |▉                               | 870 kB 5.9 MB/s eta 0:00:06\r\u001b[K     |▉                               | 880 kB 5.9 MB/s eta 0:00:06\r\u001b[K     |▉                               | 890 kB 5.9 MB/s eta 0:00:06\r\u001b[K     |▉                               | 901 kB 5.9 MB/s eta 0:00:06\r\u001b[K     |▉                               | 911 kB 5.9 MB/s eta 0:00:06\r\u001b[K     |▉                               | 921 kB 5.9 MB/s eta 0:00:06\r\u001b[K     |▉                               | 931 kB 5.9 MB/s eta 0:00:06\r\u001b[K     |▉                               | 942 kB 5.9 MB/s eta 0:00:06\r\u001b[K     |▉                               | 952 kB 5.9 MB/s eta 0:00:06\r\u001b[K     |█                               | 962 kB 5.9 MB/s eta 0:00:06\r\u001b[K     |█                               | 972 kB 5.9 MB/s eta 0:00:06\r\u001b[K     |█                               | 983 kB 5.9 MB/s eta 0:00:06\r\u001b[K     |█                               | 993 kB 5.9 MB/s eta 0:00:06\r\u001b[K     |█                               | 1.0 MB 5.9 MB/s eta 0:00:06\r\u001b[K     |█                               | 1.0 MB 5.9 MB/s eta 0:00:06\r\u001b[K     |█                               | 1.0 MB 5.9 MB/s eta 0:00:06\r\u001b[K     |█                               | 1.0 MB 5.9 MB/s eta 0:00:06\r\u001b[K     |█                               | 1.0 MB 5.9 MB/s eta 0:00:06\r\u001b[K     |█                               | 1.1 MB 5.9 MB/s eta 0:00:06\r\u001b[K     |█                               | 1.1 MB 5.9 MB/s eta 0:00:06\r\u001b[K     |█                               | 1.1 MB 5.9 MB/s eta 0:00:06\r\u001b[K     |█                               | 1.1 MB 5.9 MB/s eta 0:00:06\r\u001b[K     |█                               | 1.1 MB 5.9 MB/s eta 0:00:06\r\u001b[K     |█                               | 1.1 MB 5.9 MB/s eta 0:00:06\r\u001b[K     |█                               | 1.1 MB 5.9 MB/s eta 0:00:06\r\u001b[K     |█                               | 1.1 MB 5.9 MB/s eta 0:00:06\r\u001b[K     |█                               | 1.1 MB 5.9 MB/s eta 0:00:06\r\u001b[K     |█                               | 1.1 MB 5.9 MB/s eta 0:00:06\r\u001b[K     |█                               | 1.2 MB 5.9 MB/s eta 0:00:06\r\u001b[K     |█                               | 1.2 MB 5.9 MB/s eta 0:00:06\r\u001b[K     |█                               | 1.2 MB 5.9 MB/s eta 0:00:06\r\u001b[K     |█                               | 1.2 MB 5.9 MB/s eta 0:00:06\r\u001b[K     |█                               | 1.2 MB 5.9 MB/s eta 0:00:06\r\u001b[K     |█▏                              | 1.2 MB 5.9 MB/s eta 0:00:06\r\u001b[K     |█▏                              | 1.2 MB 5.9 MB/s eta 0:00:06\r\u001b[K     |█▏                              | 1.2 MB 5.9 MB/s eta 0:00:06\r\u001b[K     |█▏                              | 1.2 MB 5.9 MB/s eta 0:00:06\r\u001b[K     |█▏                              | 1.2 MB 5.9 MB/s eta 0:00:06\r\u001b[K     |█▏                              | 1.3 MB 5.9 MB/s eta 0:00:06\r\u001b[K     |█▏                              | 1.3 MB 5.9 MB/s eta 0:00:06\r\u001b[K     |█▏                              | 1.3 MB 5.9 MB/s eta 0:00:06\r\u001b[K     |█▏                              | 1.3 MB 5.9 MB/s eta 0:00:06\r\u001b[K     |█▏                              | 1.3 MB 5.9 MB/s eta 0:00:06\r\u001b[K     |█▏                              | 1.3 MB 5.9 MB/s eta 0:00:06\r\u001b[K     |█▎                              | 1.3 MB 5.9 MB/s eta 0:00:06\r\u001b[K     |█▎                              | 1.3 MB 5.9 MB/s eta 0:00:06\r\u001b[K     |█▎                              | 1.3 MB 5.9 MB/s eta 0:00:06\r\u001b[K     |█▎                              | 1.4 MB 5.9 MB/s eta 0:00:06\r\u001b[K     |█▎                              | 1.4 MB 5.9 MB/s eta 0:00:06\r\u001b[K     |█▎                              | 1.4 MB 5.9 MB/s eta 0:00:06\r\u001b[K     |█▎                              | 1.4 MB 5.9 MB/s eta 0:00:06\r\u001b[K     |█▎                              | 1.4 MB 5.9 MB/s eta 0:00:06\r\u001b[K     |█▎                              | 1.4 MB 5.9 MB/s eta 0:00:06\r\u001b[K     |█▎                              | 1.4 MB 5.9 MB/s eta 0:00:06\r\u001b[K     |█▎                              | 1.4 MB 5.9 MB/s eta 0:00:06\r\u001b[K     |█▎                              | 1.4 MB 5.9 MB/s eta 0:00:06\r\u001b[K     |█▍                              | 1.4 MB 5.9 MB/s eta 0:00:06\r\u001b[K     |█▍                              | 1.5 MB 5.9 MB/s eta 0:00:06\r\u001b[K     |█▍                              | 1.5 MB 5.9 MB/s eta 0:00:06\r\u001b[K     |█▍                              | 1.5 MB 5.9 MB/s eta 0:00:06\r\u001b[K     |█▍                              | 1.5 MB 5.9 MB/s eta 0:00:06\r\u001b[K     |█▍                              | 1.5 MB 5.9 MB/s eta 0:00:06\r\u001b[K     |█▍                              | 1.5 MB 5.9 MB/s eta 0:00:06\r\u001b[K     |█▍                              | 1.5 MB 5.9 MB/s eta 0:00:06\r\u001b[K     |█▍                              | 1.5 MB 5.9 MB/s eta 0:00:06\r\u001b[K     |█▍                              | 1.5 MB 5.9 MB/s eta 0:00:06\r\u001b[K     |█▍                              | 1.5 MB 5.9 MB/s eta 0:00:06\r\u001b[K     |█▍                              | 1.6 MB 5.9 MB/s eta 0:00:06\r\u001b[K     |█▌                              | 1.6 MB 5.9 MB/s eta 0:00:06\r\u001b[K     |█▌                              | 1.6 MB 5.9 MB/s eta 0:00:06\r\u001b[K     |█▌                              | 1.6 MB 5.9 MB/s eta 0:00:06\r\u001b[K     |█▌                              | 1.6 MB 5.9 MB/s eta 0:00:06\r\u001b[K     |█▌                              | 1.6 MB 5.9 MB/s eta 0:00:06\r\u001b[K     |█▌                              | 1.6 MB 5.9 MB/s eta 0:00:06\r\u001b[K     |█▌                              | 1.6 MB 5.9 MB/s eta 0:00:06\r\u001b[K     |█▌                              | 1.6 MB 5.9 MB/s eta 0:00:06\r\u001b[K     |█▌                              | 1.6 MB 5.9 MB/s eta 0:00:06\r\u001b[K     |█▌                              | 1.7 MB 5.9 MB/s eta 0:00:06\r\u001b[K     |█▌                              | 1.7 MB 5.9 MB/s eta 0:00:06\r\u001b[K     |█▋                              | 1.7 MB 5.9 MB/s eta 0:00:06\r\u001b[K     |█▋                              | 1.7 MB 5.9 MB/s eta 0:00:06\r\u001b[K     |█▋                              | 1.7 MB 5.9 MB/s eta 0:00:06\r\u001b[K     |█▋                              | 1.7 MB 5.9 MB/s eta 0:00:06\r\u001b[K     |█▋                              | 1.7 MB 5.9 MB/s eta 0:00:06\r\u001b[K     |█▋                              | 1.7 MB 5.9 MB/s eta 0:00:06\r\u001b[K     |█▋                              | 1.7 MB 5.9 MB/s eta 0:00:06\r\u001b[K     |█▋                              | 1.8 MB 5.9 MB/s eta 0:00:06\r\u001b[K     |█▋                              | 1.8 MB 5.9 MB/s eta 0:00:06\r\u001b[K     |█▋                              | 1.8 MB 5.9 MB/s eta 0:00:06\r\u001b[K     |█▋                              | 1.8 MB 5.9 MB/s eta 0:00:06\r\u001b[K     |█▋                              | 1.8 MB 5.9 MB/s eta 0:00:06\r\u001b[K     |█▊                              | 1.8 MB 5.9 MB/s eta 0:00:06\r\u001b[K     |█▊                              | 1.8 MB 5.9 MB/s eta 0:00:06\r\u001b[K     |█▊                              | 1.8 MB 5.9 MB/s eta 0:00:06\r\u001b[K     |█▊                              | 1.8 MB 5.9 MB/s eta 0:00:06\r\u001b[K     |█▊                              | 1.8 MB 5.9 MB/s eta 0:00:06\r\u001b[K     |█▊                              | 1.9 MB 5.9 MB/s eta 0:00:06\r\u001b[K     |█▊                              | 1.9 MB 5.9 MB/s eta 0:00:06\r\u001b[K     |█▊                              | 1.9 MB 5.9 MB/s eta 0:00:06\r\u001b[K     |█▊                              | 1.9 MB 5.9 MB/s eta 0:00:06\r\u001b[K     |█▊                              | 1.9 MB 5.9 MB/s eta 0:00:06\r\u001b[K     |█▊                              | 1.9 MB 5.9 MB/s eta 0:00:06\r\u001b[K     |█▊                              | 1.9 MB 5.9 MB/s eta 0:00:06\r\u001b[K     |█▉                              | 1.9 MB 5.9 MB/s eta 0:00:06\r\u001b[K     |█▉                              | 1.9 MB 5.9 MB/s eta 0:00:06\r\u001b[K     |█▉                              | 1.9 MB 5.9 MB/s eta 0:00:06\r\u001b[K     |█▉                              | 2.0 MB 5.9 MB/s eta 0:00:06\r\u001b[K     |█▉                              | 2.0 MB 5.9 MB/s eta 0:00:06\r\u001b[K     |█▉                              | 2.0 MB 5.9 MB/s eta 0:00:06\r\u001b[K     |█▉                              | 2.0 MB 5.9 MB/s eta 0:00:06\r\u001b[K     |█▉                              | 2.0 MB 5.9 MB/s eta 0:00:06\r\u001b[K     |█▉                              | 2.0 MB 5.9 MB/s eta 0:00:06\r\u001b[K     |█▉                              | 2.0 MB 5.9 MB/s eta 0:00:06\r\u001b[K     |█▉                              | 2.0 MB 5.9 MB/s eta 0:00:06\r\u001b[K     |█▉                              | 2.0 MB 5.9 MB/s eta 0:00:06\r\u001b[K     |██                              | 2.0 MB 5.9 MB/s eta 0:00:06\r\u001b[K     |██                              | 2.1 MB 5.9 MB/s eta 0:00:06\r\u001b[K     |██                              | 2.1 MB 5.9 MB/s eta 0:00:06\r\u001b[K     |██                              | 2.1 MB 5.9 MB/s eta 0:00:06\r\u001b[K     |██                              | 2.1 MB 5.9 MB/s eta 0:00:06\r\u001b[K     |██                              | 2.1 MB 5.9 MB/s eta 0:00:06\r\u001b[K     |██                              | 2.1 MB 5.9 MB/s eta 0:00:06\r\u001b[K     |██                              | 2.1 MB 5.9 MB/s eta 0:00:06\r\u001b[K     |██                              | 2.1 MB 5.9 MB/s eta 0:00:06\r\u001b[K     |██                              | 2.1 MB 5.9 MB/s eta 0:00:06\r\u001b[K     |██                              | 2.2 MB 5.9 MB/s eta 0:00:06\r\u001b[K     |██                              | 2.2 MB 5.9 MB/s eta 0:00:06\r\u001b[K     |██                              | 2.2 MB 5.9 MB/s eta 0:00:06\r\u001b[K     |██                              | 2.2 MB 5.9 MB/s eta 0:00:06\r\u001b[K     |██                              | 2.2 MB 5.9 MB/s eta 0:00:06\r\u001b[K     |██                              | 2.2 MB 5.9 MB/s eta 0:00:06\r\u001b[K     |██                              | 2.2 MB 5.9 MB/s eta 0:00:06\r\u001b[K     |██                              | 2.2 MB 5.9 MB/s eta 0:00:06\r\u001b[K     |██                              | 2.2 MB 5.9 MB/s eta 0:00:06\r\u001b[K     |██                              | 2.2 MB 5.9 MB/s eta 0:00:06\r\u001b[K     |██                              | 2.3 MB 5.9 MB/s eta 0:00:06\r\u001b[K     |██                              | 2.3 MB 5.9 MB/s eta 0:00:06\r\u001b[K     |██                              | 2.3 MB 5.9 MB/s eta 0:00:06\r\u001b[K     |██▏                             | 2.3 MB 5.9 MB/s eta 0:00:06\r\u001b[K     |██▏                             | 2.3 MB 5.9 MB/s eta 0:00:06\r\u001b[K     |██▏                             | 2.3 MB 5.9 MB/s eta 0:00:06\r\u001b[K     |██▏                             | 2.3 MB 5.9 MB/s eta 0:00:06\r\u001b[K     |██▏                             | 2.3 MB 5.9 MB/s eta 0:00:06\r\u001b[K     |██▏                             | 2.3 MB 5.9 MB/s eta 0:00:06\r\u001b[K     |██▏                             | 2.3 MB 5.9 MB/s eta 0:00:06\r\u001b[K     |██▏                             | 2.4 MB 5.9 MB/s eta 0:00:06\r\u001b[K     |██▏                             | 2.4 MB 5.9 MB/s eta 0:00:06\r\u001b[K     |██▏                             | 2.4 MB 5.9 MB/s eta 0:00:06\r\u001b[K     |██▏                             | 2.4 MB 5.9 MB/s eta 0:00:06\r\u001b[K     |██▏                             | 2.4 MB 5.9 MB/s eta 0:00:06\r\u001b[K     |██▎                             | 2.4 MB 5.9 MB/s eta 0:00:06\r\u001b[K     |██▎                             | 2.4 MB 5.9 MB/s eta 0:00:06\r\u001b[K     |██▎                             | 2.4 MB 5.9 MB/s eta 0:00:06\r\u001b[K     |██▎                             | 2.4 MB 5.9 MB/s eta 0:00:06\r\u001b[K     |██▎                             | 2.4 MB 5.9 MB/s eta 0:00:06\r\u001b[K     |██▎                             | 2.5 MB 5.9 MB/s eta 0:00:06\r\u001b[K     |██▎                             | 2.5 MB 5.9 MB/s eta 0:00:06\r\u001b[K     |██▎                             | 2.5 MB 5.9 MB/s eta 0:00:06\r\u001b[K     |██▎                             | 2.5 MB 5.9 MB/s eta 0:00:06\r\u001b[K     |██▎                             | 2.5 MB 5.9 MB/s eta 0:00:06\r\u001b[K     |██▎                             | 2.5 MB 5.9 MB/s eta 0:00:06\r\u001b[K     |██▍                             | 2.5 MB 5.9 MB/s eta 0:00:06\r\u001b[K     |██▍                             | 2.5 MB 5.9 MB/s eta 0:00:06\r\u001b[K     |██▍                             | 2.5 MB 5.9 MB/s eta 0:00:06\r\u001b[K     |██▍                             | 2.5 MB 5.9 MB/s eta 0:00:06\r\u001b[K     |██▍                             | 2.6 MB 5.9 MB/s eta 0:00:06\r\u001b[K     |██▍                             | 2.6 MB 5.9 MB/s eta 0:00:06\r\u001b[K     |██▍                             | 2.6 MB 5.9 MB/s eta 0:00:06\r\u001b[K     |██▍                             | 2.6 MB 5.9 MB/s eta 0:00:06\r\u001b[K     |██▍                             | 2.6 MB 5.9 MB/s eta 0:00:06\r\u001b[K     |██▍                             | 2.6 MB 5.9 MB/s eta 0:00:06\r\u001b[K     |██▍                             | 2.6 MB 5.9 MB/s eta 0:00:06\r\u001b[K     |██▍                             | 2.6 MB 5.9 MB/s eta 0:00:06\r\u001b[K     |██▌                             | 2.6 MB 5.9 MB/s eta 0:00:06\r\u001b[K     |██▌                             | 2.7 MB 5.9 MB/s eta 0:00:06\r\u001b[K     |██▌                             | 2.7 MB 5.9 MB/s eta 0:00:06\r\u001b[K     |██▌                             | 2.7 MB 5.9 MB/s eta 0:00:06\r\u001b[K     |██▌                             | 2.7 MB 5.9 MB/s eta 0:00:06\r\u001b[K     |██▌                             | 2.7 MB 5.9 MB/s eta 0:00:06\r\u001b[K     |██▌                             | 2.7 MB 5.9 MB/s eta 0:00:06\r\u001b[K     |██▌                             | 2.7 MB 5.9 MB/s eta 0:00:06\r\u001b[K     |██▌                             | 2.7 MB 5.9 MB/s eta 0:00:06\r\u001b[K     |██▌                             | 2.7 MB 5.9 MB/s eta 0:00:06\r\u001b[K     |██▌                             | 2.7 MB 5.9 MB/s eta 0:00:06\r\u001b[K     |██▌                             | 2.8 MB 5.9 MB/s eta 0:00:06\r\u001b[K     |██▋                             | 2.8 MB 5.9 MB/s eta 0:00:06\r\u001b[K     |██▋                             | 2.8 MB 5.9 MB/s eta 0:00:06\r\u001b[K     |██▋                             | 2.8 MB 5.9 MB/s eta 0:00:06\r\u001b[K     |██▋                             | 2.8 MB 5.9 MB/s eta 0:00:06\r\u001b[K     |██▋                             | 2.8 MB 5.9 MB/s eta 0:00:06\r\u001b[K     |██▋                             | 2.8 MB 5.9 MB/s eta 0:00:06\r\u001b[K     |██▋                             | 2.8 MB 5.9 MB/s eta 0:00:06\r\u001b[K     |██▋                             | 2.8 MB 5.9 MB/s eta 0:00:06\r\u001b[K     |██▋                             | 2.8 MB 5.9 MB/s eta 0:00:06\r\u001b[K     |██▋                             | 2.9 MB 5.9 MB/s eta 0:00:06\r\u001b[K     |██▋                             | 2.9 MB 5.9 MB/s eta 0:00:06\r\u001b[K     |██▋                             | 2.9 MB 5.9 MB/s eta 0:00:06\r\u001b[K     |██▊                             | 2.9 MB 5.9 MB/s eta 0:00:06\r\u001b[K     |██▊                             | 2.9 MB 5.9 MB/s eta 0:00:06\r\u001b[K     |██▊                             | 2.9 MB 5.9 MB/s eta 0:00:06\r\u001b[K     |██▊                             | 2.9 MB 5.9 MB/s eta 0:00:06\r\u001b[K     |██▊                             | 2.9 MB 5.9 MB/s eta 0:00:06\r\u001b[K     |██▊                             | 2.9 MB 5.9 MB/s eta 0:00:06\r\u001b[K     |██▊                             | 2.9 MB 5.9 MB/s eta 0:00:06\r\u001b[K     |██▊                             | 3.0 MB 5.9 MB/s eta 0:00:06\r\u001b[K     |██▊                             | 3.0 MB 5.9 MB/s eta 0:00:06\r\u001b[K     |██▊                             | 3.0 MB 5.9 MB/s eta 0:00:06\r\u001b[K     |██▊                             | 3.0 MB 5.9 MB/s eta 0:00:06\r\u001b[K     |██▉                             | 3.0 MB 5.9 MB/s eta 0:00:06\r\u001b[K     |██▉                             | 3.0 MB 5.9 MB/s eta 0:00:06\r\u001b[K     |██▉                             | 3.0 MB 5.9 MB/s eta 0:00:06\r\u001b[K     |██▉                             | 3.0 MB 5.9 MB/s eta 0:00:06\r\u001b[K     |██▉                             | 3.0 MB 5.9 MB/s eta 0:00:06\r\u001b[K     |██▉                             | 3.1 MB 5.9 MB/s eta 0:00:06\r\u001b[K     |██▉                             | 3.1 MB 5.9 MB/s eta 0:00:06\r\u001b[K     |██▉                             | 3.1 MB 5.9 MB/s eta 0:00:06\r\u001b[K     |██▉                             | 3.1 MB 5.9 MB/s eta 0:00:06\r\u001b[K     |██▉                             | 3.1 MB 5.9 MB/s eta 0:00:06\r\u001b[K     |██▉                             | 3.1 MB 5.9 MB/s eta 0:00:06\r\u001b[K     |██▉                             | 3.1 MB 5.9 MB/s eta 0:00:06\r\u001b[K     |███                             | 3.1 MB 5.9 MB/s eta 0:00:06\r\u001b[K     |███                             | 3.1 MB 5.9 MB/s eta 0:00:06\r\u001b[K     |███                             | 3.1 MB 5.9 MB/s eta 0:00:06\r\u001b[K     |███                             | 3.2 MB 5.9 MB/s eta 0:00:06\r\u001b[K     |███                             | 3.2 MB 5.9 MB/s eta 0:00:06\r\u001b[K     |███                             | 3.2 MB 5.9 MB/s eta 0:00:06\r\u001b[K     |███                             | 3.2 MB 5.9 MB/s eta 0:00:06\r\u001b[K     |███                             | 3.2 MB 5.9 MB/s eta 0:00:06\r\u001b[K     |███                             | 3.2 MB 5.9 MB/s eta 0:00:06\r\u001b[K     |███                             | 3.2 MB 5.9 MB/s eta 0:00:06\r\u001b[K     |███                             | 3.2 MB 5.9 MB/s eta 0:00:06\r\u001b[K     |███                             | 3.2 MB 5.9 MB/s eta 0:00:06\r\u001b[K     |███                             | 3.2 MB 5.9 MB/s eta 0:00:06\r\u001b[K     |███                             | 3.3 MB 5.9 MB/s eta 0:00:06\r\u001b[K     |███                             | 3.3 MB 5.9 MB/s eta 0:00:06\r\u001b[K     |███                             | 3.3 MB 5.9 MB/s eta 0:00:06\r\u001b[K     |███                             | 3.3 MB 5.9 MB/s eta 0:00:06\r\u001b[K     |███                             | 3.3 MB 5.9 MB/s eta 0:00:06\r\u001b[K     |███                             | 3.3 MB 5.9 MB/s eta 0:00:06\r\u001b[K     |███                             | 3.3 MB 5.9 MB/s eta 0:00:06\r\u001b[K     |███                             | 3.3 MB 5.9 MB/s eta 0:00:06\r\u001b[K     |███                             | 3.3 MB 5.9 MB/s eta 0:00:06\r\u001b[K     |███                             | 3.3 MB 5.9 MB/s eta 0:00:06\r\u001b[K     |███▏                            | 3.4 MB 5.9 MB/s eta 0:00:06\r\u001b[K     |███▏                            | 3.4 MB 5.9 MB/s eta 0:00:06\r\u001b[K     |███▏                            | 3.4 MB 5.9 MB/s eta 0:00:06\r\u001b[K     |███▏                            | 3.4 MB 5.9 MB/s eta 0:00:06\r\u001b[K     |███▏                            | 3.4 MB 5.9 MB/s eta 0:00:06\r\u001b[K     |███▏                            | 3.4 MB 5.9 MB/s eta 0:00:06\r\u001b[K     |███▏                            | 3.4 MB 5.9 MB/s eta 0:00:06\r\u001b[K     |███▏                            | 3.4 MB 5.9 MB/s eta 0:00:06\r\u001b[K     |███▏                            | 3.4 MB 5.9 MB/s eta 0:00:06\r\u001b[K     |███▏                            | 3.5 MB 5.9 MB/s eta 0:00:06\r\u001b[K     |███▏                            | 3.5 MB 5.9 MB/s eta 0:00:06\r\u001b[K     |███▏                            | 3.5 MB 5.9 MB/s eta 0:00:06\r\u001b[K     |███▎                            | 3.5 MB 5.9 MB/s eta 0:00:06\r\u001b[K     |███▎                            | 3.5 MB 5.9 MB/s eta 0:00:06\r\u001b[K     |███▎                            | 3.5 MB 5.9 MB/s eta 0:00:06\r\u001b[K     |███▎                            | 3.5 MB 5.9 MB/s eta 0:00:06\r\u001b[K     |███▎                            | 3.5 MB 5.9 MB/s eta 0:00:06\r\u001b[K     |███▎                            | 3.5 MB 5.9 MB/s eta 0:00:06\r\u001b[K     |███▎                            | 3.5 MB 5.9 MB/s eta 0:00:06\r\u001b[K     |███▎                            | 3.6 MB 5.9 MB/s eta 0:00:06\r\u001b[K     |███▎                            | 3.6 MB 5.9 MB/s eta 0:00:06\r\u001b[K     |███▎                            | 3.6 MB 5.9 MB/s eta 0:00:06\r\u001b[K     |███▎                            | 3.6 MB 5.9 MB/s eta 0:00:06\r\u001b[K     |███▎                    \n",
      "\n",
      "*** WARNING: max output size exceeded, skipping output. ***\n",
      "\n",
      " 0:00:01\r\u001b[K     |██████████████████████████████▋ | 33.1 MB 42.2 MB/s eta 0:00:01\r\u001b[K     |██████████████████████████████▋ | 33.1 MB 42.2 MB/s eta 0:00:01\r\u001b[K     |██████████████████████████████▋ | 33.1 MB 42.2 MB/s eta 0:00:01\r\u001b[K     |██████████████████████████████▋ | 33.1 MB 42.2 MB/s eta 0:00:01\r\u001b[K     |██████████████████████████████▊ | 33.1 MB 42.2 MB/s eta 0:00:01\r\u001b[K     |██████████████████████████████▊ | 33.1 MB 42.2 MB/s eta 0:00:01\r\u001b[K     |██████████████████████████████▊ | 33.1 MB 42.2 MB/s eta 0:00:01\r\u001b[K     |██████████████████████████████▊ | 33.1 MB 42.2 MB/s eta 0:00:01\r\u001b[K     |██████████████████████████████▊ | 33.1 MB 42.2 MB/s eta 0:00:01\r\u001b[K     |██████████████████████████████▊ | 33.2 MB 42.2 MB/s eta 0:00:01\r\u001b[K     |██████████████████████████████▊ | 33.2 MB 42.2 MB/s eta 0:00:01\r\u001b[K     |██████████████████████████████▊ | 33.2 MB 42.2 MB/s eta 0:00:01\r\u001b[K     |██████████████████████████████▊ | 33.2 MB 42.2 MB/s eta 0:00:01\r\u001b[K     |██████████████████████████████▊ | 33.2 MB 42.2 MB/s eta 0:00:01\r\u001b[K     |██████████████████████████████▊ | 33.2 MB 42.2 MB/s eta 0:00:01\r\u001b[K     |██████████████████████████████▊ | 33.2 MB 42.2 MB/s eta 0:00:01\r\u001b[K     |██████████████████████████████▉ | 33.2 MB 42.2 MB/s eta 0:00:01\r\u001b[K     |██████████████████████████████▉ | 33.2 MB 42.2 MB/s eta 0:00:01\r\u001b[K     |██████████████████████████████▉ | 33.2 MB 42.2 MB/s eta 0:00:01\r\u001b[K     |██████████████████████████████▉ | 33.3 MB 42.2 MB/s eta 0:00:01\r\u001b[K     |██████████████████████████████▉ | 33.3 MB 42.2 MB/s eta 0:00:01\r\u001b[K     |██████████████████████████████▉ | 33.3 MB 42.2 MB/s eta 0:00:01\r\u001b[K     |██████████████████████████████▉ | 33.3 MB 42.2 MB/s eta 0:00:01\r\u001b[K     |██████████████████████████████▉ | 33.3 MB 42.2 MB/s eta 0:00:01\r\u001b[K     |██████████████████████████████▉ | 33.3 MB 42.2 MB/s eta 0:00:01\r\u001b[K     |██████████████████████████████▉ | 33.3 MB 42.2 MB/s eta 0:00:01\r\u001b[K     |██████████████████████████████▉ | 33.3 MB 42.2 MB/s eta 0:00:01\r\u001b[K     |███████████████████████████████ | 33.3 MB 42.2 MB/s eta 0:00:01\r\u001b[K     |███████████████████████████████ | 33.4 MB 42.2 MB/s eta 0:00:01\r\u001b[K     |███████████████████████████████ | 33.4 MB 42.2 MB/s eta 0:00:01\r\u001b[K     |███████████████████████████████ | 33.4 MB 42.2 MB/s eta 0:00:01\r\u001b[K     |███████████████████████████████ | 33.4 MB 42.2 MB/s eta 0:00:01\r\u001b[K     |███████████████████████████████ | 33.4 MB 42.2 MB/s eta 0:00:01\r\u001b[K     |███████████████████████████████ | 33.4 MB 42.2 MB/s eta 0:00:01\r\u001b[K     |███████████████████████████████ | 33.4 MB 42.2 MB/s eta 0:00:01\r\u001b[K     |███████████████████████████████ | 33.4 MB 42.2 MB/s eta 0:00:01\r\u001b[K     |███████████████████████████████ | 33.4 MB 42.2 MB/s eta 0:00:01\r\u001b[K     |███████████████████████████████ | 33.4 MB 42.2 MB/s eta 0:00:01\r\u001b[K     |███████████████████████████████ | 33.5 MB 42.2 MB/s eta 0:00:01\r\u001b[K     |███████████████████████████████ | 33.5 MB 42.2 MB/s eta 0:00:01\r\u001b[K     |███████████████████████████████ | 33.5 MB 42.2 MB/s eta 0:00:01\r\u001b[K     |███████████████████████████████ | 33.5 MB 42.2 MB/s eta 0:00:01\r\u001b[K     |███████████████████████████████ | 33.5 MB 42.2 MB/s eta 0:00:01\r\u001b[K     |███████████████████████████████ | 33.5 MB 42.2 MB/s eta 0:00:01\r\u001b[K     |███████████████████████████████ | 33.5 MB 42.2 MB/s eta 0:00:01\r\u001b[K     |███████████████████████████████ | 33.5 MB 42.2 MB/s eta 0:00:01\r\u001b[K     |███████████████████████████████ | 33.5 MB 42.2 MB/s eta 0:00:01\r\u001b[K     |███████████████████████████████ | 33.5 MB 42.2 MB/s eta 0:00:01\r\u001b[K     |███████████████████████████████ | 33.6 MB 42.2 MB/s eta 0:00:01\r\u001b[K     |███████████████████████████████ | 33.6 MB 42.2 MB/s eta 0:00:01\r\u001b[K     |███████████████████████████████ | 33.6 MB 42.2 MB/s eta 0:00:01\r\u001b[K     |███████████████████████████████▏| 33.6 MB 42.2 MB/s eta 0:00:01\r\u001b[K     |███████████████████████████████▏| 33.6 MB 42.2 MB/s eta 0:00:01\r\u001b[K     |███████████████████████████████▏| 33.6 MB 42.2 MB/s eta 0:00:01\r\u001b[K     |███████████████████████████████▏| 33.6 MB 42.2 MB/s eta 0:00:01\r\u001b[K     |███████████████████████████████▏| 33.6 MB 42.2 MB/s eta 0:00:01\r\u001b[K     |███████████████████████████████▏| 33.6 MB 42.2 MB/s eta 0:00:01\r\u001b[K     |███████████████████████████████▏| 33.6 MB 42.2 MB/s eta 0:00:01\r\u001b[K     |███████████████████████████████▏| 33.7 MB 42.2 MB/s eta 0:00:01\r\u001b[K     |███████████████████████████████▏| 33.7 MB 42.2 MB/s eta 0:00:01\r\u001b[K     |███████████████████████████████▏| 33.7 MB 42.2 MB/s eta 0:00:01\r\u001b[K     |███████████████████████████████▏| 33.7 MB 42.2 MB/s eta 0:00:01\r\u001b[K     |███████████████████████████████▏| 33.7 MB 42.2 MB/s eta 0:00:01\r\u001b[K     |███████████████████████████████▎| 33.7 MB 42.2 MB/s eta 0:00:01\r\u001b[K     |███████████████████████████████▎| 33.7 MB 42.2 MB/s eta 0:00:01\r\u001b[K     |███████████████████████████████▎| 33.7 MB 42.2 MB/s eta 0:00:01\r\u001b[K     |███████████████████████████████▎| 33.7 MB 42.2 MB/s eta 0:00:01\r\u001b[K     |███████████████████████████████▎| 33.8 MB 42.2 MB/s eta 0:00:01\r\u001b[K     |███████████████████████████████▎| 33.8 MB 42.2 MB/s eta 0:00:01\r\u001b[K     |███████████████████████████████▎| 33.8 MB 42.2 MB/s eta 0:00:01\r\u001b[K     |███████████████████████████████▎| 33.8 MB 42.2 MB/s eta 0:00:01\r\u001b[K     |███████████████████████████████▎| 33.8 MB 42.2 MB/s eta 0:00:01\r\u001b[K     |███████████████████████████████▎| 33.8 MB 42.2 MB/s eta 0:00:01\r\u001b[K     |███████████████████████████████▎| 33.8 MB 42.2 MB/s eta 0:00:01\r\u001b[K     |███████████████████████████████▍| 33.8 MB 42.2 MB/s eta 0:00:01\r\u001b[K     |███████████████████████████████▍| 33.8 MB 42.2 MB/s eta 0:00:01\r\u001b[K     |███████████████████████████████▍| 33.8 MB 42.2 MB/s eta 0:00:01\r\u001b[K     |███████████████████████████████▍| 33.9 MB 42.2 MB/s eta 0:00:01\r\u001b[K     |███████████████████████████████▍| 33.9 MB 42.2 MB/s eta 0:00:01\r\u001b[K     |███████████████████████████████▍| 33.9 MB 42.2 MB/s eta 0:00:01\r\u001b[K     |███████████████████████████████▍| 33.9 MB 42.2 MB/s eta 0:00:01\r\u001b[K     |███████████████████████████████▍| 33.9 MB 42.2 MB/s eta 0:00:01\r\u001b[K     |███████████████████████████████▍| 33.9 MB 42.2 MB/s eta 0:00:01\r\u001b[K     |███████████████████████████████▍| 33.9 MB 42.2 MB/s eta 0:00:01\r\u001b[K     |███████████████████████████████▍| 33.9 MB 42.2 MB/s eta 0:00:01\r\u001b[K     |███████████████████████████████▍| 33.9 MB 42.2 MB/s eta 0:00:01\r\u001b[K     |███████████████████████████████▌| 33.9 MB 42.2 MB/s eta 0:00:01\r\u001b[K     |███████████████████████████████▌| 34.0 MB 42.2 MB/s eta 0:00:01\r\u001b[K     |███████████████████████████████▌| 34.0 MB 42.2 MB/s eta 0:00:01\r\u001b[K     |███████████████████████████████▌| 34.0 MB 42.2 MB/s eta 0:00:01\r\u001b[K     |███████████████████████████████▌| 34.0 MB 42.2 MB/s eta 0:00:01\r\u001b[K     |███████████████████████████████▌| 34.0 MB 42.2 MB/s eta 0:00:01\r\u001b[K     |███████████████████████████████▌| 34.0 MB 42.2 MB/s eta 0:00:01\r\u001b[K     |███████████████████████████████▌| 34.0 MB 42.2 MB/s eta 0:00:01\r\u001b[K     |███████████████████████████████▌| 34.0 MB 42.2 MB/s eta 0:00:01\r\u001b[K     |███████████████████████████████▌| 34.0 MB 42.2 MB/s eta 0:00:01\r\u001b[K     |███████████████████████████████▌| 34.0 MB 42.2 MB/s eta 0:00:01\r\u001b[K     |███████████████████████████████▌| 34.1 MB 42.2 MB/s eta 0:00:01\r\u001b[K     |███████████████████████████████▋| 34.1 MB 42.2 MB/s eta 0:00:01\r\u001b[K     |███████████████████████████████▋| 34.1 MB 42.2 MB/s eta 0:00:01\r\u001b[K     |███████████████████████████████▋| 34.1 MB 42.2 MB/s eta 0:00:01\r\u001b[K     |███████████████████████████████▋| 34.1 MB 42.2 MB/s eta 0:00:01\r\u001b[K     |███████████████████████████████▋| 34.1 MB 42.2 MB/s eta 0:00:01\r\u001b[K     |███████████████████████████████▋| 34.1 MB 42.2 MB/s eta 0:00:01\r\u001b[K     |███████████████████████████████▋| 34.1 MB 42.2 MB/s eta 0:00:01\r\u001b[K     |███████████████████████████████▋| 34.1 MB 42.2 MB/s eta 0:00:01\r\u001b[K     |███████████████████████████████▋| 34.2 MB 42.2 MB/s eta 0:00:01\r\u001b[K     |███████████████████████████████▋| 34.2 MB 42.2 MB/s eta 0:00:01\r\u001b[K     |███████████████████████████████▋| 34.2 MB 42.2 MB/s eta 0:00:01\r\u001b[K     |███████████████████████████████▊| 34.2 MB 42.2 MB/s eta 0:00:01\r\u001b[K     |███████████████████████████████▊| 34.2 MB 42.2 MB/s eta 0:00:01\r\u001b[K     |███████████████████████████████▊| 34.2 MB 42.2 MB/s eta 0:00:01\r\u001b[K     |███████████████████████████████▊| 34.2 MB 42.2 MB/s eta 0:00:01\r\u001b[K     |███████████████████████████████▊| 34.2 MB 42.2 MB/s eta 0:00:01\r\u001b[K     |███████████████████████████████▊| 34.2 MB 42.2 MB/s eta 0:00:01\r\u001b[K     |███████████████████████████████▊| 34.2 MB 42.2 MB/s eta 0:00:01\r\u001b[K     |███████████████████████████████▊| 34.3 MB 42.2 MB/s eta 0:00:01\r\u001b[K     |███████████████████████████████▊| 34.3 MB 42.2 MB/s eta 0:00:01\r\u001b[K     |███████████████████████████████▊| 34.3 MB 42.2 MB/s eta 0:00:01\r\u001b[K     |███████████████████████████████▊| 34.3 MB 42.2 MB/s eta 0:00:01\r\u001b[K     |███████████████████████████████▊| 34.3 MB 42.2 MB/s eta 0:00:01\r\u001b[K     |███████████████████████████████▉| 34.3 MB 42.2 MB/s eta 0:00:01\r\u001b[K     |███████████████████████████████▉| 34.3 MB 42.2 MB/s eta 0:00:01\r\u001b[K     |███████████████████████████████▉| 34.3 MB 42.2 MB/s eta 0:00:01\r\u001b[K     |███████████████████████████████▉| 34.3 MB 42.2 MB/s eta 0:00:01\r\u001b[K     |███████████████████████████████▉| 34.3 MB 42.2 MB/s eta 0:00:01\r\u001b[K     |███████████████████████████████▉| 34.4 MB 42.2 MB/s eta 0:00:01\r\u001b[K     |███████████████████████████████▉| 34.4 MB 42.2 MB/s eta 0:00:01\r\u001b[K     |███████████████████████████████▉| 34.4 MB 42.2 MB/s eta 0:00:01\r\u001b[K     |███████████████████████████████▉| 34.4 MB 42.2 MB/s eta 0:00:01\r\u001b[K     |███████████████████████████████▉| 34.4 MB 42.2 MB/s eta 0:00:01\r\u001b[K     |███████████████████████████████▉| 34.4 MB 42.2 MB/s eta 0:00:01\r\u001b[K     |███████████████████████████████▉| 34.4 MB 42.2 MB/s eta 0:00:01\r\u001b[K     |████████████████████████████████| 34.4 MB 42.2 MB/s eta 0:00:01\r\u001b[K     |████████████████████████████████| 34.4 MB 42.2 MB/s eta 0:00:01\r\u001b[K     |████████████████████████████████| 34.4 MB 42.2 MB/s eta 0:00:01\r\u001b[K     |████████████████████████████████| 34.5 MB 42.2 MB/s eta 0:00:01\r\u001b[K     |████████████████████████████████| 34.5 MB 42.2 MB/s eta 0:00:01\r\u001b[K     |████████████████████████████████| 34.5 MB 42.2 MB/s eta 0:00:01\r\u001b[K     |████████████████████████████████| 34.5 MB 42.2 MB/s eta 0:00:01\r\u001b[K     |████████████████████████████████| 34.5 MB 42.2 MB/s eta 0:00:01\r\u001b[K     |████████████████████████████████| 34.5 MB 42.2 MB/s eta 0:00:01\r\u001b[K     |████████████████████████████████| 34.5 MB 42.2 MB/s eta 0:00:01\r\u001b[K     |████████████████████████████████| 34.5 MB 42.2 MB/s eta 0:00:01\r\u001b[K     |████████████████████████████████| 34.5 MB 42.2 MB/s eta 0:00:01\r\u001b[K     |████████████████████████████████| 34.5 MB 42.2 MB/s \r\n",
      "\u001b[?25hRequirement already satisfied: numpy<1.27.0,>=1.19.5 in /databricks/python3/lib/python3.8/site-packages (from scipy>=1.8) (1.20.1)\r\n",
      "Installing collected packages: scipy\r\n",
      "  Attempting uninstall: scipy\r\n",
      "    Found existing installation: scipy 1.6.2\r\n",
      "    Uninstalling scipy-1.6.2:\r\n",
      "      Successfully uninstalled scipy-1.6.2\r\n",
      "Successfully installed scipy-1.10.1\r\n",
      "\u001b[33mWARNING: You are using pip version 21.0.1; however, version 23.3.1 is available.\r\n",
      "You should consider upgrading via the '/databricks/python3/bin/python -m pip install --upgrade pip' command.\u001b[0m\r\n",
      "Collecting networkx<2.7\r\n",
      "  Downloading networkx-2.6.3-py3-none-any.whl (1.9 MB)\r\n",
      "\u001b[?25l\r\u001b[K     |▏                               | 10 kB 16.5 MB/s eta 0:00:01\r\u001b[K     |▍                               | 20 kB 8.4 MB/s eta 0:00:01\r\u001b[K     |▌                               | 30 kB 11.5 MB/s eta 0:00:01\r\u001b[K     |▊                               | 40 kB 6.1 MB/s eta 0:00:01\r\u001b[K     |▉                               | 51 kB 4.5 MB/s eta 0:00:01\r\u001b[K     |█                               | 61 kB 5.3 MB/s eta 0:00:01\r\u001b[K     |█▏                              | 71 kB 6.0 MB/s eta 0:00:01\r\u001b[K     |█▍                              | 81 kB 3.8 MB/s eta 0:00:01\r\u001b[K     |█▌                              | 92 kB 4.2 MB/s eta 0:00:01\r\u001b[K     |█▊                              | 102 kB 4.6 MB/s eta 0:00:01\r\u001b[K     |█▉                              | 112 kB 4.6 MB/s eta 0:00:01\r\u001b[K     |██                              | 122 kB 4.6 MB/s eta 0:00:01\r\u001b[K     |██▏                             | 133 kB 4.6 MB/s eta 0:00:01\r\u001b[K     |██▍                             | 143 kB 4.6 MB/s eta 0:00:01\r\u001b[K     |██▌                             | 153 kB 4.6 MB/s eta 0:00:01\r\u001b[K     |██▊                             | 163 kB 4.6 MB/s eta 0:00:01\r\u001b[K     |███                             | 174 kB 4.6 MB/s eta 0:00:01\r\u001b[K     |███                             | 184 kB 4.6 MB/s eta 0:00:01\r\u001b[K     |███▎                            | 194 kB 4.6 MB/s eta 0:00:01\r\u001b[K     |███▍                            | 204 kB 4.6 MB/s eta 0:00:01\r\u001b[K     |███▋                            | 215 kB 4.6 MB/s eta 0:00:01\r\u001b[K     |███▊                            | 225 kB 4.6 MB/s eta 0:00:01\r\u001b[K     |████                            | 235 kB 4.6 MB/s eta 0:00:01\r\u001b[K     |████                            | 245 kB 4.6 MB/s eta 0:00:01\r\u001b[K     |████▎                           | 256 kB 4.6 MB/s eta 0:00:01\r\u001b[K     |████▍                           | 266 kB 4.6 MB/s eta 0:00:01\r\u001b[K     |████▋                           | 276 kB 4.6 MB/s eta 0:00:01\r\u001b[K     |████▊                           | 286 kB 4.6 MB/s eta 0:00:01\r\u001b[K     |█████                           | 296 kB 4.6 MB/s eta 0:00:01\r\u001b[K     |█████                           | 307 kB 4.6 MB/s eta 0:00:01\r\u001b[K     |█████▎                          | 317 kB 4.6 MB/s eta 0:00:01\r\u001b[K     |█████▍                          | 327 kB 4.6 MB/s eta 0:00:01\r\u001b[K     |█████▋                          | 337 kB 4.6 MB/s eta 0:00:01\r\u001b[K     |█████▉                          | 348 kB 4.6 MB/s eta 0:00:01\r\u001b[K     |██████                          | 358 kB 4.6 MB/s eta 0:00:01\r\u001b[K     |██████▏                         | 368 kB 4.6 MB/s eta 0:00:01\r\u001b[K     |██████▎                         | 378 kB 4.6 MB/s eta 0:00:01\r\u001b[K     |██████▌                         | 389 kB 4.6 MB/s eta 0:00:01\r\u001b[K     |██████▋                         | 399 kB 4.6 MB/s eta 0:00:01\r\u001b[K     |██████▉                         | 409 kB 4.6 MB/s eta 0:00:01\r\u001b[K     |███████                         | 419 kB 4.6 MB/s eta 0:00:01\r\u001b[K     |███████▏                        | 430 kB 4.6 MB/s eta 0:00:01\r\u001b[K     |███████▎                        | 440 kB 4.6 MB/s eta 0:00:01\r\u001b[K     |███████▌                        | 450 kB 4.6 MB/s eta 0:00:01\r\u001b[K     |███████▋                        | 460 kB 4.6 MB/s eta 0:00:01\r\u001b[K     |███████▉                        | 471 kB 4.6 MB/s eta 0:00:01\r\u001b[K     |████████                        | 481 kB 4.6 MB/s eta 0:00:01\r\u001b[K     |████████▏                       | 491 kB 4.6 MB/s eta 0:00:01\r\u001b[K     |████████▎                       | 501 kB 4.6 MB/s eta 0:00:01\r\u001b[K     |████████▌                       | 512 kB 4.6 MB/s eta 0:00:01\r\u001b[K     |████████▊                       | 522 kB 4.6 MB/s eta 0:00:01\r\u001b[K     |████████▉                       | 532 kB 4.6 MB/s eta 0:00:01\r\u001b[K     |█████████                       | 542 kB 4.6 MB/s eta 0:00:01\r\u001b[K     |█████████▏                      | 552 kB 4.6 MB/s eta 0:00:01\r\u001b[K     |█████████▍                      | 563 kB 4.6 MB/s eta 0:00:01\r\u001b[K     |█████████▌                      | 573 kB 4.6 MB/s eta 0:00:01\r\u001b[K     |█████████▊                      | 583 kB 4.6 MB/s eta 0:00:01\r\u001b[K     |█████████▉                      | 593 kB 4.6 MB/s eta 0:00:01\r\u001b[K     |██████████                      | 604 kB 4.6 MB/s eta 0:00:01\r\u001b[K     |██████████▏                     | 614 kB 4.6 MB/s eta 0:00:01\r\u001b[K     |██████████▍                     | 624 kB 4.6 MB/s eta 0:00:01\r\u001b[K     |██████████▌                     | 634 kB 4.6 MB/s eta 0:00:01\r\u001b[K     |██████████▊                     | 645 kB 4.6 MB/s eta 0:00:01\r\u001b[K     |██████████▉                     | 655 kB 4.6 MB/s eta 0:00:01\r\u001b[K     |███████████                     | 665 kB 4.6 MB/s eta 0:00:01\r\u001b[K     |███████████▏                    | 675 kB 4.6 MB/s eta 0:00:01\r\u001b[K     |███████████▍                    | 686 kB 4.6 MB/s eta 0:00:01\r\u001b[K     |███████████▋                    | 696 kB 4.6 MB/s eta 0:00:01\r\u001b[K     |███████████▊                    | 706 kB 4.6 MB/s eta 0:00:01\r\u001b[K     |████████████                    | 716 kB 4.6 MB/s eta 0:00:01\r\u001b[K     |████████████                    | 727 kB 4.6 MB/s eta 0:00:01\r\u001b[K     |████████████▎                   | 737 kB 4.6 MB/s eta 0:00:01\r\u001b[K     |████████████▍                   | 747 kB 4.6 MB/s eta 0:00:01\r\u001b[K     |████████████▋                   | 757 kB 4.6 MB/s eta 0:00:01\r\u001b[K     |████████████▊                   | 768 kB 4.6 MB/s eta 0:00:01\r\u001b[K     |█████████████                   | 778 kB 4.6 MB/s eta 0:00:01\r\u001b[K     |█████████████                   | 788 kB 4.6 MB/s eta 0:00:01\r\u001b[K     |█████████████▎                  | 798 kB 4.6 MB/s eta 0:00:01\r\u001b[K     |█████████████▍                  | 808 kB 4.6 MB/s eta 0:00:01\r\u001b[K     |█████████████▋                  | 819 kB 4.6 MB/s eta 0:00:01\r\u001b[K     |█████████████▊                  | 829 kB 4.6 MB/s eta 0:00:01\r\u001b[K     |██████████████                  | 839 kB 4.6 MB/s eta 0:00:01\r\u001b[K     |██████████████▏                 | 849 kB 4.6 MB/s eta 0:00:01\r\u001b[K     |██████████████▎                 | 860 kB 4.6 MB/s eta 0:00:01\r\u001b[K     |██████████████▌                 | 870 kB 4.6 MB/s eta 0:00:01\r\u001b[K     |██████████████▋                 | 880 kB 4.6 MB/s eta 0:00:01\r\u001b[K     |██████████████▉                 | 890 kB 4.6 MB/s eta 0:00:01\r\u001b[K     |███████████████                 | 901 kB 4.6 MB/s eta 0:00:01\r\u001b[K     |███████████████▏                | 911 kB 4.6 MB/s eta 0:00:01\r\u001b[K     |███████████████▎                | 921 kB 4.6 MB/s eta 0:00:01\r\u001b[K     |███████████████▌                | 931 kB 4.6 MB/s eta 0:00:01\r\u001b[K     |███████████████▋                | 942 kB 4.6 MB/s eta 0:00:01\r\u001b[K     |███████████████▉                | 952 kB 4.6 MB/s eta 0:00:01\r\u001b[K     |████████████████                | 962 kB 4.6 MB/s eta 0:00:01\r\u001b[K     |████████████████▏               | 972 kB 4.6 MB/s eta 0:00:01\r\u001b[K     |████████████████▎               | 983 kB 4.6 MB/s eta 0:00:01\r\u001b[K     |████████████████▌               | 993 kB 4.6 MB/s eta 0:00:01\r\u001b[K     |████████████████▋               | 1.0 MB 4.6 MB/s eta 0:00:01\r\u001b[K     |████████████████▉               | 1.0 MB 4.6 MB/s eta 0:00:01\r\u001b[K     |█████████████████               | 1.0 MB 4.6 MB/s eta 0:00:01\r\u001b[K     |█████████████████▏              | 1.0 MB 4.6 MB/s eta 0:00:01\r\u001b[K     |█████████████████▍              | 1.0 MB 4.6 MB/s eta 0:00:01\r\u001b[K     |█████████████████▌              | 1.1 MB 4.6 MB/s eta 0:00:01\r\u001b[K     |█████████████████▊              | 1.1 MB 4.6 MB/s eta 0:00:01\r\u001b[K     |█████████████████▉              | 1.1 MB 4.6 MB/s eta 0:00:01\r\u001b[K     |██████████████████              | 1.1 MB 4.6 MB/s eta 0:00:01\r\u001b[K     |██████████████████▏             | 1.1 MB 4.6 MB/s eta 0:00:01\r\u001b[K     |██████████████████▍             | 1.1 MB 4.6 MB/s eta 0:00:01\r\u001b[K     |██████████████████▌             | 1.1 MB 4.6 MB/s eta 0:00:01\r\u001b[K     |██████████████████▊             | 1.1 MB 4.6 MB/s eta 0:00:01\r\u001b[K     |██████████████████▉             | 1.1 MB 4.6 MB/s eta 0:00:01\r\u001b[K     |███████████████████             | 1.1 MB 4.6 MB/s eta 0:00:01\r\u001b[K     |███████████████████▏            | 1.2 MB 4.6 MB/s eta 0:00:01\r\u001b[K     |███████████████████▍            | 1.2 MB 4.6 MB/s eta 0:00:01\r\u001b[K     |███████████████████▌            | 1.2 MB 4.6 MB/s eta 0:00:01\r\u001b[K     |███████████████████▊            | 1.2 MB 4.6 MB/s eta 0:00:01\r\u001b[K     |████████████████████            | 1.2 MB 4.6 MB/s eta 0:00:01\r\u001b[K     |████████████████████            | 1.2 MB 4.6 MB/s eta 0:00:01\r\u001b[K     |████████████████████▎           | 1.2 MB 4.6 MB/s eta 0:00:01\r\u001b[K     |████████████████████▍           | 1.2 MB 4.6 MB/s eta 0:00:01\r\u001b[K     |████████████████████▋           | 1.2 MB 4.6 MB/s eta 0:00:01\r\u001b[K     |████████████████████▊           | 1.2 MB 4.6 MB/s eta 0:00:01\r\u001b[K     |█████████████████████           | 1.3 MB 4.6 MB/s eta 0:00:01\r\u001b[K     |█████████████████████           | 1.3 MB 4.6 MB/s eta 0:00:01\r\u001b[K     |█████████████████████▎          | 1.3 MB 4.6 MB/s eta 0:00:01\r\u001b[K     |█████████████████████▍          | 1.3 MB 4.6 MB/s eta 0:00:01\r\u001b[K     |█████████████████████▋          | 1.3 MB 4.6 MB/s eta 0:00:01\r\u001b[K     |█████████████████████▊          | 1.3 MB 4.6 MB/s eta 0:00:01\r\u001b[K     |██████████████████████          | 1.3 MB 4.6 MB/s eta 0:00:01\r\u001b[K     |██████████████████████          | 1.3 MB 4.6 MB/s eta 0:00:01\r\u001b[K     |██████████████████████▎         | 1.3 MB 4.6 MB/s eta 0:00:01\r\u001b[K     |██████████████████████▍         | 1.4 MB 4.6 MB/s eta 0:00:01\r\u001b[K     |██████████████████████▋         | 1.4 MB 4.6 MB/s eta 0:00:01\r\u001b[K     |██████████████████████▉         | 1.4 MB 4.6 MB/s eta 0:00:01\r\u001b[K     |███████████████████████         | 1.4 MB 4.6 MB/s eta 0:00:01\r\u001b[K     |███████████████████████▏        | 1.4 MB 4.6 MB/s eta 0:00:01\r\u001b[K     |███████████████████████▎        | 1.4 MB 4.6 MB/s eta 0:00:01\r\u001b[K     |███████████████████████▌        | 1.4 MB 4.6 MB/s eta 0:00:01\r\u001b[K     |███████████████████████▋        | 1.4 MB 4.6 MB/s eta 0:00:01\r\u001b[K     |███████████████████████▉        | 1.4 MB 4.6 MB/s eta 0:00:01\r\u001b[K     |████████████████████████        | 1.4 MB 4.6 MB/s eta 0:00:01\r\u001b[K     |████████████████████████▏       | 1.5 MB 4.6 MB/s eta 0:00:01\r\u001b[K     |████████████████████████▎       | 1.5 MB 4.6 MB/s eta 0:00:01\r\u001b[K     |████████████████████████▌       | 1.5 MB 4.6 MB/s eta 0:00:01\r\u001b[K     |████████████████████████▋       | 1.5 MB 4.6 MB/s eta 0:00:01\r\u001b[K     |████████████████████████▉       | 1.5 MB 4.6 MB/s eta 0:00:01\r\u001b[K     |█████████████████████████       | 1.5 MB 4.6 MB/s eta 0:00:01\r\u001b[K     |█████████████████████████▏      | 1.5 MB 4.6 MB/s eta 0:00:01\r\u001b[K     |█████████████████████████▎      | 1.5 MB 4.6 MB/s eta 0:00:01\r\u001b[K     |█████████████████████████▌      | 1.5 MB 4.6 MB/s eta 0:00:01\r\u001b[K     |█████████████████████████▊      | 1.5 MB 4.6 MB/s eta 0:00:01\r\u001b[K     |█████████████████████████▉      | 1.6 MB 4.6 MB/s eta 0:00:01\r\u001b[K     |██████████████████████████      | 1.6 MB 4.6 MB/s eta 0:00:01\r\u001b[K     |██████████████████████████▏     | 1.6 MB 4.6 MB/s eta 0:00:01\r\u001b[K     |██████████████████████████▍     | 1.6 MB 4.6 MB/s eta 0:00:01\r\u001b[K     |██████████████████████████▌     | 1.6 MB 4.6 MB/s eta 0:00:01\r\u001b[K     |██████████████████████████▊     | 1.6 MB 4.6 MB/s eta 0:00:01\r\u001b[K     |██████████████████████████▉     | 1.6 MB 4.6 MB/s eta 0:00:01\r\u001b[K     |███████████████████████████     | 1.6 MB 4.6 MB/s eta 0:00:01\r\u001b[K     |███████████████████████████▏    | 1.6 MB 4.6 MB/s eta 0:00:01\r\u001b[K     |███████████████████████████▍    | 1.6 MB 4.6 MB/s eta 0:00:01\r\u001b[K     |███████████████████████████▌    | 1.7 MB 4.6 MB/s eta 0:00:01\r\u001b[K     |███████████████████████████▊    | 1.7 MB 4.6 MB/s eta 0:00:01\r\u001b[K     |███████████████████████████▉    | 1.7 MB 4.6 MB/s eta 0:00:01\r\u001b[K     |████████████████████████████    | 1.7 MB 4.6 MB/s eta 0:00:01\r\u001b[K     |████████████████████████████▎   | 1.7 MB 4.6 MB/s eta 0:00:01\r\u001b[K     |████████████████████████████▍   | 1.7 MB 4.6 MB/s eta 0:00:01\r\u001b[K     |████████████████████████████▋   | 1.7 MB 4.6 MB/s eta 0:00:01\r\u001b[K     |████████████████████████████▊   | 1.7 MB 4.6 MB/s eta 0:00:01\r\u001b[K     |█████████████████████████████   | 1.7 MB 4.6 MB/s eta 0:00:01\r\u001b[K     |█████████████████████████████   | 1.8 MB 4.6 MB/s eta 0:00:01\r\u001b[K     |█████████████████████████████▎  | 1.8 MB 4.6 MB/s eta 0:00:01\r\u001b[K     |█████████████████████████████▍  | 1.8 MB 4.6 MB/s eta 0:00:01\r\u001b[K     |█████████████████████████████▋  | 1.8 MB 4.6 MB/s eta 0:00:01\r\u001b[K     |█████████████████████████████▊  | 1.8 MB 4.6 MB/s eta 0:00:01\r\u001b[K     |██████████████████████████████  | 1.8 MB 4.6 MB/s eta 0:00:01\r\u001b[K     |██████████████████████████████  | 1.8 MB 4.6 MB/s eta 0:00:01\r\u001b[K     |██████████████████████████████▎ | 1.8 MB 4.6 MB/s eta 0:00:01\r\u001b[K     |██████████████████████████████▍ | 1.8 MB 4.6 MB/s eta 0:00:01\r\u001b[K     |██████████████████████████████▋ | 1.8 MB 4.6 MB/s eta 0:00:01\r\u001b[K     |██████████████████████████████▊ | 1.9 MB 4.6 MB/s eta 0:00:01\r\u001b[K     |███████████████████████████████ | 1.9 MB 4.6 MB/s eta 0:00:01\r\u001b[K     |███████████████████████████████▏| 1.9 MB 4.6 MB/s eta 0:00:01\r\u001b[K     |███████████████████████████████▎| 1.9 MB 4.6 MB/s eta 0:00:01\r\u001b[K     |███████████████████████████████▌| 1.9 MB 4.6 MB/s eta 0:00:01\r\u001b[K     |███████████████████████████████▋| 1.9 MB 4.6 MB/s eta 0:00:01\r\u001b[K     |███████████████████████████████▉| 1.9 MB 4.6 MB/s eta 0:00:01\r\u001b[K     |████████████████████████████████| 1.9 MB 4.6 MB/s eta 0:00:01\r\u001b[K     |████████████████████████████████| 1.9 MB 4.6 MB/s \r\n",
      "\u001b[?25hInstalling collected packages: networkx\r\n",
      "Successfully installed networkx-2.6.3\r\n",
      "\u001b[33mWARNING: You are using pip version 21.0.1; however, version 23.3.1 is available.\r\n",
      "You should consider upgrading via the '/databricks/python3/bin/python -m pip install --upgrade pip' command.\u001b[0m\r\n"
     ]
    }
   ],
   "source": [
    "# Requirements\n",
    "!pip install 'scipy>=1.8'\n",
    "!pip install 'networkx<2.7'"
   ]
  },
  {
   "cell_type": "code",
   "execution_count": null,
   "metadata": {
    "application/vnd.databricks.v1+cell": {
     "cellMetadata": {
      "byteLimit": 2048000,
      "rowLimit": 10000
     },
     "inputWidgets": {},
     "nuid": "87f83458-e479-4986-85df-22a8677b4077",
     "showTitle": false,
     "title": ""
    }
   },
   "outputs": [
    {
     "data": {
      "image/png": "[encoded data removed]"
     },
     "metadata": {
      "application/vnd.databricks.v1+output": {
       "addedWidgets": {},
       "arguments": {},
       "data": "data:image/png;base64,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\n",
       "datasetInfos": [],
       "metadata": {},
       "removedWidgets": [],
       "type": "image"
      }
     },
     "output_type": "display_data"
    }
   ],
   "source": [
    "import networkx as nx\n",
    "import matplotlib.pyplot as plt\n",
    "\n",
    "# Create a new directed graph\n",
    "G = nx.DiGraph()\n",
    "\n",
    "# Add vertices to the graph\n",
    "for vertex in verticesList:\n",
    "    G.add_node(vertex)\n",
    "\n",
    "# Add edges to the graph\n",
    "for edge in edgeDataList:\n",
    "    G.add_edge(edge[0], edge[1])\n",
    "\n",
    "# Draw the graph\n",
    "nx.draw(G, with_labels=True, node_color='lightblue', font_weight='bold', arrows=True)\n",
    "plt.show()"
   ]
  },
  {
   "cell_type": "markdown",
   "metadata": {
    "application/vnd.databricks.v1+cell": {
     "cellMetadata": {
      "byteLimit": 2048000,
      "rowLimit": 10000
     },
     "inputWidgets": {},
     "nuid": "1092b093-55ba-4a67-ba02-92c03fc64b8e",
     "showTitle": false,
     "title": ""
    }
   },
   "source": [
    "### Some simple analysis"
   ]
  },
  {
   "cell_type": "code",
   "execution_count": null,
   "metadata": {
    "application/vnd.databricks.v1+cell": {
     "cellMetadata": {
      "byteLimit": 2048000,
      "rowLimit": 10000
     },
     "inputWidgets": {},
     "nuid": "0758d932-6d68-4390-8893-2391695059e8",
     "showTitle": false,
     "title": ""
    }
   },
   "outputs": [
    {
     "name": "stdout",
     "output_type": "stream",
     "text": [
      "+---+--------+\n",
      "| id|inDegree|\n",
      "+---+--------+\n",
      "|  d|       2|\n",
      "|  c|       3|\n",
      "|  b|       2|\n",
      "|  a|       1|\n",
      "+---+--------+\n",
      "\n",
      "None\n"
     ]
    }
   ],
   "source": [
    "# View the inDegrees (the number of edges directed into a vertex)\n",
    "print(ourGraph.inDegrees.show())\n",
    "\n"
   ]
  },
  {
   "cell_type": "code",
   "execution_count": null,
   "metadata": {
    "application/vnd.databricks.v1+cell": {
     "cellMetadata": {
      "byteLimit": 2048000,
      "rowLimit": 10000
     },
     "inputWidgets": {},
     "nuid": "42936304-f43b-4e92-93a7-602f08a92f08",
     "showTitle": false,
     "title": ""
    }
   },
   "outputs": [
    {
     "name": "stdout",
     "output_type": "stream",
     "text": [
      "+---+---------+\n",
      "| id|outDegree|\n",
      "+---+---------+\n",
      "|  d|        2|\n",
      "|  c|        1|\n",
      "|  b|        2|\n",
      "|  a|        3|\n",
      "+---+---------+\n",
      "\n",
      "None\n"
     ]
    }
   ],
   "source": [
    "# View the outDegrees (the number of edges directed out of a vertex)\n",
    "print(ourGraph.outDegrees.show())"
   ]
  },
  {
   "cell_type": "markdown",
   "metadata": {
    "application/vnd.databricks.v1+cell": {
     "cellMetadata": {
      "byteLimit": 2048000,
      "rowLimit": 10000
     },
     "inputWidgets": {},
     "nuid": "17416c8b-c0f8-43d8-b741-96400eff5395",
     "showTitle": false,
     "title": ""
    }
   },
   "source": [
    "Page rank for pages can be found by using the `pageRank()` function, which is defined on the GraphFrames object.\n",
    "\n",
    "`pageRank()` function take two arguments: first is resetProbability (is the alpha explained below) and the second is maxIter\n",
    "\n",
    "Informally Page Rank Explanation: consider someone browsing the web (\"surfer\"). At every page, the surfer either follows a link on the page to another page or does something else. When following a link, without any other information, the surfer picks a link from the page at random and follows that one. When “doing something else,” the surfer moves to a random page on the web and restarts the surfing. To generate a simple model, we assume both of these behaviors even though they may seem ridiculous. When stated mathematically, this random surfer model is called a Markov chain because the behavior of the surfer only depends upon the current page and not the history of previous pages. Let α be the probability that the surfer follows a link; then 1 − α is the probability that the surfer “does something else.” \n",
    "\n",
    "Now imagine that we let the surfer run for a long time. The PageRank of a page is the probability of finding the surfer at that page as the surfing time becomes infinite. A key assumption behind PageRank is that pages where we are more likely to find the random surfer are more important pages and thus we can view the PageRank as a measure of the page’s importance.\n",
    "\n",
    "<img src=\"https://upload.wikimedia.org/wikipedia/commons/6/69/PageRank-hi-res.png\" style=\"width:750px\">\n",
    "\n",
    "*Source: https://web.stanford.edu/group/SOL/dissertations/pagerank-sensitivity-thesis-online.pdf*"
   ]
  },
  {
   "cell_type": "code",
   "execution_count": null,
   "metadata": {
    "application/vnd.databricks.v1+cell": {
     "cellMetadata": {
      "byteLimit": 2048000,
      "rowLimit": 10000
     },
     "inputWidgets": {},
     "nuid": "5d8ba3f3-a6f5-4192-940b-2adec23675b3",
     "showTitle": false,
     "title": ""
    }
   },
   "outputs": [],
   "source": [
    "pageRanks = ourGraph.pageRank(resetProbability=0.15, maxIter = 5)"
   ]
  },
  {
   "cell_type": "code",
   "execution_count": null,
   "metadata": {
    "application/vnd.databricks.v1+cell": {
     "cellMetadata": {
      "byteLimit": 2048000,
      "rowLimit": 10000
     },
     "inputWidgets": {},
     "nuid": "0330191c-a9ec-4d89-846e-15285b3e249f",
     "showTitle": false,
     "title": ""
    }
   },
   "outputs": [
    {
     "name": "stdout",
     "output_type": "stream",
     "text": [
      "+---+------------------+\n",
      "| id|          pagerank|\n",
      "+---+------------------+\n",
      "|  a|0.5169666927083334|\n",
      "|  d|0.8798845717592593|\n",
      "|  b|1.3562974710648146|\n",
      "|  c|1.2468512644675924|\n",
      "+---+------------------+\n",
      "\n"
     ]
    }
   ],
   "source": [
    "pageRanks.vertices.show()"
   ]
  },
  {
   "cell_type": "markdown",
   "metadata": {
    "application/vnd.databricks.v1+cell": {
     "cellMetadata": {
      "byteLimit": 2048000,
      "rowLimit": 10000
     },
     "inputWidgets": {},
     "nuid": "21aee473-493d-40eb-8bc1-2903a608ec57",
     "showTitle": false,
     "title": ""
    }
   },
   "source": [
    "## More graphframes applications"
   ]
  },
  {
   "cell_type": "markdown",
   "metadata": {
    "application/vnd.databricks.v1+cell": {
     "cellMetadata": {
      "byteLimit": 2048000,
      "rowLimit": 10000
     },
     "inputWidgets": {},
     "nuid": "d43984a6-1986-43e6-9344-74aad5688c2a",
     "showTitle": false,
     "title": ""
    }
   },
   "source": [
    "Let's look at a slightly more interesting dataset. Look at the code below, you should see we are loading a number of people as vertices, then they can either connect as friends (bi-directional) or one can follow another (uni directional)."
   ]
  },
  {
   "cell_type": "code",
   "execution_count": null,
   "metadata": {
    "application/vnd.databricks.v1+cell": {
     "cellMetadata": {
      "byteLimit": 2048000,
      "rowLimit": 10000
     },
     "inputWidgets": {},
     "nuid": "ab58f5e5-5ae1-4d3d-9343-19a88c59d8f5",
     "showTitle": false,
     "title": ""
    }
   },
   "outputs": [
    {
     "name": "stdout",
     "output_type": "stream",
     "text": [
      "+---+------+---------+---+\n",
      "| id|  name|firstname|age|\n",
      "+---+------+---------+---+\n",
      "|  1|Carter|  Derrick| 50|\n",
      "|  2|   May|  Derrick| 26|\n",
      "|  3| Mills|     Jeff| 80|\n",
      "|  4|  Hood|   Robert| 65|\n",
      "|  5| Banks|     Mike| 93|\n",
      "| 98|  Berg|      Tim| 28|\n",
      "| 99|  Page|    Allan| 16|\n",
      "+---+------+---------+---+\n",
      "\n",
      "+---+---+-------+\n",
      "|src|dst|   type|\n",
      "+---+---+-------+\n",
      "|  1|  2| friend|\n",
      "|  2|  1| friend|\n",
      "|  3|  1| friend|\n",
      "|  1|  3| friend|\n",
      "|  2|  3|follows|\n",
      "|  1|  4|follows|\n",
      "|  4|  5|follows|\n",
      "|  3|  4| friend|\n",
      "|  4|  3| friend|\n",
      "|  5|  3| friend|\n",
      "|  3|  5| friend|\n",
      "|  4|  5|follows|\n",
      "| 98| 99| friend|\n",
      "| 99| 98| friend|\n",
      "+---+---+-------+\n",
      "\n",
      "+---+------+\n",
      "| id|degree|\n",
      "+---+------+\n",
      "|  1|     5|\n",
      "|  2|     3|\n",
      "|  3|     7|\n",
      "|  5|     4|\n",
      "|  4|     5|\n",
      "| 98|     2|\n",
      "| 99|     2|\n",
      "+---+------+\n",
      "\n"
     ]
    }
   ],
   "source": [
    "\n",
    "vertices = spark.createDataFrame([('1', 'Carter', 'Derrick', 50), \n",
    "                                  ('2', 'May', 'Derrick', 26),\n",
    "                                 ('3', 'Mills', 'Jeff', 80),\n",
    "                                  ('4', 'Hood', 'Robert', 65),\n",
    "                                  ('5', 'Banks', 'Mike', 93),\n",
    "                                 ('98', 'Berg', 'Tim', 28),\n",
    "                                 ('99', 'Page', 'Allan', 16)],\n",
    "                                 ['id', 'name', 'firstname', 'age'])\n",
    "edges = spark.createDataFrame([('1', '2', 'friend'), \n",
    "                               ('2', '1', 'friend'),\n",
    "                              ('3', '1', 'friend'),\n",
    "                              ('1', '3', 'friend'),\n",
    "                               ('2', '3', 'follows'),\n",
    "                               ('1', '4', 'follows'),\n",
    "                               ('4', '5', 'follows'),\n",
    "                               ('3', '4', 'friend'),\n",
    "                               ('4', '3', 'friend'),\n",
    "                               ('5', '3', 'friend'),\n",
    "                               ('3', '5', 'friend'),\n",
    "                               ('4', '5', 'follows'),\n",
    "                              ('98', '99', 'friend'),\n",
    "                              ('99', '98', 'friend')],\n",
    "                              ['src', 'dst', 'type'])\n",
    "g = GraphFrame(vertices, edges)\n",
    "## Take a look at the DataFrames\n",
    "g.vertices.show()\n",
    "g.edges.show()\n",
    "## Check the number of edges of each vertex\n",
    "g.degrees.show()"
   ]
  },
  {
   "cell_type": "markdown",
   "metadata": {
    "application/vnd.databricks.v1+cell": {
     "cellMetadata": {
      "byteLimit": 2048000,
      "rowLimit": 10000
     },
     "inputWidgets": {},
     "nuid": "abb354b3-c6c9-4673-97b1-4a5b3b748542",
     "showTitle": false,
     "title": ""
    }
   },
   "source": [
    "Undirected graphs have edges that do not have a direction. The edges indicate a two-way relationship, in that each edge can be traversed in both directions. If your DataFrame only consist of two-way directed edges, you may be interested in analyzing undirected edges. You can convert your graph by mapping a function over the edges DataFrame that deletes the row if src ≥ dst (or the other way around). Then each edge is only included once.\n",
    "\n",
    "Start from the dataframe called edges, notice that directional edges are listed [a,b, follows] where a < b (so the lowest number edge is listed first), uniderctional edges are listed twice.\n",
    "\n"
   ]
  },
  {
   "cell_type": "code",
   "execution_count": null,
   "metadata": {
    "application/vnd.databricks.v1+cell": {
     "cellMetadata": {
      "byteLimit": 2048000,
      "rowLimit": 10000
     },
     "inputWidgets": {},
     "nuid": "5bf3a06f-b3bc-4515-b28d-6f4e4f997280",
     "showTitle": false,
     "title": ""
    }
   },
   "outputs": [
    {
     "name": "stdout",
     "output_type": "stream",
     "text": [
      "+---+---+------+\n",
      "|src|dst|  type|\n",
      "+---+---+------+\n",
      "|  2|  1|friend|\n",
      "|  3|  1|friend|\n",
      "|  4|  3|friend|\n",
      "|  5|  3|friend|\n",
      "| 99| 98|friend|\n",
      "+---+---+------+\n",
      "\n"
     ]
    }
   ],
   "source": [
    "# Create a new dataframe edge that only contains edges in one direction\n",
    "edgesUnidirectional = edges.where(edges.src > edges.dst)\n",
    "edgesUnidirectional.show()"
   ]
  },
  {
   "cell_type": "markdown",
   "metadata": {
    "application/vnd.databricks.v1+cell": {
     "cellMetadata": {
      "byteLimit": 2048000,
      "rowLimit": 10000
     },
     "inputWidgets": {},
     "nuid": "e1a8952d-eab8-417a-acc8-6db9cb9804a8",
     "showTitle": false,
     "title": ""
    }
   },
   "source": [
    "We can filter edges and vertices directly as well. If we want to work with a GraphFrame with only follows and people over 30 for example we can use a subgraph, for example:"
   ]
  },
  {
   "cell_type": "code",
   "execution_count": null,
   "metadata": {
    "application/vnd.databricks.v1+cell": {
     "cellMetadata": {
      "byteLimit": 2048000,
      "rowLimit": 10000
     },
     "inputWidgets": {},
     "nuid": "e4569a4a-f6ae-4480-8311-46e0c9ae32b1",
     "showTitle": false,
     "title": ""
    }
   },
   "outputs": [
    {
     "name": "stdout",
     "output_type": "stream",
     "text": [
      "+---+---+-------+\n",
      "|src|dst|   type|\n",
      "+---+---+-------+\n",
      "|  1|  4|follows|\n",
      "|  4|  5|follows|\n",
      "|  4|  5|follows|\n",
      "+---+---+-------+\n",
      "\n"
     ]
    }
   ],
   "source": [
    "g.filterEdges(\"type = 'follows'\").filterVertices(\"age > 30\").edges.show()"
   ]
  },
  {
   "cell_type": "markdown",
   "metadata": {
    "application/vnd.databricks.v1+cell": {
     "cellMetadata": {
      "byteLimit": 2048000,
      "rowLimit": 10000
     },
     "inputWidgets": {},
     "nuid": "8e3bdda0-2b81-4d74-a921-5687641f7084",
     "showTitle": false,
     "title": ""
    }
   },
   "source": [
    "<b> Degrees </b> One question we might be interested in is how many inbound and outbound connections each vertices has, we can use the inDegrees and outDegrees functions to calculate this:"
   ]
  },
  {
   "cell_type": "code",
   "execution_count": null,
   "metadata": {
    "application/vnd.databricks.v1+cell": {
     "cellMetadata": {
      "byteLimit": 2048000,
      "rowLimit": 10000
     },
     "inputWidgets": {},
     "nuid": "49f6b681-a2a6-4bae-b660-862aa1c74585",
     "showTitle": false,
     "title": ""
    }
   },
   "outputs": [
    {
     "name": "stdout",
     "output_type": "stream",
     "text": [
      "+---+--------+\n",
      "| id|inDegree|\n",
      "+---+--------+\n",
      "|  2|       1|\n",
      "|  1|       2|\n",
      "|  3|       4|\n",
      "|  5|       3|\n",
      "|  4|       2|\n",
      "| 98|       1|\n",
      "| 99|       1|\n",
      "+---+--------+\n",
      "\n",
      "+---+---------+\n",
      "| id|outDegree|\n",
      "+---+---------+\n",
      "|  1|        3|\n",
      "|  3|        3|\n",
      "|  2|        2|\n",
      "|  4|        3|\n",
      "|  5|        1|\n",
      "| 98|        1|\n",
      "| 99|        1|\n",
      "+---+---------+\n",
      "\n"
     ]
    }
   ],
   "source": [
    "g.inDegrees.show()\n",
    "g.outDegrees.show()"
   ]
  },
  {
   "cell_type": "code",
   "execution_count": null,
   "metadata": {
    "application/vnd.databricks.v1+cell": {
     "cellMetadata": {
      "byteLimit": 2048000,
      "rowLimit": 10000
     },
     "inputWidgets": {},
     "nuid": "019558fa-48dd-4daf-a86b-8dee940f1842",
     "showTitle": false,
     "title": ""
    }
   },
   "outputs": [],
   "source": []
  },
  {
   "cell_type": "markdown",
   "metadata": {
    "application/vnd.databricks.v1+cell": {
     "cellMetadata": {
      "byteLimit": 2048000,
      "rowLimit": 10000
     },
     "inputWidgets": {},
     "nuid": "dce41d21-36d3-474f-b679-b4b34b0acb5d",
     "showTitle": false,
     "title": ""
    }
   },
   "source": [
    "<b> Motif </b> All networks, including biological networks, social networks, technological networks (e.g., computer networks and electrical circuits) and more, can be represented as graphs, which include a wide variety of subgraphs. One important local property of networks are so-called network motifs, which are defined as recurrent and statistically significant sub-graphs or patterns.\n",
    "\n",
    "Network motifs are sub-graphs that repeat themselves in a specific network or even among various networks. Each of these sub-graphs, defined by a particular pattern of interactions between vertices, may reflect a framework in which particular functions are achieved efficiently. Indeed, motifs are of notable importance largely because they may reflect functional properties. They have recently gathered much attention as a useful concept to uncover structural design principles of complex networks. Although network motifs may provide a deep insight into the network’s functional abilities, their detection is computationally challenging.\n",
    "\n",
    "GraphFrame motif finding uses a simple Domain-Specific Language (DSL) for expressing structural queries. For example, graph.find(\"(a)-[e]->(b); (b)-[e2]->(a)\") will search for pairs of vertices a,b connected by edges in both directions. It will return a DataFrame of all such structures in the graph, with columns for each of the named elements (vertices or edges) in the motif. In this case, the returned columns will be “a, b, e, e2.”\n",
    "\n",
    "DSL for expressing structural patterns:\n",
    "\n",
    "The basic unit of a pattern is an edge. For example, \"(a)-[e]->(b)\" expresses an edge e from vertex a to vertex b. Note that vertices are denoted by parentheses (a), while edges are denoted by square brackets [e].\n",
    "\n",
    "A pattern is expressed as a union of edges. Edge patterns can be joined with semicolons. Motif \"(a)-[e]->(b); (b)-[e2]->(c)\" specifies two edges from a to b to c.\n",
    "\n",
    "Within a pattern, names can be assigned to vertices and edges. For example, \"(a)-[e]->(b)\" has three named elements: vertices a,b and edge e. These names serve two purposes:\n",
    "\n",
    "*  The names can identify common elements among edges. For example, \"(a)-[e]->(b); (b)-[e2]->(c)\" specifies that the same vertex b is the destination of edge e and source of edge e2.\n",
    "\n",
    "*  The names are used as column names in the result DataFrame. If a motif contains named vertex a, then the result DataFrame will contain a column “a” which is a StructType with sub-fields equivalent to the schema (columns) of GraphFrame.vertices. Similarly, an edge e in a motif will produce a column “e” in the result DataFrame with sub-fields equivalent to the schema (columns) of GraphFrame.edges.\n",
    "\n",
    "*  Be aware that names do not identify distinct elements: two elements with different names may refer to the same graph element. For example, in the motif \"(a)-[e]->(b); (b)-[e2]->(c)\", the names a and c could refer to the same vertex. To restrict named elements to be distinct vertices or edges, use post-hoc filters such as resultDataframe.filter(\"a.id != c.id\").\n",
    "\n",
    "It is acceptable to omit names for vertices or edges in motifs when not needed. E.g., \"(a)-[]->(b)\" expresses an edge between vertices a,b but does not assign a name to the edge. There will be no column for the anonymous edge in the result DataFrame. Similarly, \"(a)-[e]->()\" indicates an out-edge of vertex a but does not name the destination vertex. These are called anonymous vertices and edges.\n",
    "\n",
    "An edge can be negated to indicate that the edge should not be present in the graph. E.g., \"(a)-[]->(b); !(b)-[]->(a)\" finds edges from a to b for which there is no edge from b to a.\n",
    "\n",
    "For more information: http://graphframes.github.io/graphframes/docs/_site/user-guide.html#motif-finding\n",
    "\n",
    "A worked example is available here with a few motif patterns applied. They use Scala as opposed to Python but you can ignore the code outside of the patterns they use: http://www.twesdai.com/2017/09/15/motif-analysis-using-apache-spark-graphframes/\n",
    "\n",
    "Let's look at a simple example to try to make how this works clear. Imagine we might want to find all people that have a common friend with person 1, but are not friends with person one. First we find all common friends. Take a look at the find method, we look for where a is connected to b, b connected to c, but a not connected to c. In the next step we filter for results with person 1."
   ]
  },
  {
   "cell_type": "code",
   "execution_count": null,
   "metadata": {
    "application/vnd.databricks.v1+cell": {
     "cellMetadata": {
      "byteLimit": 2048000,
      "rowLimit": 10000
     },
     "inputWidgets": {},
     "nuid": "bd04018f-8392-4833-ab0b-95bd6dc0b706",
     "showTitle": false,
     "title": ""
    }
   },
   "outputs": [
    {
     "name": "stdout",
     "output_type": "stream",
     "text": [
      "+---+---+\n",
      "| id| id|\n",
      "+---+---+\n",
      "|  2|  3|\n",
      "|  1|  4|\n",
      "|  4|  5|\n",
      "+---+---+\n",
      "\n"
     ]
    }
   ],
   "source": [
    "g.find(\"(a)-[]->(b); !(b)-[]->(a)\").dropDuplicates().select(\"a.id\", \"b.id\").show()"
   ]
  },
  {
   "cell_type": "markdown",
   "metadata": {
    "application/vnd.databricks.v1+cell": {
     "cellMetadata": {
      "byteLimit": 2048000,
      "rowLimit": 10000
     },
     "inputWidgets": {},
     "nuid": "914b02ba-270b-454a-b551-4ef91c1e7fe1",
     "showTitle": false,
     "title": ""
    }
   },
   "source": [
    "We could find the same by specifing a condition on the edges."
   ]
  },
  {
   "cell_type": "code",
   "execution_count": null,
   "metadata": {
    "application/vnd.databricks.v1+cell": {
     "cellMetadata": {
      "byteLimit": 2048000,
      "rowLimit": 10000
     },
     "inputWidgets": {},
     "nuid": "ec8668c5-e7ac-409a-91b7-f2b1161526fb",
     "showTitle": false,
     "title": ""
    }
   },
   "outputs": [
    {
     "name": "stdout",
     "output_type": "stream",
     "text": [
      "+---------------+\n",
      "|             e1|\n",
      "+---------------+\n",
      "|{2, 3, follows}|\n",
      "|{1, 4, follows}|\n",
      "|{4, 5, follows}|\n",
      "|{4, 5, follows}|\n",
      "+---------------+\n",
      "\n"
     ]
    }
   ],
   "source": [
    "g.find(\"()-[e1]->()\").filter(\"e1.type = 'follows'\").show()"
   ]
  },
  {
   "cell_type": "markdown",
   "metadata": {
    "application/vnd.databricks.v1+cell": {
     "cellMetadata": {
      "byteLimit": 2048000,
      "rowLimit": 10000
     },
     "inputWidgets": {},
     "nuid": "57238063-cb6e-4794-a132-abd495277025",
     "showTitle": false,
     "title": ""
    }
   },
   "source": [
    "Find everyone connected to someone under 30. Display their id, name and age."
   ]
  },
  {
   "cell_type": "code",
   "execution_count": null,
   "metadata": {
    "application/vnd.databricks.v1+cell": {
     "cellMetadata": {
      "byteLimit": 2048000,
      "rowLimit": 10000
     },
     "inputWidgets": {},
     "nuid": "c812a680-549e-4c31-bc4b-bdbf7071945b",
     "showTitle": false,
     "title": ""
    }
   },
   "outputs": [
    {
     "name": "stdout",
     "output_type": "stream",
     "text": [
      "+---+----+---+\n",
      "| id|name|age|\n",
      "+---+----+---+\n",
      "|  2| May| 26|\n",
      "| 98|Berg| 28|\n",
      "| 99|Page| 16|\n",
      "+---+----+---+\n",
      "\n"
     ]
    }
   ],
   "source": [
    "g.find(\"()-[e1]->(b)\").filter(\"b.age < 30\").select(\"b.id\",\"b.name\",\"b.age\").show()"
   ]
  },
  {
   "cell_type": "markdown",
   "metadata": {
    "application/vnd.databricks.v1+cell": {
     "cellMetadata": {
      "byteLimit": 2048000,
      "rowLimit": 10000
     },
     "inputWidgets": {},
     "nuid": "e395c2a4-f7eb-410a-a807-da8e0fdd6d4a",
     "showTitle": false,
     "title": ""
    }
   },
   "source": [
    "#### Pratice Exercises\n",
    "\n",
    "Find all friend relationships without filtering on edges (so specifying the network structure of the motif you want to find)."
   ]
  },
  {
   "cell_type": "code",
   "execution_count": null,
   "metadata": {
    "application/vnd.databricks.v1+cell": {
     "cellMetadata": {
      "byteLimit": 2048000,
      "rowLimit": 10000
     },
     "inputWidgets": {},
     "nuid": "233127b9-0103-4d02-b75b-85e17c8f5f98",
     "showTitle": false,
     "title": ""
    }
   },
   "outputs": [
    {
     "name": "stdout",
     "output_type": "stream",
     "text": [
      "+--------------------+--------------------+\n",
      "|                   a|                   b|\n",
      "+--------------------+--------------------+\n",
      "|{3, Mills, Jeff, 80}|{5, Banks, Mike, 93}|\n",
      "|{1, Carter, Derri...|{3, Mills, Jeff, 80}|\n",
      "| {98, Berg, Tim, 28}|{99, Page, Allan,...|\n",
      "|{1, Carter, Derri...|{2, May, Derrick,...|\n",
      "|{2, May, Derrick,...|{1, Carter, Derri...|\n",
      "|{4, Hood, Robert,...|{3, Mills, Jeff, 80}|\n",
      "|{3, Mills, Jeff, 80}|{1, Carter, Derri...|\n",
      "|{3, Mills, Jeff, 80}|{4, Hood, Robert,...|\n",
      "|{99, Page, Allan,...| {98, Berg, Tim, 28}|\n",
      "|{5, Banks, Mike, 93}|{3, Mills, Jeff, 80}|\n",
      "+--------------------+--------------------+\n",
      "\n"
     ]
    }
   ],
   "source": [
    "g.find(\"(a)-[]->(b); (b)-[]->(a)\").dropDuplicates().show()"
   ]
  },
  {
   "cell_type": "markdown",
   "metadata": {
    "application/vnd.databricks.v1+cell": {
     "cellMetadata": {
      "byteLimit": 2048000,
      "rowLimit": 10000
     },
     "inputWidgets": {},
     "nuid": "92107d73-ad11-4ca9-b05a-8214e6ddbd5e",
     "showTitle": false,
     "title": ""
    }
   },
   "source": [
    "Find all the people who are older than 60 and have at least one friend."
   ]
  },
  {
   "cell_type": "code",
   "execution_count": null,
   "metadata": {
    "application/vnd.databricks.v1+cell": {
     "cellMetadata": {
      "byteLimit": 2048000,
      "rowLimit": 10000
     },
     "inputWidgets": {},
     "nuid": "cf466aa4-93a1-4235-ad97-b1e2368902d5",
     "showTitle": false,
     "title": ""
    }
   },
   "outputs": [
    {
     "name": "stdout",
     "output_type": "stream",
     "text": [
      "+---+\n",
      "| id|\n",
      "+---+\n",
      "|  3|\n",
      "|  5|\n",
      "|  4|\n",
      "+---+\n",
      "\n"
     ]
    }
   ],
   "source": [
    "g.find(\"(a)-[e]->(b)\").filter(\"a.age > 60 AND e.type = 'friend'\").select(\"a.id\").distinct().show()"
   ]
  },
  {
   "cell_type": "markdown",
   "metadata": {
    "application/vnd.databricks.v1+cell": {
     "cellMetadata": {
      "byteLimit": 2048000,
      "rowLimit": 10000
     },
     "inputWidgets": {},
     "nuid": "39e91cd9-0444-4c7b-8e8d-b27150c03a64",
     "showTitle": false,
     "title": ""
    }
   },
   "source": [
    "<b>Connected components</b> A connected component of a graph is a subgraph in which any two vertices are connected to each other by one or more edges, and which is connected to no additional vertices in the supergraph. In the graph below there would be 5 connected component subgraphs:\n",
    "\n",
    "![image](http://lemon.cs.elte.hu/pub/doc/1.2.3/connected_components.png)\n",
    "\n",
    "\n",
    "\n",
    "Graphframes can compute the connected component membership of each vertex and return a DataFrame with each vertex assigned a component ID. The GraphFrames connected components implementation can take advantage of checkpointing to improve performance. This will take up tp 10 min to run."
   ]
  },
  {
   "cell_type": "code",
   "execution_count": null,
   "metadata": {
    "application/vnd.databricks.v1+cell": {
     "cellMetadata": {
      "byteLimit": 2048000,
      "rowLimit": 10000
     },
     "inputWidgets": {},
     "nuid": "32e7c154-d8da-40fe-b6e9-e315c6f762c5",
     "showTitle": false,
     "title": ""
    }
   },
   "outputs": [
    {
     "name": "stdout",
     "output_type": "stream",
     "text": [
      "+---+------+---------+---+------------+\n",
      "| id|  name|firstname|age|   component|\n",
      "+---+------+---------+---+------------+\n",
      "|  1|Carter|  Derrick| 50|154618822656|\n",
      "|  2|   May|  Derrick| 26|154618822656|\n",
      "|  3| Mills|     Jeff| 80|154618822656|\n",
      "|  4|  Hood|   Robert| 65|154618822656|\n",
      "|  5| Banks|     Mike| 93|154618822656|\n",
      "| 98|  Berg|      Tim| 28|317827579904|\n",
      "| 99|  Page|    Allan| 16|317827579904|\n",
      "+---+------+---------+---+------------+\n",
      "\n"
     ]
    }
   ],
   "source": [
    "sc.setCheckpointDir(\"/tmp/graphframes-example-connected-components\")\n",
    "result_cc = g.connectedComponents()\n",
    "result_cc.show()"
   ]
  },
  {
   "cell_type": "code",
   "execution_count": null,
   "metadata": {
    "application/vnd.databricks.v1+cell": {
     "cellMetadata": {
      "byteLimit": 2048000,
      "rowLimit": 10000
     },
     "inputWidgets": {},
     "nuid": "6840ada7-3c58-4e03-9cf2-937c10294cd3",
     "showTitle": false,
     "title": ""
    }
   },
   "outputs": [
    {
     "name": "stdout",
     "output_type": "stream",
     "text": [
      "+---+------------+\n",
      "| id|   component|\n",
      "+---+------------+\n",
      "|  5|154618822656|\n",
      "|  4|154618822656|\n",
      "|  2|154618822656|\n",
      "|  1|154618822656|\n",
      "|  3|154618822656|\n",
      "| 98|317827579904|\n",
      "| 99|317827579904|\n",
      "+---+------------+\n",
      "\n"
     ]
    }
   ],
   "source": [
    "result_scc = g.stronglyConnectedComponents(maxIter=10)\n",
    "result_scc.select(\"id\", \"component\").orderBy(\"component\").show()"
   ]
  },
  {
   "cell_type": "markdown",
   "metadata": {
    "application/vnd.databricks.v1+cell": {
     "cellMetadata": {
      "byteLimit": 2048000,
      "rowLimit": 10000
     },
     "inputWidgets": {},
     "nuid": "25c52286-d47e-4bf0-9551-fb7fa05c0831",
     "showTitle": false,
     "title": ""
    }
   },
   "source": [
    "The Label Propagation algorithm (LPA) is a fast algorithm for finding communities in a graph. In the context of social networks, a community could represent users with shared interests or characteristics. Apply the label propogation algorithm with a max of 100 iterations."
   ]
  },
  {
   "cell_type": "code",
   "execution_count": null,
   "metadata": {
    "application/vnd.databricks.v1+cell": {
     "cellMetadata": {
      "byteLimit": 2048000,
      "rowLimit": 10000
     },
     "inputWidgets": {},
     "nuid": "916b59fc-657a-4d6a-8544-234a596c198b",
     "showTitle": false,
     "title": ""
    }
   },
   "outputs": [
    {
     "name": "stdout",
     "output_type": "stream",
     "text": [
      "+---+------------+\n",
      "| id|       label|\n",
      "+---+------------+\n",
      "|  3|420906795008|\n",
      "| 98|317827579904|\n",
      "| 99|326417514496|\n",
      "|  5|420906795008|\n",
      "|  1|420906795008|\n",
      "|  4|420906795008|\n",
      "|  2|420906795008|\n",
      "+---+------------+\n",
      "\n"
     ]
    }
   ],
   "source": [
    "result = g.labelPropagation(maxIter=10)\n",
    "\n",
    "# Display the detected communities\n",
    "result.select(\"id\", \"label\").show()"
   ]
  },
  {
   "cell_type": "markdown",
   "metadata": {
    "application/vnd.databricks.v1+cell": {
     "cellMetadata": {
      "byteLimit": 2048000,
      "rowLimit": 10000
     },
     "inputWidgets": {},
     "nuid": "2402d051-2a78-4873-a004-e919a61c2e01",
     "showTitle": false,
     "title": ""
    }
   },
   "source": [
    "Let's use this information to colour our graph."
   ]
  },
  {
   "cell_type": "code",
   "execution_count": null,
   "metadata": {
    "application/vnd.databricks.v1+cell": {
     "cellMetadata": {
      "byteLimit": 2048000,
      "rowLimit": 10000
     },
     "inputWidgets": {},
     "nuid": "bc21bb4c-c7ad-42c1-894b-e178616dbeea",
     "showTitle": false,
     "title": ""
    }
   },
   "outputs": [
    {
     "data": {
      "image/png": "[encoded data removed]"
     },
     "metadata": {
      "application/vnd.databricks.v1+output": {
       "addedWidgets": {},
       "arguments": {},
       "data": "data:image/png;base64,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\n",
       "datasetInfos": [],
       "metadata": {},
       "removedWidgets": [],
       "type": "image"
      }
     },
     "output_type": "display_data"
    }
   ],
   "source": [
    "import numpy as np\n",
    "# Create a directed graph\n",
    "G = nx.DiGraph()\n",
    "\n",
    "# Add edges\n",
    "for row in g.vertices.collect():\n",
    "    G.add_node(row['id'])\n",
    "\n",
    "# Add edges\n",
    "for row in g.edges.collect():\n",
    "    G.add_edge(row['src'], row['dst'])\n",
    "\n",
    "# Create a color map based on the component id\n",
    "color_map = {}\n",
    "\n",
    "# Get all unique components and create a color for each of them\n",
    "pdf = result_scc.orderBy(\"id\").toPandas()\n",
    "unique_components = pdf[pdf.columns[-1]].unique()\n",
    "colors = plt.cm.rainbow(np.linspace(0, 1, len(unique_components)))\n",
    "\n",
    "for component, color in zip(unique_components, colors):\n",
    "    color_map[component] = color\n",
    "\n",
    "# Map the nodes to their colors\n",
    "node_colors = [color_map[component] for component in pdf[pdf.columns[-1]]]\n",
    "\n",
    "# Draw the graph\n",
    "nx.draw(G, node_color=node_colors, with_labels=True)\n",
    "plt.show()\n"
   ]
  },
  {
   "cell_type": "markdown",
   "metadata": {
    "application/vnd.databricks.v1+cell": {
     "cellMetadata": {
      "byteLimit": 2048000,
      "rowLimit": 10000
     },
     "inputWidgets": {},
     "nuid": "6a710715-c72a-4240-94e4-c605204e60f5",
     "showTitle": false,
     "title": ""
    }
   },
   "source": [
    "####Triangle Count:\n",
    "The triangle count for a node in a graph is a measure of the cohesiveness of the user's immediate network, which can help identify tightly-knit communities.\n",
    "\n",
    "The Triangle Count algorithm is a graph analysis algorithm that counts the number of triangles in a graph. A triangle in a graph consists of three nodes that are connected to each other, forming a closed loop. The Triangle Count algorithm helps identify the presence of triangles and provides a measure of the cohesiveness or clustering of nodes within a graph."
   ]
  },
  {
   "cell_type": "code",
   "execution_count": null,
   "metadata": {
    "application/vnd.databricks.v1+cell": {
     "cellMetadata": {
      "byteLimit": 2048000,
      "rowLimit": 10000
     },
     "inputWidgets": {},
     "nuid": "491b0f2d-574e-4df8-8e17-41564936ae76",
     "showTitle": false,
     "title": ""
    }
   },
   "outputs": [
    {
     "name": "stdout",
     "output_type": "stream",
     "text": [
      "+---+-----+\n",
      "| id|count|\n",
      "+---+-----+\n",
      "|  1|    2|\n",
      "|  2|    1|\n",
      "|  3|    3|\n",
      "|  4|    2|\n",
      "|  5|    1|\n",
      "| 98|    0|\n",
      "| 99|    0|\n",
      "+---+-----+\n",
      "\n"
     ]
    }
   ],
   "source": [
    "# Run Triangle Count algorithm\n",
    "results_tc = g.triangleCount()\n",
    "\n",
    "# Display the number of triangles for each user\n",
    "results_tc.select(\"id\", \"count\").show()"
   ]
  },
  {
   "cell_type": "markdown",
   "metadata": {
    "application/vnd.databricks.v1+cell": {
     "cellMetadata": {
      "byteLimit": 2048000,
      "rowLimit": 10000
     },
     "inputWidgets": {},
     "nuid": "566a6ef9-8768-4bae-b5ce-a86dad867def",
     "showTitle": false,
     "title": ""
    }
   },
   "source": [
    "What does the result say about how are people connected in our graph? Take a look at who is connected to who in the data and see if you can match a pattern to what is being reported (the component number is not important, only which nodes have the same component).\n",
    "\n",
    "<b> Shortest path </b> Graphframes includes a simple shortest path algorithm, it finds the distance between all nodes and a given set of landmarks.\n",
    "\n",
    "In the example below we will see from each node how many steps does it take to get to a landmark. So for example [5 -> 1, 1 -> 1] would means that to get to vertice named 5 takes 1 edge, to get to a vertice named 1 also takes 1 step."
   ]
  },
  {
   "cell_type": "code",
   "execution_count": null,
   "metadata": {
    "application/vnd.databricks.v1+cell": {
     "cellMetadata": {
      "byteLimit": 2048000,
      "rowLimit": 10000
     },
     "inputWidgets": {},
     "nuid": "75baa30a-f56c-4ac9-ae6e-f355b94545b5",
     "showTitle": false,
     "title": ""
    }
   },
   "outputs": [
    {
     "name": "stdout",
     "output_type": "stream",
     "text": [
      "+---+------+---------+---+----------------+\n",
      "| id|  name|firstname|age|       distances|\n",
      "+---+------+---------+---+----------------+\n",
      "|  3| Mills|     Jeff| 80|{5 -> 1, 1 -> 1}|\n",
      "| 98|  Berg|      Tim| 28|              {}|\n",
      "| 99|  Page|    Allan| 16|              {}|\n",
      "|  5| Banks|     Mike| 93|{5 -> 0, 1 -> 2}|\n",
      "|  1|Carter|  Derrick| 50|{5 -> 2, 1 -> 0}|\n",
      "|  4|  Hood|   Robert| 65|{5 -> 1, 1 -> 2}|\n",
      "|  2|   May|  Derrick| 26|{5 -> 2, 1 -> 1}|\n",
      "+---+------+---------+---+----------------+\n",
      "\n"
     ]
    }
   ],
   "source": [
    "g.shortestPaths(landmarks=[\"1\", \"5\"]).show()"
   ]
  },
  {
   "cell_type": "markdown",
   "metadata": {
    "application/vnd.databricks.v1+cell": {
     "cellMetadata": {
      "byteLimit": 2048000,
      "rowLimit": 10000
     },
     "inputWidgets": {},
     "nuid": "ae5bd154-2a8c-409e-a6ed-0abf041cfbf9",
     "showTitle": false,
     "title": ""
    }
   },
   "source": [
    "<b>Search</b> Breadth-first search (BFS) is an algorithm for traversing or searching tree or graph data structures. It starts at the tree root (or some arbitrary node of a graph, sometimes referred to as a 'search key'[1]), and explores all of the neighbor nodes at the present depth prior to moving on to the nodes at the next depth level.\n",
    "\n",
    "It uses the opposite strategy as depth-first search, which instead explores the highest-depth nodes first before being forced to backtrack and expand shallower nodes.\n",
    "\n",
    "For more information on these alogrithms: https://en.wikipedia.org/wiki/Breadth-first_search\n",
    "\n",
    "Let's apply bfs using the fromExpr and toExpr arguments to find a path from id 1 to id 5."
   ]
  },
  {
   "cell_type": "code",
   "execution_count": null,
   "metadata": {
    "application/vnd.databricks.v1+cell": {
     "cellMetadata": {
      "byteLimit": 2048000,
      "rowLimit": 10000
     },
     "inputWidgets": {},
     "nuid": "17b90bd3-8295-491b-b370-bccbded8392f",
     "showTitle": false,
     "title": ""
    }
   },
   "outputs": [
    {
     "name": "stdout",
     "output_type": "stream",
     "text": [
      "+------------------------+---------------+---------------------+---------------+--------------------+\n",
      "|from                    |e0             |v1                   |e1             |to                  |\n",
      "+------------------------+---------------+---------------------+---------------+--------------------+\n",
      "|{1, Carter, Derrick, 50}|{1, 4, follows}|{4, Hood, Robert, 65}|{4, 5, follows}|{5, Banks, Mike, 93}|\n",
      "|{1, Carter, Derrick, 50}|{1, 4, follows}|{4, Hood, Robert, 65}|{4, 5, follows}|{5, Banks, Mike, 93}|\n",
      "|{1, Carter, Derrick, 50}|{1, 3, friend} |{3, Mills, Jeff, 80} |{3, 5, friend} |{5, Banks, Mike, 93}|\n",
      "+------------------------+---------------+---------------------+---------------+--------------------+\n",
      "\n"
     ]
    }
   ],
   "source": [
    "g.bfs(fromExpr=\"id='1'\", toExpr = \"id='5'\").show(10,False)"
   ]
  },
  {
   "cell_type": "markdown",
   "metadata": {
    "application/vnd.databricks.v1+cell": {
     "cellMetadata": {
      "byteLimit": 2048000,
      "rowLimit": 10000
     },
     "inputWidgets": {},
     "nuid": "f61ad678-3a2b-42fb-ba9d-4b4274598479",
     "showTitle": false,
     "title": ""
    }
   },
   "source": [
    "we can be even more specific for example find a path from id 1 to anyone over 65, but not using any friend edges (edgeFilter argument) and setting a max length of 4 (maxPathLength argument). It can also be useufl to drop duplicates."
   ]
  },
  {
   "cell_type": "code",
   "execution_count": null,
   "metadata": {
    "application/vnd.databricks.v1+cell": {
     "cellMetadata": {
      "byteLimit": 2048000,
      "rowLimit": 10000
     },
     "inputWidgets": {},
     "nuid": "472e4c3f-b520-46e0-88ca-e2fc5bdf5fc0",
     "showTitle": false,
     "title": ""
    }
   },
   "outputs": [
    {
     "data": {
      "text/html": [
       "<style scoped>\n",
       "  .table-result-container {\n",
       "    max-height: 300px;\n",
       "    overflow: auto;\n",
       "  }\n",
       "  table, th, td {\n",
       "    border: 1px solid black;\n",
       "    border-collapse: collapse;\n",
       "  }\n",
       "  th, td {\n",
       "    padding: 5px;\n",
       "  }\n",
       "  th {\n",
       "    text-align: left;\n",
       "  }\n",
       "</style><div class='table-result-container'><table class='table-result'><thead style='background-color: white'><tr><th>from</th><th>e0</th><th>v1</th><th>e1</th><th>to</th></tr></thead><tbody><tr><td>List(1, Carter, Derrick, 50)</td><td>List(1, 4, follows)</td><td>List(4, Hood, Robert, 65)</td><td>List(4, 5, follows)</td><td>List(5, Banks, Mike, 93)</td></tr></tbody></table></div>"
      ]
     },
     "metadata": {
      "application/vnd.databricks.v1+output": {
       "addedWidgets": {},
       "aggData": [],
       "aggError": "",
       "aggOverflow": false,
       "aggSchema": [],
       "aggSeriesLimitReached": false,
       "aggType": "",
       "arguments": {},
       "columnCustomDisplayInfos": {},
       "data": [
        [
         [
          "1",
          "Carter",
          "Derrick",
          50
         ],
         [
          "1",
          "4",
          "follows"
         ],
         [
          "4",
          "Hood",
          "Robert",
          65
         ],
         [
          "4",
          "5",
          "follows"
         ],
         [
          "5",
          "Banks",
          "Mike",
          93
         ]
        ]
       ],
       "datasetInfos": [],
       "dbfsResultPath": null,
       "isJsonSchema": true,
       "metadata": {},
       "overflow": false,
       "plotOptions": {
        "customPlotOptions": {},
        "displayType": "table",
        "pivotAggregation": null,
        "pivotColumns": [],
        "xColumns": [],
        "yColumns": []
       },
       "removedWidgets": [],
       "schema": [
        {
         "metadata": "{}",
         "name": "from",
         "type": "{\"type\":\"struct\",\"fields\":[{\"name\":\"id\",\"type\":\"string\",\"nullable\":true,\"metadata\":{}},{\"name\":\"name\",\"type\":\"string\",\"nullable\":true,\"metadata\":{}},{\"name\":\"firstname\",\"type\":\"string\",\"nullable\":true,\"metadata\":{}},{\"name\":\"age\",\"type\":\"long\",\"nullable\":true,\"metadata\":{}}]}"
        },
        {
         "metadata": "{}",
         "name": "e0",
         "type": "{\"type\":\"struct\",\"fields\":[{\"name\":\"src\",\"type\":\"string\",\"nullable\":true,\"metadata\":{}},{\"name\":\"dst\",\"type\":\"string\",\"nullable\":true,\"metadata\":{}},{\"name\":\"type\",\"type\":\"string\",\"nullable\":true,\"metadata\":{}}]}"
        },
        {
         "metadata": "{}",
         "name": "v1",
         "type": "{\"type\":\"struct\",\"fields\":[{\"name\":\"id\",\"type\":\"string\",\"nullable\":true,\"metadata\":{}},{\"name\":\"name\",\"type\":\"string\",\"nullable\":true,\"metadata\":{}},{\"name\":\"firstname\",\"type\":\"string\",\"nullable\":true,\"metadata\":{}},{\"name\":\"age\",\"type\":\"long\",\"nullable\":true,\"metadata\":{}}]}"
        },
        {
         "metadata": "{}",
         "name": "e1",
         "type": "{\"type\":\"struct\",\"fields\":[{\"name\":\"src\",\"type\":\"string\",\"nullable\":true,\"metadata\":{}},{\"name\":\"dst\",\"type\":\"string\",\"nullable\":true,\"metadata\":{}},{\"name\":\"type\",\"type\":\"string\",\"nullable\":true,\"metadata\":{}}]}"
        },
        {
         "metadata": "{}",
         "name": "to",
         "type": "{\"type\":\"struct\",\"fields\":[{\"name\":\"id\",\"type\":\"string\",\"nullable\":true,\"metadata\":{}},{\"name\":\"name\",\"type\":\"string\",\"nullable\":true,\"metadata\":{}},{\"name\":\"firstname\",\"type\":\"string\",\"nullable\":true,\"metadata\":{}},{\"name\":\"age\",\"type\":\"long\",\"nullable\":true,\"metadata\":{}}]}"
        }
       ],
       "type": "table"
      }
     },
     "output_type": "display_data"
    }
   ],
   "source": [
    "filteredPaths = g.bfs(\n",
    "  fromExpr = \"id = 1\",\n",
    "  toExpr = \"age >65\",\n",
    "  edgeFilter = \"type != 'friend'\",\n",
    "  maxPathLength = 4).dropDuplicates()\n",
    "display(filteredPaths)"
   ]
  },
  {
   "cell_type": "markdown",
   "metadata": {
    "application/vnd.databricks.v1+cell": {
     "cellMetadata": {
      "byteLimit": 2048000,
      "rowLimit": 10000
     },
     "inputWidgets": {},
     "nuid": "01d74302-7631-4d2e-9da6-c085b24c9ad8",
     "showTitle": false,
     "title": ""
    }
   },
   "source": [
    "## Exercise\n",
    "\n",
    "In the following exercises you will use a data extract from instagram that represents a social network. You will need to upload the data to the dbfs using the upload command under file.\n",
    "\n",
    "Then the below commands will load the data into dataframes to work with."
   ]
  },
  {
   "cell_type": "code",
   "execution_count": null,
   "metadata": {
    "application/vnd.databricks.v1+cell": {
     "cellMetadata": {
      "byteLimit": 2048000,
      "rowLimit": 10000
     },
     "inputWidgets": {},
     "nuid": "8aed2c5f-80c3-4e23-9f9f-23f82e734eec",
     "showTitle": false,
     "title": ""
    }
   },
   "outputs": [],
   "source": [
    "nodes_df = spark.read.format(\"csv\").option(\"header\", \"true\").load(\"dbfs:/FileStore/tables/instagram_nodes.csv\")\n",
    "edges_df = spark.read.format(\"csv\").option(\"header\", \"true\").load(\"dbfs:/FileStore/tables/instagram_edges.csv\")"
   ]
  },
  {
   "cell_type": "markdown",
   "metadata": {
    "application/vnd.databricks.v1+cell": {
     "cellMetadata": {
      "byteLimit": 2048000,
      "rowLimit": 10000
     },
     "inputWidgets": {},
     "nuid": "d49412d9-4ec2-4f40-89f5-807023aed667",
     "showTitle": false,
     "title": ""
    }
   },
   "source": [
    "Let's take a look at the data:"
   ]
  },
  {
   "cell_type": "code",
   "execution_count": null,
   "metadata": {
    "application/vnd.databricks.v1+cell": {
     "cellMetadata": {
      "byteLimit": 2048000,
      "rowLimit": 10000
     },
     "inputWidgets": {},
     "nuid": "99127627-a5fc-4dbf-9ca2-ed2be6db7c84",
     "showTitle": false,
     "title": ""
    }
   },
   "outputs": [
    {
     "data": {
      "text/html": [
       "<style scoped>\n",
       "  .table-result-container {\n",
       "    max-height: 300px;\n",
       "    overflow: auto;\n",
       "  }\n",
       "  table, th, td {\n",
       "    border: 1px solid black;\n",
       "    border-collapse: collapse;\n",
       "  }\n",
       "  th, td {\n",
       "    padding: 5px;\n",
       "  }\n",
       "  th {\n",
       "    text-align: left;\n",
       "  }\n",
       "</style><div class='table-result-container'><table class='table-result'><thead style='background-color: white'><tr><th>node_id</th><th>followers</th><th>following</th><th>posts</th><th>likes</th><th>comments</th><th>age</th><th>gender</th><th>interests</th><th>occupation</th><th>location</th></tr></thead><tbody><tr><td>0</td><td>2035</td><td>1972</td><td>29</td><td>195</td><td>2836</td><td>32</td><td>male</td><td>['Gaming']</td><td>Software Engineer</td><td>Vienna</td></tr><tr><td>1</td><td>147</td><td>105</td><td>2</td><td>0</td><td>0</td><td>33</td><td>male</td><td>['Music', 'Reading', 'Cooking', 'Meditation', 'Yoga']</td><td>Architect</td><td>Lisbon</td></tr><tr><td>2</td><td>16321</td><td>420</td><td>161</td><td>170948</td><td>1315447</td><td>32</td><td>female</td><td>['Dancing', 'Fashion', 'Gaming', 'Gardening']</td><td>Musician</td><td>Prague</td></tr><tr><td>3</td><td>985</td><td>461</td><td>6</td><td>16</td><td>74</td><td>42</td><td>female</td><td>[]</td><td>Software Engineer</td><td>Rome</td></tr><tr><td>4</td><td>550</td><td>80</td><td>9</td><td>20</td><td>50</td><td>40</td><td>female</td><td>[]</td><td>Doctor</td><td>Vienna</td></tr><tr><td>5</td><td>93875</td><td>1438</td><td>1497</td><td>91499840</td><td>63713738</td><td>35</td><td>male</td><td>['Gaming', 'Reading', 'Filmmaking', 'Sports', 'Dancing']</td><td>Musician</td><td>Copenhagen</td></tr><tr><td>6</td><td>1789</td><td>572</td><td>28</td><td>428</td><td>834</td><td>28</td><td>male</td><td>[]</td><td>Doctor</td><td>Rome</td></tr><tr><td>7</td><td>367</td><td>244</td><td>3</td><td>0</td><td>0</td><td>37</td><td>female</td><td>['Gaming', 'Music']</td><td>Dancer</td><td>Rome</td></tr><tr><td>8</td><td>81945</td><td>1355</td><td>511</td><td>34874601</td><td>79178760</td><td>45</td><td>male</td><td>['Photography', 'Reading', 'Travel']</td><td>Artist</td><td>Zurich</td></tr><tr><td>9</td><td>673</td><td>178</td><td>2</td><td>7</td><td>23</td><td>33</td><td>female</td><td>['DIY', 'Reading', 'Travel', 'Photography']</td><td>Dancer</td><td>Lisbon</td></tr><tr><td>10</td><td>820</td><td>350</td><td>5</td><td>30</td><td>101</td><td>40</td><td>female</td><td>['Dancing']</td><td>Dancer</td><td>Vienna</td></tr><tr><td>11</td><td>40441</td><td>1931</td><td>314</td><td>2225186</td><td>3991000</td><td>44</td><td>female</td><td>['Gardening', 'Gaming', 'Dancing', 'Reading']</td><td>Artist</td><td>Zurich</td></tr><tr><td>12</td><td>393</td><td>263</td><td>3</td><td>2</td><td>9</td><td>28</td><td>male</td><td>['Dancing', 'Fashion', 'Travel', 'Technology']</td><td>Architect</td><td>Barcelona</td></tr><tr><td>13</td><td>465</td><td>310</td><td>3</td><td>2</td><td>2</td><td>36</td><td>male</td><td>['Travel', 'DIY']</td><td>Writer</td><td>Zurich</td></tr><tr><td>14</td><td>63162</td><td>265</td><td>1219</td><td>19864070</td><td>142323695</td><td>45</td><td>female</td><td>['Music', 'Technology']</td><td>Filmmaker</td><td>Lisbon</td></tr><tr><td>15</td><td>1096</td><td>678</td><td>18</td><td>57</td><td>383</td><td>28</td><td>male</td><td>['Fashion', 'Nature']</td><td>Researcher</td><td>Vienna</td></tr><tr><td>16</td><td>536</td><td>387</td><td>7</td><td>13</td><td>18</td><td>21</td><td>female</td><td>['Nature']</td><td>Graphic Designer</td><td>Vienna</td></tr><tr><td>17</td><td>297</td><td>94</td><td>2</td><td>0</td><td>0</td><td>31</td><td>male</td><td>['Gardening', 'Filmmaking', 'Music', 'Reading', 'Travel']</td><td>Dancer</td><td>Barcelona</td></tr><tr><td>18</td><td>1618</td><td>292</td><td>2</td><td>23</td><td>113</td><td>34</td><td>male</td><td>['DIY', 'Dancing', 'Meditation', 'Travel']</td><td>Yoga Instructor</td><td>Berlin</td></tr><tr><td>19</td><td>91621</td><td>290</td><td>237</td><td>18290056</td><td>57616900</td><td>40</td><td>female</td><td>['Yoga']</td><td>Musician</td><td>Berlin</td></tr><tr><td>20</td><td>1388</td><td>113</td><td>23</td><td>89</td><td>996</td><td>25</td><td>female</td><td>[]</td><td>Nurse</td><td>Zurich</td></tr><tr><td>21</td><td>188</td><td>133</td><td>3</td><td>0</td><td>1</td><td>20</td><td>female</td><td>['Gaming', 'Travel', 'Nature']</td><td>Graphic Designer</td><td>Berlin</td></tr><tr><td>22</td><td>2244</td><td>1680</td><td>37</td><td>1529</td><td>1554</td><td>41</td><td>female</td><td>['Fashion', 'Yoga', 'Dancing']</td><td>Researcher</td><td>Vienna</td></tr><tr><td>23</td><td>2239</td><td>1623</td><td>4</td><td>146</td><td>273</td><td>32</td><td>female</td><td>['DIY']</td><td>Fitness Trainer</td><td>Rome</td></tr><tr><td>24</td><td>448</td><td>52</td><td>2</td><td>3</td><td>7</td><td>38</td><td>male</td><td>['Fashion', 'Writing', 'Gaming']</td><td>Dancer</td><td>Barcelona</td></tr><tr><td>25</td><td>2189</td><td>445</td><td>42</td><td>1062</td><td>5088</td><td>32</td><td>male</td><td>['Gaming', 'Meditation', 'Technology', 'Filmmaking', 'Fashion']</td><td>Fitness Trainer</td><td>Berlin</td></tr><tr><td>26</td><td>1520</td><td>1235</td><td>10</td><td>238</td><td>692</td><td>43</td><td>female</td><td>[]</td><td>Teacher</td><td>Lisbon</td></tr><tr><td>27</td><td>96113</td><td>1922</td><td>1764</td><td>147394160</td><td>309179989</td><td>40</td><td>female</td><td>['Art', 'Nature']</td><td>Musician</td><td>Amsterdam</td></tr><tr><td>28</td><td>429</td><td>118</td><td>2</td><td>1</td><td>0</td><td>42</td><td>male</td><td>['Music', 'Reading', 'Yoga']</td><td>Marketing Specialist</td><td>Copenhagen</td></tr><tr><td>29</td><td>577</td><td>303</td><td>4</td><td>11</td><td>26</td><td>31</td><td>male</td><td>['Nature', 'Meditation', 'DIY', 'Dancing']</td><td>Counselor</td><td>Barcelona</td></tr><tr><td>30</td><td>1727</td><td>341</td><td>17</td><td>384</td><td>437</td><td>27</td><td>female</td><td>['Meditation']</td><td>Researcher</td><td>Barcelona</td></tr><tr><td>31</td><td>2556</td><td>293</td><td>42</td><td>1233</td><td>6780</td><td>18</td><td>male</td><td>['Dancing', 'Writing', 'DIY', 'Fitness', 'Art']</td><td>Writer</td><td>Rome</td></tr><tr><td>32</td><td>2371</td><td>965</td><td>3</td><td>173</td><td>35</td><td>20</td><td>male</td><td>['DIY', 'Gaming', 'Art', 'Health', 'Writing']</td><td>Architect</td><td>Zurich</td></tr><tr><td>33</td><td>1687</td><td>328</td><td>12</td><td>53</td><td>912</td><td>34</td><td>female</td><td>['Yoga']</td><td>Doctor</td><td>Barcelona</td></tr><tr><td>34</td><td>329</td><td>234</td><td>4</td><td>1</td><td>9</td><td>44</td><td>male</td><td>['Dancing', 'Photography', 'Meditation']</td><td>Counselor</td><td>Berlin</td></tr><tr><td>35</td><td>2199</td><td>1732</td><td>20</td><td>315</td><td>201</td><td>38</td><td>male</td><td>[]</td><td>Software Engineer</td><td>Vienna</td></tr><tr><td>36</td><td>1065</td><td>359</td><td>7</td><td>65</td><td>235</td><td>28</td><td>male</td><td>['Filmmaking', 'Travel', 'Reading']</td><td>Graphic Designer</td><td>Prague</td></tr><tr><td>37</td><td>2051</td><td>1200</td><td>15</td><td>139</td><td>1219</td><td>31</td><td>female</td><td>['Yoga', 'Health']</td><td>Nurse</td><td>Paris</td></tr><tr><td>38</td><td>93892</td><td>1741</td><td>896</td><td>77047227</td><td>192607826</td><td>18</td><td>female</td><td>['Nature', 'Yoga', 'DIY']</td><td>Artist</td><td>Rome</td></tr><tr><td>39</td><td>2715</td><td>1694</td><td>11</td><td>218</td><td>560</td><td>37</td><td>male</td><td>['Health', 'Fashion']</td><td>Marketing Specialist</td><td>Copenhagen</td></tr><tr><td>40</td><td>301</td><td>260</td><td>2</td><td>0</td><td>1</td><td>23</td><td>male</td><td>['Writing', 'Cooking', 'Gardening']</td><td>Photographer</td><td>Paris</td></tr><tr><td>41</td><td>636</td><td>379</td><td>8</td><td>22</td><td>32</td><td>20</td><td>male</td><td>['Reading', 'Music', 'Cooking', 'Fashion']</td><td>Chef</td><td>Barcelona</td></tr><tr><td>42</td><td>561</td><td>496</td><td>3</td><td>2</td><td>6</td><td>43</td><td>male</td><td>['Health']</td><td>Architect</td><td>Amsterdam</td></tr><tr><td>43</td><td>2213</td><td>1598</td><td>36</td><td>1325</td><td>1089</td><td>19</td><td>male</td><td>['Dancing', 'Photography', 'Meditation', 'Filmmaking', 'Nature']</td><td>Graphic Designer</td><td>Amsterdam</td></tr><tr><td>44</td><td>1970</td><td>580</td><td>18</td><td>679</td><td>1659</td><td>31</td><td>male</td><td>['Cooking', 'Sports', 'Nature']</td><td>Social Worker</td><td>Copenhagen</td></tr><tr><td>45</td><td>2726</td><td>550</td><td>1</td><td>14</td><td>221</td><td>40</td><td>female</td><td>['Health']</td><td>Photographer</td><td>Berlin</td></tr><tr><td>46</td><td>286</td><td>144</td><td>5</td><td>2</td><td>0</td><td>38</td><td>female</td><td>['Nature']</td><td>Teacher</td><td>Vienna</td></tr><tr><td>47</td><td>271</td><td>175</td><td>4</td><td>0</td><td>8</td><td>24</td><td>male</td><td>['Cooking']</td><td>Researcher</td><td>Zurich</td></tr><tr><td>48</td><td>688</td><td>635</td><td>2</td><td>1</td><td>7</td><td>28</td><td>female</td><td>['Fashion', 'Writing']</td><td>Graphic Designer</td><td>Paris</td></tr><tr><td>49</td><td>1639</td><td>477</td><td>16</td><td>221</td><td>959</td><td>36</td><td>male</td><td>['DIY']</td><td>Fitness Trainer</td><td>Rome</td></tr><tr><td>50</td><td>93025</td><td>202</td><td>1758</td><td>133038075</td><td>8692681</td><td>18</td><td>male</td><td>['Reading', 'Music', 'Travel']</td><td>Musician</td><td>Paris</td></tr><tr><td>51</td><td>531</td><td>505</td><td>5</td><td>3</td><td>28</td><td>20</td><td>male</td><td>['Travel', 'Music']</td><td>Researcher</td><td>Berlin</td></tr><tr><td>52</td><td>943</td><td>476</td><td>16</td><td>19</td><td>330</td><td>22</td><td>female</td><td>['Technology', 'DIY', 'Dancing']</td><td>Yoga Instructor</td><td>Prague</td></tr><tr><td>53</td><td>2763</td><td>272</td><td>49</td><td>3865</td><td>670</td><td>38</td><td>female</td><td>['Nature', 'Gaming', 'Yoga', 'Travel']</td><td>Dancer</td><td>Berlin</td></tr><tr><td>54</td><td>822</td><td>127</td><td>13</td><td>35</td><td>230</td><td>24</td><td>female</td><td>['Travel']</td><td>Fitness Trainer</td><td>Vienna</td></tr><tr><td>55</td><td>2375</td><td>472</td><td>6</td><td>110</td><td>1006</td><td>40</td><td>female</td><td>['Health', 'Dancing', 'Gardening']</td><td>Architect</td><td>Copenhagen</td></tr><tr><td>56</td><td>1546</td><td>530</td><td>28</td><td>219</td><td>1493</td><td>35</td><td>male</td><td>['Health', 'Photography', 'Nature']</td><td>Chef</td><td>Zurich</td></tr><tr><td>57</td><td>450</td><td>186</td><td>2</td><td>1</td><td>6</td><td>38</td><td>male</td><td>['Yoga']</td><td>Chef</td><td>Barcelona</td></tr><tr><td>58</td><td>2542</td><td>137</td><td>43</td><td>2643</td><td>6342</td><td>30</td><td>female</td><td>[]</td><td>Teacher</td><td>Paris</td></tr><tr><td>59</td><td>2617</td><td>1587</td><td>35</td><td>888</td><td>3119</td><td>42</td><td>female</td><td>['Sports']</td><td>Counselor</td><td>Rome</td></tr><tr><td>60</td><td>1687</td><td>1468</td><td>22</td><td>184</td><td>1857</td><td>33</td><td>female</td><td>['Cooking', 'Gaming', 'Fashion', 'Technology', 'Nature']</td><td>Dancer</td><td>Prague</td></tr><tr><td>61</td><td>2189</td><td>1764</td><td>32</td><td>1147</td><td>2562</td><td>28</td><td>male</td><td>['DIY']</td><td>Software Engineer</td><td>Berlin</td></tr><tr><td>62</td><td>959</td><td>481</td><td>16</td><td>25</td><td>346</td><td>38</td><td>male</td><td>['Writing']</td><td>Counselor</td><td>Vienna</td></tr><tr><td>63</td><td>908</td><td>219</td><td>17</td><td>59</td><td>356</td><td>37</td><td>male</td><td>['Health', 'Photography']</td><td>Writer</td><td>Copenhagen</td></tr><tr><td>64</td><td>2772</td><td>1724</td><td>21</td><td>484</td><td>3794</td><td>42</td><td>male</td><td>['Cooking', 'Dancing', 'Technology']</td><td>Fitness Trainer</td><td>Vienna</td></tr><tr><td>65</td><td>1887</td><td>459</td><td>18</td><td>179</td><td>1987</td><td>45</td><td>female</td><td>['Fitness']</td><td>Architect</td><td>Vienna</td></tr><tr><td>66</td><td>2143</td><td>946</td><td>12</td><td>170</td><td>681</td><td>37</td><td>male</td><td>[]</td><td>Teacher</td><td>Prague</td></tr><tr><td>67</td><td>2781</td><td>1955</td><td>53</td><td>804</td><td>2781</td><td>30</td><td>male</td><td>['Fitness']</td><td>Counselor</td><td>Rome</td></tr><tr><td>68</td><td>1533</td><td>259</td><td>14</td><td>67</td><td>1008</td><td>41</td><td>male</td><td>['Sports', 'Gardening', 'Reading', 'Dancing']</td><td>Counselor</td><td>Rome</td></tr><tr><td>69</td><td>243</td><td>105</td><td>3</td><td>0</td><td>1</td><td>40</td><td>female</td><td>[]</td><td>Doctor</td><td>Copenhagen</td></tr><tr><td>70</td><td>43637</td><td>698</td><td>379</td><td>1314952</td><td>14595568</td><td>19</td><td>female</td><td>['Photography', 'Gardening']</td><td>Artist</td><td>Rome</td></tr><tr><td>71</td><td>1131</td><td>681</td><td>16</td><td>49</td><td>251</td><td>33</td><td>male</td><td>['Reading', 'Gardening', 'Photography', 'Sports']</td><td>Dancer</td><td>Vienna</td></tr><tr><td>72</td><td>2514</td><td>1535</td><td>3</td><td>82</td><td>34</td><td>43</td><td>male</td><td>['Yoga', 'Sports']</td><td>Chef</td><td>Vienna</td></tr><tr><td>73</td><td>759</td><td>746</td><td>15</td><td>31</td><td>152</td><td>43</td><td>female</td><td>['Dancing', 'Art', 'Travel', 'Health', 'Sports']</td><td>Counselor</td><td>Prague</td></tr><tr><td>74</td><td>543</td><td>76</td><td>7</td><td>9</td><td>55</td><td>20</td><td>male</td><td>['Cooking']</td><td>Social Worker</td><td>Copenhagen</td></tr><tr><td>75</td><td>2694</td><td>809</td><td>47</td><td>2113</td><td>5601</td><td>44</td><td>female</td><td>[]</td><td>Teacher</td><td>Paris</td></tr><tr><td>76</td><td>1932</td><td>1844</td><td>16</td><td>246</td><td>729</td><td>42</td><td>female</td><td>['Sports']</td><td>Dancer</td><td>Prague</td></tr><tr><td>77</td><td>2123</td><td>473</td><td>36</td><td>549</td><td>1120</td><td>25</td><td>female</td><td>[]</td><td>Software Engineer</td><td>Zurich</td></tr><tr><td>78</td><td>420</td><td>228</td><td>3</td><td>2</td><td>0</td><td>18</td><td>female</td><td>['Gaming']</td><td>Social Worker</td><td>Zurich</td></tr><tr><td>79</td><td>2911</td><td>436</td><td>1</td><td>56</td><td>73</td><td>44</td><td>female</td><td>['Dancing']</td><td>Fitness Trainer</td><td>Zurich</td></tr><tr><td>80</td><td>10378</td><td>1825</td><td>96</td><td>26608</td><td>200425</td><td>42</td><td>male</td><td>['Meditation']</td><td>Filmmaker</td><td>Zurich</td></tr><tr><td>81</td><td>2961</td><td>1624</td><td>57</td><td>1272</td><td>2233</td><td>33</td><td>female</td><td>['Filmmaking', 'Yoga']</td><td>Yoga Instructor</td><td>Berlin</td></tr><tr><td>82</td><td>1593</td><td>427</td><td>22</td><td>208</td><td>1106</td><td>42</td><td>male</td><td>['Health', 'Sports', 'Cooking', 'Dancing', 'Yoga']</td><td>Marketing Specialist</td><td>Lisbon</td></tr><tr><td>83</td><td>2592</td><td>822</td><td>11</td><td>123</td><td>2042</td><td>41</td><td>male</td><td>['Nature', 'Gaming', 'Reading', 'DIY', 'Fashion']</td><td>Researcher</td><td>Lisbon</td></tr><tr><td>84</td><td>39411</td><td>1745</td><td>500</td><td>3298628</td><td>19464926</td><td>37</td><td>male</td><td>['Nature', 'Writing', 'DIY', 'Technology', 'Art']</td><td>Artist</td><td>Paris</td></tr><tr><td>85</td><td>385</td><td>250</td><td>4</td><td>4</td><td>1</td><td>24</td><td>male</td><td>[]</td><td>Doctor</td><td>Zurich</td></tr><tr><td>86</td><td>58146</td><td>1747</td><td>10</td><td>295523</td><td>801987</td><td>29</td><td>male</td><td>['Writing', 'Reading', 'Gardening']</td><td>Filmmaker</td><td>Amsterdam</td></tr><tr><td>87</td><td>225</td><td>166</td><td>1</td><td>0</td><td>1</td><td>37</td><td>female</td><td>[]</td><td>Doctor</td><td>Paris</td></tr><tr><td>88</td><td>29285</td><td>1227</td><td>331</td><td>2657915</td><td>2304998</td><td>34</td><td>male</td><td>['Art', 'Filmmaking', 'Reading', 'Travel']</td><td>Musician</td><td>Amsterdam</td></tr><tr><td>89</td><td>1486</td><td>1339</td><td>2</td><td>30</td><td>10</td><td>31</td><td>female</td><td>['Art', 'Yoga', 'Cooking', 'DIY', 'Filmmaking']</td><td>Yoga Instructor</td><td>Paris</td></tr><tr><td>90</td><td>118</td><td>58</td><td>1</td><td>0</td><td>0</td><td>31</td><td>female</td><td>['Gardening', 'Nature']</td><td>Architect</td><td>Vienna</td></tr><tr><td>91</td><td>246</td><td>242</td><td>4</td><td>1</td><td>5</td><td>30</td><td>female</td><td>[]</td><td>Doctor</td><td>Rome</td></tr><tr><td>92</td><td>1970</td><td>1129</td><td>23</td><td>410</td><td>749</td><td>19</td><td>female</td><td>['Yoga']</td><td>Doctor</td><td>Copenhagen</td></tr><tr><td>93</td><td>1178</td><td>244</td><td>15</td><td>90</td><td>175</td><td>41</td><td>female</td><td>['Cooking', 'Technology', 'Gardening', 'Meditation', 'Nature']</td><td>Social Worker</td><td>Paris</td></tr><tr><td>94</td><td>1262</td><td>1223</td><td>17</td><td>121</td><td>606</td><td>45</td><td>female</td><td>['Gardening', 'Fashion', 'DIY', 'Writing', 'Nature']</td><td>Dancer</td><td>Amsterdam</td></tr><tr><td>95</td><td>1432</td><td>869</td><td>6</td><td>35</td><td>268</td><td>24</td><td>male</td><td>['Music', 'Travel', 'Technology', 'Health']</td><td>Dancer</td><td>Rome</td></tr><tr><td>96</td><td>1964</td><td>544</td><td>37</td><td>1235</td><td>2394</td><td>32</td><td>male</td><td>['Travel']</td><td>Marketing Specialist</td><td>Vienna</td></tr><tr><td>97</td><td>49294</td><td>99</td><td>724</td><td>13234826</td><td>27855087</td><td>20</td><td>female</td><td>['Gardening', 'Art', 'Sports', 'Music', 'Photography']</td><td>Filmmaker</td><td>Rome</td></tr><tr><td>98</td><td>1759</td><td>1406</td><td>27</td><td>124</td><td>107</td><td>40</td><td>female</td><td>['Fashion', 'Dancing', 'Technology', 'Sports', 'DIY']</td><td>Fitness Trainer</td><td>Zurich</td></tr><tr><td>99</td><td>1743</td><td>93</td><td>33</td><td>953</td><td>2066</td><td>26</td><td>male</td><td>['Writing']</td><td>Fitness Trainer</td><td>Copenhagen</td></tr><tr><td>100</td><td>2603</td><td>1177</td><td>27</td><td>1520</td><td>3288</td><td>32</td><td>male</td><td>['Dancing', 'Reading', 'Meditation', 'Travel', 'Cooking']</td><td>Marketing Specialist</td><td>Copenhagen</td></tr><tr><td>101</td><td>2128</td><td>1907</td><td>39</td><td>1484</td><td>714</td><td>43</td><td>male</td><td>[]</td><td>Teacher</td><td>Prague</td></tr><tr><td>102</td><td>1851</td><td>952</td><td>2</td><td>41</td><td>210</td><td>18</td><td>male</td><td>['Filmmaking', 'Fashion', 'Dancing', 'Reading', 'Fitness']</td><td>Photographer</td><td>Copenhagen</td></tr><tr><td>103</td><td>2026</td><td>1192</td><td>10</td><td>92</td><td>1007</td><td>37</td><td>female</td><td>[]</td><td>Software Engineer</td><td>Lisbon</td></tr><tr><td>104</td><td>2532</td><td>540</td><td>40</td><td>1725</td><td>4015</td><td>32</td><td>male</td><td>['Meditation']</td><td>Nurse</td><td>Prague</td></tr><tr><td>105</td><td>972</td><td>227</td><td>14</td><td>76</td><td>226</td><td>36</td><td>female</td><td>['Technology', 'Gardening']</td><td>Researcher</td><td>Barcelona</td></tr><tr><td>106</td><td>387</td><td>147</td><td>2</td><td>1</td><td>5</td><td>45</td><td>female</td><td>['Photography']</td><td>Counselor</td><td>Paris</td></tr><tr><td>107</td><td>709</td><td>385</td><td>5</td><td>25</td><td>55</td><td>38</td><td>male</td><td>['Dancing']</td><td>Chef</td><td>Vienna</td></tr><tr><td>108</td><td>2642</td><td>60</td><td>37</td><td>2184</td><td>7284</td><td>19</td><td>male</td><td>['Music', 'Filmmaking', 'Fashion']</td><td>Photographer</td><td>Amsterdam</td></tr><tr><td>109</td><td>2762</td><td>649</td><td>52</td><td>3384</td><td>7789</td><td>24</td><td>female</td><td>[]</td><td>Teacher</td><td>Amsterdam</td></tr><tr><td>110</td><td>802</td><td>150</td><td>10</td><td>13</td><td>125</td><td>29</td><td>female</td><td>['Filmmaking', 'Dancing']</td><td>Dancer</td><td>Paris</td></tr><tr><td>111</td><td>1617</td><td>699</td><td>28</td><td>692</td><td>178</td><td>24</td><td>male</td><td>['Writing', 'Sports', 'Health']</td><td>Photographer</td><td>Zurich</td></tr><tr><td>112</td><td>1733</td><td>1409</td><td>3</td><td>89</td><td>268</td><td>31</td><td>female</td><td>['Technology', 'Filmmaking', 'Gaming', 'Health']</td><td>Graphic Designer</td><td>Rome</td></tr><tr><td>113</td><td>106</td><td>73</td><td>2</td><td>0</td><td>0</td><td>39</td><td>male</td><td>[]</td><td>Doctor</td><td>Paris</td></tr><tr><td>114</td><td>2391</td><td>1078</td><td>7</td><td>293</td><td>590</td><td>40</td><td>female</td><td>[]</td><td>Software Engineer</td><td>Prague</td></tr><tr><td>115</td><td>482</td><td>163</td><td>6</td><td>2</td><td>41</td><td>28</td><td>female</td><td>['Meditation', 'Writing', 'Nature']</td><td>Writer</td><td>Rome</td></tr><tr><td>116</td><td>1298</td><td>697</td><td>17</td><td>281</td><td>781</td><td>22</td><td>female</td><td>[]</td><td>Teacher</td><td>Paris</td></tr><tr><td>117</td><td>2657</td><td>1595</td><td>47</td><td>773</td><td>3646</td><td>22</td><td>male</td><td>['Gardening', 'Travel', 'Gaming']</td><td>Marketing Specialist</td><td>Copenhagen</td></tr><tr><td>118</td><td>2290</td><td>877</td><td>10</td><td>229</td><td>177</td><td>18</td><td>female</td><td>['Sports']</td><td>Yoga Instructor</td><td>Lisbon</td></tr><tr><td>119</td><td>48254</td><td>1936</td><td>961</td><td>9222711</td><td>67905239</td><td>41</td><td>female</td><td>['Nature', 'Writing', 'Dancing', 'Reading']</td><td>Artist</td><td>Copenhagen</td></tr><tr><td>120</td><td>35376</td><td>1786</td><td>698</td><td>3331777</td><td>15924511</td><td>24</td><td>female</td><td>['Technology', 'Health']</td><td>Musician</td><td>Lisbon</td></tr><tr><td>121</td><td>2883</td><td>427</td><td>48</td><td>1530</td><td>10580</td><td>40</td><td>male</td><td>['Meditation', 'Cooking', 'Reading', 'Travel', 'Writing']</td><td>Yoga Instructor</td><td>Prague</td></tr><tr><td>122</td><td>337</td><td>226</td><td>2</td><td>1</td><td>5</td><td>34</td><td>male</td><td>['Photography', 'Technology']</td><td>Marketing Specialist</td><td>Prague</td></tr><tr><td>123</td><td>1969</td><td>1713</td><td>29</td><td>1090</td><td>3038</td><td>22</td><td>male</td><td>['Reading']</td><td>Chef</td><td>Amsterdam</td></tr><tr><td>124</td><td>2671</td><td>949</td><td>24</td><td>553</td><td>493</td><td>23</td><td>male</td><td>[]</td><td>Doctor</td><td>Amsterdam</td></tr><tr><td>125</td><td>467</td><td>420</td><td>8</td><td>2</td><td>24</td><td>29</td><td>female</td><td>['Cooking', 'Sports', 'Fitness', 'Nature', 'Meditation']</td><td>Social Worker</td><td>Berlin</td></tr><tr><td>126</td><td>749</td><td>497</td><td>5</td><td>23</td><td>64</td><td>36</td><td>male</td><td>['Photography', 'Sports', 'Cooking']</td><td>Researcher</td><td>Copenhagen</td></tr><tr><td>127</td><td>2203</td><td>806</td><td>9</td><td>412</td><td>538</td><td>30</td><td>female</td><td>['Reading', 'Dancing', 'Health', 'Gaming', 'Meditation']</td><td>Chef</td><td>Amsterdam</td></tr><tr><td>128</td><td>112</td><td>110</td><td>1</td><td>0</td><td>0</td><td>32</td><td>male</td><td>['Music', 'Photography', 'Fashion', 'Gaming', 'DIY']</td><td>Dancer</td><td>Amsterdam</td></tr><tr><td>129</td><td>30985</td><td>1332</td><td>339</td><td>1488922</td><td>1484470</td><td>23</td><td>male</td><td>['Sports', 'Photography', 'Fashion']</td><td>Artist</td><td>Prague</td></tr><tr><td>130</td><td>1108</td><td>118</td><td>21</td><td>137</td><td>513</td><td>29</td><td>female</td><td>['Photography']</td><td>Dancer</td><td>Paris</td></tr><tr><td>131</td><td>354</td><td>51</td><td>4</td><td>2</td><td>9</td><td>29</td><td>female</td><td>['Fashion', 'Gaming', 'Health', 'Dancing', 'Writing']</td><td>Marketing Specialist</td><td>Copenhagen</td></tr><tr><td>132</td><td>158</td><td>110</td><td>3</td><td>0</td><td>0</td><td>22</td><td>male</td><td>[]</td><td>Nurse</td><td>Berlin</td></tr><tr><td>133</td><td>2899</td><td>1520</td><td>54</td><td>3053</td><td>3485</td><td>39</td><td>male</td><td>['Music', 'DIY', 'Sports']</td><td>Graphic Designer</td><td>Prague</td></tr><tr><td>134</td><td>961</td><td>933</td><td>4</td><td>35</td><td>83</td><td>26</td><td>female</td><td>['Fitness', 'Reading', 'DIY', 'Art', 'Yoga']</td><td>Social Worker</td><td>Amsterdam</td></tr><tr><td>135</td><td>236</td><td>144</td><td>3</td><td>0</td><td>3</td><td>21</td><td>male</td><td>['Gardening', 'Fashion', 'Art']</td><td>Writer</td><td>Zurich</td></tr><tr><td>136</td><td>2489</td><td>1680</td><td>8</td><td>331</td><td>607</td><td>24</td><td>female</td><td>['Photography']</td><td>Writer</td><td>Amsterdam</td></tr><tr><td>137</td><td>165</td><td>103</td><td>2</td><td>0</td><td>0</td><td>34</td><td>male</td><td>[]</td><td>Teacher</td><td>Berlin</td></tr><tr><td>138</td><td>827</td><td>77</td><td>2</td><td>4</td><td>22</td><td>20</td><td>female</td><td>['Reading', 'Sports', 'Photography', 'Art']</td><td>Dancer</td><td>Zurich</td></tr><tr><td>139</td><td>1238</td><td>730</td><td>11</td><td>172</td><td>475</td><td>21</td><td>female</td><td>[]</td><td>Nurse</td><td>Copenhagen</td></tr><tr><td>140</td><td>2955</td><td>105</td><td>26</td><td>638</td><td>5409</td><td>29</td><td>female</td><td>['Reading']</td><td>Teacher</td><td>Vienna</td></tr><tr><td>141</td><td>1171</td><td>252</td><td>9</td><td>106</td><td>263</td><td>28</td><td>female</td><td>['Travel', 'Reading', 'Technology']</td><td>Yoga Instructor</td><td>Zurich</td></tr><tr><td>142</td><td>1916</td><td>1179</td><td>1</td><td>12</td><td>93</td><td>36</td><td>male</td><td>['Reading', 'Gaming', 'Fashion']</td><td>Graphic Designer</td><td>Prague</td></tr><tr><td>143</td><td>557</td><td>398</td><td>1</td><td>0</td><td>4</td><td>31</td><td>female</td><td>['Health']</td><td>Marketing Specialist</td><td>Paris</td></tr><tr><td>144</td><td>82267</td><td>1329</td><td>907</td><td>34561601</td><td>89320564</td><td>28</td><td>female</td><td>['Photography', 'Art', 'Cooking']</td><td>Artist</td><td>Rome</td></tr><tr><td>145</td><td>2203</td><td>1181</td><td>40</td><td>1756</td><td>3171</td><td>35</td><td>female</td><td>['Gardening']</td><td>Writer</td><td>Zurich</td></tr><tr><td>146</td><td>2521</td><td>409</td><td>34</td><td>309</td><td>3048</td><td>37</td><td>male</td><td>['Yoga', 'Health']</td><td>Doctor</td><td>Barcelona</td></tr><tr><td>147</td><td>73259</td><td>1031</td><td>1019</td><td>54021927</td><td>91221965</td><td>44</td><td>male</td><td>['Photography', 'Cooking', 'Dancing', 'DIY', 'Gaming']</td><td>Musician</td><td>Berlin</td></tr><tr><td>148</td><td>237</td><td>203</td><td>1</td><td>0</td><td>0</td><td>28</td><td>male</td><td>['Nature']</td><td>Chef</td><td>Zurich</td></tr><tr><td>149</td><td>717</td><td>419</td><td>14</td><td>66</td><td>73</td><td>19</td><td>female</td><td>[]</td><td>Teacher</td><td>Amsterdam</td></tr><tr><td>150</td><td>74263</td><td>1652</td><td>457</td><td>15835565</td><td>59215827</td><td>20</td><td>male</td><td>['Health', 'Reading', 'Yoga']</td><td>Filmmaker</td><td>Berlin</td></tr><tr><td>151</td><td>2643</td><td>686</td><td>38</td><td>2093</td><td>2334</td><td>27</td><td>female</td><td>['Dancing', 'Travel', 'Health', 'Technology', 'DIY']</td><td>Social Worker</td><td>Amsterdam</td></tr><tr><td>152</td><td>2145</td><td>1398</td><td>39</td><td>1153</td><td>1276</td><td>24</td><td>female</td><td>[]</td><td>Software Engineer</td><td>Rome</td></tr><tr><td>153</td><td>903</td><td>489</td><td>4</td><td>26</td><td>13</td><td>18</td><td>male</td><td>['Health', 'Meditation']</td><td>Nurse</td><td>Paris</td></tr><tr><td>154</td><td>405</td><td>113</td><td>6</td><td>3</td><td>2</td><td>27</td><td>female</td><td>['Meditation']</td><td>Doctor</td><td>Amsterdam</td></tr><tr><td>155</td><td>2219</td><td>811</td><td>18</td><td>628</td><td>1843</td><td>30</td><td>male</td><td>['Yoga', 'Health']</td><td>Doctor</td><td>Copenhagen</td></tr><tr><td>156</td><td>88397</td><td>486</td><td>1150</td><td>79707341</td><td>169193593</td><td>34</td><td>male</td><td>['Gardening', 'Yoga', 'Writing']</td><td>Artist</td><td>Copenhagen</td></tr><tr><td>157</td><td>63844</td><td>515</td><td>742</td><td>18395615</td><td>27625032</td><td>25</td><td>female</td><td>['Technology', 'Gaming', 'DIY', 'Meditation']</td><td>Filmmaker</td><td>Berlin</td></tr><tr><td>158</td><td>1501</td><td>130</td><td>16</td><td>160</td><td>113</td><td>21</td><td>male</td><td>['Writing', 'DIY', 'Art', 'Sports', 'Nature']</td><td>Architect</td><td>Prague</td></tr><tr><td>159</td><td>1107</td><td>751</td><td>22</td><td>157</td><td>827</td><td>28</td><td>male</td><td>['Nature', 'Dancing', 'Photography', 'Music']</td><td>Researcher</td><td>Rome</td></tr><tr><td>160</td><td>1496</td><td>343</td><td>9</td><td>142</td><td>87</td><td>36</td><td>female</td><td>[]</td><td>Software Engineer</td><td>Paris</td></tr><tr><td>161</td><td>1224</td><td>118</td><td>6</td><td>24</td><td>33</td><td>35</td><td>female</td><td>['Dancing']</td><td>Architect</td><td>Zurich</td></tr><tr><td>162</td><td>2256</td><td>1561</td><td>18</td><td>446</td><td>2776</td><td>27</td><td>female</td><td>['Gaming', 'Health', 'Reading', 'Yoga']</td><td>Marketing Specialist</td><td>Rome</td></tr><tr><td>163</td><td>94526</td><td>673</td><td>1082</td><td>73134684</td><td>252795433</td><td>44</td><td>male</td><td>['Sports']</td><td>Artist</td><td>Barcelona</td></tr><tr><td>164</td><td>1334</td><td>1087</td><td>18</td><td>78</td><td>769</td><td>44</td><td>female</td><td>['Yoga', 'Travel', 'Writing', 'Gardening']</td><td>Writer</td><td>Amsterdam</td></tr><tr><td>165</td><td>2973</td><td>1437</td><td>39</td><td>696</td><td>8937</td><td>38</td><td>female</td><td>['Sports', 'Photography']</td><td>Fitness Trainer</td><td>Rome</td></tr><tr><td>166</td><td>649</td><td>307</td><td>3</td><td>6</td><td>4</td><td>20</td><td>male</td><td>['Travel']</td><td>Yoga Instructor</td><td>Amsterdam</td></tr><tr><td>167</td><td>669</td><td>323</td><td>7</td><td>23</td><td>33</td><td>34</td><td>female</td><td>['Travel', 'Nature']</td><td>Graphic Designer</td><td>Berlin</td></tr><tr><td>168</td><td>793</td><td>322</td><td>9</td><td>48</td><td>105</td><td>38</td><td>male</td><td>['Reading', 'Meditation']</td><td>Marketing Specialist</td><td>Barcelona</td></tr><tr><td>169</td><td>41181</td><td>1313</td><td>812</td><td>2794925</td><td>31627776</td><td>40</td><td>female</td><td>['Photography', 'Writing', 'Health', 'Sports', 'Yoga']</td><td>Filmmaker</td><td>Vienna</td></tr><tr><td>170</td><td>1361</td><td>127</td><td>11</td><td>40</td><td>622</td><td>30</td><td>female</td><td>[]</td><td>Nurse</td><td>Berlin</td></tr><tr><td>171</td><td>57807</td><td>1830</td><td>915</td><td>20363865</td><td>14251610</td><td>43</td><td>male</td><td>['Reading', 'Cooking', 'Travel']</td><td>Artist</td><td>Copenhagen</td></tr><tr><td>172</td><td>515</td><td>269</td><td>10</td><td>8</td><td>31</td><td>43</td><td>male</td><td>['Nature']</td><td>Teacher</td><td>Prague</td></tr><tr><td>173</td><td>1684</td><td>1466</td><td>30</td><td>238</td><td>228</td><td>31</td><td>male</td><td>[]</td><td>Software Engineer</td><td>Rome</td></tr><tr><td>174</td><td>2234</td><td>291</td><td>24</td><td>838</td><td>557</td><td>38</td><td>female</td><td>['Reading']</td><td>Photographer</td><td>Zurich</td></tr><tr><td>175</td><td>960</td><td>488</td><td>8</td><td>47</td><td>119</td><td>27</td><td>female</td><td>['Dancing', 'Cooking', 'Writing']</td><td>Yoga Instructor</td><td>Copenhagen</td></tr><tr><td>176</td><td>902</td><td>577</td><td>7</td><td>8</td><td>74</td><td>33</td><td>male</td><td>['Art']</td><td>Social Worker</td><td>Lisbon</td></tr><tr><td>177</td><td>416</td><td>58</td><td>8</td><td>13</td><td>42</td><td>29</td><td>female</td><td>['Travel', 'Nature', 'DIY']</td><td>Dancer</td><td>Prague</td></tr><tr><td>178</td><td>293</td><td>101</td><td>4</td><td>2</td><td>2</td><td>18</td><td>female</td><td>['Writing', 'Sports', 'Fashion', 'Gaming', 'Meditation']</td><td>Chef</td><td>Zurich</td></tr><tr><td>179</td><td>1892</td><td>972</td><td>12</td><td>73</td><td>1178</td><td>19</td><td>female</td><td>['Meditation', 'Fashion']</td><td>Counselor</td><td>Prague</td></tr><tr><td>180</td><td>96463</td><td>1368</td><td>1842</td><td>23133013</td><td>423159670</td><td>25</td><td>female</td><td>['Technology', 'Travel', 'Filmmaking', 'Reading']</td><td>Filmmaker</td><td>Zurich</td></tr><tr><td>181</td><td>613</td><td>85</td><td>6</td><td>21</td><td>46</td><td>39</td><td>male</td><td>['Fashion', 'Cooking', 'Health']</td><td>Architect</td><td>Rome</td></tr><tr><td>182</td><td>2369</td><td>1414</td><td>32</td><td>359</td><td>2792</td><td>42</td><td>female</td><td>['Nature']</td><td>Marketing Specialist</td><td>Rome</td></tr><tr><td>183</td><td>144</td><td>140</td><td>2</td><td>0</td><td>1</td><td>23</td><td>male</td><td>['Gaming', 'Sports']</td><td>Architect</td><td>Vienna</td></tr><tr><td>184</td><td>83846</td><td>1329</td><td>742</td><td>36834305</td><td>117667041</td><td>37</td><td>male</td><td>['Gaming', 'Health', 'Writing', 'Yoga']</td><td>Filmmaker</td><td>Paris</td></tr><tr><td>185</td><td>117</td><td>79</td><td>2</td><td>0</td><td>0</td><td>38</td><td>male</td><td>['Travel', 'Cooking', 'Art', 'Writing']</td><td>Counselor</td><td>Paris</td></tr><tr><td>186</td><td>967</td><td>932</td><td>1</td><td>4</td><td>6</td><td>42</td><td>male</td><td>['Gaming', 'Dancing', 'Technology']</td><td>Dancer</td><td>Barcelona</td></tr><tr><td>187</td><td>1679</td><td>543</td><td>25</td><td>244</td><td>1221</td><td>21</td><td>male</td><td>['DIY', 'Filmmaking', 'Yoga', 'Writing', 'Sports']</td><td>Fitness Trainer</td><td>Rome</td></tr><tr><td>188</td><td>279</td><td>69</td><td>5</td><td>3</td><td>2</td><td>31</td><td>female</td><td>['Technology', 'Gardening', 'Yoga', 'Filmmaking']</td><td>Social Worker</td><td>Prague</td></tr><tr><td>189</td><td>44844</td><td>673</td><td>38</td><td>310918</td><td>224655</td><td>35</td><td>male</td><td>['DIY', 'Music']</td><td>Artist</td><td>Barcelona</td></tr><tr><td>190</td><td>2714</td><td>180</td><td>39</td><td>2048</td><td>7700</td><td>32</td><td>female</td><td>['Yoga', 'Health', 'Reading', 'Nature', 'Meditation']</td><td>Writer</td><td>Amsterdam</td></tr><tr><td>191</td><td>2635</td><td>287</td><td>50</td><td>1004</td><td>6477</td><td>32</td><td>male</td><td>['DIY', 'Nature']</td><td>Marketing Specialist</td><td>Lisbon</td></tr><tr><td>192</td><td>1600</td><td>591</td><td>30</td><td>787</td><td>242</td><td>37</td><td>male</td><td>['DIY', 'Music']</td><td>Photographer</td><td>Lisbon</td></tr><tr><td>193</td><td>90555</td><td>1477</td><td>383</td><td>16908184</td><td>48533288</td><td>43</td><td>male</td><td>['Photography', 'Art', 'Meditation', 'Travel']</td><td>Artist</td><td>Berlin</td></tr><tr><td>194</td><td>1667</td><td>1443</td><td>6</td><td>139</td><td>207</td><td>25</td><td>male</td><td>['Travel', 'Cooking', 'DIY', 'Technology']</td><td>Fitness Trainer</td><td>Zurich</td></tr><tr><td>195</td><td>47918</td><td>1367</td><td>785</td><td>2414697</td><td>16628802</td><td>22</td><td>male</td><td>['Photography', 'Reading', 'Cooking', 'Art', 'Gardening']</td><td>Musician</td><td>Zurich</td></tr><tr><td>196</td><td>538</td><td>498</td><td>7</td><td>4</td><td>9</td><td>22</td><td>male</td><td>['Writing', 'Gardening', 'Technology']</td><td>Architect</td><td>Rome</td></tr><tr><td>197</td><td>83122</td><td>1921</td><td>531</td><td>25514688</td><td>95699749</td><td>27</td><td>female</td><td>['Music', 'Travel']</td><td>Musician</td><td>Copenhagen</td></tr><tr><td>198</td><td>1314</td><td>912</td><td>8</td><td>58</td><td>332</td><td>20</td><td>female</td><td>['Nature', 'Gardening', 'Photography', 'Technology']</td><td>Yoga Instructor</td><td>Rome</td></tr><tr><td>199</td><td>2881</td><td>617</td><td>5</td><td>171</td><td>1139</td><td>39</td><td>male</td><td>[]</td><td>Software Engineer</td><td>Prague</td></tr><tr><td>200</td><td>976</td><td>309</td><td>15</td><td>57</td><td>94</td><td>18</td><td>female</td><td>['Gaming', 'Fitness', 'Writing']</td><td>Researcher</td><td>Barcelona</td></tr><tr><td>201</td><td>638</td><td>628</td><td>4</td><td>7</td><td>43</td><td>32</td><td>male</td><td>['Dancing', 'Technology', 'Sports']</td><td>Social Worker</td><td>Rome</td></tr><tr><td>202</td><td>648</td><td>249</td><td>10</td><td>12</td><td>65</td><td>26</td><td>female</td><td>['Nature', 'DIY', 'Technology']</td><td>Social Worker</td><td>Berlin</td></tr><tr><td>203</td><td>983</td><td>885</td><td>11</td><td>58</td><td>54</td><td>26</td><td>male</td><td>['Meditation']</td><td>Nurse</td><td>Prague</td></tr><tr><td>204</td><td>1372</td><td>429</td><td>17</td><td>262</td><td>602</td><td>41</td><td>female</td><td>['Dancing', 'Travel', 'Photography', 'Yoga']</td><td>Dancer</td><td>Berlin</td></tr><tr><td>205</td><td>600</td><td>206</td><td>12</td><td>19</td><td>18</td><td>38</td><td>male</td><td>['Music']</td><td>Researcher</td><td>Zurich</td></tr><tr><td>206</td><td>1217</td><td>1111</td><td>21</td><td>199</td><td>957</td><td>22</td><td>male</td><td>['Fashion', 'Photography', 'Health']</td><td>Chef</td><td>Copenhagen</td></tr><tr><td>207</td><td>2197</td><td>83</td><td>31</td><td>1016</td><td>168</td><td>35</td><td>female</td><td>['Travel', 'Gaming', 'DIY', 'Gardening', 'Fitness']</td><td>Yoga Instructor</td><td>Barcelona</td></tr><tr><td>208</td><td>89504</td><td>1651</td><td>960</td><td>63450226</td><td>121192261</td><td>27</td><td>female</td><td>['Fitness', 'Gardening', 'Writing']</td><td>Filmmaker</td><td>Prague</td></tr><tr><td>209</td><td>177</td><td>151</td><td>2</td><td>0</td><td>1</td><td>30</td><td>male</td><td>['Photography', 'Cooking', 'Travel', 'DIY']</td><td>Social Worker</td><td>Prague</td></tr><tr><td>210</td><td>1191</td><td>932</td><td>11</td><td>68</td><td>458</td><td>21</td><td>female</td><td>['Technology', 'Travel', 'Filmmaking', 'Yoga', 'Art']</td><td>Photographer</td><td>Rome</td></tr><tr><td>211</td><td>1839</td><td>155</td><td>16</td><td>165</td><td>662</td><td>37</td><td>female</td><td>['Yoga']</td><td>Nurse</td><td>Vienna</td></tr><tr><td>212</td><td>70235</td><td>1967</td><td>197</td><td>1852192</td><td>27536403</td><td>22</td><td>male</td><td>['Fashion']</td><td>Musician</td><td>Amsterdam</td></tr><tr><td>213</td><td>2828</td><td>613</td><td>32</td><td>840</td><td>674</td><td>20</td><td>female</td><td>['Filmmaking']</td><td>Dancer</td><td>Vienna</td></tr><tr><td>214</td><td>2415</td><td>1105</td><td>20</td><td>861</td><td>1007</td><td>42</td><td>male</td><td>['Fitness']</td><td>Social Worker</td><td>Prague</td></tr><tr><td>215</td><td>699</td><td>620</td><td>7</td><td>8</td><td>101</td><td>37</td><td>female</td><td>['Art', 'Gaming', 'Photography']</td><td>Researcher</td><td>Rome</td></tr><tr><td>216</td><td>2382</td><td>106</td><td>40</td><td>1032</td><td>3977</td><td>20</td><td>female</td><td>['Sports', 'Meditation']</td><td>Chef</td><td>Barcelona</td></tr><tr><td>217</td><td>2536</td><td>259</td><td>47</td><td>986</td><td>1209</td><td>24</td><td>male</td><td>['Technology', 'Writing']</td><td>Yoga Instructor</td><td>Prague</td></tr><tr><td>218</td><td>1145</td><td>1088</td><td>18</td><td>220</td><td>688</td><td>22</td><td>male</td><td>['Writing']</td><td>Teacher</td><td>Paris</td></tr><tr><td>219</td><td>2415</td><td>600</td><td>4</td><td>145</td><td>403</td><td>43</td><td>male</td><td>['Fitness', 'Fashion']</td><td>Graphic Designer</td><td>Prague</td></tr><tr><td>220</td><td>1117</td><td>639</td><td>13</td><td>102</td><td>335</td><td>18</td><td>male</td><td>['Technology', 'Art', 'Music', 'Reading', 'Gaming']</td><td>Social Worker</td><td>Paris</td></tr><tr><td>221</td><td>1956</td><td>700</td><td>9</td><td>73</td><td>441</td><td>28</td><td>female</td><td>['Fashion', 'Photography']</td><td>Marketing Specialist</td><td>Berlin</td></tr><tr><td>222</td><td>2334</td><td>1598</td><td>23</td><td>1143</td><td>2240</td><td>39</td><td>female</td><td>['Gardening']</td><td>Dancer</td><td>Copenhagen</td></tr><tr><td>223</td><td>14769</td><td>848</td><td>3</td><td>2130</td><td>15851</td><td>29</td><td>female</td><td>['Technology', 'Filmmaking']</td><td>Artist</td><td>Prague</td></tr><tr><td>224</td><td>1204</td><td>287</td><td>7</td><td>77</td><td>298</td><td>35</td><td>male</td><td>[]</td><td>Teacher</td><td>Berlin</td></tr><tr><td>225</td><td>45664</td><td>858</td><td>606</td><td>6135519</td><td>5780232</td><td>31</td><td>male</td><td>['Fitness', 'Yoga', 'Technology']</td><td>Musician</td><td>Zurich</td></tr><tr><td>226</td><td>1640</td><td>698</td><td>18</td><td>329</td><td>1075</td><td>29</td><td>female</td><td>['DIY', 'Nature', 'Travel']</td><td>Photographer</td><td>Paris</td></tr><tr><td>227</td><td>576</td><td>204</td><td>11</td><td>35</td><td>49</td><td>20</td><td>female</td><td>['Reading']</td><td>Fitness Trainer</td><td>Zurich</td></tr><tr><td>228</td><td>938</td><td>863</td><td>10</td><td>88</td><td>21</td><td>38</td><td>male</td><td>['Dancing', 'Travel', 'Meditation', 'Gardening']</td><td>Counselor</td><td>Paris</td></tr><tr><td>229</td><td>2895</td><td>1505</td><td>48</td><td>1407</td><td>7652</td><td>37</td><td>male</td><td>['Cooking', 'Writing', 'Dancing']</td><td>Architect</td><td>Berlin</td></tr><tr><td>230</td><td>901</td><td>807</td><td>18</td><td>34</td><td>8</td><td>27</td><td>male</td><td>['DIY', 'Music', 'Fashion', 'Health']</td><td>Yoga Instructor</td><td>Paris</td></tr><tr><td>231</td><td>2061</td><td>666</td><td>30</td><td>911</td><td>1397</td><td>36</td><td>male</td><td>['Fitness', 'Nature']</td><td>Dancer</td><td>Rome</td></tr><tr><td>232</td><td>44411</td><td>593</td><td>198</td><td>2002356</td><td>3824633</td><td>42</td><td>female</td><td>['Art', 'Writing', 'Travel', 'Photography']</td><td>Filmmaker</td><td>Zurich</td></tr><tr><td>233</td><td>1752</td><td>1570</td><td>3</td><td>58</td><td>43</td><td>43</td><td>male</td><td>['Fitness', 'Fashion', 'Photography', 'Technology', 'Travel']</td><td>Fitness Trainer</td><td>Berlin</td></tr><tr><td>234</td><td>2457</td><td>909</td><td>33</td><td>529</td><td>4596</td><td>30</td><td>male</td><td>['Travel', 'Fitness']</td><td>Photographer</td><td>Prague</td></tr><tr><td>235</td><td>2212</td><td>1252</td><td>25</td><td>1000</td><td>2621</td><td>24</td><td>male</td><td>['Health']</td><td>Researcher</td><td>Lisbon</td></tr><tr><td>236</td><td>360</td><td>236</td><td>4</td><td>2</td><td>2</td><td>41</td><td>female</td><td>['Meditation']</td><td>Nurse</td><td>Prague</td></tr><tr><td>237</td><td>1643</td><td>941</td><td>11</td><td>238</td><td>711</td><td>23</td><td>female</td><td>['Reading', 'Writing']</td><td>Teacher</td><td>Berlin</td></tr><tr><td>238</td><td>1775</td><td>1587</td><td>4</td><td>124</td><td>237</td><td>32</td><td>male</td><td>['Fashion', 'Nature']</td><td>Fitness Trainer</td><td>Paris</td></tr><tr><td>239</td><td>2333</td><td>1205</td><td>33</td><td>1415</td><td>1744</td><td>35</td><td>female</td><td>['Photography']</td><td>Marketing Specialist</td><td>Berlin</td></tr><tr><td>240</td><td>377</td><td>355</td><td>5</td><td>4</td><td>8</td><td>44</td><td>male</td><td>[]</td><td>Doctor</td><td>Berlin</td></tr><tr><td>241</td><td>1135</td><td>502</td><td>19</td><td>180</td><td>731</td><td>26</td><td>female</td><td>['Yoga', 'Dancing', 'Meditation', 'Photography']</td><td>Photographer</td><td>Zurich</td></tr><tr><td>242</td><td>1293</td><td>1041</td><td>23</td><td>345</td><td>107</td><td>26</td><td>male</td><td>['Nature']</td><td>Teacher</td><td>Vienna</td></tr><tr><td>243</td><td>71443</td><td>785</td><td>328</td><td>12857328</td><td>24362194</td><td>29</td><td>male</td><td>['Technology', 'Gardening', 'Meditation', 'Filmmaking', 'Yoga']</td><td>Filmmaker</td><td>Paris</td></tr><tr><td>244</td><td>1899</td><td>362</td><td>15</td><td>446</td><td>438</td><td>19</td><td>male</td><td>['Fashion']</td><td>Social Worker</td><td>Zurich</td></tr><tr><td>245</td><td>328</td><td>134</td><td>4</td><td>4</td><td>8</td><td>26</td><td>female</td><td>['Cooking']</td><td>Writer</td><td>Paris</td></tr><tr><td>246</td><td>2755</td><td>1075</td><td>7</td><td>516</td><td>1231</td><td>27</td><td>female</td><td>['DIY', 'Dancing', 'Cooking', 'Filmmaking', 'Fashion']</td><td>Marketing Specialist</td><td>Lisbon</td></tr><tr><td>247</td><td>19922</td><td>1688</td><td>158</td><td>459539</td><td>1919783</td><td>39</td><td>female</td><td>['Writing', 'Health', 'Yoga', 'DIY']</td><td>Artist</td><td>Zurich</td></tr><tr><td>248</td><td>2408</td><td>1178</td><td>7</td><td>248</td><td>551</td><td>19</td><td>male</td><td>['Writing', 'Fashion', 'Technology', 'Health']</td><td>Counselor</td><td>Prague</td></tr><tr><td>249</td><td>551</td><td>172</td><td>2</td><td>5</td><td>17</td><td>35</td><td>male</td><td>['Nature']</td><td>Architect</td><td>Berlin</td></tr></tbody></table></div>"
      ]
     },
     "metadata": {
      "application/vnd.databricks.v1+output": {
       "addedWidgets": {},
       "aggData": [],
       "aggError": "",
       "aggOverflow": false,
       "aggSchema": [],
       "aggSeriesLimitReached": false,
       "aggType": "",
       "arguments": {},
       "columnCustomDisplayInfos": {},
       "data": [
        [
         "0",
         "2035",
         "1972",
         "29",
         "195",
         "2836",
         "32",
         "male",
         "['Gaming']",
         "Software Engineer",
         "Vienna"
        ],
        [
         "1",
         "147",
         "105",
         "2",
         "0",
         "0",
         "33",
         "male",
         "['Music', 'Reading', 'Cooking', 'Meditation', 'Yoga']",
         "Architect",
         "Lisbon"
        ],
        [
         "2",
         "16321",
         "420",
         "161",
         "170948",
         "1315447",
         "32",
         "female",
         "['Dancing', 'Fashion', 'Gaming', 'Gardening']",
         "Musician",
         "Prague"
        ],
        [
         "3",
         "985",
         "461",
         "6",
         "16",
         "74",
         "42",
         "female",
         "[]",
         "Software Engineer",
         "Rome"
        ],
        [
         "4",
         "550",
         "80",
         "9",
         "20",
         "50",
         "40",
         "female",
         "[]",
         "Doctor",
         "Vienna"
        ],
        [
         "5",
         "93875",
         "1438",
         "1497",
         "91499840",
         "63713738",
         "35",
         "male",
         "['Gaming', 'Reading', 'Filmmaking', 'Sports', 'Dancing']",
         "Musician",
         "Copenhagen"
        ],
        [
         "6",
         "1789",
         "572",
         "28",
         "428",
         "834",
         "28",
         "male",
         "[]",
         "Doctor",
         "Rome"
        ],
        [
         "7",
         "367",
         "244",
         "3",
         "0",
         "0",
         "37",
         "female",
         "['Gaming', 'Music']",
         "Dancer",
         "Rome"
        ],
        [
         "8",
         "81945",
         "1355",
         "511",
         "34874601",
         "79178760",
         "45",
         "male",
         "['Photography', 'Reading', 'Travel']",
         "Artist",
         "Zurich"
        ],
        [
         "9",
         "673",
         "178",
         "2",
         "7",
         "23",
         "33",
         "female",
         "['DIY', 'Reading', 'Travel', 'Photography']",
         "Dancer",
         "Lisbon"
        ],
        [
         "10",
         "820",
         "350",
         "5",
         "30",
         "101",
         "40",
         "female",
         "['Dancing']",
         "Dancer",
         "Vienna"
        ],
        [
         "11",
         "40441",
         "1931",
         "314",
         "2225186",
         "3991000",
         "44",
         "female",
         "['Gardening', 'Gaming', 'Dancing', 'Reading']",
         "Artist",
         "Zurich"
        ],
        [
         "12",
         "393",
         "263",
         "3",
         "2",
         "9",
         "28",
         "male",
         "['Dancing', 'Fashion', 'Travel', 'Technology']",
         "Architect",
         "Barcelona"
        ],
        [
         "13",
         "465",
         "310",
         "3",
         "2",
         "2",
         "36",
         "male",
         "['Travel', 'DIY']",
         "Writer",
         "Zurich"
        ],
        [
         "14",
         "63162",
         "265",
         "1219",
         "19864070",
         "142323695",
         "45",
         "female",
         "['Music', 'Technology']",
         "Filmmaker",
         "Lisbon"
        ],
        [
         "15",
         "1096",
         "678",
         "18",
         "57",
         "383",
         "28",
         "male",
         "['Fashion', 'Nature']",
         "Researcher",
         "Vienna"
        ],
        [
         "16",
         "536",
         "387",
         "7",
         "13",
         "18",
         "21",
         "female",
         "['Nature']",
         "Graphic Designer",
         "Vienna"
        ],
        [
         "17",
         "297",
         "94",
         "2",
         "0",
         "0",
         "31",
         "male",
         "['Gardening', 'Filmmaking', 'Music', 'Reading', 'Travel']",
         "Dancer",
         "Barcelona"
        ],
        [
         "18",
         "1618",
         "292",
         "2",
         "23",
         "113",
         "34",
         "male",
         "['DIY', 'Dancing', 'Meditation', 'Travel']",
         "Yoga Instructor",
         "Berlin"
        ],
        [
         "19",
         "91621",
         "290",
         "237",
         "18290056",
         "57616900",
         "40",
         "female",
         "['Yoga']",
         "Musician",
         "Berlin"
        ],
        [
         "20",
         "1388",
         "113",
         "23",
         "89",
         "996",
         "25",
         "female",
         "[]",
         "Nurse",
         "Zurich"
        ],
        [
         "21",
         "188",
         "133",
         "3",
         "0",
         "1",
         "20",
         "female",
         "['Gaming', 'Travel', 'Nature']",
         "Graphic Designer",
         "Berlin"
        ],
        [
         "22",
         "2244",
         "1680",
         "37",
         "1529",
         "1554",
         "41",
         "female",
         "['Fashion', 'Yoga', 'Dancing']",
         "Researcher",
         "Vienna"
        ],
        [
         "23",
         "2239",
         "1623",
         "4",
         "146",
         "273",
         "32",
         "female",
         "['DIY']",
         "Fitness Trainer",
         "Rome"
        ],
        [
         "24",
         "448",
         "52",
         "2",
         "3",
         "7",
         "38",
         "male",
         "['Fashion', 'Writing', 'Gaming']",
         "Dancer",
         "Barcelona"
        ],
        [
         "25",
         "2189",
         "445",
         "42",
         "1062",
         "5088",
         "32",
         "male",
         "['Gaming', 'Meditation', 'Technology', 'Filmmaking', 'Fashion']",
         "Fitness Trainer",
         "Berlin"
        ],
        [
         "26",
         "1520",
         "1235",
         "10",
         "238",
         "692",
         "43",
         "female",
         "[]",
         "Teacher",
         "Lisbon"
        ],
        [
         "27",
         "96113",
         "1922",
         "1764",
         "147394160",
         "309179989",
         "40",
         "female",
         "['Art', 'Nature']",
         "Musician",
         "Amsterdam"
        ],
        [
         "28",
         "429",
         "118",
         "2",
         "1",
         "0",
         "42",
         "male",
         "['Music', 'Reading', 'Yoga']",
         "Marketing Specialist",
         "Copenhagen"
        ],
        [
         "29",
         "577",
         "303",
         "4",
         "11",
         "26",
         "31",
         "male",
         "['Nature', 'Meditation', 'DIY', 'Dancing']",
         "Counselor",
         "Barcelona"
        ],
        [
         "30",
         "1727",
         "341",
         "17",
         "384",
         "437",
         "27",
         "female",
         "['Meditation']",
         "Researcher",
         "Barcelona"
        ],
        [
         "31",
         "2556",
         "293",
         "42",
         "1233",
         "6780",
         "18",
         "male",
         "['Dancing', 'Writing', 'DIY', 'Fitness', 'Art']",
         "Writer",
         "Rome"
        ],
        [
         "32",
         "2371",
         "965",
         "3",
         "173",
         "35",
         "20",
         "male",
         "['DIY', 'Gaming', 'Art', 'Health', 'Writing']",
         "Architect",
         "Zurich"
        ],
        [
         "33",
         "1687",
         "328",
         "12",
         "53",
         "912",
         "34",
         "female",
         "['Yoga']",
         "Doctor",
         "Barcelona"
        ],
        [
         "34",
         "329",
         "234",
         "4",
         "1",
         "9",
         "44",
         "male",
         "['Dancing', 'Photography', 'Meditation']",
         "Counselor",
         "Berlin"
        ],
        [
         "35",
         "2199",
         "1732",
         "20",
         "315",
         "201",
         "38",
         "male",
         "[]",
         "Software Engineer",
         "Vienna"
        ],
        [
         "36",
         "1065",
         "359",
         "7",
         "65",
         "235",
         "28",
         "male",
         "['Filmmaking', 'Travel', 'Reading']",
         "Graphic Designer",
         "Prague"
        ],
        [
         "37",
         "2051",
         "1200",
         "15",
         "139",
         "1219",
         "31",
         "female",
         "['Yoga', 'Health']",
         "Nurse",
         "Paris"
        ],
        [
         "38",
         "93892",
         "1741",
         "896",
         "77047227",
         "192607826",
         "18",
         "female",
         "['Nature', 'Yoga', 'DIY']",
         "Artist",
         "Rome"
        ],
        [
         "39",
         "2715",
         "1694",
         "11",
         "218",
         "560",
         "37",
         "male",
         "['Health', 'Fashion']",
         "Marketing Specialist",
         "Copenhagen"
        ],
        [
         "40",
         "301",
         "260",
         "2",
         "0",
         "1",
         "23",
         "male",
         "['Writing', 'Cooking', 'Gardening']",
         "Photographer",
         "Paris"
        ],
        [
         "41",
         "636",
         "379",
         "8",
         "22",
         "32",
         "20",
         "male",
         "['Reading', 'Music', 'Cooking', 'Fashion']",
         "Chef",
         "Barcelona"
        ],
        [
         "42",
         "561",
         "496",
         "3",
         "2",
         "6",
         "43",
         "male",
         "['Health']",
         "Architect",
         "Amsterdam"
        ],
        [
         "43",
         "2213",
         "1598",
         "36",
         "1325",
         "1089",
         "19",
         "male",
         "['Dancing', 'Photography', 'Meditation', 'Filmmaking', 'Nature']",
         "Graphic Designer",
         "Amsterdam"
        ],
        [
         "44",
         "1970",
         "580",
         "18",
         "679",
         "1659",
         "31",
         "male",
         "['Cooking', 'Sports', 'Nature']",
         "Social Worker",
         "Copenhagen"
        ],
        [
         "45",
         "2726",
         "550",
         "1",
         "14",
         "221",
         "40",
         "female",
         "['Health']",
         "Photographer",
         "Berlin"
        ],
        [
         "46",
         "286",
         "144",
         "5",
         "2",
         "0",
         "38",
         "female",
         "['Nature']",
         "Teacher",
         "Vienna"
        ],
        [
         "47",
         "271",
         "175",
         "4",
         "0",
         "8",
         "24",
         "male",
         "['Cooking']",
         "Researcher",
         "Zurich"
        ],
        [
         "48",
         "688",
         "635",
         "2",
         "1",
         "7",
         "28",
         "female",
         "['Fashion', 'Writing']",
         "Graphic Designer",
         "Paris"
        ],
        [
         "49",
         "1639",
         "477",
         "16",
         "221",
         "959",
         "36",
         "male",
         "['DIY']",
         "Fitness Trainer",
         "Rome"
        ],
        [
         "50",
         "93025",
         "202",
         "1758",
         "133038075",
         "8692681",
         "18",
         "male",
         "['Reading', 'Music', 'Travel']",
         "Musician",
         "Paris"
        ],
        [
         "51",
         "531",
         "505",
         "5",
         "3",
         "28",
         "20",
         "male",
         "['Travel', 'Music']",
         "Researcher",
         "Berlin"
        ],
        [
         "52",
         "943",
         "476",
         "16",
         "19",
         "330",
         "22",
         "female",
         "['Technology', 'DIY', 'Dancing']",
         "Yoga Instructor",
         "Prague"
        ],
        [
         "53",
         "2763",
         "272",
         "49",
         "3865",
         "670",
         "38",
         "female",
         "['Nature', 'Gaming', 'Yoga', 'Travel']",
         "Dancer",
         "Berlin"
        ],
        [
         "54",
         "822",
         "127",
         "13",
         "35",
         "230",
         "24",
         "female",
         "['Travel']",
         "Fitness Trainer",
         "Vienna"
        ],
        [
         "55",
         "2375",
         "472",
         "6",
         "110",
         "1006",
         "40",
         "female",
         "['Health', 'Dancing', 'Gardening']",
         "Architect",
         "Copenhagen"
        ],
        [
         "56",
         "1546",
         "530",
         "28",
         "219",
         "1493",
         "35",
         "male",
         "['Health', 'Photography', 'Nature']",
         "Chef",
         "Zurich"
        ],
        [
         "57",
         "450",
         "186",
         "2",
         "1",
         "6",
         "38",
         "male",
         "['Yoga']",
         "Chef",
         "Barcelona"
        ],
        [
         "58",
         "2542",
         "137",
         "43",
         "2643",
         "6342",
         "30",
         "female",
         "[]",
         "Teacher",
         "Paris"
        ],
        [
         "59",
         "2617",
         "1587",
         "35",
         "888",
         "3119",
         "42",
         "female",
         "['Sports']",
         "Counselor",
         "Rome"
        ],
        [
         "60",
         "1687",
         "1468",
         "22",
         "184",
         "1857",
         "33",
         "female",
         "['Cooking', 'Gaming', 'Fashion', 'Technology', 'Nature']",
         "Dancer",
         "Prague"
        ],
        [
         "61",
         "2189",
         "1764",
         "32",
         "1147",
         "2562",
         "28",
         "male",
         "['DIY']",
         "Software Engineer",
         "Berlin"
        ],
        [
         "62",
         "959",
         "481",
         "16",
         "25",
         "346",
         "38",
         "male",
         "['Writing']",
         "Counselor",
         "Vienna"
        ],
        [
         "63",
         "908",
         "219",
         "17",
         "59",
         "356",
         "37",
         "male",
         "['Health', 'Photography']",
         "Writer",
         "Copenhagen"
        ],
        [
         "64",
         "2772",
         "1724",
         "21",
         "484",
         "3794",
         "42",
         "male",
         "['Cooking', 'Dancing', 'Technology']",
         "Fitness Trainer",
         "Vienna"
        ],
        [
         "65",
         "1887",
         "459",
         "18",
         "179",
         "1987",
         "45",
         "female",
         "['Fitness']",
         "Architect",
         "Vienna"
        ],
        [
         "66",
         "2143",
         "946",
         "12",
         "170",
         "681",
         "37",
         "male",
         "[]",
         "Teacher",
         "Prague"
        ],
        [
         "67",
         "2781",
         "1955",
         "53",
         "804",
         "2781",
         "30",
         "male",
         "['Fitness']",
         "Counselor",
         "Rome"
        ],
        [
         "68",
         "1533",
         "259",
         "14",
         "67",
         "1008",
         "41",
         "male",
         "['Sports', 'Gardening', 'Reading', 'Dancing']",
         "Counselor",
         "Rome"
        ],
        [
         "69",
         "243",
         "105",
         "3",
         "0",
         "1",
         "40",
         "female",
         "[]",
         "Doctor",
         "Copenhagen"
        ],
        [
         "70",
         "43637",
         "698",
         "379",
         "1314952",
         "14595568",
         "19",
         "female",
         "['Photography', 'Gardening']",
         "Artist",
         "Rome"
        ],
        [
         "71",
         "1131",
         "681",
         "16",
         "49",
         "251",
         "33",
         "male",
         "['Reading', 'Gardening', 'Photography', 'Sports']",
         "Dancer",
         "Vienna"
        ],
        [
         "72",
         "2514",
         "1535",
         "3",
         "82",
         "34",
         "43",
         "male",
         "['Yoga', 'Sports']",
         "Chef",
         "Vienna"
        ],
        [
         "73",
         "759",
         "746",
         "15",
         "31",
         "152",
         "43",
         "female",
         "['Dancing', 'Art', 'Travel', 'Health', 'Sports']",
         "Counselor",
         "Prague"
        ],
        [
         "74",
         "543",
         "76",
         "7",
         "9",
         "55",
         "20",
         "male",
         "['Cooking']",
         "Social Worker",
         "Copenhagen"
        ],
        [
         "75",
         "2694",
         "809",
         "47",
         "2113",
         "5601",
         "44",
         "female",
         "[]",
         "Teacher",
         "Paris"
        ],
        [
         "76",
         "1932",
         "1844",
         "16",
         "246",
         "729",
         "42",
         "female",
         "['Sports']",
         "Dancer",
         "Prague"
        ],
        [
         "77",
         "2123",
         "473",
         "36",
         "549",
         "1120",
         "25",
         "female",
         "[]",
         "Software Engineer",
         "Zurich"
        ],
        [
         "78",
         "420",
         "228",
         "3",
         "2",
         "0",
         "18",
         "female",
         "['Gaming']",
         "Social Worker",
         "Zurich"
        ],
        [
         "79",
         "2911",
         "436",
         "1",
         "56",
         "73",
         "44",
         "female",
         "['Dancing']",
         "Fitness Trainer",
         "Zurich"
        ],
        [
         "80",
         "10378",
         "1825",
         "96",
         "26608",
         "200425",
         "42",
         "male",
         "['Meditation']",
         "Filmmaker",
         "Zurich"
        ],
        [
         "81",
         "2961",
         "1624",
         "57",
         "1272",
         "2233",
         "33",
         "female",
         "['Filmmaking', 'Yoga']",
         "Yoga Instructor",
         "Berlin"
        ],
        [
         "82",
         "1593",
         "427",
         "22",
         "208",
         "1106",
         "42",
         "male",
         "['Health', 'Sports', 'Cooking', 'Dancing', 'Yoga']",
         "Marketing Specialist",
         "Lisbon"
        ],
        [
         "83",
         "2592",
         "822",
         "11",
         "123",
         "2042",
         "41",
         "male",
         "['Nature', 'Gaming', 'Reading', 'DIY', 'Fashion']",
         "Researcher",
         "Lisbon"
        ],
        [
         "84",
         "39411",
         "1745",
         "500",
         "3298628",
         "19464926",
         "37",
         "male",
         "['Nature', 'Writing', 'DIY', 'Technology', 'Art']",
         "Artist",
         "Paris"
        ],
        [
         "85",
         "385",
         "250",
         "4",
         "4",
         "1",
         "24",
         "male",
         "[]",
         "Doctor",
         "Zurich"
        ],
        [
         "86",
         "58146",
         "1747",
         "10",
         "295523",
         "801987",
         "29",
         "male",
         "['Writing', 'Reading', 'Gardening']",
         "Filmmaker",
         "Amsterdam"
        ],
        [
         "87",
         "225",
         "166",
         "1",
         "0",
         "1",
         "37",
         "female",
         "[]",
         "Doctor",
         "Paris"
        ],
        [
         "88",
         "29285",
         "1227",
         "331",
         "2657915",
         "2304998",
         "34",
         "male",
         "['Art', 'Filmmaking', 'Reading', 'Travel']",
         "Musician",
         "Amsterdam"
        ],
        [
         "89",
         "1486",
         "1339",
         "2",
         "30",
         "10",
         "31",
         "female",
         "['Art', 'Yoga', 'Cooking', 'DIY', 'Filmmaking']",
         "Yoga Instructor",
         "Paris"
        ],
        [
         "90",
         "118",
         "58",
         "1",
         "0",
         "0",
         "31",
         "female",
         "['Gardening', 'Nature']",
         "Architect",
         "Vienna"
        ],
        [
         "91",
         "246",
         "242",
         "4",
         "1",
         "5",
         "30",
         "female",
         "[]",
         "Doctor",
         "Rome"
        ],
        [
         "92",
         "1970",
         "1129",
         "23",
         "410",
         "749",
         "19",
         "female",
         "['Yoga']",
         "Doctor",
         "Copenhagen"
        ],
        [
         "93",
         "1178",
         "244",
         "15",
         "90",
         "175",
         "41",
         "female",
         "['Cooking', 'Technology', 'Gardening', 'Meditation', 'Nature']",
         "Social Worker",
         "Paris"
        ],
        [
         "94",
         "1262",
         "1223",
         "17",
         "121",
         "606",
         "45",
         "female",
         "['Gardening', 'Fashion', 'DIY', 'Writing', 'Nature']",
         "Dancer",
         "Amsterdam"
        ],
        [
         "95",
         "1432",
         "869",
         "6",
         "35",
         "268",
         "24",
         "male",
         "['Music', 'Travel', 'Technology', 'Health']",
         "Dancer",
         "Rome"
        ],
        [
         "96",
         "1964",
         "544",
         "37",
         "1235",
         "2394",
         "32",
         "male",
         "['Travel']",
         "Marketing Specialist",
         "Vienna"
        ],
        [
         "97",
         "49294",
         "99",
         "724",
         "13234826",
         "27855087",
         "20",
         "female",
         "['Gardening', 'Art', 'Sports', 'Music', 'Photography']",
         "Filmmaker",
         "Rome"
        ],
        [
         "98",
         "1759",
         "1406",
         "27",
         "124",
         "107",
         "40",
         "female",
         "['Fashion', 'Dancing', 'Technology', 'Sports', 'DIY']",
         "Fitness Trainer",
         "Zurich"
        ],
        [
         "99",
         "1743",
         "93",
         "33",
         "953",
         "2066",
         "26",
         "male",
         "['Writing']",
         "Fitness Trainer",
         "Copenhagen"
        ],
        [
         "100",
         "2603",
         "1177",
         "27",
         "1520",
         "3288",
         "32",
         "male",
         "['Dancing', 'Reading', 'Meditation', 'Travel', 'Cooking']",
         "Marketing Specialist",
         "Copenhagen"
        ],
        [
         "101",
         "2128",
         "1907",
         "39",
         "1484",
         "714",
         "43",
         "male",
         "[]",
         "Teacher",
         "Prague"
        ],
        [
         "102",
         "1851",
         "952",
         "2",
         "41",
         "210",
         "18",
         "male",
         "['Filmmaking', 'Fashion', 'Dancing', 'Reading', 'Fitness']",
         "Photographer",
         "Copenhagen"
        ],
        [
         "103",
         "2026",
         "1192",
         "10",
         "92",
         "1007",
         "37",
         "female",
         "[]",
         "Software Engineer",
         "Lisbon"
        ],
        [
         "104",
         "2532",
         "540",
         "40",
         "1725",
         "4015",
         "32",
         "male",
         "['Meditation']",
         "Nurse",
         "Prague"
        ],
        [
         "105",
         "972",
         "227",
         "14",
         "76",
         "226",
         "36",
         "female",
         "['Technology', 'Gardening']",
         "Researcher",
         "Barcelona"
        ],
        [
         "106",
         "387",
         "147",
         "2",
         "1",
         "5",
         "45",
         "female",
         "['Photography']",
         "Counselor",
         "Paris"
        ],
        [
         "107",
         "709",
         "385",
         "5",
         "25",
         "55",
         "38",
         "male",
         "['Dancing']",
         "Chef",
         "Vienna"
        ],
        [
         "108",
         "2642",
         "60",
         "37",
         "2184",
         "7284",
         "19",
         "male",
         "['Music', 'Filmmaking', 'Fashion']",
         "Photographer",
         "Amsterdam"
        ],
        [
         "109",
         "2762",
         "649",
         "52",
         "3384",
         "7789",
         "24",
         "female",
         "[]",
         "Teacher",
         "Amsterdam"
        ],
        [
         "110",
         "802",
         "150",
         "10",
         "13",
         "125",
         "29",
         "female",
         "['Filmmaking', 'Dancing']",
         "Dancer",
         "Paris"
        ],
        [
         "111",
         "1617",
         "699",
         "28",
         "692",
         "178",
         "24",
         "male",
         "['Writing', 'Sports', 'Health']",
         "Photographer",
         "Zurich"
        ],
        [
         "112",
         "1733",
         "1409",
         "3",
         "89",
         "268",
         "31",
         "female",
         "['Technology', 'Filmmaking', 'Gaming', 'Health']",
         "Graphic Designer",
         "Rome"
        ],
        [
         "113",
         "106",
         "73",
         "2",
         "0",
         "0",
         "39",
         "male",
         "[]",
         "Doctor",
         "Paris"
        ],
        [
         "114",
         "2391",
         "1078",
         "7",
         "293",
         "590",
         "40",
         "female",
         "[]",
         "Software Engineer",
         "Prague"
        ],
        [
         "115",
         "482",
         "163",
         "6",
         "2",
         "41",
         "28",
         "female",
         "['Meditation', 'Writing', 'Nature']",
         "Writer",
         "Rome"
        ],
        [
         "116",
         "1298",
         "697",
         "17",
         "281",
         "781",
         "22",
         "female",
         "[]",
         "Teacher",
         "Paris"
        ],
        [
         "117",
         "2657",
         "1595",
         "47",
         "773",
         "3646",
         "22",
         "male",
         "['Gardening', 'Travel', 'Gaming']",
         "Marketing Specialist",
         "Copenhagen"
        ],
        [
         "118",
         "2290",
         "877",
         "10",
         "229",
         "177",
         "18",
         "female",
         "['Sports']",
         "Yoga Instructor",
         "Lisbon"
        ],
        [
         "119",
         "48254",
         "1936",
         "961",
         "9222711",
         "67905239",
         "41",
         "female",
         "['Nature', 'Writing', 'Dancing', 'Reading']",
         "Artist",
         "Copenhagen"
        ],
        [
         "120",
         "35376",
         "1786",
         "698",
         "3331777",
         "15924511",
         "24",
         "female",
         "['Technology', 'Health']",
         "Musician",
         "Lisbon"
        ],
        [
         "121",
         "2883",
         "427",
         "48",
         "1530",
         "10580",
         "40",
         "male",
         "['Meditation', 'Cooking', 'Reading', 'Travel', 'Writing']",
         "Yoga Instructor",
         "Prague"
        ],
        [
         "122",
         "337",
         "226",
         "2",
         "1",
         "5",
         "34",
         "male",
         "['Photography', 'Technology']",
         "Marketing Specialist",
         "Prague"
        ],
        [
         "123",
         "1969",
         "1713",
         "29",
         "1090",
         "3038",
         "22",
         "male",
         "['Reading']",
         "Chef",
         "Amsterdam"
        ],
        [
         "124",
         "2671",
         "949",
         "24",
         "553",
         "493",
         "23",
         "male",
         "[]",
         "Doctor",
         "Amsterdam"
        ],
        [
         "125",
         "467",
         "420",
         "8",
         "2",
         "24",
         "29",
         "female",
         "['Cooking', 'Sports', 'Fitness', 'Nature', 'Meditation']",
         "Social Worker",
         "Berlin"
        ],
        [
         "126",
         "749",
         "497",
         "5",
         "23",
         "64",
         "36",
         "male",
         "['Photography', 'Sports', 'Cooking']",
         "Researcher",
         "Copenhagen"
        ],
        [
         "127",
         "2203",
         "806",
         "9",
         "412",
         "538",
         "30",
         "female",
         "['Reading', 'Dancing', 'Health', 'Gaming', 'Meditation']",
         "Chef",
         "Amsterdam"
        ],
        [
         "128",
         "112",
         "110",
         "1",
         "0",
         "0",
         "32",
         "male",
         "['Music', 'Photography', 'Fashion', 'Gaming', 'DIY']",
         "Dancer",
         "Amsterdam"
        ],
        [
         "129",
         "30985",
         "1332",
         "339",
         "1488922",
         "1484470",
         "23",
         "male",
         "['Sports', 'Photography', 'Fashion']",
         "Artist",
         "Prague"
        ],
        [
         "130",
         "1108",
         "118",
         "21",
         "137",
         "513",
         "29",
         "female",
         "['Photography']",
         "Dancer",
         "Paris"
        ],
        [
         "131",
         "354",
         "51",
         "4",
         "2",
         "9",
         "29",
         "female",
         "['Fashion', 'Gaming', 'Health', 'Dancing', 'Writing']",
         "Marketing Specialist",
         "Copenhagen"
        ],
        [
         "132",
         "158",
         "110",
         "3",
         "0",
         "0",
         "22",
         "male",
         "[]",
         "Nurse",
         "Berlin"
        ],
        [
         "133",
         "2899",
         "1520",
         "54",
         "3053",
         "3485",
         "39",
         "male",
         "['Music', 'DIY', 'Sports']",
         "Graphic Designer",
         "Prague"
        ],
        [
         "134",
         "961",
         "933",
         "4",
         "35",
         "83",
         "26",
         "female",
         "['Fitness', 'Reading', 'DIY', 'Art', 'Yoga']",
         "Social Worker",
         "Amsterdam"
        ],
        [
         "135",
         "236",
         "144",
         "3",
         "0",
         "3",
         "21",
         "male",
         "['Gardening', 'Fashion', 'Art']",
         "Writer",
         "Zurich"
        ],
        [
         "136",
         "2489",
         "1680",
         "8",
         "331",
         "607",
         "24",
         "female",
         "['Photography']",
         "Writer",
         "Amsterdam"
        ],
        [
         "137",
         "165",
         "103",
         "2",
         "0",
         "0",
         "34",
         "male",
         "[]",
         "Teacher",
         "Berlin"
        ],
        [
         "138",
         "827",
         "77",
         "2",
         "4",
         "22",
         "20",
         "female",
         "['Reading', 'Sports', 'Photography', 'Art']",
         "Dancer",
         "Zurich"
        ],
        [
         "139",
         "1238",
         "730",
         "11",
         "172",
         "475",
         "21",
         "female",
         "[]",
         "Nurse",
         "Copenhagen"
        ],
        [
         "140",
         "2955",
         "105",
         "26",
         "638",
         "5409",
         "29",
         "female",
         "['Reading']",
         "Teacher",
         "Vienna"
        ],
        [
         "141",
         "1171",
         "252",
         "9",
         "106",
         "263",
         "28",
         "female",
         "['Travel', 'Reading', 'Technology']",
         "Yoga Instructor",
         "Zurich"
        ],
        [
         "142",
         "1916",
         "1179",
         "1",
         "12",
         "93",
         "36",
         "male",
         "['Reading', 'Gaming', 'Fashion']",
         "Graphic Designer",
         "Prague"
        ],
        [
         "143",
         "557",
         "398",
         "1",
         "0",
         "4",
         "31",
         "female",
         "['Health']",
         "Marketing Specialist",
         "Paris"
        ],
        [
         "144",
         "82267",
         "1329",
         "907",
         "34561601",
         "89320564",
         "28",
         "female",
         "['Photography', 'Art', 'Cooking']",
         "Artist",
         "Rome"
        ],
        [
         "145",
         "2203",
         "1181",
         "40",
         "1756",
         "3171",
         "35",
         "female",
         "['Gardening']",
         "Writer",
         "Zurich"
        ],
        [
         "146",
         "2521",
         "409",
         "34",
         "309",
         "3048",
         "37",
         "male",
         "['Yoga', 'Health']",
         "Doctor",
         "Barcelona"
        ],
        [
         "147",
         "73259",
         "1031",
         "1019",
         "54021927",
         "91221965",
         "44",
         "male",
         "['Photography', 'Cooking', 'Dancing', 'DIY', 'Gaming']",
         "Musician",
         "Berlin"
        ],
        [
         "148",
         "237",
         "203",
         "1",
         "0",
         "0",
         "28",
         "male",
         "['Nature']",
         "Chef",
         "Zurich"
        ],
        [
         "149",
         "717",
         "419",
         "14",
         "66",
         "73",
         "19",
         "female",
         "[]",
         "Teacher",
         "Amsterdam"
        ],
        [
         "150",
         "74263",
         "1652",
         "457",
         "15835565",
         "59215827",
         "20",
         "male",
         "['Health', 'Reading', 'Yoga']",
         "Filmmaker",
         "Berlin"
        ],
        [
         "151",
         "2643",
         "686",
         "38",
         "2093",
         "2334",
         "27",
         "female",
         "['Dancing', 'Travel', 'Health', 'Technology', 'DIY']",
         "Social Worker",
         "Amsterdam"
        ],
        [
         "152",
         "2145",
         "1398",
         "39",
         "1153",
         "1276",
         "24",
         "female",
         "[]",
         "Software Engineer",
         "Rome"
        ],
        [
         "153",
         "903",
         "489",
         "4",
         "26",
         "13",
         "18",
         "male",
         "['Health', 'Meditation']",
         "Nurse",
         "Paris"
        ],
        [
         "154",
         "405",
         "113",
         "6",
         "3",
         "2",
         "27",
         "female",
         "['Meditation']",
         "Doctor",
         "Amsterdam"
        ],
        [
         "155",
         "2219",
         "811",
         "18",
         "628",
         "1843",
         "30",
         "male",
         "['Yoga', 'Health']",
         "Doctor",
         "Copenhagen"
        ],
        [
         "156",
         "88397",
         "486",
         "1150",
         "79707341",
         "169193593",
         "34",
         "male",
         "['Gardening', 'Yoga', 'Writing']",
         "Artist",
         "Copenhagen"
        ],
        [
         "157",
         "63844",
         "515",
         "742",
         "18395615",
         "27625032",
         "25",
         "female",
         "['Technology', 'Gaming', 'DIY', 'Meditation']",
         "Filmmaker",
         "Berlin"
        ],
        [
         "158",
         "1501",
         "130",
         "16",
         "160",
         "113",
         "21",
         "male",
         "['Writing', 'DIY', 'Art', 'Sports', 'Nature']",
         "Architect",
         "Prague"
        ],
        [
         "159",
         "1107",
         "751",
         "22",
         "157",
         "827",
         "28",
         "male",
         "['Nature', 'Dancing', 'Photography', 'Music']",
         "Researcher",
         "Rome"
        ],
        [
         "160",
         "1496",
         "343",
         "9",
         "142",
         "87",
         "36",
         "female",
         "[]",
         "Software Engineer",
         "Paris"
        ],
        [
         "161",
         "1224",
         "118",
         "6",
         "24",
         "33",
         "35",
         "female",
         "['Dancing']",
         "Architect",
         "Zurich"
        ],
        [
         "162",
         "2256",
         "1561",
         "18",
         "446",
         "2776",
         "27",
         "female",
         "['Gaming', 'Health', 'Reading', 'Yoga']",
         "Marketing Specialist",
         "Rome"
        ],
        [
         "163",
         "94526",
         "673",
         "1082",
         "73134684",
         "252795433",
         "44",
         "male",
         "['Sports']",
         "Artist",
         "Barcelona"
        ],
        [
         "164",
         "1334",
         "1087",
         "18",
         "78",
         "769",
         "44",
         "female",
         "['Yoga', 'Travel', 'Writing', 'Gardening']",
         "Writer",
         "Amsterdam"
        ],
        [
         "165",
         "2973",
         "1437",
         "39",
         "696",
         "8937",
         "38",
         "female",
         "['Sports', 'Photography']",
         "Fitness Trainer",
         "Rome"
        ],
        [
         "166",
         "649",
         "307",
         "3",
         "6",
         "4",
         "20",
         "male",
         "['Travel']",
         "Yoga Instructor",
         "Amsterdam"
        ],
        [
         "167",
         "669",
         "323",
         "7",
         "23",
         "33",
         "34",
         "female",
         "['Travel', 'Nature']",
         "Graphic Designer",
         "Berlin"
        ],
        [
         "168",
         "793",
         "322",
         "9",
         "48",
         "105",
         "38",
         "male",
         "['Reading', 'Meditation']",
         "Marketing Specialist",
         "Barcelona"
        ],
        [
         "169",
         "41181",
         "1313",
         "812",
         "2794925",
         "31627776",
         "40",
         "female",
         "['Photography', 'Writing', 'Health', 'Sports', 'Yoga']",
         "Filmmaker",
         "Vienna"
        ],
        [
         "170",
         "1361",
         "127",
         "11",
         "40",
         "622",
         "30",
         "female",
         "[]",
         "Nurse",
         "Berlin"
        ],
        [
         "171",
         "57807",
         "1830",
         "915",
         "20363865",
         "14251610",
         "43",
         "male",
         "['Reading', 'Cooking', 'Travel']",
         "Artist",
         "Copenhagen"
        ],
        [
         "172",
         "515",
         "269",
         "10",
         "8",
         "31",
         "43",
         "male",
         "['Nature']",
         "Teacher",
         "Prague"
        ],
        [
         "173",
         "1684",
         "1466",
         "30",
         "238",
         "228",
         "31",
         "male",
         "[]",
         "Software Engineer",
         "Rome"
        ],
        [
         "174",
         "2234",
         "291",
         "24",
         "838",
         "557",
         "38",
         "female",
         "['Reading']",
         "Photographer",
         "Zurich"
        ],
        [
         "175",
         "960",
         "488",
         "8",
         "47",
         "119",
         "27",
         "female",
         "['Dancing', 'Cooking', 'Writing']",
         "Yoga Instructor",
         "Copenhagen"
        ],
        [
         "176",
         "902",
         "577",
         "7",
         "8",
         "74",
         "33",
         "male",
         "['Art']",
         "Social Worker",
         "Lisbon"
        ],
        [
         "177",
         "416",
         "58",
         "8",
         "13",
         "42",
         "29",
         "female",
         "['Travel', 'Nature', 'DIY']",
         "Dancer",
         "Prague"
        ],
        [
         "178",
         "293",
         "101",
         "4",
         "2",
         "2",
         "18",
         "female",
         "['Writing', 'Sports', 'Fashion', 'Gaming', 'Meditation']",
         "Chef",
         "Zurich"
        ],
        [
         "179",
         "1892",
         "972",
         "12",
         "73",
         "1178",
         "19",
         "female",
         "['Meditation', 'Fashion']",
         "Counselor",
         "Prague"
        ],
        [
         "180",
         "96463",
         "1368",
         "1842",
         "23133013",
         "423159670",
         "25",
         "female",
         "['Technology', 'Travel', 'Filmmaking', 'Reading']",
         "Filmmaker",
         "Zurich"
        ],
        [
         "181",
         "613",
         "85",
         "6",
         "21",
         "46",
         "39",
         "male",
         "['Fashion', 'Cooking', 'Health']",
         "Architect",
         "Rome"
        ],
        [
         "182",
         "2369",
         "1414",
         "32",
         "359",
         "2792",
         "42",
         "female",
         "['Nature']",
         "Marketing Specialist",
         "Rome"
        ],
        [
         "183",
         "144",
         "140",
         "2",
         "0",
         "1",
         "23",
         "male",
         "['Gaming', 'Sports']",
         "Architect",
         "Vienna"
        ],
        [
         "184",
         "83846",
         "1329",
         "742",
         "36834305",
         "117667041",
         "37",
         "male",
         "['Gaming', 'Health', 'Writing', 'Yoga']",
         "Filmmaker",
         "Paris"
        ],
        [
         "185",
         "117",
         "79",
         "2",
         "0",
         "0",
         "38",
         "male",
         "['Travel', 'Cooking', 'Art', 'Writing']",
         "Counselor",
         "Paris"
        ],
        [
         "186",
         "967",
         "932",
         "1",
         "4",
         "6",
         "42",
         "male",
         "['Gaming', 'Dancing', 'Technology']",
         "Dancer",
         "Barcelona"
        ],
        [
         "187",
         "1679",
         "543",
         "25",
         "244",
         "1221",
         "21",
         "male",
         "['DIY', 'Filmmaking', 'Yoga', 'Writing', 'Sports']",
         "Fitness Trainer",
         "Rome"
        ],
        [
         "188",
         "279",
         "69",
         "5",
         "3",
         "2",
         "31",
         "female",
         "['Technology', 'Gardening', 'Yoga', 'Filmmaking']",
         "Social Worker",
         "Prague"
        ],
        [
         "189",
         "44844",
         "673",
         "38",
         "310918",
         "224655",
         "35",
         "male",
         "['DIY', 'Music']",
         "Artist",
         "Barcelona"
        ],
        [
         "190",
         "2714",
         "180",
         "39",
         "2048",
         "7700",
         "32",
         "female",
         "['Yoga', 'Health', 'Reading', 'Nature', 'Meditation']",
         "Writer",
         "Amsterdam"
        ],
        [
         "191",
         "2635",
         "287",
         "50",
         "1004",
         "6477",
         "32",
         "male",
         "['DIY', 'Nature']",
         "Marketing Specialist",
         "Lisbon"
        ],
        [
         "192",
         "1600",
         "591",
         "30",
         "787",
         "242",
         "37",
         "male",
         "['DIY', 'Music']",
         "Photographer",
         "Lisbon"
        ],
        [
         "193",
         "90555",
         "1477",
         "383",
         "16908184",
         "48533288",
         "43",
         "male",
         "['Photography', 'Art', 'Meditation', 'Travel']",
         "Artist",
         "Berlin"
        ],
        [
         "194",
         "1667",
         "1443",
         "6",
         "139",
         "207",
         "25",
         "male",
         "['Travel', 'Cooking', 'DIY', 'Technology']",
         "Fitness Trainer",
         "Zurich"
        ],
        [
         "195",
         "47918",
         "1367",
         "785",
         "2414697",
         "16628802",
         "22",
         "male",
         "['Photography', 'Reading', 'Cooking', 'Art', 'Gardening']",
         "Musician",
         "Zurich"
        ],
        [
         "196",
         "538",
         "498",
         "7",
         "4",
         "9",
         "22",
         "male",
         "['Writing', 'Gardening', 'Technology']",
         "Architect",
         "Rome"
        ],
        [
         "197",
         "83122",
         "1921",
         "531",
         "25514688",
         "95699749",
         "27",
         "female",
         "['Music', 'Travel']",
         "Musician",
         "Copenhagen"
        ],
        [
         "198",
         "1314",
         "912",
         "8",
         "58",
         "332",
         "20",
         "female",
         "['Nature', 'Gardening', 'Photography', 'Technology']",
         "Yoga Instructor",
         "Rome"
        ],
        [
         "199",
         "2881",
         "617",
         "5",
         "171",
         "1139",
         "39",
         "male",
         "[]",
         "Software Engineer",
         "Prague"
        ],
        [
         "200",
         "976",
         "309",
         "15",
         "57",
         "94",
         "18",
         "female",
         "['Gaming', 'Fitness', 'Writing']",
         "Researcher",
         "Barcelona"
        ],
        [
         "201",
         "638",
         "628",
         "4",
         "7",
         "43",
         "32",
         "male",
         "['Dancing', 'Technology', 'Sports']",
         "Social Worker",
         "Rome"
        ],
        [
         "202",
         "648",
         "249",
         "10",
         "12",
         "65",
         "26",
         "female",
         "['Nature', 'DIY', 'Technology']",
         "Social Worker",
         "Berlin"
        ],
        [
         "203",
         "983",
         "885",
         "11",
         "58",
         "54",
         "26",
         "male",
         "['Meditation']",
         "Nurse",
         "Prague"
        ],
        [
         "204",
         "1372",
         "429",
         "17",
         "262",
         "602",
         "41",
         "female",
         "['Dancing', 'Travel', 'Photography', 'Yoga']",
         "Dancer",
         "Berlin"
        ],
        [
         "205",
         "600",
         "206",
         "12",
         "19",
         "18",
         "38",
         "male",
         "['Music']",
         "Researcher",
         "Zurich"
        ],
        [
         "206",
         "1217",
         "1111",
         "21",
         "199",
         "957",
         "22",
         "male",
         "['Fashion', 'Photography', 'Health']",
         "Chef",
         "Copenhagen"
        ],
        [
         "207",
         "2197",
         "83",
         "31",
         "1016",
         "168",
         "35",
         "female",
         "['Travel', 'Gaming', 'DIY', 'Gardening', 'Fitness']",
         "Yoga Instructor",
         "Barcelona"
        ],
        [
         "208",
         "89504",
         "1651",
         "960",
         "63450226",
         "121192261",
         "27",
         "female",
         "['Fitness', 'Gardening', 'Writing']",
         "Filmmaker",
         "Prague"
        ],
        [
         "209",
         "177",
         "151",
         "2",
         "0",
         "1",
         "30",
         "male",
         "['Photography', 'Cooking', 'Travel', 'DIY']",
         "Social Worker",
         "Prague"
        ],
        [
         "210",
         "1191",
         "932",
         "11",
         "68",
         "458",
         "21",
         "female",
         "['Technology', 'Travel', 'Filmmaking', 'Yoga', 'Art']",
         "Photographer",
         "Rome"
        ],
        [
         "211",
         "1839",
         "155",
         "16",
         "165",
         "662",
         "37",
         "female",
         "['Yoga']",
         "Nurse",
         "Vienna"
        ],
        [
         "212",
         "70235",
         "1967",
         "197",
         "1852192",
         "27536403",
         "22",
         "male",
         "['Fashion']",
         "Musician",
         "Amsterdam"
        ],
        [
         "213",
         "2828",
         "613",
         "32",
         "840",
         "674",
         "20",
         "female",
         "['Filmmaking']",
         "Dancer",
         "Vienna"
        ],
        [
         "214",
         "2415",
         "1105",
         "20",
         "861",
         "1007",
         "42",
         "male",
         "['Fitness']",
         "Social Worker",
         "Prague"
        ],
        [
         "215",
         "699",
         "620",
         "7",
         "8",
         "101",
         "37",
         "female",
         "['Art', 'Gaming', 'Photography']",
         "Researcher",
         "Rome"
        ],
        [
         "216",
         "2382",
         "106",
         "40",
         "1032",
         "3977",
         "20",
         "female",
         "['Sports', 'Meditation']",
         "Chef",
         "Barcelona"
        ],
        [
         "217",
         "2536",
         "259",
         "47",
         "986",
         "1209",
         "24",
         "male",
         "['Technology', 'Writing']",
         "Yoga Instructor",
         "Prague"
        ],
        [
         "218",
         "1145",
         "1088",
         "18",
         "220",
         "688",
         "22",
         "male",
         "['Writing']",
         "Teacher",
         "Paris"
        ],
        [
         "219",
         "2415",
         "600",
         "4",
         "145",
         "403",
         "43",
         "male",
         "['Fitness', 'Fashion']",
         "Graphic Designer",
         "Prague"
        ],
        [
         "220",
         "1117",
         "639",
         "13",
         "102",
         "335",
         "18",
         "male",
         "['Technology', 'Art', 'Music', 'Reading', 'Gaming']",
         "Social Worker",
         "Paris"
        ],
        [
         "221",
         "1956",
         "700",
         "9",
         "73",
         "441",
         "28",
         "female",
         "['Fashion', 'Photography']",
         "Marketing Specialist",
         "Berlin"
        ],
        [
         "222",
         "2334",
         "1598",
         "23",
         "1143",
         "2240",
         "39",
         "female",
         "['Gardening']",
         "Dancer",
         "Copenhagen"
        ],
        [
         "223",
         "14769",
         "848",
         "3",
         "2130",
         "15851",
         "29",
         "female",
         "['Technology', 'Filmmaking']",
         "Artist",
         "Prague"
        ],
        [
         "224",
         "1204",
         "287",
         "7",
         "77",
         "298",
         "35",
         "male",
         "[]",
         "Teacher",
         "Berlin"
        ],
        [
         "225",
         "45664",
         "858",
         "606",
         "6135519",
         "5780232",
         "31",
         "male",
         "['Fitness', 'Yoga', 'Technology']",
         "Musician",
         "Zurich"
        ],
        [
         "226",
         "1640",
         "698",
         "18",
         "329",
         "1075",
         "29",
         "female",
         "['DIY', 'Nature', 'Travel']",
         "Photographer",
         "Paris"
        ],
        [
         "227",
         "576",
         "204",
         "11",
         "35",
         "49",
         "20",
         "female",
         "['Reading']",
         "Fitness Trainer",
         "Zurich"
        ],
        [
         "228",
         "938",
         "863",
         "10",
         "88",
         "21",
         "38",
         "male",
         "['Dancing', 'Travel', 'Meditation', 'Gardening']",
         "Counselor",
         "Paris"
        ],
        [
         "229",
         "2895",
         "1505",
         "48",
         "1407",
         "7652",
         "37",
         "male",
         "['Cooking', 'Writing', 'Dancing']",
         "Architect",
         "Berlin"
        ],
        [
         "230",
         "901",
         "807",
         "18",
         "34",
         "8",
         "27",
         "male",
         "['DIY', 'Music', 'Fashion', 'Health']",
         "Yoga Instructor",
         "Paris"
        ],
        [
         "231",
         "2061",
         "666",
         "30",
         "911",
         "1397",
         "36",
         "male",
         "['Fitness', 'Nature']",
         "Dancer",
         "Rome"
        ],
        [
         "232",
         "44411",
         "593",
         "198",
         "2002356",
         "3824633",
         "42",
         "female",
         "['Art', 'Writing', 'Travel', 'Photography']",
         "Filmmaker",
         "Zurich"
        ],
        [
         "233",
         "1752",
         "1570",
         "3",
         "58",
         "43",
         "43",
         "male",
         "['Fitness', 'Fashion', 'Photography', 'Technology', 'Travel']",
         "Fitness Trainer",
         "Berlin"
        ],
        [
         "234",
         "2457",
         "909",
         "33",
         "529",
         "4596",
         "30",
         "male",
         "['Travel', 'Fitness']",
         "Photographer",
         "Prague"
        ],
        [
         "235",
         "2212",
         "1252",
         "25",
         "1000",
         "2621",
         "24",
         "male",
         "['Health']",
         "Researcher",
         "Lisbon"
        ],
        [
         "236",
         "360",
         "236",
         "4",
         "2",
         "2",
         "41",
         "female",
         "['Meditation']",
         "Nurse",
         "Prague"
        ],
        [
         "237",
         "1643",
         "941",
         "11",
         "238",
         "711",
         "23",
         "female",
         "['Reading', 'Writing']",
         "Teacher",
         "Berlin"
        ],
        [
         "238",
         "1775",
         "1587",
         "4",
         "124",
         "237",
         "32",
         "male",
         "['Fashion', 'Nature']",
         "Fitness Trainer",
         "Paris"
        ],
        [
         "239",
         "2333",
         "1205",
         "33",
         "1415",
         "1744",
         "35",
         "female",
         "['Photography']",
         "Marketing Specialist",
         "Berlin"
        ],
        [
         "240",
         "377",
         "355",
         "5",
         "4",
         "8",
         "44",
         "male",
         "[]",
         "Doctor",
         "Berlin"
        ],
        [
         "241",
         "1135",
         "502",
         "19",
         "180",
         "731",
         "26",
         "female",
         "['Yoga', 'Dancing', 'Meditation', 'Photography']",
         "Photographer",
         "Zurich"
        ],
        [
         "242",
         "1293",
         "1041",
         "23",
         "345",
         "107",
         "26",
         "male",
         "['Nature']",
         "Teacher",
         "Vienna"
        ],
        [
         "243",
         "71443",
         "785",
         "328",
         "12857328",
         "24362194",
         "29",
         "male",
         "['Technology', 'Gardening', 'Meditation', 'Filmmaking', 'Yoga']",
         "Filmmaker",
         "Paris"
        ],
        [
         "244",
         "1899",
         "362",
         "15",
         "446",
         "438",
         "19",
         "male",
         "['Fashion']",
         "Social Worker",
         "Zurich"
        ],
        [
         "245",
         "328",
         "134",
         "4",
         "4",
         "8",
         "26",
         "female",
         "['Cooking']",
         "Writer",
         "Paris"
        ],
        [
         "246",
         "2755",
         "1075",
         "7",
         "516",
         "1231",
         "27",
         "female",
         "['DIY', 'Dancing', 'Cooking', 'Filmmaking', 'Fashion']",
         "Marketing Specialist",
         "Lisbon"
        ],
        [
         "247",
         "19922",
         "1688",
         "158",
         "459539",
         "1919783",
         "39",
         "female",
         "['Writing', 'Health', 'Yoga', 'DIY']",
         "Artist",
         "Zurich"
        ],
        [
         "248",
         "2408",
         "1178",
         "7",
         "248",
         "551",
         "19",
         "male",
         "['Writing', 'Fashion', 'Technology', 'Health']",
         "Counselor",
         "Prague"
        ],
        [
         "249",
         "551",
         "172",
         "2",
         "5",
         "17",
         "35",
         "male",
         "['Nature']",
         "Architect",
         "Berlin"
        ]
       ],
       "datasetInfos": [],
       "dbfsResultPath": null,
       "isJsonSchema": true,
       "metadata": {},
       "overflow": false,
       "plotOptions": {
        "customPlotOptions": {},
        "displayType": "table",
        "pivotAggregation": null,
        "pivotColumns": null,
        "xColumns": null,
        "yColumns": null
       },
       "removedWidgets": [],
       "schema": [
        {
         "metadata": "{}",
         "name": "node_id",
         "type": "\"string\""
        },
        {
         "metadata": "{}",
         "name": "followers",
         "type": "\"string\""
        },
        {
         "metadata": "{}",
         "name": "following",
         "type": "\"string\""
        },
        {
         "metadata": "{}",
         "name": "posts",
         "type": "\"string\""
        },
        {
         "metadata": "{}",
         "name": "likes",
         "type": "\"string\""
        },
        {
         "metadata": "{}",
         "name": "comments",
         "type": "\"string\""
        },
        {
         "metadata": "{}",
         "name": "age",
         "type": "\"string\""
        },
        {
         "metadata": "{}",
         "name": "gender",
         "type": "\"string\""
        },
        {
         "metadata": "{}",
         "name": "interests",
         "type": "\"string\""
        },
        {
         "metadata": "{}",
         "name": "occupation",
         "type": "\"string\""
        },
        {
         "metadata": "{}",
         "name": "location",
         "type": "\"string\""
        }
       ],
       "type": "table"
      }
     },
     "output_type": "display_data"
    }
   ],
   "source": [
    "display(nodes_df)"
   ]
  },
  {
   "cell_type": "code",
   "execution_count": null,
   "metadata": {
    "application/vnd.databricks.v1+cell": {
     "cellMetadata": {
      "byteLimit": 2048000,
      "rowLimit": 10000
     },
     "inputWidgets": {},
     "nuid": "e60b546d-bb83-4bae-9978-482caa94b398",
     "showTitle": false,
     "title": ""
    }
   },
   "outputs": [
    {
     "data": {
      "text/html": [
       "<style scoped>\n",
       "  .table-result-container {\n",
       "    max-height: 300px;\n",
       "    overflow: auto;\n",
       "  }\n",
       "  table, th, td {\n",
       "    border: 1px solid black;\n",
       "    border-collapse: collapse;\n",
       "  }\n",
       "  th, td {\n",
       "    padding: 5px;\n",
       "  }\n",
       "  th {\n",
       "    text-align: left;\n",
       "  }\n",
       "</style><div class='table-result-container'><table class='table-result'><thead style='background-color: white'><tr><th>src</th><th>dst</th><th>follower_following</th><th>engagement_likes</th><th>engagement_comments</th><th>engagement_dms</th></tr></thead><tbody><tr><td>0</td><td>46</td><td>B follows A</td><td>0</td><td>10</td><td>3</td></tr><tr><td>46</td><td>0</td><td>B follows A</td><td>0</td><td>10</td><td>3</td></tr><tr><td>2</td><td>68</td><td>A follows B</td><td>40</td><td>45</td><td>8</td></tr><tr><td>68</td><td>2</td><td>A follows B</td><td>40</td><td>45</td><td>8</td></tr><tr><td>2</td><td>102</td><td>A follows B</td><td>78</td><td>21</td><td>6</td></tr><tr><td>102</td><td>2</td><td>A follows B</td><td>78</td><td>21</td><td>6</td></tr><tr><td>2</td><td>177</td><td>B follows A</td><td>32</td><td>8</td><td>6</td></tr><tr><td>177</td><td>2</td><td>B follows A</td><td>32</td><td>8</td><td>6</td></tr><tr><td>2</td><td>206</td><td>A follows B</td><td>54</td><td>52</td><td>18</td></tr><tr><td>206</td><td>2</td><td>A follows B</td><td>54</td><td>52</td><td>18</td></tr><tr><td>2</td><td>209</td><td>B follows A</td><td>8</td><td>22</td><td>13</td></tr><tr><td>209</td><td>2</td><td>B follows A</td><td>8</td><td>22</td><td>13</td></tr><tr><td>2</td><td>234</td><td>B follows A</td><td>15</td><td>23</td><td>11</td></tr><tr><td>234</td><td>2</td><td>B follows A</td><td>15</td><td>23</td><td>11</td></tr><tr><td>5</td><td>9</td><td>B follows A</td><td>1169</td><td>59</td><td>44</td></tr><tr><td>9</td><td>5</td><td>B follows A</td><td>1169</td><td>59</td><td>44</td></tr><tr><td>5</td><td>19</td><td>A and B follow each other</td><td>17</td><td>138</td><td>121</td></tr><tr><td>19</td><td>5</td><td>A and B follow each other</td><td>17</td><td>138</td><td>121</td></tr><tr><td>5</td><td>22</td><td>B follows A</td><td>337</td><td>15</td><td>15</td></tr><tr><td>22</td><td>5</td><td>B follows A</td><td>337</td><td>15</td><td>15</td></tr><tr><td>5</td><td>24</td><td>B follows A</td><td>1184</td><td>104</td><td>104</td></tr><tr><td>24</td><td>5</td><td>B follows A</td><td>1184</td><td>104</td><td>104</td></tr><tr><td>5</td><td>39</td><td>B follows A</td><td>542</td><td>392</td><td>75</td></tr><tr><td>39</td><td>5</td><td>B follows A</td><td>542</td><td>392</td><td>75</td></tr><tr><td>5</td><td>41</td><td>B follows A</td><td>195</td><td>346</td><td>120</td></tr><tr><td>41</td><td>5</td><td>B follows A</td><td>195</td><td>346</td><td>120</td></tr><tr><td>5</td><td>50</td><td>A and B follow each other</td><td>227</td><td>943</td><td>130</td></tr><tr><td>50</td><td>5</td><td>A and B follow each other</td><td>227</td><td>943</td><td>130</td></tr><tr><td>5</td><td>63</td><td>B follows A</td><td>1180</td><td>257</td><td>136</td></tr><tr><td>63</td><td>5</td><td>B follows A</td><td>1180</td><td>257</td><td>136</td></tr><tr><td>5</td><td>81</td><td>B follows A</td><td>357</td><td>108</td><td>93</td></tr><tr><td>81</td><td>5</td><td>B follows A</td><td>357</td><td>108</td><td>93</td></tr><tr><td>5</td><td>92</td><td>B follows A</td><td>927</td><td>30</td><td>60</td></tr><tr><td>92</td><td>5</td><td>B follows A</td><td>927</td><td>30</td><td>60</td></tr><tr><td>5</td><td>97</td><td>B follows A</td><td>977</td><td>222</td><td>88</td></tr><tr><td>97</td><td>5</td><td>B follows A</td><td>977</td><td>222</td><td>88</td></tr><tr><td>5</td><td>98</td><td>B follows A</td><td>502</td><td>396</td><td>15</td></tr><tr><td>98</td><td>5</td><td>B follows A</td><td>502</td><td>396</td><td>15</td></tr><tr><td>5</td><td>99</td><td>B follows A</td><td>872</td><td>336</td><td>153</td></tr><tr><td>99</td><td>5</td><td>B follows A</td><td>872</td><td>336</td><td>153</td></tr><tr><td>5</td><td>100</td><td>B follows A</td><td>76</td><td>45</td><td>15</td></tr><tr><td>100</td><td>5</td><td>B follows A</td><td>76</td><td>45</td><td>15</td></tr><tr><td>5</td><td>102</td><td>B follows A</td><td>1064</td><td>449</td><td>59</td></tr><tr><td>102</td><td>5</td><td>B follows A</td><td>1064</td><td>449</td><td>59</td></tr><tr><td>5</td><td>111</td><td>B follows A</td><td>366</td><td>30</td><td>61</td></tr><tr><td>111</td><td>5</td><td>B follows A</td><td>366</td><td>30</td><td>61</td></tr><tr><td>5</td><td>117</td><td>B follows A</td><td>756</td><td>339</td><td>123</td></tr><tr><td>117</td><td>5</td><td>B follows A</td><td>756</td><td>339</td><td>123</td></tr><tr><td>5</td><td>125</td><td>B follows A</td><td>993</td><td>75</td><td>105</td></tr><tr><td>125</td><td>5</td><td>B follows A</td><td>993</td><td>75</td><td>105</td></tr><tr><td>5</td><td>131</td><td>B follows A</td><td>150</td><td>315</td><td>45</td></tr><tr><td>131</td><td>5</td><td>B follows A</td><td>150</td><td>315</td><td>45</td></tr><tr><td>5</td><td>139</td><td>B follows A</td><td>437</td><td>241</td><td>75</td></tr><tr><td>139</td><td>5</td><td>B follows A</td><td>437</td><td>241</td><td>75</td></tr><tr><td>5</td><td>151</td><td>B follows A</td><td>230</td><td>399</td><td>153</td></tr><tr><td>151</td><td>5</td><td>B follows A</td><td>230</td><td>399</td><td>153</td></tr><tr><td>5</td><td>155</td><td>B follows A</td><td>1181</td><td>333</td><td>136</td></tr><tr><td>155</td><td>5</td><td>B follows A</td><td>1181</td><td>333</td><td>136</td></tr><tr><td>5</td><td>174</td><td>B follows A</td><td>1186</td><td>365</td><td>45</td></tr><tr><td>174</td><td>5</td><td>B follows A</td><td>1186</td><td>365</td><td>45</td></tr><tr><td>5</td><td>186</td><td>B follows A</td><td>1093</td><td>254</td><td>149</td></tr><tr><td>186</td><td>5</td><td>B follows A</td><td>1093</td><td>254</td><td>149</td></tr><tr><td>5</td><td>197</td><td>A and B follow each other</td><td>81</td><td>507</td><td>20</td></tr><tr><td>197</td><td>5</td><td>A and B follow each other</td><td>81</td><td>507</td><td>20</td></tr><tr><td>5</td><td>206</td><td>B follows A</td><td>197</td><td>75</td><td>106</td></tr><tr><td>206</td><td>5</td><td>B follows A</td><td>197</td><td>75</td><td>106</td></tr><tr><td>5</td><td>220</td><td>B follows A</td><td>755</td><td>286</td><td>105</td></tr><tr><td>220</td><td>5</td><td>B follows A</td><td>755</td><td>286</td><td>105</td></tr><tr><td>5</td><td>222</td><td>B follows A</td><td>334</td><td>319</td><td>30</td></tr><tr><td>222</td><td>5</td><td>B follows A</td><td>334</td><td>319</td><td>30</td></tr><tr><td>5</td><td>227</td><td>A follows B</td><td>1115</td><td>165</td><td>75</td></tr><tr><td>227</td><td>5</td><td>A follows B</td><td>1115</td><td>165</td><td>75</td></tr><tr><td>7</td><td>117</td><td>A follows B</td><td>24</td><td>14</td><td>4</td></tr><tr><td>117</td><td>7</td><td>A follows B</td><td>24</td><td>14</td><td>4</td></tr><tr><td>8</td><td>13</td><td>B follows A</td><td>174</td><td>61</td><td>35</td></tr><tr><td>13</td><td>8</td><td>B follows A</td><td>174</td><td>61</td><td>35</td></tr><tr><td>8</td><td>20</td><td>B follows A</td><td>74</td><td>101</td><td>10</td></tr><tr><td>20</td><td>8</td><td>B follows A</td><td>74</td><td>101</td><td>10</td></tr><tr><td>8</td><td>21</td><td>B follows A</td><td>71</td><td>82</td><td>51</td></tr><tr><td>21</td><td>8</td><td>B follows A</td><td>71</td><td>82</td><td>51</td></tr><tr><td>8</td><td>38</td><td>A and B follow each other</td><td>84</td><td>281</td><td>28</td></tr><tr><td>38</td><td>8</td><td>A and B follow each other</td><td>84</td><td>281</td><td>28</td></tr><tr><td>8</td><td>77</td><td>B follows A</td><td>410</td><td>98</td><td>27</td></tr><tr><td>77</td><td>8</td><td>B follows A</td><td>410</td><td>98</td><td>27</td></tr><tr><td>8</td><td>79</td><td>B follows A</td><td>56</td><td>97</td><td>5</td></tr><tr><td>79</td><td>8</td><td>B follows A</td><td>56</td><td>97</td><td>5</td></tr><tr><td>8</td><td>85</td><td>B follows A</td><td>185</td><td>30</td><td>51</td></tr><tr><td>85</td><td>8</td><td>B follows A</td><td>185</td><td>30</td><td>51</td></tr><tr><td>8</td><td>128</td><td>B follows A</td><td>117</td><td>117</td><td>30</td></tr><tr><td>128</td><td>8</td><td>B follows A</td><td>117</td><td>117</td><td>30</td></tr><tr><td>8</td><td>129</td><td>B follows A</td><td>178</td><td>76</td><td>85</td></tr><tr><td>129</td><td>8</td><td>B follows A</td><td>178</td><td>76</td><td>85</td></tr><tr><td>8</td><td>135</td><td>B follows A</td><td>328</td><td>56</td><td>25</td></tr><tr><td>135</td><td>8</td><td>B follows A</td><td>328</td><td>56</td><td>25</td></tr><tr><td>8</td><td>141</td><td>A and B follow each other</td><td>223</td><td>150</td><td>46</td></tr><tr><td>141</td><td>8</td><td>A and B follow each other</td><td>223</td><td>150</td><td>46</td></tr><tr><td>8</td><td>145</td><td>B follows A</td><td>154</td><td>88</td><td>11</td></tr><tr><td>145</td><td>8</td><td>B follows A</td><td>154</td><td>88</td><td>11</td></tr><tr><td>8</td><td>150</td><td>A and B follow each other</td><td>600</td><td>19</td><td>67</td></tr><tr><td>150</td><td>8</td><td>A and B follow each other</td><td>600</td><td>19</td><td>67</td></tr><tr><td>8</td><td>161</td><td>B follows A</td><td>372</td><td>62</td><td>5</td></tr><tr><td>161</td><td>8</td><td>B follows A</td><td>372</td><td>62</td><td>5</td></tr><tr><td>8</td><td>163</td><td>A and B follow each other</td><td>1162</td><td>143</td><td>31</td></tr><tr><td>163</td><td>8</td><td>A and B follow each other</td><td>1162</td><td>143</td><td>31</td></tr><tr><td>8</td><td>167</td><td>A follows B</td><td>315</td><td>46</td><td>51</td></tr><tr><td>167</td><td>8</td><td>A follows B</td><td>315</td><td>46</td><td>51</td></tr><tr><td>8</td><td>174</td><td>B follows A</td><td>42</td><td>123</td><td>26</td></tr><tr><td>174</td><td>8</td><td>B follows A</td><td>42</td><td>123</td><td>26</td></tr><tr><td>8</td><td>180</td><td>A and B follow each other</td><td>1505</td><td>47</td><td>235</td></tr><tr><td>180</td><td>8</td><td>A and B follow each other</td><td>1505</td><td>47</td><td>235</td></tr><tr><td>8</td><td>195</td><td>A and B follow each other</td><td>233</td><td>246</td><td>25</td></tr><tr><td>195</td><td>8</td><td>A and B follow each other</td><td>233</td><td>246</td><td>25</td></tr><tr><td>8</td><td>198</td><td>B follows A</td><td>311</td><td>155</td><td>41</td></tr><tr><td>198</td><td>8</td><td>B follows A</td><td>311</td><td>155</td><td>41</td></tr><tr><td>8</td><td>225</td><td>B follows A</td><td>100</td><td>55</td><td>67</td></tr><tr><td>225</td><td>8</td><td>B follows A</td><td>100</td><td>55</td><td>67</td></tr><tr><td>8</td><td>227</td><td>B follows A</td><td>271</td><td>140</td><td>26</td></tr><tr><td>227</td><td>8</td><td>B follows A</td><td>271</td><td>140</td><td>26</td></tr><tr><td>8</td><td>244</td><td>B follows A</td><td>399</td><td>99</td><td>47</td></tr><tr><td>244</td><td>8</td><td>B follows A</td><td>399</td><td>99</td><td>47</td></tr><tr><td>11</td><td>20</td><td>A follows B</td><td>107</td><td>47</td><td>26</td></tr><tr><td>20</td><td>11</td><td>A follows B</td><td>107</td><td>47</td><td>26</td></tr><tr><td>11</td><td>32</td><td>B follows A</td><td>152</td><td>19</td><td>6</td></tr><tr><td>32</td><td>11</td><td>B follows A</td><td>152</td><td>19</td><td>6</td></tr><tr><td>11</td><td>47</td><td>B follows A</td><td>95</td><td>79</td><td>31</td></tr><tr><td>47</td><td>11</td><td>B follows A</td><td>95</td><td>79</td><td>31</td></tr><tr><td>11</td><td>56</td><td>A follows B</td><td>143</td><td>58</td><td>20</td></tr><tr><td>56</td><td>11</td><td>A follows B</td><td>143</td><td>58</td><td>20</td></tr><tr><td>11</td><td>77</td><td>B follows A</td><td>220</td><td>63</td><td>10</td></tr><tr><td>77</td><td>11</td><td>B follows A</td><td>220</td><td>63</td><td>10</td></tr><tr><td>11</td><td>78</td><td>B follows A</td><td>15</td><td>79</td><td>22</td></tr><tr><td>78</td><td>11</td><td>B follows A</td><td>15</td><td>79</td><td>22</td></tr><tr><td>11</td><td>98</td><td>B follows A</td><td>27</td><td>10</td><td>17</td></tr><tr><td>98</td><td>11</td><td>B follows A</td><td>27</td><td>10</td><td>17</td></tr><tr><td>11</td><td>119</td><td>A and B follow each other</td><td>216</td><td>51</td><td>25</td></tr><tr><td>119</td><td>11</td><td>A and B follow each other</td><td>216</td><td>51</td><td>25</td></tr><tr><td>11</td><td>135</td><td>B follows A</td><td>107</td><td>22</td><td>28</td></tr><tr><td>135</td><td>11</td><td>B follows A</td><td>107</td><td>22</td><td>28</td></tr><tr><td>11</td><td>138</td><td>A follows B</td><td>167</td><td>25</td><td>28</td></tr><tr><td>138</td><td>11</td><td>A follows B</td><td>167</td><td>25</td><td>28</td></tr><tr><td>11</td><td>145</td><td>A follows B</td><td>283</td><td>81</td><td>10</td></tr><tr><td>145</td><td>11</td><td>A follows B</td><td>283</td><td>81</td><td>10</td></tr><tr><td>11</td><td>145</td><td>B follows A</td><td>123</td><td>31</td><td>24</td></tr><tr><td>145</td><td>11</td><td>B follows A</td><td>123</td><td>31</td><td>24</td></tr><tr><td>11</td><td>147</td><td>A and B follow each other</td><td>146</td><td>173</td><td>13</td></tr><tr><td>147</td><td>11</td><td>A and B follow each other</td><td>146</td><td>173</td><td>13</td></tr><tr><td>11</td><td>168</td><td>A follows B</td><td>16</td><td>87</td><td>29</td></tr><tr><td>168</td><td>11</td><td>A follows B</td><td>16</td><td>87</td><td>29</td></tr><tr><td>11</td><td>178</td><td>A follows B</td><td>216</td><td>44</td><td>3</td></tr><tr><td>178</td><td>11</td><td>A follows B</td><td>216</td><td>44</td><td>3</td></tr><tr><td>11</td><td>195</td><td>B follows A</td><td>571</td><td>296</td><td>32</td></tr><tr><td>195</td><td>11</td><td>B follows A</td><td>571</td><td>296</td><td>32</td></tr><tr><td>11</td><td>195</td><td>A follows B</td><td>670</td><td>274</td><td>43</td></tr><tr><td>195</td><td>11</td><td>A follows B</td><td>670</td><td>274</td><td>43</td></tr><tr><td>11</td><td>198</td><td>B follows A</td><td>9</td><td>22</td><td>19</td></tr><tr><td>198</td><td>11</td><td>B follows A</td><td>9</td><td>22</td><td>19</td></tr><tr><td>11</td><td>223</td><td>A follows B</td><td>34</td><td>9</td><td>22</td></tr><tr><td>223</td><td>11</td><td>A follows B</td><td>34</td><td>9</td><td>22</td></tr><tr><td>11</td><td>232</td><td>B follows A</td><td>389</td><td>112</td><td>15</td></tr><tr><td>232</td><td>11</td><td>B follows A</td><td>389</td><td>112</td><td>15</td></tr><tr><td>11</td><td>244</td><td>B follows A</td><td>151</td><td>85</td><td>32</td></tr><tr><td>244</td><td>11</td><td>B follows A</td><td>151</td><td>85</td><td>32</td></tr><tr><td>11</td><td>247</td><td>A follows B</td><td>273</td><td>42</td><td>33</td></tr><tr><td>247</td><td>11</td><td>A follows B</td><td>273</td><td>42</td><td>33</td></tr><tr><td>12</td><td>129</td><td>B follows A</td><td>263</td><td>10</td><td>34</td></tr><tr><td>129</td><td>12</td><td>B follows A</td><td>263</td><td>10</td><td>34</td></tr><tr><td>14</td><td>103</td><td>B follows A</td><td>700</td><td>307</td><td>36</td></tr><tr><td>103</td><td>14</td><td>B follows A</td><td>700</td><td>307</td><td>36</td></tr><tr><td>14</td><td>118</td><td>B follows A</td><td>319</td><td>98</td><td>122</td></tr><tr><td>118</td><td>14</td><td>B follows A</td><td>319</td><td>98</td><td>122</td></tr><tr><td>14</td><td>120</td><td>B follows A</td><td>1437</td><td>95</td><td>153</td></tr><tr><td>120</td><td>14</td><td>B follows A</td><td>1437</td><td>95</td><td>153</td></tr><tr><td>14</td><td>176</td><td>A follows B</td><td>232</td><td>24</td><td>61</td></tr><tr><td>176</td><td>14</td><td>A follows B</td><td>232</td><td>24</td><td>61</td></tr><tr><td>14</td><td>191</td><td>B follows A</td><td>228</td><td>114</td><td>38</td></tr><tr><td>191</td><td>14</td><td>B follows A</td><td>228</td><td>114</td><td>38</td></tr><tr><td>14</td><td>192</td><td>A and B follow each other</td><td>249</td><td>37</td><td>74</td></tr><tr><td>192</td><td>14</td><td>A and B follow each other</td><td>249</td><td>37</td><td>74</td></tr><tr><td>14</td><td>202</td><td>A follows B</td><td>270</td><td>110</td><td>36</td></tr><tr><td>202</td><td>14</td><td>A follows B</td><td>270</td><td>110</td><td>36</td></tr><tr><td>14</td><td>235</td><td>B follows A</td><td>211</td><td>24</td><td>74</td></tr><tr><td>235</td><td>14</td><td>B follows A</td><td>211</td><td>24</td><td>74</td></tr><tr><td>14</td><td>246</td><td>B follows A</td><td>36</td><td>220</td><td>36</td></tr><tr><td>246</td><td>14</td><td>B follows A</td><td>36</td><td>220</td><td>36</td></tr><tr><td>15</td><td>135</td><td>A follows B</td><td>0</td><td>2</td><td>0</td></tr><tr><td>135</td><td>15</td><td>A follows B</td><td>0</td><td>2</td><td>0</td></tr><tr><td>16</td><td>133</td><td>B follows A</td><td>5</td><td>8</td><td>1</td></tr><tr><td>133</td><td>16</td><td>B follows A</td><td>5</td><td>8</td><td>1</td></tr><tr><td>19</td><td>21</td><td>B follows A</td><td>177</td><td>45</td><td>21</td></tr><tr><td>21</td><td>19</td><td>B follows A</td><td>177</td><td>45</td><td>21</td></tr><tr><td>19</td><td>25</td><td>A follows B</td><td>41</td><td>44</td><td>13</td></tr><tr><td>25</td><td>19</td><td>A follows B</td><td>41</td><td>44</td><td>13</td></tr><tr><td>19</td><td>27</td><td>A and B follow each other</td><td>120</td><td>560</td><td>180</td></tr><tr><td>27</td><td>19</td><td>A and B follow each other</td><td>120</td><td>560</td><td>180</td></tr><tr><td>19</td><td>34</td><td>B follows A</td><td>21</td><td>53</td><td>4</td></tr><tr><td>34</td><td>19</td><td>B follows A</td><td>21</td><td>53</td><td>4</td></tr><tr><td>19</td><td>45</td><td>B follows A</td><td>16</td><td>47</td><td>9</td></tr><tr><td>45</td><td>19</td><td>B follows A</td><td>16</td><td>47</td><td>9</td></tr><tr><td>19</td><td>51</td><td>B follows A</td><td>116</td><td>45</td><td>16</td></tr><tr><td>51</td><td>19</td><td>B follows A</td><td>116</td><td>45</td><td>16</td></tr><tr><td>19</td><td>61</td><td>B follows A</td><td>161</td><td>61</td><td>10</td></tr><tr><td>61</td><td>19</td><td>B follows A</td><td>161</td><td>61</td><td>10</td></tr><tr><td>19</td><td>125</td><td>B follows A</td><td>171</td><td>61</td><td>17</td></tr><tr><td>125</td><td>19</td><td>B follows A</td><td>171</td><td>61</td><td>17</td></tr><tr><td>19</td><td>132</td><td>B follows A</td><td>192</td><td>2</td><td>7</td></tr><tr><td>132</td><td>19</td><td>B follows A</td><td>192</td><td>2</td><td>7</td></tr><tr><td>19</td><td>134</td><td>B follows A</td><td>43</td><td>50</td><td>24</td></tr><tr><td>134</td><td>19</td><td>B follows A</td><td>43</td><td>50</td><td>24</td></tr><tr><td>19</td><td>137</td><td>B follows A</td><td>26</td><td>26</td><td>11</td></tr><tr><td>137</td><td>19</td><td>B follows A</td><td>26</td><td>26</td><td>11</td></tr><tr><td>19</td><td>147</td><td>A and B follow each other</td><td>276</td><td>175</td><td>50</td></tr><tr><td>147</td><td>19</td><td>A and B follow each other</td><td>276</td><td>175</td><td>50</td></tr><tr><td>19</td><td>157</td><td>B follows A</td><td>39</td><td>78</td><td>39</td></tr><tr><td>157</td><td>19</td><td>B follows A</td><td>39</td><td>78</td><td>39</td></tr><tr><td>19</td><td>167</td><td>B follows A</td><td>39</td><td>56</td><td>21</td></tr><tr><td>167</td><td>19</td><td>B follows A</td><td>39</td><td>56</td><td>21</td></tr><tr><td>19</td><td>193</td><td>A and B follow each other</td><td>248</td><td>173</td><td>24</td></tr><tr><td>193</td><td>19</td><td>A and B follow each other</td><td>248</td><td>173</td><td>24</td></tr><tr><td>19</td><td>202</td><td>B follows A</td><td>150</td><td>12</td><td>14</td></tr><tr><td>202</td><td>19</td><td>B follows A</td><td>150</td><td>12</td><td>14</td></tr><tr><td>19</td><td>204</td><td>B follows A</td><td>177</td><td>45</td><td>10</td></tr><tr><td>204</td><td>19</td><td>B follows A</td><td>177</td><td>45</td><td>10</td></tr><tr><td>19</td><td>233</td><td>B follows A</td><td>57</td><td>36</td><td>16</td></tr><tr><td>233</td><td>19</td><td>B follows A</td><td>57</td><td>36</td><td>16</td></tr><tr><td>19</td><td>237</td><td>B follows A</td><td>47</td><td>37</td><td>14</td></tr><tr><td>237</td><td>19</td><td>B follows A</td><td>47</td><td>37</td><td>14</td></tr><tr><td>19</td><td>239</td><td>B follows A</td><td>27</td><td>2</td><td>10</td></tr><tr><td>239</td><td>19</td><td>B follows A</td><td>27</td><td>2</td><td>10</td></tr><tr><td>19</td><td>240</td><td>B follows A</td><td>12</td><td>7</td><td>16</td></tr><tr><td>240</td><td>19</td><td>B follows A</td><td>12</td><td>7</td><td>16</td></tr><tr><td>21</td><td>193</td><td>A and B follow each other</td><td>154</td><td>92</td><td>7</td></tr><tr><td>193</td><td>21</td><td>A and B follow each other</td><td>154</td><td>92</td><td>7</td></tr><tr><td>25</td><td>43</td><td>B follows A</td><td>6</td><td>2</td><td>3</td></tr><tr><td>43</td><td>25</td><td>B follows A</td><td>6</td><td>2</td><td>3</td></tr><tr><td>25</td><td>167</td><td>A follows B</td><td>19</td><td>13</td><td>2</td></tr><tr><td>167</td><td>25</td><td>A follows B</td><td>19</td><td>13</td><td>2</td></tr><tr><td>26</td><td>82</td><td>B follows A</td><td>5</td><td>3</td><td>1</td></tr><tr><td>82</td><td>26</td><td>B follows A</td><td>5</td><td>3</td><td>1</td></tr><tr><td>27</td><td>42</td><td>B follows A</td><td>406</td><td>512</td><td>88</td></tr><tr><td>42</td><td>27</td><td>B follows A</td><td>406</td><td>512</td><td>88</td></tr><tr><td>27</td><td>43</td><td>B follows A</td><td>504</td><td>486</td><td>18</td></tr><tr><td>43</td><td>27</td><td>B follows A</td><td>504</td><td>486</td><td>18</td></tr><tr><td>27</td><td>86</td><td>A follows B</td><td>478</td><td>88</td><td>35</td></tr><tr><td>86</td><td>27</td><td>A follows B</td><td>478</td><td>88</td><td>35</td></tr><tr><td>27</td><td>88</td><td>B follows A</td><td>607</td><td>293</td><td>188</td></tr><tr><td>88</td><td>27</td><td>B follows A</td><td>607</td><td>293</td><td>188</td></tr><tr><td>27</td><td>94</td><td>B follows A</td><td>1353</td><td>106</td><td>89</td></tr><tr><td>94</td><td>27</td><td>B follows A</td><td>1353</td><td>106</td><td>89</td></tr><tr><td>27</td><td>109</td><td>B follows A</td><td>454</td><td>181</td><td>90</td></tr><tr><td>109</td><td>27</td><td>B follows A</td><td>454</td><td>181</td><td>90</td></tr><tr><td>27</td><td>123</td><td>B follows A</td><td>1075</td><td>53</td><td>17</td></tr><tr><td>123</td><td>27</td><td>B follows A</td><td>1075</td><td>53</td><td>17</td></tr><tr><td>27</td><td>124</td><td>A follows B</td><td>1144</td><td>357</td><td>178</td></tr><tr><td>124</td><td>27</td><td>A follows B</td><td>1144</td><td>357</td><td>178</td></tr><tr><td>27</td><td>128</td><td>B follows A</td><td>529</td><td>441</td><td>123</td></tr><tr><td>128</td><td>27</td><td>B follows A</td><td>529</td><td>441</td><td>123</td></tr><tr><td>27</td><td>134</td><td>B follows A</td><td>724</td><td>459</td><td>141</td></tr><tr><td>134</td><td>27</td><td>B follows A</td><td>724</td><td>459</td><td>141</td></tr><tr><td>27</td><td>136</td><td>B follows A</td><td>673</td><td>283</td><td>159</td></tr><tr><td>136</td><td>27</td><td>B follows A</td><td>673</td><td>283</td><td>159</td></tr><tr><td>27</td><td>149</td><td>B follows A</td><td>1209</td><td>231</td><td>142</td></tr><tr><td>149</td><td>27</td><td>B follows A</td><td>1209</td><td>231</td><td>142</td></tr><tr><td>27</td><td>151</td><td>B follows A</td><td>540</td><td>162</td><td>90</td></tr><tr><td>151</td><td>27</td><td>B follows A</td><td>540</td><td>162</td><td>90</td></tr><tr><td>27</td><td>154</td><td>B follows A</td><td>637</td><td>53</td><td>177</td></tr><tr><td>154</td><td>27</td><td>B follows A</td><td>637</td><td>53</td><td>177</td></tr><tr><td>27</td><td>164</td><td>B follows A</td><td>516</td><td>178</td><td>35</td></tr><tr><td>164</td><td>27</td><td>B follows A</td><td>516</td><td>178</td><td>35</td></tr><tr><td>27</td><td>166</td><td>B follows A</td><td>1395</td><td>229</td><td>176</td></tr><tr><td>166</td><td>27</td><td>B follows A</td><td>1395</td><td>229</td><td>176</td></tr><tr><td>27</td><td>190</td><td>B follows A</td><td>432</td><td>90</td><td>144</td></tr><tr><td>190</td><td>27</td><td>B follows A</td><td>432</td><td>90</td><td>144</td></tr><tr><td>27</td><td>202</td><td>B follows A</td><td>1383</td><td>53</td><td>141</td></tr><tr><td>202</td><td>27</td><td>B follows A</td><td>1383</td><td>53</td><td>141</td></tr><tr><td>27</td><td>242</td><td>B follows A</td><td>1054</td><td>357</td><td>71</td></tr><tr><td>242</td><td>27</td><td>B follows A</td><td>1054</td><td>357</td><td>71</td></tr><tr><td>32</td><td>205</td><td>A follows B</td><td>5</td><td>0</td><td>1</td></tr><tr><td>205</td><td>32</td><td>A follows B</td><td>5</td><td>0</td><td>1</td></tr><tr><td>38</td><td>49</td><td>B follows A</td><td>729</td><td>246</td><td>54</td></tr><tr><td>49</td><td>38</td><td>B follows A</td><td>729</td><td>246</td><td>54</td></tr><tr><td>38</td><td>57</td><td>B follows A</td><td>529</td><td>116</td><td>80</td></tr><tr><td>57</td><td>38</td><td>B follows A</td><td>529</td><td>116</td><td>80</td></tr><tr><td>38</td><td>67</td><td>B follows A</td><td>237</td><td>47</td><td>47</td></tr><tr><td>67</td><td>38</td><td>B follows A</td><td>237</td><td>47</td><td>47</td></tr><tr><td>38</td><td>91</td><td>B follows A</td><td>261</td><td>81</td><td>90</td></tr><tr><td>91</td><td>38</td><td>B follows A</td><td>261</td><td>81</td><td>90</td></tr><tr><td>38</td><td>97</td><td>A and B follow each other</td><td>48</td><td>81</td><td>32</td></tr><tr><td>97</td><td>38</td><td>A and B follow each other</td><td>48</td><td>81</td><td>32</td></tr><tr><td>38</td><td>112</td><td>B follows A</td><td>296</td><td>179</td><td>44</td></tr><tr><td>112</td><td>38</td><td>B follows A</td><td>296</td><td>179</td><td>44</td></tr><tr><td>38</td><td>115</td><td>B follows A</td><td>676</td><td>225</td><td>81</td></tr><tr><td>115</td><td>38</td><td>B follows A</td><td>676</td><td>225</td><td>81</td></tr><tr><td>38</td><td>144</td><td>A follows B</td><td>198</td><td>144</td><td>162</td></tr><tr><td>144</td><td>38</td><td>A follows B</td><td>198</td><td>144</td><td>162</td></tr><tr><td>38</td><td>146</td><td>B follows A</td><td>604</td><td>9</td><td>83</td></tr><tr><td>146</td><td>38</td><td>B follows A</td><td>604</td><td>9</td><td>83</td></tr><tr><td>38</td><td>152</td><td>A follows B</td><td>598</td><td>233</td><td>37</td></tr><tr><td>152</td><td>38</td><td>A follows B</td><td>598</td><td>233</td><td>37</td></tr><tr><td>38</td><td>157</td><td>A follows B</td><td>687</td><td>65</td><td>131</td></tr><tr><td>157</td><td>38</td><td>A follows B</td><td>687</td><td>65</td><td>131</td></tr><tr><td>38</td><td>159</td><td>B follows A</td><td>146</td><td>156</td><td>82</td></tr><tr><td>159</td><td>38</td><td>B follows A</td><td>146</td><td>156</td><td>82</td></tr><tr><td>38</td><td>162</td><td>B follows A</td><td>575</td><td>265</td><td>36</td></tr><tr><td>162</td><td>38</td><td>B follows A</td><td>575</td><td>265</td><td>36</td></tr><tr><td>38</td><td>165</td><td>B follows A</td><td>383</td><td>37</td><td>84</td></tr><tr><td>165</td><td>38</td><td>B follows A</td><td>383</td><td>37</td><td>84</td></tr><tr><td>38</td><td>173</td><td>B follows A</td><td>666</td><td>194</td><td>37</td></tr><tr><td>173</td><td>38</td><td>B follows A</td><td>666</td><td>194</td><td>37</td></tr><tr><td>38</td><td>181</td><td>B follows A</td><td>595</td><td>45</td><td>27</td></tr><tr><td>181</td><td>38</td><td>B follows A</td><td>595</td><td>45</td><td>27</td></tr><tr><td>38</td><td>182</td><td>B follows A</td><td>436</td><td>27</td><td>46</td></tr><tr><td>182</td><td>38</td><td>B follows A</td><td>436</td><td>27</td><td>46</td></tr><tr><td>38</td><td>190</td><td>B follows A</td><td>28</td><td>271</td><td>74</td></tr><tr><td>190</td><td>38</td><td>B follows A</td><td>28</td><td>271</td><td>74</td></tr><tr><td>38</td><td>201</td><td>B follows A</td><td>63</td><td>117</td><td>72</td></tr><tr><td>201</td><td>38</td><td>B follows A</td><td>63</td><td>117</td><td>72</td></tr><tr><td>38</td><td>210</td><td>B follows A</td><td>299</td><td>253</td><td>72</td></tr><tr><td>210</td><td>38</td><td>B follows A</td><td>299</td><td>253</td><td>72</td></tr><tr><td>38</td><td>215</td><td>B follows A</td><td>605</td><td>171</td><td>9</td></tr><tr><td>215</td><td>38</td><td>B follows A</td><td>605</td><td>171</td><td>9</td></tr><tr><td>38</td><td>223</td><td>B follows A</td><td>485</td><td>215</td><td>53</td></tr><tr><td>223</td><td>38</td><td>B follows A</td><td>485</td><td>215</td><td>53</td></tr><tr><td>38</td><td>231</td><td>B follows A</td><td>129</td><td>18</td><td>18</td></tr><tr><td>231</td><td>38</td><td>B follows A</td><td>129</td><td>18</td><td>18</td></tr><tr><td>38</td><td>242</td><td>B follows A</td><td>726</td><td>55</td><td>9</td></tr><tr><td>242</td><td>38</td><td>B follows A</td><td>726</td><td>55</td><td>9</td></tr><tr><td>38</td><td>243</td><td>A and B follow each other</td><td>673</td><td>134</td><td>36</td></tr><tr><td>243</td><td>38</td><td>A and B follow each other</td><td>673</td><td>134</td><td>36</td></tr><tr><td>39</td><td>99</td><td>B follows A</td><td>10</td><td>0</td><td>0</td></tr><tr><td>99</td><td>39</td><td>B follows A</td><td>10</td><td>0</td><td>0</td></tr><tr><td>39</td><td>119</td><td>B follows A</td><td>349</td><td>184</td><td>58</td></tr><tr><td>119</td><td>39</td><td>B follows A</td><td>349</td><td>184</td><td>58</td></tr><tr><td>39</td><td>162</td><td>A follows B</td><td>11</td><td>0</td><td>2</td></tr><tr><td>162</td><td>39</td><td>A follows B</td><td>11</td><td>0</td><td>2</td></tr><tr><td>42</td><td>212</td><td>A follows B</td><td>52</td><td>44</td><td>10</td></tr><tr><td>212</td><td>42</td><td>A follows B</td><td>52</td><td>44</td><td>10</td></tr><tr><td>44</td><td>55</td><td>B follows A</td><td>9</td><td>0</td><td>1</td></tr><tr><td>55</td><td>44</td><td>B follows A</td><td>9</td><td>0</td><td>1</td></tr><tr><td>44</td><td>89</td><td>B follows A</td><td>0</td><td>3</td><td>0</td></tr><tr><td>89</td><td>44</td><td>B follows A</td><td>0</td><td>3</td><td>0</td></tr><tr><td>49</td><td>115</td><td>A follows B</td><td>11</td><td>0</td><td>1</td></tr><tr><td>115</td><td>49</td><td>A follows B</td><td>11</td><td>0</td><td>1</td></tr><tr><td>49</td><td>189</td><td>A and B follow each other</td><td>11</td><td>1</td><td>4</td></tr><tr><td>189</td><td>49</td><td>A and B follow each other</td><td>11</td><td>1</td><td>4</td></tr><tr><td>50</td><td>58</td><td>B follows A</td><td>900</td><td>342</td><td>18</td></tr><tr><td>58</td><td>50</td><td>B follows A</td><td>900</td><td>342</td><td>18</td></tr><tr><td>50</td><td>75</td><td>A and B follow each other</td><td>920</td><td>487</td><td>108</td></tr><tr><td>75</td><td>50</td><td>A and B follow each other</td><td>920</td><td>487</td><td>108</td></tr><tr><td>50</td><td>87</td><td>B follows A</td><td>967</td><td>70</td><td>175</td></tr><tr><td>87</td><td>50</td><td>B follows A</td><td>967</td><td>70</td><td>175</td></tr><tr><td>50</td><td>89</td><td>B follows A</td><td>1161</td><td>52</td><td>123</td></tr><tr><td>89</td><td>50</td><td>B follows A</td><td>1161</td><td>52</td><td>123</td></tr><tr><td>50</td><td>93</td><td>B follows A</td><td>762</td><td>248</td><td>177</td></tr><tr><td>93</td><td>50</td><td>B follows A</td><td>762</td><td>248</td><td>177</td></tr><tr><td>50</td><td>106</td><td>B follows A</td><td>1056</td><td>88</td><td>123</td></tr><tr><td>106</td><td>50</td><td>B follows A</td><td>1056</td><td>88</td><td>123</td></tr><tr><td>50</td><td>110</td><td>B follows A</td><td>477</td><td>17</td><td>17</td></tr><tr><td>110</td><td>50</td><td>B follows A</td><td>477</td><td>17</td><td>17</td></tr><tr><td>50</td><td>113</td><td>B follows A</td><td>563</td><td>105</td><td>158</td></tr><tr><td>113</td><td>50</td><td>B follows A</td><td>563</td><td>105</td><td>158</td></tr><tr><td>50</td><td>116</td><td>B follows A</td><td>674</td><td>301</td><td>35</td></tr><tr><td>116</td><td>50</td><td>B follows A</td><td>674</td><td>301</td><td>35</td></tr><tr><td>50</td><td>134</td><td>B follows A</td><td>317</td><td>17</td><td>176</td></tr><tr><td>134</td><td>50</td><td>B follows A</td><td>317</td><td>17</td><td>176</td></tr><tr><td>50</td><td>143</td><td>B follows A</td><td>1090</td><td>140</td><td>70</td></tr><tr><td>143</td><td>50</td><td>B follows A</td><td>1090</td><td>140</td><td>70</td></tr><tr><td>50</td><td>153</td><td>B follows A</td><td>17</td><td>405</td><td>52</td></tr><tr><td>153</td><td>50</td><td>B follows A</td><td>17</td><td>405</td><td>52</td></tr><tr><td>50</td><td>160</td><td>B follows A</td><td>494</td><td>406</td><td>88</td></tr><tr><td>160</td><td>50</td><td>B follows A</td><td>494</td><td>406</td><td>88</td></tr><tr><td>50</td><td>166</td><td>B follows A</td><td>1127</td><td>17</td><td>52</td></tr><tr><td>166</td><td>50</td><td>B follows A</td><td>1127</td><td>17</td><td>52</td></tr><tr><td>50</td><td>197</td><td>A and B follow each other</td><td>824</td><td>91</td><td>45</td></tr><tr><td>197</td><td>50</td><td>A and B follow each other</td><td>824</td><td>91</td><td>45</td></tr><tr><td>50</td><td>205</td><td>B follows A</td><td>778</td><td>247</td><td>17</td></tr><tr><td>205</td><td>50</td><td>B follows A</td><td>778</td><td>247</td><td>17</td></tr><tr><td>50</td><td>209</td><td>B follows A</td><td>1267</td><td>35</td><td>176</td></tr><tr><td>209</td><td>50</td><td>B follows A</td><td>1267</td><td>35</td><td>176</td></tr><tr><td>50</td><td>228</td><td>B follows A</td><td>106</td><td>371</td><td>17</td></tr><tr><td>228</td><td>50</td><td>B follows A</td><td>106</td><td>371</td><td>17</td></tr><tr><td>50</td><td>237</td><td>B follows A</td><td>1309</td><td>300</td><td>70</td></tr><tr><td>237</td><td>50</td><td>B follows A</td><td>1309</td><td>300</td><td>70</td></tr><tr><td>50</td><td>238</td><td>B follows A</td><td>88</td><td>52</td><td>35</td></tr><tr><td>238</td><td>50</td><td>B follows A</td><td>88</td><td>52</td><td>35</td></tr><tr><td>50</td><td>243</td><td>A and B follow each other</td><td>584</td><td>166</td><td>41</td></tr><tr><td>243</td><td>50</td><td>A and B follow each other</td><td>584</td><td>166</td><td>41</td></tr><tr><td>50</td><td>245</td><td>B follows A</td><td>510</td><td>458</td><td>35</td></tr><tr><td>245</td><td>50</td><td>B follows A</td><td>510</td><td>458</td><td>35</td></tr><tr><td>52</td><td>177</td><td>A follows B</td><td>10</td><td>3</td><td>1</td></tr><tr><td>177</td><td>52</td><td>A follows B</td><td>10</td><td>3</td><td>1</td></tr><tr><td>52</td><td>233</td><td>A follows B</td><td>7</td><td>1</td><td>1</td></tr><tr><td>233</td><td>52</td><td>A follows B</td><td>7</td><td>1</td><td>1</td></tr><tr><td>53</td><td>159</td><td>B follows A</td><td>1</td><td>10</td><td>5</td></tr><tr><td>159</td><td>53</td><td>B follows A</td><td>1</td><td>10</td><td>5</td></tr><tr><td>53</td><td>215</td><td>A follows B</td><td>0</td><td>12</td><td>1</td></tr><tr><td>215</td><td>53</td><td>A follows B</td><td>0</td><td>12</td><td>1</td></tr><tr><td>53</td><td>237</td><td>B follows A</td><td>22</td><td>1</td><td>0</td></tr><tr><td>237</td><td>53</td><td>B follows A</td><td>22</td><td>1</td><td>0</td></tr><tr><td>55</td><td>126</td><td>A follows B</td><td>4</td><td>1</td><td>0</td></tr><tr><td>126</td><td>55</td><td>A follows B</td><td>4</td><td>1</td><td>0</td></tr><tr><td>60</td><td>223</td><td>B follows A</td><td>6</td><td>5</td><td>1</td></tr><tr><td>223</td><td>60</td><td>B follows A</td><td>6</td><td>5</td><td>1</td></tr><tr><td>63</td><td>95</td><td>B follows A</td><td>2</td><td>6</td><td>2</td></tr><tr><td>95</td><td>63</td><td>B follows A</td><td>2</td><td>6</td><td>2</td></tr><tr><td>64</td><td>213</td><td>A follows B</td><td>7</td><td>10</td><td>1</td></tr><tr><td>213</td><td>64</td><td>A follows B</td><td>7</td><td>10</td><td>1</td></tr><tr><td>67</td><td>187</td><td>B follows A</td><td>4</td><td>2</td><td>3</td></tr><tr><td>187</td><td>67</td><td>B follows A</td><td>4</td><td>2</td><td>3</td></tr><tr><td>70</td><td>91</td><td>A follows B</td><td>202</td><td>111</td><td>26</td></tr><tr><td>91</td><td>70</td><td>A follows B</td><td>202</td><td>111</td><td>26</td></tr><tr><td>70</td><td>115</td><td>B follows A</td><td>204</td><td>65</td><td>23</td></tr><tr><td>115</td><td>70</td><td>B follows A</td><td>204</td><td>65</td><td>23</td></tr><tr><td>70</td><td>159</td><td>B follows A</td><td>52</td><td>56</td><td>32</td></tr><tr><td>159</td><td>70</td><td>B follows A</td><td>52</td><td>56</td><td>32</td></tr><tr><td>70</td><td>162</td><td>B follows A</td><td>11</td><td>51</td><td>11</td></tr><tr><td>162</td><td>70</td><td>B follows A</td><td>11</td><td>51</td><td>11</td></tr><tr><td>70</td><td>165</td><td>B follows A</td><td>104</td><td>12</td><td>29</td></tr><tr><td>165</td><td>70</td><td>B follows A</td><td>104</td><td>12</td><td>29</td></tr><tr><td>70</td><td>209</td><td>A follows B</td><td>121</td><td>102</td><td>3</td></tr><tr><td>209</td><td>70</td><td>A follows B</td><td>121</td><td>102</td><td>3</td></tr><tr><td>70</td><td>231</td><td>B follows A</td><td>327</td><td>102</td><td>28</td></tr><tr><td>231</td><td>70</td><td>B follows A</td><td>327</td><td>102</td><td>28</td></tr><tr><td>71</td><td>107</td><td>B follows A</td><td>8</td><td>2</td><td>1</td></tr><tr><td>107</td><td>71</td><td>B follows A</td><td>8</td><td>2</td><td>1</td></tr><tr><td>71</td><td>169</td><td>B follows A</td><td>587</td><td>49</td><td>74</td></tr><tr><td>169</td><td>71</td><td>B follows A</td><td>587</td><td>49</td><td>74</td></tr><tr><td>73</td><td>114</td><td>A follows B</td><td>5</td><td>3</td><td>1</td></tr><tr><td>114</td><td>73</td><td>A follows B</td><td>5</td><td>3</td><td>1</td></tr><tr><td>76</td><td>236</td><td>A follows B</td><td>14</td><td>6</td><td>0</td></tr><tr><td>236</td><td>76</td><td>A follows B</td><td>14</td><td>6</td><td>0</td></tr><tr><td>77</td><td>178</td><td>A follows B</td><td>21</td><td>8</td><td>1</td></tr><tr><td>178</td><td>77</td><td>A follows B</td><td>21</td><td>8</td><td>1</td></tr><tr><td>80</td><td>141</td><td>B follows A</td><td>32</td><td>30</td><td>2</td></tr><tr><td>141</td><td>80</td><td>B follows A</td><td>32</td><td>30</td><td>2</td></tr><tr><td>80</td><td>194</td><td>B follows A</td><td>74</td><td>30</td><td>7</td></tr><tr><td>194</td><td>80</td><td>B follows A</td><td>74</td><td>30</td><td>7</td></tr><tr><td>80</td><td>232</td><td>A follows B</td><td>11</td><td>52</td><td>20</td></tr><tr><td>232</td><td>80</td><td>A follows B</td><td>11</td><td>52</td><td>20</td></tr><tr><td>81</td><td>210</td><td>B follows A</td><td>30</td><td>7</td><td>3</td></tr><tr><td>210</td><td>81</td><td>B follows A</td><td>30</td><td>7</td><td>3</td></tr><tr><td>83</td><td>195</td><td>A and B follow each other</td><td>334</td><td>230</td><td>47</td></tr><tr><td>195</td><td>83</td><td>A and B follow each other</td><td>334</td><td>230</td><td>47</td></tr><tr><td>84</td><td>90</td><td>A follows B</td><td>190</td><td>140</td><td>50</td></tr><tr><td>90</td><td>84</td><td>A follows B</td><td>190</td><td>140</td><td>50</td></tr><tr><td>84</td><td>105</td><td>B follows A</td><td>149</td><td>133</td><td>10</td></tr><tr><td>105</td><td>84</td><td>B follows A</td><td>149</td><td>133</td><td>10</td></tr><tr><td>84</td><td>130</td><td>B follows A</td><td>171</td><td>41</td><td>52</td></tr><tr><td>130</td><td>84</td><td>B follows A</td><td>171</td><td>41</td><td>52</td></tr><tr><td>84</td><td>153</td><td>B follows A</td><td>35</td><td>75</td><td>25</td></tr><tr><td>153</td><td>84</td><td>B follows A</td><td>35</td><td>75</td><td>25</td></tr><tr><td>84</td><td>156</td><td>A and B follow each other</td><td>610</td><td>396</td><td>148</td></tr><tr><td>156</td><td>84</td><td>A and B follow each other</td><td>610</td><td>396</td><td>148</td></tr><tr><td>84</td><td>160</td><td>B follows A</td><td>305</td><td>50</td><td>35</td></tr><tr><td>160</td><td>84</td><td>B follows A</td><td>305</td><td>50</td><td>35</td></tr><tr><td>84</td><td>184</td><td>A and B follow each other</td><td>645</td><td>149</td><td>111</td></tr><tr><td>184</td><td>84</td><td>A and B follow each other</td><td>645</td><td>149</td><td>111</td></tr><tr><td>84</td><td>185</td><td>A follows B</td><td>25</td><td>85</td><td>20</td></tr><tr><td>185</td><td>84</td><td>A follows B</td><td>25</td><td>85</td><td>20</td></tr><tr><td>84</td><td>218</td><td>A follows B</td><td>202</td><td>98</td><td>5</td></tr><tr><td>218</td><td>84</td><td>A follows B</td><td>202</td><td>98</td><td>5</td></tr><tr><td>84</td><td>220</td><td>B follows A</td><td>15</td><td>25</td><td>46</td></tr><tr><td>220</td><td>84</td><td>B follows A</td><td>15</td><td>25</td><td>46</td></tr><tr><td>84</td><td>226</td><td>B follows A</td><td>233</td><td>98</td><td>46</td></tr><tr><td>226</td><td>84</td><td>B follows A</td><td>233</td><td>98</td><td>46</td></tr><tr><td>84</td><td>226</td><td>A follows B</td><td>357</td><td>15</td><td>25</td></tr><tr><td>226</td><td>84</td><td>A follows B</td><td>357</td><td>15</td><td>25</td></tr><tr><td>84</td><td>228</td><td>B follows A</td><td>244</td><td>102</td><td>10</td></tr><tr><td>228</td><td>84</td><td>B follows A</td><td>244</td><td>102</td><td>10</td></tr><tr><td>84</td><td>238</td><td>B follows A</td><td>322</td><td>15</td><td>5</td></tr><tr><td>238</td><td>84</td><td>B follows A</td><td>322</td><td>15</td><td>5</td></tr><tr><td>84</td><td>242</td><td>A follows B</td><td>162</td><td>26</td><td>15</td></tr><tr><td>242</td><td>84</td><td>A follows B</td><td>162</td><td>26</td><td>15</td></tr><tr><td>86</td><td>88</td><td>B follows A</td><td>194</td><td>68</td><td>34</td></tr><tr><td>88</td><td>86</td><td>B follows A</td><td>194</td><td>68</td><td>34</td></tr><tr><td>86</td><td>94</td><td>B follows A</td><td>15</td><td>5</td><td>0</td></tr><tr><td>94</td><td>86</td><td>B follows A</td><td>15</td><td>5</td><td>0</td></tr><tr><td>86</td><td>123</td><td>B follows A</td><td>3</td><td>8</td><td>1</td></tr><tr><td>123</td><td>86</td><td>B follows A</td><td>3</td><td>8</td><td>1</td></tr><tr><td>86</td><td>128</td><td>B follows A</td><td>4</td><td>1</td><td>0</td></tr><tr><td>128</td><td>86</td><td>B follows A</td><td>4</td><td>1</td><td>0</td></tr><tr><td>86</td><td>136</td><td>B follows A</td><td>9</td><td>1</td><td>1</td></tr><tr><td>136</td><td>86</td><td>B follows A</td><td>9</td><td>1</td><td>1</td></tr><tr><td>86</td><td>154</td><td>B follows A</td><td>4</td><td>4</td><td>1</td></tr><tr><td>154</td><td>86</td><td>B follows A</td><td>4</td><td>4</td><td>1</td></tr><tr><td>86</td><td>162</td><td>B follows A</td><td>8</td><td>3</td><td>1</td></tr><tr><td>162</td><td>86</td><td>B follows A</td><td>8</td><td>3</td><td>1</td></tr><tr><td>86</td><td>166</td><td>A follows B</td><td>2</td><td>0</td><td>1</td></tr><tr><td>166</td><td>86</td><td>A follows B</td><td>2</td><td>0</td><td>1</td></tr><tr><td>86</td><td>187</td><td>B follows A</td><td>17</td><td>9</td><td>3</td></tr><tr><td>187</td><td>86</td><td>B follows A</td><td>17</td><td>9</td><td>3</td></tr><tr><td>86</td><td>190</td><td>A follows B</td><td>21</td><td>10</td><td>1</td></tr><tr><td>190</td><td>86</td><td>A follows B</td><td>21</td><td>10</td><td>1</td></tr><tr><td>86</td><td>198</td><td>B follows A</td><td>12</td><td>3</td><td>0</td></tr><tr><td>198</td><td>86</td><td>B follows A</td><td>12</td><td>3</td><td>0</td></tr><tr><td>86</td><td>212</td><td>A and B follow each other</td><td>103</td><td>41</td><td>10</td></tr><tr><td>212</td><td>86</td><td>A and B follow each other</td><td>103</td><td>41</td><td>10</td></tr><tr><td>86</td><td>229</td><td>B follows A</td><td>9</td><td>15</td><td>2</td></tr><tr><td>229</td><td>86</td><td>B follows A</td><td>9</td><td>15</td><td>2</td></tr><tr><td>88</td><td>97</td><td>B follows A</td><td>770</td><td>52</td><td>52</td></tr><tr><td>97</td><td>88</td><td>B follows A</td><td>770</td><td>52</td><td>52</td></tr><tr><td>88</td><td>123</td><td>A follows B</td><td>198</td><td>39</td><td>18</td></tr><tr><td>123</td><td>88</td><td>A follows B</td><td>198</td><td>39</td><td>18</td></tr><tr><td>88</td><td>134</td><td>B follows A</td><td>187</td><td>16</td><td>10</td></tr><tr><td>134</td><td>88</td><td>B follows A</td><td>187</td><td>16</td><td>10</td></tr><tr><td>88</td><td>140</td><td>A follows B</td><td>110</td><td>71</td><td>17</td></tr><tr><td>140</td><td>88</td><td>A follows B</td><td>110</td><td>71</td><td>17</td></tr><tr><td>88</td><td>164</td><td>B follows A</td><td>108</td><td>48</td><td>31</td></tr><tr><td>164</td><td>88</td><td>B follows A</td><td>108</td><td>48</td><td>31</td></tr><tr><td>88</td><td>227</td><td>A follows B</td><td>136</td><td>13</td><td>20</td></tr><tr><td>227</td><td>88</td><td>A follows B</td><td>136</td><td>13</td><td>20</td></tr><tr><td>89</td><td>218</td><td>A follows B</td><td>5</td><td>4</td><td>1</td></tr><tr><td>218</td><td>89</td><td>A follows B</td><td>5</td><td>4</td><td>1</td></tr><tr><td>95</td><td>196</td><td>B follows A</td><td>2</td><td>0</td><td>0</td></tr><tr><td>196</td><td>95</td><td>B follows A</td><td>2</td><td>0</td><td>0</td></tr><tr><td>97</td><td>115</td><td>B follows A</td><td>189</td><td>197</td><td>14</td></tr><tr><td>115</td><td>97</td><td>B follows A</td><td>189</td><td>197</td><td>14</td></tr><tr><td>97</td><td>159</td><td>A follows B</td><td>89</td><td>216</td><td>22</td></tr><tr><td>159</td><td>97</td><td>A follows B</td><td>89</td><td>216</td><td>22</td></tr><tr><td>97</td><td>181</td><td>B follows A</td><td>226</td><td>94</td><td>36</td></tr><tr><td>181</td><td>97</td><td>B follows A</td><td>226</td><td>94</td><td>36</td></tr><tr><td>97</td><td>193</td><td>A and B follow each other</td><td>365</td><td>166</td><td>11</td></tr><tr><td>193</td><td>97</td><td>A and B follow each other</td><td>365</td><td>166</td><td>11</td></tr><tr><td>97</td><td>196</td><td>A follows B</td><td>211</td><td>87</td><td>21</td></tr><tr><td>196</td><td>97</td><td>A follows B</td><td>211</td><td>87</td><td>21</td></tr><tr><td>97</td><td>197</td><td>A and B follow each other</td><td>313</td><td>75</td><td>50</td></tr><tr><td>197</td><td>97</td><td>A and B follow each other</td><td>313</td><td>75</td><td>50</td></tr><tr><td>97</td><td>201</td><td>B follows A</td><td>160</td><td>7</td><td>7</td></tr><tr><td>201</td><td>97</td><td>B follows A</td><td>160</td><td>7</td><td>7</td></tr><tr><td>97</td><td>231</td><td>A follows B</td><td>37</td><td>203</td><td>75</td></tr><tr><td>231</td><td>97</td><td>A follows B</td><td>37</td><td>203</td><td>75</td></tr><tr><td>97</td><td>232</td><td>B follows A</td><td>92</td><td>9</td><td>46</td></tr><tr><td>232</td><td>97</td><td>B follows A</td><td>92</td><td>9</td><td>46</td></tr><tr><td>100</td><td>117</td><td>B follows A</td><td>17</td><td>16</td><td>2</td></tr><tr><td>117</td><td>100</td><td>B follows A</td><td>17</td><td>16</td><td>2</td></tr><tr><td>100</td><td>138</td><td>B follows A</td><td>2</td><td>6</td><td>1</td></tr><tr><td>138</td><td>100</td><td>B follows A</td><td>2</td><td>6</td><td>1</td></tr><tr><td>105</td><td>235</td><td>A follows B</td><td>12</td><td>6</td><td>1</td></tr><tr><td>235</td><td>105</td><td>A follows B</td><td>12</td><td>6</td><td>1</td></tr><tr><td>108</td><td>133</td><td>A follows B</td><td>50</td><td>8</td><td>3</td></tr><tr><td>133</td><td>108</td><td>A follows B</td><td>50</td><td>8</td><td>3</td></tr><tr><td>110</td><td>185</td><td>A follows B</td><td>3</td><td>3</td><td>0</td></tr><tr><td>185</td><td>110</td><td>A follows B</td><td>3</td><td>3</td><td>0</td></tr><tr><td>111</td><td>195</td><td>A and B follow each other</td><td>105</td><td>24</td><td>56</td></tr><tr><td>195</td><td>111</td><td>A and B follow each other</td><td>105</td><td>24</td><td>56</td></tr><tr><td>111</td><td>244</td><td>B follows A</td><td>22</td><td>11</td><td>2</td></tr><tr><td>244</td><td>111</td><td>B follows A</td><td>22</td><td>11</td><td>2</td></tr><tr><td>112</td><td>231</td><td>B follows A</td><td>4</td><td>5</td><td>2</td></tr><tr><td>231</td><td>112</td><td>B follows A</td><td>4</td><td>5</td><td>2</td></tr><tr><td>114</td><td>121</td><td>A follows B</td><td>40</td><td>16</td><td>2</td></tr><tr><td>121</td><td>114</td><td>A follows B</td><td>40</td><td>16</td><td>2</td></tr><tr><td>116</td><td>184</td><td>A and B follow each other</td><td>303</td><td>37</td><td>60</td></tr><tr><td>184</td><td>116</td><td>A and B follow each other</td><td>303</td><td>37</td><td>60</td></tr><tr><td>116</td><td>185</td><td>B follows A</td><td>8</td><td>4</td><td>0</td></tr><tr><td>185</td><td>116</td><td>B follows A</td><td>8</td><td>4</td><td>0</td></tr><tr><td>119</td><td>126</td><td>B follows A</td><td>96</td><td>231</td><td>67</td></tr><tr><td>126</td><td>119</td><td>B follows A</td><td>96</td><td>231</td><td>67</td></tr><tr><td>119</td><td>131</td><td>B follows A</td><td>579</td><td>38</td><td>38</td></tr><tr><td>131</td><td>119</td><td>B follows A</td><td>579</td><td>38</td><td>38</td></tr><tr><td>119</td><td>138</td><td>B follows A</td><td>279</td><td>19</td><td>19</td></tr><tr><td>138</td><td>119</td><td>B follows A</td><td>279</td><td>19</td><td>19</td></tr><tr><td>119</td><td>156</td><td>A and B follow each other</td><td>844</td><td>63</td><td>42</td></tr><tr><td>156</td><td>119</td><td>A and B follow each other</td><td>844</td><td>63</td><td>42</td></tr><tr><td>119</td><td>177</td><td>A follows B</td><td>726</td><td>203</td><td>58</td></tr><tr><td>177</td><td>119</td><td>A follows B</td><td>726</td><td>203</td><td>58</td></tr><tr><td>119</td><td>178</td><td>B follows A</td><td>588</td><td>38</td><td>19</td></tr><tr><td>178</td><td>119</td><td>B follows A</td><td>588</td><td>38</td><td>19</td></tr><tr><td>119</td><td>189</td><td>B follows A</td><td>49</td><td>259</td><td>79</td></tr><tr><td>189</td><td>119</td><td>B follows A</td><td>49</td><td>259</td><td>79</td></tr><tr><td>119</td><td>197</td><td>A and B follow each other</td><td>820</td><td>432</td><td>104</td></tr><tr><td>197</td><td>119</td><td>A and B follow each other</td><td>820</td><td>432</td><td>104</td></tr><tr><td>119</td><td>204</td><td>A follows B</td><td>117</td><td>156</td><td>48</td></tr><tr><td>204</td><td>119</td><td>A follows B</td><td>117</td><td>156</td><td>48</td></tr><tr><td>119</td><td>206</td><td>B follows A</td><td>726</td><td>166</td><td>39</td></tr><tr><td>206</td><td>119</td><td>B follows A</td><td>726</td><td>166</td><td>39</td></tr><tr><td>119</td><td>208</td><td>A and B follow each other</td><td>384</td><td>115</td><td>38</td></tr><tr><td>208</td><td>119</td><td>A and B follow each other</td><td>384</td><td>115</td><td>38</td></tr><tr><td>120</td><td>191</td><td>A follows B</td><td>508</td><td>164</td><td>74</td></tr><tr><td>191</td><td>120</td><td>A follows B</td><td>508</td><td>164</td><td>74</td></tr><tr><td>120</td><td>192</td><td>A and B follow each other</td><td>458</td><td>65</td><td>29</td></tr><tr><td>192</td><td>120</td><td>A and B follow each other</td><td>458</td><td>65</td><td>29</td></tr><tr><td>120</td><td>225</td><td>A and B follow each other</td><td>456</td><td>234</td><td>13</td></tr><tr><td>225</td><td>120</td><td>A and B follow each other</td><td>456</td><td>234</td><td>13</td></tr><tr><td>120</td><td>230</td><td>B follows A</td><td>93</td><td>28</td><td>50</td></tr><tr><td>230</td><td>120</td><td>B follows A</td><td>93</td><td>28</td><td>50</td></tr><tr><td>120</td><td>246</td><td>B follows A</td><td>70</td><td>28</td><td>56</td></tr><tr><td>246</td><td>120</td><td>B follows A</td><td>70</td><td>28</td><td>56</td></tr><tr><td>129</td><td>133</td><td>A follows B</td><td>39</td><td>74</td><td>11</td></tr><tr><td>133</td><td>129</td><td>A follows B</td><td>39</td><td>74</td><td>11</td></tr><tr><td>129</td><td>142</td><td>B follows A</td><td>119</td><td>20</td><td>6</td></tr><tr><td>142</td><td>129</td><td>B follows A</td><td>119</td><td>20</td><td>6</td></tr><tr><td>129</td><td>156</td><td>A and B follow each other</td><td>565</td><td>446</td><td>89</td></tr><tr><td>156</td><td>129</td><td>A and B follow each other</td><td>565</td><td>446</td><td>89</td></tr><tr><td>129</td><td>158</td><td>B follows A</td><td>39</td><td>46</td><td>10</td></tr><tr><td>158</td><td>129</td><td>B follows A</td><td>39</td><td>46</td><td>10</td></tr><tr><td>129</td><td>159</td><td>B follows A</td><td>144</td><td>54</td><td>10</td></tr><tr><td>159</td><td>129</td><td>B follows A</td><td>144</td><td>54</td><td>10</td></tr><tr><td>129</td><td>163</td><td>A and B follow each other</td><td>42</td><td>142</td><td>85</td></tr><tr><td>163</td><td>129</td><td>A and B follow each other</td><td>42</td><td>142</td><td>85</td></tr><tr><td>129</td><td>179</td><td>B follows A</td><td>256</td><td>7</td><td>28</td></tr><tr><td>179</td><td>129</td><td>B follows A</td><td>256</td><td>7</td><td>28</td></tr><tr><td>129</td><td>214</td><td>B follows A</td><td>222</td><td>68</td><td>32</td></tr><tr><td>214</td><td>129</td><td>B follows A</td><td>222</td><td>68</td><td>32</td></tr><tr><td>129</td><td>223</td><td>B follows A</td><td>20</td><td>61</td><td>20</td></tr><tr><td>223</td><td>129</td><td>B follows A</td><td>20</td><td>61</td><td>20</td></tr><tr><td>130</td><td>220</td><td>B follows A</td><td>3</td><td>6</td><td>1</td></tr><tr><td>220</td><td>130</td><td>B follows A</td><td>3</td><td>6</td><td>1</td></tr><tr><td>133</td><td>172</td><td>B follows A</td><td>40</td><td>3</td><td>3</td></tr><tr><td>172</td><td>133</td><td>B follows A</td><td>40</td><td>3</td><td>3</td></tr><tr><td>142</td><td>158</td><td>A follows B</td><td>1</td><td>1</td><td>0</td></tr><tr><td>158</td><td>142</td><td>A follows B</td><td>1</td><td>1</td><td>0</td></tr><tr><td>142</td><td>223</td><td>B follows A</td><td>1</td><td>0</td><td>0</td></tr><tr><td>223</td><td>142</td><td>B follows A</td><td>1</td><td>0</td><td>0</td></tr><tr><td>144</td><td>159</td><td>B follows A</td><td>27</td><td>83</td><td>9</td></tr><tr><td>159</td><td>144</td><td>B follows A</td><td>27</td><td>83</td><td>9</td></tr><tr><td>144</td><td>162</td><td>B follows A</td><td>712</td><td>101</td><td>92</td></tr><tr><td>162</td><td>144</td><td>B follows A</td><td>712</td><td>101</td><td>92</td></tr><tr><td>144</td><td>173</td><td>B follows A</td><td>140</td><td>74</td><td>84</td></tr><tr><td>173</td><td>144</td><td>B follows A</td><td>140</td><td>74</td><td>84</td></tr><tr><td>144</td><td>176</td><td>B follows A</td><td>575</td><td>265</td><td>63</td></tr><tr><td>176</td><td>144</td><td>B follows A</td><td>575</td><td>265</td><td>63</td></tr><tr><td>144</td><td>182</td><td>B follows A</td><td>450</td><td>56</td><td>65</td></tr><tr><td>182</td><td>144</td><td>B follows A</td><td>450</td><td>56</td><td>65</td></tr><tr><td>144</td><td>193</td><td>A and B follow each other</td><td>722</td><td>296</td><td>77</td></tr><tr><td>193</td><td>144</td><td>A and B follow each other</td><td>722</td><td>296</td><td>77</td></tr><tr><td>144</td><td>196</td><td>B follows A</td><td>429</td><td>63</td><td>45</td></tr><tr><td>196</td><td>144</td><td>B follows A</td><td>429</td><td>63</td><td>45</td></tr><tr><td>144</td><td>198</td><td>B follows A</td><td>356</td><td>91</td><td>18</td></tr><tr><td>198</td><td>144</td><td>B follows A</td><td>356</td><td>91</td><td>18</td></tr><tr><td>144</td><td>201</td><td>B follows A</td><td>327</td><td>100</td><td>36</td></tr><tr><td>201</td><td>144</td><td>B follows A</td><td>327</td><td>100</td><td>36</td></tr><tr><td>144</td><td>215</td><td>B follows A</td><td>155</td><td>237</td><td>45</td></tr><tr><td>215</td><td>144</td><td>B follows A</td><td>155</td><td>237</td><td>45</td></tr><tr><td>144</td><td>232</td><td>A follows B</td><td>530</td><td>44</td><td>99</td></tr><tr><td>232</td><td>144</td><td>A follows B</td><td>530</td><td>44</td><td>99</td></tr><tr><td>144</td><td>239</td><td>B follows A</td><td>131</td><td>103</td><td>56</td></tr><tr><td>239</td><td>144</td><td>B follows A</td><td>131</td><td>103</td><td>56</td></tr><tr><td>144</td><td>241</td><td>B follows A</td><td>203</td><td>157</td><td>92</td></tr><tr><td>241</td><td>144</td><td>B follows A</td><td>203</td><td>157</td><td>92</td></tr><tr><td>147</td><td>150</td><td>A and B follow each other</td><td>619</td><td>383</td><td>14</td></tr><tr><td>150</td><td>147</td><td>A and B follow each other</td><td>619</td><td>383</td><td>14</td></tr><tr><td>147</td><td>151</td><td>A follows B</td><td>391</td><td>232</td><td>95</td></tr><tr><td>151</td><td>147</td><td>A follows B</td><td>391</td><td>232</td><td>95</td></tr><tr><td>147</td><td>157</td><td>A and B follow each other</td><td>211</td><td>17</td><td>35</td></tr><tr><td>157</td><td>147</td><td>A and B follow each other</td><td>211</td><td>17</td><td>35</td></tr><tr><td>147</td><td>157</td><td>B follows A</td><td>845</td><td>316</td><td>105</td></tr><tr><td>157</td><td>147</td><td>B follows A</td><td>845</td><td>316</td><td>105</td></tr><tr><td>147</td><td>170</td><td>B follows A</td><td>51</td><td>113</td><td>10</td></tr><tr><td>170</td><td>147</td><td>B follows A</td><td>51</td><td>113</td><td>10</td></tr><tr><td>147</td><td>181</td><td>B follows A</td><td>809</td><td>30</td><td>10</td></tr><tr><td>181</td><td>147</td><td>B follows A</td><td>809</td><td>30</td><td>10</td></tr><tr><td>147</td><td>195</td><td>A follows B</td><td>865</td><td>144</td><td>36</td></tr><tr><td>195</td><td>147</td><td>A follows B</td><td>865</td><td>144</td><td>36</td></tr><tr><td>147</td><td>202</td><td>A follows B</td><td>782</td><td>164</td><td>61</td></tr><tr><td>202</td><td>147</td><td>A follows B</td><td>782</td><td>164</td><td>61</td></tr><tr><td>147</td><td>204</td><td>A follows B</td><td>445</td><td>72</td><td>20</td></tr><tr><td>204</td><td>147</td><td>A follows B</td><td>445</td><td>72</td><td>20</td></tr><tr><td>147</td><td>206</td><td>B follows A</td><td>52</td><td>260</td><td>83</td></tr><tr><td>206</td><td>147</td><td>B follows A</td><td>52</td><td>260</td><td>83</td></tr><tr><td>147</td><td>224</td><td>A follows B</td><td>92</td><td>184</td><td>61</td></tr><tr><td>224</td><td>147</td><td>A follows B</td><td>92</td><td>184</td><td>61</td></tr><tr><td>147</td><td>228</td><td>B follows A</td><td>288</td><td>185</td><td>102</td></tr><tr><td>228</td><td>147</td><td>B follows A</td><td>288</td><td>185</td><td>102</td></tr><tr><td>147</td><td>229</td><td>B follows A</td><td>789</td><td>117</td><td>96</td></tr><tr><td>229</td><td>147</td><td>B follows A</td><td>789</td><td>117</td><td>96</td></tr><tr><td>147</td><td>229</td><td>B follows A</td><td>672</td><td>106</td><td>42</td></tr><tr><td>229</td><td>147</td><td>B follows A</td><td>672</td><td>106</td><td>42</td></tr><tr><td>147</td><td>233</td><td>A follows B</td><td>61</td><td>40</td><td>10</td></tr><tr><td>233</td><td>147</td><td>A follows B</td><td>61</td><td>40</td><td>10</td></tr><tr><td>147</td><td>237</td><td>A follows B</td><td>216</td><td>195</td><td>41</td></tr><tr><td>237</td><td>147</td><td>A follows B</td><td>216</td><td>195</td><td>41</td></tr><tr><td>147</td><td>240</td><td>B follows A</td><td>317</td><td>40</td><td>92</td></tr><tr><td>240</td><td>147</td><td>B follows A</td><td>317</td><td>40</td><td>92</td></tr><tr><td>147</td><td>249</td><td>B follows A</td><td>551</td><td>81</td><td>102</td></tr><tr><td>249</td><td>147</td><td>B follows A</td><td>551</td><td>81</td><td>102</td></tr><tr><td>150</td><td>155</td><td>B follows A</td><td>299</td><td>71</td><td>47</td></tr><tr><td>155</td><td>150</td><td>B follows A</td><td>299</td><td>71</td><td>47</td></tr><tr><td>150</td><td>187</td><td>B follows A</td><td>318</td><td>4</td><td>4</td></tr><tr><td>187</td><td>150</td><td>B follows A</td><td>318</td><td>4</td><td>4</td></tr><tr><td>150</td><td>202</td><td>A and B follow each other</td><td>56</td><td>46</td><td>42</td></tr><tr><td>202</td><td>150</td><td>A and B follow each other</td><td>56</td><td>46</td><td>42</td></tr><tr><td>150</td><td>204</td><td>B follows A</td><td>331</td><td>109</td><td>47</td></tr><tr><td>204</td><td>150</td><td>B follows A</td><td>331</td><td>109</td><td>47</td></tr><tr><td>150</td><td>224</td><td>B follows A</td><td>366</td><td>116</td><td>18</td></tr><tr><td>224</td><td>150</td><td>B follows A</td><td>366</td><td>116</td><td>18</td></tr><tr><td>150</td><td>233</td><td>A and B follow each other</td><td>243</td><td>119</td><td>46</td></tr><tr><td>233</td><td>150</td><td>A and B follow each other</td><td>243</td><td>119</td><td>46</td></tr><tr><td>150</td><td>237</td><td>B follows A</td><td>304</td><td>9</td><td>9</td></tr><tr><td>237</td><td>150</td><td>B follows A</td><td>304</td><td>9</td><td>9</td></tr><tr><td>150</td><td>239</td><td>B follows A</td><td>245</td><td>102</td><td>49</td></tr><tr><td>239</td><td>150</td><td>B follows A</td><td>245</td><td>102</td><td>49</td></tr><tr><td>150</td><td>240</td><td>B follows A</td><td>36</td><td>73</td><td>41</td></tr><tr><td>240</td><td>150</td><td>B follows A</td><td>36</td><td>73</td><td>41</td></tr><tr><td>150</td><td>249</td><td>B follows A</td><td>298</td><td>59</td><td>45</td></tr><tr><td>249</td><td>150</td><td>B follows A</td><td>298</td><td>59</td><td>45</td></tr><tr><td>156</td><td>171</td><td>A and B follow each other</td><td>1507</td><td>371</td><td>82</td></tr><tr><td>171</td><td>156</td><td>A and B follow each other</td><td>1507</td><td>371</td><td>82</td></tr><tr><td>156</td><td>175</td><td>B follows A</td><td>405</td><td>162</td><td>23</td></tr><tr><td>175</td><td>156</td><td>B follows A</td><td>405</td><td>162</td><td>23</td></tr><tr><td>156</td><td>187</td><td>B follows A</td><td>293</td><td>199</td><td>11</td></tr><tr><td>187</td><td>156</td><td>B follows A</td><td>293</td><td>199</td><td>11</td></tr><tr><td>156</td><td>195</td><td>A and B follow each other</td><td>890</td><td>232</td><td>154</td></tr><tr><td>195</td><td>156</td><td>A and B follow each other</td><td>890</td><td>232</td><td>154</td></tr><tr><td>156</td><td>198</td><td>B follows A</td><td>914</td><td>185</td><td>11</td></tr><tr><td>198</td><td>156</td><td>B follows A</td><td>914</td><td>185</td><td>11</td></tr><tr><td>156</td><td>206</td><td>B follows A</td><td>573</td><td>152</td><td>46</td></tr><tr><td>206</td><td>156</td><td>B follows A</td><td>573</td><td>152</td><td>46</td></tr><tr><td>156</td><td>210</td><td>B follows A</td><td>69</td><td>232</td><td>92</td></tr><tr><td>210</td><td>156</td><td>B follows A</td><td>69</td><td>232</td><td>92</td></tr><tr><td>156</td><td>222</td><td>B follows A</td><td>856</td><td>58</td><td>23</td></tr><tr><td>222</td><td>156</td><td>B follows A</td><td>856</td><td>58</td><td>23</td></tr><tr><td>156</td><td>247</td><td>A and B follow each other</td><td>614</td><td>353</td><td>52</td></tr><tr><td>247</td><td>156</td><td>A and B follow each other</td><td>614</td><td>353</td><td>52</td></tr><tr><td>157</td><td>162</td><td>B follows A</td><td>448</td><td>53</td><td>30</td></tr><tr><td>162</td><td>157</td><td>B follows A</td><td>448</td><td>53</td><td>30</td></tr><tr><td>157</td><td>167</td><td>A follows B</td><td>426</td><td>202</td><td>74</td></tr><tr><td>167</td><td>157</td><td>A follows B</td><td>426</td><td>202</td><td>74</td></tr><tr><td>157</td><td>170</td><td>B follows A</td><td>180</td><td>135</td><td>37</td></tr><tr><td>170</td><td>157</td><td>B follows A</td><td>180</td><td>135</td><td>37</td></tr><tr><td>157</td><td>187</td><td>A follows B</td><td>544</td><td>92</td><td>76</td></tr><tr><td>187</td><td>157</td><td>A follows B</td><td>544</td><td>92</td><td>76</td></tr><tr><td>157</td><td>196</td><td>B follows A</td><td>381</td><td>142</td><td>59</td></tr><tr><td>196</td><td>157</td><td>B follows A</td><td>381</td><td>142</td><td>59</td></tr><tr><td>157</td><td>229</td><td>A follows B</td><td>39</td><td>31</td><td>23</td></tr><tr><td>229</td><td>157</td><td>A follows B</td><td>39</td><td>31</td><td>23</td></tr><tr><td>157</td><td>230</td><td>A follows B</td><td>281</td><td>106</td><td>53</td></tr><tr><td>230</td><td>157</td><td>A follows B</td><td>281</td><td>106</td><td>53</td></tr><tr><td>157</td><td>236</td><td>B follows A</td><td>380</td><td>67</td><td>29</td></tr><tr><td>236</td><td>157</td><td>B follows A</td><td>380</td><td>67</td><td>29</td></tr><tr><td>157</td><td>237</td><td>B follows A</td><td>587</td><td>97</td><td>15</td></tr><tr><td>237</td><td>157</td><td>B follows A</td><td>587</td><td>97</td><td>15</td></tr><tr><td>157</td><td>239</td><td>A follows B</td><td>527</td><td>124</td><td>62</td></tr><tr><td>239</td><td>157</td><td>A follows B</td><td>527</td><td>124</td><td>62</td></tr><tr><td>157</td><td>249</td><td>B follows A</td><td>238</td><td>148</td><td>52</td></tr><tr><td>249</td><td>157</td><td>B follows A</td><td>238</td><td>148</td><td>52</td></tr><tr><td>158</td><td>188</td><td>B follows A</td><td>2</td><td>4</td><td>1</td></tr><tr><td>188</td><td>158</td><td>B follows A</td><td>2</td><td>4</td><td>1</td></tr><tr><td>159</td><td>172</td><td>A follows B</td><td>4</td><td>0</td><td>0</td></tr><tr><td>172</td><td>159</td><td>A follows B</td><td>4</td><td>0</td><td>0</td></tr><tr><td>160</td><td>245</td><td>A follows B</td><td>1</td><td>2</td><td>0</td></tr><tr><td>245</td><td>160</td><td>A follows B</td><td>1</td><td>2</td><td>0</td></tr><tr><td>163</td><td>168</td><td>B follows A</td><td>807</td><td>272</td><td>21</td></tr><tr><td>168</td><td>163</td><td>B follows A</td><td>807</td><td>272</td><td>21</td></tr><tr><td>163</td><td>186</td><td>B follows A</td><td>595</td><td>270</td><td>54</td></tr><tr><td>186</td><td>163</td><td>B follows A</td><td>595</td><td>270</td><td>54</td></tr><tr><td>163</td><td>207</td><td>B follows A</td><td>255</td><td>255</td><td>89</td></tr><tr><td>207</td><td>163</td><td>B follows A</td><td>255</td><td>255</td><td>89</td></tr><tr><td>163</td><td>216</td><td>B follows A</td><td>213</td><td>78</td><td>22</td></tr><tr><td>216</td><td>163</td><td>B follows A</td><td>213</td><td>78</td><td>22</td></tr><tr><td>169</td><td>183</td><td>A follows B</td><td>537</td><td>89</td><td>8</td></tr><tr><td>183</td><td>169</td><td>A follows B</td><td>537</td><td>89</td><td>8</td></tr><tr><td>169</td><td>213</td><td>A follows B</td><td>388</td><td>84</td><td>33</td></tr><tr><td>213</td><td>169</td><td>A follows B</td><td>388</td><td>84</td><td>33</td></tr><tr><td>171</td><td>175</td><td>B follows A</td><td>692</td><td>230</td><td>55</td></tr><tr><td>175</td><td>171</td><td>B follows A</td><td>692</td><td>230</td><td>55</td></tr><tr><td>171</td><td>206</td><td>B follows A</td><td>599</td><td>112</td><td>84</td></tr><tr><td>206</td><td>171</td><td>B follows A</td><td>599</td><td>112</td><td>84</td></tr><tr><td>171</td><td>209</td><td>A follows B</td><td>403</td><td>45</td><td>55</td></tr><tr><td>209</td><td>171</td><td>A follows B</td><td>403</td><td>45</td><td>55</td></tr><tr><td>171</td><td>210</td><td>B follows A</td><td>574</td><td>101</td><td>55</td></tr><tr><td>210</td><td>171</td><td>B follows A</td><td>574</td><td>101</td><td>55</td></tr><tr><td>171</td><td>222</td><td>B follows A</td><td>553</td><td>18</td><td>28</td></tr><tr><td>222</td><td>171</td><td>B follows A</td><td>553</td><td>18</td><td>28</td></tr><tr><td>171</td><td>226</td><td>B follows A</td><td>569</td><td>214</td><td>46</td></tr><tr><td>226</td><td>171</td><td>B follows A</td><td>569</td><td>214</td><td>46</td></tr><tr><td>171</td><td>246</td><td>B follows A</td><td>212</td><td>36</td><td>73</td></tr><tr><td>246</td><td>171</td><td>B follows A</td><td>212</td><td>36</td><td>73</td></tr><tr><td>173</td><td>215</td><td>B follows A</td><td>20</td><td>4</td><td>3</td></tr><tr><td>215</td><td>173</td><td>B follows A</td><td>20</td><td>4</td><td>3</td></tr><tr><td>180</td><td>186</td><td>B follows A</td><td>55</td><td>387</td><td>36</td></tr><tr><td>186</td><td>180</td><td>B follows A</td><td>55</td><td>387</td><td>36</td></tr><tr><td>180</td><td>194</td><td>B follows A</td><td>831</td><td>351</td><td>18</td></tr><tr><td>194</td><td>180</td><td>B follows A</td><td>831</td><td>351</td><td>18</td></tr><tr><td>180</td><td>198</td><td>B follows A</td><td>555</td><td>462</td><td>18</td></tr><tr><td>198</td><td>180</td><td>B follows A</td><td>555</td><td>462</td><td>18</td></tr><tr><td>180</td><td>213</td><td>B follows A</td><td>37</td><td>412</td><td>112</td></tr><tr><td>213</td><td>180</td><td>B follows A</td><td>37</td><td>412</td><td>112</td></tr><tr><td>180</td><td>225</td><td>B follows A</td><td>1493</td><td>269</td><td>244</td></tr><tr><td>225</td><td>180</td><td>B follows A</td><td>1493</td><td>269</td><td>244</td></tr><tr><td>180</td><td>241</td><td>B follows A</td><td>874</td><td>167</td><td>186</td></tr><tr><td>241</td><td>180</td><td>B follows A</td><td>874</td><td>167</td><td>186</td></tr><tr><td>180</td><td>243</td><td>A and B follow each other</td><td>868</td><td>173</td><td>130</td></tr><tr><td>243</td><td>180</td><td>A and B follow each other</td><td>868</td><td>173</td><td>130</td></tr><tr><td>180</td><td>243</td><td>A and B follow each other</td><td>1562</td><td>607</td><td>217</td></tr><tr><td>243</td><td>180</td><td>A and B follow each other</td><td>1562</td><td>607</td><td>217</td></tr><tr><td>180</td><td>244</td><td>B follows A</td><td>1318</td><td>427</td><td>167</td></tr><tr><td>244</td><td>180</td><td>B follows A</td><td>1318</td><td>427</td><td>167</td></tr><tr><td>180</td><td>247</td><td>B follows A</td><td>560</td><td>240</td><td>160</td></tr><tr><td>247</td><td>180</td><td>B follows A</td><td>560</td><td>240</td><td>160</td></tr><tr><td>180</td><td>248</td><td>B follows A</td><td>332</td><td>258</td><td>184</td></tr><tr><td>248</td><td>180</td><td>B follows A</td><td>332</td><td>258</td><td>184</td></tr><tr><td>182</td><td>210</td><td>A follows B</td><td>21</td><td>1</td><td>1</td></tr><tr><td>210</td><td>182</td><td>A follows B</td><td>21</td><td>1</td><td>1</td></tr><tr><td>184</td><td>218</td><td>B follows A</td><td>372</td><td>7</td><td>53</td></tr><tr><td>218</td><td>184</td><td>B follows A</td><td>372</td><td>7</td><td>53</td></tr><tr><td>184</td><td>220</td><td>B follows A</td><td>362</td><td>90</td><td>15</td></tr><tr><td>220</td><td>184</td><td>B follows A</td><td>362</td><td>90</td><td>15</td></tr><tr><td>184</td><td>238</td><td>A follows B</td><td>44</td><td>74</td><td>7</td></tr><tr><td>238</td><td>184</td><td>A follows B</td><td>44</td><td>74</td><td>7</td></tr><tr><td>184</td><td>243</td><td>A and B follow each other</td><td>374</td><td>10</td><td>96</td></tr><tr><td>243</td><td>184</td><td>A and B follow each other</td><td>374</td><td>10</td><td>96</td></tr><tr><td>184</td><td>245</td><td>A follows B</td><td>179</td><td>96</td><td>67</td></tr><tr><td>245</td><td>184</td><td>A follows B</td><td>179</td><td>96</td><td>67</td></tr><tr><td>189</td><td>193</td><td>A and B follow each other</td><td>168</td><td>46</td><td>25</td></tr><tr><td>193</td><td>189</td><td>A and B follow each other</td><td>168</td><td>46</td><td>25</td></tr><tr><td>189</td><td>205</td><td>B follows A</td><td>11</td><td>4</td><td>1</td></tr><tr><td>205</td><td>189</td><td>B follows A</td><td>11</td><td>4</td><td>1</td></tr><tr><td>189</td><td>216</td><td>B follows A</td><td>14</td><td>21</td><td>4</td></tr><tr><td>216</td><td>189</td><td>B follows A</td><td>14</td><td>21</td><td>4</td></tr><tr><td>189</td><td>223</td><td>A follows B</td><td>27</td><td>2</td><td>3</td></tr><tr><td>223</td><td>189</td><td>A follows B</td><td>27</td><td>2</td><td>3</td></tr><tr><td>193</td><td>194</td><td>B follows A</td><td>38</td><td>93</td><td>23</td></tr><tr><td>194</td><td>193</td><td>B follows A</td><td>38</td><td>93</td><td>23</td></tr><tr><td>193</td><td>202</td><td>B follows A</td><td>70</td><td>15</td><td>39</td></tr><tr><td>202</td><td>193</td><td>B follows A</td><td>70</td><td>15</td><td>39</td></tr><tr><td>193</td><td>210</td><td>B follows A</td><td>200</td><td>70</td><td>7</td></tr><tr><td>210</td><td>193</td><td>B follows A</td><td>200</td><td>70</td><td>7</td></tr><tr><td>193</td><td>216</td><td>B follows A</td><td>173</td><td>76</td><td>38</td></tr><tr><td>216</td><td>193</td><td>B follows A</td><td>173</td><td>76</td><td>38</td></tr><tr><td>193</td><td>224</td><td>B follows A</td><td>230</td><td>39</td><td>3</td></tr><tr><td>224</td><td>193</td><td>B follows A</td><td>230</td><td>39</td><td>3</td></tr><tr><td>193</td><td>229</td><td>B follows A</td><td>81</td><td>47</td><td>12</td></tr><tr><td>229</td><td>193</td><td>B follows A</td><td>81</td><td>47</td><td>12</td></tr><tr><td>193</td><td>233</td><td>B follows A</td><td>81</td><td>92</td><td>7</td></tr><tr><td>233</td><td>193</td><td>B follows A</td><td>81</td><td>92</td><td>7</td></tr><tr><td>193</td><td>236</td><td>B follows A</td><td>112</td><td>46</td><td>30</td></tr><tr><td>236</td><td>193</td><td>B follows A</td><td>112</td><td>46</td><td>30</td></tr><tr><td>193</td><td>237</td><td>B follows A</td><td>23</td><td>39</td><td>7</td></tr><tr><td>237</td><td>193</td><td>B follows A</td><td>23</td><td>39</td><td>7</td></tr><tr><td>193</td><td>239</td><td>B follows A</td><td>224</td><td>116</td><td>33</td></tr><tr><td>239</td><td>193</td><td>B follows A</td><td>224</td><td>116</td><td>33</td></tr><tr><td>195</td><td>205</td><td>A follows B</td><td>207</td><td>47</td><td>47</td></tr><tr><td>205</td><td>195</td><td>A follows B</td><td>207</td><td>47</td><td>47</td></tr><tr><td>195</td><td>209</td><td>B follows A</td><td>527</td><td>181</td><td>55</td></tr><tr><td>209</td><td>195</td><td>B follows A</td><td>527</td><td>181</td><td>55</td></tr><tr><td>195</td><td>220</td><td>A follows B</td><td>430</td><td>239</td><td>71</td></tr><tr><td>220</td><td>195</td><td>A follows B</td><td>430</td><td>239</td><td>71</td></tr><tr><td>195</td><td>225</td><td>A follows B</td><td>1071</td><td>389</td><td>97</td></tr><tr><td>225</td><td>195</td><td>A follows B</td><td>1071</td><td>389</td><td>97</td></tr><tr><td>195</td><td>232</td><td>B follows A</td><td>422</td><td>186</td><td>19</td></tr><tr><td>232</td><td>195</td><td>B follows A</td><td>422</td><td>186</td><td>19</td></tr><tr><td>195</td><td>241</td><td>B follows A</td><td>217</td><td>241</td><td>56</td></tr><tr><td>241</td><td>195</td><td>B follows A</td><td>217</td><td>241</td><td>56</td></tr><tr><td>195</td><td>244</td><td>B follows A</td><td>552</td><td>48</td><td>32</td></tr><tr><td>244</td><td>195</td><td>B follows A</td><td>552</td><td>48</td><td>32</td></tr><tr><td>197</td><td>205</td><td>A follows B</td><td>195</td><td>16</td><td>27</td></tr><tr><td>205</td><td>197</td><td>A follows B</td><td>195</td><td>16</td><td>27</td></tr><tr><td>197</td><td>206</td><td>B follows A</td><td>436</td><td>99</td><td>55</td></tr><tr><td>206</td><td>197</td><td>B follows A</td><td>436</td><td>99</td><td>55</td></tr><tr><td>197</td><td>222</td><td>B follows A</td><td>171</td><td>116</td><td>16</td></tr><tr><td>222</td><td>197</td><td>B follows A</td><td>171</td><td>116</td><td>16</td></tr><tr><td>197</td><td>228</td><td>B follows A</td><td>421</td><td>97</td><td>54</td></tr><tr><td>228</td><td>197</td><td>B follows A</td><td>421</td><td>97</td><td>54</td></tr><tr><td>204</td><td>221</td><td>B follows A</td><td>13</td><td>3</td><td>1</td></tr><tr><td>221</td><td>204</td><td>B follows A</td><td>13</td><td>3</td><td>1</td></tr><tr><td>208</td><td>209</td><td>B follows A</td><td>769</td><td>192</td><td>48</td></tr><tr><td>209</td><td>208</td><td>B follows A</td><td>769</td><td>192</td><td>48</td></tr><tr><td>208</td><td>222</td><td>B follows A</td><td>108</td><td>294</td><td>58</td></tr><tr><td>222</td><td>208</td><td>B follows A</td><td>108</td><td>294</td><td>58</td></tr><tr><td>208</td><td>225</td><td>A and B follow each other</td><td>344</td><td>454</td><td>93</td></tr><tr><td>225</td><td>208</td><td>A and B follow each other</td><td>344</td><td>454</td><td>93</td></tr><tr><td>208</td><td>232</td><td>A and B follow each other</td><td>92</td><td>312</td><td>11</td></tr><tr><td>232</td><td>208</td><td>A and B follow each other</td><td>92</td><td>312</td><td>11</td></tr><tr><td>208</td><td>234</td><td>B follows A</td><td>615</td><td>139</td><td>29</td></tr><tr><td>234</td><td>208</td><td>B follows A</td><td>615</td><td>139</td><td>29</td></tr><tr><td>208</td><td>236</td><td>B follows A</td><td>751</td><td>38</td><td>38</td></tr><tr><td>236</td><td>208</td><td>B follows A</td><td>751</td><td>38</td><td>38</td></tr><tr><td>208</td><td>248</td><td>B follows A</td><td>464</td><td>164</td><td>96</td></tr><tr><td>248</td><td>208</td><td>B follows A</td><td>464</td><td>164</td><td>96</td></tr><tr><td>211</td><td>242</td><td>A follows B</td><td>26</td><td>0</td><td>1</td></tr><tr><td>242</td><td>211</td><td>A follows B</td><td>26</td><td>0</td><td>1</td></tr><tr><td>212</td><td>230</td><td>B follows A</td><td>154</td><td>45</td><td>10</td></tr><tr><td>230</td><td>212</td><td>B follows A</td><td>154</td><td>45</td><td>10</td></tr><tr><td>217</td><td>219</td><td>A follows B</td><td>18</td><td>3</td><td>3</td></tr><tr><td>219</td><td>217</td><td>A follows B</td><td>18</td><td>3</td><td>3</td></tr><tr><td>221</td><td>229</td><td>A follows B</td><td>17</td><td>4</td><td>4</td></tr><tr><td>229</td><td>221</td><td>A follows B</td><td>17</td><td>4</td><td>4</td></tr><tr><td>221</td><td>239</td><td>A follows B</td><td>24</td><td>3</td><td>0</td></tr><tr><td>239</td><td>221</td><td>A follows B</td><td>24</td><td>3</td><td>0</td></tr><tr><td>223</td><td>236</td><td>B follows A</td><td>0</td><td>1</td><td>0</td></tr><tr><td>236</td><td>223</td><td>B follows A</td><td>0</td><td>1</td><td>0</td></tr><tr><td>229</td><td>237</td><td>B follows A</td><td>18</td><td>11</td><td>0</td></tr><tr><td>237</td><td>229</td><td>B follows A</td><td>18</td><td>11</td><td>0</td></tr><tr><td>229</td><td>249</td><td>B follows A</td><td>23</td><td>8</td><td>3</td></tr><tr><td>249</td><td>229</td><td>B follows A</td><td>23</td><td>8</td><td>3</td></tr><tr><td>232</td><td>241</td><td>A follows B</td><td>119</td><td>36</td><td>6</td></tr><tr><td>241</td><td>232</td><td>A follows B</td><td>119</td><td>36</td><td>6</td></tr><tr><td>232</td><td>244</td><td>A follows B</td><td>6</td><td>23</td><td>17</td></tr><tr><td>244</td><td>232</td><td>A follows B</td><td>6</td><td>23</td><td>17</td></tr><tr><td>232</td><td>247</td><td>A follows B</td><td>224</td><td>74</td><td>14</td></tr><tr><td>247</td><td>232</td><td>A follows B</td><td>224</td><td>74</td><td>14</td></tr><tr><td>233</td><td>249</td><td>B follows A</td><td>0</td><td>0</td><td>0</td></tr><tr><td>249</td><td>233</td><td>B follows A</td><td>0</td><td>0</td><td>0</td></tr><tr><td>243</td><td>245</td><td>B follows A</td><td>122</td><td>76</td><td>23</td></tr><tr><td>245</td><td>243</td><td>B follows A</td><td>122</td><td>76</td><td>23</td></tr><tr><td>243</td><td>247</td><td>A follows B</td><td>218</td><td>116</td><td>9</td></tr><tr><td>247</td><td>243</td><td>A follows B</td><td>218</td><td>116</td><td>9</td></tr><tr><td>243</td><td>248</td><td>A follows B</td><td>164</td><td>20</td><td>26</td></tr><tr><td>248</td><td>243</td><td>A follows B</td><td>164</td><td>20</td><td>26</td></tr></tbody></table></div>"
      ]
     },
     "metadata": {
      "application/vnd.databricks.v1+output": {
       "addedWidgets": {},
       "aggData": [],
       "aggError": "",
       "aggOverflow": false,
       "aggSchema": [],
       "aggSeriesLimitReached": false,
       "aggType": "",
       "arguments": {},
       "columnCustomDisplayInfos": {},
       "data": [
        [
         "0",
         "46",
         "B follows A",
         "0",
         "10",
         "3"
        ],
        [
         "46",
         "0",
         "B follows A",
         "0",
         "10",
         "3"
        ],
        [
         "2",
         "68",
         "A follows B",
         "40",
         "45",
         "8"
        ],
        [
         "68",
         "2",
         "A follows B",
         "40",
         "45",
         "8"
        ],
        [
         "2",
         "102",
         "A follows B",
         "78",
         "21",
         "6"
        ],
        [
         "102",
         "2",
         "A follows B",
         "78",
         "21",
         "6"
        ],
        [
         "2",
         "177",
         "B follows A",
         "32",
         "8",
         "6"
        ],
        [
         "177",
         "2",
         "B follows A",
         "32",
         "8",
         "6"
        ],
        [
         "2",
         "206",
         "A follows B",
         "54",
         "52",
         "18"
        ],
        [
         "206",
         "2",
         "A follows B",
         "54",
         "52",
         "18"
        ],
        [
         "2",
         "209",
         "B follows A",
         "8",
         "22",
         "13"
        ],
        [
         "209",
         "2",
         "B follows A",
         "8",
         "22",
         "13"
        ],
        [
         "2",
         "234",
         "B follows A",
         "15",
         "23",
         "11"
        ],
        [
         "234",
         "2",
         "B follows A",
         "15",
         "23",
         "11"
        ],
        [
         "5",
         "9",
         "B follows A",
         "1169",
         "59",
         "44"
        ],
        [
         "9",
         "5",
         "B follows A",
         "1169",
         "59",
         "44"
        ],
        [
         "5",
         "19",
         "A and B follow each other",
         "17",
         "138",
         "121"
        ],
        [
         "19",
         "5",
         "A and B follow each other",
         "17",
         "138",
         "121"
        ],
        [
         "5",
         "22",
         "B follows A",
         "337",
         "15",
         "15"
        ],
        [
         "22",
         "5",
         "B follows A",
         "337",
         "15",
         "15"
        ],
        [
         "5",
         "24",
         "B follows A",
         "1184",
         "104",
         "104"
        ],
        [
         "24",
         "5",
         "B follows A",
         "1184",
         "104",
         "104"
        ],
        [
         "5",
         "39",
         "B follows A",
         "542",
         "392",
         "75"
        ],
        [
         "39",
         "5",
         "B follows A",
         "542",
         "392",
         "75"
        ],
        [
         "5",
         "41",
         "B follows A",
         "195",
         "346",
         "120"
        ],
        [
         "41",
         "5",
         "B follows A",
         "195",
         "346",
         "120"
        ],
        [
         "5",
         "50",
         "A and B follow each other",
         "227",
         "943",
         "130"
        ],
        [
         "50",
         "5",
         "A and B follow each other",
         "227",
         "943",
         "130"
        ],
        [
         "5",
         "63",
         "B follows A",
         "1180",
         "257",
         "136"
        ],
        [
         "63",
         "5",
         "B follows A",
         "1180",
         "257",
         "136"
        ],
        [
         "5",
         "81",
         "B follows A",
         "357",
         "108",
         "93"
        ],
        [
         "81",
         "5",
         "B follows A",
         "357",
         "108",
         "93"
        ],
        [
         "5",
         "92",
         "B follows A",
         "927",
         "30",
         "60"
        ],
        [
         "92",
         "5",
         "B follows A",
         "927",
         "30",
         "60"
        ],
        [
         "5",
         "97",
         "B follows A",
         "977",
         "222",
         "88"
        ],
        [
         "97",
         "5",
         "B follows A",
         "977",
         "222",
         "88"
        ],
        [
         "5",
         "98",
         "B follows A",
         "502",
         "396",
         "15"
        ],
        [
         "98",
         "5",
         "B follows A",
         "502",
         "396",
         "15"
        ],
        [
         "5",
         "99",
         "B follows A",
         "872",
         "336",
         "153"
        ],
        [
         "99",
         "5",
         "B follows A",
         "872",
         "336",
         "153"
        ],
        [
         "5",
         "100",
         "B follows A",
         "76",
         "45",
         "15"
        ],
        [
         "100",
         "5",
         "B follows A",
         "76",
         "45",
         "15"
        ],
        [
         "5",
         "102",
         "B follows A",
         "1064",
         "449",
         "59"
        ],
        [
         "102",
         "5",
         "B follows A",
         "1064",
         "449",
         "59"
        ],
        [
         "5",
         "111",
         "B follows A",
         "366",
         "30",
         "61"
        ],
        [
         "111",
         "5",
         "B follows A",
         "366",
         "30",
         "61"
        ],
        [
         "5",
         "117",
         "B follows A",
         "756",
         "339",
         "123"
        ],
        [
         "117",
         "5",
         "B follows A",
         "756",
         "339",
         "123"
        ],
        [
         "5",
         "125",
         "B follows A",
         "993",
         "75",
         "105"
        ],
        [
         "125",
         "5",
         "B follows A",
         "993",
         "75",
         "105"
        ],
        [
         "5",
         "131",
         "B follows A",
         "150",
         "315",
         "45"
        ],
        [
         "131",
         "5",
         "B follows A",
         "150",
         "315",
         "45"
        ],
        [
         "5",
         "139",
         "B follows A",
         "437",
         "241",
         "75"
        ],
        [
         "139",
         "5",
         "B follows A",
         "437",
         "241",
         "75"
        ],
        [
         "5",
         "151",
         "B follows A",
         "230",
         "399",
         "153"
        ],
        [
         "151",
         "5",
         "B follows A",
         "230",
         "399",
         "153"
        ],
        [
         "5",
         "155",
         "B follows A",
         "1181",
         "333",
         "136"
        ],
        [
         "155",
         "5",
         "B follows A",
         "1181",
         "333",
         "136"
        ],
        [
         "5",
         "174",
         "B follows A",
         "1186",
         "365",
         "45"
        ],
        [
         "174",
         "5",
         "B follows A",
         "1186",
         "365",
         "45"
        ],
        [
         "5",
         "186",
         "B follows A",
         "1093",
         "254",
         "149"
        ],
        [
         "186",
         "5",
         "B follows A",
         "1093",
         "254",
         "149"
        ],
        [
         "5",
         "197",
         "A and B follow each other",
         "81",
         "507",
         "20"
        ],
        [
         "197",
         "5",
         "A and B follow each other",
         "81",
         "507",
         "20"
        ],
        [
         "5",
         "206",
         "B follows A",
         "197",
         "75",
         "106"
        ],
        [
         "206",
         "5",
         "B follows A",
         "197",
         "75",
         "106"
        ],
        [
         "5",
         "220",
         "B follows A",
         "755",
         "286",
         "105"
        ],
        [
         "220",
         "5",
         "B follows A",
         "755",
         "286",
         "105"
        ],
        [
         "5",
         "222",
         "B follows A",
         "334",
         "319",
         "30"
        ],
        [
         "222",
         "5",
         "B follows A",
         "334",
         "319",
         "30"
        ],
        [
         "5",
         "227",
         "A follows B",
         "1115",
         "165",
         "75"
        ],
        [
         "227",
         "5",
         "A follows B",
         "1115",
         "165",
         "75"
        ],
        [
         "7",
         "117",
         "A follows B",
         "24",
         "14",
         "4"
        ],
        [
         "117",
         "7",
         "A follows B",
         "24",
         "14",
         "4"
        ],
        [
         "8",
         "13",
         "B follows A",
         "174",
         "61",
         "35"
        ],
        [
         "13",
         "8",
         "B follows A",
         "174",
         "61",
         "35"
        ],
        [
         "8",
         "20",
         "B follows A",
         "74",
         "101",
         "10"
        ],
        [
         "20",
         "8",
         "B follows A",
         "74",
         "101",
         "10"
        ],
        [
         "8",
         "21",
         "B follows A",
         "71",
         "82",
         "51"
        ],
        [
         "21",
         "8",
         "B follows A",
         "71",
         "82",
         "51"
        ],
        [
         "8",
         "38",
         "A and B follow each other",
         "84",
         "281",
         "28"
        ],
        [
         "38",
         "8",
         "A and B follow each other",
         "84",
         "281",
         "28"
        ],
        [
         "8",
         "77",
         "B follows A",
         "410",
         "98",
         "27"
        ],
        [
         "77",
         "8",
         "B follows A",
         "410",
         "98",
         "27"
        ],
        [
         "8",
         "79",
         "B follows A",
         "56",
         "97",
         "5"
        ],
        [
         "79",
         "8",
         "B follows A",
         "56",
         "97",
         "5"
        ],
        [
         "8",
         "85",
         "B follows A",
         "185",
         "30",
         "51"
        ],
        [
         "85",
         "8",
         "B follows A",
         "185",
         "30",
         "51"
        ],
        [
         "8",
         "128",
         "B follows A",
         "117",
         "117",
         "30"
        ],
        [
         "128",
         "8",
         "B follows A",
         "117",
         "117",
         "30"
        ],
        [
         "8",
         "129",
         "B follows A",
         "178",
         "76",
         "85"
        ],
        [
         "129",
         "8",
         "B follows A",
         "178",
         "76",
         "85"
        ],
        [
         "8",
         "135",
         "B follows A",
         "328",
         "56",
         "25"
        ],
        [
         "135",
         "8",
         "B follows A",
         "328",
         "56",
         "25"
        ],
        [
         "8",
         "141",
         "A and B follow each other",
         "223",
         "150",
         "46"
        ],
        [
         "141",
         "8",
         "A and B follow each other",
         "223",
         "150",
         "46"
        ],
        [
         "8",
         "145",
         "B follows A",
         "154",
         "88",
         "11"
        ],
        [
         "145",
         "8",
         "B follows A",
         "154",
         "88",
         "11"
        ],
        [
         "8",
         "150",
         "A and B follow each other",
         "600",
         "19",
         "67"
        ],
        [
         "150",
         "8",
         "A and B follow each other",
         "600",
         "19",
         "67"
        ],
        [
         "8",
         "161",
         "B follows A",
         "372",
         "62",
         "5"
        ],
        [
         "161",
         "8",
         "B follows A",
         "372",
         "62",
         "5"
        ],
        [
         "8",
         "163",
         "A and B follow each other",
         "1162",
         "143",
         "31"
        ],
        [
         "163",
         "8",
         "A and B follow each other",
         "1162",
         "143",
         "31"
        ],
        [
         "8",
         "167",
         "A follows B",
         "315",
         "46",
         "51"
        ],
        [
         "167",
         "8",
         "A follows B",
         "315",
         "46",
         "51"
        ],
        [
         "8",
         "174",
         "B follows A",
         "42",
         "123",
         "26"
        ],
        [
         "174",
         "8",
         "B follows A",
         "42",
         "123",
         "26"
        ],
        [
         "8",
         "180",
         "A and B follow each other",
         "1505",
         "47",
         "235"
        ],
        [
         "180",
         "8",
         "A and B follow each other",
         "1505",
         "47",
         "235"
        ],
        [
         "8",
         "195",
         "A and B follow each other",
         "233",
         "246",
         "25"
        ],
        [
         "195",
         "8",
         "A and B follow each other",
         "233",
         "246",
         "25"
        ],
        [
         "8",
         "198",
         "B follows A",
         "311",
         "155",
         "41"
        ],
        [
         "198",
         "8",
         "B follows A",
         "311",
         "155",
         "41"
        ],
        [
         "8",
         "225",
         "B follows A",
         "100",
         "55",
         "67"
        ],
        [
         "225",
         "8",
         "B follows A",
         "100",
         "55",
         "67"
        ],
        [
         "8",
         "227",
         "B follows A",
         "271",
         "140",
         "26"
        ],
        [
         "227",
         "8",
         "B follows A",
         "271",
         "140",
         "26"
        ],
        [
         "8",
         "244",
         "B follows A",
         "399",
         "99",
         "47"
        ],
        [
         "244",
         "8",
         "B follows A",
         "399",
         "99",
         "47"
        ],
        [
         "11",
         "20",
         "A follows B",
         "107",
         "47",
         "26"
        ],
        [
         "20",
         "11",
         "A follows B",
         "107",
         "47",
         "26"
        ],
        [
         "11",
         "32",
         "B follows A",
         "152",
         "19",
         "6"
        ],
        [
         "32",
         "11",
         "B follows A",
         "152",
         "19",
         "6"
        ],
        [
         "11",
         "47",
         "B follows A",
         "95",
         "79",
         "31"
        ],
        [
         "47",
         "11",
         "B follows A",
         "95",
         "79",
         "31"
        ],
        [
         "11",
         "56",
         "A follows B",
         "143",
         "58",
         "20"
        ],
        [
         "56",
         "11",
         "A follows B",
         "143",
         "58",
         "20"
        ],
        [
         "11",
         "77",
         "B follows A",
         "220",
         "63",
         "10"
        ],
        [
         "77",
         "11",
         "B follows A",
         "220",
         "63",
         "10"
        ],
        [
         "11",
         "78",
         "B follows A",
         "15",
         "79",
         "22"
        ],
        [
         "78",
         "11",
         "B follows A",
         "15",
         "79",
         "22"
        ],
        [
         "11",
         "98",
         "B follows A",
         "27",
         "10",
         "17"
        ],
        [
         "98",
         "11",
         "B follows A",
         "27",
         "10",
         "17"
        ],
        [
         "11",
         "119",
         "A and B follow each other",
         "216",
         "51",
         "25"
        ],
        [
         "119",
         "11",
         "A and B follow each other",
         "216",
         "51",
         "25"
        ],
        [
         "11",
         "135",
         "B follows A",
         "107",
         "22",
         "28"
        ],
        [
         "135",
         "11",
         "B follows A",
         "107",
         "22",
         "28"
        ],
        [
         "11",
         "138",
         "A follows B",
         "167",
         "25",
         "28"
        ],
        [
         "138",
         "11",
         "A follows B",
         "167",
         "25",
         "28"
        ],
        [
         "11",
         "145",
         "A follows B",
         "283",
         "81",
         "10"
        ],
        [
         "145",
         "11",
         "A follows B",
         "283",
         "81",
         "10"
        ],
        [
         "11",
         "145",
         "B follows A",
         "123",
         "31",
         "24"
        ],
        [
         "145",
         "11",
         "B follows A",
         "123",
         "31",
         "24"
        ],
        [
         "11",
         "147",
         "A and B follow each other",
         "146",
         "173",
         "13"
        ],
        [
         "147",
         "11",
         "A and B follow each other",
         "146",
         "173",
         "13"
        ],
        [
         "11",
         "168",
         "A follows B",
         "16",
         "87",
         "29"
        ],
        [
         "168",
         "11",
         "A follows B",
         "16",
         "87",
         "29"
        ],
        [
         "11",
         "178",
         "A follows B",
         "216",
         "44",
         "3"
        ],
        [
         "178",
         "11",
         "A follows B",
         "216",
         "44",
         "3"
        ],
        [
         "11",
         "195",
         "B follows A",
         "571",
         "296",
         "32"
        ],
        [
         "195",
         "11",
         "B follows A",
         "571",
         "296",
         "32"
        ],
        [
         "11",
         "195",
         "A follows B",
         "670",
         "274",
         "43"
        ],
        [
         "195",
         "11",
         "A follows B",
         "670",
         "274",
         "43"
        ],
        [
         "11",
         "198",
         "B follows A",
         "9",
         "22",
         "19"
        ],
        [
         "198",
         "11",
         "B follows A",
         "9",
         "22",
         "19"
        ],
        [
         "11",
         "223",
         "A follows B",
         "34",
         "9",
         "22"
        ],
        [
         "223",
         "11",
         "A follows B",
         "34",
         "9",
         "22"
        ],
        [
         "11",
         "232",
         "B follows A",
         "389",
         "112",
         "15"
        ],
        [
         "232",
         "11",
         "B follows A",
         "389",
         "112",
         "15"
        ],
        [
         "11",
         "244",
         "B follows A",
         "151",
         "85",
         "32"
        ],
        [
         "244",
         "11",
         "B follows A",
         "151",
         "85",
         "32"
        ],
        [
         "11",
         "247",
         "A follows B",
         "273",
         "42",
         "33"
        ],
        [
         "247",
         "11",
         "A follows B",
         "273",
         "42",
         "33"
        ],
        [
         "12",
         "129",
         "B follows A",
         "263",
         "10",
         "34"
        ],
        [
         "129",
         "12",
         "B follows A",
         "263",
         "10",
         "34"
        ],
        [
         "14",
         "103",
         "B follows A",
         "700",
         "307",
         "36"
        ],
        [
         "103",
         "14",
         "B follows A",
         "700",
         "307",
         "36"
        ],
        [
         "14",
         "118",
         "B follows A",
         "319",
         "98",
         "122"
        ],
        [
         "118",
         "14",
         "B follows A",
         "319",
         "98",
         "122"
        ],
        [
         "14",
         "120",
         "B follows A",
         "1437",
         "95",
         "153"
        ],
        [
         "120",
         "14",
         "B follows A",
         "1437",
         "95",
         "153"
        ],
        [
         "14",
         "176",
         "A follows B",
         "232",
         "24",
         "61"
        ],
        [
         "176",
         "14",
         "A follows B",
         "232",
         "24",
         "61"
        ],
        [
         "14",
         "191",
         "B follows A",
         "228",
         "114",
         "38"
        ],
        [
         "191",
         "14",
         "B follows A",
         "228",
         "114",
         "38"
        ],
        [
         "14",
         "192",
         "A and B follow each other",
         "249",
         "37",
         "74"
        ],
        [
         "192",
         "14",
         "A and B follow each other",
         "249",
         "37",
         "74"
        ],
        [
         "14",
         "202",
         "A follows B",
         "270",
         "110",
         "36"
        ],
        [
         "202",
         "14",
         "A follows B",
         "270",
         "110",
         "36"
        ],
        [
         "14",
         "235",
         "B follows A",
         "211",
         "24",
         "74"
        ],
        [
         "235",
         "14",
         "B follows A",
         "211",
         "24",
         "74"
        ],
        [
         "14",
         "246",
         "B follows A",
         "36",
         "220",
         "36"
        ],
        [
         "246",
         "14",
         "B follows A",
         "36",
         "220",
         "36"
        ],
        [
         "15",
         "135",
         "A follows B",
         "0",
         "2",
         "0"
        ],
        [
         "135",
         "15",
         "A follows B",
         "0",
         "2",
         "0"
        ],
        [
         "16",
         "133",
         "B follows A",
         "5",
         "8",
         "1"
        ],
        [
         "133",
         "16",
         "B follows A",
         "5",
         "8",
         "1"
        ],
        [
         "19",
         "21",
         "B follows A",
         "177",
         "45",
         "21"
        ],
        [
         "21",
         "19",
         "B follows A",
         "177",
         "45",
         "21"
        ],
        [
         "19",
         "25",
         "A follows B",
         "41",
         "44",
         "13"
        ],
        [
         "25",
         "19",
         "A follows B",
         "41",
         "44",
         "13"
        ],
        [
         "19",
         "27",
         "A and B follow each other",
         "120",
         "560",
         "180"
        ],
        [
         "27",
         "19",
         "A and B follow each other",
         "120",
         "560",
         "180"
        ],
        [
         "19",
         "34",
         "B follows A",
         "21",
         "53",
         "4"
        ],
        [
         "34",
         "19",
         "B follows A",
         "21",
         "53",
         "4"
        ],
        [
         "19",
         "45",
         "B follows A",
         "16",
         "47",
         "9"
        ],
        [
         "45",
         "19",
         "B follows A",
         "16",
         "47",
         "9"
        ],
        [
         "19",
         "51",
         "B follows A",
         "116",
         "45",
         "16"
        ],
        [
         "51",
         "19",
         "B follows A",
         "116",
         "45",
         "16"
        ],
        [
         "19",
         "61",
         "B follows A",
         "161",
         "61",
         "10"
        ],
        [
         "61",
         "19",
         "B follows A",
         "161",
         "61",
         "10"
        ],
        [
         "19",
         "125",
         "B follows A",
         "171",
         "61",
         "17"
        ],
        [
         "125",
         "19",
         "B follows A",
         "171",
         "61",
         "17"
        ],
        [
         "19",
         "132",
         "B follows A",
         "192",
         "2",
         "7"
        ],
        [
         "132",
         "19",
         "B follows A",
         "192",
         "2",
         "7"
        ],
        [
         "19",
         "134",
         "B follows A",
         "43",
         "50",
         "24"
        ],
        [
         "134",
         "19",
         "B follows A",
         "43",
         "50",
         "24"
        ],
        [
         "19",
         "137",
         "B follows A",
         "26",
         "26",
         "11"
        ],
        [
         "137",
         "19",
         "B follows A",
         "26",
         "26",
         "11"
        ],
        [
         "19",
         "147",
         "A and B follow each other",
         "276",
         "175",
         "50"
        ],
        [
         "147",
         "19",
         "A and B follow each other",
         "276",
         "175",
         "50"
        ],
        [
         "19",
         "157",
         "B follows A",
         "39",
         "78",
         "39"
        ],
        [
         "157",
         "19",
         "B follows A",
         "39",
         "78",
         "39"
        ],
        [
         "19",
         "167",
         "B follows A",
         "39",
         "56",
         "21"
        ],
        [
         "167",
         "19",
         "B follows A",
         "39",
         "56",
         "21"
        ],
        [
         "19",
         "193",
         "A and B follow each other",
         "248",
         "173",
         "24"
        ],
        [
         "193",
         "19",
         "A and B follow each other",
         "248",
         "173",
         "24"
        ],
        [
         "19",
         "202",
         "B follows A",
         "150",
         "12",
         "14"
        ],
        [
         "202",
         "19",
         "B follows A",
         "150",
         "12",
         "14"
        ],
        [
         "19",
         "204",
         "B follows A",
         "177",
         "45",
         "10"
        ],
        [
         "204",
         "19",
         "B follows A",
         "177",
         "45",
         "10"
        ],
        [
         "19",
         "233",
         "B follows A",
         "57",
         "36",
         "16"
        ],
        [
         "233",
         "19",
         "B follows A",
         "57",
         "36",
         "16"
        ],
        [
         "19",
         "237",
         "B follows A",
         "47",
         "37",
         "14"
        ],
        [
         "237",
         "19",
         "B follows A",
         "47",
         "37",
         "14"
        ],
        [
         "19",
         "239",
         "B follows A",
         "27",
         "2",
         "10"
        ],
        [
         "239",
         "19",
         "B follows A",
         "27",
         "2",
         "10"
        ],
        [
         "19",
         "240",
         "B follows A",
         "12",
         "7",
         "16"
        ],
        [
         "240",
         "19",
         "B follows A",
         "12",
         "7",
         "16"
        ],
        [
         "21",
         "193",
         "A and B follow each other",
         "154",
         "92",
         "7"
        ],
        [
         "193",
         "21",
         "A and B follow each other",
         "154",
         "92",
         "7"
        ],
        [
         "25",
         "43",
         "B follows A",
         "6",
         "2",
         "3"
        ],
        [
         "43",
         "25",
         "B follows A",
         "6",
         "2",
         "3"
        ],
        [
         "25",
         "167",
         "A follows B",
         "19",
         "13",
         "2"
        ],
        [
         "167",
         "25",
         "A follows B",
         "19",
         "13",
         "2"
        ],
        [
         "26",
         "82",
         "B follows A",
         "5",
         "3",
         "1"
        ],
        [
         "82",
         "26",
         "B follows A",
         "5",
         "3",
         "1"
        ],
        [
         "27",
         "42",
         "B follows A",
         "406",
         "512",
         "88"
        ],
        [
         "42",
         "27",
         "B follows A",
         "406",
         "512",
         "88"
        ],
        [
         "27",
         "43",
         "B follows A",
         "504",
         "486",
         "18"
        ],
        [
         "43",
         "27",
         "B follows A",
         "504",
         "486",
         "18"
        ],
        [
         "27",
         "86",
         "A follows B",
         "478",
         "88",
         "35"
        ],
        [
         "86",
         "27",
         "A follows B",
         "478",
         "88",
         "35"
        ],
        [
         "27",
         "88",
         "B follows A",
         "607",
         "293",
         "188"
        ],
        [
         "88",
         "27",
         "B follows A",
         "607",
         "293",
         "188"
        ],
        [
         "27",
         "94",
         "B follows A",
         "1353",
         "106",
         "89"
        ],
        [
         "94",
         "27",
         "B follows A",
         "1353",
         "106",
         "89"
        ],
        [
         "27",
         "109",
         "B follows A",
         "454",
         "181",
         "90"
        ],
        [
         "109",
         "27",
         "B follows A",
         "454",
         "181",
         "90"
        ],
        [
         "27",
         "123",
         "B follows A",
         "1075",
         "53",
         "17"
        ],
        [
         "123",
         "27",
         "B follows A",
         "1075",
         "53",
         "17"
        ],
        [
         "27",
         "124",
         "A follows B",
         "1144",
         "357",
         "178"
        ],
        [
         "124",
         "27",
         "A follows B",
         "1144",
         "357",
         "178"
        ],
        [
         "27",
         "128",
         "B follows A",
         "529",
         "441",
         "123"
        ],
        [
         "128",
         "27",
         "B follows A",
         "529",
         "441",
         "123"
        ],
        [
         "27",
         "134",
         "B follows A",
         "724",
         "459",
         "141"
        ],
        [
         "134",
         "27",
         "B follows A",
         "724",
         "459",
         "141"
        ],
        [
         "27",
         "136",
         "B follows A",
         "673",
         "283",
         "159"
        ],
        [
         "136",
         "27",
         "B follows A",
         "673",
         "283",
         "159"
        ],
        [
         "27",
         "149",
         "B follows A",
         "1209",
         "231",
         "142"
        ],
        [
         "149",
         "27",
         "B follows A",
         "1209",
         "231",
         "142"
        ],
        [
         "27",
         "151",
         "B follows A",
         "540",
         "162",
         "90"
        ],
        [
         "151",
         "27",
         "B follows A",
         "540",
         "162",
         "90"
        ],
        [
         "27",
         "154",
         "B follows A",
         "637",
         "53",
         "177"
        ],
        [
         "154",
         "27",
         "B follows A",
         "637",
         "53",
         "177"
        ],
        [
         "27",
         "164",
         "B follows A",
         "516",
         "178",
         "35"
        ],
        [
         "164",
         "27",
         "B follows A",
         "516",
         "178",
         "35"
        ],
        [
         "27",
         "166",
         "B follows A",
         "1395",
         "229",
         "176"
        ],
        [
         "166",
         "27",
         "B follows A",
         "1395",
         "229",
         "176"
        ],
        [
         "27",
         "190",
         "B follows A",
         "432",
         "90",
         "144"
        ],
        [
         "190",
         "27",
         "B follows A",
         "432",
         "90",
         "144"
        ],
        [
         "27",
         "202",
         "B follows A",
         "1383",
         "53",
         "141"
        ],
        [
         "202",
         "27",
         "B follows A",
         "1383",
         "53",
         "141"
        ],
        [
         "27",
         "242",
         "B follows A",
         "1054",
         "357",
         "71"
        ],
        [
         "242",
         "27",
         "B follows A",
         "1054",
         "357",
         "71"
        ],
        [
         "32",
         "205",
         "A follows B",
         "5",
         "0",
         "1"
        ],
        [
         "205",
         "32",
         "A follows B",
         "5",
         "0",
         "1"
        ],
        [
         "38",
         "49",
         "B follows A",
         "729",
         "246",
         "54"
        ],
        [
         "49",
         "38",
         "B follows A",
         "729",
         "246",
         "54"
        ],
        [
         "38",
         "57",
         "B follows A",
         "529",
         "116",
         "80"
        ],
        [
         "57",
         "38",
         "B follows A",
         "529",
         "116",
         "80"
        ],
        [
         "38",
         "67",
         "B follows A",
         "237",
         "47",
         "47"
        ],
        [
         "67",
         "38",
         "B follows A",
         "237",
         "47",
         "47"
        ],
        [
         "38",
         "91",
         "B follows A",
         "261",
         "81",
         "90"
        ],
        [
         "91",
         "38",
         "B follows A",
         "261",
         "81",
         "90"
        ],
        [
         "38",
         "97",
         "A and B follow each other",
         "48",
         "81",
         "32"
        ],
        [
         "97",
         "38",
         "A and B follow each other",
         "48",
         "81",
         "32"
        ],
        [
         "38",
         "112",
         "B follows A",
         "296",
         "179",
         "44"
        ],
        [
         "112",
         "38",
         "B follows A",
         "296",
         "179",
         "44"
        ],
        [
         "38",
         "115",
         "B follows A",
         "676",
         "225",
         "81"
        ],
        [
         "115",
         "38",
         "B follows A",
         "676",
         "225",
         "81"
        ],
        [
         "38",
         "144",
         "A follows B",
         "198",
         "144",
         "162"
        ],
        [
         "144",
         "38",
         "A follows B",
         "198",
         "144",
         "162"
        ],
        [
         "38",
         "146",
         "B follows A",
         "604",
         "9",
         "83"
        ],
        [
         "146",
         "38",
         "B follows A",
         "604",
         "9",
         "83"
        ],
        [
         "38",
         "152",
         "A follows B",
         "598",
         "233",
         "37"
        ],
        [
         "152",
         "38",
         "A follows B",
         "598",
         "233",
         "37"
        ],
        [
         "38",
         "157",
         "A follows B",
         "687",
         "65",
         "131"
        ],
        [
         "157",
         "38",
         "A follows B",
         "687",
         "65",
         "131"
        ],
        [
         "38",
         "159",
         "B follows A",
         "146",
         "156",
         "82"
        ],
        [
         "159",
         "38",
         "B follows A",
         "146",
         "156",
         "82"
        ],
        [
         "38",
         "162",
         "B follows A",
         "575",
         "265",
         "36"
        ],
        [
         "162",
         "38",
         "B follows A",
         "575",
         "265",
         "36"
        ],
        [
         "38",
         "165",
         "B follows A",
         "383",
         "37",
         "84"
        ],
        [
         "165",
         "38",
         "B follows A",
         "383",
         "37",
         "84"
        ],
        [
         "38",
         "173",
         "B follows A",
         "666",
         "194",
         "37"
        ],
        [
         "173",
         "38",
         "B follows A",
         "666",
         "194",
         "37"
        ],
        [
         "38",
         "181",
         "B follows A",
         "595",
         "45",
         "27"
        ],
        [
         "181",
         "38",
         "B follows A",
         "595",
         "45",
         "27"
        ],
        [
         "38",
         "182",
         "B follows A",
         "436",
         "27",
         "46"
        ],
        [
         "182",
         "38",
         "B follows A",
         "436",
         "27",
         "46"
        ],
        [
         "38",
         "190",
         "B follows A",
         "28",
         "271",
         "74"
        ],
        [
         "190",
         "38",
         "B follows A",
         "28",
         "271",
         "74"
        ],
        [
         "38",
         "201",
         "B follows A",
         "63",
         "117",
         "72"
        ],
        [
         "201",
         "38",
         "B follows A",
         "63",
         "117",
         "72"
        ],
        [
         "38",
         "210",
         "B follows A",
         "299",
         "253",
         "72"
        ],
        [
         "210",
         "38",
         "B follows A",
         "299",
         "253",
         "72"
        ],
        [
         "38",
         "215",
         "B follows A",
         "605",
         "171",
         "9"
        ],
        [
         "215",
         "38",
         "B follows A",
         "605",
         "171",
         "9"
        ],
        [
         "38",
         "223",
         "B follows A",
         "485",
         "215",
         "53"
        ],
        [
         "223",
         "38",
         "B follows A",
         "485",
         "215",
         "53"
        ],
        [
         "38",
         "231",
         "B follows A",
         "129",
         "18",
         "18"
        ],
        [
         "231",
         "38",
         "B follows A",
         "129",
         "18",
         "18"
        ],
        [
         "38",
         "242",
         "B follows A",
         "726",
         "55",
         "9"
        ],
        [
         "242",
         "38",
         "B follows A",
         "726",
         "55",
         "9"
        ],
        [
         "38",
         "243",
         "A and B follow each other",
         "673",
         "134",
         "36"
        ],
        [
         "243",
         "38",
         "A and B follow each other",
         "673",
         "134",
         "36"
        ],
        [
         "39",
         "99",
         "B follows A",
         "10",
         "0",
         "0"
        ],
        [
         "99",
         "39",
         "B follows A",
         "10",
         "0",
         "0"
        ],
        [
         "39",
         "119",
         "B follows A",
         "349",
         "184",
         "58"
        ],
        [
         "119",
         "39",
         "B follows A",
         "349",
         "184",
         "58"
        ],
        [
         "39",
         "162",
         "A follows B",
         "11",
         "0",
         "2"
        ],
        [
         "162",
         "39",
         "A follows B",
         "11",
         "0",
         "2"
        ],
        [
         "42",
         "212",
         "A follows B",
         "52",
         "44",
         "10"
        ],
        [
         "212",
         "42",
         "A follows B",
         "52",
         "44",
         "10"
        ],
        [
         "44",
         "55",
         "B follows A",
         "9",
         "0",
         "1"
        ],
        [
         "55",
         "44",
         "B follows A",
         "9",
         "0",
         "1"
        ],
        [
         "44",
         "89",
         "B follows A",
         "0",
         "3",
         "0"
        ],
        [
         "89",
         "44",
         "B follows A",
         "0",
         "3",
         "0"
        ],
        [
         "49",
         "115",
         "A follows B",
         "11",
         "0",
         "1"
        ],
        [
         "115",
         "49",
         "A follows B",
         "11",
         "0",
         "1"
        ],
        [
         "49",
         "189",
         "A and B follow each other",
         "11",
         "1",
         "4"
        ],
        [
         "189",
         "49",
         "A and B follow each other",
         "11",
         "1",
         "4"
        ],
        [
         "50",
         "58",
         "B follows A",
         "900",
         "342",
         "18"
        ],
        [
         "58",
         "50",
         "B follows A",
         "900",
         "342",
         "18"
        ],
        [
         "50",
         "75",
         "A and B follow each other",
         "920",
         "487",
         "108"
        ],
        [
         "75",
         "50",
         "A and B follow each other",
         "920",
         "487",
         "108"
        ],
        [
         "50",
         "87",
         "B follows A",
         "967",
         "70",
         "175"
        ],
        [
         "87",
         "50",
         "B follows A",
         "967",
         "70",
         "175"
        ],
        [
         "50",
         "89",
         "B follows A",
         "1161",
         "52",
         "123"
        ],
        [
         "89",
         "50",
         "B follows A",
         "1161",
         "52",
         "123"
        ],
        [
         "50",
         "93",
         "B follows A",
         "762",
         "248",
         "177"
        ],
        [
         "93",
         "50",
         "B follows A",
         "762",
         "248",
         "177"
        ],
        [
         "50",
         "106",
         "B follows A",
         "1056",
         "88",
         "123"
        ],
        [
         "106",
         "50",
         "B follows A",
         "1056",
         "88",
         "123"
        ],
        [
         "50",
         "110",
         "B follows A",
         "477",
         "17",
         "17"
        ],
        [
         "110",
         "50",
         "B follows A",
         "477",
         "17",
         "17"
        ],
        [
         "50",
         "113",
         "B follows A",
         "563",
         "105",
         "158"
        ],
        [
         "113",
         "50",
         "B follows A",
         "563",
         "105",
         "158"
        ],
        [
         "50",
         "116",
         "B follows A",
         "674",
         "301",
         "35"
        ],
        [
         "116",
         "50",
         "B follows A",
         "674",
         "301",
         "35"
        ],
        [
         "50",
         "134",
         "B follows A",
         "317",
         "17",
         "176"
        ],
        [
         "134",
         "50",
         "B follows A",
         "317",
         "17",
         "176"
        ],
        [
         "50",
         "143",
         "B follows A",
         "1090",
         "140",
         "70"
        ],
        [
         "143",
         "50",
         "B follows A",
         "1090",
         "140",
         "70"
        ],
        [
         "50",
         "153",
         "B follows A",
         "17",
         "405",
         "52"
        ],
        [
         "153",
         "50",
         "B follows A",
         "17",
         "405",
         "52"
        ],
        [
         "50",
         "160",
         "B follows A",
         "494",
         "406",
         "88"
        ],
        [
         "160",
         "50",
         "B follows A",
         "494",
         "406",
         "88"
        ],
        [
         "50",
         "166",
         "B follows A",
         "1127",
         "17",
         "52"
        ],
        [
         "166",
         "50",
         "B follows A",
         "1127",
         "17",
         "52"
        ],
        [
         "50",
         "197",
         "A and B follow each other",
         "824",
         "91",
         "45"
        ],
        [
         "197",
         "50",
         "A and B follow each other",
         "824",
         "91",
         "45"
        ],
        [
         "50",
         "205",
         "B follows A",
         "778",
         "247",
         "17"
        ],
        [
         "205",
         "50",
         "B follows A",
         "778",
         "247",
         "17"
        ],
        [
         "50",
         "209",
         "B follows A",
         "1267",
         "35",
         "176"
        ],
        [
         "209",
         "50",
         "B follows A",
         "1267",
         "35",
         "176"
        ],
        [
         "50",
         "228",
         "B follows A",
         "106",
         "371",
         "17"
        ],
        [
         "228",
         "50",
         "B follows A",
         "106",
         "371",
         "17"
        ],
        [
         "50",
         "237",
         "B follows A",
         "1309",
         "300",
         "70"
        ],
        [
         "237",
         "50",
         "B follows A",
         "1309",
         "300",
         "70"
        ],
        [
         "50",
         "238",
         "B follows A",
         "88",
         "52",
         "35"
        ],
        [
         "238",
         "50",
         "B follows A",
         "88",
         "52",
         "35"
        ],
        [
         "50",
         "243",
         "A and B follow each other",
         "584",
         "166",
         "41"
        ],
        [
         "243",
         "50",
         "A and B follow each other",
         "584",
         "166",
         "41"
        ],
        [
         "50",
         "245",
         "B follows A",
         "510",
         "458",
         "35"
        ],
        [
         "245",
         "50",
         "B follows A",
         "510",
         "458",
         "35"
        ],
        [
         "52",
         "177",
         "A follows B",
         "10",
         "3",
         "1"
        ],
        [
         "177",
         "52",
         "A follows B",
         "10",
         "3",
         "1"
        ],
        [
         "52",
         "233",
         "A follows B",
         "7",
         "1",
         "1"
        ],
        [
         "233",
         "52",
         "A follows B",
         "7",
         "1",
         "1"
        ],
        [
         "53",
         "159",
         "B follows A",
         "1",
         "10",
         "5"
        ],
        [
         "159",
         "53",
         "B follows A",
         "1",
         "10",
         "5"
        ],
        [
         "53",
         "215",
         "A follows B",
         "0",
         "12",
         "1"
        ],
        [
         "215",
         "53",
         "A follows B",
         "0",
         "12",
         "1"
        ],
        [
         "53",
         "237",
         "B follows A",
         "22",
         "1",
         "0"
        ],
        [
         "237",
         "53",
         "B follows A",
         "22",
         "1",
         "0"
        ],
        [
         "55",
         "126",
         "A follows B",
         "4",
         "1",
         "0"
        ],
        [
         "126",
         "55",
         "A follows B",
         "4",
         "1",
         "0"
        ],
        [
         "60",
         "223",
         "B follows A",
         "6",
         "5",
         "1"
        ],
        [
         "223",
         "60",
         "B follows A",
         "6",
         "5",
         "1"
        ],
        [
         "63",
         "95",
         "B follows A",
         "2",
         "6",
         "2"
        ],
        [
         "95",
         "63",
         "B follows A",
         "2",
         "6",
         "2"
        ],
        [
         "64",
         "213",
         "A follows B",
         "7",
         "10",
         "1"
        ],
        [
         "213",
         "64",
         "A follows B",
         "7",
         "10",
         "1"
        ],
        [
         "67",
         "187",
         "B follows A",
         "4",
         "2",
         "3"
        ],
        [
         "187",
         "67",
         "B follows A",
         "4",
         "2",
         "3"
        ],
        [
         "70",
         "91",
         "A follows B",
         "202",
         "111",
         "26"
        ],
        [
         "91",
         "70",
         "A follows B",
         "202",
         "111",
         "26"
        ],
        [
         "70",
         "115",
         "B follows A",
         "204",
         "65",
         "23"
        ],
        [
         "115",
         "70",
         "B follows A",
         "204",
         "65",
         "23"
        ],
        [
         "70",
         "159",
         "B follows A",
         "52",
         "56",
         "32"
        ],
        [
         "159",
         "70",
         "B follows A",
         "52",
         "56",
         "32"
        ],
        [
         "70",
         "162",
         "B follows A",
         "11",
         "51",
         "11"
        ],
        [
         "162",
         "70",
         "B follows A",
         "11",
         "51",
         "11"
        ],
        [
         "70",
         "165",
         "B follows A",
         "104",
         "12",
         "29"
        ],
        [
         "165",
         "70",
         "B follows A",
         "104",
         "12",
         "29"
        ],
        [
         "70",
         "209",
         "A follows B",
         "121",
         "102",
         "3"
        ],
        [
         "209",
         "70",
         "A follows B",
         "121",
         "102",
         "3"
        ],
        [
         "70",
         "231",
         "B follows A",
         "327",
         "102",
         "28"
        ],
        [
         "231",
         "70",
         "B follows A",
         "327",
         "102",
         "28"
        ],
        [
         "71",
         "107",
         "B follows A",
         "8",
         "2",
         "1"
        ],
        [
         "107",
         "71",
         "B follows A",
         "8",
         "2",
         "1"
        ],
        [
         "71",
         "169",
         "B follows A",
         "587",
         "49",
         "74"
        ],
        [
         "169",
         "71",
         "B follows A",
         "587",
         "49",
         "74"
        ],
        [
         "73",
         "114",
         "A follows B",
         "5",
         "3",
         "1"
        ],
        [
         "114",
         "73",
         "A follows B",
         "5",
         "3",
         "1"
        ],
        [
         "76",
         "236",
         "A follows B",
         "14",
         "6",
         "0"
        ],
        [
         "236",
         "76",
         "A follows B",
         "14",
         "6",
         "0"
        ],
        [
         "77",
         "178",
         "A follows B",
         "21",
         "8",
         "1"
        ],
        [
         "178",
         "77",
         "A follows B",
         "21",
         "8",
         "1"
        ],
        [
         "80",
         "141",
         "B follows A",
         "32",
         "30",
         "2"
        ],
        [
         "141",
         "80",
         "B follows A",
         "32",
         "30",
         "2"
        ],
        [
         "80",
         "194",
         "B follows A",
         "74",
         "30",
         "7"
        ],
        [
         "194",
         "80",
         "B follows A",
         "74",
         "30",
         "7"
        ],
        [
         "80",
         "232",
         "A follows B",
         "11",
         "52",
         "20"
        ],
        [
         "232",
         "80",
         "A follows B",
         "11",
         "52",
         "20"
        ],
        [
         "81",
         "210",
         "B follows A",
         "30",
         "7",
         "3"
        ],
        [
         "210",
         "81",
         "B follows A",
         "30",
         "7",
         "3"
        ],
        [
         "83",
         "195",
         "A and B follow each other",
         "334",
         "230",
         "47"
        ],
        [
         "195",
         "83",
         "A and B follow each other",
         "334",
         "230",
         "47"
        ],
        [
         "84",
         "90",
         "A follows B",
         "190",
         "140",
         "50"
        ],
        [
         "90",
         "84",
         "A follows B",
         "190",
         "140",
         "50"
        ],
        [
         "84",
         "105",
         "B follows A",
         "149",
         "133",
         "10"
        ],
        [
         "105",
         "84",
         "B follows A",
         "149",
         "133",
         "10"
        ],
        [
         "84",
         "130",
         "B follows A",
         "171",
         "41",
         "52"
        ],
        [
         "130",
         "84",
         "B follows A",
         "171",
         "41",
         "52"
        ],
        [
         "84",
         "153",
         "B follows A",
         "35",
         "75",
         "25"
        ],
        [
         "153",
         "84",
         "B follows A",
         "35",
         "75",
         "25"
        ],
        [
         "84",
         "156",
         "A and B follow each other",
         "610",
         "396",
         "148"
        ],
        [
         "156",
         "84",
         "A and B follow each other",
         "610",
         "396",
         "148"
        ],
        [
         "84",
         "160",
         "B follows A",
         "305",
         "50",
         "35"
        ],
        [
         "160",
         "84",
         "B follows A",
         "305",
         "50",
         "35"
        ],
        [
         "84",
         "184",
         "A and B follow each other",
         "645",
         "149",
         "111"
        ],
        [
         "184",
         "84",
         "A and B follow each other",
         "645",
         "149",
         "111"
        ],
        [
         "84",
         "185",
         "A follows B",
         "25",
         "85",
         "20"
        ],
        [
         "185",
         "84",
         "A follows B",
         "25",
         "85",
         "20"
        ],
        [
         "84",
         "218",
         "A follows B",
         "202",
         "98",
         "5"
        ],
        [
         "218",
         "84",
         "A follows B",
         "202",
         "98",
         "5"
        ],
        [
         "84",
         "220",
         "B follows A",
         "15",
         "25",
         "46"
        ],
        [
         "220",
         "84",
         "B follows A",
         "15",
         "25",
         "46"
        ],
        [
         "84",
         "226",
         "B follows A",
         "233",
         "98",
         "46"
        ],
        [
         "226",
         "84",
         "B follows A",
         "233",
         "98",
         "46"
        ],
        [
         "84",
         "226",
         "A follows B",
         "357",
         "15",
         "25"
        ],
        [
         "226",
         "84",
         "A follows B",
         "357",
         "15",
         "25"
        ],
        [
         "84",
         "228",
         "B follows A",
         "244",
         "102",
         "10"
        ],
        [
         "228",
         "84",
         "B follows A",
         "244",
         "102",
         "10"
        ],
        [
         "84",
         "238",
         "B follows A",
         "322",
         "15",
         "5"
        ],
        [
         "238",
         "84",
         "B follows A",
         "322",
         "15",
         "5"
        ],
        [
         "84",
         "242",
         "A follows B",
         "162",
         "26",
         "15"
        ],
        [
         "242",
         "84",
         "A follows B",
         "162",
         "26",
         "15"
        ],
        [
         "86",
         "88",
         "B follows A",
         "194",
         "68",
         "34"
        ],
        [
         "88",
         "86",
         "B follows A",
         "194",
         "68",
         "34"
        ],
        [
         "86",
         "94",
         "B follows A",
         "15",
         "5",
         "0"
        ],
        [
         "94",
         "86",
         "B follows A",
         "15",
         "5",
         "0"
        ],
        [
         "86",
         "123",
         "B follows A",
         "3",
         "8",
         "1"
        ],
        [
         "123",
         "86",
         "B follows A",
         "3",
         "8",
         "1"
        ],
        [
         "86",
         "128",
         "B follows A",
         "4",
         "1",
         "0"
        ],
        [
         "128",
         "86",
         "B follows A",
         "4",
         "1",
         "0"
        ],
        [
         "86",
         "136",
         "B follows A",
         "9",
         "1",
         "1"
        ],
        [
         "136",
         "86",
         "B follows A",
         "9",
         "1",
         "1"
        ],
        [
         "86",
         "154",
         "B follows A",
         "4",
         "4",
         "1"
        ],
        [
         "154",
         "86",
         "B follows A",
         "4",
         "4",
         "1"
        ],
        [
         "86",
         "162",
         "B follows A",
         "8",
         "3",
         "1"
        ],
        [
         "162",
         "86",
         "B follows A",
         "8",
         "3",
         "1"
        ],
        [
         "86",
         "166",
         "A follows B",
         "2",
         "0",
         "1"
        ],
        [
         "166",
         "86",
         "A follows B",
         "2",
         "0",
         "1"
        ],
        [
         "86",
         "187",
         "B follows A",
         "17",
         "9",
         "3"
        ],
        [
         "187",
         "86",
         "B follows A",
         "17",
         "9",
         "3"
        ],
        [
         "86",
         "190",
         "A follows B",
         "21",
         "10",
         "1"
        ],
        [
         "190",
         "86",
         "A follows B",
         "21",
         "10",
         "1"
        ],
        [
         "86",
         "198",
         "B follows A",
         "12",
         "3",
         "0"
        ],
        [
         "198",
         "86",
         "B follows A",
         "12",
         "3",
         "0"
        ],
        [
         "86",
         "212",
         "A and B follow each other",
         "103",
         "41",
         "10"
        ],
        [
         "212",
         "86",
         "A and B follow each other",
         "103",
         "41",
         "10"
        ],
        [
         "86",
         "229",
         "B follows A",
         "9",
         "15",
         "2"
        ],
        [
         "229",
         "86",
         "B follows A",
         "9",
         "15",
         "2"
        ],
        [
         "88",
         "97",
         "B follows A",
         "770",
         "52",
         "52"
        ],
        [
         "97",
         "88",
         "B follows A",
         "770",
         "52",
         "52"
        ],
        [
         "88",
         "123",
         "A follows B",
         "198",
         "39",
         "18"
        ],
        [
         "123",
         "88",
         "A follows B",
         "198",
         "39",
         "18"
        ],
        [
         "88",
         "134",
         "B follows A",
         "187",
         "16",
         "10"
        ],
        [
         "134",
         "88",
         "B follows A",
         "187",
         "16",
         "10"
        ],
        [
         "88",
         "140",
         "A follows B",
         "110",
         "71",
         "17"
        ],
        [
         "140",
         "88",
         "A follows B",
         "110",
         "71",
         "17"
        ],
        [
         "88",
         "164",
         "B follows A",
         "108",
         "48",
         "31"
        ],
        [
         "164",
         "88",
         "B follows A",
         "108",
         "48",
         "31"
        ],
        [
         "88",
         "227",
         "A follows B",
         "136",
         "13",
         "20"
        ],
        [
         "227",
         "88",
         "A follows B",
         "136",
         "13",
         "20"
        ],
        [
         "89",
         "218",
         "A follows B",
         "5",
         "4",
         "1"
        ],
        [
         "218",
         "89",
         "A follows B",
         "5",
         "4",
         "1"
        ],
        [
         "95",
         "196",
         "B follows A",
         "2",
         "0",
         "0"
        ],
        [
         "196",
         "95",
         "B follows A",
         "2",
         "0",
         "0"
        ],
        [
         "97",
         "115",
         "B follows A",
         "189",
         "197",
         "14"
        ],
        [
         "115",
         "97",
         "B follows A",
         "189",
         "197",
         "14"
        ],
        [
         "97",
         "159",
         "A follows B",
         "89",
         "216",
         "22"
        ],
        [
         "159",
         "97",
         "A follows B",
         "89",
         "216",
         "22"
        ],
        [
         "97",
         "181",
         "B follows A",
         "226",
         "94",
         "36"
        ],
        [
         "181",
         "97",
         "B follows A",
         "226",
         "94",
         "36"
        ],
        [
         "97",
         "193",
         "A and B follow each other",
         "365",
         "166",
         "11"
        ],
        [
         "193",
         "97",
         "A and B follow each other",
         "365",
         "166",
         "11"
        ],
        [
         "97",
         "196",
         "A follows B",
         "211",
         "87",
         "21"
        ],
        [
         "196",
         "97",
         "A follows B",
         "211",
         "87",
         "21"
        ],
        [
         "97",
         "197",
         "A and B follow each other",
         "313",
         "75",
         "50"
        ],
        [
         "197",
         "97",
         "A and B follow each other",
         "313",
         "75",
         "50"
        ],
        [
         "97",
         "201",
         "B follows A",
         "160",
         "7",
         "7"
        ],
        [
         "201",
         "97",
         "B follows A",
         "160",
         "7",
         "7"
        ],
        [
         "97",
         "231",
         "A follows B",
         "37",
         "203",
         "75"
        ],
        [
         "231",
         "97",
         "A follows B",
         "37",
         "203",
         "75"
        ],
        [
         "97",
         "232",
         "B follows A",
         "92",
         "9",
         "46"
        ],
        [
         "232",
         "97",
         "B follows A",
         "92",
         "9",
         "46"
        ],
        [
         "100",
         "117",
         "B follows A",
         "17",
         "16",
         "2"
        ],
        [
         "117",
         "100",
         "B follows A",
         "17",
         "16",
         "2"
        ],
        [
         "100",
         "138",
         "B follows A",
         "2",
         "6",
         "1"
        ],
        [
         "138",
         "100",
         "B follows A",
         "2",
         "6",
         "1"
        ],
        [
         "105",
         "235",
         "A follows B",
         "12",
         "6",
         "1"
        ],
        [
         "235",
         "105",
         "A follows B",
         "12",
         "6",
         "1"
        ],
        [
         "108",
         "133",
         "A follows B",
         "50",
         "8",
         "3"
        ],
        [
         "133",
         "108",
         "A follows B",
         "50",
         "8",
         "3"
        ],
        [
         "110",
         "185",
         "A follows B",
         "3",
         "3",
         "0"
        ],
        [
         "185",
         "110",
         "A follows B",
         "3",
         "3",
         "0"
        ],
        [
         "111",
         "195",
         "A and B follow each other",
         "105",
         "24",
         "56"
        ],
        [
         "195",
         "111",
         "A and B follow each other",
         "105",
         "24",
         "56"
        ],
        [
         "111",
         "244",
         "B follows A",
         "22",
         "11",
         "2"
        ],
        [
         "244",
         "111",
         "B follows A",
         "22",
         "11",
         "2"
        ],
        [
         "112",
         "231",
         "B follows A",
         "4",
         "5",
         "2"
        ],
        [
         "231",
         "112",
         "B follows A",
         "4",
         "5",
         "2"
        ],
        [
         "114",
         "121",
         "A follows B",
         "40",
         "16",
         "2"
        ],
        [
         "121",
         "114",
         "A follows B",
         "40",
         "16",
         "2"
        ],
        [
         "116",
         "184",
         "A and B follow each other",
         "303",
         "37",
         "60"
        ],
        [
         "184",
         "116",
         "A and B follow each other",
         "303",
         "37",
         "60"
        ],
        [
         "116",
         "185",
         "B follows A",
         "8",
         "4",
         "0"
        ],
        [
         "185",
         "116",
         "B follows A",
         "8",
         "4",
         "0"
        ],
        [
         "119",
         "126",
         "B follows A",
         "96",
         "231",
         "67"
        ],
        [
         "126",
         "119",
         "B follows A",
         "96",
         "231",
         "67"
        ],
        [
         "119",
         "131",
         "B follows A",
         "579",
         "38",
         "38"
        ],
        [
         "131",
         "119",
         "B follows A",
         "579",
         "38",
         "38"
        ],
        [
         "119",
         "138",
         "B follows A",
         "279",
         "19",
         "19"
        ],
        [
         "138",
         "119",
         "B follows A",
         "279",
         "19",
         "19"
        ],
        [
         "119",
         "156",
         "A and B follow each other",
         "844",
         "63",
         "42"
        ],
        [
         "156",
         "119",
         "A and B follow each other",
         "844",
         "63",
         "42"
        ],
        [
         "119",
         "177",
         "A follows B",
         "726",
         "203",
         "58"
        ],
        [
         "177",
         "119",
         "A follows B",
         "726",
         "203",
         "58"
        ],
        [
         "119",
         "178",
         "B follows A",
         "588",
         "38",
         "19"
        ],
        [
         "178",
         "119",
         "B follows A",
         "588",
         "38",
         "19"
        ],
        [
         "119",
         "189",
         "B follows A",
         "49",
         "259",
         "79"
        ],
        [
         "189",
         "119",
         "B follows A",
         "49",
         "259",
         "79"
        ],
        [
         "119",
         "197",
         "A and B follow each other",
         "820",
         "432",
         "104"
        ],
        [
         "197",
         "119",
         "A and B follow each other",
         "820",
         "432",
         "104"
        ],
        [
         "119",
         "204",
         "A follows B",
         "117",
         "156",
         "48"
        ],
        [
         "204",
         "119",
         "A follows B",
         "117",
         "156",
         "48"
        ],
        [
         "119",
         "206",
         "B follows A",
         "726",
         "166",
         "39"
        ],
        [
         "206",
         "119",
         "B follows A",
         "726",
         "166",
         "39"
        ],
        [
         "119",
         "208",
         "A and B follow each other",
         "384",
         "115",
         "38"
        ],
        [
         "208",
         "119",
         "A and B follow each other",
         "384",
         "115",
         "38"
        ],
        [
         "120",
         "191",
         "A follows B",
         "508",
         "164",
         "74"
        ],
        [
         "191",
         "120",
         "A follows B",
         "508",
         "164",
         "74"
        ],
        [
         "120",
         "192",
         "A and B follow each other",
         "458",
         "65",
         "29"
        ],
        [
         "192",
         "120",
         "A and B follow each other",
         "458",
         "65",
         "29"
        ],
        [
         "120",
         "225",
         "A and B follow each other",
         "456",
         "234",
         "13"
        ],
        [
         "225",
         "120",
         "A and B follow each other",
         "456",
         "234",
         "13"
        ],
        [
         "120",
         "230",
         "B follows A",
         "93",
         "28",
         "50"
        ],
        [
         "230",
         "120",
         "B follows A",
         "93",
         "28",
         "50"
        ],
        [
         "120",
         "246",
         "B follows A",
         "70",
         "28",
         "56"
        ],
        [
         "246",
         "120",
         "B follows A",
         "70",
         "28",
         "56"
        ],
        [
         "129",
         "133",
         "A follows B",
         "39",
         "74",
         "11"
        ],
        [
         "133",
         "129",
         "A follows B",
         "39",
         "74",
         "11"
        ],
        [
         "129",
         "142",
         "B follows A",
         "119",
         "20",
         "6"
        ],
        [
         "142",
         "129",
         "B follows A",
         "119",
         "20",
         "6"
        ],
        [
         "129",
         "156",
         "A and B follow each other",
         "565",
         "446",
         "89"
        ],
        [
         "156",
         "129",
         "A and B follow each other",
         "565",
         "446",
         "89"
        ],
        [
         "129",
         "158",
         "B follows A",
         "39",
         "46",
         "10"
        ],
        [
         "158",
         "129",
         "B follows A",
         "39",
         "46",
         "10"
        ],
        [
         "129",
         "159",
         "B follows A",
         "144",
         "54",
         "10"
        ],
        [
         "159",
         "129",
         "B follows A",
         "144",
         "54",
         "10"
        ],
        [
         "129",
         "163",
         "A and B follow each other",
         "42",
         "142",
         "85"
        ],
        [
         "163",
         "129",
         "A and B follow each other",
         "42",
         "142",
         "85"
        ],
        [
         "129",
         "179",
         "B follows A",
         "256",
         "7",
         "28"
        ],
        [
         "179",
         "129",
         "B follows A",
         "256",
         "7",
         "28"
        ],
        [
         "129",
         "214",
         "B follows A",
         "222",
         "68",
         "32"
        ],
        [
         "214",
         "129",
         "B follows A",
         "222",
         "68",
         "32"
        ],
        [
         "129",
         "223",
         "B follows A",
         "20",
         "61",
         "20"
        ],
        [
         "223",
         "129",
         "B follows A",
         "20",
         "61",
         "20"
        ],
        [
         "130",
         "220",
         "B follows A",
         "3",
         "6",
         "1"
        ],
        [
         "220",
         "130",
         "B follows A",
         "3",
         "6",
         "1"
        ],
        [
         "133",
         "172",
         "B follows A",
         "40",
         "3",
         "3"
        ],
        [
         "172",
         "133",
         "B follows A",
         "40",
         "3",
         "3"
        ],
        [
         "142",
         "158",
         "A follows B",
         "1",
         "1",
         "0"
        ],
        [
         "158",
         "142",
         "A follows B",
         "1",
         "1",
         "0"
        ],
        [
         "142",
         "223",
         "B follows A",
         "1",
         "0",
         "0"
        ],
        [
         "223",
         "142",
         "B follows A",
         "1",
         "0",
         "0"
        ],
        [
         "144",
         "159",
         "B follows A",
         "27",
         "83",
         "9"
        ],
        [
         "159",
         "144",
         "B follows A",
         "27",
         "83",
         "9"
        ],
        [
         "144",
         "162",
         "B follows A",
         "712",
         "101",
         "92"
        ],
        [
         "162",
         "144",
         "B follows A",
         "712",
         "101",
         "92"
        ],
        [
         "144",
         "173",
         "B follows A",
         "140",
         "74",
         "84"
        ],
        [
         "173",
         "144",
         "B follows A",
         "140",
         "74",
         "84"
        ],
        [
         "144",
         "176",
         "B follows A",
         "575",
         "265",
         "63"
        ],
        [
         "176",
         "144",
         "B follows A",
         "575",
         "265",
         "63"
        ],
        [
         "144",
         "182",
         "B follows A",
         "450",
         "56",
         "65"
        ],
        [
         "182",
         "144",
         "B follows A",
         "450",
         "56",
         "65"
        ],
        [
         "144",
         "193",
         "A and B follow each other",
         "722",
         "296",
         "77"
        ],
        [
         "193",
         "144",
         "A and B follow each other",
         "722",
         "296",
         "77"
        ],
        [
         "144",
         "196",
         "B follows A",
         "429",
         "63",
         "45"
        ],
        [
         "196",
         "144",
         "B follows A",
         "429",
         "63",
         "45"
        ],
        [
         "144",
         "198",
         "B follows A",
         "356",
         "91",
         "18"
        ],
        [
         "198",
         "144",
         "B follows A",
         "356",
         "91",
         "18"
        ],
        [
         "144",
         "201",
         "B follows A",
         "327",
         "100",
         "36"
        ],
        [
         "201",
         "144",
         "B follows A",
         "327",
         "100",
         "36"
        ],
        [
         "144",
         "215",
         "B follows A",
         "155",
         "237",
         "45"
        ],
        [
         "215",
         "144",
         "B follows A",
         "155",
         "237",
         "45"
        ],
        [
         "144",
         "232",
         "A follows B",
         "530",
         "44",
         "99"
        ],
        [
         "232",
         "144",
         "A follows B",
         "530",
         "44",
         "99"
        ],
        [
         "144",
         "239",
         "B follows A",
         "131",
         "103",
         "56"
        ],
        [
         "239",
         "144",
         "B follows A",
         "131",
         "103",
         "56"
        ],
        [
         "144",
         "241",
         "B follows A",
         "203",
         "157",
         "92"
        ],
        [
         "241",
         "144",
         "B follows A",
         "203",
         "157",
         "92"
        ],
        [
         "147",
         "150",
         "A and B follow each other",
         "619",
         "383",
         "14"
        ],
        [
         "150",
         "147",
         "A and B follow each other",
         "619",
         "383",
         "14"
        ],
        [
         "147",
         "151",
         "A follows B",
         "391",
         "232",
         "95"
        ],
        [
         "151",
         "147",
         "A follows B",
         "391",
         "232",
         "95"
        ],
        [
         "147",
         "157",
         "A and B follow each other",
         "211",
         "17",
         "35"
        ],
        [
         "157",
         "147",
         "A and B follow each other",
         "211",
         "17",
         "35"
        ],
        [
         "147",
         "157",
         "B follows A",
         "845",
         "316",
         "105"
        ],
        [
         "157",
         "147",
         "B follows A",
         "845",
         "316",
         "105"
        ],
        [
         "147",
         "170",
         "B follows A",
         "51",
         "113",
         "10"
        ],
        [
         "170",
         "147",
         "B follows A",
         "51",
         "113",
         "10"
        ],
        [
         "147",
         "181",
         "B follows A",
         "809",
         "30",
         "10"
        ],
        [
         "181",
         "147",
         "B follows A",
         "809",
         "30",
         "10"
        ],
        [
         "147",
         "195",
         "A follows B",
         "865",
         "144",
         "36"
        ],
        [
         "195",
         "147",
         "A follows B",
         "865",
         "144",
         "36"
        ],
        [
         "147",
         "202",
         "A follows B",
         "782",
         "164",
         "61"
        ],
        [
         "202",
         "147",
         "A follows B",
         "782",
         "164",
         "61"
        ],
        [
         "147",
         "204",
         "A follows B",
         "445",
         "72",
         "20"
        ],
        [
         "204",
         "147",
         "A follows B",
         "445",
         "72",
         "20"
        ],
        [
         "147",
         "206",
         "B follows A",
         "52",
         "260",
         "83"
        ],
        [
         "206",
         "147",
         "B follows A",
         "52",
         "260",
         "83"
        ],
        [
         "147",
         "224",
         "A follows B",
         "92",
         "184",
         "61"
        ],
        [
         "224",
         "147",
         "A follows B",
         "92",
         "184",
         "61"
        ],
        [
         "147",
         "228",
         "B follows A",
         "288",
         "185",
         "102"
        ],
        [
         "228",
         "147",
         "B follows A",
         "288",
         "185",
         "102"
        ],
        [
         "147",
         "229",
         "B follows A",
         "789",
         "117",
         "96"
        ],
        [
         "229",
         "147",
         "B follows A",
         "789",
         "117",
         "96"
        ],
        [
         "147",
         "229",
         "B follows A",
         "672",
         "106",
         "42"
        ],
        [
         "229",
         "147",
         "B follows A",
         "672",
         "106",
         "42"
        ],
        [
         "147",
         "233",
         "A follows B",
         "61",
         "40",
         "10"
        ],
        [
         "233",
         "147",
         "A follows B",
         "61",
         "40",
         "10"
        ],
        [
         "147",
         "237",
         "A follows B",
         "216",
         "195",
         "41"
        ],
        [
         "237",
         "147",
         "A follows B",
         "216",
         "195",
         "41"
        ],
        [
         "147",
         "240",
         "B follows A",
         "317",
         "40",
         "92"
        ],
        [
         "240",
         "147",
         "B follows A",
         "317",
         "40",
         "92"
        ],
        [
         "147",
         "249",
         "B follows A",
         "551",
         "81",
         "102"
        ],
        [
         "249",
         "147",
         "B follows A",
         "551",
         "81",
         "102"
        ],
        [
         "150",
         "155",
         "B follows A",
         "299",
         "71",
         "47"
        ],
        [
         "155",
         "150",
         "B follows A",
         "299",
         "71",
         "47"
        ],
        [
         "150",
         "187",
         "B follows A",
         "318",
         "4",
         "4"
        ],
        [
         "187",
         "150",
         "B follows A",
         "318",
         "4",
         "4"
        ],
        [
         "150",
         "202",
         "A and B follow each other",
         "56",
         "46",
         "42"
        ],
        [
         "202",
         "150",
         "A and B follow each other",
         "56",
         "46",
         "42"
        ],
        [
         "150",
         "204",
         "B follows A",
         "331",
         "109",
         "47"
        ],
        [
         "204",
         "150",
         "B follows A",
         "331",
         "109",
         "47"
        ],
        [
         "150",
         "224",
         "B follows A",
         "366",
         "116",
         "18"
        ],
        [
         "224",
         "150",
         "B follows A",
         "366",
         "116",
         "18"
        ],
        [
         "150",
         "233",
         "A and B follow each other",
         "243",
         "119",
         "46"
        ],
        [
         "233",
         "150",
         "A and B follow each other",
         "243",
         "119",
         "46"
        ],
        [
         "150",
         "237",
         "B follows A",
         "304",
         "9",
         "9"
        ],
        [
         "237",
         "150",
         "B follows A",
         "304",
         "9",
         "9"
        ],
        [
         "150",
         "239",
         "B follows A",
         "245",
         "102",
         "49"
        ],
        [
         "239",
         "150",
         "B follows A",
         "245",
         "102",
         "49"
        ],
        [
         "150",
         "240",
         "B follows A",
         "36",
         "73",
         "41"
        ],
        [
         "240",
         "150",
         "B follows A",
         "36",
         "73",
         "41"
        ],
        [
         "150",
         "249",
         "B follows A",
         "298",
         "59",
         "45"
        ],
        [
         "249",
         "150",
         "B follows A",
         "298",
         "59",
         "45"
        ],
        [
         "156",
         "171",
         "A and B follow each other",
         "1507",
         "371",
         "82"
        ],
        [
         "171",
         "156",
         "A and B follow each other",
         "1507",
         "371",
         "82"
        ],
        [
         "156",
         "175",
         "B follows A",
         "405",
         "162",
         "23"
        ],
        [
         "175",
         "156",
         "B follows A",
         "405",
         "162",
         "23"
        ],
        [
         "156",
         "187",
         "B follows A",
         "293",
         "199",
         "11"
        ],
        [
         "187",
         "156",
         "B follows A",
         "293",
         "199",
         "11"
        ],
        [
         "156",
         "195",
         "A and B follow each other",
         "890",
         "232",
         "154"
        ],
        [
         "195",
         "156",
         "A and B follow each other",
         "890",
         "232",
         "154"
        ],
        [
         "156",
         "198",
         "B follows A",
         "914",
         "185",
         "11"
        ],
        [
         "198",
         "156",
         "B follows A",
         "914",
         "185",
         "11"
        ],
        [
         "156",
         "206",
         "B follows A",
         "573",
         "152",
         "46"
        ],
        [
         "206",
         "156",
         "B follows A",
         "573",
         "152",
         "46"
        ],
        [
         "156",
         "210",
         "B follows A",
         "69",
         "232",
         "92"
        ],
        [
         "210",
         "156",
         "B follows A",
         "69",
         "232",
         "92"
        ],
        [
         "156",
         "222",
         "B follows A",
         "856",
         "58",
         "23"
        ],
        [
         "222",
         "156",
         "B follows A",
         "856",
         "58",
         "23"
        ],
        [
         "156",
         "247",
         "A and B follow each other",
         "614",
         "353",
         "52"
        ],
        [
         "247",
         "156",
         "A and B follow each other",
         "614",
         "353",
         "52"
        ],
        [
         "157",
         "162",
         "B follows A",
         "448",
         "53",
         "30"
        ],
        [
         "162",
         "157",
         "B follows A",
         "448",
         "53",
         "30"
        ],
        [
         "157",
         "167",
         "A follows B",
         "426",
         "202",
         "74"
        ],
        [
         "167",
         "157",
         "A follows B",
         "426",
         "202",
         "74"
        ],
        [
         "157",
         "170",
         "B follows A",
         "180",
         "135",
         "37"
        ],
        [
         "170",
         "157",
         "B follows A",
         "180",
         "135",
         "37"
        ],
        [
         "157",
         "187",
         "A follows B",
         "544",
         "92",
         "76"
        ],
        [
         "187",
         "157",
         "A follows B",
         "544",
         "92",
         "76"
        ],
        [
         "157",
         "196",
         "B follows A",
         "381",
         "142",
         "59"
        ],
        [
         "196",
         "157",
         "B follows A",
         "381",
         "142",
         "59"
        ],
        [
         "157",
         "229",
         "A follows B",
         "39",
         "31",
         "23"
        ],
        [
         "229",
         "157",
         "A follows B",
         "39",
         "31",
         "23"
        ],
        [
         "157",
         "230",
         "A follows B",
         "281",
         "106",
         "53"
        ],
        [
         "230",
         "157",
         "A follows B",
         "281",
         "106",
         "53"
        ],
        [
         "157",
         "236",
         "B follows A",
         "380",
         "67",
         "29"
        ],
        [
         "236",
         "157",
         "B follows A",
         "380",
         "67",
         "29"
        ],
        [
         "157",
         "237",
         "B follows A",
         "587",
         "97",
         "15"
        ],
        [
         "237",
         "157",
         "B follows A",
         "587",
         "97",
         "15"
        ],
        [
         "157",
         "239",
         "A follows B",
         "527",
         "124",
         "62"
        ],
        [
         "239",
         "157",
         "A follows B",
         "527",
         "124",
         "62"
        ],
        [
         "157",
         "249",
         "B follows A",
         "238",
         "148",
         "52"
        ],
        [
         "249",
         "157",
         "B follows A",
         "238",
         "148",
         "52"
        ],
        [
         "158",
         "188",
         "B follows A",
         "2",
         "4",
         "1"
        ],
        [
         "188",
         "158",
         "B follows A",
         "2",
         "4",
         "1"
        ],
        [
         "159",
         "172",
         "A follows B",
         "4",
         "0",
         "0"
        ],
        [
         "172",
         "159",
         "A follows B",
         "4",
         "0",
         "0"
        ],
        [
         "160",
         "245",
         "A follows B",
         "1",
         "2",
         "0"
        ],
        [
         "245",
         "160",
         "A follows B",
         "1",
         "2",
         "0"
        ],
        [
         "163",
         "168",
         "B follows A",
         "807",
         "272",
         "21"
        ],
        [
         "168",
         "163",
         "B follows A",
         "807",
         "272",
         "21"
        ],
        [
         "163",
         "186",
         "B follows A",
         "595",
         "270",
         "54"
        ],
        [
         "186",
         "163",
         "B follows A",
         "595",
         "270",
         "54"
        ],
        [
         "163",
         "207",
         "B follows A",
         "255",
         "255",
         "89"
        ],
        [
         "207",
         "163",
         "B follows A",
         "255",
         "255",
         "89"
        ],
        [
         "163",
         "216",
         "B follows A",
         "213",
         "78",
         "22"
        ],
        [
         "216",
         "163",
         "B follows A",
         "213",
         "78",
         "22"
        ],
        [
         "169",
         "183",
         "A follows B",
         "537",
         "89",
         "8"
        ],
        [
         "183",
         "169",
         "A follows B",
         "537",
         "89",
         "8"
        ],
        [
         "169",
         "213",
         "A follows B",
         "388",
         "84",
         "33"
        ],
        [
         "213",
         "169",
         "A follows B",
         "388",
         "84",
         "33"
        ],
        [
         "171",
         "175",
         "B follows A",
         "692",
         "230",
         "55"
        ],
        [
         "175",
         "171",
         "B follows A",
         "692",
         "230",
         "55"
        ],
        [
         "171",
         "206",
         "B follows A",
         "599",
         "112",
         "84"
        ],
        [
         "206",
         "171",
         "B follows A",
         "599",
         "112",
         "84"
        ],
        [
         "171",
         "209",
         "A follows B",
         "403",
         "45",
         "55"
        ],
        [
         "209",
         "171",
         "A follows B",
         "403",
         "45",
         "55"
        ],
        [
         "171",
         "210",
         "B follows A",
         "574",
         "101",
         "55"
        ],
        [
         "210",
         "171",
         "B follows A",
         "574",
         "101",
         "55"
        ],
        [
         "171",
         "222",
         "B follows A",
         "553",
         "18",
         "28"
        ],
        [
         "222",
         "171",
         "B follows A",
         "553",
         "18",
         "28"
        ],
        [
         "171",
         "226",
         "B follows A",
         "569",
         "214",
         "46"
        ],
        [
         "226",
         "171",
         "B follows A",
         "569",
         "214",
         "46"
        ],
        [
         "171",
         "246",
         "B follows A",
         "212",
         "36",
         "73"
        ],
        [
         "246",
         "171",
         "B follows A",
         "212",
         "36",
         "73"
        ],
        [
         "173",
         "215",
         "B follows A",
         "20",
         "4",
         "3"
        ],
        [
         "215",
         "173",
         "B follows A",
         "20",
         "4",
         "3"
        ],
        [
         "180",
         "186",
         "B follows A",
         "55",
         "387",
         "36"
        ],
        [
         "186",
         "180",
         "B follows A",
         "55",
         "387",
         "36"
        ],
        [
         "180",
         "194",
         "B follows A",
         "831",
         "351",
         "18"
        ],
        [
         "194",
         "180",
         "B follows A",
         "831",
         "351",
         "18"
        ],
        [
         "180",
         "198",
         "B follows A",
         "555",
         "462",
         "18"
        ],
        [
         "198",
         "180",
         "B follows A",
         "555",
         "462",
         "18"
        ],
        [
         "180",
         "213",
         "B follows A",
         "37",
         "412",
         "112"
        ],
        [
         "213",
         "180",
         "B follows A",
         "37",
         "412",
         "112"
        ],
        [
         "180",
         "225",
         "B follows A",
         "1493",
         "269",
         "244"
        ],
        [
         "225",
         "180",
         "B follows A",
         "1493",
         "269",
         "244"
        ],
        [
         "180",
         "241",
         "B follows A",
         "874",
         "167",
         "186"
        ],
        [
         "241",
         "180",
         "B follows A",
         "874",
         "167",
         "186"
        ],
        [
         "180",
         "243",
         "A and B follow each other",
         "868",
         "173",
         "130"
        ],
        [
         "243",
         "180",
         "A and B follow each other",
         "868",
         "173",
         "130"
        ],
        [
         "180",
         "243",
         "A and B follow each other",
         "1562",
         "607",
         "217"
        ],
        [
         "243",
         "180",
         "A and B follow each other",
         "1562",
         "607",
         "217"
        ],
        [
         "180",
         "244",
         "B follows A",
         "1318",
         "427",
         "167"
        ],
        [
         "244",
         "180",
         "B follows A",
         "1318",
         "427",
         "167"
        ],
        [
         "180",
         "247",
         "B follows A",
         "560",
         "240",
         "160"
        ],
        [
         "247",
         "180",
         "B follows A",
         "560",
         "240",
         "160"
        ],
        [
         "180",
         "248",
         "B follows A",
         "332",
         "258",
         "184"
        ],
        [
         "248",
         "180",
         "B follows A",
         "332",
         "258",
         "184"
        ],
        [
         "182",
         "210",
         "A follows B",
         "21",
         "1",
         "1"
        ],
        [
         "210",
         "182",
         "A follows B",
         "21",
         "1",
         "1"
        ],
        [
         "184",
         "218",
         "B follows A",
         "372",
         "7",
         "53"
        ],
        [
         "218",
         "184",
         "B follows A",
         "372",
         "7",
         "53"
        ],
        [
         "184",
         "220",
         "B follows A",
         "362",
         "90",
         "15"
        ],
        [
         "220",
         "184",
         "B follows A",
         "362",
         "90",
         "15"
        ],
        [
         "184",
         "238",
         "A follows B",
         "44",
         "74",
         "7"
        ],
        [
         "238",
         "184",
         "A follows B",
         "44",
         "74",
         "7"
        ],
        [
         "184",
         "243",
         "A and B follow each other",
         "374",
         "10",
         "96"
        ],
        [
         "243",
         "184",
         "A and B follow each other",
         "374",
         "10",
         "96"
        ],
        [
         "184",
         "245",
         "A follows B",
         "179",
         "96",
         "67"
        ],
        [
         "245",
         "184",
         "A follows B",
         "179",
         "96",
         "67"
        ],
        [
         "189",
         "193",
         "A and B follow each other",
         "168",
         "46",
         "25"
        ],
        [
         "193",
         "189",
         "A and B follow each other",
         "168",
         "46",
         "25"
        ],
        [
         "189",
         "205",
         "B follows A",
         "11",
         "4",
         "1"
        ],
        [
         "205",
         "189",
         "B follows A",
         "11",
         "4",
         "1"
        ],
        [
         "189",
         "216",
         "B follows A",
         "14",
         "21",
         "4"
        ],
        [
         "216",
         "189",
         "B follows A",
         "14",
         "21",
         "4"
        ],
        [
         "189",
         "223",
         "A follows B",
         "27",
         "2",
         "3"
        ],
        [
         "223",
         "189",
         "A follows B",
         "27",
         "2",
         "3"
        ],
        [
         "193",
         "194",
         "B follows A",
         "38",
         "93",
         "23"
        ],
        [
         "194",
         "193",
         "B follows A",
         "38",
         "93",
         "23"
        ],
        [
         "193",
         "202",
         "B follows A",
         "70",
         "15",
         "39"
        ],
        [
         "202",
         "193",
         "B follows A",
         "70",
         "15",
         "39"
        ],
        [
         "193",
         "210",
         "B follows A",
         "200",
         "70",
         "7"
        ],
        [
         "210",
         "193",
         "B follows A",
         "200",
         "70",
         "7"
        ],
        [
         "193",
         "216",
         "B follows A",
         "173",
         "76",
         "38"
        ],
        [
         "216",
         "193",
         "B follows A",
         "173",
         "76",
         "38"
        ],
        [
         "193",
         "224",
         "B follows A",
         "230",
         "39",
         "3"
        ],
        [
         "224",
         "193",
         "B follows A",
         "230",
         "39",
         "3"
        ],
        [
         "193",
         "229",
         "B follows A",
         "81",
         "47",
         "12"
        ],
        [
         "229",
         "193",
         "B follows A",
         "81",
         "47",
         "12"
        ],
        [
         "193",
         "233",
         "B follows A",
         "81",
         "92",
         "7"
        ],
        [
         "233",
         "193",
         "B follows A",
         "81",
         "92",
         "7"
        ],
        [
         "193",
         "236",
         "B follows A",
         "112",
         "46",
         "30"
        ],
        [
         "236",
         "193",
         "B follows A",
         "112",
         "46",
         "30"
        ],
        [
         "193",
         "237",
         "B follows A",
         "23",
         "39",
         "7"
        ],
        [
         "237",
         "193",
         "B follows A",
         "23",
         "39",
         "7"
        ],
        [
         "193",
         "239",
         "B follows A",
         "224",
         "116",
         "33"
        ],
        [
         "239",
         "193",
         "B follows A",
         "224",
         "116",
         "33"
        ],
        [
         "195",
         "205",
         "A follows B",
         "207",
         "47",
         "47"
        ],
        [
         "205",
         "195",
         "A follows B",
         "207",
         "47",
         "47"
        ],
        [
         "195",
         "209",
         "B follows A",
         "527",
         "181",
         "55"
        ],
        [
         "209",
         "195",
         "B follows A",
         "527",
         "181",
         "55"
        ],
        [
         "195",
         "220",
         "A follows B",
         "430",
         "239",
         "71"
        ],
        [
         "220",
         "195",
         "A follows B",
         "430",
         "239",
         "71"
        ],
        [
         "195",
         "225",
         "A follows B",
         "1071",
         "389",
         "97"
        ],
        [
         "225",
         "195",
         "A follows B",
         "1071",
         "389",
         "97"
        ],
        [
         "195",
         "232",
         "B follows A",
         "422",
         "186",
         "19"
        ],
        [
         "232",
         "195",
         "B follows A",
         "422",
         "186",
         "19"
        ],
        [
         "195",
         "241",
         "B follows A",
         "217",
         "241",
         "56"
        ],
        [
         "241",
         "195",
         "B follows A",
         "217",
         "241",
         "56"
        ],
        [
         "195",
         "244",
         "B follows A",
         "552",
         "48",
         "32"
        ],
        [
         "244",
         "195",
         "B follows A",
         "552",
         "48",
         "32"
        ],
        [
         "197",
         "205",
         "A follows B",
         "195",
         "16",
         "27"
        ],
        [
         "205",
         "197",
         "A follows B",
         "195",
         "16",
         "27"
        ],
        [
         "197",
         "206",
         "B follows A",
         "436",
         "99",
         "55"
        ],
        [
         "206",
         "197",
         "B follows A",
         "436",
         "99",
         "55"
        ],
        [
         "197",
         "222",
         "B follows A",
         "171",
         "116",
         "16"
        ],
        [
         "222",
         "197",
         "B follows A",
         "171",
         "116",
         "16"
        ],
        [
         "197",
         "228",
         "B follows A",
         "421",
         "97",
         "54"
        ],
        [
         "228",
         "197",
         "B follows A",
         "421",
         "97",
         "54"
        ],
        [
         "204",
         "221",
         "B follows A",
         "13",
         "3",
         "1"
        ],
        [
         "221",
         "204",
         "B follows A",
         "13",
         "3",
         "1"
        ],
        [
         "208",
         "209",
         "B follows A",
         "769",
         "192",
         "48"
        ],
        [
         "209",
         "208",
         "B follows A",
         "769",
         "192",
         "48"
        ],
        [
         "208",
         "222",
         "B follows A",
         "108",
         "294",
         "58"
        ],
        [
         "222",
         "208",
         "B follows A",
         "108",
         "294",
         "58"
        ],
        [
         "208",
         "225",
         "A and B follow each other",
         "344",
         "454",
         "93"
        ],
        [
         "225",
         "208",
         "A and B follow each other",
         "344",
         "454",
         "93"
        ],
        [
         "208",
         "232",
         "A and B follow each other",
         "92",
         "312",
         "11"
        ],
        [
         "232",
         "208",
         "A and B follow each other",
         "92",
         "312",
         "11"
        ],
        [
         "208",
         "234",
         "B follows A",
         "615",
         "139",
         "29"
        ],
        [
         "234",
         "208",
         "B follows A",
         "615",
         "139",
         "29"
        ],
        [
         "208",
         "236",
         "B follows A",
         "751",
         "38",
         "38"
        ],
        [
         "236",
         "208",
         "B follows A",
         "751",
         "38",
         "38"
        ],
        [
         "208",
         "248",
         "B follows A",
         "464",
         "164",
         "96"
        ],
        [
         "248",
         "208",
         "B follows A",
         "464",
         "164",
         "96"
        ],
        [
         "211",
         "242",
         "A follows B",
         "26",
         "0",
         "1"
        ],
        [
         "242",
         "211",
         "A follows B",
         "26",
         "0",
         "1"
        ],
        [
         "212",
         "230",
         "B follows A",
         "154",
         "45",
         "10"
        ],
        [
         "230",
         "212",
         "B follows A",
         "154",
         "45",
         "10"
        ],
        [
         "217",
         "219",
         "A follows B",
         "18",
         "3",
         "3"
        ],
        [
         "219",
         "217",
         "A follows B",
         "18",
         "3",
         "3"
        ],
        [
         "221",
         "229",
         "A follows B",
         "17",
         "4",
         "4"
        ],
        [
         "229",
         "221",
         "A follows B",
         "17",
         "4",
         "4"
        ],
        [
         "221",
         "239",
         "A follows B",
         "24",
         "3",
         "0"
        ],
        [
         "239",
         "221",
         "A follows B",
         "24",
         "3",
         "0"
        ],
        [
         "223",
         "236",
         "B follows A",
         "0",
         "1",
         "0"
        ],
        [
         "236",
         "223",
         "B follows A",
         "0",
         "1",
         "0"
        ],
        [
         "229",
         "237",
         "B follows A",
         "18",
         "11",
         "0"
        ],
        [
         "237",
         "229",
         "B follows A",
         "18",
         "11",
         "0"
        ],
        [
         "229",
         "249",
         "B follows A",
         "23",
         "8",
         "3"
        ],
        [
         "249",
         "229",
         "B follows A",
         "23",
         "8",
         "3"
        ],
        [
         "232",
         "241",
         "A follows B",
         "119",
         "36",
         "6"
        ],
        [
         "241",
         "232",
         "A follows B",
         "119",
         "36",
         "6"
        ],
        [
         "232",
         "244",
         "A follows B",
         "6",
         "23",
         "17"
        ],
        [
         "244",
         "232",
         "A follows B",
         "6",
         "23",
         "17"
        ],
        [
         "232",
         "247",
         "A follows B",
         "224",
         "74",
         "14"
        ],
        [
         "247",
         "232",
         "A follows B",
         "224",
         "74",
         "14"
        ],
        [
         "233",
         "249",
         "B follows A",
         "0",
         "0",
         "0"
        ],
        [
         "249",
         "233",
         "B follows A",
         "0",
         "0",
         "0"
        ],
        [
         "243",
         "245",
         "B follows A",
         "122",
         "76",
         "23"
        ],
        [
         "245",
         "243",
         "B follows A",
         "122",
         "76",
         "23"
        ],
        [
         "243",
         "247",
         "A follows B",
         "218",
         "116",
         "9"
        ],
        [
         "247",
         "243",
         "A follows B",
         "218",
         "116",
         "9"
        ],
        [
         "243",
         "248",
         "A follows B",
         "164",
         "20",
         "26"
        ],
        [
         "248",
         "243",
         "A follows B",
         "164",
         "20",
         "26"
        ]
       ],
       "datasetInfos": [],
       "dbfsResultPath": null,
       "isJsonSchema": true,
       "metadata": {},
       "overflow": false,
       "plotOptions": {
        "customPlotOptions": {},
        "displayType": "table",
        "pivotAggregation": null,
        "pivotColumns": null,
        "xColumns": null,
        "yColumns": null
       },
       "removedWidgets": [],
       "schema": [
        {
         "metadata": "{}",
         "name": "src",
         "type": "\"string\""
        },
        {
         "metadata": "{}",
         "name": "dst",
         "type": "\"string\""
        },
        {
         "metadata": "{}",
         "name": "follower_following",
         "type": "\"string\""
        },
        {
         "metadata": "{}",
         "name": "engagement_likes",
         "type": "\"string\""
        },
        {
         "metadata": "{}",
         "name": "engagement_comments",
         "type": "\"string\""
        },
        {
         "metadata": "{}",
         "name": "engagement_dms",
         "type": "\"string\""
        }
       ],
       "type": "table"
      }
     },
     "output_type": "display_data"
    }
   ],
   "source": [
    "display(edges_df)"
   ]
  },
  {
   "cell_type": "code",
   "execution_count": null,
   "metadata": {
    "application/vnd.databricks.v1+cell": {
     "cellMetadata": {
      "byteLimit": 2048000,
      "rowLimit": 10000
     },
     "inputWidgets": {},
     "nuid": "a87f56c2-f570-4d24-8074-b17672379fca",
     "showTitle": false,
     "title": ""
    }
   },
   "outputs": [],
   "source": [
    "# create a graphframes graph from the data:\n",
    "# Rename node_id column\n",
    "\n",
    "nodes_df = nodes_df.withColumnRenamed(\"node_id\", \"id\")\n",
    "\n",
    "instaGraph = GraphFrame(nodes_df, edges_df)"
   ]
  },
  {
   "cell_type": "markdown",
   "metadata": {
    "application/vnd.databricks.v1+cell": {
     "cellMetadata": {
      "byteLimit": 2048000,
      "rowLimit": 10000
     },
     "inputWidgets": {},
     "nuid": "dfaacc3a-c826-4e10-9001-8bd4764c3aa8",
     "showTitle": false,
     "title": ""
    }
   },
   "source": [
    "How many edges and vertices are their in our graph?"
   ]
  },
  {
   "cell_type": "code",
   "execution_count": null,
   "metadata": {
    "application/vnd.databricks.v1+cell": {
     "cellMetadata": {
      "byteLimit": 2048000,
      "rowLimit": 10000
     },
     "inputWidgets": {},
     "nuid": "6d5e0686-189a-4d1e-9202-a6a642b3b686",
     "showTitle": false,
     "title": ""
    }
   },
   "outputs": [
    {
     "name": "stdout",
     "output_type": "stream",
     "text": [
      "250\n",
      "898\n"
     ]
    }
   ],
   "source": [
    "print(instaGraph.vertices.count())\n",
    "print(instaGraph.edges.count())"
   ]
  },
  {
   "cell_type": "markdown",
   "metadata": {
    "application/vnd.databricks.v1+cell": {
     "cellMetadata": {
      "byteLimit": 2048000,
      "rowLimit": 10000
     },
     "inputWidgets": {},
     "nuid": "d758eba6-9c64-404c-b340-b63bf4c55e1c",
     "showTitle": false,
     "title": ""
    }
   },
   "source": [
    "In our dataset who is followed the most (including friends) and who follows the most in our dataset (hint: think degrees)"
   ]
  },
  {
   "cell_type": "code",
   "execution_count": null,
   "metadata": {
    "application/vnd.databricks.v1+cell": {
     "cellMetadata": {
      "byteLimit": 2048000,
      "rowLimit": 10000
     },
     "inputWidgets": {},
     "nuid": "be926537-7d5d-4fa8-a439-115872432fe0",
     "showTitle": false,
     "title": ""
    }
   },
   "outputs": [
    {
     "name": "stdout",
     "output_type": "stream",
     "text": [
      "+---+---------+\n",
      "| id|outDegree|\n",
      "+---+---------+\n",
      "|  5|       29|\n",
      "| 38|       26|\n",
      "|  8|       23|\n",
      "| 50|       23|\n",
      "| 19|       22|\n",
      "| 11|       22|\n",
      "| 27|       20|\n",
      "|147|       20|\n",
      "|157|       15|\n",
      "|193|       15|\n",
      "| 84|       15|\n",
      "|195|       14|\n",
      "|144|       14|\n",
      "| 86|       14|\n",
      "|119|       13|\n",
      "|180|       12|\n",
      "|156|       12|\n",
      "| 97|       12|\n",
      "|150|       12|\n",
      "|129|       11|\n",
      "+---+---------+\n",
      "only showing top 20 rows\n",
      "\n"
     ]
    }
   ],
   "source": [
    "instaGraph.outDegrees.orderBy(\"outDegree\", ascending=False).show()"
   ]
  },
  {
   "cell_type": "code",
   "execution_count": null,
   "metadata": {
    "application/vnd.databricks.v1+cell": {
     "cellMetadata": {
      "byteLimit": 2048000,
      "rowLimit": 10000
     },
     "inputWidgets": {},
     "nuid": "5c0364dd-60fa-4590-90d1-09f5735fc7ff",
     "showTitle": false,
     "title": ""
    }
   },
   "outputs": [
    {
     "name": "stdout",
     "output_type": "stream",
     "text": [
      "+---+--------+\n",
      "| id|inDegree|\n",
      "+---+--------+\n",
      "|  5|      29|\n",
      "| 38|      26|\n",
      "|  8|      23|\n",
      "| 50|      23|\n",
      "| 19|      22|\n",
      "| 11|      22|\n",
      "| 27|      20|\n",
      "|147|      20|\n",
      "|157|      15|\n",
      "|193|      15|\n",
      "| 84|      15|\n",
      "|195|      14|\n",
      "|144|      14|\n",
      "| 86|      14|\n",
      "|119|      13|\n",
      "|180|      12|\n",
      "|156|      12|\n",
      "| 97|      12|\n",
      "|150|      12|\n",
      "|129|      11|\n",
      "+---+--------+\n",
      "only showing top 20 rows\n",
      "\n"
     ]
    }
   ],
   "source": [
    "instaGraph.inDegrees.orderBy(\"inDegree\", ascending=False).show()"
   ]
  },
  {
   "cell_type": "markdown",
   "metadata": {
    "application/vnd.databricks.v1+cell": {
     "cellMetadata": {
      "byteLimit": 2048000,
      "rowLimit": 10000
     },
     "inputWidgets": {},
     "nuid": "548ccf74-8efe-4dac-a8ff-39cab2b7790f",
     "showTitle": false,
     "title": ""
    }
   },
   "source": [
    "Apply label propogation algorithm and find how many unique labels exist. Bonus: use Network X to plot a coloured graph"
   ]
  },
  {
   "cell_type": "code",
   "execution_count": null,
   "metadata": {
    "application/vnd.databricks.v1+cell": {
     "cellMetadata": {
      "byteLimit": 2048000,
      "rowLimit": 10000
     },
     "inputWidgets": {},
     "nuid": "e70aa810-5c7a-48d4-9044-897c28e40b5e",
     "showTitle": false,
     "title": ""
    }
   },
   "outputs": [],
   "source": [
    "result_lp = instaGraph.labelPropagation(maxIter=10)\n"
   ]
  },
  {
   "cell_type": "code",
   "execution_count": null,
   "metadata": {
    "application/vnd.databricks.v1+cell": {
     "cellMetadata": {
      "byteLimit": 2048000,
      "rowLimit": 10000
     },
     "inputWidgets": {},
     "nuid": "4bcf3bb7-05da-4646-89a7-6b5560fdd721",
     "showTitle": false,
     "title": ""
    }
   },
   "outputs": [
    {
     "name": "stdout",
     "output_type": "stream",
     "text": [
      "+---+-------------+\n",
      "| id|        label|\n",
      "+---+-------------+\n",
      "| 77| 472446402560|\n",
      "| 30| 163208757249|\n",
      "|154| 395136991232|\n",
      "|226| 627065225216|\n",
      "|172| 850403524609|\n",
      "| 12| 893353197569|\n",
      "|187| 395136991232|\n",
      "| 16|1391569403904|\n",
      "| 19| 601295421440|\n",
      "|109| 395136991232|\n",
      "| 15|  94489280513|\n",
      "|205| 893353197569|\n",
      "|228| 627065225216|\n",
      "|147| 601295421440|\n",
      "| 82| 919123001346|\n",
      "| 95| 893353197569|\n",
      "|145| 893353197569|\n",
      "|189| 893353197569|\n",
      "|231| 326417514497|\n",
      "|237| 395136991232|\n",
      "+---+-------------+\n",
      "only showing top 20 rows\n",
      "\n",
      "+-------------+\n",
      "|        label|\n",
      "+-------------+\n",
      "| 970662608897|\n",
      "|1236950581248|\n",
      "| 919123001346|\n",
      "|1408749273090|\n",
      "| 627065225216|\n",
      "| 137438953472|\n",
      "| 601295421440|\n",
      "| 850403524609|\n",
      "|1322849927169|\n",
      "| 893353197569|\n",
      "| 395136991232|\n",
      "| 549755813888|\n",
      "|1391569403904|\n",
      "|  94489280513|\n",
      "| 395136991234|\n",
      "| 249108103169|\n",
      "| 163208757249|\n",
      "| 326417514497|\n",
      "| 979252543488|\n",
      "|  94489280512|\n",
      "+-------------+\n",
      "only showing top 20 rows\n",
      "\n"
     ]
    }
   ],
   "source": [
    "# Display the detected communities\n",
    "result_lp.select(\"id\", \"label\").show()\n",
    "\n",
    "result_lp.select(\"label\").distinct().show()"
   ]
  },
  {
   "cell_type": "code",
   "execution_count": null,
   "metadata": {
    "application/vnd.databricks.v1+cell": {
     "cellMetadata": {
      "byteLimit": 2048000,
      "rowLimit": 10000
     },
     "inputWidgets": {},
     "nuid": "07055715-85d5-4cec-9cc3-157278f8b9f7",
     "showTitle": false,
     "title": ""
    }
   },
   "outputs": [
    {
     "data": {
      "image/png": "[encoded data removed]"
     },
     "metadata": {
      "application/vnd.databricks.v1+output": {
       "addedWidgets": {},
       "arguments": {},
       "data": "data:image/png;base64,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\n",
       "datasetInfos": [],
       "metadata": {},
       "removedWidgets": [],
       "type": "image"
      }
     },
     "output_type": "display_data"
    }
   ],
   "source": [
    "import numpy as np\n",
    "# Create a directed graph\n",
    "G = nx.DiGraph()\n",
    "\n",
    "# Add edges\n",
    "for row in instaGraph.vertices.collect():\n",
    "    G.add_node(row['id'])\n",
    "\n",
    "# Add edges\n",
    "for row in instaGraph.edges.collect():\n",
    "    G.add_edge(row['src'], row['dst'])\n",
    "\n",
    "# Create a color map based on the component id\n",
    "color_map = {}\n",
    "\n",
    "# Get all unique components and create a color for each of them\n",
    "pdf = result_lp.orderBy(\"id\").toPandas()\n",
    "unique_components = pdf[pdf.columns[-1]].unique()\n",
    "colors = plt.cm.rainbow(np.linspace(0, 1, len(unique_components)))\n",
    "\n",
    "for component, color in zip(unique_components, colors):\n",
    "    color_map[component] = color\n",
    "\n",
    "# Map the nodes to their colors\n",
    "node_colors = [color_map[component] for component in pdf[pdf.columns[-1]]]\n",
    "\n",
    "# Draw the graph\n",
    "nx.draw(G, node_color=node_colors, with_labels=False)\n",
    "plt.show()\n"
   ]
  },
  {
   "cell_type": "markdown",
   "metadata": {
    "application/vnd.databricks.v1+cell": {
     "cellMetadata": {
      "byteLimit": 2048000,
      "rowLimit": 10000
     },
     "inputWidgets": {},
     "nuid": "3d567c58-926e-487d-840d-97e316e5fee9",
     "showTitle": false,
     "title": ""
    }
   },
   "source": [
    "Who is the most influential by pagerank and by number of triangles?"
   ]
  },
  {
   "cell_type": "code",
   "execution_count": null,
   "metadata": {
    "application/vnd.databricks.v1+cell": {
     "cellMetadata": {
      "byteLimit": 2048000,
      "rowLimit": 10000
     },
     "inputWidgets": {},
     "nuid": "be522a11-6ca0-4fe6-9c72-be24a7adb06d",
     "showTitle": false,
     "title": ""
    }
   },
   "outputs": [],
   "source": [
    "pageRanks = instaGraph.pageRank(resetProbability=0.15, maxIter = 5)"
   ]
  },
  {
   "cell_type": "code",
   "execution_count": null,
   "metadata": {
    "application/vnd.databricks.v1+cell": {
     "cellMetadata": {
      "byteLimit": 2048000,
      "rowLimit": 10000
     },
     "inputWidgets": {},
     "nuid": "8bcd6054-54f0-4990-83a6-92ea5357df66",
     "showTitle": false,
     "title": ""
    }
   },
   "outputs": [
    {
     "name": "stdout",
     "output_type": "stream",
     "text": [
      "+---+---------+---------+-----+---------+---------+---+------+--------------------+----------+----------+------------------+\n",
      "| id|followers|following|posts|    likes| comments|age|gender|           interests|occupation|  location|          pagerank|\n",
      "+---+---------+---------+-----+---------+---------+---+------+--------------------+----------+----------+------------------+\n",
      "|  5|    93875|     1438| 1497| 91499840| 63713738| 35|  male|['Gaming', 'Readi...|  Musician|Copenhagen|  8.38753843636091|\n",
      "| 50|    93025|      202| 1758|133038075|  8692681| 18|  male|['Reading', 'Musi...|  Musician|     Paris| 6.871373805192238|\n",
      "| 38|    93892|     1741|  896| 77047227|192607826| 18|female|['Nature', 'Yoga'...|    Artist|      Rome| 6.150745473727345|\n",
      "|  8|    81945|     1355|  511| 34874601| 79178760| 45|  male|['Photography', '...|    Artist|    Zurich| 6.082855286101643|\n",
      "| 27|    96113|     1922| 1764|147394160|309179989| 40|female|   ['Art', 'Nature']|  Musician| Amsterdam| 5.679514659428024|\n",
      "| 19|    91621|      290|  237| 18290056| 57616900| 40|female|            ['Yoga']|  Musician|    Berlin| 5.645291750889674|\n",
      "| 11|    40441|     1931|  314|  2225186|  3991000| 44|female|['Gardening', 'Ga...|    Artist|    Zurich|5.5675094556976195|\n",
      "|147|    73259|     1031| 1019| 54021927| 91221965| 44|  male|['Photography', '...|  Musician|    Berlin| 4.050750695202599|\n",
      "| 84|    39411|     1745|  500|  3298628| 19464926| 37|  male|['Nature', 'Writi...|    Artist|     Paris| 4.048988785187701|\n",
      "| 86|    58146|     1747|   10|   295523|   801987| 29|  male|['Writing', 'Read...| Filmmaker| Amsterdam| 3.472655540259773|\n",
      "|129|    30985|     1332|  339|  1488922|  1484470| 23|  male|['Sports', 'Photo...|    Artist|    Prague| 3.277162190458196|\n",
      "|193|    90555|     1477|  383| 16908184| 48533288| 43|  male|['Photography', '...|    Artist|    Berlin| 3.172280853018033|\n",
      "|157|    63844|      515|  742| 18395615| 27625032| 25|female|['Technology', 'G...| Filmmaker|    Berlin|3.0930893832877095|\n",
      "|119|    48254|     1936|  961|  9222711| 67905239| 41|female|['Nature', 'Writi...|    Artist|Copenhagen| 3.083026813560101|\n",
      "|144|    82267|     1329|  907| 34561601| 89320564| 28|female|['Photography', '...|    Artist|      Rome| 3.073483977271836|\n",
      "| 14|    63162|      265| 1219| 19864070|142323695| 45|female|['Music', 'Techno...| Filmmaker|    Lisbon|3.0396696736880644|\n",
      "|195|    47918|     1367|  785|  2414697| 16628802| 22|  male|['Photography', '...|  Musician|    Zurich|  3.03143853208579|\n",
      "|180|    96463|     1368| 1842| 23133013|423159670| 25|female|['Technology', 'T...| Filmmaker|    Zurich|2.8401831247208884|\n",
      "|156|    88397|      486| 1150| 79707341|169193593| 34|  male|['Gardening', 'Yo...|    Artist|Copenhagen| 2.599933249102452|\n",
      "| 97|    49294|       99|  724| 13234826| 27855087| 20|female|['Gardening', 'Ar...| Filmmaker|      Rome| 2.571288847517099|\n",
      "+---+---------+---------+-----+---------+---------+---+------+--------------------+----------+----------+------------------+\n",
      "only showing top 20 rows\n",
      "\n"
     ]
    }
   ],
   "source": [
    "pageRanks.vertices.orderBy(\"pagerank\",ascending=False).show()"
   ]
  },
  {
   "cell_type": "markdown",
   "metadata": {
    "application/vnd.databricks.v1+cell": {
     "cellMetadata": {
      "byteLimit": 2048000,
      "rowLimit": 10000
     },
     "inputWidgets": {},
     "nuid": "bbac3d46-cb59-43c8-bed7-c25ee4b47379",
     "showTitle": false,
     "title": ""
    }
   },
   "source": [
    "For each node find all follower of followers who are not directly followed."
   ]
  },
  {
   "cell_type": "code",
   "execution_count": null,
   "metadata": {
    "application/vnd.databricks.v1+cell": {
     "cellMetadata": {
      "byteLimit": 2048000,
      "rowLimit": 10000
     },
     "inputWidgets": {},
     "nuid": "8a6b0777-7297-4f2d-9ef3-4f0b8b416639",
     "showTitle": false,
     "title": ""
    }
   },
   "outputs": [
    {
     "name": "stdout",
     "output_type": "stream",
     "text": [
      "+---+---+\n",
      "| id| id|\n",
      "+---+---+\n",
      "| 80|180|\n",
      "|168|186|\n",
      "| 34| 45|\n",
      "|116|228|\n",
      "|162| 49|\n",
      "| 63| 41|\n",
      "| 38|  5|\n",
      "|147|171|\n",
      "| 58|238|\n",
      "|119| 50|\n",
      "|167|233|\n",
      "|130|156|\n",
      "|196|232|\n",
      "| 94|154|\n",
      "|154|229|\n",
      "|197|181|\n",
      "|193|197|\n",
      "| 98| 78|\n",
      "|106|209|\n",
      "| 85|135|\n",
      "+---+---+\n",
      "only showing top 20 rows\n",
      "\n"
     ]
    }
   ],
   "source": [
    "instaGraph.find(\"(a)-[]->(b); (b)-[]->(c); !(a)-[]->(c)\").dropDuplicates().select(\"a.id\", \"c.id\").show()"
   ]
  },
  {
   "cell_type": "markdown",
   "metadata": {
    "application/vnd.databricks.v1+cell": {
     "cellMetadata": {
      "byteLimit": 2048000,
      "rowLimit": 10000
     },
     "inputWidgets": {},
     "nuid": "3743226f-6191-4035-8e0e-0cc02466baaf",
     "showTitle": false,
     "title": ""
    }
   },
   "source": [
    "For each node find all mutual followers of mutual followers who are not directly followed or mutually followed."
   ]
  },
  {
   "cell_type": "code",
   "execution_count": null,
   "metadata": {
    "application/vnd.databricks.v1+cell": {
     "cellMetadata": {
      "byteLimit": 2048000,
      "rowLimit": 10000
     },
     "inputWidgets": {},
     "nuid": "982b3cdc-1b7d-4008-97c1-8091d6812ed7",
     "showTitle": false,
     "title": ""
    }
   },
   "outputs": [
    {
     "name": "stdout",
     "output_type": "stream",
     "text": [
      "+---+---+\n",
      "| id| id|\n",
      "+---+---+\n",
      "+---+---+\n",
      "\n"
     ]
    }
   ],
   "source": [
    "instaGraph.find(\"(a)-[e1]->(b); (b)-[e2]->(c); !(a)-[]->(c)\") \\\n",
    "    .where(\n",
    "\"e1.follower_following = 'mutual' and e2.follower_following = 'mutual'\") \\\n",
    "    .dropDuplicates().select(\"a.id\", \"c.id\").show()"
   ]
  },
  {
   "cell_type": "markdown",
   "metadata": {
    "application/vnd.databricks.v1+cell": {
     "cellMetadata": {
      "byteLimit": 2048000,
      "rowLimit": 10000
     },
     "inputWidgets": {},
     "nuid": "1bedc9f7-0e81-4df6-a690-0e238de55f58",
     "showTitle": false,
     "title": ""
    },
    "jupyter": {
     "outputs_hidden": true
    }
   },
   "source": [
    "What is the shortest distance from our top influencer (by pagerank) to someone older than them?"
   ]
  },
  {
   "cell_type": "code",
   "execution_count": null,
   "metadata": {
    "application/vnd.databricks.v1+cell": {
     "cellMetadata": {
      "byteLimit": 2048000,
      "rowLimit": 10000
     },
     "inputWidgets": {},
     "nuid": "ee93edb4-1c12-413b-b205-d0d8f784d1e7",
     "showTitle": false,
     "title": ""
    }
   },
   "outputs": [
    {
     "data": {
      "text/html": [
       "<style scoped>\n",
       "  .table-result-container {\n",
       "    max-height: 300px;\n",
       "    overflow: auto;\n",
       "  }\n",
       "  table, th, td {\n",
       "    border: 1px solid black;\n",
       "    border-collapse: collapse;\n",
       "  }\n",
       "  th, td {\n",
       "    padding: 5px;\n",
       "  }\n",
       "  th {\n",
       "    text-align: left;\n",
       "  }\n",
       "</style><div class='table-result-container'><table class='table-result'><thead style='background-color: white'><tr><th>from</th><th>e0</th><th>v1</th><th>e1</th><th>to</th></tr></thead><tbody><tr><td>List(11, 40441, 1931, 314, 2225186, 3991000, 44, female, ['Gardening', 'Gaming', 'Dancing', 'Reading'], Artist, Zurich)</td><td>List(11, 195, A follows B, 670, 274, 43)</td><td>List(195, 47918, 1367, 785, 2414697, 16628802, 22, male, ['Photography', 'Reading', 'Cooking', 'Art', 'Gardening'], Musician, Zurich)</td><td>List(195, 8, A and B follow each other, 233, 246, 25)</td><td>List(8, 81945, 1355, 511, 34874601, 79178760, 45, male, ['Photography', 'Reading', 'Travel'], Artist, Zurich)</td></tr><tr><td>List(11, 40441, 1931, 314, 2225186, 3991000, 44, female, ['Gardening', 'Gaming', 'Dancing', 'Reading'], Artist, Zurich)</td><td>List(11, 198, B follows A, 9, 22, 19)</td><td>List(198, 1314, 912, 8, 58, 332, 20, female, ['Nature', 'Gardening', 'Photography', 'Technology'], Yoga Instructor, Rome)</td><td>List(198, 8, B follows A, 311, 155, 41)</td><td>List(8, 81945, 1355, 511, 34874601, 79178760, 45, male, ['Photography', 'Reading', 'Travel'], Artist, Zurich)</td></tr><tr><td>List(11, 40441, 1931, 314, 2225186, 3991000, 44, female, ['Gardening', 'Gaming', 'Dancing', 'Reading'], Artist, Zurich)</td><td>List(11, 195, B follows A, 571, 296, 32)</td><td>List(195, 47918, 1367, 785, 2414697, 16628802, 22, male, ['Photography', 'Reading', 'Cooking', 'Art', 'Gardening'], Musician, Zurich)</td><td>List(195, 8, A and B follow each other, 233, 246, 25)</td><td>List(8, 81945, 1355, 511, 34874601, 79178760, 45, male, ['Photography', 'Reading', 'Travel'], Artist, Zurich)</td></tr><tr><td>List(11, 40441, 1931, 314, 2225186, 3991000, 44, female, ['Gardening', 'Gaming', 'Dancing', 'Reading'], Artist, Zurich)</td><td>List(11, 145, B follows A, 123, 31, 24)</td><td>List(145, 2203, 1181, 40, 1756, 3171, 35, female, ['Gardening'], Writer, Zurich)</td><td>List(145, 8, B follows A, 154, 88, 11)</td><td>List(8, 81945, 1355, 511, 34874601, 79178760, 45, male, ['Photography', 'Reading', 'Travel'], Artist, Zurich)</td></tr><tr><td>List(11, 40441, 1931, 314, 2225186, 3991000, 44, female, ['Gardening', 'Gaming', 'Dancing', 'Reading'], Artist, Zurich)</td><td>List(11, 135, B follows A, 107, 22, 28)</td><td>List(135, 236, 144, 3, 0, 3, 21, male, ['Gardening', 'Fashion', 'Art'], Writer, Zurich)</td><td>List(135, 8, B follows A, 328, 56, 25)</td><td>List(8, 81945, 1355, 511, 34874601, 79178760, 45, male, ['Photography', 'Reading', 'Travel'], Artist, Zurich)</td></tr><tr><td>List(11, 40441, 1931, 314, 2225186, 3991000, 44, female, ['Gardening', 'Gaming', 'Dancing', 'Reading'], Artist, Zurich)</td><td>List(11, 77, B follows A, 220, 63, 10)</td><td>List(77, 2123, 473, 36, 549, 1120, 25, female, [], Software Engineer, Zurich)</td><td>List(77, 8, B follows A, 410, 98, 27)</td><td>List(8, 81945, 1355, 511, 34874601, 79178760, 45, male, ['Photography', 'Reading', 'Travel'], Artist, Zurich)</td></tr><tr><td>List(11, 40441, 1931, 314, 2225186, 3991000, 44, female, ['Gardening', 'Gaming', 'Dancing', 'Reading'], Artist, Zurich)</td><td>List(11, 145, A follows B, 283, 81, 10)</td><td>List(145, 2203, 1181, 40, 1756, 3171, 35, female, ['Gardening'], Writer, Zurich)</td><td>List(145, 8, B follows A, 154, 88, 11)</td><td>List(8, 81945, 1355, 511, 34874601, 79178760, 45, male, ['Photography', 'Reading', 'Travel'], Artist, Zurich)</td></tr><tr><td>List(11, 40441, 1931, 314, 2225186, 3991000, 44, female, ['Gardening', 'Gaming', 'Dancing', 'Reading'], Artist, Zurich)</td><td>List(11, 20, A follows B, 107, 47, 26)</td><td>List(20, 1388, 113, 23, 89, 996, 25, female, [], Nurse, Zurich)</td><td>List(20, 8, B follows A, 74, 101, 10)</td><td>List(8, 81945, 1355, 511, 34874601, 79178760, 45, male, ['Photography', 'Reading', 'Travel'], Artist, Zurich)</td></tr><tr><td>List(11, 40441, 1931, 314, 2225186, 3991000, 44, female, ['Gardening', 'Gaming', 'Dancing', 'Reading'], Artist, Zurich)</td><td>List(11, 244, B follows A, 151, 85, 32)</td><td>List(244, 1899, 362, 15, 446, 438, 19, male, ['Fashion'], Social Worker, Zurich)</td><td>List(244, 8, B follows A, 399, 99, 47)</td><td>List(8, 81945, 1355, 511, 34874601, 79178760, 45, male, ['Photography', 'Reading', 'Travel'], Artist, Zurich)</td></tr></tbody></table></div>"
      ]
     },
     "metadata": {
      "application/vnd.databricks.v1+output": {
       "addedWidgets": {},
       "aggData": [],
       "aggError": "",
       "aggOverflow": false,
       "aggSchema": [],
       "aggSeriesLimitReached": false,
       "aggType": "",
       "arguments": {},
       "columnCustomDisplayInfos": {},
       "data": [
        [
         [
          "11",
          "40441",
          "1931",
          "314",
          "2225186",
          "3991000",
          "44",
          "female",
          "['Gardening', 'Gaming', 'Dancing', 'Reading']",
          "Artist",
          "Zurich"
         ],
         [
          "11",
          "195",
          "A follows B",
          "670",
          "274",
          "43"
         ],
         [
          "195",
          "47918",
          "1367",
          "785",
          "2414697",
          "16628802",
          "22",
          "male",
          "['Photography', 'Reading', 'Cooking', 'Art', 'Gardening']",
          "Musician",
          "Zurich"
         ],
         [
          "195",
          "8",
          "A and B follow each other",
          "233",
          "246",
          "25"
         ],
         [
          "8",
          "81945",
          "1355",
          "511",
          "34874601",
          "79178760",
          "45",
          "male",
          "['Photography', 'Reading', 'Travel']",
          "Artist",
          "Zurich"
         ]
        ],
        [
         [
          "11",
          "40441",
          "1931",
          "314",
          "2225186",
          "3991000",
          "44",
          "female",
          "['Gardening', 'Gaming', 'Dancing', 'Reading']",
          "Artist",
          "Zurich"
         ],
         [
          "11",
          "198",
          "B follows A",
          "9",
          "22",
          "19"
         ],
         [
          "198",
          "1314",
          "912",
          "8",
          "58",
          "332",
          "20",
          "female",
          "['Nature', 'Gardening', 'Photography', 'Technology']",
          "Yoga Instructor",
          "Rome"
         ],
         [
          "198",
          "8",
          "B follows A",
          "311",
          "155",
          "41"
         ],
         [
          "8",
          "81945",
          "1355",
          "511",
          "34874601",
          "79178760",
          "45",
          "male",
          "['Photography', 'Reading', 'Travel']",
          "Artist",
          "Zurich"
         ]
        ],
        [
         [
          "11",
          "40441",
          "1931",
          "314",
          "2225186",
          "3991000",
          "44",
          "female",
          "['Gardening', 'Gaming', 'Dancing', 'Reading']",
          "Artist",
          "Zurich"
         ],
         [
          "11",
          "195",
          "B follows A",
          "571",
          "296",
          "32"
         ],
         [
          "195",
          "47918",
          "1367",
          "785",
          "2414697",
          "16628802",
          "22",
          "male",
          "['Photography', 'Reading', 'Cooking', 'Art', 'Gardening']",
          "Musician",
          "Zurich"
         ],
         [
          "195",
          "8",
          "A and B follow each other",
          "233",
          "246",
          "25"
         ],
         [
          "8",
          "81945",
          "1355",
          "511",
          "34874601",
          "79178760",
          "45",
          "male",
          "['Photography', 'Reading', 'Travel']",
          "Artist",
          "Zurich"
         ]
        ],
        [
         [
          "11",
          "40441",
          "1931",
          "314",
          "2225186",
          "3991000",
          "44",
          "female",
          "['Gardening', 'Gaming', 'Dancing', 'Reading']",
          "Artist",
          "Zurich"
         ],
         [
          "11",
          "145",
          "B follows A",
          "123",
          "31",
          "24"
         ],
         [
          "145",
          "2203",
          "1181",
          "40",
          "1756",
          "3171",
          "35",
          "female",
          "['Gardening']",
          "Writer",
          "Zurich"
         ],
         [
          "145",
          "8",
          "B follows A",
          "154",
          "88",
          "11"
         ],
         [
          "8",
          "81945",
          "1355",
          "511",
          "34874601",
          "79178760",
          "45",
          "male",
          "['Photography', 'Reading', 'Travel']",
          "Artist",
          "Zurich"
         ]
        ],
        [
         [
          "11",
          "40441",
          "1931",
          "314",
          "2225186",
          "3991000",
          "44",
          "female",
          "['Gardening', 'Gaming', 'Dancing', 'Reading']",
          "Artist",
          "Zurich"
         ],
         [
          "11",
          "135",
          "B follows A",
          "107",
          "22",
          "28"
         ],
         [
          "135",
          "236",
          "144",
          "3",
          "0",
          "3",
          "21",
          "male",
          "['Gardening', 'Fashion', 'Art']",
          "Writer",
          "Zurich"
         ],
         [
          "135",
          "8",
          "B follows A",
          "328",
          "56",
          "25"
         ],
         [
          "8",
          "81945",
          "1355",
          "511",
          "34874601",
          "79178760",
          "45",
          "male",
          "['Photography', 'Reading', 'Travel']",
          "Artist",
          "Zurich"
         ]
        ],
        [
         [
          "11",
          "40441",
          "1931",
          "314",
          "2225186",
          "3991000",
          "44",
          "female",
          "['Gardening', 'Gaming', 'Dancing', 'Reading']",
          "Artist",
          "Zurich"
         ],
         [
          "11",
          "77",
          "B follows A",
          "220",
          "63",
          "10"
         ],
         [
          "77",
          "2123",
          "473",
          "36",
          "549",
          "1120",
          "25",
          "female",
          "[]",
          "Software Engineer",
          "Zurich"
         ],
         [
          "77",
          "8",
          "B follows A",
          "410",
          "98",
          "27"
         ],
         [
          "8",
          "81945",
          "1355",
          "511",
          "34874601",
          "79178760",
          "45",
          "male",
          "['Photography', 'Reading', 'Travel']",
          "Artist",
          "Zurich"
         ]
        ],
        [
         [
          "11",
          "40441",
          "1931",
          "314",
          "2225186",
          "3991000",
          "44",
          "female",
          "['Gardening', 'Gaming', 'Dancing', 'Reading']",
          "Artist",
          "Zurich"
         ],
         [
          "11",
          "145",
          "A follows B",
          "283",
          "81",
          "10"
         ],
         [
          "145",
          "2203",
          "1181",
          "40",
          "1756",
          "3171",
          "35",
          "female",
          "['Gardening']",
          "Writer",
          "Zurich"
         ],
         [
          "145",
          "8",
          "B follows A",
          "154",
          "88",
          "11"
         ],
         [
          "8",
          "81945",
          "1355",
          "511",
          "34874601",
          "79178760",
          "45",
          "male",
          "['Photography', 'Reading', 'Travel']",
          "Artist",
          "Zurich"
         ]
        ],
        [
         [
          "11",
          "40441",
          "1931",
          "314",
          "2225186",
          "3991000",
          "44",
          "female",
          "['Gardening', 'Gaming', 'Dancing', 'Reading']",
          "Artist",
          "Zurich"
         ],
         [
          "11",
          "20",
          "A follows B",
          "107",
          "47",
          "26"
         ],
         [
          "20",
          "1388",
          "113",
          "23",
          "89",
          "996",
          "25",
          "female",
          "[]",
          "Nurse",
          "Zurich"
         ],
         [
          "20",
          "8",
          "B follows A",
          "74",
          "101",
          "10"
         ],
         [
          "8",
          "81945",
          "1355",
          "511",
          "34874601",
          "79178760",
          "45",
          "male",
          "['Photography', 'Reading', 'Travel']",
          "Artist",
          "Zurich"
         ]
        ],
        [
         [
          "11",
          "40441",
          "1931",
          "314",
          "2225186",
          "3991000",
          "44",
          "female",
          "['Gardening', 'Gaming', 'Dancing', 'Reading']",
          "Artist",
          "Zurich"
         ],
         [
          "11",
          "244",
          "B follows A",
          "151",
          "85",
          "32"
         ],
         [
          "244",
          "1899",
          "362",
          "15",
          "446",
          "438",
          "19",
          "male",
          "['Fashion']",
          "Social Worker",
          "Zurich"
         ],
         [
          "244",
          "8",
          "B follows A",
          "399",
          "99",
          "47"
         ],
         [
          "8",
          "81945",
          "1355",
          "511",
          "34874601",
          "79178760",
          "45",
          "male",
          "['Photography', 'Reading', 'Travel']",
          "Artist",
          "Zurich"
         ]
        ]
       ],
       "datasetInfos": [],
       "dbfsResultPath": null,
       "isJsonSchema": true,
       "metadata": {},
       "overflow": false,
       "plotOptions": {
        "customPlotOptions": {},
        "displayType": "table",
        "pivotAggregation": null,
        "pivotColumns": null,
        "xColumns": null,
        "yColumns": null
       },
       "removedWidgets": [],
       "schema": [
        {
         "metadata": "{}",
         "name": "from",
         "type": "{\"type\":\"struct\",\"fields\":[{\"name\":\"id\",\"type\":\"string\",\"nullable\":true,\"metadata\":{}},{\"name\":\"followers\",\"type\":\"string\",\"nullable\":true,\"metadata\":{}},{\"name\":\"following\",\"type\":\"string\",\"nullable\":true,\"metadata\":{}},{\"name\":\"posts\",\"type\":\"string\",\"nullable\":true,\"metadata\":{}},{\"name\":\"likes\",\"type\":\"string\",\"nullable\":true,\"metadata\":{}},{\"name\":\"comments\",\"type\":\"string\",\"nullable\":true,\"metadata\":{}},{\"name\":\"age\",\"type\":\"string\",\"nullable\":true,\"metadata\":{}},{\"name\":\"gender\",\"type\":\"string\",\"nullable\":true,\"metadata\":{}},{\"name\":\"interests\",\"type\":\"string\",\"nullable\":true,\"metadata\":{}},{\"name\":\"occupation\",\"type\":\"string\",\"nullable\":true,\"metadata\":{}},{\"name\":\"location\",\"type\":\"string\",\"nullable\":true,\"metadata\":{}}]}"
        },
        {
         "metadata": "{}",
         "name": "e0",
         "type": "{\"type\":\"struct\",\"fields\":[{\"name\":\"src\",\"type\":\"string\",\"nullable\":true,\"metadata\":{}},{\"name\":\"dst\",\"type\":\"string\",\"nullable\":true,\"metadata\":{}},{\"name\":\"follower_following\",\"type\":\"string\",\"nullable\":true,\"metadata\":{}},{\"name\":\"engagement_likes\",\"type\":\"string\",\"nullable\":true,\"metadata\":{}},{\"name\":\"engagement_comments\",\"type\":\"string\",\"nullable\":true,\"metadata\":{}},{\"name\":\"engagement_dms\",\"type\":\"string\",\"nullable\":true,\"metadata\":{}}]}"
        },
        {
         "metadata": "{}",
         "name": "v1",
         "type": "{\"type\":\"struct\",\"fields\":[{\"name\":\"id\",\"type\":\"string\",\"nullable\":true,\"metadata\":{}},{\"name\":\"followers\",\"type\":\"string\",\"nullable\":true,\"metadata\":{}},{\"name\":\"following\",\"type\":\"string\",\"nullable\":true,\"metadata\":{}},{\"name\":\"posts\",\"type\":\"string\",\"nullable\":true,\"metadata\":{}},{\"name\":\"likes\",\"type\":\"string\",\"nullable\":true,\"metadata\":{}},{\"name\":\"comments\",\"type\":\"string\",\"nullable\":true,\"metadata\":{}},{\"name\":\"age\",\"type\":\"string\",\"nullable\":true,\"metadata\":{}},{\"name\":\"gender\",\"type\":\"string\",\"nullable\":true,\"metadata\":{}},{\"name\":\"interests\",\"type\":\"string\",\"nullable\":true,\"metadata\":{}},{\"name\":\"occupation\",\"type\":\"string\",\"nullable\":true,\"metadata\":{}},{\"name\":\"location\",\"type\":\"string\",\"nullable\":true,\"metadata\":{}}]}"
        },
        {
         "metadata": "{}",
         "name": "e1",
         "type": "{\"type\":\"struct\",\"fields\":[{\"name\":\"src\",\"type\":\"string\",\"nullable\":true,\"metadata\":{}},{\"name\":\"dst\",\"type\":\"string\",\"nullable\":true,\"metadata\":{}},{\"name\":\"follower_following\",\"type\":\"string\",\"nullable\":true,\"metadata\":{}},{\"name\":\"engagement_likes\",\"type\":\"string\",\"nullable\":true,\"metadata\":{}},{\"name\":\"engagement_comments\",\"type\":\"string\",\"nullable\":true,\"metadata\":{}},{\"name\":\"engagement_dms\",\"type\":\"string\",\"nullable\":true,\"metadata\":{}}]}"
        },
        {
         "metadata": "{}",
         "name": "to",
         "type": "{\"type\":\"struct\",\"fields\":[{\"name\":\"id\",\"type\":\"string\",\"nullable\":true,\"metadata\":{}},{\"name\":\"followers\",\"type\":\"string\",\"nullable\":true,\"metadata\":{}},{\"name\":\"following\",\"type\":\"string\",\"nullable\":true,\"metadata\":{}},{\"name\":\"posts\",\"type\":\"string\",\"nullable\":true,\"metadata\":{}},{\"name\":\"likes\",\"type\":\"string\",\"nullable\":true,\"metadata\":{}},{\"name\":\"comments\",\"type\":\"string\",\"nullable\":true,\"metadata\":{}},{\"name\":\"age\",\"type\":\"string\",\"nullable\":true,\"metadata\":{}},{\"name\":\"gender\",\"type\":\"string\",\"nullable\":true,\"metadata\":{}},{\"name\":\"interests\",\"type\":\"string\",\"nullable\":true,\"metadata\":{}},{\"name\":\"occupation\",\"type\":\"string\",\"nullable\":true,\"metadata\":{}},{\"name\":\"location\",\"type\":\"string\",\"nullable\":true,\"metadata\":{}}]}"
        }
       ],
       "type": "table"
      }
     },
     "output_type": "display_data"
    }
   ],
   "source": [
    "filteredPaths = instaGraph.bfs(\n",
    "  fromExpr = \"id = 11\",\n",
    "  toExpr = \"age >44\",\n",
    "  maxPathLength = 6).dropDuplicates()\n",
    "display(filteredPaths)"
   ]
  },
  {
   "cell_type": "markdown",
   "metadata": {
    "application/vnd.databricks.v1+cell": {
     "cellMetadata": {
      "byteLimit": 2048000,
      "rowLimit": 10000
     },
     "inputWidgets": {},
     "nuid": "71f20127-c2b4-40f0-8e5e-d7ea57e913dc",
     "showTitle": false,
     "title": ""
    }
   },
   "source": [
    "## Bonus Exercise: Bikeshare"
   ]
  },
  {
   "cell_type": "markdown",
   "metadata": {
    "application/vnd.databricks.v1+cell": {
     "cellMetadata": {
      "byteLimit": 2048000,
      "rowLimit": 10000
     },
     "inputWidgets": {},
     "nuid": "5907e6eb-4cca-4517-b87c-dd701a0452a0",
     "showTitle": false,
     "title": ""
    }
   },
   "source": [
    "Here is your chance to apply what you have learned to some real data. We will be using a bike sharing dataset, but a very different one from last class\n",
    "\n",
    "Here you’re going to be working with publicly available bike data from the Bay Area Bike Share portal, specifically analyzing the 2017 year of data. First we will download the data and read it into spark, we will also rename some of the columns to meet the requirements of graphframes."
   ]
  },
  {
   "cell_type": "code",
   "execution_count": null,
   "metadata": {
    "application/vnd.databricks.v1+cell": {
     "cellMetadata": {
      "byteLimit": 2048000,
      "rowLimit": 10000
     },
     "inputWidgets": {},
     "nuid": "eb528782-59e1-43d7-8f0e-56ea76967074",
     "showTitle": false,
     "title": ""
    }
   },
   "outputs": [
    {
     "name": "stdout",
     "output_type": "stream",
     "text": [
      "--2023-11-20 15:25:14--  https://raw.githubusercontent.com/udacity/data-analyst/master/projects/bike_sharing/201508_trip_data.csv\n",
      "Resolving raw.githubusercontent.com (raw.githubusercontent.com)... 185.199.108.133, 185.199.109.133, 185.199.110.133, ...\n",
      "Connecting to raw.githubusercontent.com (raw.githubusercontent.com)|185.199.108.133|:443... connected.\n",
      "HTTP request sent, awaiting response... 200 OK\n",
      "Length: 43012650 (41M) [text/plain]\n",
      "Saving to: ‘201508_trip_data.csv’\n",
      "\n",
      "     0K .......... .......... .......... .......... ..........  0% 5.30M 8s\n",
      "    50K .......... .......... .......... .......... ..........  0% 6.21M 7s\n",
      "   100K .......... .......... .......... .......... ..........  0% 5.18M 7s\n",
      "   150K .......... .......... .......... .......... ..........  0% 50.4M 6s\n",
      "   200K .......... .......... .......... .......... ..........  0% 22.4M 5s\n",
      "   250K .......... .......... .......... .......... ..........  0% 9.72M 5s\n",
      "   300K .......... .......... .......... .......... ..........  0% 66.9M 4s\n",
      "   350K .......... .......... .......... .......... ..........  0% 27.5M 4s\n",
      "   400K .......... .......... .......... .......... ..........  1% 22.2M 4s\n",
      "   450K .......... .......... .......... .......... ..........  1%  153M 3s\n",
      "   500K .......... .......... .......... .......... ..........  1% 17.0M 3s\n",
      "   550K .......... .......... .......... .......... ..........  1%  180M 3s\n",
      "   600K .......... .......... .......... .......... ..........  1% 80.1M 3s\n",
      "   650K .......... .......... .......... .......... ..........  1%  111M 3s\n",
      "   700K .......... .......... .......... .......... ..........  1%  115M 2s\n",
      "   750K .......... .......... .......... .......... ..........  1% 81.5M 2s\n",
      "   800K .......... .......... .......... .......... ..........  2% 61.3M 2s\n",
      "   850K .......... .......... .......... .......... ..........  2% 32.2M 2s\n",
      "   900K .......... .......... .......... .......... ..........  2%  133M 2s\n",
      "   950K .......... .......... .......... .......... ..........  2%  123M 2s\n",
      "  1000K .......... .......... .......... .......... ..........  2% 18.6M 2s\n",
      "  1050K .......... .......... .......... .......... ..........  2%  120M 2s\n",
      "  1100K .......... .......... .......... .......... ..........  2%  127M 2s\n",
      "  1150K .......... .......... .......... .......... ..........  2%  159M 2s\n",
      "  1200K .......... .......... .......... .......... ..........  2%  181M 2s\n",
      "  1250K .......... .......... .......... .......... ..........  3%  123M 2s\n",
      "  1300K .......... .......... .......... .......... ..........  3%  154M 2s\n",
      "  1350K .......... .......... .......... .......... ..........  3%  173M 2s\n",
      "  1400K .......... .......... .......... .......... ..........  3%  129M 1s\n",
      "  1450K .......... .......... .......... .......... ..........  3%  144M 1s\n",
      "  1500K .......... .......... .......... .......... ..........  3%  181M 1s\n",
      "  1550K .......... .......... .......... .......... ..........  3%  219M 1s\n",
      "  1600K .......... .......... .......... .......... ..........  3%  133M 1s\n",
      "  1650K .......... .......... .......... .......... ..........  4%  114M 1s\n",
      "  1700K .......... .......... .......... .......... ..........  4%  131M 1s\n",
      "  1750K .......... .......... .......... .......... ..........  4%  151M 1s\n",
      "  1800K .......... .......... .......... .......... ..........  4%  123M 1s\n",
      "  1850K .......... .......... .......... .......... ..........  4%  132M 1s\n",
      "  1900K .......... .......... .......... .......... ..........  4%  160M 1s\n",
      "  1950K .......... .......... .......... .......... ..........  4%  134M 1s\n",
      "  2000K .......... .......... .......... .......... ..........  4% 39.0M 1s\n",
      "  2050K .......... .......... .......... .......... ..........  4%  105M 1s\n",
      "  2100K .......... .......... .......... .......... ..........  5%  106M 1s\n",
      "  2150K .......... .......... .......... .......... ..........  5%  151M 1s\n",
      "  2200K .......... .......... .......... .......... ..........  5% 82.2M 1s\n",
      "  2250K .......... .......... .......... .......... ..........  5%  101M 1s\n",
      "  2300K .......... .......... .......... .......... ..........  5%  123M 1s\n",
      "  2350K .......... .......... .......... .......... ..........  5%  120M 1s\n",
      "  2400K .......... .......... .......... .......... ..........  5%  114M 1s\n",
      "  2450K .......... .......... .......... .......... ..........  5% 79.3M 1s\n",
      "  2500K .......... .......... .......... .......... ..........  6%  150M 1s\n",
      "  2550K .......... .......... .......... .......... ..........  6% 15.1M 1s\n",
      "  2600K .......... .......... .......... .......... ..........  6% 89.0M 1s\n",
      "  2650K .......... .......... .......... .......... ..........  6% 97.1M 1s\n",
      "  2700K .......... .......... .......... .......... ..........  6% 76.7M 1s\n",
      "  2750K .......... .......... .......... .......... ..........  6% 82.6M 1s\n",
      "  2800K .......... .......... .......... .......... ..........  6%  132M 1s\n",
      "  2850K .......... .......... .......... .......... ..........  6% 18.2M 1s\n",
      "  2900K .......... .......... .......... .......... ..........  7% 19.1M 1s\n",
      "  2950K .......... .......... .......... .......... ..........  7%  145M 1s\n",
      "  3000K .......... .......... .......... .......... ..........  7%  172M 1s\n",
      "  3050K .......... .......... .......... .......... ..........  7%  127M 1s\n",
      "  3100K .......... .......... .......... .......... ..........  7%  162M 1s\n",
      "  3150K .......... .......... .......... .......... ..........  7%  143M 1s\n",
      "  3200K .......... .......... .......... .......... ..........  7% 82.5M 1s\n",
      "  3250K .......... .......... .......... .......... ..........  7%  130M 1s\n",
      "  3300K .......... .......... .......... .......... ..........  7%  102M 1s\n",
      "  3350K .......... .......... .......... .......... ..........  8%  150M 1s\n",
      "  3400K .......... .......... .......... .......... ..........  8%  138M 1s\n",
      "  3450K .......... .......... .......... .......... ..........  8%  120M 1s\n",
      "  3500K .......... .......... .......... .......... ..........  8%  154M 1s\n",
      "  3550K .......... .......... .......... .......... ..........  8%  180M 1s\n",
      "  3600K .......... .......... .......... .......... ..........  8%  141M 1s\n",
      "  3650K .......... .......... .......... .......... ..........  8%  139M 1s\n",
      "  3700K .......... .......... .......... .......... ..........  8% 93.7M 1s\n",
      "  3750K .......... .......... .......... .......... ..........  9%  136M 1s\n",
      "  3800K .......... .......... .......... .......... ..........  9% 96.0M 1s\n",
      "  3850K .......... .......... .......... .......... ..........  9%  142M 1s\n",
      "  3900K .......... .......... .......... .......... ..........  9%  103M 1s\n",
      "  3950K .......... .......... .......... .......... ..........  9%  147M 1s\n",
      "  4000K .......... .......... .......... .......... ..........  9%  115M 1s\n",
      "  4050K .......... .......... .......... .......... ..........  9%  119M 1s\n",
      "  4100K .......... .......... .......... .......... ..........  9% 93.9M 1s\n",
      "  4150K .......... .......... .......... .......... ..........  9%  109M 1s\n",
      "  4200K .......... .......... .......... .......... .......... 10%  152M 1s\n",
      "  4250K .......... .......... .......... .......... .......... 10%  120M 1s\n",
      "  4300K .......... .......... .......... .......... .......... 10%  118M 1s\n",
      "  4350K .......... .......... .......... .......... .......... 10%  159M 1s\n",
      "  4400K .......... .......... .......... .......... .......... 10%  162M 1s\n",
      "  4450K .......... .......... .......... .......... .......... 10%  104M 1s\n",
      "  4500K .......... .......... .......... .......... .......... 10%  132M 1s\n",
      "  4550K .......... .......... .......... .......... .......... 10%  133M 1s\n",
      "  4600K .......... .......... .......... .......... .......... 11%  121M 1s\n",
      "  4650K .......... .......... .......... .......... .......... 11%  136M 1s\n",
      "  4700K .......... .......... .......... .......... .......... 11% 78.7M 1s\n",
      "  4750K .......... .......... .......... .......... .......... 11%  148M 1s\n",
      "  4800K .......... .......... .......... .......... .......... 11% 53.7M 1s\n",
      "  4850K .......... .......... .......... .......... .......... 11%  146M 1s\n",
      "  4900K .......... .......... .......... .......... .......... 11% 82.5M 1s\n",
      "  4950K .......... .......... .......... .......... .......... 11%  136M 1s\n",
      "  5000K .......... .......... .......... .......... .......... 12%  110M 1s\n",
      "  5050K .......... .......... .......... .......... .......... 12% 94.3M 1s\n",
      "  5100K .......... .......... .......... .......... .......... 12%  130M 1s\n",
      "  5150K .......... .......... .......... .......... .......... 12% 92.0M 1s\n",
      "  5200K .......... .......... .......... .......... .......... 12%  151M 1s\n",
      "  5250K .......... .......... .......... .......... .......... 12%  117M 1s\n",
      "  5300K .......... .......... .......... .......... .......... 12%  130M 1s\n",
      "  5350K .......... .......... .......... .......... .......... 12%  172M 1s\n",
      "  5400K .......... .......... .......... .......... .......... 12%  161M 1s\n",
      "  5450K .......... .......... .......... .......... .......... 13% 59.7M 1s\n",
      "  5500K .......... .......... .......... .......... .......... 13% 38.2M 1s\n",
      "  5550K .......... .......... .......... .......... .......... 13% 38.7M 1s\n",
      "  5600K .......... .......... .......... .......... .......... 13% 49.0M 1s\n",
      "  5650K .......... .......... .......... .......... .......... 13% 51.5M 1s\n",
      "  5700K .......... .......... .......... .......... .......... 13% 40.9M 1s\n",
      "  5750K .......... .......... .......... .......... .......... 13% 43.8M 1s\n",
      "  5800K .......... .......... .......... .......... .......... 13% 73.4M 1s\n",
      "  5850K .......... .......... .......... .......... .......... 14%  166M 1s\n",
      "  5900K .......... .......... .......... .......... .......... 14% 28.8M 1s\n",
      "  5950K .......... .......... .......... .......... .......... 14%  160M 1s\n",
      "  6000K .......... .......... .......... .......... .......... 14% 33.1M 1s\n",
      "  6050K .......... .......... .......... .......... .......... 14% 30.1M 1s\n",
      "  6100K .......... .......... .......... .......... .......... 14%  112M 1s\n",
      "  6150K .......... .......... .......... .......... .......... 14% 46.9M 1s\n",
      "  6200K .......... .......... .......... .......... .......... 14% 43.1M 1s\n",
      "  6250K .......... .......... .......... .......... .......... 14% 53.9M 1s\n",
      "  6300K .......... .......... .......... .......... .......... 15% 38.1M 1s\n",
      "  6350K .......... .......... .......... .......... .......... 15% 66.8M 1s\n",
      "  6400K .......... .......... .......... .......... .......... 15%  146M 1s\n",
      "  6450K .......... .......... .......... .......... .......... 15% 7.93M 1s\n",
      "  6500K .......... .......... .......... .......... .......... 15%  152M 1s\n",
      "  6550K .......... .......... .......... .......... .......... 15% 29.0M 1s\n",
      "  6600K .......... .......... .......... .......... .......... 15% 7.33M 1s\n",
      "  6650K .......... .......... .......... .......... .......... 15%  127M 1s\n",
      "  6700K .......... .......... .......... .......... .......... 16%  120M 1s\n",
      "  6750K .......... .......... .......... .......... .......... 16% 11.5M 1s\n",
      "  6800K .......... .......... .......... .......... .......... 16%  145M 1s\n",
      "  6850K .......... .......... .......... .......... .......... 16% 25.4M 1s\n",
      "  6900K .......... .......... .......... .......... .......... 16%  151M 1s\n",
      "  6950K .......... .......... .......... .......... .......... 16% 28.9M 1s\n",
      "  7000K .......... .......... .......... .......... .......... 16%  145M 1s\n",
      "  7050K .......... .......... .......... .......... .......... 16% 73.5M 1s\n",
      "  7100K .......... .......... .......... .......... .......... 17%  216M 1s\n",
      "  7150K .......... .......... .......... .......... .......... 17%  161M 1s\n",
      "  7200K .......... .......... .......... .......... .......... 17% 35.6M 1s\n",
      "  7250K .......... .......... .......... .......... .......... 17%  229M 1s\n",
      "  7300K .......... .......... .......... .......... .......... 17%  170M 1s\n",
      "  7350K .......... .......... .......... .......... .......... 17%  136M 1s\n",
      "  7400K .......... .......... .......... .......... .......... 17%  179M 1s\n",
      "  7450K .......... .......... .......... .......... .......... 17%  238M 1s\n",
      "  7500K .......... .......... .......... .......... .......... 17%  168M 1s\n",
      "  7550K .......... .......... .......... .......... .......... 18%  184M 1s\n",
      "  7600K .......... .......... .......... .......... .......... 18%  201M 1s\n",
      "  7650K .......... .......... .......... .......... .......... 18%  247M 1s\n",
      "  7700K .......... .......... .......... .......... .......... 18%  217M 1s\n",
      "  7750K .......... .......... .......... .......... .......... 18%  189M 1s\n",
      "  7800K .......... .......... .......... .......... .......... 18%  188M 1s\n",
      "  7850K .......... .......... .......... .......... .......... 18%  200M 1s\n",
      "  7900K .......... .......... .......... .......... .......... 18%  171M 1s\n",
      "  7950K .......... .......... .......... .......... .......... 19%  240M 1s\n",
      "  8000K .......... .......... .......... .......... .......... 19%  233M 1s\n",
      "  8050K .......... .......... .......... .......... .......... 19%  169M 1s\n",
      "  8100K .......... .......... .......... .......... .......... 19%  230M 1s\n",
      "  8150K .......... .......... .......... .......... .......... 19%  132M 1s\n",
      "  8200K .......... .......... .......... .......... .......... 19%  197M 1s\n",
      "  8250K .......... .......... .......... .......... .......... 19%  179M 1s\n",
      "  8300K .......... .......... .......... .......... .......... 19% 48.9M 1s\n",
      "  8350K .......... .......... .......... .......... .......... 19%  144M 1s\n",
      "  8400K .......... .......... .......... .......... .......... 20%  137M 1s\n",
      "  8450K .......... .......... .......... .......... .......... 20%  152M 1s\n",
      "  8500K .......... .......... .......... .......... .......... 20%  134M 1s\n",
      "  8550K .......... .......... .......... .......... .......... 20% 62.4M 1s\n",
      "  8600K .......... .......... .......... .......... .......... 20%  133M 1s\n",
      "  8650K .......... .......... .......... .......... .......... 20% 34.4M 1s\n",
      "  8700K .......... .......... .......... .......... .......... 20% 56.4M 1s\n",
      "  8750K .......... .......... .......... .......... .......... 20%  132M 1s\n",
      "  8800K .......... .......... .......... .......... .......... 21%  126M 1s\n",
      "  8850K .......... .......... .......... .......... .......... 21%  126M 1s\n",
      "  8900K .......... .......... .......... .......... .......... 21%  118M 1s\n",
      "  8950K .......... .......... .......... .......... .......... 21%  100M 1s\n",
      "  9000K .......... .......... .......... .......... .......... 21% 77.6M 1s\n",
      "  9050K .......... .......... .......... .......... .......... 21%  166M 1s\n",
      "  9100K .......... .......... .......... .......... .......... 21%  145M 1s\n",
      "  9150K .......... .......... .......... .......... .......... 21% 17.2M 1s\n",
      "  9200K .......... .......... .......... .......... .......... 22%  110M 1s\n",
      "  9250K .......... .......... .......... .......... .......... 22% 54.5M 1s\n",
      "  9300K .......... .......... .......... .......... .......... 22%  138M 1s\n",
      "  9350K .......... .......... .......... .......... .......... 22%  129M 1s\n",
      "  9400K .......... .......... .......... .......... .......... 22% 60.5M 1s\n",
      "  9450K .......... .......... .......... .......... .......... 22%  110M 1s\n",
      "  9500K .......... .......... .......... .......... .......... 22% 13.2M 1s\n",
      "  9550K .......... .......... .......... .......... .......... 22% 63.2M 1s\n",
      "  9600K .......... .......... .......... .......... .......... 22%  122M 1s\n",
      "  9650K .......... .......... .......... .......... .......... 23% 62.6M 1s\n",
      "  9700K .......... .......... .......... .......... .......... 23%  123M 1s\n",
      "  9750K .......... .......... .......... .......... .......... 23% 53.6M 1s\n",
      "  9800K .......... .......... .......... .......... .......... 23%  147M 1s\n",
      "  9850K .......... .......... .......... .......... .......... 23%  150M 1s\n",
      "  9900K .......... .......... .......... .......... .......... 23% 63.4M 1s\n",
      "  9950K .......... .......... .......... .......... .......... 23%  118M 1s\n",
      " 10000K .......... .......... .......... .......... .......... 23% 59.9M 1s\n",
      " 10050K .......... .......... .......... .......... .......... 24%  150M 1s\n",
      " 10100K .......... .......... .......... .......... .......... 24% 60.0M 1s\n",
      " 10150K .......... .......... .......... .......... .......... 24% 56.9M 1s\n",
      " 10200K .......... .......... .......... .......... .......... 24% 72.8M 1s\n",
      " 10250K .......... .......... .......... .......... .......... 24% 57.8M 1s\n",
      " 10300K .......... .......... .......... .......... .......... 24%  143M 1s\n",
      " 10350K .......... .......... .......... .......... .......... 24% 61.9M 1s\n",
      " 10400K .......... .......... .......... .......... .......... 24%  140M 1s\n",
      " 10450K .......... .......... .......... .......... .......... 24%  107M 1s\n",
      " 10500K .......... .......... .......... .......... .......... 25%  133M 1s\n",
      " 10550K .......... .......... .......... .......... .......... 25% 25.0M 1s\n",
      " 10600K .......... .......... .......... .......... .......... 25% 57.3M 1s\n",
      " 10650K .......... .......... .......... .......... .......... 25%  135M 1s\n",
      " 10700K .......... .......... .......... .......... .......... 25%  123M 1s\n",
      " 10750K .......... .......... .......... .......... .......... 25% 26.4M 1s\n",
      " 10800K .......... .......... .......... .......... .......... 25% 57.3M 1s\n",
      " 10850K .......... .......... .......... .......... .......... 25%  151M 1s\n",
      " 10900K .......... .......... .......... .......... .......... 26%  127M 1s\n",
      " 10950K .......... .......... .......... .......... .......... 26% 13.6M 1s\n",
      " 11000K .......... .......... .......... .......... .......... 26%  125M 1s\n",
      " 11050K .......... .......... .......... .......... .......... 26% 60.4M 1s\n",
      " 11100K .......... .......... .......... .......... .......... 26% 62.3M 1s\n",
      " 11150K .......... .......... .......... .......... .......... 26%  133M 1s\n",
      " 11200K .......... .......... .......... .......... .......... 26% 56.5M 1s\n",
      " 11250K .......... .......... .......... .......... .......... 26%  133M 1s\n",
      " 11300K .......... .......... .......... .......... .......... 27% 63.2M 1s\n",
      " 11350K .......... .......... .......... .......... .......... 27%  116M 1s\n",
      " 11400K .......... .......... .......... .......... .......... 27% 65.8M 1s\n",
      " 11450K .......... .......... .......... .......... .......... 27%  138M 1s\n",
      " 11500K .......... .......... .......... .......... .......... 27% 62.5M 1s\n",
      " 11550K .......... .......... .......... .......... .......... 27% 55.2M 1s\n",
      " 11600K .......... .......... .......... .......... .......... 27% 64.1M 1s\n",
      " 11650K .......... .......... .......... .......... .......... 27%  122M 1s\n",
      " 11700K .......... .......... .......... .......... .......... 27% 62.7M 1s\n",
      " 11750K .......... .......... .......... .......... .......... 28%  108M 1s\n",
      " 11800K .......... .......... .......... .......... .......... 28%  149M 1s\n",
      " 11850K .......... .......... .......... .......... .......... 28% 54.6M 1s\n",
      " 11900K .......... .......... .......... .......... .......... 28%  129M 1s\n",
      " 11950K .......... .......... .......... .......... .......... 28% 55.2M 0s\n",
      " 12000K .......... .......... .......... .......... .......... 28%  135M 0s\n",
      " 12050K .......... .......... .......... .......... .......... 28%  134M 0s\n",
      " 12100K .......... .......... .......... .......... .......... 28% 57.9M 0s\n",
      " 12150K .......... .......... .......... .......... .......... 29% 59.6M 0s\n",
      " 12200K .......... .......... .......... .......... .......... 29%  114M 0s\n",
      " 12250K .......... .......... .......... .......... .......... 29%  130M 0s\n",
      " 12300K .......... .......... .......... .......... .......... 29%  123M 0s\n",
      " 12350K .......... .......... .......... .......... .......... 29% 59.0M 0s\n",
      " 12400K .......... .......... .......... .......... .......... 29% 4.25M 1s\n",
      " 12450K .......... .......... .......... .......... .......... 29%  153M 1s\n",
      " 12500K .......... .......... .......... .......... .......... 29%  157M 1s\n",
      " 12550K .......... .......... .......... .......... .......... 29%  145M 1s\n",
      " 12600K .......... .......... .......... .......... .......... 30%  149M 1s\n",
      " 12650K .......... .......... .......... .......... .......... 30%  162M 1s\n",
      " 12700K .......... .......... .......... .......... .......... 30%  162M 0s\n",
      " 12750K .......... .......... .......... .......... .......... 30%  163M 0s\n",
      " 12800K .......... .......... .......... .......... .......... 30% 2.87M 1s\n",
      " 12850K .......... .......... .......... .......... .......... 30%  136M 1s\n",
      " 12900K .......... .......... .......... .......... .......... 30% 8.17M 1s\n",
      " 12950K .......... .......... .......... .......... .......... 30%  181M 1s\n",
      " 13000K .......... .......... .......... .......... .......... 31%  207M 1s\n",
      " 13050K .......... .......... .......... .......... .......... 31%  257M 1s\n",
      " 13100K .......... .......... .......... .......... .......... 31%  229M 1s\n",
      " 13150K .......... .......... .......... .......... .......... 31%  140M 1s\n",
      " 13200K .......... .......... .......... .......... .......... 31%  142M 1s\n",
      " 13250K .......... .......... .......... .......... .......... 31%  141M 1s\n",
      " 13300K .......... .......... .......... .......... .......... 31%  124M 1s\n",
      " 13350K .......... .......... .......... .......... .......... 31%  124M 1s\n",
      " 13400K .......... .......... .......... .......... .......... 32%  130M 1s\n",
      " 13450K .......... .......... .......... .......... .......... 32%  159M 1s\n",
      " 13500K .......... .......... .......... .......... .......... 32%  156M 1s\n",
      " 13550K .......... .......... .......... .......... .......... 32%  137M 1s\n",
      " 13600K .......... .......... .......... .......... .......... 32% 4.71M 1s\n",
      " 13650K .......... .......... .......... .......... .......... 32%  124M 1s\n",
      " 13700K .......... .......... .......... .......... .......... 32%  130M 1s\n",
      " 13750K .......... .......... .......... .......... .......... 32%  146M 1s\n",
      " 13800K .......... .......... .......... .......... .......... 32%  139M 1s\n",
      " 13850K .......... .......... .......... .......... .......... 33%  155M 1s\n",
      " 13900K .......... .......... .......... .......... .......... 33%  161M 1s\n",
      " 13950K .......... .......... .......... .......... .......... 33%  172M 1s\n",
      " 14000K .......... .......... .......... .......... .......... 33%  139M 1s\n",
      " 14050K .......... .......... .......... .......... .......... 33%  144M 1s\n",
      " 14100K .......... .......... .......... .......... .......... 33%  184M 1s\n",
      " 14150K .......... .......... .......... .......... .......... 33%  167M 1s\n",
      " 14200K .......... .......... .......... .......... .......... 33%  174M 1s\n",
      " 14250K .......... .......... .......... .......... .......... 34%  132M 1s\n",
      " 14300K .......... .......... .......... .......... .......... 34%  176M 1s\n",
      " 14350K .......... .......... .......... .......... .......... 34%  157M 0s\n",
      " 14400K .......... .......... .......... .......... .......... 34%  164M 0s\n",
      " 14450K .......... .......... .......... .......... .......... 34%  172M 0s\n",
      " 14500K .......... .......... .......... .......... .......... 34%  174M 0s\n",
      " 14550K .......... .......... .......... .......... .......... 34%  139M 0s\n",
      " 14600K .......... .......... .......... .......... .......... 34% 48.1M 0s\n",
      " 14650K .......... .......... .......... .......... .......... 34%  154M 0s\n",
      " 14700K .......... .......... .......... .......... .......... 35% 62.6M 0s\n",
      " 14750K .......... .......... .......... .......... .......... 35%  128M 0s\n",
      " 14800K .......... .......... .......... .......... .......... 35%  150M 0s\n",
      " 14850K .......... .......... .......... .......... .......... 35%  148M 0s\n",
      " 14900K .......... .......... .......... .......... .......... 35% 5.49M 0s\n",
      " 14950K .......... .......... .......... .......... .......... 35% 42.1M 0s\n",
      " 15000K .......... .......... .......... .......... .......... 35% 37.3M 0s\n",
      " 15050K .......... .......... .......... .......... .......... 35% 33.5M 0s\n",
      " 15100K .......... .......... .......... .......... .......... 36% 8.65M 1s\n",
      " 15150K .......... .......... .......... .......... .......... 36% 32.7M 1s\n",
      " 15200K .......... .......... .......... .......... .......... 36% 51.4M 1s\n",
      " 15250K .......... .......... .......... .......... .......... 36% 27.7M 1s\n",
      " 15300K .......... .......... .......... .......... .......... 36% 35.3M 1s\n",
      " 15350K .......... .......... .......... .......... .......... 36% 32.2M 1s\n",
      " 15400K .......... .......... .......... .......... .......... 36%  120M 1s\n",
      " 15450K .......... .......... .......... .......... .......... 36% 20.1M 1s\n",
      " 15500K .......... .......... .......... .......... .......... 37%  138M 0s\n",
      " 15550K .......... .......... .......... .......... .......... 37% 85.7M 0s\n",
      " 15600K .......... .......... .......... .......... .......... 37%  151M 0s\n",
      " 15650K .......... .......... .......... .......... .......... 37%  107M 0s\n",
      " 15700K .......... .......... .......... .......... .......... 37%  109M 0s\n",
      " 15750K .......... .......... .......... .......... .......... 37% 60.9M 0s\n",
      " 15800K .......... .......... .......... .......... .......... 37%  148M 0s\n",
      " 15850K .......... .......... .......... .......... .......... 37%  153M 0s\n",
      " 15900K .......... .......... .......... .......... .......... 37% 94.1M 0s\n",
      " 15950K .......... .......... .......... .......... .......... 38%  111M 0s\n",
      " 16000K .......... .......... .......... .......... .......... 38% 55.4M 0s\n",
      " 16050K .......... .......... .......... .......... .......... 38% 29.0M 0s\n",
      " 16100K .......... .......... .......... .......... ...\n",
      "\n",
      "*** WARNING: max output size exceeded, skipping output. ***\n",
      "\n",
      "... .......... .......... .......... .......... 61%  123M 0s\n",
      " 25700K .......... .......... .......... .......... .......... 61%  143M 0s\n",
      " 25750K .......... .......... .......... .......... .......... 61% 64.8M 0s\n",
      " 25800K .......... .......... .......... .......... .......... 61%  148M 0s\n",
      " 25850K .......... .......... .......... .......... .......... 61% 63.1M 0s\n",
      " 25900K .......... .......... .......... .......... .......... 61%  148M 0s\n",
      " 25950K .......... .......... .......... .......... .......... 61% 61.7M 0s\n",
      " 26000K .......... .......... .......... .......... .......... 62%  128M 0s\n",
      " 26050K .......... .......... .......... .......... .......... 62%  126M 0s\n",
      " 26100K .......... .......... .......... .......... .......... 62%  130M 0s\n",
      " 26150K .......... .......... .......... .......... .......... 62% 68.2M 0s\n",
      " 26200K .......... .......... .......... .......... .......... 62%  129M 0s\n",
      " 26250K .......... .......... .......... .......... .......... 62% 61.1M 0s\n",
      " 26300K .......... .......... .......... .......... .......... 62%  116M 0s\n",
      " 26350K .......... .......... .......... .......... .......... 62% 73.3M 0s\n",
      " 26400K .......... .......... .......... .......... .......... 62%  112M 0s\n",
      " 26450K .......... .......... .......... .......... .......... 63%  116M 0s\n",
      " 26500K .......... .......... .......... .......... .......... 63% 99.3M 0s\n",
      " 26550K .......... .......... .......... .......... .......... 63%  143M 0s\n",
      " 26600K .......... .......... .......... .......... .......... 63% 63.5M 0s\n",
      " 26650K .......... .......... .......... .......... .......... 63%  147M 0s\n",
      " 26700K .......... .......... .......... .......... .......... 63% 6.75M 0s\n",
      " 26750K .......... .......... .......... .......... .......... 63% 43.7M 0s\n",
      " 26800K .......... .......... .......... .......... .......... 63%  133M 0s\n",
      " 26850K .......... .......... .......... .......... .......... 64%  152M 0s\n",
      " 26900K .......... .......... .......... .......... .......... 64% 64.1M 0s\n",
      " 26950K .......... .......... .......... .......... .......... 64%  151M 0s\n",
      " 27000K .......... .......... .......... .......... .......... 64% 61.1M 0s\n",
      " 27050K .......... .......... .......... .......... .......... 64% 20.7M 0s\n",
      " 27100K .......... .......... .......... .......... .......... 64% 69.2M 0s\n",
      " 27150K .......... .......... .......... .......... .......... 64%  151M 0s\n",
      " 27200K .......... .......... .......... .......... .......... 64% 58.4M 0s\n",
      " 27250K .......... .......... .......... .......... .......... 64%  145M 0s\n",
      " 27300K .......... .......... .......... .......... .......... 65% 59.0M 0s\n",
      " 27350K .......... .......... .......... .......... .......... 65%  113M 0s\n",
      " 27400K .......... .......... .......... .......... .......... 65%  111M 0s\n",
      " 27450K .......... .......... .......... .......... .......... 65%  122M 0s\n",
      " 27500K .......... .......... .......... .......... .......... 65%  144M 0s\n",
      " 27550K .......... .......... .......... .......... .......... 65%  126M 0s\n",
      " 27600K .......... .......... .......... .......... .......... 65%  142M 0s\n",
      " 27650K .......... .......... .......... .......... .......... 65%  146M 0s\n",
      " 27700K .......... .......... .......... .......... .......... 66%  120M 0s\n",
      " 27750K .......... .......... .......... .......... .......... 66%  135M 0s\n",
      " 27800K .......... .......... .......... .......... .......... 66%  155M 0s\n",
      " 27850K .......... .......... .......... .......... .......... 66% 66.8M 0s\n",
      " 27900K .......... .......... .......... .......... .......... 66%  151M 0s\n",
      " 27950K .......... .......... .......... .......... .......... 66%  118M 0s\n",
      " 28000K .......... .......... .......... .......... .......... 66%  165M 0s\n",
      " 28050K .......... .......... .......... .......... .......... 66%  157M 0s\n",
      " 28100K .......... .......... .......... .......... .......... 67% 27.1M 0s\n",
      " 28150K .......... .......... .......... .......... .......... 67%  118M 0s\n",
      " 28200K .......... .......... .......... .......... .......... 67%  123M 0s\n",
      " 28250K .......... .......... .......... .......... .......... 67%  115M 0s\n",
      " 28300K .......... .......... .......... .......... .......... 67% 64.3M 0s\n",
      " 28350K .......... .......... .......... .......... .......... 67%  127M 0s\n",
      " 28400K .......... .......... .......... .......... .......... 67%  107M 0s\n",
      " 28450K .......... .......... .......... .......... .......... 67%  129M 0s\n",
      " 28500K .......... .......... .......... .......... .......... 67% 56.8M 0s\n",
      " 28550K .......... .......... .......... .......... .......... 68% 61.9M 0s\n",
      " 28600K .......... .......... .......... .......... .......... 68%  133M 0s\n",
      " 28650K .......... .......... .......... .......... .......... 68% 18.8M 0s\n",
      " 28700K .......... .......... .......... .......... .......... 68%  132M 0s\n",
      " 28750K .......... .......... .......... .......... .......... 68%  136M 0s\n",
      " 28800K .......... .......... .......... .......... .......... 68%  142M 0s\n",
      " 28850K .......... .......... .......... .......... .......... 68%  158M 0s\n",
      " 28900K .......... .......... .......... .......... .......... 68% 95.9M 0s\n",
      " 28950K .......... .......... .......... .......... .......... 69% 56.6M 0s\n",
      " 29000K .......... .......... .......... .......... .......... 69%  145M 0s\n",
      " 29050K .......... .......... .......... .......... .......... 69% 67.8M 0s\n",
      " 29100K .......... .......... .......... .......... .......... 69%  147M 0s\n",
      " 29150K .......... .......... .......... .......... .......... 69% 54.6M 0s\n",
      " 29200K .......... .......... .......... .......... .......... 69%  122M 0s\n",
      " 29250K .......... .......... .......... .......... .......... 69% 27.0M 0s\n",
      " 29300K .......... .......... .......... .......... .......... 69% 57.2M 0s\n",
      " 29350K .......... .......... .......... .......... .......... 69%  142M 0s\n",
      " 29400K .......... .......... .......... .......... .......... 70% 68.4M 0s\n",
      " 29450K .......... .......... .......... .......... .......... 70%  124M 0s\n",
      " 29500K .......... .......... .......... .......... .......... 70% 62.0M 0s\n",
      " 29550K .......... .......... .......... .......... .......... 70%  130M 0s\n",
      " 29600K .......... .......... .......... .......... .......... 70% 65.8M 0s\n",
      " 29650K .......... .......... .......... .......... .......... 70%  144M 0s\n",
      " 29700K .......... .......... .......... .......... .......... 70%  110M 0s\n",
      " 29750K .......... .......... .......... .......... .......... 70%  110M 0s\n",
      " 29800K .......... .......... .......... .......... .......... 71% 71.5M 0s\n",
      " 29850K .......... .......... .......... .......... .......... 71%  111M 0s\n",
      " 29900K .......... .......... .......... .......... .......... 71% 71.5M 0s\n",
      " 29950K .......... .......... .......... .......... .......... 71% 51.8M 0s\n",
      " 30000K .......... .......... .......... .......... .......... 71% 96.9M 0s\n",
      " 30050K .......... .......... .......... .......... .......... 71%  142M 0s\n",
      " 30100K .......... .......... .......... .......... .......... 71%  148M 0s\n",
      " 30150K .......... .......... .......... .......... .......... 71% 66.0M 0s\n",
      " 30200K .......... .......... .......... .......... .......... 72%  136M 0s\n",
      " 30250K .......... .......... .......... .......... .......... 72% 13.5M 0s\n",
      " 30300K .......... .......... .......... .......... .......... 72% 60.8M 0s\n",
      " 30350K .......... .......... .......... .......... .......... 72%  139M 0s\n",
      " 30400K .......... .......... .......... .......... .......... 72% 62.3M 0s\n",
      " 30450K .......... .......... .......... .......... .......... 72%  110M 0s\n",
      " 30500K .......... .......... .......... .......... .......... 72%  106M 0s\n",
      " 30550K .......... .......... .......... .......... .......... 72% 71.3M 0s\n",
      " 30600K .......... .......... .......... .......... .......... 72% 22.9M 0s\n",
      " 30650K .......... .......... .......... .......... .......... 73%  144M 0s\n",
      " 30700K .......... .......... .......... .......... .......... 73% 55.0M 0s\n",
      " 30750K .......... .......... .......... .......... .......... 73% 99.3M 0s\n",
      " 30800K .......... .......... .......... .......... .......... 73% 79.2M 0s\n",
      " 30850K .......... .......... .......... .......... .......... 73%  162M 0s\n",
      " 30900K .......... .......... .......... .......... .......... 73%  166M 0s\n",
      " 30950K .......... .......... .......... .......... .......... 73%  113M 0s\n",
      " 31000K .......... .......... .......... .......... .......... 73%  163M 0s\n",
      " 31050K .......... .......... .......... .......... .......... 74% 95.5M 0s\n",
      " 31100K .......... .......... .......... .......... .......... 74% 82.5M 0s\n",
      " 31150K .......... .......... .......... .......... .......... 74%  136M 0s\n",
      " 31200K .......... .......... .......... .......... .......... 74%  126M 0s\n",
      " 31250K .......... .......... .......... .......... .......... 74%  131M 0s\n",
      " 31300K .......... .......... .......... .......... .......... 74% 60.1M 0s\n",
      " 31350K .......... .......... .......... .......... .......... 74%  143M 0s\n",
      " 31400K .......... .......... .......... .......... .......... 74% 63.3M 0s\n",
      " 31450K .......... .......... .......... .......... .......... 74% 95.8M 0s\n",
      " 31500K .......... .......... .......... .......... .......... 75%  106M 0s\n",
      " 31550K .......... .......... .......... .......... .......... 75% 66.7M 0s\n",
      " 31600K .......... .......... .......... .......... .......... 75%  124M 0s\n",
      " 31650K .......... .......... .......... .......... .......... 75% 71.0M 0s\n",
      " 31700K .......... .......... .......... .......... .......... 75%  116M 0s\n",
      " 31750K .......... .......... .......... .......... .......... 75%  108M 0s\n",
      " 31800K .......... .......... .......... .......... .......... 75%  108M 0s\n",
      " 31850K .......... .......... .......... .......... .......... 75%  110M 0s\n",
      " 31900K .......... .......... .......... .......... .......... 76%  125M 0s\n",
      " 31950K .......... .......... .......... .......... .......... 76%  112M 0s\n",
      " 32000K .......... .......... .......... .......... .......... 76% 65.2M 0s\n",
      " 32050K .......... .......... .......... .......... .......... 76%  130M 0s\n",
      " 32100K .......... .......... .......... .......... .......... 76% 71.7M 0s\n",
      " 32150K .......... .......... .......... .......... .......... 76%  134M 0s\n",
      " 32200K .......... .......... .......... .......... .......... 76% 61.9M 0s\n",
      " 32250K .......... .......... .......... .......... .......... 76% 61.6M 0s\n",
      " 32300K .......... .......... .......... .......... .......... 77%  120M 0s\n",
      " 32350K .......... .......... .......... .......... .......... 77%  108M 0s\n",
      " 32400K .......... .......... .......... .......... .......... 77% 8.79M 0s\n",
      " 32450K .......... .......... .......... .......... .......... 77%  121M 0s\n",
      " 32500K .......... .......... .......... .......... .......... 77% 59.8M 0s\n",
      " 32550K .......... .......... .......... .......... .......... 77%  107M 0s\n",
      " 32600K .......... .......... .......... .......... .......... 77% 13.4M 0s\n",
      " 32650K .......... .......... .......... .......... .......... 77% 15.1M 0s\n",
      " 32700K .......... .......... .......... .......... .......... 77% 68.5M 0s\n",
      " 32750K .......... .......... .......... .......... .......... 78%  126M 0s\n",
      " 32800K .......... .......... .......... .......... .......... 78% 71.9M 0s\n",
      " 32850K .......... .......... .......... .......... .......... 78%  127M 0s\n",
      " 32900K .......... .......... .......... .......... .......... 78% 65.4M 0s\n",
      " 32950K .......... .......... .......... .......... .......... 78%  131M 0s\n",
      " 33000K .......... .......... .......... .......... .......... 78% 66.7M 0s\n",
      " 33050K .......... .......... .......... .......... .......... 78%  125M 0s\n",
      " 33100K .......... .......... .......... .......... .......... 78% 62.3M 0s\n",
      " 33150K .......... .......... .......... .......... .......... 79%  148M 0s\n",
      " 33200K .......... .......... .......... .......... .......... 79% 66.2M 0s\n",
      " 33250K .......... .......... .......... .......... .......... 79% 99.8M 0s\n",
      " 33300K .......... .......... .......... .......... .......... 79% 62.5M 0s\n",
      " 33350K .......... .......... .......... .......... .......... 79%  128M 0s\n",
      " 33400K .......... .......... .......... .......... .......... 79% 67.7M 0s\n",
      " 33450K .......... .......... .......... .......... .......... 79%  146M 0s\n",
      " 33500K .......... .......... .......... .......... .......... 79%  131M 0s\n",
      " 33550K .......... .......... .......... .......... .......... 79% 65.5M 0s\n",
      " 33600K .......... .......... .......... .......... .......... 80%  148M 0s\n",
      " 33650K .......... .......... .......... .......... .......... 80% 66.5M 0s\n",
      " 33700K .......... .......... .......... .......... .......... 80%  125M 0s\n",
      " 33750K .......... .......... .......... .......... .......... 80% 63.7M 0s\n",
      " 33800K .......... .......... .......... .......... .......... 80%  146M 0s\n",
      " 33850K .......... .......... .......... .......... .......... 80% 58.8M 0s\n",
      " 33900K .......... .......... .......... .......... .......... 80%  150M 0s\n",
      " 33950K .......... .......... .......... .......... .......... 80% 59.5M 0s\n",
      " 34000K .......... .......... .......... .......... .......... 81% 11.6M 0s\n",
      " 34050K .......... .......... .......... .......... .......... 81%  139M 0s\n",
      " 34100K .......... .......... .......... .......... .......... 81% 62.1M 0s\n",
      " 34150K .......... .......... .......... .......... .......... 81%  136M 0s\n",
      " 34200K .......... .......... .......... .......... .......... 81% 60.1M 0s\n",
      " 34250K .......... .......... .......... .......... .......... 81%  151M 0s\n",
      " 34300K .......... .......... .......... .......... .......... 81%  147M 0s\n",
      " 34350K .......... .......... .......... .......... .......... 81% 64.0M 0s\n",
      " 34400K .......... .......... .......... .......... .......... 82%  128M 0s\n",
      " 34450K .......... .......... .......... .......... .......... 82%  107M 0s\n",
      " 34500K .......... .......... .......... .......... .......... 82%  100M 0s\n",
      " 34550K .......... .......... .......... .......... .......... 82%  125M 0s\n",
      " 34600K .......... .......... .......... .......... .......... 82%  129M 0s\n",
      " 34650K .......... .......... .......... .......... .......... 82%  128M 0s\n",
      " 34700K .......... .......... .......... .......... .......... 82%  148M 0s\n",
      " 34750K .......... .......... .......... .......... .......... 82% 16.5M 0s\n",
      " 34800K .......... .......... .......... .......... .......... 82% 59.2M 0s\n",
      " 34850K .......... .......... .......... .......... .......... 83%  149M 0s\n",
      " 34900K .......... .......... .......... .......... .......... 83%  140M 0s\n",
      " 34950K .......... .......... .......... .......... .......... 83% 58.3M 0s\n",
      " 35000K .......... .......... .......... .......... .......... 83%  138M 0s\n",
      " 35050K .......... .......... .......... .......... .......... 83%  103M 0s\n",
      " 35100K .......... .......... .......... .......... .......... 83%  118M 0s\n",
      " 35150K .......... .......... .......... .......... .......... 83% 58.5M 0s\n",
      " 35200K .......... .......... .......... .......... .......... 83%  136M 0s\n",
      " 35250K .......... .......... .......... .......... .......... 84% 59.3M 0s\n",
      " 35300K .......... .......... .......... .......... .......... 84% 2.83M 0s\n",
      " 35350K .......... .......... .......... .......... .......... 84% 20.7M 0s\n",
      " 35400K .......... .......... .......... .......... .......... 84%  117M 0s\n",
      " 35450K .......... .......... .......... .......... .......... 84%  151M 0s\n",
      " 35500K .......... .......... .......... .......... .......... 84%  125M 0s\n",
      " 35550K .......... .......... .......... .......... .......... 84% 26.6M 0s\n",
      " 35600K .......... .......... .......... .......... .......... 84%  151M 0s\n",
      " 35650K .......... .......... .......... .......... .......... 84% 21.6M 0s\n",
      " 35700K .......... .......... .......... .......... .......... 85%  125M 0s\n",
      " 35750K .......... .......... .......... .......... .......... 85%  110M 0s\n",
      " 35800K .......... .......... .......... .......... .......... 85%  148M 0s\n",
      " 35850K .......... .......... .......... .......... .......... 85% 3.75M 0s\n",
      " 35900K .......... .......... .......... .......... .......... 85%  139M 0s\n",
      " 35950K .......... .......... .......... .......... .......... 85%  137M 0s\n",
      " 36000K .......... .......... .......... .......... .......... 85% 24.0M 0s\n",
      " 36050K .......... .......... .......... .......... .......... 85% 6.10M 0s\n",
      " 36100K .......... .......... .......... .......... .......... 86%  128M 0s\n",
      " 36150K .......... .......... .......... .......... .......... 86%  151M 0s\n",
      " 36200K .......... .......... .......... .......... .......... 86% 13.3M 0s\n",
      " 36250K .......... .......... .......... .......... .......... 86% 63.8M 0s\n",
      " 36300K .......... .......... .......... .......... .......... 86%  211M 0s\n",
      " 36350K .......... .......... .......... .......... .......... 86%  234M 0s\n",
      " 36400K .......... .......... .......... .......... .......... 86%  188M 0s\n",
      " 36450K .......... .......... .......... .......... .......... 86%  219M 0s\n",
      " 36500K .......... .......... .......... .......... .......... 87%  210M 0s\n",
      " 36550K .......... .......... .......... .......... .......... 87%  221M 0s\n",
      " 36600K .......... .......... .......... .......... .......... 87%  193M 0s\n",
      " 36650K .......... .......... .......... .......... .......... 87%  250M 0s\n",
      " 36700K .......... .......... .......... .......... .......... 87%  204M 0s\n",
      " 36750K .......... .......... .......... .......... .......... 87%  228M 0s\n",
      " 36800K .......... .......... .......... .......... .......... 87%  158M 0s\n",
      " 36850K .......... .......... .......... .......... .......... 87%  147M 0s\n",
      " 36900K .......... .......... .......... .......... .......... 87%  201M 0s\n",
      " 36950K .......... .......... .......... .......... .......... 88%  222M 0s\n",
      " 37000K .......... .......... .......... .......... .......... 88%  206M 0s\n",
      " 37050K .......... .......... .......... .......... .......... 88%  164M 0s\n",
      " 37100K .......... .......... .......... .......... .......... 88%  216M 0s\n",
      " 37150K .......... .......... .......... .......... .......... 88%  171M 0s\n",
      " 37200K .......... .......... .......... .......... .......... 88%  131M 0s\n",
      " 37250K .......... .......... .......... .......... .......... 88%  188M 0s\n",
      " 37300K .......... .......... .......... .......... .......... 88%  152M 0s\n",
      " 37350K .......... .......... .......... .......... .......... 89%  197M 0s\n",
      " 37400K .......... .......... .......... .......... .......... 89%  223M 0s\n",
      " 37450K .......... .......... .......... .......... .......... 89%  194M 0s\n",
      " 37500K .......... .......... .......... .......... .......... 89%  248M 0s\n",
      " 37550K .......... .......... .......... .......... .......... 89%  197M 0s\n",
      " 37600K .......... .......... .......... .......... .......... 89%  100M 0s\n",
      " 37650K .......... .......... .......... .......... .......... 89%  131M 0s\n",
      " 37700K .......... .......... .......... .......... .......... 89% 85.2M 0s\n",
      " 37750K .......... .......... .......... .......... .......... 89% 78.0M 0s\n",
      " 37800K .......... .......... .......... .......... .......... 90% 49.9M 0s\n",
      " 37850K .......... .......... .......... .......... .......... 90%  113M 0s\n",
      " 37900K .......... .......... .......... .......... .......... 90% 86.4M 0s\n",
      " 37950K .......... .......... .......... .......... .......... 90% 83.9M 0s\n",
      " 38000K .......... .......... .......... .......... .......... 90% 92.6M 0s\n",
      " 38050K .......... .......... .......... .......... .......... 90% 76.2M 0s\n",
      " 38100K .......... .......... .......... .......... .......... 90% 36.5M 0s\n",
      " 38150K .......... .......... .......... .......... .......... 90% 28.9M 0s\n",
      " 38200K .......... .......... .......... .......... .......... 91% 85.0M 0s\n",
      " 38250K .......... .......... .......... .......... .......... 91% 66.7M 0s\n",
      " 38300K .......... .......... .......... .......... .......... 91% 69.7M 0s\n",
      " 38350K .......... .......... .......... .......... .......... 91%  131M 0s\n",
      " 38400K .......... .......... .......... .......... .......... 91%  172M 0s\n",
      " 38450K .......... .......... .......... .......... .......... 91% 14.6M 0s\n",
      " 38500K .......... .......... .......... .......... .......... 91% 43.9M 0s\n",
      " 38550K .......... .......... .......... .......... .......... 91% 52.9M 0s\n",
      " 38600K .......... .......... .......... .......... .......... 92% 64.5M 0s\n",
      " 38650K .......... .......... .......... .......... .......... 92% 75.1M 0s\n",
      " 38700K .......... .......... .......... .......... .......... 92% 73.8M 0s\n",
      " 38750K .......... .......... .......... .......... .......... 92% 15.2M 0s\n",
      " 38800K .......... .......... .......... .......... .......... 92%  119M 0s\n",
      " 38850K .......... .......... .......... .......... .......... 92% 22.5M 0s\n",
      " 38900K .......... .......... .......... .......... .......... 92%  155M 0s\n",
      " 38950K .......... .......... .......... .......... .......... 92%  160M 0s\n",
      " 39000K .......... .......... .......... .......... .......... 92%  249M 0s\n",
      " 39050K .......... .......... .......... .......... .......... 93%  207M 0s\n",
      " 39100K .......... .......... .......... .......... .......... 93%  258M 0s\n",
      " 39150K .......... .......... .......... .......... .......... 93%  196M 0s\n",
      " 39200K .......... .......... .......... .......... .......... 93%  221M 0s\n",
      " 39250K .......... .......... .......... .......... .......... 93%  235M 0s\n",
      " 39300K .......... .......... .......... .......... .......... 93%  211M 0s\n",
      " 39350K .......... .......... .......... .......... .......... 93%  193M 0s\n",
      " 39400K .......... .......... .......... .......... .......... 93%  169M 0s\n",
      " 39450K .......... .......... .......... .......... .......... 94%  135M 0s\n",
      " 39500K .......... .......... .......... .......... .......... 94% 13.5M 0s\n",
      " 39550K .......... .......... .......... .......... .......... 94% 35.1M 0s\n",
      " 39600K .......... .......... .......... .......... .......... 94%  129M 0s\n",
      " 39650K .......... .......... .......... .......... .......... 94%  141M 0s\n",
      " 39700K .......... .......... .......... .......... .......... 94% 9.13M 0s\n",
      " 39750K .......... .......... .......... .......... .......... 94%  147M 0s\n",
      " 39800K .......... .......... .......... .......... .......... 94%  163M 0s\n",
      " 39850K .......... .......... .......... .......... .......... 94%  166M 0s\n",
      " 39900K .......... .......... .......... .......... .......... 95% 9.60M 0s\n",
      " 39950K .......... .......... .......... .......... .......... 95%  242M 0s\n",
      " 40000K .......... .......... .......... .......... .......... 95%  244M 0s\n",
      " 40050K .......... .......... .......... .......... .......... 95%  213M 0s\n",
      " 40100K .......... .......... .......... .......... .......... 95%  160M 0s\n",
      " 40150K .......... .......... .......... .......... .......... 95%  242M 0s\n",
      " 40200K .......... .......... .......... .......... .......... 95%  256M 0s\n",
      " 40250K .......... .......... .......... .......... .......... 95%  246M 0s\n",
      " 40300K .......... .......... .......... .......... .......... 96%  161M 0s\n",
      " 40350K .......... .......... .......... .......... .......... 96%  193M 0s\n",
      " 40400K .......... .......... .......... .......... .......... 96%  251M 0s\n",
      " 40450K .......... .......... .......... .......... .......... 96%  251M 0s\n",
      " 40500K .......... .......... .......... .......... .......... 96%  215M 0s\n",
      " 40550K .......... .......... .......... .......... .......... 96%  194M 0s\n",
      " 40600K .......... .......... .......... .......... .......... 96%  173M 0s\n",
      " 40650K .......... .......... .......... .......... .......... 96%  234M 0s\n",
      " 40700K .......... .......... .......... .......... .......... 97%  226M 0s\n",
      " 40750K .......... .......... .......... .......... .......... 97%  258M 0s\n",
      " 40800K .......... .......... .......... .......... .......... 97%  191M 0s\n",
      " 40850K .......... .......... .......... .......... .......... 97%  183M 0s\n",
      " 40900K .......... .......... .......... .......... .......... 97%  250M 0s\n",
      " 40950K .......... .......... .......... .......... .......... 97%  257M 0s\n",
      " 41000K .......... .......... .......... .......... .......... 97%  203M 0s\n",
      " 41050K .......... .......... .......... .......... .......... 97%  193M 0s\n",
      " 41100K .......... .......... .......... .......... .......... 97%  193M 0s\n",
      " 41150K .......... .......... .......... .......... .......... 98%  248M 0s\n",
      " 41200K .......... .......... .......... .......... .......... 98%  257M 0s\n",
      " 41250K .......... .......... .......... .......... .......... 98%  203M 0s\n",
      " 41300K .......... .......... .......... .......... .......... 98%  173M 0s\n",
      " 41350K .......... .......... .......... .......... .......... 98%  204M 0s\n",
      " 41400K .......... .......... .......... .......... .......... 98%  250M 0s\n",
      " 41450K .......... .......... .......... .......... .......... 98%  252M 0s\n",
      " 41500K .......... .......... .......... .......... .......... 98% 22.0M 0s\n",
      " 41550K .......... .......... .......... .......... .......... 99%  181M 0s\n",
      " 41600K .......... .......... .......... .......... .......... 99%  162M 0s\n",
      " 41650K .......... .......... .......... .......... .......... 99%  180M 0s\n",
      " 41700K .......... .......... .......... .......... .......... 99%  254M 0s\n",
      " 41750K .......... .......... .......... .......... .......... 99%  207M 0s\n",
      " 41800K .......... .......... .......... .......... .......... 99%  194M 0s\n",
      " 41850K .......... .......... .......... .......... .......... 99%  182M 0s\n",
      " 41900K .......... .......... .......... .......... .......... 99%  140M 0s\n",
      " 41950K .......... .......... .......... .......... .......... 99% 70.8M 0s\n",
      " 42000K ....                                                  100% 84.6M=0.7s\n",
      "\n",
      "2023-11-20 15:25:16 (59.7 MB/s) - ‘201508_trip_data.csv’ saved [43012650/43012650]\n",
      "\n"
     ]
    }
   ],
   "source": [
    "%sh wget https://raw.githubusercontent.com/udacity/data-analyst/master/projects/bike_sharing/201508_trip_data.csv"
   ]
  },
  {
   "cell_type": "code",
   "execution_count": null,
   "metadata": {
    "application/vnd.databricks.v1+cell": {
     "cellMetadata": {
      "byteLimit": 2048000,
      "rowLimit": 10000
     },
     "inputWidgets": {},
     "nuid": "45cfbe56-4296-4dae-831d-aba7ea9d10d5",
     "showTitle": false,
     "title": ""
    }
   },
   "outputs": [
    {
     "name": "stdout",
     "output_type": "stream",
     "text": [
      "--2023-11-20 15:25:17--  https://raw.githubusercontent.com/udacity/data-analyst/master/projects/bike_sharing/201508_station_data.csv\n",
      "Resolving raw.githubusercontent.com (raw.githubusercontent.com)... 185.199.111.133, 185.199.108.133, 185.199.109.133, ...\n",
      "Connecting to raw.githubusercontent.com (raw.githubusercontent.com)|185.199.111.133|:443... connected.\n",
      "HTTP request sent, awaiting response... 200 OK\n",
      "Length: 5272 (5.1K) [text/plain]\n",
      "Saving to: ‘201508_station_data.csv’\n",
      "\n",
      "     0K .....                                                 100% 29.7M=0s\n",
      "\n",
      "2023-11-20 15:25:17 (29.7 MB/s) - ‘201508_station_data.csv’ saved [5272/5272]\n",
      "\n"
     ]
    }
   ],
   "source": [
    "%sh wget https://raw.githubusercontent.com/udacity/data-analyst/master/projects/bike_sharing/201508_station_data.csv"
   ]
  },
  {
   "cell_type": "code",
   "execution_count": null,
   "metadata": {
    "application/vnd.databricks.v1+cell": {
     "cellMetadata": {
      "byteLimit": 2048000,
      "rowLimit": 10000
     },
     "inputWidgets": {},
     "nuid": "294a81ec-4de4-43f4-8eb7-87ae87a213b9",
     "showTitle": false,
     "title": ""
    }
   },
   "outputs": [
    {
     "name": "stdout",
     "output_type": "stream",
     "text": [
      "root\n",
      " |-- Trip ID: integer (nullable = true)\n",
      " |-- Duration: integer (nullable = true)\n",
      " |-- Start Date: string (nullable = true)\n",
      " |-- Start Station: string (nullable = true)\n",
      " |-- Start Terminal: integer (nullable = true)\n",
      " |-- End Date: string (nullable = true)\n",
      " |-- End Station: string (nullable = true)\n",
      " |-- End Terminal: integer (nullable = true)\n",
      " |-- Bike #: integer (nullable = true)\n",
      " |-- Subscriber Type: string (nullable = true)\n",
      " |-- Zip Code: string (nullable = true)\n",
      "\n"
     ]
    }
   ],
   "source": [
    "tripDF = spark.read.csv('file:/databricks/driver/201508_trip_data.csv',header=True, inferSchema = True)\n",
    "tripDF.printSchema()"
   ]
  },
  {
   "cell_type": "code",
   "execution_count": null,
   "metadata": {
    "application/vnd.databricks.v1+cell": {
     "cellMetadata": {
      "byteLimit": 2048000,
      "rowLimit": 10000
     },
     "inputWidgets": {},
     "nuid": "12e0f690-aa44-4bc7-b032-97fdc271a292",
     "showTitle": false,
     "title": ""
    }
   },
   "outputs": [
    {
     "name": "stdout",
     "output_type": "stream",
     "text": [
      "root\n",
      " |-- station_id: integer (nullable = true)\n",
      " |-- name: string (nullable = true)\n",
      " |-- lat: double (nullable = true)\n",
      " |-- long: double (nullable = true)\n",
      " |-- dockcount: integer (nullable = true)\n",
      " |-- landmark: string (nullable = true)\n",
      " |-- installation: string (nullable = true)\n",
      "\n"
     ]
    }
   ],
   "source": [
    "stationDF = spark.read.csv('file:/databricks/driver/201508_station_data.csv',header=True, inferSchema = True)\n",
    "stationDF.printSchema()"
   ]
  },
  {
   "cell_type": "code",
   "execution_count": null,
   "metadata": {
    "application/vnd.databricks.v1+cell": {
     "cellMetadata": {
      "byteLimit": 2048000,
      "rowLimit": 10000
     },
     "inputWidgets": {},
     "nuid": "48c8dbb5-875a-414b-80fa-700aff5c9e57",
     "showTitle": false,
     "title": ""
    }
   },
   "outputs": [],
   "source": [
    "stationVertices = stationDF.withColumnRenamed(\"name\", \"id\").distinct()\n",
    "tripEdges = tripDF.withColumnRenamed(\"Start Station\", \"src\").withColumnRenamed(\"End Station\", \"dst\")"
   ]
  },
  {
   "cell_type": "code",
   "execution_count": null,
   "metadata": {
    "application/vnd.databricks.v1+cell": {
     "cellMetadata": {
      "byteLimit": 2048000,
      "rowLimit": 10000
     },
     "inputWidgets": {},
     "nuid": "43829314-2df1-4843-85ee-e4160a1cb052",
     "showTitle": false,
     "title": ""
    }
   },
   "outputs": [
    {
     "name": "stdout",
     "output_type": "stream",
     "text": [
      "+-------+--------+---------------+---------------------------------------------+--------------+---------------+---------------------------------------------+------------+------+---------------+--------+\n",
      "|Trip ID|Duration|Start Date     |src                                          |Start Terminal|End Date       |dst                                          |End Terminal|Bike #|Subscriber Type|Zip Code|\n",
      "+-------+--------+---------------+---------------------------------------------+--------------+---------------+---------------------------------------------+------------+------+---------------+--------+\n",
      "|913460 |765     |8/31/2015 23:26|Harry Bridges Plaza (Ferry Building)         |50            |8/31/2015 23:39|San Francisco Caltrain (Townsend at 4th)     |70          |288   |Subscriber     |2139    |\n",
      "|913459 |1036    |8/31/2015 23:11|San Antonio Shopping Center                  |31            |8/31/2015 23:28|Mountain View City Hall                      |27          |35    |Subscriber     |95032   |\n",
      "|913455 |307     |8/31/2015 23:13|Post at Kearny                               |47            |8/31/2015 23:18|2nd at South Park                            |64          |468   |Subscriber     |94107   |\n",
      "|913454 |409     |8/31/2015 23:10|San Jose City Hall                           |10            |8/31/2015 23:17|San Salvador at 1st                          |8           |68    |Subscriber     |95113   |\n",
      "|913453 |789     |8/31/2015 23:09|Embarcadero at Folsom                        |51            |8/31/2015 23:22|Embarcadero at Sansome                       |60          |487   |Customer       |9069    |\n",
      "|913452 |293     |8/31/2015 23:07|Yerba Buena Center of the Arts (3rd @ Howard)|68            |8/31/2015 23:12|San Francisco Caltrain (Townsend at 4th)     |70          |538   |Subscriber     |94118   |\n",
      "|913451 |896     |8/31/2015 23:07|Embarcadero at Folsom                        |51            |8/31/2015 23:22|Embarcadero at Sansome                       |60          |363   |Customer       |92562   |\n",
      "|913450 |255     |8/31/2015 22:16|Embarcadero at Sansome                       |60            |8/31/2015 22:20|Steuart at Market                            |74          |470   |Subscriber     |94111   |\n",
      "|913449 |126     |8/31/2015 22:12|Beale at Market                              |56            |8/31/2015 22:15|Temporary Transbay Terminal (Howard at Beale)|55          |439   |Subscriber     |94130   |\n",
      "|913448 |932     |8/31/2015 21:57|Post at Kearny                               |47            |8/31/2015 22:12|South Van Ness at Market                     |66          |472   |Subscriber     |94702   |\n",
      "+-------+--------+---------------+---------------------------------------------+--------------+---------------+---------------------------------------------+------------+------+---------------+--------+\n",
      "only showing top 10 rows\n",
      "\n"
     ]
    }
   ],
   "source": [
    "tripEdges.show(10, False)"
   ]
  },
  {
   "cell_type": "code",
   "execution_count": null,
   "metadata": {
    "application/vnd.databricks.v1+cell": {
     "cellMetadata": {
      "byteLimit": 2048000,
      "rowLimit": 10000
     },
     "inputWidgets": {},
     "nuid": "d022fd89-9664-456f-b3fe-85aa56f7b732",
     "showTitle": false,
     "title": ""
    }
   },
   "outputs": [
    {
     "name": "stdout",
     "output_type": "stream",
     "text": [
      "+----------+---------------------------------+---------+-----------+---------+--------+------------+\n",
      "|station_id|id                               |lat      |long       |dockcount|landmark|installation|\n",
      "+----------+---------------------------------+---------+-----------+---------+--------+------------+\n",
      "|9         |Japantown                        |37.348742|-121.894715|15       |San Jose|8/5/2013    |\n",
      "|7         |Paseo de San Antonio             |37.333798|-121.886943|15       |San Jose|8/7/2013    |\n",
      "|12        |SJSU 4th at San Carlos           |37.332808|-121.883891|19       |San Jose|8/7/2013    |\n",
      "|5         |Adobe on Almaden                 |37.331415|-121.8932  |19       |San Jose|8/5/2013    |\n",
      "|6         |San Pedro Square                 |37.336721|-121.894074|15       |San Jose|8/7/2013    |\n",
      "|8         |San Salvador at 1st              |37.330165|-121.885831|15       |San Jose|8/5/2013    |\n",
      "|10        |San Jose City Hall               |37.337391|-121.886995|15       |San Jose|8/6/2013    |\n",
      "|4         |Santa Clara at Almaden           |37.333988|-121.894902|11       |San Jose|8/6/2013    |\n",
      "|3         |San Jose Civic Center            |37.330698|-121.888979|15       |San Jose|8/5/2013    |\n",
      "|2         |San Jose Diridon Caltrain Station|37.329732|-121.901782|27       |San Jose|8/6/2013    |\n",
      "+----------+---------------------------------+---------+-----------+---------+--------+------------+\n",
      "only showing top 10 rows\n",
      "\n"
     ]
    }
   ],
   "source": [
    "stationVertices.show(10, False)"
   ]
  },
  {
   "cell_type": "markdown",
   "metadata": {
    "application/vnd.databricks.v1+cell": {
     "cellMetadata": {
      "byteLimit": 2048000,
      "rowLimit": 10000
     },
     "inputWidgets": {},
     "nuid": "ff2f80f7-91bd-4943-b8e9-2f405866a4f7",
     "showTitle": false,
     "title": ""
    }
   },
   "source": [
    "Alright you now have the data formatted as you need to perform analysis. Take a look to make sure you understand what the data is. Basically you have bike stations (verticies) and trips between the stations (edges). \n",
    "\n",
    "Hint: in the cell above I used 'False' in the `show()`, this will be useful for you to prevent truncating station names. The highest ranked station should be San Jose Diridon Caltrain Station.\n",
    "\n",
    "#####Create a graphframe and perform a pagerank to find the most import stations (make sure to set the maxIterations to 5)."
   ]
  },
  {
   "cell_type": "code",
   "execution_count": null,
   "metadata": {
    "application/vnd.databricks.v1+cell": {
     "cellMetadata": {
      "byteLimit": 2048000,
      "rowLimit": 10000
     },
     "inputWidgets": {},
     "nuid": "550f6be8-6d9f-4c89-ab2d-67395d47508a",
     "showTitle": false,
     "title": ""
    }
   },
   "outputs": [],
   "source": [
    "#take the vertices and edges DataFrames and returns a GraphFrames object.\n",
    "gbs = GraphFrame(stationVertices, tripEdges)"
   ]
  },
  {
   "cell_type": "code",
   "execution_count": null,
   "metadata": {
    "application/vnd.databricks.v1+cell": {
     "cellMetadata": {
      "byteLimit": 2048000,
      "rowLimit": 10000
     },
     "inputWidgets": {},
     "nuid": "d8d9212e-9fa1-4465-ab9e-ef1610de5106",
     "showTitle": false,
     "title": ""
    }
   },
   "outputs": [
    {
     "name": "stdout",
     "output_type": "stream",
     "text": [
      "+-------+--------+---------------+---------------------------------------------+--------------+---------------+---------------------------------------------+------------+------+---------------+--------+\n",
      "|Trip ID|Duration|Start Date     |src                                          |Start Terminal|End Date       |dst                                          |End Terminal|Bike #|Subscriber Type|Zip Code|\n",
      "+-------+--------+---------------+---------------------------------------------+--------------+---------------+---------------------------------------------+------------+------+---------------+--------+\n",
      "|913460 |765     |8/31/2015 23:26|Harry Bridges Plaza (Ferry Building)         |50            |8/31/2015 23:39|San Francisco Caltrain (Townsend at 4th)     |70          |288   |Subscriber     |2139    |\n",
      "|913459 |1036    |8/31/2015 23:11|San Antonio Shopping Center                  |31            |8/31/2015 23:28|Mountain View City Hall                      |27          |35    |Subscriber     |95032   |\n",
      "|913455 |307     |8/31/2015 23:13|Post at Kearny                               |47            |8/31/2015 23:18|2nd at South Park                            |64          |468   |Subscriber     |94107   |\n",
      "|913454 |409     |8/31/2015 23:10|San Jose City Hall                           |10            |8/31/2015 23:17|San Salvador at 1st                          |8           |68    |Subscriber     |95113   |\n",
      "|913453 |789     |8/31/2015 23:09|Embarcadero at Folsom                        |51            |8/31/2015 23:22|Embarcadero at Sansome                       |60          |487   |Customer       |9069    |\n",
      "|913452 |293     |8/31/2015 23:07|Yerba Buena Center of the Arts (3rd @ Howard)|68            |8/31/2015 23:12|San Francisco Caltrain (Townsend at 4th)     |70          |538   |Subscriber     |94118   |\n",
      "|913451 |896     |8/31/2015 23:07|Embarcadero at Folsom                        |51            |8/31/2015 23:22|Embarcadero at Sansome                       |60          |363   |Customer       |92562   |\n",
      "|913450 |255     |8/31/2015 22:16|Embarcadero at Sansome                       |60            |8/31/2015 22:20|Steuart at Market                            |74          |470   |Subscriber     |94111   |\n",
      "|913449 |126     |8/31/2015 22:12|Beale at Market                              |56            |8/31/2015 22:15|Temporary Transbay Terminal (Howard at Beale)|55          |439   |Subscriber     |94130   |\n",
      "|913448 |932     |8/31/2015 21:57|Post at Kearny                               |47            |8/31/2015 22:12|South Van Ness at Market                     |66          |472   |Subscriber     |94702   |\n",
      "+-------+--------+---------------+---------------------------------------------+--------------+---------------+---------------------------------------------+------------+------+---------------+--------+\n",
      "only showing top 10 rows\n",
      "\n"
     ]
    }
   ],
   "source": [
    "#show the edges\n",
    "gbs.edges.show(10, False)"
   ]
  },
  {
   "cell_type": "code",
   "execution_count": null,
   "metadata": {
    "application/vnd.databricks.v1+cell": {
     "cellMetadata": {
      "byteLimit": 2048000,
      "rowLimit": 10000
     },
     "inputWidgets": {},
     "nuid": "b9584cdf-03e0-4b4d-95c4-8f4c2445415a",
     "showTitle": false,
     "title": ""
    }
   },
   "outputs": [],
   "source": [
    "#Run the pageRank()\n",
    "pageRanks = gbs.pageRank(resetProbability=0.15, maxIter = 5)"
   ]
  },
  {
   "cell_type": "code",
   "execution_count": null,
   "metadata": {
    "application/vnd.databricks.v1+cell": {
     "cellMetadata": {
      "byteLimit": 2048000,
      "rowLimit": 10000
     },
     "inputWidgets": {},
     "nuid": "b6da7cf0-b5a5-47a4-94e3-de55c7b58794",
     "showTitle": false,
     "title": ""
    }
   },
   "outputs": [
    {
     "name": "stdout",
     "output_type": "stream",
     "text": [
      "+----------+----------------------------------------+---------+-----------+---------+-------------+------------+------------------+\n",
      "|station_id|id                                      |lat      |long       |dockcount|landmark     |installation|pagerank          |\n",
      "+----------+----------------------------------------+---------+-----------+---------+-------------+------------+------------------+\n",
      "|2         |San Jose Diridon Caltrain Station       |37.329732|-121.901782|27       |San Jose     |8/6/2013    |4.084086216116642 |\n",
      "|70        |San Francisco Caltrain (Townsend at 4th)|37.776617|-122.39526 |19       |San Francisco|8/23/2013   |3.3515435057991225|\n",
      "|28        |Mountain View Caltrain Station          |37.394358|-122.076713|23       |Mountain View|8/15/2013   |2.553118368819579 |\n",
      "|22        |Redwood City Caltrain Station           |37.486078|-122.232089|25       |Redwood City |8/15/2013   |2.4734490963466933|\n",
      "|69        |San Francisco Caltrain 2 (330 Townsend) |37.7766  |-122.39547 |23       |San Francisco|8/23/2013   |2.2319817069585564|\n",
      "|50        |Harry Bridges Plaza (Ferry Building)    |37.795392|-122.394203|23       |San Francisco|8/20/2013   |1.8229319489459825|\n",
      "|61        |2nd at Townsend                         |37.780526|-122.390288|27       |San Francisco|8/22/2013   |1.5815429802466667|\n",
      "|65        |Townsend at 7th                         |37.771058|-122.402717|15       |San Francisco|8/22/2013   |1.567085408861174 |\n",
      "|4         |Santa Clara at Almaden                  |37.333988|-121.894902|11       |San Jose     |8/6/2013    |1.5573558226793587|\n",
      "|60        |Embarcadero at Sansome                  |37.80477 |-122.403234|15       |San Francisco|8/21/2013   |1.5406293689617843|\n",
      "+----------+----------------------------------------+---------+-----------+---------+-------------+------------+------------------+\n",
      "only showing top 10 rows\n",
      "\n"
     ]
    }
   ],
   "source": [
    "#Show() the vertices, ranked\n",
    "pageRanks.vertices.orderBy(pageRanks.vertices.pagerank,ascending=False).show(10,False)"
   ]
  },
  {
   "cell_type": "markdown",
   "metadata": {
    "application/vnd.databricks.v1+cell": {
     "cellMetadata": {
      "byteLimit": 2048000,
      "rowLimit": 10000
     },
     "inputWidgets": {},
     "nuid": "6c7b0e1a-c9aa-4c85-8637-6ad16d18cf88",
     "showTitle": false,
     "title": ""
    }
   },
   "source": [
    "One question is: what are the most common trip paths? You can do this by performing a grouping operator and adding the edge counts together, think of how we used sparkSQL to implement SQL like queries last week. Remember the list of edges is just a dataframe so you can use SQL queries to find a result like this. In case you have forgotten this link has some information on groupBy:\n",
    "\n",
    "https://sparkbyexamples.com/spark/using-groupby-on-dataframe/\n",
    "\n",
    "The most common trip should be:\n",
    "\n",
    "San Francisco Caltrain 2 (330 Townsend)  ->    Townsend at 7th."
   ]
  },
  {
   "cell_type": "code",
   "execution_count": null,
   "metadata": {
    "application/vnd.databricks.v1+cell": {
     "cellMetadata": {
      "byteLimit": 2048000,
      "rowLimit": 10000
     },
     "inputWidgets": {},
     "nuid": "696c562b-32a5-449b-a7d5-f04f412da187",
     "showTitle": false,
     "title": ""
    }
   },
   "outputs": [
    {
     "name": "stdout",
     "output_type": "stream",
     "text": [
      "+---------------------------------------------+----------------------------------------+-----+\n",
      "|src                                          |dst                                     |count|\n",
      "+---------------------------------------------+----------------------------------------+-----+\n",
      "|San Francisco Caltrain 2 (330 Townsend)      |Townsend at 7th                         |3748 |\n",
      "|Harry Bridges Plaza (Ferry Building)         |Embarcadero at Sansome                  |3145 |\n",
      "|2nd at Townsend                              |Harry Bridges Plaza (Ferry Building)    |2973 |\n",
      "|Townsend at 7th                              |San Francisco Caltrain 2 (330 Townsend) |2734 |\n",
      "|Harry Bridges Plaza (Ferry Building)         |2nd at Townsend                         |2640 |\n",
      "|Embarcadero at Folsom                        |San Francisco Caltrain (Townsend at 4th)|2439 |\n",
      "|Steuart at Market                            |2nd at Townsend                         |2356 |\n",
      "|Embarcadero at Sansome                       |Steuart at Market                       |2330 |\n",
      "|Townsend at 7th                              |San Francisco Caltrain (Townsend at 4th)|2192 |\n",
      "|Temporary Transbay Terminal (Howard at Beale)|San Francisco Caltrain (Townsend at 4th)|2184 |\n",
      "+---------------------------------------------+----------------------------------------+-----+\n",
      "only showing top 10 rows\n",
      "\n"
     ]
    }
   ],
   "source": [
    "tripEdgesSum = tripEdges.groupBy(tripEdges.src, tripEdges.dst).count()\n",
    "tripEdgesSum.orderBy(\"count\",ascending=False).show(10, False)"
   ]
  },
  {
   "cell_type": "markdown",
   "metadata": {
    "application/vnd.databricks.v1+cell": {
     "cellMetadata": {
      "byteLimit": 2048000,
      "rowLimit": 10000
     },
     "inputWidgets": {},
     "nuid": "94570efb-dbc9-441c-aa5c-f5a38aeba766",
     "showTitle": false,
     "title": ""
    }
   },
   "source": [
    "Create a new graphframe with only unique edges (you can use the dataframe you created above) and check if all stations are connected."
   ]
  },
  {
   "cell_type": "code",
   "execution_count": null,
   "metadata": {
    "application/vnd.databricks.v1+cell": {
     "cellMetadata": {
      "byteLimit": 2048000,
      "rowLimit": 10000
     },
     "inputWidgets": {},
     "nuid": "71426f4a-2994-4208-b12e-7282c893d591",
     "showTitle": false,
     "title": ""
    }
   },
   "outputs": [],
   "source": [
    "#Create a gbsUnique graphframe\n",
    "gbsUnique = GraphFrame(stationVertices, tripEdgesSum)"
   ]
  },
  {
   "cell_type": "code",
   "execution_count": null,
   "metadata": {
    "application/vnd.databricks.v1+cell": {
     "cellMetadata": {
      "byteLimit": 2048000,
      "rowLimit": 10000
     },
     "inputWidgets": {},
     "nuid": "1eb0b0e9-9cab-42a9-b963-2a63066f2588",
     "showTitle": false,
     "title": ""
    }
   },
   "outputs": [],
   "source": [
    "#Computes the strongly connected component membership of each vertex and returns a graph with each vertex assigned a component ID.\n",
    "cc = gbsUnique.connectedComponents()\n"
   ]
  },
  {
   "cell_type": "code",
   "execution_count": null,
   "metadata": {
    "application/vnd.databricks.v1+cell": {
     "cellMetadata": {
      "byteLimit": 2048000,
      "rowLimit": 10000
     },
     "inputWidgets": {},
     "nuid": "8dbb95c9-167c-4210-9604-ca90f8827edb",
     "showTitle": false,
     "title": ""
    }
   },
   "outputs": [],
   "source": [
    "#show the graphframe with component\n",
    "cc.select(\"id\",\"component\").orderBy(\"component\").show()"
   ]
  },
  {
   "cell_type": "markdown",
   "metadata": {
    "application/vnd.databricks.v1+cell": {
     "cellMetadata": {
      "byteLimit": 2048000,
      "rowLimit": 10000
     },
     "inputWidgets": {},
     "nuid": "c22d6647-8e59-4e80-9cca-91bece3f3337",
     "showTitle": false,
     "title": ""
    }
   },
   "source": [
    "Remember that in this instance you’ve got a directed graph. That means that your trips are directional - from one location to another. Therefore you get access to a wealth of analysis that you can use. You can find the number of trips that go into a specific station and leave from a specific station.\n",
    "\n",
    "One interesting question you could ask is what is the station with the highest ratio of in degrees to out degrees. As in, what station acts as a pure trip sink. A station where trips end at but rarely start from. This station will end up with a lot of excess bikes that will need to be re-distributed."
   ]
  },
  {
   "cell_type": "code",
   "execution_count": null,
   "metadata": {
    "application/vnd.databricks.v1+cell": {
     "cellMetadata": {
      "byteLimit": 2048000,
      "rowLimit": 10000
     },
     "inputWidgets": {},
     "nuid": "67e77aaf-5f8b-4579-935d-bf82a26371a6",
     "showTitle": false,
     "title": ""
    }
   },
   "outputs": [],
   "source": [
    "from pyspark.sql.functions import col\n",
    "gbsOut = gbs.outDegrees\n",
    "gbsIn = gbs.inDegrees\n",
    "# Note you may find it easier to use q SQL query here if that is what you are used to\n",
    "gbsJoin = gbsIn.join(gbsOut, [\"id\"])\n",
    "gbsDeg = gbsJoin.withColumn(\"Ratio\", col(\"inDegree\") / col(\"outDegree\"))"
   ]
  },
  {
   "cell_type": "code",
   "execution_count": null,
   "metadata": {
    "application/vnd.databricks.v1+cell": {
     "cellMetadata": {
      "byteLimit": 2048000,
      "rowLimit": 10000
     },
     "inputWidgets": {},
     "nuid": "6f0a2dba-fe76-491c-9c4e-eeb564fb5ad9",
     "showTitle": false,
     "title": ""
    }
   },
   "outputs": [],
   "source": [
    "gbsJoin.printSchema()"
   ]
  },
  {
   "cell_type": "code",
   "execution_count": null,
   "metadata": {
    "application/vnd.databricks.v1+cell": {
     "cellMetadata": {
      "byteLimit": 2048000,
      "rowLimit": 10000
     },
     "inputWidgets": {},
     "nuid": "1d64ee7d-307a-4dec-b3e7-a4c8a0ababdd",
     "showTitle": false,
     "title": ""
    }
   },
   "outputs": [],
   "source": [
    "gbsDeg.orderBy(\"Ratio\",ascending=False).show(10)"
   ]
  },
  {
   "cell_type": "markdown",
   "metadata": {
    "application/vnd.databricks.v1+cell": {
     "cellMetadata": {
      "byteLimit": 2048000,
      "rowLimit": 10000
     },
     "inputWidgets": {},
     "nuid": "6fa2589f-236e-483e-8a77-c680bf092afa",
     "showTitle": false,
     "title": ""
    }
   },
   "source": [
    "Consider the station with the highest ratio of intrips to outtrips, find all stations connected by 1 or 2 trips to this station using motifs."
   ]
  },
  {
   "cell_type": "code",
   "execution_count": null,
   "metadata": {
    "application/vnd.databricks.v1+cell": {
     "cellMetadata": {
      "byteLimit": 2048000,
      "rowLimit": 10000
     },
     "inputWidgets": {},
     "nuid": "275f232b-b01a-4cdd-b608-1dd50245509c",
     "showTitle": false,
     "title": ""
    }
   },
   "outputs": [],
   "source": [
    "#search for pairs of vertices a,b connected by edges in both directions\n",
    "motifsBS = gbsUnique.find(\"(a)-[]->(b); (b)-[]->(c)\").dropDuplicates()"
   ]
  },
  {
   "cell_type": "code",
   "execution_count": null,
   "metadata": {
    "application/vnd.databricks.v1+cell": {
     "cellMetadata": {
      "byteLimit": 2048000,
      "rowLimit": 10000
     },
     "inputWidgets": {},
     "nuid": "c05c7924-3da3-43eb-952c-3a8f250dad39",
     "showTitle": false,
     "title": ""
    }
   },
   "outputs": [],
   "source": [
    "# Find stations connected by two trips\n",
    "filteredBS = motifsBS.filter(\"a.id = 'Redwood City Medical Center'\")\n",
    "filteredBS.show(10)"
   ]
  },
  {
   "cell_type": "code",
   "execution_count": null,
   "metadata": {
    "application/vnd.databricks.v1+cell": {
     "cellMetadata": {
      "byteLimit": 2048000,
      "rowLimit": 10000
     },
     "inputWidgets": {},
     "nuid": "ee2b963e-68d6-450d-b57f-83facf514180",
     "showTitle": false,
     "title": ""
    }
   },
   "outputs": [],
   "source": [
    "#store the intermediate computation so they can be reused in subsequent actions.\n",
    "filteredBS.persist()"
   ]
  },
  {
   "cell_type": "code",
   "execution_count": null,
   "metadata": {
    "application/vnd.databricks.v1+cell": {
     "cellMetadata": {
      "byteLimit": 2048000,
      "rowLimit": 10000
     },
     "inputWidgets": {},
     "nuid": "ab438231-5378-4bfd-85b8-9510e54f7935",
     "showTitle": false,
     "title": ""
    }
   },
   "outputs": [],
   "source": [
    "#count the number os connections\n",
    "filteredBS.count()"
   ]
  },
  {
   "cell_type": "code",
   "execution_count": null,
   "metadata": {
    "application/vnd.databricks.v1+cell": {
     "cellMetadata": {
      "byteLimit": 2048000,
      "rowLimit": 10000
     },
     "inputWidgets": {},
     "nuid": "aaa87f2c-3225-41dd-be10-24b3ff9f012b",
     "showTitle": false,
     "title": ""
    }
   },
   "outputs": [],
   "source": [
    "# Find stations connected by one trip\n",
    "motifsBS1 = gbsUnique.find(\"(a)-[]->(b)\").dropDuplicates()\n",
    "motifsBS1.filter(\"a.id = 'Redwood City Medical Center'\").count()"
   ]
  }
 ],
 "metadata": {
  "application/vnd.databricks.v1+notebook": {
   "dashboards": [],
   "language": "python",
   "notebookMetadata": {
    "mostRecentlyExecutedCommandWithImplicitDF": {
     "commandId": 4017235358007468,
     "dataframes": [
      "_sqldf"
     ]
    },
    "pythonIndentUnit": 4
   },
   "notebookName": "graphframes",
   "widgets": {}
  },
  "language_info": {
   "name": "python"
  }
 },
 "nbformat": 4,
 "nbformat_minor": 0
}
